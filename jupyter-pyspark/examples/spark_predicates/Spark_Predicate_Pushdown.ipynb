{
 "cells": [
  {
   "cell_type": "markdown",
   "id": "10fed33d-be68-4c1b-a045-30f853f1e6a5",
   "metadata": {},
   "source": [
    "# Spark Connectivity Test to Vast DB and Vast S3"
   ]
  },
  {
   "cell_type": "markdown",
   "id": "6a3485e1-107b-481a-9fb5-a0825e6a06b0",
   "metadata": {},
   "source": [
    "## Load Endpoint Environment Variables"
   ]
  },
  {
   "cell_type": "markdown",
   "id": "7655dbdd-e541-429e-b653-ace158721613",
   "metadata": {},
   "source": [
    "These environment variables have been set when your docker container was created."
   ]
  },
  {
   "cell_type": "code",
   "execution_count": 4,
   "id": "204f19da-1de4-4e54-95e5-be3409dfaea5",
   "metadata": {},
   "outputs": [
    {
     "name": "stdout",
     "output_type": "stream",
     "text": [
      "\n",
      "---\n",
      "DOCKER_HOST_OR_IP=10.143.11.241\n",
      "---\n",
      "VASTDB_ENDPOINT=http://172.200.204.2:80\n",
      "VASTDB_ACCESS_KEY=QXN5\n",
      "VASTDB_SECRET_KEY=****oLGr\n",
      "VASTDB_TWITTER_INGEST_BUCKET=csnow-db\n",
      "VASTDB_TWITTER_INGEST_SCHEMA=social_media\n",
      "VASTDB_TWITTER_INGEST_TABLE=tweets\n",
      "---\n",
      "S3_ENDPOINT=http://172.200.204.2:80\n",
      "S3_ACCESS_KEY=QXN5\n",
      "S3_SECRET_KEY=****oLGr\n",
      "S3A_ICEBERG_URI=s3a://csnow-bucket/iceberg/\n",
      "---\n",
      "\n"
     ]
    }
   ],
   "source": [
    "import os\n",
    "\n",
    "DOCKER_HOST_OR_IP = os.getenv(\"DOCKER_HOST_OR_IP\")\n",
    "\n",
    "VASTDB_ENDPOINT = os.getenv(\"VASTDB_ENDPOINT\")\n",
    "VASTDB_ACCESS_KEY = os.getenv(\"VASTDB_ACCESS_KEY\")\n",
    "VASTDB_SECRET_KEY = os.getenv(\"VASTDB_SECRET_KEY\")\n",
    "\n",
    "VASTDB_TWITTER_INGEST_BUCKET = os.getenv(\"VASTDB_TWITTER_INGEST_BUCKET\")\n",
    "VASTDB_TWITTER_INGEST_SCHEMA = os.getenv(\"VASTDB_TWITTER_INGEST_SCHEMA\")\n",
    "VASTDB_TWITTER_INGEST_TABLE = os.getenv(\"VASTDB_TWITTER_INGEST_TABLE\")\n",
    "\n",
    "S3_ENDPOINT = os.getenv(\"S3A_ENDPOINT\")\n",
    "S3_ACCESS_KEY = os.getenv(\"S3A_ACCESS_KEY\")\n",
    "S3_SECRET_KEY = os.getenv(\"S3A_SECRET_KEY\")\n",
    "\n",
    "S3A_ICEBERG_URI = os.getenv(\"S3A_ICEBERG_URI\")\n",
    "\n",
    "print(f\"\"\"\n",
    "---\n",
    "DOCKER_HOST_OR_IP={DOCKER_HOST_OR_IP}\n",
    "---\n",
    "VASTDB_ENDPOINT={VASTDB_ENDPOINT}\n",
    "VASTDB_ACCESS_KEY={VASTDB_ACCESS_KEY[-4:]}\n",
    "VASTDB_SECRET_KEY=****{VASTDB_SECRET_KEY[-4:]}\n",
    "VASTDB_TWITTER_INGEST_BUCKET={VASTDB_TWITTER_INGEST_BUCKET}\n",
    "VASTDB_TWITTER_INGEST_SCHEMA={VASTDB_TWITTER_INGEST_SCHEMA}\n",
    "VASTDB_TWITTER_INGEST_TABLE={VASTDB_TWITTER_INGEST_TABLE}\n",
    "---\n",
    "S3_ENDPOINT={S3_ENDPOINT}\n",
    "S3_ACCESS_KEY={S3_ACCESS_KEY[-4:]}\n",
    "S3_SECRET_KEY=****{VASTDB_SECRET_KEY[-4:]}\n",
    "S3A_ICEBERG_URI={S3A_ICEBERG_URI}\n",
    "---\n",
    "\"\"\")"
   ]
  },
  {
   "cell_type": "markdown",
   "id": "36cf87ca-92d2-46a1-abda-aa59b9a3f4ab",
   "metadata": {},
   "source": [
    "## Specify other Environment Variables"
   ]
  },
  {
   "cell_type": "code",
   "execution_count": 5,
   "id": "6596d81a-04e2-4007-9777-bf406c6ea190",
   "metadata": {},
   "outputs": [],
   "source": [
    "SPARK_APPLICATION_NAME='Spark Demo'"
   ]
  },
  {
   "cell_type": "markdown",
   "id": "4e356c0a-a13c-48e8-bf5f-0603a6953e31",
   "metadata": {},
   "source": [
    "## Start Spark Session"
   ]
  },
  {
   "cell_type": "code",
   "execution_count": 6,
   "id": "7385eee4-6b08-4be0-b6de-d95b64dac1d7",
   "metadata": {},
   "outputs": [
    {
     "name": "stdout",
     "output_type": "stream",
     "text": [
      "Spark successfully loaded\n"
     ]
    }
   ],
   "source": [
    "import socket\n",
    "import os\n",
    "import pyspark\n",
    "from pyspark.conf import SparkConf\n",
    "from pyspark.sql import SparkSession\n",
    "import pandas as pd\n",
    "pd.set_option(\"max_colwidth\", 150)\n",
    "\n",
    "conf = SparkConf()\n",
    "conf.setAll([\n",
    "    (\"spark.driver.host\", socket.gethostbyname(socket.gethostname())),\n",
    "    (\"spark.sql.execution.arrow.pyspark.enabled\", \"false\"),\n",
    "     # VASTDB\n",
    "    (\"spark.sql.catalog.ndb\", 'spark.sql.catalog.ndb.VastCatalog'),\n",
    "    (\"spark.ndb.endpoint\", VASTDB_ENDPOINT),\n",
    "    (\"spark.ndb.data_endpoints\", VASTDB_ENDPOINT),\n",
    "    (\"spark.ndb.access_key_id\", VASTDB_ACCESS_KEY),\n",
    "    (\"spark.ndb.secret_access_key\", VASTDB_SECRET_KEY),\n",
    "    (\"spark.driver.extraClassPath\", '/usr/local/spark/jars/spark3-vast-3.4.1-f93839bfa38a/*'),\n",
    "    (\"spark.executor.extraClassPath\", '/usr/local/spark/jars/spark3-vast-3.4.1-f93839bfa38a/*'),\n",
    "    (\"spark.sql.extensions\", 'ndb.NDBSparkSessionExtension'),\n",
    "    # ICEBERG\n",
    "    (\"spark.sql.catalog.iceberg\", \"org.apache.iceberg.spark.SparkCatalog\"),\n",
    "    (\"spark.sql.catalog.iceberg.type\", \"hive\"),\n",
    "    (\"spark.sql.catalog.iceberg.uri\", f\"thrift://{DOCKER_HOST_OR_IP}:9083\"),\n",
    "    # S3A\n",
    "    (\"fs.s3a.impl\", \"org.apache.hadoop.fs.s3a.S3AFileSystem\"),\n",
    "    (\"fs.s3a.endpoint\", S3_ENDPOINT),\n",
    "    (\"fs.s3a.access.key\", S3_ACCESS_KEY),\n",
    "    (\"fs.s3a.secret.key\", S3_SECRET_KEY),\n",
    "    (\"fs.s3a.endpoint.region\", \"vast\"),\n",
    "    (\"fs.s3a.connection.ssl.enabled\", \"false\"),\n",
    "    # Hive\n",
    "    (\"hive.metastore.uris\", f\"thrift://{DOCKER_HOST_OR_IP}:9083\"),\n",
    "])\n",
    "\n",
    "spark = SparkSession.builder \\\n",
    "    .master(\"local\") \\\n",
    "    .appName(SPARK_APPLICATION_NAME) \\\n",
    "    .config(conf=conf) \\\n",
    "    .enableHiveSupport() \\\n",
    "    .getOrCreate()\n",
    "\n",
    "sc = spark.sparkContext\n",
    "sc.setLogLevel(\"DEBUG\")\n",
    "\n",
    "import logging\n",
    "\n",
    "# Set logging for a specific class/package\n",
    "logging.getLogger(\"com.example.HelloWorldCatalog\").setLevel(logging.DEBUG)\n",
    "\n",
    "print(\"Spark successfully loaded\")"
   ]
  },
  {
   "cell_type": "code",
   "execution_count": 36,
   "id": "e2d558bb-2071-440a-b7b4-f86eda0c8e5f",
   "metadata": {},
   "outputs": [
    {
     "data": {
      "text/html": [
       "\n",
       "            <div>\n",
       "                <p><b>SparkSession - hive</b></p>\n",
       "                \n",
       "        <div>\n",
       "            <p><b>SparkContext</b></p>\n",
       "\n",
       "            <p><a href=\"None\">Spark UI</a></p>\n",
       "\n",
       "            <dl>\n",
       "              <dt>Version</dt>\n",
       "                <dd><code>v3.4.4</code></dd>\n",
       "              <dt>Master</dt>\n",
       "                <dd><code>local</code></dd>\n",
       "              <dt>AppName</dt>\n",
       "                <dd><code>Spark Demo</code></dd>\n",
       "            </dl>\n",
       "        </div>\n",
       "        \n",
       "            </div>\n",
       "        "
      ],
      "text/plain": [
       "<pyspark.sql.session.SparkSession at 0x7f42050af190>"
      ]
     },
     "execution_count": 36,
     "metadata": {},
     "output_type": "execute_result"
    }
   ],
   "source": [
    "spark"
   ]
  },
  {
   "cell_type": "code",
   "execution_count": 10,
   "id": "e0e7c46a-1baa-40c7-bf6a-52d2a2079dc5",
   "metadata": {},
   "outputs": [
    {
     "name": "stdout",
     "output_type": "stream",
     "text": [
      "+-------------+--------------------+--------------------+----------------------------------------------------+\n",
      "|created_at   |id                  |id_str              |text                                                |\n",
      "+-------------+--------------------+--------------------+----------------------------------------------------+\n",
      "|1732208274971|882386532907502832  |882386532907502832  |amazed by how funny WebDevelopment is!              |\n",
      "|1732208275072|-4676456788502095242|-4676456788502095242|amazed by how beautiful SoftwareDevelopment is!     |\n",
      "|1732208275174|-5688720706227868441|-5688720706227868441|amazed by how nice MachineLearningEngineering is!   |\n",
      "|1732208275376|2218971738474188819 |2218971738474188819 |amazed by how nice CloudEngineer is!                |\n",
      "|1732208275579|-887772990636552065 |-887772990636552065 |amazed by how awesome Cybersecurity is!             |\n",
      "|1732208275680|-6375634967166087454|-6375634967166087454|amazed by how nice IoT is!                          |\n",
      "|1732208275782|-4306838781455510666|-4306838781455510666|amazed by how fantastic Agile is!                   |\n",
      "|1732208275883|1566015419359177561 |1566015419359177561 |amazed by how powerful OpenSource is!               |\n",
      "|1732208275984|-4713266470570443614|-4713266470570443614|amazed by how cool IoT is!                          |\n",
      "|1732208275984|3410782005884638570 |3410782005884638570 |amazed by how lovely Cybersecurity is!              |\n",
      "|1732208276187|6912135965954459496 |6912135965954459496 |amazed by how smart Cloud is!                       |\n",
      "|1732208276187|8979078249161420831 |8979078249161420831 |amazed by how awesome MachineLearningEngineering is!|\n",
      "|1732208276289|-1625057271897518089|-1625057271897518089|amazed by how wonderful DataScience is!             |\n",
      "|1732208276390|197339983874018323  |197339983874018323  |amazed by how clever BigData is!                    |\n",
      "|1732208276491|6464296510234217987 |6464296510234217987 |amazed by how nice MachineLearning is!              |\n",
      "|1732208276491|-719550952145344693 |-719550952145344693 |amazed by how cool AI is!                           |\n",
      "|1732208276491|-947516592347957199 |-947516592347957199 |amazed by how incredible Security is!               |\n",
      "|1732208276694|-1257793836289040717|-1257793836289040717|amazed by how perfect SoftwareDevelopment is!       |\n",
      "|1732208276694|669573572461430871  |669573572461430871  |amazed by how nice DevOps is!                       |\n",
      "|1732208276795|1321841394358056153 |1321841394358056153 |amazed by how brilliant CloudEngineer is!           |\n",
      "+-------------+--------------------+--------------------+----------------------------------------------------+\n",
      "only showing top 20 rows\n",
      "\n"
     ]
    }
   ],
   "source": [
    "spark.sql(\"\"\"\n",
    "SELECT * FROM ndb.`csnow-db`.social_media.tweets\n",
    "WHERE text like 'a%'\n",
    "\"\"\").show(truncate=False)"
   ]
  },
  {
   "cell_type": "code",
   "execution_count": 13,
   "id": "1ff3b715-c77b-4979-8bbb-40d9a00fbf1f",
   "metadata": {},
   "outputs": [
    {
     "name": "stdout",
     "output_type": "stream",
     "text": [
      "== Parsed Logical Plan ==\n",
      "'Project [*]\n",
      "+- 'Filter ('created_at > 123456)\n",
      "   +- 'UnresolvedRelation [ndb, csnow-db, social_media, tweets], [], false\n",
      "\n",
      "== Analyzed Logical Plan ==\n",
      "created_at: bigint, id: bigint, id_str: string, text: string\n",
      "Project [created_at#126L, id#127L, id_str#128, text#129]\n",
      "+- Filter (created_at#126L > cast(123456 as bigint))\n",
      "   +- SubqueryAlias ndb.`csnow-db`.social_media.tweets\n",
      "      +- RelationV2[created_at#126L, id#127L, id_str#128, text#129] ndb.`csnow-db`.social_media.tweets csnow-db/social_media/tweets\n",
      "\n",
      "== Optimized Logical Plan ==\n",
      "Filter (isnotnull(created_at#126L) AND (created_at#126L > 123456))\n",
      "+- RelationV2[created_at#126L, id#127L, id_str#128, text#129] csnow-db/social_media/tweets\n",
      "\n",
      "== Physical Plan ==\n",
      "*(1) ColumnarToRow\n",
      "+- BatchScan csnow-db/social_media/tweets[created_at#126L, id#127L, id_str#128, text#129] VastScan{schemed_name=(csnow-db/social_media/tweets, 1329443212), pushed_down_limit=null, pushed_down_predicates=[[created_at IS NOT NULL], [created_at > 123456]]} RuntimeFilters: []\n",
      "\n"
     ]
    }
   ],
   "source": [
    "df = spark.sql(\"\"\"\n",
    "SELECT * FROM ndb.`csnow-db`.social_media.tweets\n",
    "WHERE created_at > 123456\n",
    "\"\"\")\n",
    "\n",
    "df.explain(True)"
   ]
  },
  {
   "cell_type": "code",
   "execution_count": 12,
   "id": "13c6b6c3-5d4b-4839-8580-84cb1570618c",
   "metadata": {},
   "outputs": [
    {
     "name": "stdout",
     "output_type": "stream",
     "text": [
      "== Parsed Logical Plan ==\n",
      "'Project [*]\n",
      "+- 'Filter ('text = a)\n",
      "   +- 'UnresolvedRelation [ndb, csnow-db, social_media, tweets], [], false\n",
      "\n",
      "== Analyzed Logical Plan ==\n",
      "created_at: bigint, id: bigint, id_str: string, text: string\n",
      "Project [created_at#114L, id#115L, id_str#116, text#117]\n",
      "+- Filter (text#117 = a)\n",
      "   +- SubqueryAlias ndb.`csnow-db`.social_media.tweets\n",
      "      +- RelationV2[created_at#114L, id#115L, id_str#116, text#117] ndb.`csnow-db`.social_media.tweets csnow-db/social_media/tweets\n",
      "\n",
      "== Optimized Logical Plan ==\n",
      "Filter (isnotnull(text#117) AND (text#117 = a))\n",
      "+- RelationV2[created_at#114L, id#115L, id_str#116, text#117] csnow-db/social_media/tweets\n",
      "\n",
      "== Physical Plan ==\n",
      "*(1) ColumnarToRow\n",
      "+- BatchScan csnow-db/social_media/tweets[created_at#114L, id#115L, id_str#116, text#117] VastScan{schemed_name=(csnow-db/social_media/tweets, 1806513283), pushed_down_limit=null, pushed_down_predicates=[[text IS NOT NULL], [text = 'a']]} RuntimeFilters: []\n",
      "\n"
     ]
    }
   ],
   "source": [
    "df = spark.sql(\"\"\"\n",
    "SELECT * FROM ndb.`csnow-db`.social_media.tweets\n",
    "WHERE text = 'a'\n",
    "\"\"\")\n",
    "\n",
    "df.explain(True)"
   ]
  },
  {
   "cell_type": "code",
   "execution_count": 11,
   "id": "4c2aa584-465d-4c0b-87be-e581749eaae0",
   "metadata": {},
   "outputs": [
    {
     "name": "stdout",
     "output_type": "stream",
     "text": [
      "== Parsed Logical Plan ==\n",
      "'Project [*]\n",
      "+- 'Filter 'text LIKE a%\n",
      "   +- 'UnresolvedRelation [ndb, csnow-db, social_media, tweets], [], false\n",
      "\n",
      "== Analyzed Logical Plan ==\n",
      "created_at: bigint, id: bigint, id_str: string, text: string\n",
      "Project [created_at#102L, id#103L, id_str#104, text#105]\n",
      "+- Filter text#105 LIKE a%\n",
      "   +- SubqueryAlias ndb.`csnow-db`.social_media.tweets\n",
      "      +- RelationV2[created_at#102L, id#103L, id_str#104, text#105] ndb.`csnow-db`.social_media.tweets csnow-db/social_media/tweets\n",
      "\n",
      "== Optimized Logical Plan ==\n",
      "Filter (isnotnull(text#105) AND StartsWith(text#105, a))\n",
      "+- RelationV2[created_at#102L, id#103L, id_str#104, text#105] csnow-db/social_media/tweets\n",
      "\n",
      "== Physical Plan ==\n",
      "*(1) Filter StartsWith(text#105, a)\n",
      "+- *(1) ColumnarToRow\n",
      "   +- BatchScan csnow-db/social_media/tweets[created_at#102L, id#103L, id_str#104, text#105] VastScan{schemed_name=(csnow-db/social_media/tweets, -350936998), pushed_down_limit=null, pushed_down_predicates=[[text IS NOT NULL]]} RuntimeFilters: []\n",
      "\n"
     ]
    }
   ],
   "source": [
    "df = spark.sql(\"\"\"\n",
    "SELECT * FROM ndb.`csnow-db`.social_media.tweets\n",
    "WHERE text like 'a%'\n",
    "\"\"\")\n",
    "\n",
    "df.explain(True)"
   ]
  },
  {
   "cell_type": "code",
   "execution_count": 35,
   "id": "fa1e88d6-5f1b-4d4a-b305-9dd9fdddaede",
   "metadata": {},
   "outputs": [
    {
     "name": "stdout",
     "output_type": "stream",
     "text": [
      "== Parsed Logical Plan ==\n",
      "'Project [*]\n",
      "+- 'Filter ('substring('text, 1, 1) = a)\n",
      "   +- 'UnresolvedRelation [ndb, csnow-db, social_media, tweets], [], false\n",
      "\n",
      "== Analyzed Logical Plan ==\n",
      "created_at: bigint, id: bigint, id_str: string, text: string\n",
      "Project [created_at#150L, id#151L, id_str#152, text#153]\n",
      "+- Filter (substring(text#153, 1, 1) = a)\n",
      "   +- SubqueryAlias ndb.`csnow-db`.social_media.tweets\n",
      "      +- RelationV2[created_at#150L, id#151L, id_str#152, text#153] ndb.`csnow-db`.social_media.tweets csnow-db/social_media/tweets\n",
      "\n",
      "== Optimized Logical Plan ==\n",
      "Filter (isnotnull(text#153) AND (substring(text#153, 1, 1) = a))\n",
      "+- RelationV2[created_at#150L, id#151L, id_str#152, text#153] csnow-db/social_media/tweets\n",
      "\n",
      "== Physical Plan ==\n",
      "*(1) Filter (substring(text#153, 1, 1) = a)\n",
      "+- *(1) ColumnarToRow\n",
      "   +- BatchScan csnow-db/social_media/tweets[created_at#150L, id#151L, id_str#152, text#153] VastScan{schemed_name=(csnow-db/social_media/tweets, 1672398646), pushed_down_limit=null, pushed_down_predicates=[[text IS NOT NULL]]} RuntimeFilters: []\n",
      "\n"
     ]
    }
   ],
   "source": [
    "df = spark.sql(\"\"\"\n",
    "SELECT * FROM ndb.`csnow-db`.social_media.tweets\n",
    "WHERE substring(text, 1, 1) = 'a'\n",
    "\"\"\")\n",
    "\n",
    "df.explain(True)"
   ]
  },
  {
   "cell_type": "code",
   "execution_count": null,
   "id": "922e3cf1-992e-4a9a-8f20-7a894b5810a6",
   "metadata": {},
   "outputs": [],
   "source": []
  }
 ],
 "metadata": {
  "kernelspec": {
   "display_name": "Python 3 (ipykernel)",
   "language": "python",
   "name": "python3"
  },
  "language_info": {
   "codemirror_mode": {
    "name": "ipython",
    "version": 3
   },
   "file_extension": ".py",
   "mimetype": "text/x-python",
   "name": "python",
   "nbconvert_exporter": "python",
   "pygments_lexer": "ipython3",
   "version": "3.11.10"
  }
 },
 "nbformat": 4,
 "nbformat_minor": 5
}

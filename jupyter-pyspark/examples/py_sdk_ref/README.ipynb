{
 "cells": [
  {
   "cell_type": "markdown",
   "id": "5dcacaa8-426e-47f2-bc3a-fb80d8002358",
   "metadata": {},
   "source": [
    "Run this notebook to download the Python SDK tutorial."
   ]
  },
  {
   "cell_type": "code",
   "execution_count": 3,
   "id": "3e067448-3bcc-4ba5-a560-0d54b12ddfd1",
   "metadata": {},
   "outputs": [
    {
     "name": "stdout",
     "output_type": "stream",
     "text": [
      "--2025-02-17 12:15:02--  https://vast-data.github.io/data-platform-field-docs/_downloads/a3e979058ad2d568af4435abf67747c5/python_sdk_notebooks.zip\n",
      "Resolving vast-data.github.io (vast-data.github.io)... 185.199.111.153, 185.199.108.153, 185.199.109.153, ...\n",
      "Connecting to vast-data.github.io (vast-data.github.io)|185.199.111.153|:443... connected.\n",
      "HTTP request sent, awaiting response... 200 OK\n",
      "Length: 118736 (116K) [application/zip]\n",
      "Saving to: ‘python_sdk_notebooks.zip’\n",
      "\n",
      "python_sdk_notebook 100%[===================>] 115.95K  --.-KB/s    in 0.004s  \n",
      "\n",
      "2025-02-17 12:15:02 (29.9 MB/s) - ‘python_sdk_notebooks.zip’ saved [118736/118736]\n",
      "\n",
      "Archive:  python_sdk_notebooks.zip\n",
      "  inflating: 03_table_management.ipynb  \n",
      "  inflating: 14_tuning.md            \n",
      "  inflating: 06_limit_n.md           \n",
      "  inflating: intro.md                \n",
      "  inflating: 09_verify_parquet.md    \n",
      "  inflating: 07_projections.ipynb    \n",
      "  inflating: 11_importing_files_pandas.ipynb  \n",
      "  inflating: 12_snapshots.ipynb      \n",
      "  inflating: 13_transactions.ipynb   \n",
      "  inflating: 15_recordbatchreader.md  \n",
      "  inflating: 05_querying.ipynb       \n",
      "  inflating: 10_importing_files.ipynb  \n",
      "  inflating: 04_column_management.ipynb  \n",
      "  inflating: 02_schema_management.ipynb  \n",
      "  inflating: 01_create_session.ipynb  \n",
      "  inflating: 08_manipulation.ipynb   \n"
     ]
    }
   ],
   "source": [
    "! wget https://vast-data.github.io/data-platform-field-docs/_downloads/a3e979058ad2d568af4435abf67747c5/python_sdk_notebooks.zip\n",
    "! unzip python_sdk_notebooks.zip"
   ]
  },
  {
   "cell_type": "code",
   "execution_count": null,
   "id": "e445fe84-05ce-45ef-83b9-b009782d0554",
   "metadata": {},
   "outputs": [],
   "source": []
  }
 ],
 "metadata": {
  "kernelspec": {
   "display_name": "Python 3 (ipykernel)",
   "language": "python",
   "name": "python3"
  },
  "language_info": {
   "codemirror_mode": {
    "name": "ipython",
    "version": 3
   },
   "file_extension": ".py",
   "mimetype": "text/x-python",
   "name": "python",
   "nbconvert_exporter": "python",
   "pygments_lexer": "ipython3",
   "version": "3.11.10"
  }
 },
 "nbformat": 4,
 "nbformat_minor": 5
}

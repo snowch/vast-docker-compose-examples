{
 "cells": [
  {
   "cell_type": "markdown",
   "id": "10fed33d-be68-4c1b-a045-30f853f1e6a5",
   "metadata": {},
   "source": [
    "# Trino Connection"
   ]
  },
  {
   "cell_type": "code",
   "execution_count": 2,
   "id": "d3c30da6-abce-4090-80e7-452dbb55529e",
   "metadata": {},
   "outputs": [],
   "source": [
    "import urllib3\n",
    "\n",
    "urllib3.disable_warnings(urllib3.exceptions.InsecureRequestWarning)"
   ]
  },
  {
   "cell_type": "code",
   "execution_count": 3,
   "id": "c8c3b38b-d3d6-4ac6-a99c-31bb43285f24",
   "metadata": {},
   "outputs": [],
   "source": [
    "%load_ext sql"
   ]
  },
  {
   "cell_type": "code",
   "execution_count": 4,
   "id": "4f29846f-d23d-429a-bab2-5ba51d58593b",
   "metadata": {},
   "outputs": [
    {
     "data": {
      "text/html": [
       "<span style=\"None\">Connecting to &#x27;trino://admin@10.143.11.241:8443/vast&#x27;</span>"
      ],
      "text/plain": [
       "Connecting to 'trino://admin@10.143.11.241:8443/vast'"
      ]
     },
     "metadata": {},
     "output_type": "display_data"
    }
   ],
   "source": [
    "%sql trino://admin@${DOCKER_HOST_OR_IP}:8443/vast  --connection_arguments '{\"http_scheme\":\"https\", \"verify\": false}'"
   ]
  },
  {
   "cell_type": "code",
   "execution_count": 5,
   "id": "6b157708-bfb7-4884-b439-fa4347fa11b3",
   "metadata": {},
   "outputs": [
    {
     "data": {
      "text/html": [
       "<span style=\"None\">Running query in &#x27;trino://admin@10.143.11.241:8443/vast&#x27;</span>"
      ],
      "text/plain": [
       "Running query in 'trino://admin@10.143.11.241:8443/vast'"
      ]
     },
     "metadata": {},
     "output_type": "display_data"
    },
    {
     "data": {
      "text/html": [
       "<table>\n",
       "    <thead>\n",
       "        <tr>\n",
       "            <th>Catalog</th>\n",
       "        </tr>\n",
       "    </thead>\n",
       "    <tbody>\n",
       "        <tr>\n",
       "            <td>hive</td>\n",
       "        </tr>\n",
       "        <tr>\n",
       "            <td>iceberg</td>\n",
       "        </tr>\n",
       "        <tr>\n",
       "            <td>system</td>\n",
       "        </tr>\n",
       "        <tr>\n",
       "            <td>tpcds</td>\n",
       "        </tr>\n",
       "        <tr>\n",
       "            <td>vast</td>\n",
       "        </tr>\n",
       "    </tbody>\n",
       "</table>"
      ],
      "text/plain": [
       "+---------+\n",
       "| Catalog |\n",
       "+---------+\n",
       "|   hive  |\n",
       "| iceberg |\n",
       "|  system |\n",
       "|  tpcds  |\n",
       "|   vast  |\n",
       "+---------+"
      ]
     },
     "execution_count": 5,
     "metadata": {},
     "output_type": "execute_result"
    }
   ],
   "source": [
    "%%sql \n",
    "\n",
    "show catalogs"
   ]
  },
  {
   "cell_type": "code",
   "execution_count": 7,
   "id": "ddf60b6b-5ab1-4e6b-ad6c-99e10b389f11",
   "metadata": {},
   "outputs": [
    {
     "data": {
      "text/html": [
       "<span style=\"None\">Running query in &#x27;trino://admin@10.143.11.241:8443/vast&#x27;</span>"
      ],
      "text/plain": [
       "Running query in 'trino://admin@10.143.11.241:8443/vast'"
      ]
     },
     "metadata": {},
     "output_type": "display_data"
    },
    {
     "data": {
      "text/html": [
       "<table>\n",
       "    <thead>\n",
       "        <tr>\n",
       "            <th>created_at</th>\n",
       "            <th>id</th>\n",
       "            <th>id_str</th>\n",
       "            <th>text</th>\n",
       "        </tr>\n",
       "    </thead>\n",
       "    <tbody>\n",
       "        <tr>\n",
       "            <td>1732208879393</td>\n",
       "            <td>6892621638694823382</td>\n",
       "            <td>6892621638694823382</td>\n",
       "            <td>can't believe how beautiful SoftwareDevelopment is!</td>\n",
       "        </tr>\n",
       "        <tr>\n",
       "            <td>1732208879393</td>\n",
       "            <td>-7051421529026564987</td>\n",
       "            <td>-7051421529026564987</td>\n",
       "            <td>just discovered how powerful MachineLearningEngineering is!</td>\n",
       "        </tr>\n",
       "        <tr>\n",
       "            <td>1732208879393</td>\n",
       "            <td>7634460149232011841</td>\n",
       "            <td>7634460149232011841</td>\n",
       "            <td>so excited about how perfect MobileDevelopment is!</td>\n",
       "        </tr>\n",
       "        <tr>\n",
       "            <td>1732208879393</td>\n",
       "            <td>6633849406573230697</td>\n",
       "            <td>6633849406573230697</td>\n",
       "            <td>totally in love with how perfect CloudEngineer is!</td>\n",
       "        </tr>\n",
       "        <tr>\n",
       "            <td>1732208879393</td>\n",
       "            <td>3223210304739537800</td>\n",
       "            <td>3223210304739537800</td>\n",
       "            <td>just discovered how incredible DevOpsEngineering is!</td>\n",
       "        </tr>\n",
       "        <tr>\n",
       "            <td>1732208879494</td>\n",
       "            <td>-1536457519910078106</td>\n",
       "            <td>-1536457519910078106</td>\n",
       "            <td>can't wait to see how fantastic DevOpsEngineering is!</td>\n",
       "        </tr>\n",
       "        <tr>\n",
       "            <td>1732208879494</td>\n",
       "            <td>-9006023626729573396</td>\n",
       "            <td>-9006023626729573396</td>\n",
       "            <td>looking forward to see how fantastic Agile is!</td>\n",
       "        </tr>\n",
       "        <tr>\n",
       "            <td>1732208879494</td>\n",
       "            <td>3805983493668221234</td>\n",
       "            <td>3805983493668221234</td>\n",
       "            <td>can't wait to see how clever MachineLearning is!</td>\n",
       "        </tr>\n",
       "        <tr>\n",
       "            <td>1732208879494</td>\n",
       "            <td>-4207727324162838529</td>\n",
       "            <td>-4207727324162838529</td>\n",
       "            <td>finally got how awesome SecurityEngineering is!</td>\n",
       "        </tr>\n",
       "        <tr>\n",
       "            <td>1732208879494</td>\n",
       "            <td>62170027578242396</td>\n",
       "            <td>62170027578242396</td>\n",
       "            <td>can't believe how lovely IoT is!</td>\n",
       "        </tr>\n",
       "    </tbody>\n",
       "</table>\n",
       "<span style=\"font-style:italic;text-align:center;\">Truncated to <a href=\"https://jupysql.ploomber.io/en/latest/api/configuration.html#displaylimit\">displaylimit</a> of 10.</span>"
      ],
      "text/plain": [
       "+---------------+----------------------+----------------------+-------------------------------------------------------------+\n",
       "|   created_at  |          id          |        id_str        |                             text                            |\n",
       "+---------------+----------------------+----------------------+-------------------------------------------------------------+\n",
       "| 1732208879393 | 6892621638694823382  | 6892621638694823382  |     can't believe how beautiful SoftwareDevelopment is!     |\n",
       "| 1732208879393 | -7051421529026564987 | -7051421529026564987 | just discovered how powerful MachineLearningEngineering is! |\n",
       "| 1732208879393 | 7634460149232011841  | 7634460149232011841  |      so excited about how perfect MobileDevelopment is!     |\n",
       "| 1732208879393 | 6633849406573230697  | 6633849406573230697  |      totally in love with how perfect CloudEngineer is!     |\n",
       "| 1732208879393 | 3223210304739537800  | 3223210304739537800  |     just discovered how incredible DevOpsEngineering is!    |\n",
       "| 1732208879494 | -1536457519910078106 | -1536457519910078106 |    can't wait to see how fantastic DevOpsEngineering is!    |\n",
       "| 1732208879494 | -9006023626729573396 | -9006023626729573396 |        looking forward to see how fantastic Agile is!       |\n",
       "| 1732208879494 | 3805983493668221234  | 3805983493668221234  |       can't wait to see how clever MachineLearning is!      |\n",
       "| 1732208879494 | -4207727324162838529 | -4207727324162838529 |       finally got how awesome SecurityEngineering is!       |\n",
       "| 1732208879494 |  62170027578242396   |  62170027578242396   |               can't believe how lovely IoT is!              |\n",
       "+---------------+----------------------+----------------------+-------------------------------------------------------------+\n",
       "Truncated to displaylimit of 10."
      ]
     },
     "execution_count": 7,
     "metadata": {},
     "output_type": "execute_result"
    }
   ],
   "source": [
    "%%sql\n",
    "\n",
    "SELECT\n",
    "    *\n",
    "FROM\n",
    "    vast.\"csnow-db|social_media\".tweets\n",
    "LIMIT 10"
   ]
  },
  {
   "cell_type": "code",
   "execution_count": null,
   "id": "476662df-0f42-4079-bc1f-9e9246e3b8b2",
   "metadata": {},
   "outputs": [],
   "source": []
  }
 ],
 "metadata": {
  "kernelspec": {
   "display_name": "Python 3 (ipykernel)",
   "language": "python",
   "name": "python3"
  },
  "language_info": {
   "codemirror_mode": {
    "name": "ipython",
    "version": 3
   },
   "file_extension": ".py",
   "mimetype": "text/x-python",
   "name": "python",
   "nbconvert_exporter": "python",
   "pygments_lexer": "ipython3",
   "version": "3.12.7"
  }
 },
 "nbformat": 4,
 "nbformat_minor": 5
}

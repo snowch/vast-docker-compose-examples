{
 "cells": [
  {
   "cell_type": "markdown",
   "id": "10fed33d-be68-4c1b-a045-30f853f1e6a5",
   "metadata": {},
   "source": [
    "# Spark Connectivity Test to Vast DB and Vast S3"
   ]
  },
  {
   "cell_type": "markdown",
   "id": "6a3485e1-107b-481a-9fb5-a0825e6a06b0",
   "metadata": {},
   "source": [
    "## Load Endpoint Environment Variables"
   ]
  },
  {
   "cell_type": "markdown",
   "id": "7655dbdd-e541-429e-b653-ace158721613",
   "metadata": {},
   "source": [
    "These environment variables have been set when your docker container was created."
   ]
  },
  {
   "cell_type": "code",
   "execution_count": 1,
   "id": "204f19da-1de4-4e54-95e5-be3409dfaea5",
   "metadata": {},
   "outputs": [
    {
     "name": "stdout",
     "output_type": "stream",
     "text": [
      "\n",
      "---\n",
      "DOCKER_HOST_OR_IP=se-var-vastdb-ingest\n",
      "---\n",
      "VASTDB_ENDPOINT=http://172.200.201.1:80\n",
      "VASTDB_ACCESS_KEY=DYF8\n",
      "VASTDB_SECRET_KEY=****Usuu\n",
      "VASTDB_TWITTER_INGEST_BUCKET=csnowdb\n",
      "VASTDB_TWITTER_INGEST_SCHEMA=social_media\n",
      "VASTDB_TWITTER_INGEST_TABLE=tweets\n",
      "---\n",
      "S3_ENDPOINT=http://172.200.201.1:80\n",
      "S3_ACCESS_KEY=DYF8\n",
      "S3_SECRET_KEY=****Usuu\n",
      "S3A_ICEBERG_URI=s3a://csnow-bucket/iceberg/\n",
      "---\n",
      "\n"
     ]
    }
   ],
   "source": [
    "import os\n",
    "\n",
    "DOCKER_HOST_OR_IP = os.getenv(\"DOCKER_HOST_OR_IP\")\n",
    "\n",
    "VASTDB_ENDPOINT = os.getenv(\"VASTDB_ENDPOINT\")\n",
    "VASTDB_ACCESS_KEY = os.getenv(\"VASTDB_ACCESS_KEY\")\n",
    "VASTDB_SECRET_KEY = os.getenv(\"VASTDB_SECRET_KEY\")\n",
    "\n",
    "VASTDB_TWITTER_INGEST_BUCKET = os.getenv(\"VASTDB_TWITTER_INGEST_BUCKET\")\n",
    "VASTDB_TWITTER_INGEST_SCHEMA = os.getenv(\"VASTDB_TWITTER_INGEST_SCHEMA\")\n",
    "VASTDB_TWITTER_INGEST_TABLE = os.getenv(\"VASTDB_TWITTER_INGEST_TABLE\")\n",
    "\n",
    "S3_ENDPOINT = os.getenv(\"S3A_ENDPOINT\")\n",
    "S3_ACCESS_KEY = os.getenv(\"S3A_ACCESS_KEY\")\n",
    "S3_SECRET_KEY = os.getenv(\"S3A_SECRET_KEY\")\n",
    "\n",
    "S3A_ICEBERG_URI = os.getenv(\"S3A_ICEBERG_URI\")\n",
    "\n",
    "print(f\"\"\"\n",
    "---\n",
    "DOCKER_HOST_OR_IP={DOCKER_HOST_OR_IP}\n",
    "---\n",
    "VASTDB_ENDPOINT={VASTDB_ENDPOINT}\n",
    "VASTDB_ACCESS_KEY={VASTDB_ACCESS_KEY[-4:]}\n",
    "VASTDB_SECRET_KEY=****{VASTDB_SECRET_KEY[-4:]}\n",
    "VASTDB_TWITTER_INGEST_BUCKET={VASTDB_TWITTER_INGEST_BUCKET}\n",
    "VASTDB_TWITTER_INGEST_SCHEMA={VASTDB_TWITTER_INGEST_SCHEMA}\n",
    "VASTDB_TWITTER_INGEST_TABLE={VASTDB_TWITTER_INGEST_TABLE}\n",
    "---\n",
    "S3_ENDPOINT={S3_ENDPOINT}\n",
    "S3_ACCESS_KEY={S3_ACCESS_KEY[-4:]}\n",
    "S3_SECRET_KEY=****{VASTDB_SECRET_KEY[-4:]}\n",
    "S3A_ICEBERG_URI={S3A_ICEBERG_URI}\n",
    "---\n",
    "\"\"\")"
   ]
  },
  {
   "cell_type": "markdown",
   "id": "36cf87ca-92d2-46a1-abda-aa59b9a3f4ab",
   "metadata": {},
   "source": [
    "## Specify other Environment Variables"
   ]
  },
  {
   "cell_type": "code",
   "execution_count": 2,
   "id": "6596d81a-04e2-4007-9777-bf406c6ea190",
   "metadata": {},
   "outputs": [],
   "source": [
    "SPARK_APPLICATION_NAME='Spark Demo'"
   ]
  },
  {
   "cell_type": "markdown",
   "id": "4e356c0a-a13c-48e8-bf5f-0603a6953e31",
   "metadata": {},
   "source": [
    "## Start Spark Session"
   ]
  },
  {
   "cell_type": "code",
   "execution_count": 3,
   "id": "7385eee4-6b08-4be0-b6de-d95b64dac1d7",
   "metadata": {},
   "outputs": [
    {
     "name": "stdout",
     "output_type": "stream",
     "text": [
      "Spark successfully loaded\n"
     ]
    }
   ],
   "source": [
    "import socket\n",
    "import os\n",
    "import pyspark\n",
    "from pyspark.conf import SparkConf\n",
    "from pyspark.sql import SparkSession\n",
    "import pandas as pd\n",
    "pd.set_option(\"max_colwidth\", 150)\n",
    "\n",
    "conf = SparkConf()\n",
    "conf.setAll([\n",
    "    (\"spark.driver.host\", socket.gethostbyname(socket.gethostname())),\n",
    "    (\"spark.sql.execution.arrow.pyspark.enabled\", \"false\"),\n",
    "     # VASTDB\n",
    "    (\"spark.sql.catalog.ndb\", 'spark.sql.catalog.ndb.VastCatalog'),\n",
    "    (\"spark.ndb.endpoint\", VASTDB_ENDPOINT),\n",
    "    (\"spark.ndb.data_endpoints\", VASTDB_ENDPOINT),\n",
    "    (\"spark.ndb.access_key_id\", VASTDB_ACCESS_KEY),\n",
    "    (\"spark.ndb.secret_access_key\", VASTDB_SECRET_KEY),\n",
    "    (\"spark.driver.extraClassPath\", '/usr/local/spark/jars/spark3-vast-3.4.1-f93839bfa38a/*'),\n",
    "    (\"spark.executor.extraClassPath\", '/usr/local/spark/jars/spark3-vast-3.4.1-f93839bfa38a/*'),\n",
    "    (\"spark.sql.extensions\", 'ndb.NDBSparkSessionExtension'),\n",
    "    # ICEBERG\n",
    "    (\"spark.sql.catalog.iceberg\", \"org.apache.iceberg.spark.SparkCatalog\"),\n",
    "    (\"spark.sql.catalog.iceberg.type\", \"hive\"),\n",
    "    (\"spark.sql.catalog.iceberg.uri\", f\"thrift://{DOCKER_HOST_OR_IP}:9083\"),\n",
    "    # S3A\n",
    "    (\"fs.s3a.impl\", \"org.apache.hadoop.fs.s3a.S3AFileSystem\"),\n",
    "    (\"fs.s3a.endpoint\", S3_ENDPOINT),\n",
    "    (\"fs.s3a.access.key\", S3_ACCESS_KEY),\n",
    "    (\"fs.s3a.secret.key\", S3_SECRET_KEY),\n",
    "    (\"fs.s3a.endpoint.region\", \"vast\"),\n",
    "    (\"fs.s3a.connection.ssl.enabled\", \"false\"),\n",
    "])\n",
    "\n",
    "spark = SparkSession.builder \\\n",
    "    .master(\"local\") \\\n",
    "    .appName(SPARK_APPLICATION_NAME) \\\n",
    "    .config(conf=conf) \\\n",
    "    .enableHiveSupport() \\\n",
    "    .getOrCreate()\n",
    "\n",
    "sc = spark.sparkContext\n",
    "sc.setLogLevel(\"DEBUG\")\n",
    "\n",
    "print(\"Spark successfully loaded\")"
   ]
  },
  {
   "cell_type": "code",
   "execution_count": 4,
   "id": "315482c2-5efe-486a-81b4-6c6ed5f592fe",
   "metadata": {},
   "outputs": [
    {
     "data": {
      "text/html": [
       "\n",
       "        <div>\n",
       "            <p><b>SparkContext</b></p>\n",
       "\n",
       "            <p><a href=\"None\">Spark UI</a></p>\n",
       "\n",
       "            <dl>\n",
       "              <dt>Version</dt>\n",
       "                <dd><code>v3.4.4</code></dd>\n",
       "              <dt>Master</dt>\n",
       "                <dd><code>local</code></dd>\n",
       "              <dt>AppName</dt>\n",
       "                <dd><code>Spark Demo</code></dd>\n",
       "            </dl>\n",
       "        </div>\n",
       "        "
      ],
      "text/plain": [
       "<SparkContext master=local appName=Spark Demo>"
      ]
     },
     "execution_count": 4,
     "metadata": {},
     "output_type": "execute_result"
    }
   ],
   "source": [
    "sc"
   ]
  },
  {
   "cell_type": "markdown",
   "id": "560205d4-086a-4b62-88c3-12abc17f4870",
   "metadata": {},
   "source": [
    "## Connect to Vast DB"
   ]
  },
  {
   "cell_type": "markdown",
   "id": "55b62420-0e4a-49ac-9fd9-23a06d7129e2",
   "metadata": {},
   "source": [
    "### Specify Environment"
   ]
  },
  {
   "cell_type": "code",
   "execution_count": 5,
   "id": "6cb0485c-3101-498c-989c-a665310a6767",
   "metadata": {},
   "outputs": [],
   "source": [
    "BUCKET_NAME = VASTDB_TWITTER_INGEST_BUCKET\n",
    "DATABASE_SCHEMA = VASTDB_TWITTER_INGEST_SCHEMA\n",
    "TABLE_NAME = VASTDB_TWITTER_INGEST_TABLE"
   ]
  },
  {
   "cell_type": "markdown",
   "id": "0d19a23a-9a00-4c6a-a058-dd03029fbc14",
   "metadata": {},
   "source": [
    "### Connect and run a query"
   ]
  },
  {
   "cell_type": "code",
   "execution_count": 6,
   "id": "5d383066-7f4b-4c7a-a88a-0da64a532f23",
   "metadata": {},
   "outputs": [
    {
     "name": "stdout",
     "output_type": "stream",
     "text": [
      "Using DATABASE_FULLNAME='ndb.`csnowdb`.`social_media`'\n"
     ]
    }
   ],
   "source": [
    "DATABASE_FULLNAME = f\"ndb.`{BUCKET_NAME}`.`{DATABASE_SCHEMA}`\"\n",
    "\n",
    "spark.sql(f\"create schema if not exists {DATABASE_FULLNAME}\")\n",
    "\n",
    "# Set the database name so we don't have to fully qualify all object names\n",
    "# https://spark.apache.org/docs/latest/sql-ref-syntax-ddl-usedb.html\n",
    "# spark.sql(f\"use {DATABASE_FULLNAME}\")\n",
    "\n",
    "print(f\"Using {DATABASE_FULLNAME=}\")"
   ]
  },
  {
   "cell_type": "code",
   "execution_count": 7,
   "id": "ebb52e94-288a-4013-b682-f5777febb204",
   "metadata": {},
   "outputs": [],
   "source": [
    "df = spark.sql(f\"\"\"\n",
    "SELECT \n",
    "  *\n",
    "FROM \n",
    "  {DATABASE_FULLNAME}.{TABLE_NAME}\n",
    "WHERE\n",
    "  created_at in (\n",
    "    SELECT \n",
    "      MAX(created_at) latest_created_at\n",
    "    FROM \n",
    "      {DATABASE_FULLNAME}.{TABLE_NAME}\n",
    "  )\n",
    "ORDER BY id\n",
    "LIMIT 1\n",
    "\"\"\")"
   ]
  },
  {
   "cell_type": "code",
   "execution_count": 8,
   "id": "d8c3314d-6c21-4690-a9a4-0f054d1e684b",
   "metadata": {},
   "outputs": [
    {
     "data": {
      "text/html": [
       "<div>\n",
       "<style scoped>\n",
       "    .dataframe tbody tr th:only-of-type {\n",
       "        vertical-align: middle;\n",
       "    }\n",
       "\n",
       "    .dataframe tbody tr th {\n",
       "        vertical-align: top;\n",
       "    }\n",
       "\n",
       "    .dataframe thead th {\n",
       "        text-align: right;\n",
       "    }\n",
       "</style>\n",
       "<table border=\"1\" class=\"dataframe\">\n",
       "  <thead>\n",
       "    <tr style=\"text-align: right;\">\n",
       "      <th></th>\n",
       "      <th>created_at</th>\n",
       "      <th>id</th>\n",
       "      <th>id_str</th>\n",
       "      <th>text</th>\n",
       "    </tr>\n",
       "  </thead>\n",
       "  <tbody>\n",
       "    <tr>\n",
       "      <th>0</th>\n",
       "      <td>1731502432360</td>\n",
       "      <td>-6583528571490526214</td>\n",
       "      <td>-6583528571490526214</td>\n",
       "      <td>prepared for how interesting IoT is!</td>\n",
       "    </tr>\n",
       "  </tbody>\n",
       "</table>\n",
       "</div>"
      ],
      "text/plain": [
       "      created_at                   id                id_str  \\\n",
       "0  1731502432360 -6583528571490526214  -6583528571490526214   \n",
       "\n",
       "                                   text  \n",
       "0  prepared for how interesting IoT is!  "
      ]
     },
     "execution_count": 8,
     "metadata": {},
     "output_type": "execute_result"
    }
   ],
   "source": [
    "df.toPandas()"
   ]
  },
  {
   "cell_type": "markdown",
   "id": "56bfd2d2-f01e-4ee0-afe7-805f335005b7",
   "metadata": {},
   "source": [
    "## Connect to Iceberg on Vast S3"
   ]
  },
  {
   "cell_type": "markdown",
   "id": "f205e126-6049-4e66-8041-5b9da5f70874",
   "metadata": {},
   "source": [
    "### Specify Environment"
   ]
  },
  {
   "cell_type": "code",
   "execution_count": 9,
   "id": "47b0e94a-a1f5-489f-81ef-7bd88c3283c1",
   "metadata": {},
   "outputs": [
    {
     "data": {
      "text/html": [
       "<div>\n",
       "<style scoped>\n",
       "    .dataframe tbody tr th:only-of-type {\n",
       "        vertical-align: middle;\n",
       "    }\n",
       "\n",
       "    .dataframe tbody tr th {\n",
       "        vertical-align: top;\n",
       "    }\n",
       "\n",
       "    .dataframe thead th {\n",
       "        text-align: right;\n",
       "    }\n",
       "</style>\n",
       "<table border=\"1\" class=\"dataframe\">\n",
       "  <thead>\n",
       "    <tr style=\"text-align: right;\">\n",
       "      <th></th>\n",
       "      <th>namespace</th>\n",
       "    </tr>\n",
       "  </thead>\n",
       "  <tbody>\n",
       "    <tr>\n",
       "      <th>0</th>\n",
       "      <td>default</td>\n",
       "    </tr>\n",
       "    <tr>\n",
       "      <th>1</th>\n",
       "      <td>social_media</td>\n",
       "    </tr>\n",
       "  </tbody>\n",
       "</table>\n",
       "</div>"
      ],
      "text/plain": [
       "      namespace\n",
       "0       default\n",
       "1  social_media"
      ]
     },
     "execution_count": 9,
     "metadata": {},
     "output_type": "execute_result"
    }
   ],
   "source": [
    "spark.sql(\"SHOW DATABASES in iceberg\").toPandas()"
   ]
  },
  {
   "cell_type": "code",
   "execution_count": 10,
   "id": "b90ada70-a394-4688-97f5-db794870dd3b",
   "metadata": {},
   "outputs": [
    {
     "data": {
      "text/html": [
       "<div>\n",
       "<style scoped>\n",
       "    .dataframe tbody tr th:only-of-type {\n",
       "        vertical-align: middle;\n",
       "    }\n",
       "\n",
       "    .dataframe tbody tr th {\n",
       "        vertical-align: top;\n",
       "    }\n",
       "\n",
       "    .dataframe thead th {\n",
       "        text-align: right;\n",
       "    }\n",
       "</style>\n",
       "<table border=\"1\" class=\"dataframe\">\n",
       "  <thead>\n",
       "    <tr style=\"text-align: right;\">\n",
       "      <th></th>\n",
       "      <th>namespace</th>\n",
       "      <th>tableName</th>\n",
       "      <th>isTemporary</th>\n",
       "    </tr>\n",
       "  </thead>\n",
       "  <tbody>\n",
       "    <tr>\n",
       "      <th>0</th>\n",
       "      <td>social_media</td>\n",
       "      <td>twitter_data</td>\n",
       "      <td>False</td>\n",
       "    </tr>\n",
       "  </tbody>\n",
       "</table>\n",
       "</div>"
      ],
      "text/plain": [
       "      namespace     tableName  isTemporary\n",
       "0  social_media  twitter_data        False"
      ]
     },
     "execution_count": 10,
     "metadata": {},
     "output_type": "execute_result"
    }
   ],
   "source": [
    "spark.sql(\"SHOW TABLES in iceberg.social_media\").toPandas()"
   ]
  },
  {
   "cell_type": "code",
   "execution_count": 11,
   "id": "869dcd04-0d1e-4fcd-b479-6a0c6fc839da",
   "metadata": {},
   "outputs": [
    {
     "data": {
      "text/html": [
       "<div>\n",
       "<style scoped>\n",
       "    .dataframe tbody tr th:only-of-type {\n",
       "        vertical-align: middle;\n",
       "    }\n",
       "\n",
       "    .dataframe tbody tr th {\n",
       "        vertical-align: top;\n",
       "    }\n",
       "\n",
       "    .dataframe thead th {\n",
       "        text-align: right;\n",
       "    }\n",
       "</style>\n",
       "<table border=\"1\" class=\"dataframe\">\n",
       "  <thead>\n",
       "    <tr style=\"text-align: right;\">\n",
       "      <th></th>\n",
       "      <th>col_name</th>\n",
       "      <th>data_type</th>\n",
       "      <th>comment</th>\n",
       "    </tr>\n",
       "  </thead>\n",
       "  <tbody>\n",
       "    <tr>\n",
       "      <th>0</th>\n",
       "      <td>created_at</td>\n",
       "      <td>bigint</td>\n",
       "      <td>None</td>\n",
       "    </tr>\n",
       "    <tr>\n",
       "      <th>1</th>\n",
       "      <td>id</td>\n",
       "      <td>bigint</td>\n",
       "      <td>None</td>\n",
       "    </tr>\n",
       "    <tr>\n",
       "      <th>2</th>\n",
       "      <td>id_str</td>\n",
       "      <td>string</td>\n",
       "      <td>None</td>\n",
       "    </tr>\n",
       "    <tr>\n",
       "      <th>3</th>\n",
       "      <td>text</td>\n",
       "      <td>string</td>\n",
       "      <td>None</td>\n",
       "    </tr>\n",
       "    <tr>\n",
       "      <th>4</th>\n",
       "      <td></td>\n",
       "      <td></td>\n",
       "      <td></td>\n",
       "    </tr>\n",
       "    <tr>\n",
       "      <th>5</th>\n",
       "      <td># Metadata Columns</td>\n",
       "      <td></td>\n",
       "      <td></td>\n",
       "    </tr>\n",
       "    <tr>\n",
       "      <th>6</th>\n",
       "      <td>_spec_id</td>\n",
       "      <td>int</td>\n",
       "      <td></td>\n",
       "    </tr>\n",
       "    <tr>\n",
       "      <th>7</th>\n",
       "      <td>_partition</td>\n",
       "      <td>struct&lt;&gt;</td>\n",
       "      <td></td>\n",
       "    </tr>\n",
       "    <tr>\n",
       "      <th>8</th>\n",
       "      <td>_file</td>\n",
       "      <td>string</td>\n",
       "      <td></td>\n",
       "    </tr>\n",
       "    <tr>\n",
       "      <th>9</th>\n",
       "      <td>_pos</td>\n",
       "      <td>bigint</td>\n",
       "      <td></td>\n",
       "    </tr>\n",
       "    <tr>\n",
       "      <th>10</th>\n",
       "      <td>_deleted</td>\n",
       "      <td>boolean</td>\n",
       "      <td></td>\n",
       "    </tr>\n",
       "    <tr>\n",
       "      <th>11</th>\n",
       "      <td></td>\n",
       "      <td></td>\n",
       "      <td></td>\n",
       "    </tr>\n",
       "    <tr>\n",
       "      <th>12</th>\n",
       "      <td># Detailed Table Information</td>\n",
       "      <td></td>\n",
       "      <td></td>\n",
       "    </tr>\n",
       "    <tr>\n",
       "      <th>13</th>\n",
       "      <td>Name</td>\n",
       "      <td>iceberg.social_media.twitter_data</td>\n",
       "      <td></td>\n",
       "    </tr>\n",
       "    <tr>\n",
       "      <th>14</th>\n",
       "      <td>Type</td>\n",
       "      <td>MANAGED</td>\n",
       "      <td></td>\n",
       "    </tr>\n",
       "    <tr>\n",
       "      <th>15</th>\n",
       "      <td>Location</td>\n",
       "      <td>s3a://csnow-bucket/iceberg/twitter_data-1b9b5228d9a5414186cb265db471ec15</td>\n",
       "      <td></td>\n",
       "    </tr>\n",
       "    <tr>\n",
       "      <th>16</th>\n",
       "      <td>Provider</td>\n",
       "      <td>iceberg</td>\n",
       "      <td></td>\n",
       "    </tr>\n",
       "    <tr>\n",
       "      <th>17</th>\n",
       "      <td>Table Properties</td>\n",
       "      <td>[current-snapshot-id=498925630529302779,format=iceberg/PARQUET,format-version=2,write.format.default=PARQUET]</td>\n",
       "      <td></td>\n",
       "    </tr>\n",
       "  </tbody>\n",
       "</table>\n",
       "</div>"
      ],
      "text/plain": [
       "                        col_name  \\\n",
       "0                     created_at   \n",
       "1                             id   \n",
       "2                         id_str   \n",
       "3                           text   \n",
       "4                                  \n",
       "5             # Metadata Columns   \n",
       "6                       _spec_id   \n",
       "7                     _partition   \n",
       "8                          _file   \n",
       "9                           _pos   \n",
       "10                      _deleted   \n",
       "11                                 \n",
       "12  # Detailed Table Information   \n",
       "13                          Name   \n",
       "14                          Type   \n",
       "15                      Location   \n",
       "16                      Provider   \n",
       "17              Table Properties   \n",
       "\n",
       "                                                                                                        data_type  \\\n",
       "0                                                                                                          bigint   \n",
       "1                                                                                                          bigint   \n",
       "2                                                                                                          string   \n",
       "3                                                                                                          string   \n",
       "4                                                                                                                   \n",
       "5                                                                                                                   \n",
       "6                                                                                                             int   \n",
       "7                                                                                                        struct<>   \n",
       "8                                                                                                          string   \n",
       "9                                                                                                          bigint   \n",
       "10                                                                                                        boolean   \n",
       "11                                                                                                                  \n",
       "12                                                                                                                  \n",
       "13                                                                              iceberg.social_media.twitter_data   \n",
       "14                                                                                                        MANAGED   \n",
       "15                                       s3a://csnow-bucket/iceberg/twitter_data-1b9b5228d9a5414186cb265db471ec15   \n",
       "16                                                                                                        iceberg   \n",
       "17  [current-snapshot-id=498925630529302779,format=iceberg/PARQUET,format-version=2,write.format.default=PARQUET]   \n",
       "\n",
       "   comment  \n",
       "0     None  \n",
       "1     None  \n",
       "2     None  \n",
       "3     None  \n",
       "4           \n",
       "5           \n",
       "6           \n",
       "7           \n",
       "8           \n",
       "9           \n",
       "10          \n",
       "11          \n",
       "12          \n",
       "13          \n",
       "14          \n",
       "15          \n",
       "16          \n",
       "17          "
      ]
     },
     "execution_count": 11,
     "metadata": {},
     "output_type": "execute_result"
    }
   ],
   "source": [
    "spark.sql(\"DESCRIBE EXTENDED iceberg.social_media.twitter_data\").toPandas()"
   ]
  },
  {
   "cell_type": "code",
   "execution_count": 12,
   "id": "2a983014-77df-4968-bf95-a3f9010db1df",
   "metadata": {},
   "outputs": [
    {
     "data": {
      "text/html": [
       "<div>\n",
       "<style scoped>\n",
       "    .dataframe tbody tr th:only-of-type {\n",
       "        vertical-align: middle;\n",
       "    }\n",
       "\n",
       "    .dataframe tbody tr th {\n",
       "        vertical-align: top;\n",
       "    }\n",
       "\n",
       "    .dataframe thead th {\n",
       "        text-align: right;\n",
       "    }\n",
       "</style>\n",
       "<table border=\"1\" class=\"dataframe\">\n",
       "  <thead>\n",
       "    <tr style=\"text-align: right;\">\n",
       "      <th></th>\n",
       "      <th>created_at</th>\n",
       "      <th>id</th>\n",
       "      <th>id_str</th>\n",
       "      <th>text</th>\n",
       "    </tr>\n",
       "  </thead>\n",
       "  <tbody>\n",
       "    <tr>\n",
       "      <th>0</th>\n",
       "      <td>1731484717161</td>\n",
       "      <td>-1097640068383552815</td>\n",
       "      <td>-1097640068383552815</td>\n",
       "      <td>blown away by how lovely Security is!</td>\n",
       "    </tr>\n",
       "    <tr>\n",
       "      <th>1</th>\n",
       "      <td>1731484717161</td>\n",
       "      <td>2150149765540927710</td>\n",
       "      <td>2150149765540927710</td>\n",
       "      <td>blown away by how smart SoftwareDevelopment is!</td>\n",
       "    </tr>\n",
       "    <tr>\n",
       "      <th>2</th>\n",
       "      <td>1731484717161</td>\n",
       "      <td>-3482516525599830825</td>\n",
       "      <td>-3482516525599830825</td>\n",
       "      <td>ready to see how great DataScience is!</td>\n",
       "    </tr>\n",
       "    <tr>\n",
       "      <th>3</th>\n",
       "      <td>1731484717161</td>\n",
       "      <td>-4997270603466746885</td>\n",
       "      <td>-4997270603466746885</td>\n",
       "      <td>prepared for how amazing Cybersecurity is!</td>\n",
       "    </tr>\n",
       "    <tr>\n",
       "      <th>4</th>\n",
       "      <td>1731484717161</td>\n",
       "      <td>1634671975161576198</td>\n",
       "      <td>1634671975161576198</td>\n",
       "      <td>finally got how fantastic Agile is!</td>\n",
       "    </tr>\n",
       "    <tr>\n",
       "      <th>...</th>\n",
       "      <td>...</td>\n",
       "      <td>...</td>\n",
       "      <td>...</td>\n",
       "      <td>...</td>\n",
       "    </tr>\n",
       "    <tr>\n",
       "      <th>95</th>\n",
       "      <td>1731484738818</td>\n",
       "      <td>5943826959473537337</td>\n",
       "      <td>5943826959473537337</td>\n",
       "      <td>eager to see how perfect Security is!</td>\n",
       "    </tr>\n",
       "    <tr>\n",
       "      <th>96</th>\n",
       "      <td>1731484738818</td>\n",
       "      <td>-5823557175065379066</td>\n",
       "      <td>-5823557175065379066</td>\n",
       "      <td>amazed by how incredible IoT is!</td>\n",
       "    </tr>\n",
       "    <tr>\n",
       "      <th>97</th>\n",
       "      <td>1731484738818</td>\n",
       "      <td>1089710928912076635</td>\n",
       "      <td>1089710928912076635</td>\n",
       "      <td>prepared for how incredible OpenSource is!</td>\n",
       "    </tr>\n",
       "    <tr>\n",
       "      <th>98</th>\n",
       "      <td>1731484738818</td>\n",
       "      <td>3106624588108967535</td>\n",
       "      <td>3106624588108967535</td>\n",
       "      <td>ready to see how fantastic SecurityEngineering is!</td>\n",
       "    </tr>\n",
       "    <tr>\n",
       "      <th>99</th>\n",
       "      <td>1731484739023</td>\n",
       "      <td>-3934935123620280794</td>\n",
       "      <td>-3934935123620280794</td>\n",
       "      <td>inspired by how awesome AI is!</td>\n",
       "    </tr>\n",
       "  </tbody>\n",
       "</table>\n",
       "<p>100 rows × 4 columns</p>\n",
       "</div>"
      ],
      "text/plain": [
       "       created_at                   id                id_str  \\\n",
       "0   1731484717161 -1097640068383552815  -1097640068383552815   \n",
       "1   1731484717161  2150149765540927710   2150149765540927710   \n",
       "2   1731484717161 -3482516525599830825  -3482516525599830825   \n",
       "3   1731484717161 -4997270603466746885  -4997270603466746885   \n",
       "4   1731484717161  1634671975161576198   1634671975161576198   \n",
       "..            ...                  ...                   ...   \n",
       "95  1731484738818  5943826959473537337   5943826959473537337   \n",
       "96  1731484738818 -5823557175065379066  -5823557175065379066   \n",
       "97  1731484738818  1089710928912076635   1089710928912076635   \n",
       "98  1731484738818  3106624588108967535   3106624588108967535   \n",
       "99  1731484739023 -3934935123620280794  -3934935123620280794   \n",
       "\n",
       "                                                  text  \n",
       "0                blown away by how lovely Security is!  \n",
       "1      blown away by how smart SoftwareDevelopment is!  \n",
       "2               ready to see how great DataScience is!  \n",
       "3           prepared for how amazing Cybersecurity is!  \n",
       "4                  finally got how fantastic Agile is!  \n",
       "..                                                 ...  \n",
       "95               eager to see how perfect Security is!  \n",
       "96                    amazed by how incredible IoT is!  \n",
       "97          prepared for how incredible OpenSource is!  \n",
       "98  ready to see how fantastic SecurityEngineering is!  \n",
       "99                      inspired by how awesome AI is!  \n",
       "\n",
       "[100 rows x 4 columns]"
      ]
     },
     "execution_count": 12,
     "metadata": {},
     "output_type": "execute_result"
    }
   ],
   "source": [
    "result_df = spark.sql(\"\"\"\n",
    "SELECT \n",
    "    * \n",
    "FROM \n",
    "    iceberg.social_media.twitter_data\n",
    "\"\"\")\n",
    "result_df.toPandas()"
   ]
  },
  {
   "cell_type": "code",
   "execution_count": null,
   "id": "006c9b99-3f45-4e1b-9a6e-61ecab06b3fa",
   "metadata": {},
   "outputs": [],
   "source": []
  }
 ],
 "metadata": {
  "kernelspec": {
   "display_name": "Python 3 (ipykernel)",
   "language": "python",
   "name": "python3"
  },
  "language_info": {
   "codemirror_mode": {
    "name": "ipython",
    "version": 3
   },
   "file_extension": ".py",
   "mimetype": "text/x-python",
   "name": "python",
   "nbconvert_exporter": "python",
   "pygments_lexer": "ipython3",
   "version": "3.12.7"
  }
 },
 "nbformat": 4,
 "nbformat_minor": 5
}

{
 "cells": [
  {
   "cell_type": "markdown",
   "id": "0759af94-0259-4143-9e4e-8c509f16e873",
   "metadata": {},
   "source": [
    "# Query Vast Catalog with Python SDK\n",
    "\n",
    "See: \n",
    "- https://support.vastdata.com/s/article/UUID-b7cf8427-3f50-ac3a-b1fe-c92649823ee7\n",
    "- https://vastdb-sdk.readthedocs.io/en/latest/"
   ]
  },
  {
   "cell_type": "code",
   "execution_count": 1,
   "id": "bad06ba1-1182-4d46-81cb-367574cd96bf",
   "metadata": {},
   "outputs": [
    {
     "name": "stdout",
     "output_type": "stream",
     "text": [
      "Requirement already satisfied: numpy==1.25.0 in /opt/conda/lib/python3.11/site-packages (1.25.0)\n",
      "Requirement already satisfied: pandas==2.0.3 in /opt/conda/lib/python3.11/site-packages (2.0.3)\n",
      "Requirement already satisfied: python-dateutil>=2.8.2 in /opt/conda/lib/python3.11/site-packages (from pandas==2.0.3) (2.9.0)\n",
      "Requirement already satisfied: pytz>=2020.1 in /opt/conda/lib/python3.11/site-packages (from pandas==2.0.3) (2024.1)\n",
      "Requirement already satisfied: tzdata>=2022.1 in /opt/conda/lib/python3.11/site-packages (from pandas==2.0.3) (2024.2)\n",
      "Requirement already satisfied: numpy>=1.21.0 in /opt/conda/lib/python3.11/site-packages (from pandas==2.0.3) (1.25.0)\n",
      "Requirement already satisfied: six>=1.5 in /opt/conda/lib/python3.11/site-packages (from python-dateutil>=2.8.2->pandas==2.0.3) (1.16.0)\n",
      "Name: vastdb\n",
      "Version: 1.3.3\n",
      "Summary: VAST Data SDK\n",
      "Home-page: https://github.com/vast-data/vastdb_sdk\n",
      "Author: VAST DATA\n",
      "Author-email: hello@vastdata.com\n",
      "License: Copyright (C) VAST Data Ltd.\n",
      "Location: /opt/conda/lib/python3.11/site-packages\n",
      "Requires: aws-requests-auth, backoff, flatbuffers, ibis-framework, pyarrow, requests, xmltodict\n",
      "Required-by: \n"
     ]
    }
   ],
   "source": [
    "! pip3 install --quiet vastdb pandas==2.0.3 numpy==1.25.0\n",
    "! pip3 show vastdb"
   ]
  },
  {
   "cell_type": "code",
   "execution_count": 2,
   "id": "e5689f94-628f-413e-8d4f-4acec1cacc22",
   "metadata": {},
   "outputs": [
    {
     "name": "stdout",
     "output_type": "stream",
     "text": [
      "\n",
      "---\n",
      "VASTDB_ENDPOINT=http://172.200.204.2:80\n",
      "VASTDB_ACCESS_KEY=QXN5\n",
      "VASTDB_SECRET_KEY=****oLGr\n",
      "---\n",
      "\n"
     ]
    }
   ],
   "source": [
    "import os\n",
    "\n",
    "VASTDB_ENDPOINT = os.getenv(\"VASTDB_ENDPOINT\")\n",
    "VASTDB_ACCESS_KEY = os.getenv(\"VASTDB_ACCESS_KEY\")\n",
    "VASTDB_SECRET_KEY = os.getenv(\"VASTDB_SECRET_KEY\")\n",
    "\n",
    "print(f\"\"\"\n",
    "---\n",
    "VASTDB_ENDPOINT={VASTDB_ENDPOINT}\n",
    "VASTDB_ACCESS_KEY={VASTDB_ACCESS_KEY[-4:]}\n",
    "VASTDB_SECRET_KEY=****{VASTDB_SECRET_KEY[-4:]}\n",
    "---\n",
    "\"\"\")"
   ]
  },
  {
   "cell_type": "code",
   "execution_count": 4,
   "id": "52591336-8369-41c4-a753-2ca4c22c881a",
   "metadata": {},
   "outputs": [
    {
     "name": "stdout",
     "output_type": "stream",
     "text": [
      "Total elements in the catalog: 79701906\n",
      "Number of files/objects: 79615136\n",
      "Distinct element types on the system:\n",
      "['FILE' 'DIR' 'TABLE' 'SCHEMA']\n"
     ]
    }
   ],
   "source": [
    "import pyarrow as pa\n",
    "import vastdb\n",
    "\n",
    "session = vastdb.connect(\n",
    "    endpoint=VASTDB_ENDPOINT,\n",
    "    access=VASTDB_ACCESS_KEY,\n",
    "    secret=VASTDB_SECRET_KEY)\n",
    "\n",
    "with session.transaction() as tx:\n",
    "    table = tx.catalog().select(['element_type']).read_all()\n",
    "    df = table.to_pandas()\n",
    "\n",
    "    total_elements = len(df)\n",
    "    print(f\"Total elements in the catalog: {total_elements}\")\n",
    "\n",
    "    file_count = (df['element_type'] == 'FILE').sum()\n",
    "    print(f\"Number of files/objects: {file_count}\")\n",
    "\n",
    "    distinct_elements = df['element_type'].unique()\n",
    "    print(\"Distinct element types on the system:\")\n",
    "    print(distinct_elements)\n",
    "\n",
    "del table\n",
    "del df"
   ]
  },
  {
   "cell_type": "code",
   "execution_count": 21,
   "id": "9dea67a7-92c5-49ea-bbe2-7617b2da18ee",
   "metadata": {},
   "outputs": [
    {
     "data": {
      "text/html": [
       "<div>\n",
       "<style scoped>\n",
       "    .dataframe tbody tr th:only-of-type {\n",
       "        vertical-align: middle;\n",
       "    }\n",
       "\n",
       "    .dataframe tbody tr th {\n",
       "        vertical-align: top;\n",
       "    }\n",
       "\n",
       "    .dataframe thead th {\n",
       "        text-align: right;\n",
       "    }\n",
       "</style>\n",
       "<table border=\"1\" class=\"dataframe\">\n",
       "  <thead>\n",
       "    <tr style=\"text-align: right;\">\n",
       "      <th></th>\n",
       "      <th>creation_time</th>\n",
       "      <th>search_path</th>\n",
       "      <th>name</th>\n",
       "    </tr>\n",
       "  </thead>\n",
       "  <tbody>\n",
       "    <tr>\n",
       "      <th>0</th>\n",
       "      <td>2024-11-19 12:53:59.945971367</td>\n",
       "      <td>/csnow-bucket/iceberg/twitter_data-00749267c908442790921da3789cf6a0/metadata/</td>\n",
       "      <td>20241119_125357_00007_ne63c-28eaed13-c1c4-43ad-be97-288642eba558.stats</td>\n",
       "    </tr>\n",
       "    <tr>\n",
       "      <th>1</th>\n",
       "      <td>2024-11-19 12:54:01.073948904</td>\n",
       "      <td>/csnow-bucket/iceberg/twitter_data-00749267c908442790921da3789cf6a0/data/</td>\n",
       "      <td>20241119_125400_00009_ne63c-23e8463b-ace9-41c9-ac46-851f47a669cf.parquet</td>\n",
       "    </tr>\n",
       "    <tr>\n",
       "      <th>2</th>\n",
       "      <td>2024-11-21 07:11:10.901219362</td>\n",
       "      <td>/csnow-bucket/iceberg/twitter_data-d2fa3b2406904396b6ec891519a9d32f/metadata/</td>\n",
       "      <td>snap-6030622649746191853-1-aefc2b38-fc4b-4786-a117-475cd2bd28db.avro</td>\n",
       "    </tr>\n",
       "    <tr>\n",
       "      <th>3</th>\n",
       "      <td>2024-11-27 13:50:26.442020791</td>\n",
       "      <td>/csnow-bucket/iceberg/twitter_data-d2fa3b2406904396b6ec891519a9d32f/metadata/</td>\n",
       "      <td>b85c6a67-fea1-444c-aaa4-fe35b188cd96-m0.avro</td>\n",
       "    </tr>\n",
       "    <tr>\n",
       "      <th>4</th>\n",
       "      <td>2024-11-21 07:11:12.521849576</td>\n",
       "      <td>/csnow-bucket/iceberg/twitter_data-d2fa3b2406904396b6ec891519a9d32f/data/</td>\n",
       "      <td>20241121_071113_00838_hitua-9e17b194-5cea-4951-a10f-32e158cac854.parquet</td>\n",
       "    </tr>\n",
       "  </tbody>\n",
       "</table>\n",
       "</div>"
      ],
      "text/plain": [
       "                  creation_time  \\\n",
       "0 2024-11-19 12:53:59.945971367   \n",
       "1 2024-11-19 12:54:01.073948904   \n",
       "2 2024-11-21 07:11:10.901219362   \n",
       "3 2024-11-27 13:50:26.442020791   \n",
       "4 2024-11-21 07:11:12.521849576   \n",
       "\n",
       "                                                                     search_path  \\\n",
       "0  /csnow-bucket/iceberg/twitter_data-00749267c908442790921da3789cf6a0/metadata/   \n",
       "1      /csnow-bucket/iceberg/twitter_data-00749267c908442790921da3789cf6a0/data/   \n",
       "2  /csnow-bucket/iceberg/twitter_data-d2fa3b2406904396b6ec891519a9d32f/metadata/   \n",
       "3  /csnow-bucket/iceberg/twitter_data-d2fa3b2406904396b6ec891519a9d32f/metadata/   \n",
       "4      /csnow-bucket/iceberg/twitter_data-d2fa3b2406904396b6ec891519a9d32f/data/   \n",
       "\n",
       "                                                                       name  \n",
       "0    20241119_125357_00007_ne63c-28eaed13-c1c4-43ad-be97-288642eba558.stats  \n",
       "1  20241119_125400_00009_ne63c-23e8463b-ace9-41c9-ac46-851f47a669cf.parquet  \n",
       "2      snap-6030622649746191853-1-aefc2b38-fc4b-4786-a117-475cd2bd28db.avro  \n",
       "3                              b85c6a67-fea1-444c-aaa4-fe35b188cd96-m0.avro  \n",
       "4  20241121_071113_00838_hitua-9e17b194-5cea-4951-a10f-32e158cac854.parquet  "
      ]
     },
     "execution_count": 21,
     "metadata": {},
     "output_type": "execute_result"
    }
   ],
   "source": [
    "import pandas as pd\n",
    "from ibis import _\n",
    "\n",
    "PREDICATE = (_.owner_name == \"Chris Snow\") \n",
    "COLUMNS = ['creation_time', 'search_path', 'name']\n",
    "\n",
    "pd.set_option('display.max_colwidth', None)\n",
    "\n",
    "with session.transaction() as tx:\n",
    "    table = tx.catalog().select(columns=COLUMNS, predicate=PREDICATE).read_all()\n",
    "    df = table.to_pandas()\n",
    "\n",
    "df.head()"
   ]
  },
  {
   "cell_type": "code",
   "execution_count": null,
   "id": "ebf58c63-656b-4c89-84e7-caa8e793ba5a",
   "metadata": {},
   "outputs": [],
   "source": []
  }
 ],
 "metadata": {
  "kernelspec": {
   "display_name": "Python 3 (ipykernel)",
   "language": "python",
   "name": "python3"
  },
  "language_info": {
   "codemirror_mode": {
    "name": "ipython",
    "version": 3
   },
   "file_extension": ".py",
   "mimetype": "text/x-python",
   "name": "python",
   "nbconvert_exporter": "python",
   "pygments_lexer": "ipython3",
   "version": "3.11.10"
  }
 },
 "nbformat": 4,
 "nbformat_minor": 5
}

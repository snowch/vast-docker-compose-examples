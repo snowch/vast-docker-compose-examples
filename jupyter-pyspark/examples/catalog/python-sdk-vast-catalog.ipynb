{
 "cells": [
  {
   "cell_type": "markdown",
   "id": "55877738",
   "metadata": {},
   "source": [
    "# Catalog - Python SDK Examples"
   ]
  },
  {
   "cell_type": "code",
   "execution_count": 1,
   "id": "e32e952e",
   "metadata": {},
   "outputs": [],
   "source": [
    "!pip install --quiet vastdb"
   ]
  },
  {
   "cell_type": "markdown",
   "id": "74bf128e-5b91-41e0-965b-7769192363b0",
   "metadata": {},
   "source": [
    "## S3 Metadata (Tags)"
   ]
  },
  {
   "cell_type": "code",
   "execution_count": 2,
   "id": "5b61ebd5-8561-4a04-ba30-386a4e0945aa",
   "metadata": {
    "tags": []
   },
   "outputs": [],
   "source": [
    "! s3cmd_configure.sh # custom script to setup s3cmd connection detail"
   ]
  },
  {
   "cell_type": "code",
   "execution_count": 3,
   "id": "86b4711e-0f5f-41a9-98ae-ab4c645b97c6",
   "metadata": {},
   "outputs": [
    {
     "name": "stdout",
     "output_type": "stream",
     "text": [
      "2025-01-22 14:57    481274128  s3://csnow-bucket/nyt/yellow_tripdata_2009-01.parquet\n",
      "2024-12-09 15:54    458846485  s3://csnow-bucket/nyt/yellow_tripdata_2009-02.parquet\n",
      "2024-12-09 15:55    498225013  s3://csnow-bucket/nyt/yellow_tripdata_2009-03.parquet\n",
      "2024-12-09 15:56    494119681  s3://csnow-bucket/nyt/yellow_tripdata_2009-04.parquet\n",
      "2024-12-09 15:56    515203538  s3://csnow-bucket/nyt/yellow_tripdata_2009-05.parquet\n",
      "2024-12-09 15:57    491071155  s3://csnow-bucket/nyt/yellow_tripdata_2009-06.parquet\n",
      "2024-12-09 15:57    471955931  s3://csnow-bucket/nyt/yellow_tripdata_2009-07.parquet\n",
      "2024-12-09 15:58    477035993  s3://csnow-bucket/nyt/yellow_tripdata_2009-08.parquet\n",
      "2024-12-09 15:58    488439674  s3://csnow-bucket/nyt/yellow_tripdata_2009-09.parquet\n",
      "2024-12-09 15:59    543738743  s3://csnow-bucket/nyt/yellow_tripdata_2009-10.parquet\n"
     ]
    }
   ],
   "source": [
    "! s3cmd ls s3://csnow-bucket/nyt/ | awk 'NR<=10' # just show a few rows (10)"
   ]
  },
  {
   "cell_type": "markdown",
   "id": "4cb7f9b6-37e4-4a11-bcc7-a74d4050c01a",
   "metadata": {},
   "source": [
    "### Remove previous user tags"
   ]
  },
  {
   "cell_type": "code",
   "execution_count": 4,
   "id": "799a9aa7-6664-47a0-84a3-ba1f82dfe318",
   "metadata": {},
   "outputs": [
    {
     "name": "stdout",
     "output_type": "stream",
     "text": [
      "modify: 's3://csnow-bucket/nyt/yellow_tripdata_2009-01.parquet'  [1 of 1]\n"
     ]
    }
   ],
   "source": [
    "! s3cmd modify --remove-header='x-amz-meta-foo' s3://csnow-bucket/nyt/yellow_tripdata_2009-01.parquet"
   ]
  },
  {
   "cell_type": "code",
   "execution_count": 5,
   "id": "3d730414-3e0e-4cf0-973d-c35c13a0d107",
   "metadata": {},
   "outputs": [
    {
     "name": "stdout",
     "output_type": "stream",
     "text": [
      "s3://csnow-bucket/nyt/yellow_tripdata_2009-01.parquet (object):\n",
      "   File size: 481274128\n",
      "   Last mod:  Wed, 22 Jan 2025 15:52:43 GMT\n",
      "   MIME type: binary/octet-stream\n",
      "   Storage:   STANDARD\n",
      "   MD5 sum:   d41d8cd98f00b204e9800998ecf8427e-58\n",
      "   SSE:       none\n",
      "   Policy:    none\n",
      "   CORS:      none\n",
      "   ACL:       Chris Snow: FULL_CONTROL\n"
     ]
    }
   ],
   "source": [
    "! s3cmd info s3://csnow-bucket/nyt/yellow_tripdata_2009-01.parquet"
   ]
  },
  {
   "cell_type": "markdown",
   "id": "fae3669f-311f-4f34-a3f8-ad7d9097ef5b",
   "metadata": {},
   "source": [
    "### Add user tags"
   ]
  },
  {
   "cell_type": "code",
   "execution_count": 6,
   "id": "6ef8e089-6caf-4e8d-912b-2c32a0d9bb56",
   "metadata": {},
   "outputs": [
    {
     "name": "stdout",
     "output_type": "stream",
     "text": [
      "modify: 's3://csnow-bucket/nyt/yellow_tripdata_2009-01.parquet'  [1 of 1]\n"
     ]
    }
   ],
   "source": [
    "! s3cmd modify --add-header=x-amz-meta-foo:bar s3://csnow-bucket/nyt/yellow_tripdata_2009-01.parquet"
   ]
  },
  {
   "cell_type": "code",
   "execution_count": 7,
   "id": "515c124e-c158-4fce-bd28-a7782782861f",
   "metadata": {},
   "outputs": [
    {
     "name": "stdout",
     "output_type": "stream",
     "text": [
      "s3://csnow-bucket/nyt/yellow_tripdata_2009-01.parquet (object):\n",
      "   File size: 481274128\n",
      "   Last mod:  Wed, 22 Jan 2025 15:52:45 GMT\n",
      "   MIME type: binary/octet-stream\n",
      "   Storage:   STANDARD\n",
      "   MD5 sum:   d41d8cd98f00b204e9800998ecf8427e-58\n",
      "   SSE:       none\n",
      "   Policy:    none\n",
      "   CORS:      none\n",
      "   ACL:       Chris Snow: FULL_CONTROL\n",
      "   x-amz-meta-foo: bar\n"
     ]
    }
   ],
   "source": [
    "! s3cmd info s3://csnow-bucket/nyt/yellow_tripdata_2009-01.parquet"
   ]
  },
  {
   "cell_type": "markdown",
   "id": "47172f3e-839c-4621-9910-bc8bc668e29d",
   "metadata": {},
   "source": [
    "### Create VAST DB Catalog Session"
   ]
  },
  {
   "cell_type": "code",
   "execution_count": 2,
   "id": "520e87f2-61eb-44fd-a2cb-c9a51f60cfa8",
   "metadata": {},
   "outputs": [
    {
     "name": "stdout",
     "output_type": "stream",
     "text": [
      "\n",
      "---\n",
      "VASTDB_ENDPOINT=http://172.200.204.2:80\n",
      "VASTDB_ACCESS_KEY=QXN5\n",
      "VASTDB_SECRET_KEY=****oLGr\n",
      "---\n",
      "\n"
     ]
    }
   ],
   "source": [
    "import os\n",
    "\n",
    "VASTDB_ENDPOINT = os.getenv(\"VASTDB_ENDPOINT\")\n",
    "VASTDB_ACCESS_KEY = os.getenv(\"VASTDB_ACCESS_KEY\")\n",
    "VASTDB_SECRET_KEY = os.getenv(\"VASTDB_SECRET_KEY\")\n",
    "\n",
    "print(f\"\"\"\n",
    "---\n",
    "VASTDB_ENDPOINT={VASTDB_ENDPOINT}\n",
    "VASTDB_ACCESS_KEY={VASTDB_ACCESS_KEY[-4:]}\n",
    "VASTDB_SECRET_KEY=****{VASTDB_SECRET_KEY[-4:]}\n",
    "---\n",
    "\"\"\")"
   ]
  },
  {
   "cell_type": "code",
   "execution_count": 3,
   "id": "fd430495-6500-4afe-bbd1-adc6e9356ae7",
   "metadata": {
    "tags": []
   },
   "outputs": [],
   "source": [
    "import pyarrow as pa\n",
    "import vastdb\n",
    "\n",
    "session = vastdb.connect(\n",
    "    endpoint=VASTDB_ENDPOINT,\n",
    "    access=VASTDB_ACCESS_KEY,\n",
    "    secret=VASTDB_SECRET_KEY)"
   ]
  },
  {
   "cell_type": "code",
   "execution_count": 4,
   "id": "7f6f67b5-fbae-47b6-958d-3e430b7f0e77",
   "metadata": {
    "tags": []
   },
   "outputs": [],
   "source": [
    "field_names = ['element_type'] # Only need the element_type field for counting\n",
    "\n",
    "with session.transaction() as tx:\n",
    "\n",
    "    # we will work with patable functionality\n",
    "    pa_table = tx.catalog().select(columns=field_names).read_all()\n",
    "\n",
    "    # you can also work with pandas df, but pa_table is probably quicker\n",
    "    pdf = pa_table.to_pandas()"
   ]
  },
  {
   "cell_type": "markdown",
   "id": "c67e2259-ecaf-4e2a-9a5e-de3f05042184",
   "metadata": {},
   "source": [
    "### How many elements are in the catalog\n"
   ]
  },
  {
   "cell_type": "code",
   "execution_count": 11,
   "id": "3cf3ae56-0737-4fb0-8b73-fb5867b032df",
   "metadata": {
    "tags": []
   },
   "outputs": [
    {
     "name": "stdout",
     "output_type": "stream",
     "text": [
      "Total elements in the catalog: 84836469\n"
     ]
    }
   ],
   "source": [
    "total_elements = pa_table.num_rows\n",
    "print(f\"Total elements in the catalog: {total_elements}\")"
   ]
  },
  {
   "cell_type": "markdown",
   "id": "627bc337-4f0f-4800-b590-70fd1a4ef27a",
   "metadata": {},
   "source": [
    "### How many files/objects?\n"
   ]
  },
  {
   "cell_type": "code",
   "execution_count": 12,
   "id": "d6679156-2253-4452-a191-8a76c55e69aa",
   "metadata": {},
   "outputs": [
    {
     "name": "stdout",
     "output_type": "stream",
     "text": [
      "Number of files/objects: 84692655\n"
     ]
    }
   ],
   "source": [
    "file_count = pa_table.filter(pa.compute.field(\"element_type\") == \"FILE\").num_rows\n",
    "print(f\"Number of files/objects: {file_count}\")"
   ]
  },
  {
   "cell_type": "markdown",
   "id": "071c92c2-4dae-41ec-ab8b-d434177d24f2",
   "metadata": {},
   "source": [
    "### How many directories?\n"
   ]
  },
  {
   "cell_type": "code",
   "execution_count": 13,
   "id": "f3b01199-eeef-410b-a8f4-b41d607e902c",
   "metadata": {
    "tags": []
   },
   "outputs": [
    {
     "name": "stdout",
     "output_type": "stream",
     "text": [
      "Number of directories: 143671\n"
     ]
    }
   ],
   "source": [
    "dir_count = pa_table.filter(pa.compute.field(\"element_type\") == \"DIR\").num_rows\n",
    "print(f\"Number of directories: {dir_count}\")"
   ]
  },
  {
   "cell_type": "markdown",
   "id": "7dea9b63-5e63-4953-be78-d9fa53bbc1af",
   "metadata": {},
   "source": [
    "### How many Database tables?"
   ]
  },
  {
   "cell_type": "code",
   "execution_count": 14,
   "id": "63e5f5ae-ab87-4677-a911-e5548c1624bc",
   "metadata": {},
   "outputs": [
    {
     "name": "stdout",
     "output_type": "stream",
     "text": [
      "Number of directories: 25\n"
     ]
    }
   ],
   "source": [
    "dir_count = pa_table.filter(pa.compute.field(\"element_type\") == \"TABLE\").num_rows\n",
    "print(f\"Number of directories: {dir_count}\")"
   ]
  },
  {
   "cell_type": "markdown",
   "id": "a85c4e86-45ae-410e-89d1-8e9688eee85f",
   "metadata": {},
   "source": [
    "### What are all of the elements on my system anyway?\n"
   ]
  },
  {
   "cell_type": "code",
   "execution_count": 15,
   "id": "834f14bb-cf91-4b47-aa32-fdcc5f2782ac",
   "metadata": {
    "tags": []
   },
   "outputs": [
    {
     "data": {
      "text/html": [
       "<div>\n",
       "<style scoped>\n",
       "    .dataframe tbody tr th:only-of-type {\n",
       "        vertical-align: middle;\n",
       "    }\n",
       "\n",
       "    .dataframe tbody tr th {\n",
       "        vertical-align: top;\n",
       "    }\n",
       "\n",
       "    .dataframe thead th {\n",
       "        text-align: right;\n",
       "    }\n",
       "</style>\n",
       "<table border=\"1\" class=\"dataframe\">\n",
       "  <thead>\n",
       "    <tr style=\"text-align: right;\">\n",
       "      <th></th>\n",
       "      <th>element_type</th>\n",
       "    </tr>\n",
       "  </thead>\n",
       "  <tbody>\n",
       "    <tr>\n",
       "      <th>0</th>\n",
       "      <td>FILE</td>\n",
       "    </tr>\n",
       "    <tr>\n",
       "      <th>1</th>\n",
       "      <td>DIR</td>\n",
       "    </tr>\n",
       "    <tr>\n",
       "      <th>2</th>\n",
       "      <td>SYMLINK</td>\n",
       "    </tr>\n",
       "    <tr>\n",
       "      <th>3</th>\n",
       "      <td>SCHEMA</td>\n",
       "    </tr>\n",
       "    <tr>\n",
       "      <th>4</th>\n",
       "      <td>TABLE</td>\n",
       "    </tr>\n",
       "  </tbody>\n",
       "</table>\n",
       "</div>"
      ],
      "text/plain": [
       "  element_type\n",
       "0         FILE\n",
       "1          DIR\n",
       "2      SYMLINK\n",
       "3       SCHEMA\n",
       "4        TABLE"
      ]
     },
     "execution_count": 15,
     "metadata": {},
     "output_type": "execute_result"
    }
   ],
   "source": [
    "group_counts = pa.TableGroupBy(pa_table,\"element_type\").aggregate([])\n",
    "group_counts.to_pandas()"
   ]
  },
  {
   "cell_type": "markdown",
   "id": "1d87b37b-bffb-4d72-805a-bfcf57f80a9f",
   "metadata": {},
   "source": [
    "### Alternative count approach"
   ]
  },
  {
   "cell_type": "code",
   "execution_count": 16,
   "id": "6619861f-a3da-4ffa-9cf8-cd77948e767f",
   "metadata": {
    "tags": []
   },
   "outputs": [
    {
     "data": {
      "text/html": [
       "<div>\n",
       "<style scoped>\n",
       "    .dataframe tbody tr th:only-of-type {\n",
       "        vertical-align: middle;\n",
       "    }\n",
       "\n",
       "    .dataframe tbody tr th {\n",
       "        vertical-align: top;\n",
       "    }\n",
       "\n",
       "    .dataframe thead th {\n",
       "        text-align: right;\n",
       "    }\n",
       "</style>\n",
       "<table border=\"1\" class=\"dataframe\">\n",
       "  <thead>\n",
       "    <tr style=\"text-align: right;\">\n",
       "      <th></th>\n",
       "      <th>element_type</th>\n",
       "      <th>count_all</th>\n",
       "    </tr>\n",
       "  </thead>\n",
       "  <tbody>\n",
       "    <tr>\n",
       "      <th>0</th>\n",
       "      <td>FILE</td>\n",
       "      <td>84692655</td>\n",
       "    </tr>\n",
       "    <tr>\n",
       "      <th>1</th>\n",
       "      <td>DIR</td>\n",
       "      <td>143671</td>\n",
       "    </tr>\n",
       "    <tr>\n",
       "      <th>2</th>\n",
       "      <td>SYMLINK</td>\n",
       "      <td>106</td>\n",
       "    </tr>\n",
       "    <tr>\n",
       "      <th>3</th>\n",
       "      <td>TABLE</td>\n",
       "      <td>25</td>\n",
       "    </tr>\n",
       "    <tr>\n",
       "      <th>4</th>\n",
       "      <td>SCHEMA</td>\n",
       "      <td>12</td>\n",
       "    </tr>\n",
       "  </tbody>\n",
       "</table>\n",
       "</div>"
      ],
      "text/plain": [
       "  element_type  count_all\n",
       "0         FILE   84692655\n",
       "1          DIR     143671\n",
       "2      SYMLINK        106\n",
       "3        TABLE         25\n",
       "4       SCHEMA         12"
      ]
     },
     "execution_count": 16,
     "metadata": {},
     "output_type": "execute_result"
    }
   ],
   "source": [
    "group_counts = pa.TableGroupBy(pa_table,\"element_type\").aggregate([([], \"count_all\")])\n",
    "group_counts.to_pandas()"
   ]
  },
  {
   "cell_type": "markdown",
   "id": "d42cc7d7-9435-498c-9958-08cb5dc0c07b",
   "metadata": {
    "execution": {
     "iopub.execute_input": "2024-01-07T17:12:48.624016Z",
     "iopub.status.busy": "2024-01-07T17:12:48.623443Z",
     "iopub.status.idle": "2024-01-07T17:12:48.628368Z",
     "shell.execute_reply": "2024-01-07T17:12:48.627455Z",
     "shell.execute_reply.started": "2024-01-07T17:12:48.623984Z"
    },
    "tags": []
   },
   "source": [
    "### Simplified example of count of elements returned from parallel execution\n",
    "\n",
    "The query_iterator iteratively executes a query on a database table, returning results in chunks as PyArrow RecordBatches, enabling efficient handling of large datasets by processing data in smaller, manageable segments.\n",
    "Simplified example of count of elements returned from parallel execution."
   ]
  },
  {
   "cell_type": "code",
   "execution_count": 17,
   "id": "518d57d8-c16e-4c10-8bf9-bf8e20fdebe1",
   "metadata": {
    "tags": []
   },
   "outputs": [
    {
     "name": "stdout",
     "output_type": "stream",
     "text": [
      "Total elements in the catalog: 84836469\n"
     ]
    }
   ],
   "source": [
    "def query_and_count_elements(session, field_names):\n",
    "\n",
    "    with session.transaction() as tx:\n",
    "        # batch reader\n",
    "        reader = tx.catalog().select(columns=field_names)\n",
    "\n",
    "        elements_count = 0\n",
    "        for record_batch in reader:\n",
    "            elements_count += record_batch.num_rows\n",
    "\n",
    "        return elements_count\n",
    "\n",
    "# Query Parameters\n",
    "field_names = ['element_type']  # Only need the element_type field for counting\n",
    "\n",
    "# Perform the query\n",
    "total_elements = query_and_count_elements(session, field_names)\n",
    "print(f\"Total elements in the catalog: {total_elements}\")"
   ]
  },
  {
   "cell_type": "markdown",
   "id": "cd360703-a361-47a0-8611-ca880edba24e",
   "metadata": {},
   "source": [
    "### Simple Filtering\n"
   ]
  },
  {
   "cell_type": "markdown",
   "id": "67b1365b-82b1-4e8f-9c24-07fb6f9e44b8",
   "metadata": {},
   "source": [
    "- first filter by pushing down to the DB predicates to search only for changes since today"
   ]
  },
  {
   "cell_type": "code",
   "execution_count": 43,
   "id": "6dd13c71-e7a2-4bfa-9fdf-13350a1e0da0",
   "metadata": {
    "tags": []
   },
   "outputs": [
    {
     "data": {
      "text/html": [
       "<div>\n",
       "<style scoped>\n",
       "    .dataframe tbody tr th:only-of-type {\n",
       "        vertical-align: middle;\n",
       "    }\n",
       "\n",
       "    .dataframe tbody tr th {\n",
       "        vertical-align: top;\n",
       "    }\n",
       "\n",
       "    .dataframe thead th {\n",
       "        text-align: right;\n",
       "    }\n",
       "</style>\n",
       "<table border=\"1\" class=\"dataframe\">\n",
       "  <thead>\n",
       "    <tr style=\"text-align: right;\">\n",
       "      <th></th>\n",
       "      <th>name</th>\n",
       "      <th>creation_time</th>\n",
       "      <th>uid</th>\n",
       "      <th>owner_name</th>\n",
       "      <th>size</th>\n",
       "      <th>user_metadata</th>\n",
       "      <th>user_tags</th>\n",
       "    </tr>\n",
       "  </thead>\n",
       "  <tbody>\n",
       "    <tr>\n",
       "      <th>0</th>\n",
       "      <td>file_15624.txt</td>\n",
       "      <td>2025-01-22 14:45:21.141552984</td>\n",
       "      <td>5069</td>\n",
       "      <td>John Gorski</td>\n",
       "      <td>20480</td>\n",
       "      <td>None</td>\n",
       "      <td>None</td>\n",
       "    </tr>\n",
       "    <tr>\n",
       "      <th>1</th>\n",
       "      <td>file_2386.txt</td>\n",
       "      <td>2025-01-22 14:46:03.517637761</td>\n",
       "      <td>5069</td>\n",
       "      <td>John Gorski</td>\n",
       "      <td>20480</td>\n",
       "      <td>None</td>\n",
       "      <td>None</td>\n",
       "    </tr>\n",
       "    <tr>\n",
       "      <th>2</th>\n",
       "      <td>file_21513.txt</td>\n",
       "      <td>2025-01-22 14:45:35.738343786</td>\n",
       "      <td>5069</td>\n",
       "      <td>John Gorski</td>\n",
       "      <td>20480</td>\n",
       "      <td>None</td>\n",
       "      <td>None</td>\n",
       "    </tr>\n",
       "    <tr>\n",
       "      <th>3</th>\n",
       "      <td>subfolder_1</td>\n",
       "      <td>2025-01-22 14:45:52.032227101</td>\n",
       "      <td>5069</td>\n",
       "      <td>John Gorski</td>\n",
       "      <td>4096</td>\n",
       "      <td>None</td>\n",
       "      <td>None</td>\n",
       "    </tr>\n",
       "    <tr>\n",
       "      <th>4</th>\n",
       "      <td>file_14682.txt</td>\n",
       "      <td>2025-01-22 14:46:06.120785539</td>\n",
       "      <td>5069</td>\n",
       "      <td>John Gorski</td>\n",
       "      <td>20480</td>\n",
       "      <td>None</td>\n",
       "      <td>None</td>\n",
       "    </tr>\n",
       "    <tr>\n",
       "      <th>...</th>\n",
       "      <td>...</td>\n",
       "      <td>...</td>\n",
       "      <td>...</td>\n",
       "      <td>...</td>\n",
       "      <td>...</td>\n",
       "      <td>...</td>\n",
       "      <td>...</td>\n",
       "    </tr>\n",
       "    <tr>\n",
       "      <th>84177</th>\n",
       "      <td>file_27536.txt</td>\n",
       "      <td>2025-01-22 15:21:04.826954108</td>\n",
       "      <td>5069</td>\n",
       "      <td>John Gorski</td>\n",
       "      <td>20480</td>\n",
       "      <td>None</td>\n",
       "      <td>None</td>\n",
       "    </tr>\n",
       "    <tr>\n",
       "      <th>84178</th>\n",
       "      <td>file_15986.txt</td>\n",
       "      <td>2025-01-22 15:20:28.161570268</td>\n",
       "      <td>5069</td>\n",
       "      <td>John Gorski</td>\n",
       "      <td>20480</td>\n",
       "      <td>None</td>\n",
       "      <td>None</td>\n",
       "    </tr>\n",
       "    <tr>\n",
       "      <th>84179</th>\n",
       "      <td>file_29581.txt</td>\n",
       "      <td>2025-01-22 15:19:00.046412901</td>\n",
       "      <td>5069</td>\n",
       "      <td>John Gorski</td>\n",
       "      <td>20480</td>\n",
       "      <td>None</td>\n",
       "      <td>None</td>\n",
       "    </tr>\n",
       "    <tr>\n",
       "      <th>84180</th>\n",
       "      <td>file_8016.txt</td>\n",
       "      <td>2025-01-22 15:19:17.964053479</td>\n",
       "      <td>5069</td>\n",
       "      <td>John Gorski</td>\n",
       "      <td>20480</td>\n",
       "      <td>None</td>\n",
       "      <td>None</td>\n",
       "    </tr>\n",
       "    <tr>\n",
       "      <th>84181</th>\n",
       "      <td>file_9210.txt</td>\n",
       "      <td>2025-01-22 15:20:16.693873580</td>\n",
       "      <td>5069</td>\n",
       "      <td>John Gorski</td>\n",
       "      <td>20480</td>\n",
       "      <td>None</td>\n",
       "      <td>None</td>\n",
       "    </tr>\n",
       "  </tbody>\n",
       "</table>\n",
       "<p>84182 rows × 7 columns</p>\n",
       "</div>"
      ],
      "text/plain": [
       "                 name                 creation_time   uid   owner_name   size  \\\n",
       "0      file_15624.txt 2025-01-22 14:45:21.141552984  5069  John Gorski  20480   \n",
       "1       file_2386.txt 2025-01-22 14:46:03.517637761  5069  John Gorski  20480   \n",
       "2      file_21513.txt 2025-01-22 14:45:35.738343786  5069  John Gorski  20480   \n",
       "3         subfolder_1 2025-01-22 14:45:52.032227101  5069  John Gorski   4096   \n",
       "4      file_14682.txt 2025-01-22 14:46:06.120785539  5069  John Gorski  20480   \n",
       "...               ...                           ...   ...          ...    ...   \n",
       "84177  file_27536.txt 2025-01-22 15:21:04.826954108  5069  John Gorski  20480   \n",
       "84178  file_15986.txt 2025-01-22 15:20:28.161570268  5069  John Gorski  20480   \n",
       "84179  file_29581.txt 2025-01-22 15:19:00.046412901  5069  John Gorski  20480   \n",
       "84180   file_8016.txt 2025-01-22 15:19:17.964053479  5069  John Gorski  20480   \n",
       "84181   file_9210.txt 2025-01-22 15:20:16.693873580  5069  John Gorski  20480   \n",
       "\n",
       "      user_metadata user_tags  \n",
       "0              None      None  \n",
       "1              None      None  \n",
       "2              None      None  \n",
       "3              None      None  \n",
       "4              None      None  \n",
       "...             ...       ...  \n",
       "84177          None      None  \n",
       "84178          None      None  \n",
       "84179          None      None  \n",
       "84180          None      None  \n",
       "84181          None      None  \n",
       "\n",
       "[84182 rows x 7 columns]"
      ]
     },
     "execution_count": 43,
     "metadata": {},
     "output_type": "execute_result"
    }
   ],
   "source": [
    "import ibis\n",
    "import time\n",
    "import pyarrow.compute as pc\n",
    "from datetime import datetime\n",
    "from ibis import _\n",
    "\n",
    "\n",
    "# today's date - should pick\n",
    "date_str = time.strftime('%Y-%m-%d')\n",
    "\n",
    "# Convert date string to epoch timestamp (in seconds)\n",
    "epoch_seconds = int(time.mktime(time.strptime(date_str, '%Y-%m-%d')))\n",
    "\n",
    "# Create an Ibis literal with epoch time and the correct data type\n",
    "predicate = (_.mtime >= ibis.literal(epoch_seconds, type='timestamp'))\n",
    "\n",
    "field_names = ['name', 'creation_time', 'uid', 'owner_name', 'size', 'user_metadata', 'user_tags']\n",
    "\n",
    "with session.transaction() as tx:\n",
    "    table = tx.catalog().select(columns=field_names, predicate=predicate).read_all()\n",
    "    df = table.to_pandas()\n",
    "\n",
    "df"
   ]
  },
  {
   "cell_type": "markdown",
   "id": "522abc6f-9974-42f0-95ff-f6083e58ec20",
   "metadata": {},
   "source": [
    "- then post filter the returned dataset to search for user_meta data not null\n",
    "- we should see the file we updated using s3cmd"
   ]
  },
  {
   "cell_type": "code",
   "execution_count": 44,
   "id": "fdc238b4-feda-45f7-ac83-4eabbcac8e49",
   "metadata": {
    "tags": []
   },
   "outputs": [
    {
     "data": {
      "text/html": [
       "<div>\n",
       "<style scoped>\n",
       "    .dataframe tbody tr th:only-of-type {\n",
       "        vertical-align: middle;\n",
       "    }\n",
       "\n",
       "    .dataframe tbody tr th {\n",
       "        vertical-align: top;\n",
       "    }\n",
       "\n",
       "    .dataframe thead th {\n",
       "        text-align: right;\n",
       "    }\n",
       "</style>\n",
       "<table border=\"1\" class=\"dataframe\">\n",
       "  <thead>\n",
       "    <tr style=\"text-align: right;\">\n",
       "      <th></th>\n",
       "      <th>name</th>\n",
       "      <th>creation_time</th>\n",
       "      <th>uid</th>\n",
       "      <th>owner_name</th>\n",
       "      <th>size</th>\n",
       "      <th>user_metadata</th>\n",
       "      <th>user_tags</th>\n",
       "    </tr>\n",
       "  </thead>\n",
       "  <tbody>\n",
       "    <tr>\n",
       "      <th>24735</th>\n",
       "      <td>yellow_tripdata_2009-01.parquet</td>\n",
       "      <td>2024-12-09 15:54:27.143172336</td>\n",
       "      <td>5102</td>\n",
       "      <td>Chris Snow</td>\n",
       "      <td>481274128</td>\n",
       "      <td>[(foo, bar)]</td>\n",
       "      <td>[(key1, value1), (key2, value2)]</td>\n",
       "    </tr>\n",
       "  </tbody>\n",
       "</table>\n",
       "</div>"
      ],
      "text/plain": [
       "                                  name                 creation_time   uid  \\\n",
       "24735  yellow_tripdata_2009-01.parquet 2024-12-09 15:54:27.143172336  5102   \n",
       "\n",
       "       owner_name       size user_metadata                         user_tags  \n",
       "24735  Chris Snow  481274128  [(foo, bar)]  [(key1, value1), (key2, value2)]  "
      ]
     },
     "execution_count": 44,
     "metadata": {},
     "output_type": "execute_result"
    }
   ],
   "source": [
    "df[df['user_tags'].notnull()]"
   ]
  },
  {
   "cell_type": "markdown",
   "id": "df130ea3-2097-4953-8372-103177d64d23",
   "metadata": {},
   "source": [
    "### Query for Specific File Types Across Different Users:\n"
   ]
  },
  {
   "cell_type": "code",
   "execution_count": 57,
   "id": "849866b2-5925-4d27-a21e-f40dbe7ccece",
   "metadata": {
    "tags": []
   },
   "outputs": [
    {
     "data": {
      "text/html": [
       "<div>\n",
       "<style scoped>\n",
       "    .dataframe tbody tr th:only-of-type {\n",
       "        vertical-align: middle;\n",
       "    }\n",
       "\n",
       "    .dataframe tbody tr th {\n",
       "        vertical-align: top;\n",
       "    }\n",
       "\n",
       "    .dataframe thead th {\n",
       "        text-align: right;\n",
       "    }\n",
       "</style>\n",
       "<table border=\"1\" class=\"dataframe\">\n",
       "  <thead>\n",
       "    <tr style=\"text-align: right;\">\n",
       "      <th></th>\n",
       "      <th>uid</th>\n",
       "      <th>owner_name</th>\n",
       "      <th>element_type</th>\n",
       "    </tr>\n",
       "  </thead>\n",
       "  <tbody>\n",
       "    <tr>\n",
       "      <th>0</th>\n",
       "      <td>1000</td>\n",
       "      <td>vastdata</td>\n",
       "      <td>FILE</td>\n",
       "    </tr>\n",
       "    <tr>\n",
       "      <th>1</th>\n",
       "      <td>1000</td>\n",
       "      <td>vastdata</td>\n",
       "      <td>FILE</td>\n",
       "    </tr>\n",
       "    <tr>\n",
       "      <th>2</th>\n",
       "      <td>1000</td>\n",
       "      <td>vastdata</td>\n",
       "      <td>FILE</td>\n",
       "    </tr>\n",
       "    <tr>\n",
       "      <th>3</th>\n",
       "      <td>1000</td>\n",
       "      <td>vastdata</td>\n",
       "      <td>FILE</td>\n",
       "    </tr>\n",
       "    <tr>\n",
       "      <th>4</th>\n",
       "      <td>1000</td>\n",
       "      <td>vastdata</td>\n",
       "      <td>FILE</td>\n",
       "    </tr>\n",
       "    <tr>\n",
       "      <th>...</th>\n",
       "      <td>...</td>\n",
       "      <td>...</td>\n",
       "      <td>...</td>\n",
       "    </tr>\n",
       "    <tr>\n",
       "      <th>40386704</th>\n",
       "      <td>1000</td>\n",
       "      <td>vastdata</td>\n",
       "      <td>FILE</td>\n",
       "    </tr>\n",
       "    <tr>\n",
       "      <th>40386705</th>\n",
       "      <td>1000</td>\n",
       "      <td>vastdata</td>\n",
       "      <td>FILE</td>\n",
       "    </tr>\n",
       "    <tr>\n",
       "      <th>40386706</th>\n",
       "      <td>1000</td>\n",
       "      <td>vastdata</td>\n",
       "      <td>FILE</td>\n",
       "    </tr>\n",
       "    <tr>\n",
       "      <th>40386707</th>\n",
       "      <td>1000</td>\n",
       "      <td>vastdata</td>\n",
       "      <td>FILE</td>\n",
       "    </tr>\n",
       "    <tr>\n",
       "      <th>40386708</th>\n",
       "      <td>1000</td>\n",
       "      <td>vastdata</td>\n",
       "      <td>FILE</td>\n",
       "    </tr>\n",
       "  </tbody>\n",
       "</table>\n",
       "<p>40386709 rows × 3 columns</p>\n",
       "</div>"
      ],
      "text/plain": [
       "           uid owner_name element_type\n",
       "0         1000   vastdata         FILE\n",
       "1         1000   vastdata         FILE\n",
       "2         1000   vastdata         FILE\n",
       "3         1000   vastdata         FILE\n",
       "4         1000   vastdata         FILE\n",
       "...        ...        ...          ...\n",
       "40386704  1000   vastdata         FILE\n",
       "40386705  1000   vastdata         FILE\n",
       "40386706  1000   vastdata         FILE\n",
       "40386707  1000   vastdata         FILE\n",
       "40386708  1000   vastdata         FILE\n",
       "\n",
       "[40386709 rows x 3 columns]"
      ]
     },
     "execution_count": 57,
     "metadata": {},
     "output_type": "execute_result"
    }
   ],
   "source": [
    "field_names = ['uid', 'owner_name', 'element_type']\n",
    "predicate = \\\n",
    "    ((_.element_type == 'FILE') | (_.element_type == 'TABLE') | (_.element_type == 'DIR')) & \\\n",
    "    ((_.uid == 500) | (_.uid == 1000))\n",
    "\n",
    "with session.transaction() as tx:\n",
    "    table = tx.catalog().select(columns=field_names, predicate=predicate).read_all()\n",
    "    df = table.to_pandas()\n",
    "\n",
    "df"
   ]
  },
  {
   "cell_type": "markdown",
   "id": "564b73e1-d500-4966-bb9e-3c748376dc6d",
   "metadata": {},
   "source": [
    "### Query for Objects Based on User and Specific Extensions\n"
   ]
  },
  {
   "cell_type": "code",
   "execution_count": 58,
   "id": "d51e1b67-c914-4897-b643-dfbcbb76611a",
   "metadata": {
    "tags": []
   },
   "outputs": [
    {
     "data": {
      "text/html": [
       "<div>\n",
       "<style scoped>\n",
       "    .dataframe tbody tr th:only-of-type {\n",
       "        vertical-align: middle;\n",
       "    }\n",
       "\n",
       "    .dataframe tbody tr th {\n",
       "        vertical-align: top;\n",
       "    }\n",
       "\n",
       "    .dataframe thead th {\n",
       "        text-align: right;\n",
       "    }\n",
       "</style>\n",
       "<table border=\"1\" class=\"dataframe\">\n",
       "  <thead>\n",
       "    <tr style=\"text-align: right;\">\n",
       "      <th></th>\n",
       "      <th>uid</th>\n",
       "      <th>extension</th>\n",
       "      <th>size</th>\n",
       "    </tr>\n",
       "  </thead>\n",
       "  <tbody>\n",
       "    <tr>\n",
       "      <th>0</th>\n",
       "      <td>1000</td>\n",
       "      <td>log</td>\n",
       "      <td>69641674</td>\n",
       "    </tr>\n",
       "    <tr>\n",
       "      <th>1</th>\n",
       "      <td>1000</td>\n",
       "      <td>log</td>\n",
       "      <td>115</td>\n",
       "    </tr>\n",
       "    <tr>\n",
       "      <th>2</th>\n",
       "      <td>1000</td>\n",
       "      <td>log</td>\n",
       "      <td>60046685</td>\n",
       "    </tr>\n",
       "    <tr>\n",
       "      <th>3</th>\n",
       "      <td>1000</td>\n",
       "      <td>log</td>\n",
       "      <td>115</td>\n",
       "    </tr>\n",
       "    <tr>\n",
       "      <th>4</th>\n",
       "      <td>1000</td>\n",
       "      <td>log</td>\n",
       "      <td>39745</td>\n",
       "    </tr>\n",
       "    <tr>\n",
       "      <th>...</th>\n",
       "      <td>...</td>\n",
       "      <td>...</td>\n",
       "      <td>...</td>\n",
       "    </tr>\n",
       "    <tr>\n",
       "      <th>52808</th>\n",
       "      <td>1000</td>\n",
       "      <td>log</td>\n",
       "      <td>0</td>\n",
       "    </tr>\n",
       "    <tr>\n",
       "      <th>52809</th>\n",
       "      <td>1000</td>\n",
       "      <td>log</td>\n",
       "      <td>0</td>\n",
       "    </tr>\n",
       "    <tr>\n",
       "      <th>52810</th>\n",
       "      <td>1000</td>\n",
       "      <td>log</td>\n",
       "      <td>0</td>\n",
       "    </tr>\n",
       "    <tr>\n",
       "      <th>52811</th>\n",
       "      <td>1000</td>\n",
       "      <td>log</td>\n",
       "      <td>72921728</td>\n",
       "    </tr>\n",
       "    <tr>\n",
       "      <th>52812</th>\n",
       "      <td>1000</td>\n",
       "      <td>log</td>\n",
       "      <td>39765</td>\n",
       "    </tr>\n",
       "  </tbody>\n",
       "</table>\n",
       "<p>52813 rows × 3 columns</p>\n",
       "</div>"
      ],
      "text/plain": [
       "        uid extension      size\n",
       "0      1000       log  69641674\n",
       "1      1000       log       115\n",
       "2      1000       log  60046685\n",
       "3      1000       log       115\n",
       "4      1000       log     39745\n",
       "...     ...       ...       ...\n",
       "52808  1000       log         0\n",
       "52809  1000       log         0\n",
       "52810  1000       log         0\n",
       "52811  1000       log  72921728\n",
       "52812  1000       log     39765\n",
       "\n",
       "[52813 rows x 3 columns]"
      ]
     },
     "execution_count": 58,
     "metadata": {},
     "output_type": "execute_result"
    }
   ],
   "source": [
    "field_names = ['uid', 'extension', 'size']\n",
    "predicate = \\\n",
    "    ((_.extension == 'log') | (_.extension == 'ldb')) & \\\n",
    "    ((_.uid == 555) | (_.uid == 1000))\n",
    "\n",
    "with session.transaction() as tx:\n",
    "    table = tx.catalog().select(columns=field_names, predicate=predicate).read_all()\n",
    "    df = table.to_pandas()\n",
    "\n",
    "df"
   ]
  },
  {
   "cell_type": "markdown",
   "id": "2e7740e8-fd42-4d2a-a855-7770cebcd952",
   "metadata": {},
   "source": [
    "### Query for Specific File Types with Size Constraints\n"
   ]
  },
  {
   "cell_type": "code",
   "execution_count": 60,
   "id": "e9559300-f61c-4f1d-8e2d-9a9405eba046",
   "metadata": {
    "tags": []
   },
   "outputs": [
    {
     "data": {
      "text/html": [
       "<div>\n",
       "<style scoped>\n",
       "    .dataframe tbody tr th:only-of-type {\n",
       "        vertical-align: middle;\n",
       "    }\n",
       "\n",
       "    .dataframe tbody tr th {\n",
       "        vertical-align: top;\n",
       "    }\n",
       "\n",
       "    .dataframe thead th {\n",
       "        text-align: right;\n",
       "    }\n",
       "</style>\n",
       "<table border=\"1\" class=\"dataframe\">\n",
       "  <thead>\n",
       "    <tr style=\"text-align: right;\">\n",
       "      <th></th>\n",
       "      <th>element_type</th>\n",
       "      <th>size</th>\n",
       "      <th>name</th>\n",
       "    </tr>\n",
       "  </thead>\n",
       "  <tbody>\n",
       "    <tr>\n",
       "      <th>0</th>\n",
       "      <td>FILE</td>\n",
       "      <td>128609</td>\n",
       "      <td>NA19191.seg.called.merged</td>\n",
       "    </tr>\n",
       "    <tr>\n",
       "      <th>1</th>\n",
       "      <td>FILE</td>\n",
       "      <td>182032</td>\n",
       "      <td>Theilman.mp4</td>\n",
       "    </tr>\n",
       "    <tr>\n",
       "      <th>2</th>\n",
       "      <td>FILE</td>\n",
       "      <td>172816</td>\n",
       "      <td>out-of-townish.exr</td>\n",
       "    </tr>\n",
       "    <tr>\n",
       "      <th>3</th>\n",
       "      <td>FILE</td>\n",
       "      <td>231184</td>\n",
       "      <td>beflagged.json</td>\n",
       "    </tr>\n",
       "    <tr>\n",
       "      <th>4</th>\n",
       "      <td>FILE</td>\n",
       "      <td>401168</td>\n",
       "      <td>headgate.xml</td>\n",
       "    </tr>\n",
       "    <tr>\n",
       "      <th>...</th>\n",
       "      <td>...</td>\n",
       "      <td>...</td>\n",
       "      <td>...</td>\n",
       "    </tr>\n",
       "    <tr>\n",
       "      <th>9830564</th>\n",
       "      <td>FILE</td>\n",
       "      <td>131072</td>\n",
       "      <td>r96-f243</td>\n",
       "    </tr>\n",
       "    <tr>\n",
       "      <th>9830565</th>\n",
       "      <td>FILE</td>\n",
       "      <td>131072</td>\n",
       "      <td>r168-f156</td>\n",
       "    </tr>\n",
       "    <tr>\n",
       "      <th>9830566</th>\n",
       "      <td>FILE</td>\n",
       "      <td>131072</td>\n",
       "      <td>r168-f222</td>\n",
       "    </tr>\n",
       "    <tr>\n",
       "      <th>9830567</th>\n",
       "      <td>FILE</td>\n",
       "      <td>131072</td>\n",
       "      <td>r108-f75</td>\n",
       "    </tr>\n",
       "    <tr>\n",
       "      <th>9830568</th>\n",
       "      <td>FILE</td>\n",
       "      <td>131072</td>\n",
       "      <td>r229-f47</td>\n",
       "    </tr>\n",
       "  </tbody>\n",
       "</table>\n",
       "<p>9830569 rows × 3 columns</p>\n",
       "</div>"
      ],
      "text/plain": [
       "        element_type    size                       name\n",
       "0               FILE  128609  NA19191.seg.called.merged\n",
       "1               FILE  182032               Theilman.mp4\n",
       "2               FILE  172816         out-of-townish.exr\n",
       "3               FILE  231184             beflagged.json\n",
       "4               FILE  401168               headgate.xml\n",
       "...              ...     ...                        ...\n",
       "9830564         FILE  131072                   r96-f243\n",
       "9830565         FILE  131072                  r168-f156\n",
       "9830566         FILE  131072                  r168-f222\n",
       "9830567         FILE  131072                   r108-f75\n",
       "9830568         FILE  131072                   r229-f47\n",
       "\n",
       "[9830569 rows x 3 columns]"
      ]
     },
     "execution_count": 60,
     "metadata": {},
     "output_type": "execute_result"
    }
   ],
   "source": [
    "field_names = ['element_type', 'size', 'name']\n",
    "predicate = \\\n",
    "    (_.element_type == 'FILE') & \\\n",
    "    ((_.size > 50000) & (_.size < 1000000)) # size between 50 KB and 1 MB\n",
    "\n",
    "with session.transaction() as tx:\n",
    "    table = tx.catalog().select(columns=field_names, predicate=predicate).read_all()\n",
    "    df = table.to_pandas()\n",
    "\n",
    "df"
   ]
  },
  {
   "cell_type": "markdown",
   "id": "89e13b22-f553-4297-97eb-4bbffa29dbb6",
   "metadata": {},
   "source": [
    "### Query for Large TABLE Objects by Specific Users\n"
   ]
  },
  {
   "cell_type": "code",
   "execution_count": 68,
   "id": "342c2c1d-125d-4bb2-a315-881097d54a2f",
   "metadata": {},
   "outputs": [
    {
     "data": {
      "text/html": [
       "<div>\n",
       "<style scoped>\n",
       "    .dataframe tbody tr th:only-of-type {\n",
       "        vertical-align: middle;\n",
       "    }\n",
       "\n",
       "    .dataframe tbody tr th {\n",
       "        vertical-align: top;\n",
       "    }\n",
       "\n",
       "    .dataframe thead th {\n",
       "        text-align: right;\n",
       "    }\n",
       "</style>\n",
       "<table border=\"1\" class=\"dataframe\">\n",
       "  <thead>\n",
       "    <tr style=\"text-align: right;\">\n",
       "      <th></th>\n",
       "      <th>uid</th>\n",
       "      <th>owner_name</th>\n",
       "      <th>size</th>\n",
       "      <th>element_type</th>\n",
       "    </tr>\n",
       "  </thead>\n",
       "  <tbody>\n",
       "    <tr>\n",
       "      <th>0</th>\n",
       "      <td>5102</td>\n",
       "      <td>Chris Snow</td>\n",
       "      <td>295359979974</td>\n",
       "      <td>TABLE</td>\n",
       "    </tr>\n",
       "    <tr>\n",
       "      <th>1</th>\n",
       "      <td>5102</td>\n",
       "      <td>Chris Snow</td>\n",
       "      <td>30638775201</td>\n",
       "      <td>TABLE</td>\n",
       "    </tr>\n",
       "    <tr>\n",
       "      <th>2</th>\n",
       "      <td>5102</td>\n",
       "      <td>Chris Snow</td>\n",
       "      <td>225006991</td>\n",
       "      <td>TABLE</td>\n",
       "    </tr>\n",
       "    <tr>\n",
       "      <th>3</th>\n",
       "      <td>5102</td>\n",
       "      <td>Chris Snow</td>\n",
       "      <td>193123235385</td>\n",
       "      <td>TABLE</td>\n",
       "    </tr>\n",
       "    <tr>\n",
       "      <th>4</th>\n",
       "      <td>5102</td>\n",
       "      <td>Chris Snow</td>\n",
       "      <td>144481791</td>\n",
       "      <td>TABLE</td>\n",
       "    </tr>\n",
       "  </tbody>\n",
       "</table>\n",
       "</div>"
      ],
      "text/plain": [
       "    uid  owner_name          size element_type\n",
       "0  5102  Chris Snow  295359979974        TABLE\n",
       "1  5102  Chris Snow   30638775201        TABLE\n",
       "2  5102  Chris Snow     225006991        TABLE\n",
       "3  5102  Chris Snow  193123235385        TABLE\n",
       "4  5102  Chris Snow     144481791        TABLE"
      ]
     },
     "execution_count": 68,
     "metadata": {},
     "output_type": "execute_result"
    }
   ],
   "source": [
    "field_names = ['uid', 'owner_name', 'size', 'element_type']\n",
    "predicate = \\\n",
    "    (_.uid == 5102) & \\\n",
    "    (_.element_type == 'TABLE') & \\\n",
    "    (_.size > 10000000) # greater than 10 MB\n",
    "\n",
    "\n",
    "with session.transaction() as tx:\n",
    "    table = tx.catalog().select(columns=field_names, predicate=predicate).read_all()\n",
    "    df = table.to_pandas()\n",
    "\n",
    "df"
   ]
  },
  {
   "cell_type": "markdown",
   "id": "f7c3f493-1c54-4854-915b-d4f0b205a10f",
   "metadata": {},
   "source": [
    "### Timestamp Filtering\n",
    "Query by birthdate: VAST uses a “creation_time” column to indicate when a new element is created:\n",
    "This will output all objects linked after noon on September 1st. It will not output files that have been moved to a new path.\n",
    "\n",
    "NOTE : Same method can be applied for acces-time (atime), modification-time (mtime) & metadata-update-times (ctime).\n"
   ]
  },
  {
   "cell_type": "code",
   "execution_count": 8,
   "id": "3879a1eb-0054-4f9d-bf82-56e2e28d7d36",
   "metadata": {
    "tags": []
   },
   "outputs": [
    {
     "name": "stdout",
     "output_type": "stream",
     "text": [
      "Objects created after 2025-01-01 12:00:01:\n"
     ]
    },
    {
     "data": {
      "text/plain": [
       "0                                                                                                                                                      /lukes3/small_16k/r96/d0/r96-f5\n",
       "1                                                                                                                                                    /lukes3/small_16k/r44/d3/r44-f115\n",
       "2                                                                                                                                                    /lukes3/small_16k/r14/d9/r14-f195\n",
       "3                                                                                                                                                    /lukes3/small_16k/r32/d8/r32-f212\n",
       "4                                                                                                                                                    /lukes3/small_16k/r94/d0/r94-f253\n",
       "                                                                                              ...                                                                                     \n",
       "4490756    /venable/deep_filesystem/subfolder_1/subfolder_2/subfolder_2/subfolder_2/subfolder_2/subfolder_1/subfolder_2/subfolder_1/subfolder_1/subfolder_1/subfolder_1/file_30544.txt\n",
       "4490757    /venable/deep_filesystem/subfolder_2/subfolder_2/subfolder_2/subfolder_2/subfolder_1/subfolder_2/subfolder_2/subfolder_1/subfolder_2/subfolder_2/subfolder_1/file_25566.txt\n",
       "4490758    /venable/deep_filesystem/subfolder_2/subfolder_1/subfolder_1/subfolder_1/subfolder_1/subfolder_1/subfolder_2/subfolder_2/subfolder_2/subfolder_1/subfolder_2/file_31592.txt\n",
       "4490759     /venable/deep_filesystem/subfolder_1/subfolder_1/subfolder_1/subfolder_1/subfolder_2/subfolder_1/subfolder_1/subfolder_1/subfolder_1/subfolder_2/subfolder_1/file_2372.txt\n",
       "4490760    /venable/deep_filesystem/subfolder_1/subfolder_2/subfolder_1/subfolder_2/subfolder_1/subfolder_2/subfolder_1/subfolder_2/subfolder_2/subfolder_2/subfolder_2/file_14637.txt\n",
       "Name: full_path, Length: 4490761, dtype: object"
      ]
     },
     "execution_count": 8,
     "metadata": {},
     "output_type": "execute_result"
    }
   ],
   "source": [
    "import pandas as pd\n",
    "from ibis import _\n",
    "\n",
    "# increase display width\n",
    "pd.set_option('display.max_colwidth', 1000)  # Limit string length to 1000 characters\n",
    "pd.set_option('display.width', 1000)  # Set the total display width to 1000 characters\n",
    "\n",
    "# Original timestamp filtering\n",
    "timestamp_birthdate = pd.Timestamp('2025-01-01 12:00:01')\n",
    "\n",
    "# Modern predicate approach\n",
    "predicate = (_.creation_time > timestamp_birthdate) \n",
    "\n",
    "field_names = ['creation_time', 'parent_path', 'name']\n",
    "\n",
    "with session.transaction() as tx:\n",
    "    table = tx.catalog().select(\n",
    "        columns=field_names,\n",
    "        predicate=predicate\n",
    "    ).read_all()\n",
    "    \n",
    "    df = table.to_pandas()\n",
    "    \n",
    "# Add full path column\n",
    "df['full_path'] = df['parent_path'] + df['name']\n",
    "\n",
    "# Display results\n",
    "print(\"Objects created after 2025-01-01 12:00:01:\")\n",
    "df['full_path']"
   ]
  },
  {
   "cell_type": "markdown",
   "id": "06619495-76dd-4a59-bb03-b59263a021b6",
   "metadata": {},
   "source": [
    "### Reporting\n",
    "Simple queries to tell you basic statistics on a section of the namespace\n",
    "Report statistics on parts of the namespace - Summarizing files of a certain type (FILE), belonging to a specific user (uid=555), and located in a certain path (/parquet-files-bucket).\n",
    "\n",
    "The previous query returned:\n",
    "\n",
    "```\n",
    "Objects created after 2025-01-01 12:00:01:\n",
    "\n",
    "0  /lukes3/small_16k/r96/d0/r96-f5\n",
    "1  /lukes3/small_16k/r44/d3/r44-f115\n",
    "...\n",
    "```\n",
    "\n",
    "Let's use the `/lukes3` search path."
   ]
  },
  {
   "cell_type": "code",
   "execution_count": 12,
   "id": "9b56e481-bd85-4bdf-860a-e84a052c60d6",
   "metadata": {
    "tags": []
   },
   "outputs": [
    {
     "name": "stdout",
     "output_type": "stream",
     "text": [
      "Aggregated Results:\n",
      "{'users': '1', 'Files': '655,360', 'KB_Used': '10,737,418', 'Avg_Size_KB': '16.38'}\n"
     ]
    }
   ],
   "source": [
    "import numpy as np\n",
    "\n",
    "predicate = (_.search_path == '/lukes3') & (_.element_type == 'FILE')\n",
    "field_names = ['uid', 'used', 'size']\n",
    "\n",
    "with session.transaction() as tx:\n",
    "    table = tx.catalog().select(\n",
    "        columns=field_names,\n",
    "        predicate=predicate\n",
    "    ).read_all()\n",
    "    df = table.to_pandas()\n",
    "\n",
    "if df.empty:\n",
    "    print(\"No data returned from query. Please check filters and field names.\")\n",
    "else:\n",
    "    formatted_results = {\n",
    "        'users': f\"{df['uid'].nunique():,d}\",\n",
    "        'Files': f\"{len(df):,d}\",\n",
    "        'KB_Used': f\"{(df['used'].sum() / 1000):,.0f}\",\n",
    "        'Avg_Size_KB': f\"{(df['size'].mean() / 1000):,.2f}\"\n",
    "    }\n",
    "    print(\"Aggregated Results:\")\n",
    "    print(formatted_results)"
   ]
  },
  {
   "cell_type": "markdown",
   "id": "3950611c-084d-44fc-9663-ac72c1a2d5fe",
   "metadata": {},
   "source": [
    "### Capacity Grouping & Usage report\n",
    "Here’s a report on all the users on the system:\n",
    "Get Files across whole system('/'), group by owner_name, sum files, total and average size in kilobytes, oldest creation time, and most recent access time for each file owner.\n",
    "Note - display is a IPython function which aggregates results in table format\n"
   ]
  },
  {
   "cell_type": "code",
   "execution_count": 14,
   "id": "5e79f3de-a52b-4154-85dc-540deed1b05f",
   "metadata": {
    "tags": []
   },
   "outputs": [
    {
     "data": {
      "text/html": [
       "<div>\n",
       "<style scoped>\n",
       "    .dataframe tbody tr th:only-of-type {\n",
       "        vertical-align: middle;\n",
       "    }\n",
       "\n",
       "    .dataframe tbody tr th {\n",
       "        vertical-align: top;\n",
       "    }\n",
       "\n",
       "    .dataframe thead th {\n",
       "        text-align: right;\n",
       "    }\n",
       "</style>\n",
       "<table border=\"1\" class=\"dataframe\">\n",
       "  <thead>\n",
       "    <tr style=\"text-align: right;\">\n",
       "      <th></th>\n",
       "      <th>Files</th>\n",
       "      <th>KB_Used</th>\n",
       "      <th>Avg_Size_KB</th>\n",
       "      <th>Oldest_data</th>\n",
       "      <th>Last_access</th>\n",
       "    </tr>\n",
       "    <tr>\n",
       "      <th>owner_name</th>\n",
       "      <th></th>\n",
       "      <th></th>\n",
       "      <th></th>\n",
       "      <th></th>\n",
       "      <th></th>\n",
       "    </tr>\n",
       "  </thead>\n",
       "  <tbody>\n",
       "    <tr>\n",
       "      <th>0</th>\n",
       "      <td>15,471,800</td>\n",
       "      <td>14,186,299,798</td>\n",
       "      <td>916.91</td>\n",
       "      <td>2024-11-13 01:24:02.260109671</td>\n",
       "      <td>2025-01-22 03:38:06.346023569</td>\n",
       "    </tr>\n",
       "    <tr>\n",
       "      <th>65534</th>\n",
       "      <td>161</td>\n",
       "      <td>171,798,692</td>\n",
       "      <td>1,067,072.62</td>\n",
       "      <td>2024-12-19 12:48:08.385283415</td>\n",
       "      <td>2024-12-23 15:19:24.340852233</td>\n",
       "    </tr>\n",
       "    <tr>\n",
       "      <th>Chris Snow</th>\n",
       "      <td>291</td>\n",
       "      <td>24,002,206</td>\n",
       "      <td>82,481.81</td>\n",
       "      <td>2024-11-19 12:53:55.710455713</td>\n",
       "      <td>2024-12-09 16:32:40.094875938</td>\n",
       "    </tr>\n",
       "    <tr>\n",
       "      <th>David Petika</th>\n",
       "      <td>70</td>\n",
       "      <td>219</td>\n",
       "      <td>3.13</td>\n",
       "      <td>2024-11-13 12:02:56.050907794</td>\n",
       "      <td>2024-12-24 16:11:46.504352451</td>\n",
       "    </tr>\n",
       "    <tr>\n",
       "      <th>Edwin Nadar</th>\n",
       "      <td>1</td>\n",
       "      <td>0</td>\n",
       "      <td>0.01</td>\n",
       "      <td>2025-01-16 09:24:52.648151168</td>\n",
       "      <td>2025-01-16 09:24:52.668121034</td>\n",
       "    </tr>\n",
       "    <tr>\n",
       "      <th>...</th>\n",
       "      <td>...</td>\n",
       "      <td>...</td>\n",
       "      <td>...</td>\n",
       "      <td>...</td>\n",
       "      <td>...</td>\n",
       "    </tr>\n",
       "    <tr>\n",
       "      <th>vperfsanity-james</th>\n",
       "      <td>71,072</td>\n",
       "      <td>54,768,920</td>\n",
       "      <td>770.61</td>\n",
       "      <td>2024-11-12 20:54:25.382017166</td>\n",
       "      <td>2024-11-12 17:13:30.648724050</td>\n",
       "    </tr>\n",
       "    <tr>\n",
       "      <th>vperfsanity-sven</th>\n",
       "      <td>126,440</td>\n",
       "      <td>96,829,335</td>\n",
       "      <td>765.81</td>\n",
       "      <td>2024-11-12 21:03:31.871820181</td>\n",
       "      <td>2024-11-12 17:48:59.729557892</td>\n",
       "    </tr>\n",
       "    <tr>\n",
       "      <th>wcash-flow</th>\n",
       "      <td>146,852</td>\n",
       "      <td>113,762,566</td>\n",
       "      <td>774.67</td>\n",
       "      <td>2024-11-12 18:41:59.497452192</td>\n",
       "      <td>2024-11-12 18:36:38.979644341</td>\n",
       "    </tr>\n",
       "    <tr>\n",
       "      <th>wong.tran-flow</th>\n",
       "      <td>117,288</td>\n",
       "      <td>90,381,655</td>\n",
       "      <td>770.60</td>\n",
       "      <td>2024-11-12 23:38:24.134942342</td>\n",
       "      <td>2024-11-12 18:05:46.249753724</td>\n",
       "    </tr>\n",
       "    <tr>\n",
       "      <th>yogi.berra-flow</th>\n",
       "      <td>12,372</td>\n",
       "      <td>9,464,880</td>\n",
       "      <td>765.02</td>\n",
       "      <td>2024-11-12 19:10:25.253624458</td>\n",
       "      <td>2024-11-12 18:12:11.261864289</td>\n",
       "    </tr>\n",
       "  </tbody>\n",
       "</table>\n",
       "<p>174 rows × 5 columns</p>\n",
       "</div>"
      ],
      "text/plain": [
       "                        Files         KB_Used   Avg_Size_KB                   Oldest_data                   Last_access\n",
       "owner_name                                                                                                             \n",
       "0                  15,471,800  14,186,299,798        916.91 2024-11-13 01:24:02.260109671 2025-01-22 03:38:06.346023569\n",
       "65534                     161     171,798,692  1,067,072.62 2024-12-19 12:48:08.385283415 2024-12-23 15:19:24.340852233\n",
       "Chris Snow                291      24,002,206     82,481.81 2024-11-19 12:53:55.710455713 2024-12-09 16:32:40.094875938\n",
       "David Petika               70             219          3.13 2024-11-13 12:02:56.050907794 2024-12-24 16:11:46.504352451\n",
       "Edwin Nadar                 1               0          0.01 2025-01-16 09:24:52.648151168 2025-01-16 09:24:52.668121034\n",
       "...                       ...             ...           ...                           ...                           ...\n",
       "vperfsanity-james      71,072      54,768,920        770.61 2024-11-12 20:54:25.382017166 2024-11-12 17:13:30.648724050\n",
       "vperfsanity-sven      126,440      96,829,335        765.81 2024-11-12 21:03:31.871820181 2024-11-12 17:48:59.729557892\n",
       "wcash-flow            146,852     113,762,566        774.67 2024-11-12 18:41:59.497452192 2024-11-12 18:36:38.979644341\n",
       "wong.tran-flow        117,288      90,381,655        770.60 2024-11-12 23:38:24.134942342 2024-11-12 18:05:46.249753724\n",
       "yogi.berra-flow        12,372       9,464,880        765.02 2024-11-12 19:10:25.253624458 2024-11-12 18:12:11.261864289\n",
       "\n",
       "[174 rows x 5 columns]"
      ]
     },
     "metadata": {},
     "output_type": "display_data"
    }
   ],
   "source": [
    "from IPython.display import display\n",
    "import pandas as pd\n",
    "import numpy as np\n",
    "\n",
    "predicate = (_.element_type == 'FILE') & (_.search_path == '/')\n",
    "field_names = ['owner_name', 'used', 'size', 'creation_time', 'atime']\n",
    "\n",
    "with session.transaction() as tx:\n",
    "    table = tx.catalog().select(\n",
    "        columns=field_names,\n",
    "        predicate=predicate\n",
    "    ).read_all()\n",
    "    df = table.to_pandas()\n",
    "\n",
    "pd.options.display.max_columns = None\n",
    "\n",
    "aggregated_data = df.groupby('owner_name').agg(\n",
    "    Files=('owner_name', 'count'),\n",
    "    KB_Used=('used', lambda x: np.sum(x)/1000),\n",
    "    Avg_Size_KB=('size', lambda x: np.mean(x)/1000),\n",
    "    Oldest_data=('creation_time', 'min'),\n",
    "    Last_access=('atime', 'max')\n",
    ")\n",
    "\n",
    "# Format numeric columns separately\n",
    "aggregated_data['Files'] = aggregated_data['Files'].map(lambda x: f\"{int(x):,d}\")\n",
    "aggregated_data['KB_Used'] = aggregated_data['KB_Used'].map(lambda x: f\"{x:,.0f}\")\n",
    "aggregated_data['Avg_Size_KB'] = aggregated_data['Avg_Size_KB'].map(lambda x: f\"{x:,.2f}\")\n",
    "\n",
    "display(aggregated_data)"
   ]
  },
  {
   "cell_type": "markdown",
   "id": "dac5ca1b-cfde-4d23-9bd3-aed0796a01cd",
   "metadata": {},
   "source": [
    "# TODO: This example needs to be improved.  \n",
    "\n",
    "See: https://github.com/snowch/vast-docker-compose-examples/issues/11"
   ]
  },
  {
   "cell_type": "markdown",
   "id": "3e535344-5ecc-4df9-b152-3b212543647e",
   "metadata": {},
   "source": [
    "### Catalog Snapshots Comparisons\n",
    "You can access catalog snapshot by navigating the schema space.\n",
    "The most obvious use of snapshot comparisons is delete detection, followed by move detection.\n",
    "Delete detection\n",
    "Query Returns: This script compares the current state with a specific historical snapshot, identifying files present in the current table but not in the snapshot, based on their element_type and search_path.\n",
    "Access to Snapshot: Access to a snapshot works by querying a specific schema directory (representing the snapshot) within the bucket\n"
   ]
  },
  {
   "cell_type": "code",
   "execution_count": 31,
   "id": "04fd9964-9c88-4639-bc66-79fbf89b040a",
   "metadata": {},
   "outputs": [
    {
     "name": "stdout",
     "output_type": "stream",
     "text": [
      "vast-big-catalog-bucket/.snapshot/bc_table_2025-01-22_21_08_29\n",
      "vast-big-catalog-bucket/.snapshot/bc_table_2025-01-22_21_13_29\n",
      "vast-big-catalog-bucket/.snapshot/bc_table_2025-01-22_21_18_29\n",
      "vast-big-catalog-bucket/.snapshot/bc_table_2025-01-22_21_23_29\n",
      "vast-big-catalog-bucket/.snapshot/bc_table_2025-01-22_21_28_29\n",
      "vast-big-catalog-bucket/.snapshot/bc_table_2025-01-22_21_33_29\n",
      "vast-big-catalog-bucket/.snapshot/bc_table_2025-01-22_21_38_29\n",
      "vast-big-catalog-bucket/.snapshot/bc_table_2025-01-22_21_43_29\n",
      "vast-big-catalog-bucket/.snapshot/bc_table_2025-01-22_21_48_29\n",
      "vast-big-catalog-bucket/.snapshot/bc_table_2025-01-22_21_53_29\n",
      "vast-big-catalog-bucket/.snapshot/bc_table_2025-01-22_21_58_29\n",
      "vast-big-catalog-bucket/.snapshot/bc_table_2025-01-22_22_03_29\n",
      "vast-big-catalog-bucket/.snapshot/beckie_internal_snap-2025-01-22_21_58_29\n",
      "vast-big-catalog-bucket/.snapshot/beckie_internal_snap-2025-01-22_22_03_29\n",
      "vast-big-catalog-bucket/.snapshot/big_catalog_2025-01-22_18_08_29_UTC\n",
      "vast-big-catalog-bucket/.snapshot/big_catalog_2025-01-22_18_13_29_UTC\n",
      "vast-big-catalog-bucket/.snapshot/big_catalog_2025-01-22_18_18_29_UTC\n",
      "vast-big-catalog-bucket/.snapshot/big_catalog_2025-01-22_18_23_29_UTC\n",
      "vast-big-catalog-bucket/.snapshot/big_catalog_2025-01-22_18_28_29_UTC\n",
      "vast-big-catalog-bucket/.snapshot/big_catalog_2025-01-22_18_33_29_UTC\n",
      "vast-big-catalog-bucket/.snapshot/big_catalog_2025-01-22_18_38_29_UTC\n",
      "vast-big-catalog-bucket/.snapshot/big_catalog_2025-01-22_18_43_29_UTC\n",
      "vast-big-catalog-bucket/.snapshot/big_catalog_2025-01-22_18_48_29_UTC\n",
      "vast-big-catalog-bucket/.snapshot/big_catalog_2025-01-22_18_53_29_UTC\n",
      "vast-big-catalog-bucket/.snapshot/big_catalog_2025-01-22_18_58_29_UTC\n",
      "vast-big-catalog-bucket/.snapshot/big_catalog_2025-01-22_19_03_29_UTC\n",
      "vast-big-catalog-bucket/.snapshot/big_catalog_2025-01-22_19_08_29_UTC\n",
      "vast-big-catalog-bucket/.snapshot/big_catalog_2025-01-22_19_13_29_UTC\n",
      "vast-big-catalog-bucket/.snapshot/big_catalog_2025-01-22_19_18_29_UTC\n",
      "vast-big-catalog-bucket/.snapshot/big_catalog_2025-01-22_19_23_29_UTC\n",
      "vast-big-catalog-bucket/.snapshot/big_catalog_2025-01-22_19_28_29_UTC\n",
      "vast-big-catalog-bucket/.snapshot/big_catalog_2025-01-22_19_33_29_UTC\n",
      "vast-big-catalog-bucket/.snapshot/big_catalog_2025-01-22_19_38_29_UTC\n",
      "vast-big-catalog-bucket/.snapshot/big_catalog_2025-01-22_19_43_29_UTC\n",
      "vast-big-catalog-bucket/.snapshot/big_catalog_2025-01-22_19_48_29_UTC\n",
      "vast-big-catalog-bucket/.snapshot/big_catalog_2025-01-22_19_53_29_UTC\n",
      "vast-big-catalog-bucket/.snapshot/big_catalog_2025-01-22_19_58_29_UTC\n",
      "vast-big-catalog-bucket/.snapshot/big_catalog_2025-01-22_20_03_29_UTC\n",
      "vast-big-catalog-bucket/.snapshot/big_catalog_2025-01-22_20_08_29_UTC\n",
      "vast-big-catalog-bucket/.snapshot/big_catalog_2025-01-22_20_13_29_UTC\n",
      "vast-big-catalog-bucket/.snapshot/big_catalog_2025-01-22_20_18_29_UTC\n",
      "vast-big-catalog-bucket/.snapshot/big_catalog_2025-01-22_20_23_29_UTC\n",
      "vast-big-catalog-bucket/.snapshot/big_catalog_2025-01-22_20_28_29_UTC\n",
      "vast-big-catalog-bucket/.snapshot/big_catalog_2025-01-22_20_33_29_UTC\n",
      "vast-big-catalog-bucket/.snapshot/big_catalog_2025-01-22_20_38_29_UTC\n",
      "vast-big-catalog-bucket/.snapshot/big_catalog_2025-01-22_20_43_29_UTC\n",
      "vast-big-catalog-bucket/.snapshot/big_catalog_2025-01-22_20_48_29_UTC\n",
      "vast-big-catalog-bucket/.snapshot/big_catalog_2025-01-22_20_53_29_UTC\n",
      "vast-big-catalog-bucket/.snapshot/big_catalog_2025-01-22_20_58_29_UTC\n",
      "vast-big-catalog-bucket/.snapshot/big_catalog_2025-01-22_21_03_29_UTC\n",
      "vast-big-catalog-bucket/.snapshot/big_catalog_2025-01-22_21_08_29_UTC\n",
      "vast-big-catalog-bucket/.snapshot/big_catalog_2025-01-22_21_13_29_UTC\n",
      "vast-big-catalog-bucket/.snapshot/big_catalog_2025-01-22_21_18_29_UTC\n",
      "vast-big-catalog-bucket/.snapshot/big_catalog_2025-01-22_21_23_29_UTC\n",
      "vast-big-catalog-bucket/.snapshot/big_catalog_2025-01-22_21_28_29_UTC\n",
      "vast-big-catalog-bucket/.snapshot/big_catalog_2025-01-22_21_33_29_UTC\n",
      "vast-big-catalog-bucket/.snapshot/big_catalog_2025-01-22_21_38_29_UTC\n",
      "vast-big-catalog-bucket/.snapshot/big_catalog_2025-01-22_21_43_29_UTC\n",
      "vast-big-catalog-bucket/.snapshot/big_catalog_2025-01-22_21_48_29_UTC\n",
      "vast-big-catalog-bucket/.snapshot/big_catalog_2025-01-22_21_53_29_UTC\n",
      "vast-big-catalog-bucket/.snapshot/big_catalog_2025-01-22_21_58_29_UTC\n",
      "vast-big-catalog-bucket/.snapshot/big_catalog_2025-01-22_22_03_29_UTC\n",
      "62\n"
     ]
    }
   ],
   "source": [
    "with session.transaction() as tx:\n",
    "    snapshots = tx.catalog_snapshots()\n",
    "    for snapshot in snapshots:\n",
    "        print(snapshot.name)"
   ]
  },
  {
   "cell_type": "code",
   "execution_count": 45,
   "id": "dba3bd39-21c6-4420-963d-e7f5af9496cd",
   "metadata": {},
   "outputs": [
    {
     "name": "stdout",
     "output_type": "stream",
     "text": [
      "First snapshot: 2025-01-22 18:08:29 vast-big-catalog-bucket/.snapshot/bc_table_2025-01-22_21_08_29\n",
      "Last snapshot: 2025-01-22 22:03:29 vast-big-catalog-bucket/.snapshot/big_catalog_2025-01-22_22_03_29_UTC\n"
     ]
    }
   ],
   "source": [
    "import re\n",
    "\n",
    "timestamp_pattern = r\"(\\d{4}-\\d{2}-\\d{2}_\\d{2}_\\d{2}_\\d{2})\"\n",
    "timestamps = []\n",
    "\n",
    "for snapshot in snapshots:\n",
    "    match = re.search(timestamp_pattern, snapshot.name)\n",
    "    if match:\n",
    "        timestamps.append(match.group(1))\n",
    "\n",
    "# Convert to datetime objects for sorting\n",
    "datetime_timestamps = [datetime.strptime(ts, \"%Y-%m-%d_%H_%M_%S\") for ts in timestamps]\n",
    "\n",
    "# Get the first and last dates\n",
    "first_date = min(datetime_timestamps)\n",
    "last_date = max(datetime_timestamps)\n",
    "\n",
    "print(\"First snapshot:\", first_date, snapshots[0].name)\n",
    "print(\"Last snapshot:\", last_date, snapshots[-1].name)"
   ]
  },
  {
   "cell_type": "code",
   "execution_count": 56,
   "id": "663a4203-8b6b-41e3-828e-8393a8943ba8",
   "metadata": {},
   "outputs": [],
   "source": [
    "import time\n",
    "from datetime import datetime\n",
    "from ibis import _\n",
    "\n",
    "# TODO: move to with tx\n",
    "date_obj = first_date\n",
    "epoch_seconds = int(date_obj.timestamp())\n",
    "\n",
    "def query_table():\n",
    "\n",
    "    with session.transaction() as tx:\n",
    "        snapshots = tx.catalog_snapshots()\n",
    "\n",
    "        predicate_0 = (_.element_type == 'FILE') & \\\n",
    "                    (_.search_path == '/') & \\\n",
    "                    (_.mtime <= ibis.literal(epoch_seconds, type='timestamp'))\n",
    "        \n",
    "        predicate_1 = (_.element_type == 'FILE') & \\\n",
    "                    (_.search_path == '/') & \\\n",
    "                    (_.mtime > ibis.literal(epoch_seconds, type='timestamp'))\n",
    "        \n",
    "        columns = ['parent_path', 'name']\n",
    "\n",
    "        if len(snapshots) < 2:\n",
    "            raise Exception(f\"Need at least two snapshots. Found {len(snapshots)}\")\n",
    "\n",
    "        df_0 = tx.catalog(snapshot=snapshots[0]).select(columns=columns, predicate=predicate_0).read_all().to_pandas()\n",
    "        df_1 = tx.catalog(snapshot=snapshots[-1]).select(columns=columns, predicate=predicate_1).read_all().to_pandas()\n",
    "\n",
    "    return df_0, df_1\n"
   ]
  },
  {
   "cell_type": "code",
   "execution_count": 57,
   "id": "62496d86-dec5-47b4-ad89-4aa58f428105",
   "metadata": {},
   "outputs": [],
   "source": [
    "df_0, df_1 = query_table()"
   ]
  },
  {
   "cell_type": "code",
   "execution_count": 58,
   "id": "639a381a-ee1f-41af-970d-e182dbe9f31b",
   "metadata": {},
   "outputs": [
    {
     "data": {
      "text/html": [
       "<div>\n",
       "<style scoped>\n",
       "    .dataframe tbody tr th:only-of-type {\n",
       "        vertical-align: middle;\n",
       "    }\n",
       "\n",
       "    .dataframe tbody tr th {\n",
       "        vertical-align: top;\n",
       "    }\n",
       "\n",
       "    .dataframe thead th {\n",
       "        text-align: right;\n",
       "    }\n",
       "</style>\n",
       "<table border=\"1\" class=\"dataframe\">\n",
       "  <thead>\n",
       "    <tr style=\"text-align: right;\">\n",
       "      <th></th>\n",
       "      <th>parent_path</th>\n",
       "      <th>name</th>\n",
       "    </tr>\n",
       "  </thead>\n",
       "  <tbody>\n",
       "    <tr>\n",
       "      <th>0</th>\n",
       "      <td>/dm/s3/endpoint/dm02/r1/d4/</td>\n",
       "      <td>r1-f5141</td>\n",
       "    </tr>\n",
       "    <tr>\n",
       "      <th>1</th>\n",
       "      <td>/dm/s3/endpoint/dm02/r48/d3/</td>\n",
       "      <td>r48-f3212</td>\n",
       "    </tr>\n",
       "    <tr>\n",
       "      <th>2</th>\n",
       "      <td>/dm/s3/endpoint/dm01/r57/d0/</td>\n",
       "      <td>r57-f3403</td>\n",
       "    </tr>\n",
       "    <tr>\n",
       "      <th>3</th>\n",
       "      <td>/scotth/shb1/X1kib/r23/d3/</td>\n",
       "      <td>r23-f30</td>\n",
       "    </tr>\n",
       "    <tr>\n",
       "      <th>4</th>\n",
       "      <td>/dm/s3/endpoint/dm04/r13/d1/</td>\n",
       "      <td>r13-f2549</td>\n",
       "    </tr>\n",
       "    <tr>\n",
       "      <th>...</th>\n",
       "      <td>...</td>\n",
       "      <td>...</td>\n",
       "    </tr>\n",
       "    <tr>\n",
       "      <th>84594047</th>\n",
       "      <td>/sven/jan_test/elbencho/r10/d0/</td>\n",
       "      <td>r10-f6</td>\n",
       "    </tr>\n",
       "    <tr>\n",
       "      <th>84594048</th>\n",
       "      <td>/sven/jan_test/elbencho/r21/d0/</td>\n",
       "      <td>r21-f4</td>\n",
       "    </tr>\n",
       "    <tr>\n",
       "      <th>84594049</th>\n",
       "      <td>/sven/jan_test/elbencho/r74/d0/</td>\n",
       "      <td>r74-f7</td>\n",
       "    </tr>\n",
       "    <tr>\n",
       "      <th>84594050</th>\n",
       "      <td>/sven/jan_test/elbencho/r87/d0/</td>\n",
       "      <td>r87-f5</td>\n",
       "    </tr>\n",
       "    <tr>\n",
       "      <th>84594051</th>\n",
       "      <td>/sven/jan_test/elbencho/r64/d0/</td>\n",
       "      <td>r64-f3</td>\n",
       "    </tr>\n",
       "  </tbody>\n",
       "</table>\n",
       "<p>84594052 rows × 2 columns</p>\n",
       "</div>"
      ],
      "text/plain": [
       "                              parent_path       name\n",
       "0             /dm/s3/endpoint/dm02/r1/d4/   r1-f5141\n",
       "1            /dm/s3/endpoint/dm02/r48/d3/  r48-f3212\n",
       "2            /dm/s3/endpoint/dm01/r57/d0/  r57-f3403\n",
       "3              /scotth/shb1/X1kib/r23/d3/    r23-f30\n",
       "4            /dm/s3/endpoint/dm04/r13/d1/  r13-f2549\n",
       "...                                   ...        ...\n",
       "84594047  /sven/jan_test/elbencho/r10/d0/     r10-f6\n",
       "84594048  /sven/jan_test/elbencho/r21/d0/     r21-f4\n",
       "84594049  /sven/jan_test/elbencho/r74/d0/     r74-f7\n",
       "84594050  /sven/jan_test/elbencho/r87/d0/     r87-f5\n",
       "84594051  /sven/jan_test/elbencho/r64/d0/     r64-f3\n",
       "\n",
       "[84594052 rows x 2 columns]"
      ]
     },
     "execution_count": 58,
     "metadata": {},
     "output_type": "execute_result"
    }
   ],
   "source": [
    "df_0"
   ]
  },
  {
   "cell_type": "code",
   "execution_count": 59,
   "id": "ba93866c-72db-4583-97d3-9f5138ab44e9",
   "metadata": {},
   "outputs": [
    {
     "data": {
      "text/html": [
       "<div>\n",
       "<style scoped>\n",
       "    .dataframe tbody tr th:only-of-type {\n",
       "        vertical-align: middle;\n",
       "    }\n",
       "\n",
       "    .dataframe tbody tr th {\n",
       "        vertical-align: top;\n",
       "    }\n",
       "\n",
       "    .dataframe thead th {\n",
       "        text-align: right;\n",
       "    }\n",
       "</style>\n",
       "<table border=\"1\" class=\"dataframe\">\n",
       "  <thead>\n",
       "    <tr style=\"text-align: right;\">\n",
       "      <th></th>\n",
       "      <th>parent_path</th>\n",
       "      <th>name</th>\n",
       "    </tr>\n",
       "  </thead>\n",
       "  <tbody>\n",
       "  </tbody>\n",
       "</table>\n",
       "</div>"
      ],
      "text/plain": [
       "Empty DataFrame\n",
       "Columns: [parent_path, name]\n",
       "Index: []"
      ]
     },
     "execution_count": 59,
     "metadata": {},
     "output_type": "execute_result"
    }
   ],
   "source": [
    "df_1"
   ]
  },
  {
   "cell_type": "code",
   "execution_count": null,
   "id": "55d8d6b0-df01-4179-a931-ebfebcfd40fe",
   "metadata": {},
   "outputs": [],
   "source": [
    "paths_0 = set(df_0['parent_path'] + df_0['name'])\n",
    "paths_1 = set(df_1['parent_path'] + df_1['name'])\n",
    "\n",
    "differences = paths_0 - paths_1\n",
    "differences"
   ]
  },
  {
   "cell_type": "code",
   "execution_count": null,
   "id": "3ce8563b-272b-454b-96c2-2a4ecae69ee2",
   "metadata": {},
   "outputs": [],
   "source": [
    "if differences:\n",
    "    print(f\"\\n[INFO] Found {len(differences)} files in first snapshot but not in second:\")\n",
    "    for item in sorted(differences):\n",
    "        print(item)\n",
    "else:\n",
    "    print(\"\\n[INFO] No differences found\")"
   ]
  },
  {
   "cell_type": "code",
   "execution_count": null,
   "id": "737210f9-a083-4a11-b9cf-4798b3d3da93",
   "metadata": {},
   "outputs": [],
   "source": []
  }
 ],
 "metadata": {
  "kernelspec": {
   "display_name": "Python 3 (ipykernel)",
   "language": "python",
   "name": "python3"
  },
  "language_info": {
   "codemirror_mode": {
    "name": "ipython",
    "version": 3
   },
   "file_extension": ".py",
   "mimetype": "text/x-python",
   "name": "python",
   "nbconvert_exporter": "python",
   "pygments_lexer": "ipython3",
   "version": "3.11.10"
  }
 },
 "nbformat": 4,
 "nbformat_minor": 5
}

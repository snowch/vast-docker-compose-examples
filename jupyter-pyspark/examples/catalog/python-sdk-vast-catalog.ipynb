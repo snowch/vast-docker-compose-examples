{
 "cells": [
  {
   "cell_type": "markdown",
   "id": "55877738",
   "metadata": {},
   "source": [
    "# Catalog - Python SDK Examples"
   ]
  },
  {
   "cell_type": "code",
   "execution_count": 1,
   "id": "e32e952e",
   "metadata": {},
   "outputs": [],
   "source": [
    "!pip install --quiet vastdb"
   ]
  },
  {
   "cell_type": "markdown",
   "id": "74bf128e-5b91-41e0-965b-7769192363b0",
   "metadata": {},
   "source": [
    "## S3 Metadata (Tags)"
   ]
  },
  {
   "cell_type": "code",
   "execution_count": 2,
   "id": "5b61ebd5-8561-4a04-ba30-386a4e0945aa",
   "metadata": {
    "tags": []
   },
   "outputs": [],
   "source": [
    "! s3cmd_configure.sh # custom script to setup s3cmd connection detail"
   ]
  },
  {
   "cell_type": "code",
   "execution_count": 3,
   "id": "86b4711e-0f5f-41a9-98ae-ab4c645b97c6",
   "metadata": {},
   "outputs": [
    {
     "name": "stdout",
     "output_type": "stream",
     "text": [
      "2025-01-22 14:57    481274128  s3://csnow-bucket/nyt/yellow_tripdata_2009-01.parquet\n",
      "2024-12-09 15:54    458846485  s3://csnow-bucket/nyt/yellow_tripdata_2009-02.parquet\n",
      "2024-12-09 15:55    498225013  s3://csnow-bucket/nyt/yellow_tripdata_2009-03.parquet\n",
      "2024-12-09 15:56    494119681  s3://csnow-bucket/nyt/yellow_tripdata_2009-04.parquet\n",
      "2024-12-09 15:56    515203538  s3://csnow-bucket/nyt/yellow_tripdata_2009-05.parquet\n",
      "2024-12-09 15:57    491071155  s3://csnow-bucket/nyt/yellow_tripdata_2009-06.parquet\n",
      "2024-12-09 15:57    471955931  s3://csnow-bucket/nyt/yellow_tripdata_2009-07.parquet\n",
      "2024-12-09 15:58    477035993  s3://csnow-bucket/nyt/yellow_tripdata_2009-08.parquet\n",
      "2024-12-09 15:58    488439674  s3://csnow-bucket/nyt/yellow_tripdata_2009-09.parquet\n",
      "2024-12-09 15:59    543738743  s3://csnow-bucket/nyt/yellow_tripdata_2009-10.parquet\n"
     ]
    }
   ],
   "source": [
    "! s3cmd ls s3://csnow-bucket/nyt/ | awk 'NR<=10' # just show a few rows (10)"
   ]
  },
  {
   "cell_type": "markdown",
   "id": "4cb7f9b6-37e4-4a11-bcc7-a74d4050c01a",
   "metadata": {},
   "source": [
    "### Remove previous user tags"
   ]
  },
  {
   "cell_type": "code",
   "execution_count": 4,
   "id": "799a9aa7-6664-47a0-84a3-ba1f82dfe318",
   "metadata": {},
   "outputs": [
    {
     "name": "stdout",
     "output_type": "stream",
     "text": [
      "modify: 's3://csnow-bucket/nyt/yellow_tripdata_2009-01.parquet'  [1 of 1]\n"
     ]
    }
   ],
   "source": [
    "! s3cmd modify --remove-header='x-amz-meta-foo' s3://csnow-bucket/nyt/yellow_tripdata_2009-01.parquet"
   ]
  },
  {
   "cell_type": "code",
   "execution_count": 5,
   "id": "3d730414-3e0e-4cf0-973d-c35c13a0d107",
   "metadata": {},
   "outputs": [
    {
     "name": "stdout",
     "output_type": "stream",
     "text": [
      "s3://csnow-bucket/nyt/yellow_tripdata_2009-01.parquet (object):\n",
      "   File size: 481274128\n",
      "   Last mod:  Wed, 22 Jan 2025 15:52:43 GMT\n",
      "   MIME type: binary/octet-stream\n",
      "   Storage:   STANDARD\n",
      "   MD5 sum:   d41d8cd98f00b204e9800998ecf8427e-58\n",
      "   SSE:       none\n",
      "   Policy:    none\n",
      "   CORS:      none\n",
      "   ACL:       Chris Snow: FULL_CONTROL\n"
     ]
    }
   ],
   "source": [
    "! s3cmd info s3://csnow-bucket/nyt/yellow_tripdata_2009-01.parquet"
   ]
  },
  {
   "cell_type": "markdown",
   "id": "fae3669f-311f-4f34-a3f8-ad7d9097ef5b",
   "metadata": {},
   "source": [
    "### Add user tags"
   ]
  },
  {
   "cell_type": "code",
   "execution_count": 6,
   "id": "6ef8e089-6caf-4e8d-912b-2c32a0d9bb56",
   "metadata": {},
   "outputs": [
    {
     "name": "stdout",
     "output_type": "stream",
     "text": [
      "modify: 's3://csnow-bucket/nyt/yellow_tripdata_2009-01.parquet'  [1 of 1]\n"
     ]
    }
   ],
   "source": [
    "! s3cmd modify --add-header=x-amz-meta-foo:bar s3://csnow-bucket/nyt/yellow_tripdata_2009-01.parquet"
   ]
  },
  {
   "cell_type": "code",
   "execution_count": 7,
   "id": "515c124e-c158-4fce-bd28-a7782782861f",
   "metadata": {},
   "outputs": [
    {
     "name": "stdout",
     "output_type": "stream",
     "text": [
      "s3://csnow-bucket/nyt/yellow_tripdata_2009-01.parquet (object):\n",
      "   File size: 481274128\n",
      "   Last mod:  Wed, 22 Jan 2025 15:52:45 GMT\n",
      "   MIME type: binary/octet-stream\n",
      "   Storage:   STANDARD\n",
      "   MD5 sum:   d41d8cd98f00b204e9800998ecf8427e-58\n",
      "   SSE:       none\n",
      "   Policy:    none\n",
      "   CORS:      none\n",
      "   ACL:       Chris Snow: FULL_CONTROL\n",
      "   x-amz-meta-foo: bar\n"
     ]
    }
   ],
   "source": [
    "! s3cmd info s3://csnow-bucket/nyt/yellow_tripdata_2009-01.parquet"
   ]
  },
  {
   "cell_type": "markdown",
   "id": "47172f3e-839c-4621-9910-bc8bc668e29d",
   "metadata": {},
   "source": [
    "### Create VAST DB Catalog Session"
   ]
  },
  {
   "cell_type": "code",
   "execution_count": 8,
   "id": "520e87f2-61eb-44fd-a2cb-c9a51f60cfa8",
   "metadata": {},
   "outputs": [
    {
     "name": "stdout",
     "output_type": "stream",
     "text": [
      "\n",
      "---\n",
      "VASTDB_ENDPOINT=http://172.200.204.2:80\n",
      "VASTDB_ACCESS_KEY=QXN5\n",
      "VASTDB_SECRET_KEY=****oLGr\n",
      "---\n",
      "\n"
     ]
    }
   ],
   "source": [
    "import os\n",
    "\n",
    "VASTDB_ENDPOINT = os.getenv(\"VASTDB_ENDPOINT\")\n",
    "VASTDB_ACCESS_KEY = os.getenv(\"VASTDB_ACCESS_KEY\")\n",
    "VASTDB_SECRET_KEY = os.getenv(\"VASTDB_SECRET_KEY\")\n",
    "\n",
    "print(f\"\"\"\n",
    "---\n",
    "VASTDB_ENDPOINT={VASTDB_ENDPOINT}\n",
    "VASTDB_ACCESS_KEY={VASTDB_ACCESS_KEY[-4:]}\n",
    "VASTDB_SECRET_KEY=****{VASTDB_SECRET_KEY[-4:]}\n",
    "---\n",
    "\"\"\")"
   ]
  },
  {
   "cell_type": "code",
   "execution_count": 9,
   "id": "fd430495-6500-4afe-bbd1-adc6e9356ae7",
   "metadata": {
    "tags": []
   },
   "outputs": [],
   "source": [
    "import pyarrow as pa\n",
    "import vastdb\n",
    "\n",
    "session = vastdb.connect(\n",
    "    endpoint=VASTDB_ENDPOINT,\n",
    "    access=VASTDB_ACCESS_KEY,\n",
    "    secret=VASTDB_SECRET_KEY)"
   ]
  },
  {
   "cell_type": "code",
   "execution_count": 10,
   "id": "7f6f67b5-fbae-47b6-958d-3e430b7f0e77",
   "metadata": {
    "tags": []
   },
   "outputs": [],
   "source": [
    "field_names = ['element_type'] # Only need the element_type field for counting\n",
    "\n",
    "with session.transaction() as tx:\n",
    "\n",
    "    # we will work with patable functionality\n",
    "    pa_table = tx.catalog().select(columns=field_names).read_all()\n",
    "\n",
    "    # you can also work with pandas df, but pa_table is probably quicker\n",
    "    pdf = pa_table.to_pandas()"
   ]
  },
  {
   "cell_type": "markdown",
   "id": "c67e2259-ecaf-4e2a-9a5e-de3f05042184",
   "metadata": {},
   "source": [
    "### How many elements are in the catalog\n"
   ]
  },
  {
   "cell_type": "code",
   "execution_count": 11,
   "id": "3cf3ae56-0737-4fb0-8b73-fb5867b032df",
   "metadata": {
    "tags": []
   },
   "outputs": [
    {
     "name": "stdout",
     "output_type": "stream",
     "text": [
      "Total elements in the catalog: 84836469\n"
     ]
    }
   ],
   "source": [
    "total_elements = pa_table.num_rows\n",
    "print(f\"Total elements in the catalog: {total_elements}\")"
   ]
  },
  {
   "cell_type": "markdown",
   "id": "627bc337-4f0f-4800-b590-70fd1a4ef27a",
   "metadata": {},
   "source": [
    "### How many files/objects?\n"
   ]
  },
  {
   "cell_type": "code",
   "execution_count": 12,
   "id": "d6679156-2253-4452-a191-8a76c55e69aa",
   "metadata": {},
   "outputs": [
    {
     "name": "stdout",
     "output_type": "stream",
     "text": [
      "Number of files/objects: 84692655\n"
     ]
    }
   ],
   "source": [
    "file_count = pa_table.filter(pa.compute.field(\"element_type\") == \"FILE\").num_rows\n",
    "print(f\"Number of files/objects: {file_count}\")"
   ]
  },
  {
   "cell_type": "markdown",
   "id": "071c92c2-4dae-41ec-ab8b-d434177d24f2",
   "metadata": {},
   "source": [
    "### How many directories?\n"
   ]
  },
  {
   "cell_type": "code",
   "execution_count": 13,
   "id": "f3b01199-eeef-410b-a8f4-b41d607e902c",
   "metadata": {
    "tags": []
   },
   "outputs": [
    {
     "name": "stdout",
     "output_type": "stream",
     "text": [
      "Number of directories: 143671\n"
     ]
    }
   ],
   "source": [
    "dir_count = pa_table.filter(pa.compute.field(\"element_type\") == \"DIR\").num_rows\n",
    "print(f\"Number of directories: {dir_count}\")"
   ]
  },
  {
   "cell_type": "markdown",
   "id": "7dea9b63-5e63-4953-be78-d9fa53bbc1af",
   "metadata": {},
   "source": [
    "### How many Database tables?"
   ]
  },
  {
   "cell_type": "code",
   "execution_count": 14,
   "id": "63e5f5ae-ab87-4677-a911-e5548c1624bc",
   "metadata": {},
   "outputs": [
    {
     "name": "stdout",
     "output_type": "stream",
     "text": [
      "Number of directories: 25\n"
     ]
    }
   ],
   "source": [
    "dir_count = pa_table.filter(pa.compute.field(\"element_type\") == \"TABLE\").num_rows\n",
    "print(f\"Number of directories: {dir_count}\")"
   ]
  },
  {
   "cell_type": "markdown",
   "id": "a85c4e86-45ae-410e-89d1-8e9688eee85f",
   "metadata": {},
   "source": [
    "### What are all of the elements on my system anyway?\n"
   ]
  },
  {
   "cell_type": "code",
   "execution_count": 15,
   "id": "834f14bb-cf91-4b47-aa32-fdcc5f2782ac",
   "metadata": {
    "tags": []
   },
   "outputs": [
    {
     "data": {
      "text/html": [
       "<div>\n",
       "<style scoped>\n",
       "    .dataframe tbody tr th:only-of-type {\n",
       "        vertical-align: middle;\n",
       "    }\n",
       "\n",
       "    .dataframe tbody tr th {\n",
       "        vertical-align: top;\n",
       "    }\n",
       "\n",
       "    .dataframe thead th {\n",
       "        text-align: right;\n",
       "    }\n",
       "</style>\n",
       "<table border=\"1\" class=\"dataframe\">\n",
       "  <thead>\n",
       "    <tr style=\"text-align: right;\">\n",
       "      <th></th>\n",
       "      <th>element_type</th>\n",
       "    </tr>\n",
       "  </thead>\n",
       "  <tbody>\n",
       "    <tr>\n",
       "      <th>0</th>\n",
       "      <td>FILE</td>\n",
       "    </tr>\n",
       "    <tr>\n",
       "      <th>1</th>\n",
       "      <td>DIR</td>\n",
       "    </tr>\n",
       "    <tr>\n",
       "      <th>2</th>\n",
       "      <td>SYMLINK</td>\n",
       "    </tr>\n",
       "    <tr>\n",
       "      <th>3</th>\n",
       "      <td>SCHEMA</td>\n",
       "    </tr>\n",
       "    <tr>\n",
       "      <th>4</th>\n",
       "      <td>TABLE</td>\n",
       "    </tr>\n",
       "  </tbody>\n",
       "</table>\n",
       "</div>"
      ],
      "text/plain": [
       "  element_type\n",
       "0         FILE\n",
       "1          DIR\n",
       "2      SYMLINK\n",
       "3       SCHEMA\n",
       "4        TABLE"
      ]
     },
     "execution_count": 15,
     "metadata": {},
     "output_type": "execute_result"
    }
   ],
   "source": [
    "group_counts = pa.TableGroupBy(pa_table,\"element_type\").aggregate([])\n",
    "group_counts.to_pandas()"
   ]
  },
  {
   "cell_type": "markdown",
   "id": "1d87b37b-bffb-4d72-805a-bfcf57f80a9f",
   "metadata": {},
   "source": [
    "### Alternative count approach"
   ]
  },
  {
   "cell_type": "code",
   "execution_count": 16,
   "id": "6619861f-a3da-4ffa-9cf8-cd77948e767f",
   "metadata": {
    "tags": []
   },
   "outputs": [
    {
     "data": {
      "text/html": [
       "<div>\n",
       "<style scoped>\n",
       "    .dataframe tbody tr th:only-of-type {\n",
       "        vertical-align: middle;\n",
       "    }\n",
       "\n",
       "    .dataframe tbody tr th {\n",
       "        vertical-align: top;\n",
       "    }\n",
       "\n",
       "    .dataframe thead th {\n",
       "        text-align: right;\n",
       "    }\n",
       "</style>\n",
       "<table border=\"1\" class=\"dataframe\">\n",
       "  <thead>\n",
       "    <tr style=\"text-align: right;\">\n",
       "      <th></th>\n",
       "      <th>element_type</th>\n",
       "      <th>count_all</th>\n",
       "    </tr>\n",
       "  </thead>\n",
       "  <tbody>\n",
       "    <tr>\n",
       "      <th>0</th>\n",
       "      <td>FILE</td>\n",
       "      <td>84692655</td>\n",
       "    </tr>\n",
       "    <tr>\n",
       "      <th>1</th>\n",
       "      <td>DIR</td>\n",
       "      <td>143671</td>\n",
       "    </tr>\n",
       "    <tr>\n",
       "      <th>2</th>\n",
       "      <td>SYMLINK</td>\n",
       "      <td>106</td>\n",
       "    </tr>\n",
       "    <tr>\n",
       "      <th>3</th>\n",
       "      <td>TABLE</td>\n",
       "      <td>25</td>\n",
       "    </tr>\n",
       "    <tr>\n",
       "      <th>4</th>\n",
       "      <td>SCHEMA</td>\n",
       "      <td>12</td>\n",
       "    </tr>\n",
       "  </tbody>\n",
       "</table>\n",
       "</div>"
      ],
      "text/plain": [
       "  element_type  count_all\n",
       "0         FILE   84692655\n",
       "1          DIR     143671\n",
       "2      SYMLINK        106\n",
       "3        TABLE         25\n",
       "4       SCHEMA         12"
      ]
     },
     "execution_count": 16,
     "metadata": {},
     "output_type": "execute_result"
    }
   ],
   "source": [
    "group_counts = pa.TableGroupBy(pa_table,\"element_type\").aggregate([([], \"count_all\")])\n",
    "group_counts.to_pandas()"
   ]
  },
  {
   "cell_type": "markdown",
   "id": "d42cc7d7-9435-498c-9958-08cb5dc0c07b",
   "metadata": {
    "execution": {
     "iopub.execute_input": "2024-01-07T17:12:48.624016Z",
     "iopub.status.busy": "2024-01-07T17:12:48.623443Z",
     "iopub.status.idle": "2024-01-07T17:12:48.628368Z",
     "shell.execute_reply": "2024-01-07T17:12:48.627455Z",
     "shell.execute_reply.started": "2024-01-07T17:12:48.623984Z"
    },
    "tags": []
   },
   "source": [
    "### Simplified example of count of elements returned from parallel execution\n",
    "\n",
    "The query_iterator iteratively executes a query on a database table, returning results in chunks as PyArrow RecordBatches, enabling efficient handling of large datasets by processing data in smaller, manageable segments.\n",
    "Simplified example of count of elements returned from parallel execution."
   ]
  },
  {
   "cell_type": "code",
   "execution_count": 17,
   "id": "518d57d8-c16e-4c10-8bf9-bf8e20fdebe1",
   "metadata": {
    "tags": []
   },
   "outputs": [
    {
     "name": "stdout",
     "output_type": "stream",
     "text": [
      "Total elements in the catalog: 84836469\n"
     ]
    }
   ],
   "source": [
    "def query_and_count_elements(session, field_names):\n",
    "\n",
    "    with session.transaction() as tx:\n",
    "        # batch reader\n",
    "        reader = tx.catalog().select(columns=field_names)\n",
    "\n",
    "        elements_count = 0\n",
    "        for record_batch in reader:\n",
    "            elements_count += record_batch.num_rows\n",
    "\n",
    "        return elements_count\n",
    "\n",
    "# Query Parameters\n",
    "field_names = ['element_type']  # Only need the element_type field for counting\n",
    "\n",
    "# Perform the query\n",
    "total_elements = query_and_count_elements(session, field_names)\n",
    "print(f\"Total elements in the catalog: {total_elements}\")"
   ]
  },
  {
   "cell_type": "markdown",
   "id": "cd360703-a361-47a0-8611-ca880edba24e",
   "metadata": {},
   "source": [
    "### Simple Filtering\n"
   ]
  },
  {
   "cell_type": "markdown",
   "id": "67b1365b-82b1-4e8f-9c24-07fb6f9e44b8",
   "metadata": {},
   "source": [
    "- first filter by pushing down to the DB predicates to search only for changes since today"
   ]
  },
  {
   "cell_type": "code",
   "execution_count": 43,
   "id": "6dd13c71-e7a2-4bfa-9fdf-13350a1e0da0",
   "metadata": {
    "tags": []
   },
   "outputs": [
    {
     "data": {
      "text/html": [
       "<div>\n",
       "<style scoped>\n",
       "    .dataframe tbody tr th:only-of-type {\n",
       "        vertical-align: middle;\n",
       "    }\n",
       "\n",
       "    .dataframe tbody tr th {\n",
       "        vertical-align: top;\n",
       "    }\n",
       "\n",
       "    .dataframe thead th {\n",
       "        text-align: right;\n",
       "    }\n",
       "</style>\n",
       "<table border=\"1\" class=\"dataframe\">\n",
       "  <thead>\n",
       "    <tr style=\"text-align: right;\">\n",
       "      <th></th>\n",
       "      <th>name</th>\n",
       "      <th>creation_time</th>\n",
       "      <th>uid</th>\n",
       "      <th>owner_name</th>\n",
       "      <th>size</th>\n",
       "      <th>user_metadata</th>\n",
       "      <th>user_tags</th>\n",
       "    </tr>\n",
       "  </thead>\n",
       "  <tbody>\n",
       "    <tr>\n",
       "      <th>0</th>\n",
       "      <td>file_15624.txt</td>\n",
       "      <td>2025-01-22 14:45:21.141552984</td>\n",
       "      <td>5069</td>\n",
       "      <td>John Gorski</td>\n",
       "      <td>20480</td>\n",
       "      <td>None</td>\n",
       "      <td>None</td>\n",
       "    </tr>\n",
       "    <tr>\n",
       "      <th>1</th>\n",
       "      <td>file_2386.txt</td>\n",
       "      <td>2025-01-22 14:46:03.517637761</td>\n",
       "      <td>5069</td>\n",
       "      <td>John Gorski</td>\n",
       "      <td>20480</td>\n",
       "      <td>None</td>\n",
       "      <td>None</td>\n",
       "    </tr>\n",
       "    <tr>\n",
       "      <th>2</th>\n",
       "      <td>file_21513.txt</td>\n",
       "      <td>2025-01-22 14:45:35.738343786</td>\n",
       "      <td>5069</td>\n",
       "      <td>John Gorski</td>\n",
       "      <td>20480</td>\n",
       "      <td>None</td>\n",
       "      <td>None</td>\n",
       "    </tr>\n",
       "    <tr>\n",
       "      <th>3</th>\n",
       "      <td>subfolder_1</td>\n",
       "      <td>2025-01-22 14:45:52.032227101</td>\n",
       "      <td>5069</td>\n",
       "      <td>John Gorski</td>\n",
       "      <td>4096</td>\n",
       "      <td>None</td>\n",
       "      <td>None</td>\n",
       "    </tr>\n",
       "    <tr>\n",
       "      <th>4</th>\n",
       "      <td>file_14682.txt</td>\n",
       "      <td>2025-01-22 14:46:06.120785539</td>\n",
       "      <td>5069</td>\n",
       "      <td>John Gorski</td>\n",
       "      <td>20480</td>\n",
       "      <td>None</td>\n",
       "      <td>None</td>\n",
       "    </tr>\n",
       "    <tr>\n",
       "      <th>...</th>\n",
       "      <td>...</td>\n",
       "      <td>...</td>\n",
       "      <td>...</td>\n",
       "      <td>...</td>\n",
       "      <td>...</td>\n",
       "      <td>...</td>\n",
       "      <td>...</td>\n",
       "    </tr>\n",
       "    <tr>\n",
       "      <th>84177</th>\n",
       "      <td>file_27536.txt</td>\n",
       "      <td>2025-01-22 15:21:04.826954108</td>\n",
       "      <td>5069</td>\n",
       "      <td>John Gorski</td>\n",
       "      <td>20480</td>\n",
       "      <td>None</td>\n",
       "      <td>None</td>\n",
       "    </tr>\n",
       "    <tr>\n",
       "      <th>84178</th>\n",
       "      <td>file_15986.txt</td>\n",
       "      <td>2025-01-22 15:20:28.161570268</td>\n",
       "      <td>5069</td>\n",
       "      <td>John Gorski</td>\n",
       "      <td>20480</td>\n",
       "      <td>None</td>\n",
       "      <td>None</td>\n",
       "    </tr>\n",
       "    <tr>\n",
       "      <th>84179</th>\n",
       "      <td>file_29581.txt</td>\n",
       "      <td>2025-01-22 15:19:00.046412901</td>\n",
       "      <td>5069</td>\n",
       "      <td>John Gorski</td>\n",
       "      <td>20480</td>\n",
       "      <td>None</td>\n",
       "      <td>None</td>\n",
       "    </tr>\n",
       "    <tr>\n",
       "      <th>84180</th>\n",
       "      <td>file_8016.txt</td>\n",
       "      <td>2025-01-22 15:19:17.964053479</td>\n",
       "      <td>5069</td>\n",
       "      <td>John Gorski</td>\n",
       "      <td>20480</td>\n",
       "      <td>None</td>\n",
       "      <td>None</td>\n",
       "    </tr>\n",
       "    <tr>\n",
       "      <th>84181</th>\n",
       "      <td>file_9210.txt</td>\n",
       "      <td>2025-01-22 15:20:16.693873580</td>\n",
       "      <td>5069</td>\n",
       "      <td>John Gorski</td>\n",
       "      <td>20480</td>\n",
       "      <td>None</td>\n",
       "      <td>None</td>\n",
       "    </tr>\n",
       "  </tbody>\n",
       "</table>\n",
       "<p>84182 rows × 7 columns</p>\n",
       "</div>"
      ],
      "text/plain": [
       "                 name                 creation_time   uid   owner_name   size  \\\n",
       "0      file_15624.txt 2025-01-22 14:45:21.141552984  5069  John Gorski  20480   \n",
       "1       file_2386.txt 2025-01-22 14:46:03.517637761  5069  John Gorski  20480   \n",
       "2      file_21513.txt 2025-01-22 14:45:35.738343786  5069  John Gorski  20480   \n",
       "3         subfolder_1 2025-01-22 14:45:52.032227101  5069  John Gorski   4096   \n",
       "4      file_14682.txt 2025-01-22 14:46:06.120785539  5069  John Gorski  20480   \n",
       "...               ...                           ...   ...          ...    ...   \n",
       "84177  file_27536.txt 2025-01-22 15:21:04.826954108  5069  John Gorski  20480   \n",
       "84178  file_15986.txt 2025-01-22 15:20:28.161570268  5069  John Gorski  20480   \n",
       "84179  file_29581.txt 2025-01-22 15:19:00.046412901  5069  John Gorski  20480   \n",
       "84180   file_8016.txt 2025-01-22 15:19:17.964053479  5069  John Gorski  20480   \n",
       "84181   file_9210.txt 2025-01-22 15:20:16.693873580  5069  John Gorski  20480   \n",
       "\n",
       "      user_metadata user_tags  \n",
       "0              None      None  \n",
       "1              None      None  \n",
       "2              None      None  \n",
       "3              None      None  \n",
       "4              None      None  \n",
       "...             ...       ...  \n",
       "84177          None      None  \n",
       "84178          None      None  \n",
       "84179          None      None  \n",
       "84180          None      None  \n",
       "84181          None      None  \n",
       "\n",
       "[84182 rows x 7 columns]"
      ]
     },
     "execution_count": 43,
     "metadata": {},
     "output_type": "execute_result"
    }
   ],
   "source": [
    "import ibis\n",
    "import time\n",
    "import pyarrow.compute as pc\n",
    "from datetime import datetime\n",
    "from ibis import _\n",
    "\n",
    "\n",
    "# today's date - should pick\n",
    "date_str = time.strftime('%Y-%m-%d')\n",
    "\n",
    "# Convert date string to epoch timestamp (in seconds)\n",
    "epoch_seconds = int(time.mktime(time.strptime(date_str, '%Y-%m-%d')))\n",
    "\n",
    "# Create an Ibis literal with epoch time and the correct data type\n",
    "predicate = (_.mtime >= ibis.literal(epoch_seconds, type='timestamp'))\n",
    "\n",
    "field_names = ['name', 'creation_time', 'uid', 'owner_name', 'size', 'user_metadata', 'user_tags']\n",
    "\n",
    "with session.transaction() as tx:\n",
    "    table = tx.catalog().select(columns=field_names, predicate=predicate).read_all()\n",
    "    df = table.to_pandas()\n",
    "\n",
    "df"
   ]
  },
  {
   "cell_type": "markdown",
   "id": "522abc6f-9974-42f0-95ff-f6083e58ec20",
   "metadata": {},
   "source": [
    "- then post filter the returned dataset to search for user_meta data not null\n",
    "- we should see the file we updated using s3cmd"
   ]
  },
  {
   "cell_type": "code",
   "execution_count": 44,
   "id": "fdc238b4-feda-45f7-ac83-4eabbcac8e49",
   "metadata": {
    "tags": []
   },
   "outputs": [
    {
     "data": {
      "text/html": [
       "<div>\n",
       "<style scoped>\n",
       "    .dataframe tbody tr th:only-of-type {\n",
       "        vertical-align: middle;\n",
       "    }\n",
       "\n",
       "    .dataframe tbody tr th {\n",
       "        vertical-align: top;\n",
       "    }\n",
       "\n",
       "    .dataframe thead th {\n",
       "        text-align: right;\n",
       "    }\n",
       "</style>\n",
       "<table border=\"1\" class=\"dataframe\">\n",
       "  <thead>\n",
       "    <tr style=\"text-align: right;\">\n",
       "      <th></th>\n",
       "      <th>name</th>\n",
       "      <th>creation_time</th>\n",
       "      <th>uid</th>\n",
       "      <th>owner_name</th>\n",
       "      <th>size</th>\n",
       "      <th>user_metadata</th>\n",
       "      <th>user_tags</th>\n",
       "    </tr>\n",
       "  </thead>\n",
       "  <tbody>\n",
       "    <tr>\n",
       "      <th>24735</th>\n",
       "      <td>yellow_tripdata_2009-01.parquet</td>\n",
       "      <td>2024-12-09 15:54:27.143172336</td>\n",
       "      <td>5102</td>\n",
       "      <td>Chris Snow</td>\n",
       "      <td>481274128</td>\n",
       "      <td>[(foo, bar)]</td>\n",
       "      <td>[(key1, value1), (key2, value2)]</td>\n",
       "    </tr>\n",
       "  </tbody>\n",
       "</table>\n",
       "</div>"
      ],
      "text/plain": [
       "                                  name                 creation_time   uid  \\\n",
       "24735  yellow_tripdata_2009-01.parquet 2024-12-09 15:54:27.143172336  5102   \n",
       "\n",
       "       owner_name       size user_metadata                         user_tags  \n",
       "24735  Chris Snow  481274128  [(foo, bar)]  [(key1, value1), (key2, value2)]  "
      ]
     },
     "execution_count": 44,
     "metadata": {},
     "output_type": "execute_result"
    }
   ],
   "source": [
    "df[df['user_tags'].notnull()]"
   ]
  },
  {
   "cell_type": "markdown",
   "id": "df130ea3-2097-4953-8372-103177d64d23",
   "metadata": {},
   "source": [
    "### Query for Specific File Types Across Different Users:\n"
   ]
  },
  {
   "cell_type": "code",
   "execution_count": 57,
   "id": "849866b2-5925-4d27-a21e-f40dbe7ccece",
   "metadata": {
    "tags": []
   },
   "outputs": [
    {
     "data": {
      "text/html": [
       "<div>\n",
       "<style scoped>\n",
       "    .dataframe tbody tr th:only-of-type {\n",
       "        vertical-align: middle;\n",
       "    }\n",
       "\n",
       "    .dataframe tbody tr th {\n",
       "        vertical-align: top;\n",
       "    }\n",
       "\n",
       "    .dataframe thead th {\n",
       "        text-align: right;\n",
       "    }\n",
       "</style>\n",
       "<table border=\"1\" class=\"dataframe\">\n",
       "  <thead>\n",
       "    <tr style=\"text-align: right;\">\n",
       "      <th></th>\n",
       "      <th>uid</th>\n",
       "      <th>owner_name</th>\n",
       "      <th>element_type</th>\n",
       "    </tr>\n",
       "  </thead>\n",
       "  <tbody>\n",
       "    <tr>\n",
       "      <th>0</th>\n",
       "      <td>1000</td>\n",
       "      <td>vastdata</td>\n",
       "      <td>FILE</td>\n",
       "    </tr>\n",
       "    <tr>\n",
       "      <th>1</th>\n",
       "      <td>1000</td>\n",
       "      <td>vastdata</td>\n",
       "      <td>FILE</td>\n",
       "    </tr>\n",
       "    <tr>\n",
       "      <th>2</th>\n",
       "      <td>1000</td>\n",
       "      <td>vastdata</td>\n",
       "      <td>FILE</td>\n",
       "    </tr>\n",
       "    <tr>\n",
       "      <th>3</th>\n",
       "      <td>1000</td>\n",
       "      <td>vastdata</td>\n",
       "      <td>FILE</td>\n",
       "    </tr>\n",
       "    <tr>\n",
       "      <th>4</th>\n",
       "      <td>1000</td>\n",
       "      <td>vastdata</td>\n",
       "      <td>FILE</td>\n",
       "    </tr>\n",
       "    <tr>\n",
       "      <th>...</th>\n",
       "      <td>...</td>\n",
       "      <td>...</td>\n",
       "      <td>...</td>\n",
       "    </tr>\n",
       "    <tr>\n",
       "      <th>40386704</th>\n",
       "      <td>1000</td>\n",
       "      <td>vastdata</td>\n",
       "      <td>FILE</td>\n",
       "    </tr>\n",
       "    <tr>\n",
       "      <th>40386705</th>\n",
       "      <td>1000</td>\n",
       "      <td>vastdata</td>\n",
       "      <td>FILE</td>\n",
       "    </tr>\n",
       "    <tr>\n",
       "      <th>40386706</th>\n",
       "      <td>1000</td>\n",
       "      <td>vastdata</td>\n",
       "      <td>FILE</td>\n",
       "    </tr>\n",
       "    <tr>\n",
       "      <th>40386707</th>\n",
       "      <td>1000</td>\n",
       "      <td>vastdata</td>\n",
       "      <td>FILE</td>\n",
       "    </tr>\n",
       "    <tr>\n",
       "      <th>40386708</th>\n",
       "      <td>1000</td>\n",
       "      <td>vastdata</td>\n",
       "      <td>FILE</td>\n",
       "    </tr>\n",
       "  </tbody>\n",
       "</table>\n",
       "<p>40386709 rows × 3 columns</p>\n",
       "</div>"
      ],
      "text/plain": [
       "           uid owner_name element_type\n",
       "0         1000   vastdata         FILE\n",
       "1         1000   vastdata         FILE\n",
       "2         1000   vastdata         FILE\n",
       "3         1000   vastdata         FILE\n",
       "4         1000   vastdata         FILE\n",
       "...        ...        ...          ...\n",
       "40386704  1000   vastdata         FILE\n",
       "40386705  1000   vastdata         FILE\n",
       "40386706  1000   vastdata         FILE\n",
       "40386707  1000   vastdata         FILE\n",
       "40386708  1000   vastdata         FILE\n",
       "\n",
       "[40386709 rows x 3 columns]"
      ]
     },
     "execution_count": 57,
     "metadata": {},
     "output_type": "execute_result"
    }
   ],
   "source": [
    "field_names = ['uid', 'owner_name', 'element_type']\n",
    "predicate = \\\n",
    "    ((_.element_type == 'FILE') | (_.element_type == 'TABLE') | (_.element_type == 'DIR')) & \\\n",
    "    ((_.uid == 500) | (_.uid == 1000))\n",
    "\n",
    "with session.transaction() as tx:\n",
    "    table = tx.catalog().select(columns=field_names, predicate=predicate).read_all()\n",
    "    df = table.to_pandas()\n",
    "\n",
    "df"
   ]
  },
  {
   "cell_type": "markdown",
   "id": "564b73e1-d500-4966-bb9e-3c748376dc6d",
   "metadata": {},
   "source": [
    "### Query for Objects Based on User and Specific Extensions\n"
   ]
  },
  {
   "cell_type": "code",
   "execution_count": 58,
   "id": "d51e1b67-c914-4897-b643-dfbcbb76611a",
   "metadata": {
    "tags": []
   },
   "outputs": [
    {
     "data": {
      "text/html": [
       "<div>\n",
       "<style scoped>\n",
       "    .dataframe tbody tr th:only-of-type {\n",
       "        vertical-align: middle;\n",
       "    }\n",
       "\n",
       "    .dataframe tbody tr th {\n",
       "        vertical-align: top;\n",
       "    }\n",
       "\n",
       "    .dataframe thead th {\n",
       "        text-align: right;\n",
       "    }\n",
       "</style>\n",
       "<table border=\"1\" class=\"dataframe\">\n",
       "  <thead>\n",
       "    <tr style=\"text-align: right;\">\n",
       "      <th></th>\n",
       "      <th>uid</th>\n",
       "      <th>extension</th>\n",
       "      <th>size</th>\n",
       "    </tr>\n",
       "  </thead>\n",
       "  <tbody>\n",
       "    <tr>\n",
       "      <th>0</th>\n",
       "      <td>1000</td>\n",
       "      <td>log</td>\n",
       "      <td>69641674</td>\n",
       "    </tr>\n",
       "    <tr>\n",
       "      <th>1</th>\n",
       "      <td>1000</td>\n",
       "      <td>log</td>\n",
       "      <td>115</td>\n",
       "    </tr>\n",
       "    <tr>\n",
       "      <th>2</th>\n",
       "      <td>1000</td>\n",
       "      <td>log</td>\n",
       "      <td>60046685</td>\n",
       "    </tr>\n",
       "    <tr>\n",
       "      <th>3</th>\n",
       "      <td>1000</td>\n",
       "      <td>log</td>\n",
       "      <td>115</td>\n",
       "    </tr>\n",
       "    <tr>\n",
       "      <th>4</th>\n",
       "      <td>1000</td>\n",
       "      <td>log</td>\n",
       "      <td>39745</td>\n",
       "    </tr>\n",
       "    <tr>\n",
       "      <th>...</th>\n",
       "      <td>...</td>\n",
       "      <td>...</td>\n",
       "      <td>...</td>\n",
       "    </tr>\n",
       "    <tr>\n",
       "      <th>52808</th>\n",
       "      <td>1000</td>\n",
       "      <td>log</td>\n",
       "      <td>0</td>\n",
       "    </tr>\n",
       "    <tr>\n",
       "      <th>52809</th>\n",
       "      <td>1000</td>\n",
       "      <td>log</td>\n",
       "      <td>0</td>\n",
       "    </tr>\n",
       "    <tr>\n",
       "      <th>52810</th>\n",
       "      <td>1000</td>\n",
       "      <td>log</td>\n",
       "      <td>0</td>\n",
       "    </tr>\n",
       "    <tr>\n",
       "      <th>52811</th>\n",
       "      <td>1000</td>\n",
       "      <td>log</td>\n",
       "      <td>72921728</td>\n",
       "    </tr>\n",
       "    <tr>\n",
       "      <th>52812</th>\n",
       "      <td>1000</td>\n",
       "      <td>log</td>\n",
       "      <td>39765</td>\n",
       "    </tr>\n",
       "  </tbody>\n",
       "</table>\n",
       "<p>52813 rows × 3 columns</p>\n",
       "</div>"
      ],
      "text/plain": [
       "        uid extension      size\n",
       "0      1000       log  69641674\n",
       "1      1000       log       115\n",
       "2      1000       log  60046685\n",
       "3      1000       log       115\n",
       "4      1000       log     39745\n",
       "...     ...       ...       ...\n",
       "52808  1000       log         0\n",
       "52809  1000       log         0\n",
       "52810  1000       log         0\n",
       "52811  1000       log  72921728\n",
       "52812  1000       log     39765\n",
       "\n",
       "[52813 rows x 3 columns]"
      ]
     },
     "execution_count": 58,
     "metadata": {},
     "output_type": "execute_result"
    }
   ],
   "source": [
    "field_names = ['uid', 'extension', 'size']\n",
    "predicate = \\\n",
    "    ((_.extension == 'log') | (_.extension == 'ldb')) & \\\n",
    "    ((_.uid == 555) | (_.uid == 1000))\n",
    "\n",
    "with session.transaction() as tx:\n",
    "    table = tx.catalog().select(columns=field_names, predicate=predicate).read_all()\n",
    "    df = table.to_pandas()\n",
    "\n",
    "df"
   ]
  },
  {
   "cell_type": "markdown",
   "id": "2e7740e8-fd42-4d2a-a855-7770cebcd952",
   "metadata": {},
   "source": [
    "### Query for Specific File Types with Size Constraints\n"
   ]
  },
  {
   "cell_type": "code",
   "execution_count": 60,
   "id": "e9559300-f61c-4f1d-8e2d-9a9405eba046",
   "metadata": {
    "tags": []
   },
   "outputs": [
    {
     "data": {
      "text/html": [
       "<div>\n",
       "<style scoped>\n",
       "    .dataframe tbody tr th:only-of-type {\n",
       "        vertical-align: middle;\n",
       "    }\n",
       "\n",
       "    .dataframe tbody tr th {\n",
       "        vertical-align: top;\n",
       "    }\n",
       "\n",
       "    .dataframe thead th {\n",
       "        text-align: right;\n",
       "    }\n",
       "</style>\n",
       "<table border=\"1\" class=\"dataframe\">\n",
       "  <thead>\n",
       "    <tr style=\"text-align: right;\">\n",
       "      <th></th>\n",
       "      <th>element_type</th>\n",
       "      <th>size</th>\n",
       "      <th>name</th>\n",
       "    </tr>\n",
       "  </thead>\n",
       "  <tbody>\n",
       "    <tr>\n",
       "      <th>0</th>\n",
       "      <td>FILE</td>\n",
       "      <td>128609</td>\n",
       "      <td>NA19191.seg.called.merged</td>\n",
       "    </tr>\n",
       "    <tr>\n",
       "      <th>1</th>\n",
       "      <td>FILE</td>\n",
       "      <td>182032</td>\n",
       "      <td>Theilman.mp4</td>\n",
       "    </tr>\n",
       "    <tr>\n",
       "      <th>2</th>\n",
       "      <td>FILE</td>\n",
       "      <td>172816</td>\n",
       "      <td>out-of-townish.exr</td>\n",
       "    </tr>\n",
       "    <tr>\n",
       "      <th>3</th>\n",
       "      <td>FILE</td>\n",
       "      <td>231184</td>\n",
       "      <td>beflagged.json</td>\n",
       "    </tr>\n",
       "    <tr>\n",
       "      <th>4</th>\n",
       "      <td>FILE</td>\n",
       "      <td>401168</td>\n",
       "      <td>headgate.xml</td>\n",
       "    </tr>\n",
       "    <tr>\n",
       "      <th>...</th>\n",
       "      <td>...</td>\n",
       "      <td>...</td>\n",
       "      <td>...</td>\n",
       "    </tr>\n",
       "    <tr>\n",
       "      <th>9830564</th>\n",
       "      <td>FILE</td>\n",
       "      <td>131072</td>\n",
       "      <td>r96-f243</td>\n",
       "    </tr>\n",
       "    <tr>\n",
       "      <th>9830565</th>\n",
       "      <td>FILE</td>\n",
       "      <td>131072</td>\n",
       "      <td>r168-f156</td>\n",
       "    </tr>\n",
       "    <tr>\n",
       "      <th>9830566</th>\n",
       "      <td>FILE</td>\n",
       "      <td>131072</td>\n",
       "      <td>r168-f222</td>\n",
       "    </tr>\n",
       "    <tr>\n",
       "      <th>9830567</th>\n",
       "      <td>FILE</td>\n",
       "      <td>131072</td>\n",
       "      <td>r108-f75</td>\n",
       "    </tr>\n",
       "    <tr>\n",
       "      <th>9830568</th>\n",
       "      <td>FILE</td>\n",
       "      <td>131072</td>\n",
       "      <td>r229-f47</td>\n",
       "    </tr>\n",
       "  </tbody>\n",
       "</table>\n",
       "<p>9830569 rows × 3 columns</p>\n",
       "</div>"
      ],
      "text/plain": [
       "        element_type    size                       name\n",
       "0               FILE  128609  NA19191.seg.called.merged\n",
       "1               FILE  182032               Theilman.mp4\n",
       "2               FILE  172816         out-of-townish.exr\n",
       "3               FILE  231184             beflagged.json\n",
       "4               FILE  401168               headgate.xml\n",
       "...              ...     ...                        ...\n",
       "9830564         FILE  131072                   r96-f243\n",
       "9830565         FILE  131072                  r168-f156\n",
       "9830566         FILE  131072                  r168-f222\n",
       "9830567         FILE  131072                   r108-f75\n",
       "9830568         FILE  131072                   r229-f47\n",
       "\n",
       "[9830569 rows x 3 columns]"
      ]
     },
     "execution_count": 60,
     "metadata": {},
     "output_type": "execute_result"
    }
   ],
   "source": [
    "field_names = ['element_type', 'size', 'name']\n",
    "predicate = \\\n",
    "    (_.element_type == 'FILE') & \\\n",
    "    ((_.size > 50000) & (_.size < 1000000)) # size between 50 KB and 1 MB\n",
    "\n",
    "with session.transaction() as tx:\n",
    "    table = tx.catalog().select(columns=field_names, predicate=predicate).read_all()\n",
    "    df = table.to_pandas()\n",
    "\n",
    "df"
   ]
  },
  {
   "cell_type": "markdown",
   "id": "89e13b22-f553-4297-97eb-4bbffa29dbb6",
   "metadata": {},
   "source": [
    "### Query for Large TABLE Objects by Specific Users\n"
   ]
  },
  {
   "cell_type": "code",
   "execution_count": 68,
   "id": "342c2c1d-125d-4bb2-a315-881097d54a2f",
   "metadata": {},
   "outputs": [
    {
     "data": {
      "text/html": [
       "<div>\n",
       "<style scoped>\n",
       "    .dataframe tbody tr th:only-of-type {\n",
       "        vertical-align: middle;\n",
       "    }\n",
       "\n",
       "    .dataframe tbody tr th {\n",
       "        vertical-align: top;\n",
       "    }\n",
       "\n",
       "    .dataframe thead th {\n",
       "        text-align: right;\n",
       "    }\n",
       "</style>\n",
       "<table border=\"1\" class=\"dataframe\">\n",
       "  <thead>\n",
       "    <tr style=\"text-align: right;\">\n",
       "      <th></th>\n",
       "      <th>uid</th>\n",
       "      <th>owner_name</th>\n",
       "      <th>size</th>\n",
       "      <th>element_type</th>\n",
       "    </tr>\n",
       "  </thead>\n",
       "  <tbody>\n",
       "    <tr>\n",
       "      <th>0</th>\n",
       "      <td>5102</td>\n",
       "      <td>Chris Snow</td>\n",
       "      <td>295359979974</td>\n",
       "      <td>TABLE</td>\n",
       "    </tr>\n",
       "    <tr>\n",
       "      <th>1</th>\n",
       "      <td>5102</td>\n",
       "      <td>Chris Snow</td>\n",
       "      <td>30638775201</td>\n",
       "      <td>TABLE</td>\n",
       "    </tr>\n",
       "    <tr>\n",
       "      <th>2</th>\n",
       "      <td>5102</td>\n",
       "      <td>Chris Snow</td>\n",
       "      <td>225006991</td>\n",
       "      <td>TABLE</td>\n",
       "    </tr>\n",
       "    <tr>\n",
       "      <th>3</th>\n",
       "      <td>5102</td>\n",
       "      <td>Chris Snow</td>\n",
       "      <td>193123235385</td>\n",
       "      <td>TABLE</td>\n",
       "    </tr>\n",
       "    <tr>\n",
       "      <th>4</th>\n",
       "      <td>5102</td>\n",
       "      <td>Chris Snow</td>\n",
       "      <td>144481791</td>\n",
       "      <td>TABLE</td>\n",
       "    </tr>\n",
       "  </tbody>\n",
       "</table>\n",
       "</div>"
      ],
      "text/plain": [
       "    uid  owner_name          size element_type\n",
       "0  5102  Chris Snow  295359979974        TABLE\n",
       "1  5102  Chris Snow   30638775201        TABLE\n",
       "2  5102  Chris Snow     225006991        TABLE\n",
       "3  5102  Chris Snow  193123235385        TABLE\n",
       "4  5102  Chris Snow     144481791        TABLE"
      ]
     },
     "execution_count": 68,
     "metadata": {},
     "output_type": "execute_result"
    }
   ],
   "source": [
    "field_names = ['uid', 'owner_name', 'size', 'element_type']\n",
    "predicate = \\\n",
    "    (_.uid == 5102) & \\\n",
    "    (_.element_type == 'TABLE') & \\\n",
    "    (_.size > 10000000) # greater than 10 MB\n",
    "\n",
    "\n",
    "with session.transaction() as tx:\n",
    "    table = tx.catalog().select(columns=field_names, predicate=predicate).read_all()\n",
    "    df = table.to_pandas()\n",
    "\n",
    "df"
   ]
  },
  {
   "cell_type": "markdown",
   "id": "dac5ca1b-cfde-4d23-9bd3-aed0796a01cd",
   "metadata": {},
   "source": [
    "# Unmigrated Code\n",
    "\n",
    "All of the following code needs to be migrated to the new VastDB api"
   ]
  },
  {
   "cell_type": "markdown",
   "id": "f7c3f493-1c54-4854-915b-d4f0b205a10f",
   "metadata": {},
   "source": [
    "### Timestamp Filtering\n",
    "Query by birthdate: VAST uses a “creation_time” column to indicate when a new element is created:\n",
    "This will output all objects linked after noon on September 1st. It will not output files that have been moved to a new path.\n",
    "\n",
    "NOTE : Same method can be applied for acces-time (atime), modification-time (mtime) & metadata-update-times (ctime).\n"
   ]
  },
  {
   "cell_type": "code",
   "execution_count": null,
   "id": "3879a1eb-0054-4f9d-bf82-56e2e28d7d36",
   "metadata": {
    "execution": {
     "iopub.status.busy": "2024-01-07T17:22:31.820836Z",
     "iopub.status.idle": "2024-01-07T17:22:31.821106Z",
     "shell.execute_reply": "2024-01-07T17:22:31.820978Z",
     "shell.execute_reply.started": "2024-01-07T17:22:31.820965Z"
    },
    "tags": []
   },
   "outputs": [],
   "source": [
    "# i.e: SELECT CONCAT(parent_path, name) FROM vast_big_catalog_table WHERE creation_time > TIMESTAMP '2023-09-01 12:00:01'\n",
    "\n",
    "# Set the timestamp for comparison\n",
    "timestamp_birthdate = pd.Timestamp('2023-09-01 12:00:01')\n",
    "\n",
    "# Convert the timestamp to an integer\n",
    "timestamp_birthdate_int = int(timestamp_birthdate.timestamp())\n",
    "\n",
    "# Query the database\n",
    "field_names = ['creation_time', 'parent_path', 'name']\n",
    "filters = {'creation_time': [f'gt {timestamp_birthdate_int}']}\n",
    "table = vastdb_session.query('vast-big-catalog-bucket', 'vast_big_catalog_schema', 'vast_big_catalog_table', filters=filters, field_names=field_names, num_sub_splits=8)\n",
    "df = table.to_pandas()\n",
    "\n",
    "# Filter and concatenate paths\n",
    "df_filtered = df[df['creation_time'] > timestamp_birthdate]\n",
    "df_filtered['full_path'] = df_filtered['parent_path'] + df_filtered['name']\n",
    "\n",
    "# Print result\n",
    "print(\"Objects created after 2023-09-01 12:00:01:\")\n",
    "display(df_filtered['full_path'])"
   ]
  },
  {
   "cell_type": "markdown",
   "id": "06619495-76dd-4a59-bb03-b59263a021b6",
   "metadata": {},
   "source": [
    "### Reporting\n",
    "Simple queries to tell you basic statistics on a section of the namespace\n",
    "Report statistics on parts of the namespace - Summarizing files of a certain type (FILE), belonging to a specific user (uid=555), and located in a certain path (/parquet-files-bucket)"
   ]
  },
  {
   "cell_type": "code",
   "execution_count": 62,
   "id": "9b56e481-bd85-4bdf-860a-e84a052c60d6",
   "metadata": {
    "execution": {
     "iopub.execute_input": "2024-03-13T14:40:16.363361Z",
     "iopub.status.busy": "2024-03-13T14:40:16.362672Z",
     "iopub.status.idle": "2024-03-13T14:40:16.587776Z",
     "shell.execute_reply": "2024-03-13T14:40:16.586697Z",
     "shell.execute_reply.started": "2024-03-13T14:40:16.363275Z"
    },
    "tags": []
   },
   "outputs": [
    {
     "name": "stdout",
     "output_type": "stream",
     "text": [
      "No data returned from query. Please check filters and field names.\n"
     ]
    }
   ],
   "source": [
    "import numpy as np\n",
    "\n",
    "# Query the database\n",
    "field_names = ['uid', 'used', 'size']\n",
    "filters = {\n",
    "    'search_path': ['eq /nyc-taxi'],\n",
    "    'element_type': ['eq FILE']\n",
    "}\n",
    "table = vastdb_session.query('vast-big-catalog-bucket', 'vast_big_catalog_schema', 'vast_big_catalog_table', filters=filters, field_names=field_names, num_sub_splits=8)\n",
    "df = table.to_pandas()\n",
    "\n",
    "# Check if DataFrame is empty\n",
    "if df.empty:\n",
    "    print(\"No data returned from query. Please check filters and field names.\")\n",
    "else:\n",
    "    # Perform aggregations\n",
    "    users_count = df['uid'].nunique()\n",
    "    files_count = len(df)\n",
    "    kb_used_sum = df['used'].sum() / 1000\n",
    "    avg_size_kb = df['size'].mean() / 1000\n",
    "\n",
    "    # Formatting results\n",
    "    formatted_results = {\n",
    "        'users': f\"{users_count:,d}\",\n",
    "        'Files': f\"{files_count:,d}\",\n",
    "        'KB_Used': f\"{kb_used_sum:,.0f}\",\n",
    "        'Avg_Size_KB': f\"{avg_size_kb:,.2f}\"\n",
    "    }\n",
    "\n",
    "    # Print formatted results\n",
    "    print(\"Aggregated Results:\")\n",
    "    print(formatted_results)"
   ]
  },
  {
   "cell_type": "markdown",
   "id": "3950611c-084d-44fc-9663-ac72c1a2d5fe",
   "metadata": {},
   "source": [
    "### Capacity Grouping & Usage report\n",
    "Here’s a report on all the users on the system:\n",
    "Get Files across whole system('/'), group by owner_name, sum files, total and average size in kilobytes, oldest creation time, and most recent access time for each file owner.\n",
    "Note - display is a IPython function which aggregates results in table format\n"
   ]
  },
  {
   "cell_type": "code",
   "execution_count": 59,
   "id": "5e79f3de-a52b-4154-85dc-540deed1b05f",
   "metadata": {
    "execution": {
     "iopub.execute_input": "2024-03-13T14:39:35.083562Z",
     "iopub.status.busy": "2024-03-13T14:39:35.082222Z",
     "iopub.status.idle": "2024-03-13T14:39:35.386189Z",
     "shell.execute_reply": "2024-03-13T14:39:35.385190Z",
     "shell.execute_reply.started": "2024-03-13T14:39:35.083499Z"
    },
    "tags": []
   },
   "outputs": [
    {
     "data": {
      "text/html": [
       "<div>\n",
       "<style scoped>\n",
       "    .dataframe tbody tr th:only-of-type {\n",
       "        vertical-align: middle;\n",
       "    }\n",
       "\n",
       "    .dataframe tbody tr th {\n",
       "        vertical-align: top;\n",
       "    }\n",
       "\n",
       "    .dataframe thead th {\n",
       "        text-align: right;\n",
       "    }\n",
       "</style>\n",
       "<table border=\"1\" class=\"dataframe\">\n",
       "  <thead>\n",
       "    <tr style=\"text-align: right;\">\n",
       "      <th></th>\n",
       "      <th>Files</th>\n",
       "      <th>KB_Used</th>\n",
       "      <th>Avg_Size_KB</th>\n",
       "      <th>Oldest_data</th>\n",
       "      <th>Last_access</th>\n",
       "    </tr>\n",
       "    <tr>\n",
       "      <th>owner_name</th>\n",
       "      <th></th>\n",
       "      <th></th>\n",
       "      <th></th>\n",
       "      <th></th>\n",
       "      <th></th>\n",
       "    </tr>\n",
       "  </thead>\n",
       "  <tbody>\n",
       "    <tr>\n",
       "      <th>0</th>\n",
       "      <td>40</td>\n",
       "      <td>0</td>\n",
       "      <td>0.00</td>\n",
       "      <td>2024-03-05 15:21:31.916288773</td>\n",
       "      <td>2024-03-05 15:25:42.213137875</td>\n",
       "    </tr>\n",
       "    <tr>\n",
       "      <th>trinos3</th>\n",
       "      <td>123</td>\n",
       "      <td>30,963,037</td>\n",
       "      <td>251,732.01</td>\n",
       "      <td>2024-03-05 15:00:39.594759193</td>\n",
       "      <td>2024-03-05 15:25:42.864619921</td>\n",
       "    </tr>\n",
       "  </tbody>\n",
       "</table>\n",
       "</div>"
      ],
      "text/plain": [
       "           Files     KB_Used Avg_Size_KB                   Oldest_data  \\\n",
       "owner_name                                                               \n",
       "0             40           0        0.00 2024-03-05 15:21:31.916288773   \n",
       "trinos3      123  30,963,037  251,732.01 2024-03-05 15:00:39.594759193   \n",
       "\n",
       "                             Last_access  \n",
       "owner_name                                \n",
       "0          2024-03-05 15:25:42.213137875  \n",
       "trinos3    2024-03-05 15:25:42.864619921  "
      ]
     },
     "metadata": {},
     "output_type": "display_data"
    }
   ],
   "source": [
    "from IPython.display import display\n",
    "import pandas as pd\n",
    "import numpy as np\n",
    "\n",
    "# Querying the database\n",
    "filters = {\n",
    "    'element_type': ['eq FILE'],\n",
    "    'search_path': ['eq /']\n",
    "}\n",
    "field_names = ['owner_name', 'used', 'size', 'creation_time', 'atime']\n",
    "\n",
    "table = vastdb_session.query('vast-big-catalog-bucket', 'vast_big_catalog_schema', 'vast_big_catalog_table', filters=filters, field_names=field_names, num_sub_splits=8)\n",
    "df = table.to_pandas()\n",
    "pd.options.display.max_columns = None\n",
    "\n",
    "# Aggregating data\n",
    "aggregated_data = df.groupby('owner_name').agg(\n",
    "    Files=('owner_name', 'count'),\n",
    "    KB_Used=('used', lambda x: np.sum(x)/1000),\n",
    "    Avg_Size_KB=('size', lambda x: np.mean(x)/1000),\n",
    "    Oldest_data=('creation_time', 'min'),\n",
    "    Last_access=('atime', 'max')\n",
    ")\n",
    "\n",
    "# Formatting results\n",
    "aggregated_data['Files'] = aggregated_data['Files'].apply(lambda x: f\"{x:,d}\")\n",
    "aggregated_data['KB_Used'] = aggregated_data['KB_Used'].apply(lambda x: f\"{x:,.0f}\")\n",
    "aggregated_data['Avg_Size_KB'] = aggregated_data['Avg_Size_KB'].apply(lambda x: f\"{x:,.2f}\")\n",
    "\n",
    "display(aggregated_data)"
   ]
  },
  {
   "cell_type": "markdown",
   "id": "3e535344-5ecc-4df9-b152-3b212543647e",
   "metadata": {},
   "source": [
    "### Catalog Snapshots Comparisons\n",
    "You can access catalog snapshot by navigating the schema space.\n",
    "The most obvious use of snapshot comparisons is delete detection, followed by move detection.\n",
    "Delete detection\n",
    "Query Returns: This script compares the current state with a specific historical snapshot, identifying files present in the current table but not in the snapshot, based on their element_type and search_path.\n",
    "Access to Snapshot: Access to a snapshot works by querying a specific schema directory (representing the snapshot) within the bucket\n"
   ]
  },
  {
   "cell_type": "code",
   "execution_count": null,
   "id": "deef4c85-5b1a-4998-8f15-bebbac388375",
   "metadata": {},
   "outputs": [],
   "source": [
    "def query_table(schema):\n",
    "    table = vastdb_session.query('vast-big-catalog-bucket', schema, 'vast_big_catalog_table', filters=filters, num_sub_splits=8)\n",
    "    df = table.to_pandas()\n",
    "    df['full_path'] = df['parent_path'] + df['name']\n",
    "    return set(df['full_path'])\n",
    "\n",
    "# Query Filters\n",
    "filters = {\n",
    "    'element_type': ['eq FILE'],\n",
    "    'search_path': ['eq /']\n",
    "}\n",
    "\n",
    "# Query the current table and the snapshot\n",
    "current_set = query_table('vast_big_catalog_schema')\n",
    "snapshot_set = query_table('.snapshot/bc_table_2023-12-10_13_53_36/vast_big_catalog_schema')\n",
    "\n",
    "# Find differences (Current Table vs Snapshot)\n",
    "difference = current_set - snapshot_set\n",
    "\n",
    "# Output\n",
    "if difference:\n",
    "    print(f\"[INFO] Found {len(difference)} files in the current table but not in the snapshot:\")\n",
    "    for item in difference:\n",
    "        print(item)\n",
    "else:\n",
    "    print(\"[INFO] No differences found\")"
   ]
  }
 ],
 "metadata": {
  "kernelspec": {
   "display_name": "Python 3 (ipykernel)",
   "language": "python",
   "name": "python3"
  },
  "language_info": {
   "codemirror_mode": {
    "name": "ipython",
    "version": 3
   },
   "file_extension": ".py",
   "mimetype": "text/x-python",
   "name": "python",
   "nbconvert_exporter": "python",
   "pygments_lexer": "ipython3",
   "version": "3.11.10"
  }
 },
 "nbformat": 4,
 "nbformat_minor": 5
}

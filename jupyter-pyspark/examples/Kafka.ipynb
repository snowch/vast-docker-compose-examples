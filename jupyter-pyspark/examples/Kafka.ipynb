{
 "cells": [
  {
   "cell_type": "code",
   "execution_count": 1,
   "id": "5d2d7598-0b65-4bb6-b8c9-3644a0825818",
   "metadata": {},
   "outputs": [],
   "source": [
    "kafka_brokers = 'se-var-vastdb-ingest:19092'\n",
    "topic = 'streaming-demo'"
   ]
  },
  {
   "cell_type": "code",
   "execution_count": 2,
   "id": "1ccaef03-ff17-4fa9-ab14-297c7abf3fdd",
   "metadata": {},
   "outputs": [
    {
     "data": {
      "text/html": [
       "\n",
       "        <div>\n",
       "            <p><b>SparkContext</b></p>\n",
       "\n",
       "            <p><a href=\"None\">Spark UI</a></p>\n",
       "\n",
       "            <dl>\n",
       "              <dt>Version</dt>\n",
       "                <dd><code>v3.4.4</code></dd>\n",
       "              <dt>Master</dt>\n",
       "                <dd><code>local</code></dd>\n",
       "              <dt>AppName</dt>\n",
       "                <dd><code>TweetGenerator</code></dd>\n",
       "            </dl>\n",
       "        </div>\n",
       "        "
      ],
      "text/plain": [
       "<SparkContext master=local appName=TweetGenerator>"
      ]
     },
     "execution_count": 2,
     "metadata": {},
     "output_type": "execute_result"
    }
   ],
   "source": [
    "from pyspark.sql import SparkSession\n",
    "from pyspark.conf import SparkConf\n",
    "from pyspark.sql.functions import col, lit, to_timestamp\n",
    "\n",
    "conf = SparkConf()\n",
    "conf.setAll([\n",
    "    (\"spark.jars.packages\", \"org.apache.spark:spark-sql-kafka-0-10_2.13:3.4.3,\"\n",
    "                            \"org.apache.logging.log4j:log4j-slf4j2-impl:2.19.0,\"\n",
    "                            \"org.apache.logging.log4j:log4j-api:2.19.0,\"\n",
    "                            \"org.apache.logging.log4j:log4j-core:2.19.0\"),\n",
    "    (\"spark.jars.excludes\", \"org.slf4j:slf4j-api,org.slf4j:slf4j-log4j12\"), \n",
    "    (\"spark.driver.userClassPathFirst\", \"true\"),\n",
    "    (\"spark.executor.userClassPathFirst\", \"true\")\n",
    "])\n",
    "\n",
    "spark = SparkSession.builder \\\n",
    "    .master(\"local\") \\\n",
    "    .appName(\"TweetGenerator\") \\\n",
    "    .config(conf=conf) \\\n",
    "    .getOrCreate()\n",
    "\n",
    "spark.sparkContext"
   ]
  },
  {
   "cell_type": "code",
   "execution_count": 3,
   "id": "7385eee4-6b08-4be0-b6de-d95b64dac1d7",
   "metadata": {},
   "outputs": [],
   "source": [
    "from random import randint, choice\n",
    "import json\n",
    "import time\n",
    "import uuid\n",
    "\n",
    "# Define lists of words, phrases, and hashtags\n",
    "words = [\"awesome\", \"fantastic\", \"amazing\", \"incredible\", \"great\", \"wonderful\", \"lovely\", \"beautiful\", \"happy\", \"fun\"]\n",
    "phrases = [\"can't believe\", \"so excited about\", \"just discovered\", \"finally got\", \"totally in love with\"]\n",
    "hashtags = [\"SPARK\", \"SPARK ML\", \"SPARK STREAMING\"]\n",
    "\n",
    "# Function to generate a random tweet\n",
    "def generate_tweet():\n",
    "  tweet = {}\n",
    "  tweet[\"text\"] = f\"{choice(phrases)} how {choice(words)} {choice(hashtags)} is!\"\n",
    "  tweet[\"created_at\"] = time.strftime(\"%Y-%m-%d %H:%M:%S Z\", time.gmtime())\n",
    "  tweet[\"id\"] = randint(1, 9223372036854775807)  # Random long value for tweet id\n",
    "  tweet[\"id_str\"] = str(tweet[\"id\"])\n",
    "  return tweet\n",
    "\n",
    "# Generate 11 tweets\n",
    "tweets = [\n",
    "    {\"key\": tweet[\"id_str\"], \"value\": json.dumps(tweet)}\n",
    "    for tweet in [generate_tweet() for _ in range(11)]\n",
    "]"
   ]
  },
  {
   "cell_type": "code",
   "execution_count": 4,
   "id": "d104b6d8-5dc6-41f0-96cd-5ef27bef3db7",
   "metadata": {},
   "outputs": [
    {
     "name": "stdout",
     "output_type": "stream",
     "text": [
      "root\n",
      " |-- key: string (nullable = true)\n",
      " |-- value: string (nullable = true)\n",
      "\n"
     ]
    }
   ],
   "source": [
    "# Create DataFrame from tweets\n",
    "df = spark.createDataFrame(tweets)\n",
    "\n",
    "df.printSchema()"
   ]
  },
  {
   "cell_type": "code",
   "execution_count": 5,
   "id": "216bca00-cdc0-4f0c-83cc-1ac9f43cc725",
   "metadata": {},
   "outputs": [
    {
     "name": "stdout",
     "output_type": "stream",
     "text": [
      "+-------------------+--------------------+\n",
      "|                key|               value|\n",
      "+-------------------+--------------------+\n",
      "|2650335822288723984|{\"text\": \"finally...|\n",
      "|5780384821381590520|{\"text\": \"just di...|\n",
      "|6131546600826454432|{\"text\": \"can't b...|\n",
      "|5067458675131736321|{\"text\": \"finally...|\n",
      "|5524828952239728309|{\"text\": \"can't b...|\n",
      "|6302052410047609796|{\"text\": \"so exci...|\n",
      "|3584088957218351083|{\"text\": \"so exci...|\n",
      "|4036443486884828215|{\"text\": \"just di...|\n",
      "|8947696289899628888|{\"text\": \"finally...|\n",
      "|7774630392055017433|{\"text\": \"so exci...|\n",
      "|5701966646253446429|{\"text\": \"totally...|\n",
      "+-------------------+--------------------+\n",
      "\n"
     ]
    }
   ],
   "source": [
    "df.show()"
   ]
  },
  {
   "cell_type": "code",
   "execution_count": 6,
   "id": "66962b65-6eab-4fb1-8d3c-1476d11ab075",
   "metadata": {},
   "outputs": [],
   "source": [
    "# Write DataFrame as JSON to Kafka topic\n",
    "df.write \\\n",
    "  .format(\"kafka\") \\\n",
    "  .option(\"kafka.bootstrap.servers\", kafka_brokers) \\\n",
    "  .option(\"topic\", topic) \\\n",
    "  .mode(\"append\") \\\n",
    "  .save()\n",
    "\n",
    "# Stop SparkSession\n",
    "spark.stop()"
   ]
  },
  {
   "cell_type": "code",
   "execution_count": null,
   "id": "86eee8df-74fd-47e8-800d-b8ec958c226c",
   "metadata": {},
   "outputs": [],
   "source": []
  },
  {
   "cell_type": "code",
   "execution_count": null,
   "id": "d4438411-5501-40ad-b22a-93f22ef55634",
   "metadata": {},
   "outputs": [],
   "source": []
  }
 ],
 "metadata": {
  "kernelspec": {
   "display_name": "Python 3 (ipykernel)",
   "language": "python",
   "name": "python3"
  },
  "language_info": {
   "codemirror_mode": {
    "name": "ipython",
    "version": 3
   },
   "file_extension": ".py",
   "mimetype": "text/x-python",
   "name": "python",
   "nbconvert_exporter": "python",
   "pygments_lexer": "ipython3",
   "version": "3.12.7"
  }
 },
 "nbformat": 4,
 "nbformat_minor": 5
}

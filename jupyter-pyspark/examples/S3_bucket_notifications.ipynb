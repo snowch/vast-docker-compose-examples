{
 "cells": [
  {
   "cell_type": "markdown",
   "id": "10fed33d-be68-4c1b-a045-30f853f1e6a5",
   "metadata": {},
   "source": [
    "# Spark Connectivity Test to Vast DB and Vast S3"
   ]
  },
  {
   "cell_type": "markdown",
   "id": "6a3485e1-107b-481a-9fb5-a0825e6a06b0",
   "metadata": {},
   "source": [
    "## Load Endpoint Environment Variables"
   ]
  },
  {
   "cell_type": "markdown",
   "id": "7655dbdd-e541-429e-b653-ace158721613",
   "metadata": {},
   "source": [
    "This notebook users shell commands and relies on environment variables that have been passed into the container.\n",
    "\n",
    "We use the s3cmd tool to interact with S3."
   ]
  },
  {
   "cell_type": "markdown",
   "id": "1780ce92-fef0-4c30-b43b-a7989feb5705",
   "metadata": {},
   "source": [
    "## Add Parquet to S3"
   ]
  },
  {
   "cell_type": "markdown",
   "id": "dbc25bb3-e39c-45a2-bb4b-258d72d052a0",
   "metadata": {},
   "source": [
    "Configure s3cmd tool"
   ]
  },
  {
   "cell_type": "code",
   "execution_count": 2,
   "id": "7fc4f088-153b-4e5e-b0c3-bce186f71d38",
   "metadata": {},
   "outputs": [],
   "source": [
    "! /usr/local/bin/s3cmd_configure.sh"
   ]
  },
  {
   "cell_type": "markdown",
   "id": "0c090d3c-e20d-4329-9695-5902409ed3dd",
   "metadata": {},
   "source": [
    "Check S3 mount is working"
   ]
  },
  {
   "cell_type": "code",
   "execution_count": 3,
   "id": "93770ac2-3549-4d08-8bfd-72e56d49fd9f",
   "metadata": {},
   "outputs": [
    {
     "name": "stdout",
     "output_type": "stream",
     "text": [
      "2024-11-14 20:49       113629  s3://csnow-bucket/import-files/userdata1.parquet\n",
      "2024-11-14 20:49       112193  s3://csnow-bucket/import-files/userdata2.parquet\n",
      "2024-11-14 20:49       113239  s3://csnow-bucket/import-files/userdata3.parquet\n",
      "2024-11-14 20:49       113060  s3://csnow-bucket/import-files/userdata4.parquet\n",
      "2024-11-14 20:49       113424  s3://csnow-bucket/import-files/userdata5.parquet\n"
     ]
    }
   ],
   "source": [
    "! s3cmd ls s3://$S3A_BUCKET/import-files/"
   ]
  },
  {
   "cell_type": "code",
   "execution_count": 4,
   "id": "c945c76c-9869-4dae-badb-dfebf2747f21",
   "metadata": {},
   "outputs": [],
   "source": [
    "! wget -nc --continue \\\n",
    "       --quiet https://github.com/snowch/vast-docker-compose-examples/raw/refs/heads/main/demos/bulk_import/assets/userdata/userdata1.parquet\n",
    "! wget -nc --continue \\\n",
    "       --quiet https://github.com/snowch/vast-docker-compose-examples/raw/refs/heads/main/demos/bulk_import/assets/userdata/userdata2.parquet\n",
    "! wget -nc --continue \\\n",
    "       --quiet https://github.com/snowch/vast-docker-compose-examples/raw/refs/heads/main/demos/bulk_import/assets/userdata/userdata3.parquet\n",
    "! wget -nc --continue \\\n",
    "       --quiet https://github.com/snowch/vast-docker-compose-examples/raw/refs/heads/main/demos/bulk_import/assets/userdata/userdata4.parquet\n",
    "! wget -nc --continue \\\n",
    "       --quiet https://github.com/snowch/vast-docker-compose-examples/raw/refs/heads/main/demos/bulk_import/assets/userdata/userdata5.parquet\n"
   ]
  },
  {
   "cell_type": "code",
   "execution_count": 5,
   "id": "f97be3c1-d6a2-45cf-bb8a-3278db9c694e",
   "metadata": {},
   "outputs": [
    {
     "name": "stdout",
     "output_type": "stream",
     "text": [
      "WARNING: Module python-magic is not available. Guessing MIME types based on file extensions.\n",
      "upload: 'userdata1.parquet' -> 's3://csnow-bucket/import-files/userdata1.parquet' (113629 bytes in 0.0 seconds, 5.05 MB/s) [1 of 5]\n",
      "upload: 'userdata2.parquet' -> 's3://csnow-bucket/import-files/userdata2.parquet' (112193 bytes in 0.0 seconds, 13.81 MB/s) [2 of 5]\n",
      "upload: 'userdata3.parquet' -> 's3://csnow-bucket/import-files/userdata3.parquet' (113239 bytes in 0.0 seconds, 6.05 MB/s) [3 of 5]\n",
      "upload: 'userdata4.parquet' -> 's3://csnow-bucket/import-files/userdata4.parquet' (113060 bytes in 0.0 seconds, 15.88 MB/s) [4 of 5]\n",
      "upload: 'userdata5.parquet' -> 's3://csnow-bucket/import-files/userdata5.parquet' (113424 bytes in 0.0 seconds, 10.38 MB/s) [5 of 5]\n"
     ]
    }
   ],
   "source": [
    "! s3cmd put userdata*.parquet s3://${S3A_BUCKET}/import-files/"
   ]
  },
  {
   "cell_type": "code",
   "execution_count": 6,
   "id": "8f104813-f2f7-462b-a62c-9958bd48cb0e",
   "metadata": {},
   "outputs": [
    {
     "name": "stdout",
     "output_type": "stream",
     "text": [
      "2024-11-14 20:55       113629  s3://csnow-bucket/import-files/userdata1.parquet\n",
      "2024-11-14 20:55       112193  s3://csnow-bucket/import-files/userdata2.parquet\n",
      "2024-11-14 20:55       113239  s3://csnow-bucket/import-files/userdata3.parquet\n",
      "2024-11-14 20:55       113060  s3://csnow-bucket/import-files/userdata4.parquet\n",
      "2024-11-14 20:55       113424  s3://csnow-bucket/import-files/userdata5.parquet\n"
     ]
    }
   ],
   "source": [
    "! s3cmd ls s3://$S3A_BUCKET/import-files/"
   ]
  },
  {
   "cell_type": "code",
   "execution_count": null,
   "id": "7d52afee-714e-4a36-86fe-96ab466a4fc4",
   "metadata": {},
   "outputs": [],
   "source": []
  }
 ],
 "metadata": {
  "kernelspec": {
   "display_name": "Python 3 (ipykernel)",
   "language": "python",
   "name": "python3"
  },
  "language_info": {
   "codemirror_mode": {
    "name": "ipython",
    "version": 3
   },
   "file_extension": ".py",
   "mimetype": "text/x-python",
   "name": "python",
   "nbconvert_exporter": "python",
   "pygments_lexer": "ipython3",
   "version": "3.12.7"
  }
 },
 "nbformat": 4,
 "nbformat_minor": 5
}

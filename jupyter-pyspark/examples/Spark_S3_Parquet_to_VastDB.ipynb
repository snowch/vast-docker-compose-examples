{
 "cells": [
  {
   "cell_type": "markdown",
   "id": "10fed33d-be68-4c1b-a045-30f853f1e6a5",
   "metadata": {},
   "source": [
    "# Spark Connectivity Test to Vast DB and Vast S3"
   ]
  },
  {
   "cell_type": "markdown",
   "id": "6a3485e1-107b-481a-9fb5-a0825e6a06b0",
   "metadata": {},
   "source": [
    "## Load Endpoint Environment Variables"
   ]
  },
  {
   "cell_type": "markdown",
   "id": "7655dbdd-e541-429e-b653-ace158721613",
   "metadata": {},
   "source": [
    "These environment variables have been set when your docker container was created."
   ]
  },
  {
   "cell_type": "code",
   "execution_count": 1,
   "id": "204f19da-1de4-4e54-95e5-be3409dfaea5",
   "metadata": {},
   "outputs": [
    {
     "name": "stdout",
     "output_type": "stream",
     "text": [
      "\n",
      "---\n",
      "DOCKER_HOST_OR_IP=se-var-vastdb-ingest\n",
      "---\n",
      "VASTDB_ENDPOINT=http://172.200.201.1:80\n",
      "VASTDB_ACCESS_KEY=DYF8\n",
      "VASTDB_SECRET_KEY=****Usuu\n",
      "VASTDB_TWITTER_INGEST_BUCKET=csnowdb\n",
      "VASTDB_TWITTER_INGEST_SCHEMA=social_media\n",
      "VASTDB_TWITTER_INGEST_TABLE=tweets\n",
      "---\n",
      "S3_ENDPOINT=http://172.200.201.1:80\n",
      "S3_ACCESS_KEY=DYF8\n",
      "S3_SECRET_KEY=****Usuu\n",
      "S3A_ICEBERG_URI=s3a://csnow-bucket/iceberg/\n",
      "---\n",
      "\n"
     ]
    }
   ],
   "source": [
    "import os\n",
    "\n",
    "DOCKER_HOST_OR_IP = os.getenv(\"DOCKER_HOST_OR_IP\")\n",
    "\n",
    "VASTDB_ENDPOINT = os.getenv(\"VASTDB_ENDPOINT\")\n",
    "VASTDB_ACCESS_KEY = os.getenv(\"VASTDB_ACCESS_KEY\")\n",
    "VASTDB_SECRET_KEY = os.getenv(\"VASTDB_SECRET_KEY\")\n",
    "\n",
    "VASTDB_TWITTER_INGEST_BUCKET = os.getenv(\"VASTDB_TWITTER_INGEST_BUCKET\")\n",
    "VASTDB_TWITTER_INGEST_SCHEMA = os.getenv(\"VASTDB_TWITTER_INGEST_SCHEMA\")\n",
    "VASTDB_TWITTER_INGEST_TABLE = os.getenv(\"VASTDB_TWITTER_INGEST_TABLE\")\n",
    "\n",
    "S3_ENDPOINT = os.getenv(\"S3A_ENDPOINT\")\n",
    "S3_ACCESS_KEY = os.getenv(\"S3A_ACCESS_KEY\")\n",
    "S3_SECRET_KEY = os.getenv(\"S3A_SECRET_KEY\")\n",
    "\n",
    "S3A_ICEBERG_URI = os.getenv(\"S3A_ICEBERG_URI\")\n",
    "\n",
    "print(f\"\"\"\n",
    "---\n",
    "DOCKER_HOST_OR_IP={DOCKER_HOST_OR_IP}\n",
    "---\n",
    "VASTDB_ENDPOINT={VASTDB_ENDPOINT}\n",
    "VASTDB_ACCESS_KEY={VASTDB_ACCESS_KEY[-4:]}\n",
    "VASTDB_SECRET_KEY=****{VASTDB_SECRET_KEY[-4:]}\n",
    "VASTDB_TWITTER_INGEST_BUCKET={VASTDB_TWITTER_INGEST_BUCKET}\n",
    "VASTDB_TWITTER_INGEST_SCHEMA={VASTDB_TWITTER_INGEST_SCHEMA}\n",
    "VASTDB_TWITTER_INGEST_TABLE={VASTDB_TWITTER_INGEST_TABLE}\n",
    "---\n",
    "S3_ENDPOINT={S3_ENDPOINT}\n",
    "S3_ACCESS_KEY={S3_ACCESS_KEY[-4:]}\n",
    "S3_SECRET_KEY=****{VASTDB_SECRET_KEY[-4:]}\n",
    "S3A_ICEBERG_URI={S3A_ICEBERG_URI}\n",
    "---\n",
    "\"\"\")"
   ]
  },
  {
   "cell_type": "markdown",
   "id": "36cf87ca-92d2-46a1-abda-aa59b9a3f4ab",
   "metadata": {},
   "source": [
    "## Specify other Environment Variables"
   ]
  },
  {
   "cell_type": "code",
   "execution_count": 2,
   "id": "6596d81a-04e2-4007-9777-bf406c6ea190",
   "metadata": {},
   "outputs": [],
   "source": [
    "SPARK_APPLICATION_NAME='Spark Demo'"
   ]
  },
  {
   "cell_type": "markdown",
   "id": "4e356c0a-a13c-48e8-bf5f-0603a6953e31",
   "metadata": {},
   "source": [
    "## Start Spark Session"
   ]
  },
  {
   "cell_type": "code",
   "execution_count": 3,
   "id": "7385eee4-6b08-4be0-b6de-d95b64dac1d7",
   "metadata": {},
   "outputs": [
    {
     "name": "stdout",
     "output_type": "stream",
     "text": [
      "Spark successfully loaded\n"
     ]
    }
   ],
   "source": [
    "import socket\n",
    "import os\n",
    "import pyspark\n",
    "from pyspark.conf import SparkConf\n",
    "from pyspark.sql import SparkSession\n",
    "import pandas as pd\n",
    "pd.set_option(\"max_colwidth\", 150)\n",
    "\n",
    "conf = SparkConf()\n",
    "conf.setAll([\n",
    "    (\"spark.driver.host\", socket.gethostbyname(socket.gethostname())),\n",
    "    # (\"spark.sql.execution.arrow.pyspark.enabled\", \"false\"),\n",
    "    # VASTDB\n",
    "    (\"spark.sql.catalog.ndb\", 'spark.sql.catalog.ndb.VastCatalog'),\n",
    "    (\"spark.ndb.endpoint\", VASTDB_ENDPOINT),\n",
    "    (\"spark.ndb.data_endpoints\", VASTDB_ENDPOINT),\n",
    "    (\"spark.ndb.access_key_id\", VASTDB_ACCESS_KEY),\n",
    "    (\"spark.ndb.secret_access_key\", VASTDB_SECRET_KEY),\n",
    "    (\"spark.driver.extraClassPath\", '/usr/local/spark/jars/spark3-vast-3.4.1-f93839bfa38a/*'),\n",
    "    (\"spark.executor.extraClassPath\", '/usr/local/spark/jars/spark3-vast-3.4.1-f93839bfa38a/*'),\n",
    "    (\"spark.sql.extensions\", 'ndb.NDBSparkSessionExtension'),\n",
    "    # ICEBERG\n",
    "    (\"spark.sql.catalog.iceberg\", \"org.apache.iceberg.spark.SparkCatalog\"),\n",
    "    (\"spark.sql.catalog.iceberg.type\", \"hive\"),\n",
    "    (\"spark.sql.catalog.iceberg.uri\", f\"thrift://{DOCKER_HOST_OR_IP}:9083\"),\n",
    "    # S3A\n",
    "    (\"fs.s3a.impl\", \"org.apache.hadoop.fs.s3a.S3AFileSystem\"),\n",
    "    (\"fs.s3a.endpoint\", S3_ENDPOINT),\n",
    "    (\"fs.s3a.access.key\", S3_ACCESS_KEY),\n",
    "    (\"fs.s3a.secret.key\", S3_SECRET_KEY),\n",
    "    (\"fs.s3a.endpoint.region\", \"vast\"),\n",
    "    (\"fs.s3a.connection.ssl.enabled\", \"false\"),\n",
    "    # Hive\n",
    "    (\"hive.metastore.uris\", f\"thrift://{DOCKER_HOST_OR_IP}:9083\"),\n",
    "])\n",
    "\n",
    "spark = SparkSession.builder \\\n",
    "    .master(\"local\") \\\n",
    "    .appName(SPARK_APPLICATION_NAME) \\\n",
    "    .config(conf=conf) \\\n",
    "    .enableHiveSupport() \\\n",
    "    .getOrCreate()\n",
    "\n",
    "sc = spark.sparkContext\n",
    "sc.setLogLevel(\"DEBUG\")\n",
    "\n",
    "print(\"Spark successfully loaded\")"
   ]
  },
  {
   "cell_type": "code",
   "execution_count": 4,
   "id": "315482c2-5efe-486a-81b4-6c6ed5f592fe",
   "metadata": {},
   "outputs": [
    {
     "data": {
      "text/html": [
       "\n",
       "        <div>\n",
       "            <p><b>SparkContext</b></p>\n",
       "\n",
       "            <p><a href=\"None\">Spark UI</a></p>\n",
       "\n",
       "            <dl>\n",
       "              <dt>Version</dt>\n",
       "                <dd><code>v3.4.4</code></dd>\n",
       "              <dt>Master</dt>\n",
       "                <dd><code>local</code></dd>\n",
       "              <dt>AppName</dt>\n",
       "                <dd><code>Spark Demo</code></dd>\n",
       "            </dl>\n",
       "        </div>\n",
       "        "
      ],
      "text/plain": [
       "<SparkContext master=local appName=Spark Demo>"
      ]
     },
     "execution_count": 4,
     "metadata": {},
     "output_type": "execute_result"
    }
   ],
   "source": [
    "sc"
   ]
  },
  {
   "cell_type": "markdown",
   "id": "560205d4-086a-4b62-88c3-12abc17f4870",
   "metadata": {},
   "source": [
    "## Connect to Vast DB"
   ]
  },
  {
   "cell_type": "markdown",
   "id": "55b62420-0e4a-49ac-9fd9-23a06d7129e2",
   "metadata": {},
   "source": [
    "### Specify Environment"
   ]
  },
  {
   "cell_type": "code",
   "execution_count": 5,
   "id": "6cb0485c-3101-498c-989c-a665310a6767",
   "metadata": {},
   "outputs": [],
   "source": [
    "BUCKET_NAME = VASTDB_TWITTER_INGEST_BUCKET\n",
    "DATABASE_SCHEMA = 'NYC_DATA'\n",
    "TABLE_NAME = 'yellow_tripdata_2024'"
   ]
  },
  {
   "cell_type": "markdown",
   "id": "0d19a23a-9a00-4c6a-a058-dd03029fbc14",
   "metadata": {},
   "source": [
    "### Connect and run a query"
   ]
  },
  {
   "cell_type": "code",
   "execution_count": 6,
   "id": "5d383066-7f4b-4c7a-a88a-0da64a532f23",
   "metadata": {},
   "outputs": [
    {
     "name": "stdout",
     "output_type": "stream",
     "text": [
      "Using DATABASE_FULLNAME='ndb.`csnowdb`.`NYC_DATA`'\n"
     ]
    }
   ],
   "source": [
    "DATABASE_FULLNAME = f\"ndb.`{BUCKET_NAME}`.`{DATABASE_SCHEMA}`\"\n",
    "\n",
    "spark.sql(f\"create schema if not exists {DATABASE_FULLNAME}\")\n",
    "\n",
    "# Set the database name so we don't have to fully qualify all object names\n",
    "# https://spark.apache.org/docs/latest/sql-ref-syntax-ddl-usedb.html\n",
    "# spark.sql(f\"use {DATABASE_FULLNAME}\")\n",
    "\n",
    "print(f\"Using {DATABASE_FULLNAME=}\")"
   ]
  },
  {
   "cell_type": "markdown",
   "id": "1780ce92-fef0-4c30-b43b-a7989feb5705",
   "metadata": {},
   "source": [
    "## Read Parquet on Vast S3 and write to Vast DB"
   ]
  },
  {
   "cell_type": "markdown",
   "id": "0c090d3c-e20d-4329-9695-5902409ed3dd",
   "metadata": {},
   "source": [
    "Check S3 mount is working"
   ]
  },
  {
   "cell_type": "code",
   "execution_count": 7,
   "id": "1759667f-9886-4176-9d87-69625a4d56ed",
   "metadata": {},
   "outputs": [
    {
     "name": "stdout",
     "output_type": "stream",
     "text": [
      "dst1_test-suite  iceberg  import-files\tnyc-data  userdata\n"
     ]
    }
   ],
   "source": [
    "! ls ../s3"
   ]
  },
  {
   "cell_type": "code",
   "execution_count": 8,
   "id": "60306c14-45c2-4ea3-9b88-cc817dc477b9",
   "metadata": {},
   "outputs": [],
   "source": [
    "! mkdir -p ../s3/nyc-data/"
   ]
  },
  {
   "cell_type": "code",
   "execution_count": 9,
   "id": "8c7e5be0-9954-4242-b6df-c7e8d67e6bc1",
   "metadata": {},
   "outputs": [
    {
     "name": "stdout",
     "output_type": "stream",
     "text": [
      "                          DIR  s3://csnow-bucket/dst1_test-suite/\n",
      "                          DIR  s3://csnow-bucket/iceberg/\n",
      "                          DIR  s3://csnow-bucket/import-files/\n",
      "                          DIR  s3://csnow-bucket/nyc-data/\n",
      "                          DIR  s3://csnow-bucket/userdata/\n"
     ]
    }
   ],
   "source": [
    "! pip install --quiet s3cmd\n",
    "! s3cmd --access_key=${S3A_ACCESS_KEY} \\\n",
    "        --secret_key=${S3A_SECRET_KEY} \\\n",
    "        --host=$(echo $S3A_ENDPOINT | sed -s 's@http://@@' | sed -s 's@:.*@@g') \\\n",
    "        --host-bucket=${S3A_BUCKET} \\\n",
    "        --no-check-certificate \\\n",
    "        ls s3://${S3A_BUCKET}/"
   ]
  },
  {
   "cell_type": "code",
   "execution_count": 10,
   "id": "c945c76c-9869-4dae-badb-dfebf2747f21",
   "metadata": {},
   "outputs": [],
   "source": [
    "! wget -nc --continue \\\n",
    "       --quiet https://d37ci6vzurychx.cloudfront.net/trip-data/yellow_tripdata_2024-01.parquet\n",
    "! wget -nc --continue \\\n",
    "       --quiet https://d37ci6vzurychx.cloudfront.net/trip-data/yellow_tripdata_2024-02.parquet"
   ]
  },
  {
   "cell_type": "code",
   "execution_count": 11,
   "id": "f97be3c1-d6a2-45cf-bb8a-3278db9c694e",
   "metadata": {},
   "outputs": [
    {
     "name": "stdout",
     "output_type": "stream",
     "text": [
      "WARNING: Module python-magic is not available. Guessing MIME types based on file extensions.\n"
     ]
    }
   ],
   "source": [
    "! s3cmd --access_key=${S3A_ACCESS_KEY} \\\n",
    "        --secret_key=${S3A_SECRET_KEY} \\\n",
    "        --host=$(echo $S3A_ENDPOINT | sed -s 's@http://@@' | sed -s 's@:.*@@g') \\\n",
    "        --host-bucket=${S3A_BUCKET} \\\n",
    "        --no-check-certificate \\\n",
    "        --quiet \\\n",
    "        put *.parquet s3://${S3A_BUCKET}/nyc-data/"
   ]
  },
  {
   "cell_type": "code",
   "execution_count": 12,
   "id": "5b4d1130-dec0-4bd5-9a63-06b6e9c3a239",
   "metadata": {},
   "outputs": [
    {
     "name": "stdout",
     "output_type": "stream",
     "text": [
      "yellow_tripdata_2024-01.parquet  yellow_tripdata_2024-02.parquet\n"
     ]
    }
   ],
   "source": [
    "! ls ../s3/nyc-data"
   ]
  },
  {
   "cell_type": "code",
   "execution_count": 13,
   "id": "56109dc4-1891-4759-b32f-443fa730fffc",
   "metadata": {},
   "outputs": [],
   "source": [
    "from pyspark.sql.functions import col\n",
    "\n",
    "df = spark.read.format(\"parquet\") \\\n",
    "    .load(\"s3a://csnow-bucket/nyc-data/\")\n",
    "\n",
    "# cast unsupported field types - just use string for now\n",
    "df = df.withColumn(\"tpep_pickup_datetime\", col(\"tpep_pickup_datetime\").cast(\"string\")) \\\n",
    "       .withColumn(\"tpep_dropoff_datetime\", col(\"tpep_dropoff_datetime\").cast(\"string\")) "
   ]
  },
  {
   "cell_type": "code",
   "execution_count": 14,
   "id": "cef0d4d8-0473-4252-a1a5-00c9a0109a90",
   "metadata": {},
   "outputs": [
    {
     "name": "stdout",
     "output_type": "stream",
     "text": [
      "root\n",
      " |-- VendorID: integer (nullable = true)\n",
      " |-- tpep_pickup_datetime: string (nullable = true)\n",
      " |-- tpep_dropoff_datetime: string (nullable = true)\n",
      " |-- passenger_count: long (nullable = true)\n",
      " |-- trip_distance: double (nullable = true)\n",
      " |-- RatecodeID: long (nullable = true)\n",
      " |-- store_and_fwd_flag: string (nullable = true)\n",
      " |-- PULocationID: integer (nullable = true)\n",
      " |-- DOLocationID: integer (nullable = true)\n",
      " |-- payment_type: long (nullable = true)\n",
      " |-- fare_amount: double (nullable = true)\n",
      " |-- extra: double (nullable = true)\n",
      " |-- mta_tax: double (nullable = true)\n",
      " |-- tip_amount: double (nullable = true)\n",
      " |-- tolls_amount: double (nullable = true)\n",
      " |-- improvement_surcharge: double (nullable = true)\n",
      " |-- total_amount: double (nullable = true)\n",
      " |-- congestion_surcharge: double (nullable = true)\n",
      " |-- Airport_fee: double (nullable = true)\n",
      "\n"
     ]
    }
   ],
   "source": [
    "df.printSchema()"
   ]
  },
  {
   "cell_type": "code",
   "execution_count": 15,
   "id": "b552f4f2-0a77-42fd-8c00-aef9d8c0958f",
   "metadata": {},
   "outputs": [],
   "source": [
    "df.createOrReplaceTempView(\"temp_trips\")"
   ]
  },
  {
   "cell_type": "code",
   "execution_count": 16,
   "id": "fa7a2899-149f-4438-887b-2d1c4188c498",
   "metadata": {},
   "outputs": [],
   "source": [
    "df = spark.sql(f\"\"\"\n",
    "DROP TABLE IF EXISTS {DATABASE_FULLNAME}.{TABLE_NAME}\n",
    "\"\"\")"
   ]
  },
  {
   "cell_type": "code",
   "execution_count": 17,
   "id": "1e1c0af7-64ca-4d40-b3e8-f3c797213168",
   "metadata": {},
   "outputs": [],
   "source": [
    "# This next cell can take a few minutes"
   ]
  },
  {
   "cell_type": "code",
   "execution_count": 18,
   "id": "fe5aecca-bebb-484f-8cac-c2ef2b0bdc36",
   "metadata": {},
   "outputs": [],
   "source": [
    "df = spark.sql(f\"\"\"\n",
    "CREATE TABLE {DATABASE_FULLNAME}.{TABLE_NAME}\n",
    "AS\n",
    "SELECT * FROM temp_trips\n",
    "\"\"\")"
   ]
  },
  {
   "cell_type": "code",
   "execution_count": 19,
   "id": "453e7bb3-431f-4774-a490-386c607e9fc2",
   "metadata": {},
   "outputs": [
    {
     "data": {
      "text/html": [
       "<div>\n",
       "<style scoped>\n",
       "    .dataframe tbody tr th:only-of-type {\n",
       "        vertical-align: middle;\n",
       "    }\n",
       "\n",
       "    .dataframe tbody tr th {\n",
       "        vertical-align: top;\n",
       "    }\n",
       "\n",
       "    .dataframe thead th {\n",
       "        text-align: right;\n",
       "    }\n",
       "</style>\n",
       "<table border=\"1\" class=\"dataframe\">\n",
       "  <thead>\n",
       "    <tr style=\"text-align: right;\">\n",
       "      <th></th>\n",
       "      <th>VendorID</th>\n",
       "      <th>tpep_pickup_datetime</th>\n",
       "      <th>tpep_dropoff_datetime</th>\n",
       "      <th>passenger_count</th>\n",
       "      <th>trip_distance</th>\n",
       "      <th>RatecodeID</th>\n",
       "      <th>store_and_fwd_flag</th>\n",
       "      <th>PULocationID</th>\n",
       "      <th>DOLocationID</th>\n",
       "      <th>payment_type</th>\n",
       "      <th>fare_amount</th>\n",
       "      <th>extra</th>\n",
       "      <th>mta_tax</th>\n",
       "      <th>tip_amount</th>\n",
       "      <th>tolls_amount</th>\n",
       "      <th>improvement_surcharge</th>\n",
       "      <th>total_amount</th>\n",
       "      <th>congestion_surcharge</th>\n",
       "      <th>Airport_fee</th>\n",
       "    </tr>\n",
       "  </thead>\n",
       "  <tbody>\n",
       "    <tr>\n",
       "      <th>0</th>\n",
       "      <td>2</td>\n",
       "      <td>2024-02-06 14:26:56</td>\n",
       "      <td>2024-02-06 14:30:52</td>\n",
       "      <td>1</td>\n",
       "      <td>1.06</td>\n",
       "      <td>1</td>\n",
       "      <td>N</td>\n",
       "      <td>262</td>\n",
       "      <td>75</td>\n",
       "      <td>2</td>\n",
       "      <td>7.2</td>\n",
       "      <td>0.0</td>\n",
       "      <td>0.5</td>\n",
       "      <td>0.00</td>\n",
       "      <td>0.0</td>\n",
       "      <td>1.0</td>\n",
       "      <td>11.20</td>\n",
       "      <td>2.5</td>\n",
       "      <td>0.0</td>\n",
       "    </tr>\n",
       "    <tr>\n",
       "      <th>1</th>\n",
       "      <td>2</td>\n",
       "      <td>2024-02-06 14:33:53</td>\n",
       "      <td>2024-02-06 14:40:17</td>\n",
       "      <td>1</td>\n",
       "      <td>1.24</td>\n",
       "      <td>1</td>\n",
       "      <td>N</td>\n",
       "      <td>75</td>\n",
       "      <td>236</td>\n",
       "      <td>2</td>\n",
       "      <td>8.6</td>\n",
       "      <td>0.0</td>\n",
       "      <td>0.5</td>\n",
       "      <td>0.00</td>\n",
       "      <td>0.0</td>\n",
       "      <td>1.0</td>\n",
       "      <td>12.60</td>\n",
       "      <td>2.5</td>\n",
       "      <td>0.0</td>\n",
       "    </tr>\n",
       "    <tr>\n",
       "      <th>2</th>\n",
       "      <td>2</td>\n",
       "      <td>2024-02-06 14:00:20</td>\n",
       "      <td>2024-02-06 14:11:24</td>\n",
       "      <td>2</td>\n",
       "      <td>1.03</td>\n",
       "      <td>1</td>\n",
       "      <td>N</td>\n",
       "      <td>237</td>\n",
       "      <td>233</td>\n",
       "      <td>1</td>\n",
       "      <td>11.4</td>\n",
       "      <td>0.0</td>\n",
       "      <td>0.5</td>\n",
       "      <td>0.00</td>\n",
       "      <td>0.0</td>\n",
       "      <td>1.0</td>\n",
       "      <td>15.40</td>\n",
       "      <td>2.5</td>\n",
       "      <td>0.0</td>\n",
       "    </tr>\n",
       "    <tr>\n",
       "      <th>3</th>\n",
       "      <td>2</td>\n",
       "      <td>2024-02-06 14:32:39</td>\n",
       "      <td>2024-02-06 14:39:57</td>\n",
       "      <td>2</td>\n",
       "      <td>1.26</td>\n",
       "      <td>1</td>\n",
       "      <td>N</td>\n",
       "      <td>164</td>\n",
       "      <td>161</td>\n",
       "      <td>1</td>\n",
       "      <td>9.3</td>\n",
       "      <td>0.0</td>\n",
       "      <td>0.5</td>\n",
       "      <td>2.66</td>\n",
       "      <td>0.0</td>\n",
       "      <td>1.0</td>\n",
       "      <td>15.96</td>\n",
       "      <td>2.5</td>\n",
       "      <td>0.0</td>\n",
       "    </tr>\n",
       "    <tr>\n",
       "      <th>4</th>\n",
       "      <td>2</td>\n",
       "      <td>2024-02-06 14:15:02</td>\n",
       "      <td>2024-02-06 14:50:55</td>\n",
       "      <td>1</td>\n",
       "      <td>4.65</td>\n",
       "      <td>1</td>\n",
       "      <td>N</td>\n",
       "      <td>161</td>\n",
       "      <td>42</td>\n",
       "      <td>1</td>\n",
       "      <td>32.4</td>\n",
       "      <td>0.0</td>\n",
       "      <td>0.5</td>\n",
       "      <td>7.28</td>\n",
       "      <td>0.0</td>\n",
       "      <td>1.0</td>\n",
       "      <td>43.68</td>\n",
       "      <td>2.5</td>\n",
       "      <td>0.0</td>\n",
       "    </tr>\n",
       "    <tr>\n",
       "      <th>...</th>\n",
       "      <td>...</td>\n",
       "      <td>...</td>\n",
       "      <td>...</td>\n",
       "      <td>...</td>\n",
       "      <td>...</td>\n",
       "      <td>...</td>\n",
       "      <td>...</td>\n",
       "      <td>...</td>\n",
       "      <td>...</td>\n",
       "      <td>...</td>\n",
       "      <td>...</td>\n",
       "      <td>...</td>\n",
       "      <td>...</td>\n",
       "      <td>...</td>\n",
       "      <td>...</td>\n",
       "      <td>...</td>\n",
       "      <td>...</td>\n",
       "      <td>...</td>\n",
       "      <td>...</td>\n",
       "    </tr>\n",
       "    <tr>\n",
       "      <th>95</th>\n",
       "      <td>2</td>\n",
       "      <td>2024-02-06 14:35:55</td>\n",
       "      <td>2024-02-06 14:47:55</td>\n",
       "      <td>1</td>\n",
       "      <td>3.34</td>\n",
       "      <td>1</td>\n",
       "      <td>N</td>\n",
       "      <td>263</td>\n",
       "      <td>170</td>\n",
       "      <td>1</td>\n",
       "      <td>17.7</td>\n",
       "      <td>0.0</td>\n",
       "      <td>0.5</td>\n",
       "      <td>5.42</td>\n",
       "      <td>0.0</td>\n",
       "      <td>1.0</td>\n",
       "      <td>27.12</td>\n",
       "      <td>2.5</td>\n",
       "      <td>0.0</td>\n",
       "    </tr>\n",
       "    <tr>\n",
       "      <th>96</th>\n",
       "      <td>2</td>\n",
       "      <td>2024-02-06 14:56:23</td>\n",
       "      <td>2024-02-06 15:09:11</td>\n",
       "      <td>1</td>\n",
       "      <td>0.86</td>\n",
       "      <td>1</td>\n",
       "      <td>N</td>\n",
       "      <td>161</td>\n",
       "      <td>230</td>\n",
       "      <td>2</td>\n",
       "      <td>11.4</td>\n",
       "      <td>0.0</td>\n",
       "      <td>0.5</td>\n",
       "      <td>0.00</td>\n",
       "      <td>0.0</td>\n",
       "      <td>1.0</td>\n",
       "      <td>15.40</td>\n",
       "      <td>2.5</td>\n",
       "      <td>0.0</td>\n",
       "    </tr>\n",
       "    <tr>\n",
       "      <th>97</th>\n",
       "      <td>2</td>\n",
       "      <td>2024-02-06 14:48:21</td>\n",
       "      <td>2024-02-06 14:58:00</td>\n",
       "      <td>1</td>\n",
       "      <td>1.77</td>\n",
       "      <td>1</td>\n",
       "      <td>N</td>\n",
       "      <td>114</td>\n",
       "      <td>224</td>\n",
       "      <td>1</td>\n",
       "      <td>11.4</td>\n",
       "      <td>0.0</td>\n",
       "      <td>0.5</td>\n",
       "      <td>4.62</td>\n",
       "      <td>0.0</td>\n",
       "      <td>1.0</td>\n",
       "      <td>20.02</td>\n",
       "      <td>2.5</td>\n",
       "      <td>0.0</td>\n",
       "    </tr>\n",
       "    <tr>\n",
       "      <th>98</th>\n",
       "      <td>2</td>\n",
       "      <td>2024-02-06 14:13:01</td>\n",
       "      <td>2024-02-06 14:36:35</td>\n",
       "      <td>2</td>\n",
       "      <td>4.09</td>\n",
       "      <td>1</td>\n",
       "      <td>N</td>\n",
       "      <td>232</td>\n",
       "      <td>246</td>\n",
       "      <td>1</td>\n",
       "      <td>24.7</td>\n",
       "      <td>0.0</td>\n",
       "      <td>0.5</td>\n",
       "      <td>5.74</td>\n",
       "      <td>0.0</td>\n",
       "      <td>1.0</td>\n",
       "      <td>34.44</td>\n",
       "      <td>2.5</td>\n",
       "      <td>0.0</td>\n",
       "    </tr>\n",
       "    <tr>\n",
       "      <th>99</th>\n",
       "      <td>2</td>\n",
       "      <td>2024-02-06 14:39:31</td>\n",
       "      <td>2024-02-06 14:53:16</td>\n",
       "      <td>3</td>\n",
       "      <td>1.62</td>\n",
       "      <td>1</td>\n",
       "      <td>N</td>\n",
       "      <td>246</td>\n",
       "      <td>234</td>\n",
       "      <td>1</td>\n",
       "      <td>13.5</td>\n",
       "      <td>0.0</td>\n",
       "      <td>0.5</td>\n",
       "      <td>1.00</td>\n",
       "      <td>0.0</td>\n",
       "      <td>1.0</td>\n",
       "      <td>18.50</td>\n",
       "      <td>2.5</td>\n",
       "      <td>0.0</td>\n",
       "    </tr>\n",
       "  </tbody>\n",
       "</table>\n",
       "<p>100 rows × 19 columns</p>\n",
       "</div>"
      ],
      "text/plain": [
       "    VendorID tpep_pickup_datetime tpep_dropoff_datetime  passenger_count  \\\n",
       "0          2  2024-02-06 14:26:56   2024-02-06 14:30:52                1   \n",
       "1          2  2024-02-06 14:33:53   2024-02-06 14:40:17                1   \n",
       "2          2  2024-02-06 14:00:20   2024-02-06 14:11:24                2   \n",
       "3          2  2024-02-06 14:32:39   2024-02-06 14:39:57                2   \n",
       "4          2  2024-02-06 14:15:02   2024-02-06 14:50:55                1   \n",
       "..       ...                  ...                   ...              ...   \n",
       "95         2  2024-02-06 14:35:55   2024-02-06 14:47:55                1   \n",
       "96         2  2024-02-06 14:56:23   2024-02-06 15:09:11                1   \n",
       "97         2  2024-02-06 14:48:21   2024-02-06 14:58:00                1   \n",
       "98         2  2024-02-06 14:13:01   2024-02-06 14:36:35                2   \n",
       "99         2  2024-02-06 14:39:31   2024-02-06 14:53:16                3   \n",
       "\n",
       "    trip_distance  RatecodeID store_and_fwd_flag  PULocationID  DOLocationID  \\\n",
       "0            1.06           1                  N           262            75   \n",
       "1            1.24           1                  N            75           236   \n",
       "2            1.03           1                  N           237           233   \n",
       "3            1.26           1                  N           164           161   \n",
       "4            4.65           1                  N           161            42   \n",
       "..            ...         ...                ...           ...           ...   \n",
       "95           3.34           1                  N           263           170   \n",
       "96           0.86           1                  N           161           230   \n",
       "97           1.77           1                  N           114           224   \n",
       "98           4.09           1                  N           232           246   \n",
       "99           1.62           1                  N           246           234   \n",
       "\n",
       "    payment_type  fare_amount  extra  mta_tax  tip_amount  tolls_amount  \\\n",
       "0              2          7.2    0.0      0.5        0.00           0.0   \n",
       "1              2          8.6    0.0      0.5        0.00           0.0   \n",
       "2              1         11.4    0.0      0.5        0.00           0.0   \n",
       "3              1          9.3    0.0      0.5        2.66           0.0   \n",
       "4              1         32.4    0.0      0.5        7.28           0.0   \n",
       "..           ...          ...    ...      ...         ...           ...   \n",
       "95             1         17.7    0.0      0.5        5.42           0.0   \n",
       "96             2         11.4    0.0      0.5        0.00           0.0   \n",
       "97             1         11.4    0.0      0.5        4.62           0.0   \n",
       "98             1         24.7    0.0      0.5        5.74           0.0   \n",
       "99             1         13.5    0.0      0.5        1.00           0.0   \n",
       "\n",
       "    improvement_surcharge  total_amount  congestion_surcharge  Airport_fee  \n",
       "0                     1.0         11.20                   2.5          0.0  \n",
       "1                     1.0         12.60                   2.5          0.0  \n",
       "2                     1.0         15.40                   2.5          0.0  \n",
       "3                     1.0         15.96                   2.5          0.0  \n",
       "4                     1.0         43.68                   2.5          0.0  \n",
       "..                    ...           ...                   ...          ...  \n",
       "95                    1.0         27.12                   2.5          0.0  \n",
       "96                    1.0         15.40                   2.5          0.0  \n",
       "97                    1.0         20.02                   2.5          0.0  \n",
       "98                    1.0         34.44                   2.5          0.0  \n",
       "99                    1.0         18.50                   2.5          0.0  \n",
       "\n",
       "[100 rows x 19 columns]"
      ]
     },
     "execution_count": 19,
     "metadata": {},
     "output_type": "execute_result"
    }
   ],
   "source": [
    "spark.sql(f\"\"\"\n",
    "SELECT * FROM {DATABASE_FULLNAME}.{TABLE_NAME} LIMIT 100\n",
    "\"\"\").toPandas()"
   ]
  },
  {
   "cell_type": "code",
   "execution_count": null,
   "id": "7d52afee-714e-4a36-86fe-96ab466a4fc4",
   "metadata": {},
   "outputs": [],
   "source": []
  }
 ],
 "metadata": {
  "kernelspec": {
   "display_name": "Python 3 (ipykernel)",
   "language": "python",
   "name": "python3"
  },
  "language_info": {
   "codemirror_mode": {
    "name": "ipython",
    "version": 3
   },
   "file_extension": ".py",
   "mimetype": "text/x-python",
   "name": "python",
   "nbconvert_exporter": "python",
   "pygments_lexer": "ipython3",
   "version": "3.12.7"
  }
 },
 "nbformat": 4,
 "nbformat_minor": 5
}

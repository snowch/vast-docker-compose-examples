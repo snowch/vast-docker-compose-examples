{
 "cells": [
  {
   "cell_type": "markdown",
   "id": "a523f92d-6eb5-43a6-92bc-80b33ecabbe1",
   "metadata": {},
   "source": [
    "Fraud_Detector"
   ]
  },
  {
   "cell_type": "markdown",
   "id": "4cba218b-786c-4787-ad23-569d0044fe1f",
   "metadata": {},
   "source": [
    "# Trade Settlement (Spark Streaming app that consumes stock settlement data from Kafka and stores them into the  VAST Database"
   ]
  },
  {
   "cell_type": "code",
   "execution_count": 1,
   "id": "8311525d-91b5-440b-986a-cf708b915c98",
   "metadata": {},
   "outputs": [
    {
     "name": "stdout",
     "output_type": "stream",
     "text": [
      "\n",
      "---\n",
      "DOCKER_HOST_OR_IP=10.143.11.241\n",
      "---\n",
      "VASTDB_ENDPOINT=http://172.200.204.2:80\n",
      "VASTDB_ACCESS_KEY==****QXN5\n",
      "VASTDB_SECRET_KEY=****oLGr\n",
      "VASTDB_FRAUD_DETECTION_BUCKET=csnow-db\n",
      "VASTDB_FRAUD_DETECTION_SCHEMA=fraud_detection\n",
      "# VASTDB_FRAUD_DETECTION_TABLE=fraud\n",
      "---\n",
      "\n"
     ]
    }
   ],
   "source": [
    "import os\n",
    "\n",
    "# Load environment variables for Kafka and VastDB connectivity\n",
    "DOCKER_HOST_OR_IP = os.getenv(\"DOCKER_HOST_OR_IP\", \"localhost\")\n",
    "VASTDB_ENDPOINT = os.getenv(\"VASTDB_ENDPOINT\")\n",
    "VASTDB_ACCESS_KEY = os.getenv(\"VASTDB_ACCESS_KEY\")\n",
    "VASTDB_SECRET_KEY = os.getenv(\"VASTDB_SECRET_KEY\")\n",
    "\n",
    "VASTDB_FRAUD_DETECTION_BUCKET = os.getenv(\"VASTDB_FRAUD_DETECTION_BUCKET\")\n",
    "VASTDB_FRAUD_DETECTION_SCHEMA = os.getenv(\"VASTDB_FRAUD_DETECTION_SCHEMA\")\n",
    "VASTDB_FRAUD_DETECTION_TABLE = 'fraud'\n",
    "\n",
    "# Print configurations\n",
    "print(f\"\"\"\n",
    "---\n",
    "DOCKER_HOST_OR_IP={DOCKER_HOST_OR_IP}\n",
    "---\n",
    "VASTDB_ENDPOINT={VASTDB_ENDPOINT}\n",
    "VASTDB_ACCESS_KEY==****{VASTDB_ACCESS_KEY[-4:]}\n",
    "VASTDB_SECRET_KEY=****{VASTDB_SECRET_KEY[-4:]}\n",
    "VASTDB_FRAUD_DETECTION_BUCKET={VASTDB_FRAUD_DETECTION_BUCKET}\n",
    "VASTDB_FRAUD_DETECTION_SCHEMA={VASTDB_FRAUD_DETECTION_SCHEMA}\n",
    "# VASTDB_FRAUD_DETECTION_TABLE={VASTDB_FRAUD_DETECTION_TABLE}\n",
    "---\n",
    "\"\"\")\n",
    "\n",
    "# Kafka Configuration\n",
    "kafka_brokers = f'{DOCKER_HOST_OR_IP}:19092'\n",
    "topic = 'stock-settlement'"
   ]
  },
  {
   "cell_type": "markdown",
   "id": "7269aa1b-8af2-4200-a15b-7d3f7ac5c43d",
   "metadata": {},
   "source": [
    "Create Vast DB schema if it doesn't exist."
   ]
  },
  {
   "cell_type": "code",
   "execution_count": 2,
   "id": "93bdf80c-b2c8-4135-8948-4f47d395ece0",
   "metadata": {},
   "outputs": [],
   "source": [
    "%%capture --no-stderr\n",
    "%pip install --quiet -U vastdb"
   ]
  },
  {
   "cell_type": "code",
   "execution_count": 3,
   "id": "926f7c72-dabd-4a80-a039-084c0e4bf976",
   "metadata": {},
   "outputs": [],
   "source": [
    "import vastdb\n",
    "\n",
    "session = vastdb.connect(endpoint=VASTDB_ENDPOINT, access=VASTDB_ACCESS_KEY, secret=VASTDB_SECRET_KEY)\n",
    "with session.transaction() as tx:\n",
    "    bucket = tx.bucket(VASTDB_FRAUD_DETECTION_BUCKET)\n",
    "    bucket.schema(VASTDB_FRAUD_DETECTION_SCHEMA, fail_if_missing=False) or bucket.create_schema(VASTDB_FRAUD_DETECTION_SCHEMA)"
   ]
  },
  {
   "cell_type": "code",
   "execution_count": 4,
   "id": "9488ff35-56ab-4f59-8a1f-4de356a5701b",
   "metadata": {},
   "outputs": [
    {
     "name": "stdout",
     "output_type": "stream",
     "text": [
      "Spark successfully loaded\n",
      "\n"
     ]
    }
   ],
   "source": [
    "import socket\n",
    "import pyspark\n",
    "from pyspark.conf import SparkConf\n",
    "from pyspark.sql import SparkSession\n",
    "from pyspark.sql.functions import from_json, col, count\n",
    "from pyspark.sql.types import StructType, StructField, StringType, LongType, DoubleType, BooleanType\n",
    "import threading\n",
    "import time\n",
    "\n",
    "# Spark Configuration\n",
    "conf = SparkConf()\n",
    "conf.setAll([\n",
    "    (\"spark.driver.host\", socket.gethostbyname(socket.gethostname())),\n",
    "    (\"spark.sql.execution.arrow.pyspark.enabled\", \"false\"),\n",
    "    # VASTDB\n",
    "    (\"spark.sql.catalog.ndb\", 'spark.sql.catalog.ndb.VastCatalog'),\n",
    "    (\"spark.ndb.endpoint\", VASTDB_ENDPOINT),\n",
    "    (\"spark.ndb.data_endpoints\", VASTDB_ENDPOINT),\n",
    "    (\"spark.ndb.access_key_id\", VASTDB_ACCESS_KEY),\n",
    "    (\"spark.ndb.secret_access_key\", VASTDB_SECRET_KEY),\n",
    "    (\"spark.driver.extraClassPath\", '/usr/local/spark/jars/spark3-vast-3.4.1-f93839bfa38a/*'),\n",
    "    (\"spark.executor.extraClassPath\", '/usr/local/spark/jars/spark3-vast-3.4.1-f93839bfa38a/*'),\n",
    "    (\"spark.sql.extensions\", 'ndb.NDBSparkSessionExtension'),\n",
    "    # Kafka\n",
    "    (\"spark.jars.packages\", \"org.apache.spark:spark-sql-kafka-0-10_2.13:3.4.3,\" \n",
    "                            \"org.apache.logging.log4j:log4j-slf4j2-impl:2.19.0,\" \n",
    "                            \"org.apache.logging.log4j:log4j-api:2.19.0,\" \n",
    "                            \"org.apache.logging.log4j:log4j-core:2.19.0\"),\n",
    "    (\"spark.jars.excludes\", \"org.slf4j:slf4j-api,org.slf4j:slf4j-log4j12\"),\n",
    "    (\"spark.hadoop.fs.file.impl\", \"org.apache.hadoop.fs.RawLocalFileSystem\"),\n",
    "])\n",
    "\n",
    "spark = SparkSession.builder \\\n",
    "    .master(\"local\") \\\n",
    "    .appName(\"KafkaStreamingToVastDB\") \\\n",
    "    .config(conf=conf) \\\n",
    "    .enableHiveSupport() \\\n",
    "    .getOrCreate()\n",
    "\n",
    "sc = spark.sparkContext\n",
    "sc.setLogLevel(\"DEBUG\")\n",
    "\n",
    "print(\"Spark successfully loaded\\n\")\n"
   ]
  },
  {
   "cell_type": "code",
   "execution_count": 5,
   "id": "39e771cf-14c2-45e8-8222-6153e5ec3be5",
   "metadata": {},
   "outputs": [
    {
     "data": {
      "text/plain": [
       "'`ndb`.`csnow-db`.`fraud_detection`.`fraud`'"
      ]
     },
     "execution_count": 5,
     "metadata": {},
     "output_type": "execute_result"
    }
   ],
   "source": [
    "destination_table_name = f\"`ndb`.`{VASTDB_FRAUD_DETECTION_BUCKET}`.`{VASTDB_FRAUD_DETECTION_SCHEMA}`.`{VASTDB_FRAUD_DETECTION_TABLE}`\"\n",
    "destination_table_name"
   ]
  },
  {
   "cell_type": "code",
   "execution_count": null,
   "id": "5642f2ec-902d-4665-864a-606a3606a51e",
   "metadata": {},
   "outputs": [
    {
     "name": "stdout",
     "output_type": "stream",
     "text": [
      "\n",
      "Starting Spark streaming job...\n",
      "Last update: 08:50:30 | Batch 0: 0 records | Total messages: 0 | DB rows: 0     "
     ]
    }
   ],
   "source": [
    "import os\n",
    "import time\n",
    "import threading\n",
    "import pyspark\n",
    "from pyspark.sql.functions import col, from_json\n",
    "from pyspark.sql.types import *\n",
    "\n",
    "# Create checkpoint directory with absolute path\n",
    "checkpoint_dir = os.path.abspath(\"/tmp/spark_checkpoint\")\n",
    "os.makedirs(checkpoint_dir, exist_ok=True)\n",
    "\n",
    "# Define schema for Kafka message\n",
    "schema = StructType([\n",
    "    StructField(\"partitionID\", LongType(), True),\n",
    "    StructField(\"offset\", LongType(), True),\n",
    "    StructField(\"timestamp\", LongType(), True),\n",
    "    StructField(\"compression\", StringType(), True),\n",
    "    StructField(\"isTransactional\", BooleanType(), True),\n",
    "    StructField(\"key\", StructType([\n",
    "        StructField(\"payload\", StringType(), True),\n",
    "        StructField(\"encoding\", StringType(), True)\n",
    "    ])),\n",
    "    StructField(\"value\", StructType([\n",
    "        StructField(\"payload\", StructType([\n",
    "            StructField(\"transaction_id\", StringType(), True),\n",
    "            StructField(\"settlement_date\", StringType(), True),\n",
    "            StructField(\"stock_symbol\", StringType(), True),\n",
    "            StructField(\"quantity\", LongType(), True),\n",
    "            StructField(\"price\", DoubleType(), True),\n",
    "            StructField(\"buyer\", StringType(), True),\n",
    "            StructField(\"seller\", StringType(), True),\n",
    "            StructField(\"trade_date\", StringType(), True),\n",
    "            StructField(\"status\", StringType(), True)\n",
    "        ])),\n",
    "        StructField(\"encoding\", StringType(), True)\n",
    "    ]))\n",
    "])\n",
    "\n",
    "# Global variables for tracking\n",
    "total_message_count = 0\n",
    "vast_table_row_count = 0\n",
    "last_batch_id = 0\n",
    "last_batch_size = 0\n",
    "\n",
    "# Print a single comprehensive status update\n",
    "def print_status(source=\"\"):\n",
    "    global total_message_count, vast_table_row_count, last_batch_id, last_batch_size\n",
    "    \n",
    "    # Format the time\n",
    "    current_time = time.strftime(\"%H:%M:%S\", time.localtime())\n",
    "    \n",
    "    # Print the status line with carriage return to overwrite previous output\n",
    "    print(f\"\\rLast update: {current_time} | Batch {last_batch_id}: {last_batch_size} records | Total messages: {total_message_count} | DB rows: {vast_table_row_count}     \", end=\"\")\n",
    "    \n",
    "    # Flush to ensure immediate display\n",
    "    import sys\n",
    "    sys.stdout.flush()\n",
    "\n",
    "# Process each microbatch\n",
    "def process_microbatch(parsed_df, epoch_id):\n",
    "    global total_message_count, last_batch_id, last_batch_size\n",
    "    \n",
    "    batch_size = parsed_df.count()\n",
    "    total_message_count += batch_size\n",
    "    last_batch_id = epoch_id\n",
    "    last_batch_size = batch_size\n",
    "    parsed_df.write.mode(\"append\").saveAsTable(destination_table_name)\n",
    "    print_status(\"Batch\")\n",
    "\n",
    "# Function to periodically check and update row count\n",
    "def check_row_count():\n",
    "    global vast_table_row_count\n",
    "    while True:\n",
    "        time.sleep(2)  # Check every 2 seconds\n",
    "        \n",
    "        try:\n",
    "            new_count = spark.sql(f\"SELECT count(*) FROM {destination_table_name}\").collect()[0][0]\n",
    "            if new_count != vast_table_row_count:\n",
    "                vast_table_row_count = new_count\n",
    "                print_status(\"DB Count\")\n",
    "        except pyspark.errors.exceptions.captured.AnalysisException:\n",
    "            # Ignore - the table will eventually get created\n",
    "            pass\n",
    "\n",
    "# Read data from Kafka stream\n",
    "raw_stream = spark.readStream \\\n",
    "    .format(\"kafka\") \\\n",
    "    .option(\"kafka.bootstrap.servers\", kafka_brokers) \\\n",
    "    .option(\"subscribe\", topic) \\\n",
    "    .option(\"startingOffsets\", \"earliest\") \\\n",
    "    .option(\"failOnDataLoss\", \"true\") \\\n",
    "    .load()\n",
    "\n",
    "# Parse the Kafka message\n",
    "decoded_stream = raw_stream.selectExpr(\"CAST(value AS STRING) as json\") \\\n",
    "    .select(from_json(col(\"json\"), StructType([\n",
    "        StructField(\"transaction_id\", StringType(), True),\n",
    "        StructField(\"settlement_date\", StringType(), True),\n",
    "        StructField(\"stock_symbol\", StringType(), True),\n",
    "        StructField(\"quantity\", LongType(), True),\n",
    "        StructField(\"price\", DoubleType(), True),\n",
    "        StructField(\"buyer\", StringType(), True),\n",
    "        StructField(\"seller\", StringType(), True),\n",
    "        StructField(\"trade_date\", StringType(), True),\n",
    "        StructField(\"status\", StringType(), True)\n",
    "    ])).alias(\"payload\"))\n",
    "\n",
    "# Prepare data to match VastDB table schema\n",
    "vastdb_stream = decoded_stream.select(\n",
    "    col(\"payload.transaction_id\").alias(\"transaction_id\"),\n",
    "    col(\"payload.settlement_date\").alias(\"settlement_date\"),\n",
    "    col(\"payload.stock_symbol\").alias(\"stock_symbol\"),\n",
    "    col(\"payload.quantity\").alias(\"quantity\"),\n",
    "    col(\"payload.price\").alias(\"price\"),\n",
    "    col(\"payload.buyer\").alias(\"buyer\"),\n",
    "    col(\"payload.seller\").alias(\"seller\"),\n",
    "    col(\"payload.trade_date\").alias(\"trade_date\"),\n",
    "    col(\"payload.status\").alias(\"status\")\n",
    ")\n",
    "\n",
    "# Main processing query\n",
    "vastdb_query = vastdb_stream.writeStream \\\n",
    "    .foreachBatch(process_microbatch) \\\n",
    "    .outputMode(\"append\") \\\n",
    "    .trigger(processingTime='1 second') \\\n",
    "    .option(\"maxFilesPerTrigger\", 5000) \\\n",
    "    .start()\n",
    "\n",
    "# Print initial status message\n",
    "print(\"\\nStarting Spark streaming job...\")\n",
    "print_status(\"Init\")\n",
    "\n",
    "# Start thread for checking row count\n",
    "row_count_thread = threading.Thread(target=check_row_count)\n",
    "row_count_thread.daemon = True\n",
    "row_count_thread.start()\n",
    "\n",
    "# Wait for termination\n",
    "vastdb_query.awaitTermination()"
   ]
  },
  {
   "cell_type": "code",
   "execution_count": null,
   "id": "4875e87b-c076-4ec8-a7b3-02806cd05a6c",
   "metadata": {},
   "outputs": [],
   "source": []
  },
  {
   "cell_type": "code",
   "execution_count": null,
   "id": "eb58f143-6f99-4a50-9782-aed41cbe1830",
   "metadata": {},
   "outputs": [],
   "source": []
  }
 ],
 "metadata": {
  "kernelspec": {
   "display_name": "Python 3 (ipykernel)",
   "language": "python",
   "name": "python3"
  },
  "language_info": {
   "codemirror_mode": {
    "name": "ipython",
    "version": 3
   },
   "file_extension": ".py",
   "mimetype": "text/x-python",
   "name": "python",
   "nbconvert_exporter": "python",
   "pygments_lexer": "ipython3",
   "version": "3.11.10"
  }
 },
 "nbformat": 4,
 "nbformat_minor": 5
}

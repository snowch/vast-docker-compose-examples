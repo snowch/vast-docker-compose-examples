{
 "cells": [
  {
   "cell_type": "code",
   "execution_count": 1,
   "id": "debbc9fd-efad-4f93-9cd1-366eb20780e0",
   "metadata": {},
   "outputs": [],
   "source": [
    "%%capture --no-stderr\n",
    "%pip install --quiet -U faker"
   ]
  },
  {
   "cell_type": "code",
   "execution_count": 2,
   "id": "53168a20-339e-40a8-8221-fc7e767e3fae",
   "metadata": {},
   "outputs": [
    {
     "name": "stdout",
     "output_type": "stream",
     "text": [
      "DOCKER_HOST_OR_IP='10.143.11.241'\n"
     ]
    }
   ],
   "source": [
    "import os\n",
    "\n",
    "# Load environment variables for Kafka and VastDB connectivity\n",
    "DOCKER_HOST_OR_IP = os.getenv(\"DOCKER_HOST_OR_IP\", \"localhost\")\n",
    "VASTDB_ENDPOINT = os.getenv(\"VASTDB_ENDPOINT\")\n",
    "VASTDB_ACCESS_KEY = os.getenv(\"VASTDB_ACCESS_KEY\")\n",
    "VASTDB_SECRET_KEY = os.getenv(\"VASTDB_SECRET_KEY\")\n",
    "\n",
    "VASTDB_FRAUD_DETECTION_BUCKET = os.getenv(\"VASTDB_FRAUD_DETECTION_BUCKET\")\n",
    "VASTDB_FRAUD_DETECTION_SCHEMA = os.getenv(\"VASTDB_FRAUD_DETECTION_SCHEMA\")\n",
    "VASTDB_FRAUD_DETECTION_TABLE = 'fraud'\n",
    "\n",
    "# Kafka broker configuration using environment variable\n",
    "DOCKER_HOST_OR_IP = os.getenv(\"DOCKER_HOST_OR_IP\")\n",
    "print(f\"{DOCKER_HOST_OR_IP=}\")\n",
    "\n",
    "kafka_brokers = f\"{DOCKER_HOST_OR_IP}:19092\"\n",
    "kafka_topic = \"stock-settlement\""
   ]
  },
  {
   "cell_type": "markdown",
   "id": "712f7ed1-4d86-4da2-874f-cb24721fa320",
   "metadata": {},
   "source": [
    "## Clean up Database"
   ]
  },
  {
   "cell_type": "code",
   "execution_count": 3,
   "id": "dc0be53e-3505-44f4-a5bb-dea98fe679fc",
   "metadata": {},
   "outputs": [
    {
     "name": "stdout",
     "output_type": "stream",
     "text": [
      "\n",
      "---\n",
      "DOCKER_HOST_OR_IP=10.143.11.241\n",
      "---\n",
      "VASTDB_ENDPOINT=http://172.200.204.2:80\n",
      "VASTDB_ACCESS_KEY=QXN5\n",
      "VASTDB_SECRET_KEY=****oLGr\n",
      "VASTDB_FRAUD_DETECTION_BUCKET=csnow-db\n",
      "VASTDB_FRAUD_DETECTION_SCHEMA=fraud_detection\n",
      "VASTDB_FRAUD_DETECTION_TABLE=fraud\n",
      "---\n",
      "\n"
     ]
    }
   ],
   "source": [
    "import os\n",
    "import vastdb\n",
    "\n",
    "# Print configurations\n",
    "print(f\"\"\"\n",
    "---\n",
    "DOCKER_HOST_OR_IP={DOCKER_HOST_OR_IP}\n",
    "---\n",
    "VASTDB_ENDPOINT={VASTDB_ENDPOINT}\n",
    "VASTDB_ACCESS_KEY={VASTDB_ACCESS_KEY[-4:]}\n",
    "VASTDB_SECRET_KEY=****{VASTDB_SECRET_KEY[-4:]}\n",
    "VASTDB_FRAUD_DETECTION_BUCKET={VASTDB_FRAUD_DETECTION_BUCKET}\n",
    "VASTDB_FRAUD_DETECTION_SCHEMA={VASTDB_FRAUD_DETECTION_SCHEMA}\n",
    "VASTDB_FRAUD_DETECTION_TABLE={VASTDB_FRAUD_DETECTION_TABLE}\n",
    "---\n",
    "\"\"\")\n",
    "\n",
    "def drop_vastdb_table(endpoint, access_key, secret_key, bucket_name, schema_name, table_name):\n",
    "    session = vastdb.connect(endpoint=endpoint, access=access_key, secret=secret_key)\n",
    "    with session.transaction() as tx:\n",
    "        try:\n",
    "            table = tx.bucket(bucket_name).schema(schema_name).table(table_name)\n",
    "            if table: \n",
    "                table.drop()\n",
    "                print(f\"Table {table} dropped\")\n",
    "        except Exception as e:\n",
    "            print(\"Bucket, Schema or Table not found\")\n",
    "            return"
   ]
  },
  {
   "cell_type": "code",
   "execution_count": 4,
   "id": "ed8d1564-7fb5-4a8b-a228-89d5c55c762c",
   "metadata": {},
   "outputs": [
    {
     "name": "stdout",
     "output_type": "stream",
     "text": [
      "Bucket, Schema or Table not found\n"
     ]
    }
   ],
   "source": [
    "drop_vastdb_table(\n",
    "    VASTDB_ENDPOINT, \n",
    "    VASTDB_ACCESS_KEY, \n",
    "    VASTDB_SECRET_KEY, \n",
    "    VASTDB_FRAUD_DETECTION_BUCKET,\n",
    "    VASTDB_FRAUD_DETECTION_SCHEMA,\n",
    "    VASTDB_FRAUD_DETECTION_TABLE\n",
    ")"
   ]
  },
  {
   "cell_type": "markdown",
   "id": "fe5e4fe2-527e-4ead-812e-05af80be2836",
   "metadata": {},
   "source": [
    "# Clean up Kafka"
   ]
  },
  {
   "cell_type": "code",
   "execution_count": 5,
   "id": "da81734c-69fb-43e9-b466-8488b67d66a2",
   "metadata": {},
   "outputs": [],
   "source": [
    "%%capture --no-stderr\n",
    "%pip install kafka-python six kafka-python-ng"
   ]
  },
  {
   "cell_type": "code",
   "execution_count": 6,
   "id": "332782e6-19c5-4ab9-bd97-5906d98c298b",
   "metadata": {},
   "outputs": [
    {
     "name": "stdout",
     "output_type": "stream",
     "text": [
      "\n",
      "---\n",
      "DOCKER_HOST_OR_IP=10.143.11.241\n",
      "---\n",
      "VASTDB_ENDPOINT=http://172.200.204.2:80\n",
      "VASTDB_ACCESS_KEY=QXN5\n",
      "VASTDB_SECRET_KEY=****oLGr\n",
      "VASTDB_FRAUD_DETECTION_BUCKET=csnow-db\n",
      "VASTDB_FRAUD_DETECTION_SCHEMA=fraud_detection\n",
      "# VASTDB_FRAUD_DETECTION_TABLE=fraud\n",
      "---\n",
      "\n",
      "Topic 'stock-settlement' deleted successfully.\n",
      "Topic 'stock-settlement' recreated successfully.\n"
     ]
    }
   ],
   "source": [
    "import os\n",
    "\n",
    "kafka_brokers = f\"{DOCKER_HOST_OR_IP}:19092\"\n",
    "kafka_topic = \"stock-settlement\"\n",
    "\n",
    "# Print configurations\n",
    "print(f\"\"\"\n",
    "---\n",
    "DOCKER_HOST_OR_IP={DOCKER_HOST_OR_IP}\n",
    "---\n",
    "VASTDB_ENDPOINT={VASTDB_ENDPOINT}\n",
    "VASTDB_ACCESS_KEY={VASTDB_ACCESS_KEY[-4:]}\n",
    "VASTDB_SECRET_KEY=****{VASTDB_SECRET_KEY[-4:]}\n",
    "VASTDB_FRAUD_DETECTION_BUCKET={VASTDB_FRAUD_DETECTION_BUCKET}\n",
    "VASTDB_FRAUD_DETECTION_SCHEMA={VASTDB_FRAUD_DETECTION_SCHEMA}\n",
    "# VASTDB_FRAUD_DETECTION_TABLE={VASTDB_FRAUD_DETECTION_TABLE}\n",
    "---\n",
    "\"\"\")\n",
    "\n",
    "from kafka.admin import KafkaAdminClient, NewTopic\n",
    "\n",
    "# Kafka connection parameters\n",
    "bootstrap_servers = f\"{DOCKER_HOST_OR_IP}:19092\"\n",
    "topic_name = \"stock-settlement\"\n",
    "\n",
    "# Create Kafka Admin client\n",
    "admin_client = KafkaAdminClient(\n",
    "    bootstrap_servers=bootstrap_servers,\n",
    "    client_id='cleanup-topic'\n",
    ")\n",
    "\n",
    "# Delete the topic\n",
    "try:\n",
    "    admin_client.delete_topics([topic_name])\n",
    "    print(f\"Topic '{topic_name}' deleted successfully.\")\n",
    "except Exception as e:\n",
    "    print(f\"Failed to delete topic: {e}\")\n",
    "\n",
    "# Optionally, recreate the topic\n",
    "try:\n",
    "    new_topic = NewTopic(name=topic_name, num_partitions=1, replication_factor=1)\n",
    "    admin_client.create_topics([new_topic])\n",
    "    print(f\"Topic '{topic_name}' recreated successfully.\")\n",
    "except Exception as e:\n",
    "    print(f\"Failed to recreate topic: {e}\")"
   ]
  },
  {
   "cell_type": "code",
   "execution_count": null,
   "id": "b47ac74a-c682-4281-a863-11ed9e399741",
   "metadata": {},
   "outputs": [],
   "source": []
  },
  {
   "cell_type": "code",
   "execution_count": null,
   "id": "4229d567-c318-4b31-96d4-02f63fc14eba",
   "metadata": {},
   "outputs": [],
   "source": []
  }
 ],
 "metadata": {
  "kernelspec": {
   "display_name": "Python 3 (ipykernel)",
   "language": "python",
   "name": "python3"
  },
  "language_info": {
   "codemirror_mode": {
    "name": "ipython",
    "version": 3
   },
   "file_extension": ".py",
   "mimetype": "text/x-python",
   "name": "python",
   "nbconvert_exporter": "python",
   "pygments_lexer": "ipython3",
   "version": "3.11.10"
  }
 },
 "nbformat": 4,
 "nbformat_minor": 5
}

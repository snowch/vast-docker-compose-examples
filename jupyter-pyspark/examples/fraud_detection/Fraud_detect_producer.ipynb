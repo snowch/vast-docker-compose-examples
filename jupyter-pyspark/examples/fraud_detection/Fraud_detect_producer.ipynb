{
 "cells": [
  {
   "cell_type": "code",
   "execution_count": 1,
   "id": "debbc9fd-efad-4f93-9cd1-366eb20780e0",
   "metadata": {},
   "outputs": [
    {
     "name": "stdout",
     "output_type": "stream",
     "text": [
      "Requirement already satisfied: faker in /opt/conda/lib/python3.11/site-packages (36.1.1)\n",
      "Requirement already satisfied: tzdata in /opt/conda/lib/python3.11/site-packages (from faker) (2024.2)\n"
     ]
    }
   ],
   "source": [
    "!pip install faker"
   ]
  },
  {
   "cell_type": "code",
   "execution_count": 2,
   "id": "53168a20-339e-40a8-8221-fc7e767e3fae",
   "metadata": {},
   "outputs": [
    {
     "name": "stdout",
     "output_type": "stream",
     "text": [
      "DOCKER_HOST_OR_IP='10.143.11.241'\n"
     ]
    }
   ],
   "source": [
    "import os\n",
    "\n",
    "# Load environment variables for Kafka and VastDB connectivity\n",
    "DOCKER_HOST_OR_IP = os.getenv(\"DOCKER_HOST_OR_IP\", \"localhost\")\n",
    "VASTDB_ENDPOINT = os.getenv(\"VASTDB_ENDPOINT\")\n",
    "VASTDB_ACCESS_KEY = os.getenv(\"VASTDB_ACCESS_KEY\")\n",
    "VASTDB_SECRET_KEY = os.getenv(\"VASTDB_SECRET_KEY\")\n",
    "\n",
    "VASTDB_FRAUD_DETECTION_BUCKET = os.getenv(\"VASTDB_FRAUD_DETECTION_BUCKET\")\n",
    "VASTDB_FRAUD_DETECTION_SCHEMA = os.getenv(\"VASTDB_FRAUD_DETECTION_SCHEMA\")\n",
    "VASTDB_FRAUD_DETECTION_TABLE = 'fraud'\n",
    "\n",
    "# Kafka broker configuration using environment variable\n",
    "DOCKER_HOST_OR_IP = os.getenv(\"DOCKER_HOST_OR_IP\")\n",
    "print(f\"{DOCKER_HOST_OR_IP=}\")\n",
    "\n",
    "kafka_brokers = f\"{DOCKER_HOST_OR_IP}:19092\"\n",
    "kafka_topic = \"stock-settlement\""
   ]
  },
  {
   "cell_type": "markdown",
   "id": "ad96b90c-5a11-4cc2-b7f4-9438632deec9",
   "metadata": {},
   "source": [
    "# Fraud Producer (Spark Streaming app that will simulate stock settlement data) -> Kafka"
   ]
  },
  {
   "cell_type": "code",
   "execution_count": null,
   "id": "4e607bf4-c1e7-455c-9d9c-f046ad2f0777",
   "metadata": {},
   "outputs": [
    {
     "name": "stdout",
     "output_type": "stream",
     "text": [
      "Produced: 54345 records\r"
     ]
    }
   ],
   "source": [
    "import os\n",
    "import time\n",
    "import json\n",
    "import random\n",
    "import signal\n",
    "import sys\n",
    "from faker import Faker\n",
    "from pyspark.sql import SparkSession\n",
    "from pyspark.conf import SparkConf\n",
    "\n",
    "# Initialize Faker\n",
    "fake = Faker()\n",
    "\n",
    "# Spark configuration\n",
    "conf = SparkConf()\n",
    "conf.setAll([\n",
    "    (\"spark.jars.packages\", \"org.apache.spark:spark-sql-kafka-0-10_2.13:3.4.3,\"\n",
    "                             \"org.apache.logging.log4j:log4j-slf4j2-impl:2.19.0,\"\n",
    "                             \"org.apache.logging.log4j:log4j-api:2.19.0,\"\n",
    "                             \"org.apache.logging.log4j:log4j-core:2.19.0\"),\n",
    "    (\"spark.jars.excludes\", \"org.slf4j:slf4j-api,org.slf4j:slf4j-log4j12\"),\n",
    "    (\"spark.driver.userClassPathFirst\", \"true\"),\n",
    "    (\"spark.executor.userClassPathFirst\", \"true\"),\n",
    "    (\"spark.sql.execution.arrow.pyspark.enabled\", \"false\")\n",
    "])\n",
    "\n",
    "spark = SparkSession.builder \\\n",
    "    .master(\"local\") \\\n",
    "    .appName(\"FakeStockSettlementKafkaStreaming\") \\\n",
    "    .config(conf=conf) \\\n",
    "    .getOrCreate()\n",
    "\n",
    "# Graceful shutdown flag\n",
    "should_shutdown = False\n",
    "\n",
    "def signal_handler(sig, frame):\n",
    "    global should_shutdown\n",
    "    print(\"\\nGraceful shutdown initiated...\")\n",
    "    should_shutdown = True\n",
    "\n",
    "# Register signal handlers\n",
    "signal.signal(signal.SIGINT, signal_handler)\n",
    "signal.signal(signal.SIGTERM, signal_handler)\n",
    "\n",
    "# Function to generate a fake stock settlement\n",
    "def create_stock_settlement(fraud_percentage=0.03, status_weights=None):\n",
    "    \"\"\"Generate a fake stock settlement record with custom fraud percentage and status distribution.\"\"\"\n",
    "    if status_weights is None:\n",
    "        status_weights = {\"Settled\": 0.8, \"Pending\": 0.2, \"Failed\": 0.1}\n",
    "\n",
    "    is_fraud = random.random() < fraud_percentage  # Fraud percentage\n",
    "    if is_fraud:\n",
    "        return {\n",
    "            \"transaction_id\": fake.uuid4(),\n",
    "            \"settlement_date\": fake.date_this_year().isoformat(),\n",
    "            \"stock_symbol\": fake.lexify(text='???', letters='ABCDEFGHIJKLMNOPQRSTUVWXYZ'),\n",
    "            \"quantity\": random.randint(1, 100000),\n",
    "            \"price\": round(random.uniform(5000, 25000), 2),  # Variable fraud price\n",
    "            \"buyer\": \"Fraudulent Company\" if random.random() < 0.5 else fake.company(),\n",
    "            \"seller\": \"Fraudulent Company\" if random.random() < 0.5 else fake.company(),\n",
    "            \"trade_date\": fake.date_this_year().isoformat(),\n",
    "            \"status\": \"Fraudulent\"\n",
    "        }\n",
    "    else:\n",
    "        buyer = fake.company()\n",
    "        seller = buyer if random.random() < 0.05 else fake.company()  # 5% chance buyer and seller are the same\n",
    "        return {\n",
    "            \"transaction_id\": fake.uuid4(),\n",
    "            \"settlement_date\": fake.date_this_year().isoformat(),\n",
    "            \"stock_symbol\": fake.lexify(text='???', letters='ABCDEFGHIJKLMNOPQRSTUVWXYZ'),\n",
    "            \"quantity\": random.randint(1, 10000),\n",
    "            \"price\": round(random.uniform(10, 50000), 2),\n",
    "            \"buyer\": buyer,\n",
    "            \"seller\": seller,\n",
    "            \"trade_date\": fake.date_this_year().isoformat(),\n",
    "            \"status\": random.choices(\n",
    "                list(status_weights.keys()), \n",
    "                weights=list(status_weights.values()), \n",
    "                k=1\n",
    "            )[0]\n",
    "        }\n",
    "\n",
    "# Continuously generate and push stock settlements to Kafka\n",
    "record_count = 0\n",
    "\n",
    "try:\n",
    "    while not should_shutdown:\n",
    "        # Randomize batch size for dynamic event generation\n",
    "        batch_size = random.randint(1000, 8000)  # Different amount of events per trade date\n",
    "        \n",
    "        # Generate stock settlements\n",
    "        records = [\n",
    "            {\"key\": settlement[\"transaction_id\"], \"value\": json.dumps(settlement)}\n",
    "            for settlement in [create_stock_settlement() for _ in range(batch_size)]\n",
    "        ]\n",
    "\n",
    "        # Create DataFrame from stock settlements\n",
    "        df = spark.createDataFrame(records)\n",
    "\n",
    "        # Write DataFrame as JSON to Kafka topic\n",
    "        df.write \\\n",
    "          .format(\"kafka\") \\\n",
    "          .option(\"kafka.bootstrap.servers\", kafka_brokers) \\\n",
    "          .option(\"topic\", kafka_topic) \\\n",
    "          .option(\"kafka.producer.batch.size\", 1000000) \\\n",
    "          .save()\n",
    "\n",
    "        record_count += batch_size\n",
    "        print(f\"Produced: {record_count} records\", end=\"\\r\")\n",
    "\n",
    "        # Reduce sleep time or remove it for high throughput\n",
    "        time.sleep(0.1)  # Adjust sleep time as needed, or remove it entirely for max throughput\n",
    "except Exception as e:\n",
    "    print(f\"An error occurred: {e}\")\n",
    "finally:\n",
    "    print(\"\\nShutting down Spark session...\")\n",
    "    spark.stop()\n",
    "    print(\"Spark session stopped. Goodbye!\")"
   ]
  },
  {
   "cell_type": "code",
   "execution_count": 4,
   "id": "f8fadc0e-2677-4be4-9f5d-360c49216db1",
   "metadata": {},
   "outputs": [],
   "source": [
    "spark.stop()"
   ]
  },
  {
   "cell_type": "markdown",
   "id": "712f7ed1-4d86-4da2-874f-cb24721fa320",
   "metadata": {},
   "source": [
    "## Clean up Database"
   ]
  },
  {
   "cell_type": "code",
   "execution_count": 4,
   "id": "dc0be53e-3505-44f4-a5bb-dea98fe679fc",
   "metadata": {},
   "outputs": [
    {
     "name": "stdout",
     "output_type": "stream",
     "text": [
      "\n",
      "---\n",
      "DOCKER_HOST_OR_IP=10.143.11.241\n",
      "---\n",
      "VASTDB_ENDPOINT=http://172.200.204.2:80\n",
      "VASTDB_ACCESS_KEY=QXN5\n",
      "VASTDB_SECRET_KEY=****oLGr\n",
      "VASTDB_FRAUD_DETECTION_BUCKET=csnow-db\n",
      "VASTDB_FRAUD_DETECTION_SCHEMA=fraud_detection\n",
      "VASTDB_FRAUD_DETECTION_TABLE=fraud\n",
      "---\n",
      "\n"
     ]
    }
   ],
   "source": [
    "import os\n",
    "import vastdb\n",
    "\n",
    "# Print configurations\n",
    "print(f\"\"\"\n",
    "---\n",
    "DOCKER_HOST_OR_IP={DOCKER_HOST_OR_IP}\n",
    "---\n",
    "VASTDB_ENDPOINT={VASTDB_ENDPOINT}\n",
    "VASTDB_ACCESS_KEY={VASTDB_ACCESS_KEY[-4:]}\n",
    "VASTDB_SECRET_KEY=****{VASTDB_SECRET_KEY[-4:]}\n",
    "VASTDB_FRAUD_DETECTION_BUCKET={VASTDB_FRAUD_DETECTION_BUCKET}\n",
    "VASTDB_FRAUD_DETECTION_SCHEMA={VASTDB_FRAUD_DETECTION_SCHEMA}\n",
    "VASTDB_FRAUD_DETECTION_TABLE={VASTDB_FRAUD_DETECTION_TABLE}\n",
    "---\n",
    "\"\"\")\n",
    "\n",
    "def drop_vastdb_table(endpoint, access_key, secret_key, bucket_name, schema_name, table_name):\n",
    "    session = vastdb.connect(endpoint=endpoint, access=access_key, secret=secret_key)\n",
    "    with session.transaction() as tx:\n",
    "        try:\n",
    "            table = tx.bucket(bucket_name).schema(schema_name).table(table_name)\n",
    "            if table: \n",
    "                table.drop()\n",
    "                print(f\"Table {table} dropped\")\n",
    "        except Exception as e:\n",
    "            print(\"Bucket, Schema or Table not found\")\n",
    "            return"
   ]
  },
  {
   "cell_type": "code",
   "execution_count": 5,
   "id": "ed8d1564-7fb5-4a8b-a228-89d5c55c762c",
   "metadata": {},
   "outputs": [
    {
     "name": "stdout",
     "output_type": "stream",
     "text": [
      "Table Table(name='fraud', schema=Schema(name='fraud_detection', bucket=Bucket(name='csnow-db', tx=Transaction(id=0x004dd00000000f3a))), handle=12689938883024002195, _imports_table=False) dropped\n"
     ]
    }
   ],
   "source": [
    "drop_vastdb_table(\n",
    "    VASTDB_ENDPOINT, \n",
    "    VASTDB_ACCESS_KEY, \n",
    "    VASTDB_SECRET_KEY, \n",
    "    VASTDB_FRAUD_DETECTION_BUCKET,\n",
    "    VASTDB_FRAUD_DETECTION_SCHEMA,\n",
    "    VASTDB_FRAUD_DETECTION_TABLE\n",
    ")"
   ]
  },
  {
   "cell_type": "markdown",
   "id": "fe5e4fe2-527e-4ead-812e-05af80be2836",
   "metadata": {},
   "source": [
    "# Clean up Kafka"
   ]
  },
  {
   "cell_type": "code",
   "execution_count": 6,
   "id": "da81734c-69fb-43e9-b466-8488b67d66a2",
   "metadata": {},
   "outputs": [
    {
     "name": "stdout",
     "output_type": "stream",
     "text": [
      "Requirement already satisfied: kafka-python in /opt/conda/lib/python3.11/site-packages (2.0.5)\n",
      "Requirement already satisfied: six in /opt/conda/lib/python3.11/site-packages (1.16.0)\n",
      "Requirement already satisfied: kafka-python-ng in /opt/conda/lib/python3.11/site-packages (2.2.3)\n"
     ]
    }
   ],
   "source": [
    "! pip3 install kafka-python six kafka-python-ng"
   ]
  },
  {
   "cell_type": "code",
   "execution_count": 7,
   "id": "332782e6-19c5-4ab9-bd97-5906d98c298b",
   "metadata": {},
   "outputs": [
    {
     "name": "stdout",
     "output_type": "stream",
     "text": [
      "\n",
      "---\n",
      "DOCKER_HOST_OR_IP=10.143.11.241\n",
      "---\n",
      "VASTDB_ENDPOINT=http://172.200.204.2:80\n",
      "VASTDB_ACCESS_KEY=QXN5\n",
      "VASTDB_SECRET_KEY=****oLGr\n",
      "VASTDB_FRAUD_DETECTION_BUCKET=csnow-db\n",
      "VASTDB_FRAUD_DETECTION_SCHEMA=fraud_detection\n",
      "# VASTDB_FRAUD_DETECTION_TABLE=fraud\n",
      "---\n",
      "\n",
      "Topic 'stock-settlement' deleted successfully.\n",
      "Topic 'stock-settlement' recreated successfully.\n"
     ]
    }
   ],
   "source": [
    "import os\n",
    "\n",
    "kafka_brokers = f\"{DOCKER_HOST_OR_IP}:19092\"\n",
    "kafka_topic = \"stock-settlement\"\n",
    "\n",
    "# Print configurations\n",
    "print(f\"\"\"\n",
    "---\n",
    "DOCKER_HOST_OR_IP={DOCKER_HOST_OR_IP}\n",
    "---\n",
    "VASTDB_ENDPOINT={VASTDB_ENDPOINT}\n",
    "VASTDB_ACCESS_KEY={VASTDB_ACCESS_KEY[-4:]}\n",
    "VASTDB_SECRET_KEY=****{VASTDB_SECRET_KEY[-4:]}\n",
    "VASTDB_FRAUD_DETECTION_BUCKET={VASTDB_FRAUD_DETECTION_BUCKET}\n",
    "VASTDB_FRAUD_DETECTION_SCHEMA={VASTDB_FRAUD_DETECTION_SCHEMA}\n",
    "# VASTDB_FRAUD_DETECTION_TABLE={VASTDB_FRAUD_DETECTION_TABLE}\n",
    "---\n",
    "\"\"\")\n",
    "\n",
    "from kafka.admin import KafkaAdminClient, NewTopic\n",
    "\n",
    "# Kafka connection parameters\n",
    "bootstrap_servers = f\"{DOCKER_HOST_OR_IP}:19092\"\n",
    "topic_name = \"stock-settlement\"\n",
    "\n",
    "# Create Kafka Admin client\n",
    "admin_client = KafkaAdminClient(\n",
    "    bootstrap_servers=bootstrap_servers,\n",
    "    client_id='cleanup-topic'\n",
    ")\n",
    "\n",
    "# Delete the topic\n",
    "try:\n",
    "    admin_client.delete_topics([topic_name])\n",
    "    print(f\"Topic '{topic_name}' deleted successfully.\")\n",
    "except Exception as e:\n",
    "    print(f\"Failed to delete topic: {e}\")\n",
    "\n",
    "# Optionally, recreate the topic\n",
    "try:\n",
    "    new_topic = NewTopic(name=topic_name, num_partitions=1, replication_factor=1)\n",
    "    admin_client.create_topics([new_topic])\n",
    "    print(f\"Topic '{topic_name}' recreated successfully.\")\n",
    "except Exception as e:\n",
    "    print(f\"Failed to recreate topic: {e}\")"
   ]
  },
  {
   "cell_type": "code",
   "execution_count": null,
   "id": "b47ac74a-c682-4281-a863-11ed9e399741",
   "metadata": {},
   "outputs": [],
   "source": []
  },
  {
   "cell_type": "code",
   "execution_count": null,
   "id": "4229d567-c318-4b31-96d4-02f63fc14eba",
   "metadata": {},
   "outputs": [],
   "source": []
  }
 ],
 "metadata": {
  "kernelspec": {
   "display_name": "Python 3 (ipykernel)",
   "language": "python",
   "name": "python3"
  },
  "language_info": {
   "codemirror_mode": {
    "name": "ipython",
    "version": 3
   },
   "file_extension": ".py",
   "mimetype": "text/x-python",
   "name": "python",
   "nbconvert_exporter": "python",
   "pygments_lexer": "ipython3",
   "version": "3.11.10"
  }
 },
 "nbformat": 4,
 "nbformat_minor": 5
}

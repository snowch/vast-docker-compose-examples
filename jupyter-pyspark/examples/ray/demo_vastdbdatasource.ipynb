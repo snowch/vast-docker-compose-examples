{
 "cells": [
  {
   "cell_type": "code",
   "execution_count": 1,
   "id": "b05ea5ce-c409-4a59-9d0e-a9a2fa677e04",
   "metadata": {},
   "outputs": [
    {
     "name": "stdout",
     "output_type": "stream",
     "text": [
      "Requirement already satisfied: grpcio in /opt/conda/lib/python3.11/site-packages (1.70.0)\n"
     ]
    }
   ],
   "source": [
    "!pip3 install --quiet ray vastdb aiohttp aiohttp_cors opencensus \n",
    "!pip3 install -U grpcio"
   ]
  },
  {
   "cell_type": "code",
   "execution_count": 13,
   "id": "9e7dd956-e52a-43c2-9fe7-6d855d58ca28",
   "metadata": {},
   "outputs": [],
   "source": [
    "import ray\n",
    "\n",
    "ray.shutdown() if ray.is_initialized() else None"
   ]
  },
  {
   "cell_type": "code",
   "execution_count": null,
   "id": "09b4e626-6cf8-41ea-96f3-556881b19099",
   "metadata": {},
   "outputs": [],
   "source": [
    "import ray\n",
    "\n",
    "ray.init(_temp_dir=\"/tmp/ray_spill\")"
   ]
  },
  {
   "cell_type": "code",
   "execution_count": 15,
   "id": "f8361882-abc4-4e19-8b7c-4b52039b3bba",
   "metadata": {},
   "outputs": [
    {
     "name": "stdout",
     "output_type": "stream",
     "text": [
      "No resource in the cluster\n",
      "\u001b[0m"
     ]
    }
   ],
   "source": [
    "! ray list tasks"
   ]
  },
  {
   "cell_type": "code",
   "execution_count": 16,
   "id": "875c206f-e259-4d83-a255-80414d1083bb",
   "metadata": {},
   "outputs": [
    {
     "name": "stdout",
     "output_type": "stream",
     "text": [
      "\n",
      "---\n",
      "DOCKER_HOST_OR_IP=10.143.11.241\n",
      "---\n",
      "VASTDB_ENDPOINT=http://172.200.204.2:80\n",
      "VASTDB_ACCESS_KEY=QXN5\n",
      "VASTDB_SECRET_KEY=****oLGr\n",
      "VASTDB_TWITTER_INGEST_BUCKET=csnow-db\n",
      "VASTDB_TWITTER_INGEST_SCHEMA=social_media\n",
      "VASTDB_TWITTER_INGEST_TABLE=tweets\n",
      "---\n",
      "S3_ENDPOINT=http://172.200.204.2:80\n",
      "S3_ACCESS_KEY=QXN5\n",
      "S3_SECRET_KEY=****oLGr\n",
      "S3A_ICEBERG_URI=s3a://csnow-bucket/iceberg/\n",
      "---\n",
      "\n"
     ]
    }
   ],
   "source": [
    "import os\n",
    "\n",
    "DOCKER_HOST_OR_IP = os.getenv(\"DOCKER_HOST_OR_IP\")\n",
    "\n",
    "VASTDB_ENDPOINT = os.getenv(\"VASTDB_ENDPOINT\")\n",
    "VASTDB_ACCESS_KEY = os.getenv(\"VASTDB_ACCESS_KEY\")\n",
    "VASTDB_SECRET_KEY = os.getenv(\"VASTDB_SECRET_KEY\")\n",
    "\n",
    "VASTDB_TWITTER_INGEST_BUCKET = os.getenv(\"VASTDB_TWITTER_INGEST_BUCKET\")\n",
    "VASTDB_TWITTER_INGEST_SCHEMA = os.getenv(\"VASTDB_TWITTER_INGEST_SCHEMA\")\n",
    "VASTDB_TWITTER_INGEST_TABLE = os.getenv(\"VASTDB_TWITTER_INGEST_TABLE\")\n",
    "\n",
    "S3_ENDPOINT = os.getenv(\"S3A_ENDPOINT\")\n",
    "S3_ACCESS_KEY = os.getenv(\"S3A_ACCESS_KEY\")\n",
    "S3_SECRET_KEY = os.getenv(\"S3A_SECRET_KEY\")\n",
    "\n",
    "S3A_ICEBERG_URI = os.getenv(\"S3A_ICEBERG_URI\")\n",
    "\n",
    "print(f\"\"\"\n",
    "---\n",
    "DOCKER_HOST_OR_IP={DOCKER_HOST_OR_IP}\n",
    "---\n",
    "VASTDB_ENDPOINT={VASTDB_ENDPOINT}\n",
    "VASTDB_ACCESS_KEY={VASTDB_ACCESS_KEY[-4:]}\n",
    "VASTDB_SECRET_KEY=****{VASTDB_SECRET_KEY[-4:]}\n",
    "VASTDB_TWITTER_INGEST_BUCKET={VASTDB_TWITTER_INGEST_BUCKET}\n",
    "VASTDB_TWITTER_INGEST_SCHEMA={VASTDB_TWITTER_INGEST_SCHEMA}\n",
    "VASTDB_TWITTER_INGEST_TABLE={VASTDB_TWITTER_INGEST_TABLE}\n",
    "---\n",
    "S3_ENDPOINT={S3_ENDPOINT}\n",
    "S3_ACCESS_KEY={S3_ACCESS_KEY[-4:]}\n",
    "S3_SECRET_KEY=****{VASTDB_SECRET_KEY[-4:]}\n",
    "S3A_ICEBERG_URI={S3A_ICEBERG_URI}\n",
    "---\n",
    "\"\"\")"
   ]
  },
  {
   "cell_type": "code",
   "execution_count": 17,
   "id": "14402e75-44f0-4162-b00a-79f850080754",
   "metadata": {},
   "outputs": [],
   "source": [
    "import logging\n",
    "from typing import Dict, List, Optional\n",
    "from dataclasses import dataclass\n",
    "import backoff\n",
    "\n",
    "import pyarrow as pa\n",
    "import vastdb\n",
    "from vastdb.config import QueryConfig\n",
    "from ray.data.block import Block, BlockMetadata\n",
    "from ray.data.datasource.datasource import Datasource, ReadTask\n",
    "\n",
    "logger = logging.getLogger(__name__)\n",
    "\n",
    "class VastDBDatasource(Datasource):\n",
    "    \"\"\"Datasource for reading from VastDB tables.\"\"\"\n",
    "\n",
    "    def __init__(\n",
    "        self,\n",
    "        endpoint: str,\n",
    "        access_key: str,\n",
    "        secret_key: str,\n",
    "        bucket: str,\n",
    "        schema: str,\n",
    "        table: str,\n",
    "        columns: Optional[List[str]] = None,\n",
    "        predicate: Optional[str] = None,\n",
    "        query_config: Optional[Dict] = None,\n",
    "    ):\n",
    "        \"\"\"Initialize VastDB datasource.\"\"\"\n",
    "        self._endpoint = endpoint\n",
    "        self._access_key = access_key\n",
    "        self._secret_key = secret_key\n",
    "        self._bucket = bucket\n",
    "        self._schema = schema\n",
    "        self._table = table\n",
    "        self._columns = columns\n",
    "        self._predicate = predicate\n",
    "        self._query_config = query_config or {}\n",
    "        self._session = None\n",
    "        self._table_ref = None\n",
    "\n",
    "    def _get_or_create_session(self):\n",
    "        if self._session is None:\n",
    "            import vastdb\n",
    "            self._session = vastdb.connect(\n",
    "                endpoint=self._endpoint,\n",
    "                access=self._access_key,\n",
    "                secret=self._secret_key\n",
    "            )\n",
    "            with self._session.transaction() as tx:\n",
    "                bucket = tx.bucket(self._bucket)\n",
    "                schema = bucket.schema(self._schema)\n",
    "                self._table_ref = schema.table(self._table)\n",
    "                self._table_schema = self._table_ref.columns()\n",
    "\n",
    "    def estimate_inmemory_data_size(self) -> Optional[int]:\n",
    "        self._get_or_create_session()\n",
    "        return None\n",
    "\n",
    "    def get_read_tasks(self, parallelism: int) -> List[ReadTask]:\n",
    "        \"\"\"Create read tasks for parallel processing.\"\"\"\n",
    "        self._get_or_create_session()\n",
    "        \n",
    "        # Create base query config with proper defaults\n",
    "        base_config = QueryConfig(\n",
    "            num_splits=parallelism,\n",
    "            num_sub_splits=4,\n",
    "            use_semi_sorted_projections=True,\n",
    "            limit_rows_per_sub_split=128 * 1024,\n",
    "            num_row_groups_per_sub_split=8\n",
    "        )\n",
    "        \n",
    "        # Update with any user-provided config\n",
    "        for key, value in self._query_config.items():\n",
    "            if hasattr(base_config, key):\n",
    "                setattr(base_config, key, value)\n",
    "    \n",
    "        def make_block(\n",
    "            endpoint: str,\n",
    "            access_key: str,\n",
    "            secret_key: str,\n",
    "            bucket: str,\n",
    "            schema_name: str,\n",
    "            table: str,\n",
    "            columns: Optional[List[str]],\n",
    "            predicate: Optional[str],\n",
    "            config: QueryConfig,\n",
    "            split_index: int,\n",
    "        ) -> Block:\n",
    "            import vastdb\n",
    "            \n",
    "            session = vastdb.connect(\n",
    "                endpoint=endpoint,\n",
    "                access=access_key,\n",
    "                secret=secret_key\n",
    "            )\n",
    "            \n",
    "            with session.transaction() as tx:\n",
    "                bucket = tx.bucket(bucket)\n",
    "                schema = bucket.schema(schema_name)\n",
    "                table = schema.table(table)\n",
    "                \n",
    "                # Create a new config instance for this split\n",
    "                split_config = QueryConfig(\n",
    "                    num_splits=config.num_splits,\n",
    "                    num_sub_splits=config.num_sub_splits,\n",
    "                    use_semi_sorted_projections=config.use_semi_sorted_projections,\n",
    "                    limit_rows_per_sub_split=config.limit_rows_per_sub_split,\n",
    "                    num_row_groups_per_sub_split=config.num_row_groups_per_sub_split,\n",
    "                    semi_sorted_projection_name=config.semi_sorted_projection_name,\n",
    "\n",
    "                    # query_id does not allow partitioning splits?\n",
    "                    query_id=f\"{config.query_id}_split_{split_index}\",\n",
    "                    queue_priority=config.queue_priority\n",
    "                )\n",
    "                \n",
    "                reader = table.select(\n",
    "                    columns=columns,\n",
    "                    predicate=predicate,\n",
    "                    config=split_config\n",
    "                )\n",
    "                \n",
    "                return reader.read_all()\n",
    "    \n",
    "        # Create a read task for each split\n",
    "        read_tasks = []\n",
    "        for i in range(parallelism):\n",
    "            metadata = BlockMetadata(\n",
    "                num_rows=None,\n",
    "                size_bytes=None, \n",
    "                schema=self._table_schema,\n",
    "                input_files=None,\n",
    "                exec_stats=None,\n",
    "            )\n",
    "            \n",
    "            make_block_args = (\n",
    "                self._endpoint,\n",
    "                self._access_key,\n",
    "                self._secret_key,\n",
    "                self._bucket,\n",
    "                self._schema,\n",
    "                self._table,\n",
    "                self._columns,\n",
    "                self._predicate,\n",
    "                base_config,\n",
    "                i,  # split_index\n",
    "            )\n",
    "            \n",
    "            read_task = ReadTask(\n",
    "                lambda args=make_block_args: [make_block(*args)],\n",
    "                metadata,\n",
    "            )\n",
    "            read_tasks.append(read_task)\n",
    "    \n",
    "        return read_tasks"
   ]
  },
  {
   "cell_type": "code",
   "execution_count": 18,
   "id": "1e9518e6-39ad-4501-bd1e-59922be5e200",
   "metadata": {},
   "outputs": [],
   "source": [
    "import ray\n",
    "from ibis import _\n",
    "\n",
    "predicate = (_.text.contains('BigData'))\n",
    "\n",
    "vastDB = VastDBDatasource(\n",
    "            endpoint = VASTDB_ENDPOINT,\n",
    "            access_key = VASTDB_ACCESS_KEY,\n",
    "            secret_key = VASTDB_SECRET_KEY,\n",
    "            bucket = VASTDB_TWITTER_INGEST_BUCKET,\n",
    "            schema = VASTDB_TWITTER_INGEST_SCHEMA,\n",
    "            table = VASTDB_TWITTER_INGEST_TABLE,\n",
    "            columns = None,\n",
    "            predicate = predicate,\n",
    "            query_config = None\n",
    "        )\n",
    "\n",
    "ds = ray.data.read_datasource(vastDB)"
   ]
  },
  {
   "cell_type": "code",
   "execution_count": 19,
   "id": "a7adb37d-7435-4d83-9a15-f041ce06846a",
   "metadata": {},
   "outputs": [
    {
     "data": {
      "text/plain": [
       "Column      Type\n",
       "------      ----\n",
       "created_at  int64\n",
       "id          int64\n",
       "id_str      string\n",
       "text        string"
      ]
     },
     "execution_count": 19,
     "metadata": {},
     "output_type": "execute_result"
    }
   ],
   "source": [
    "ds.schema()"
   ]
  },
  {
   "cell_type": "code",
   "execution_count": 20,
   "id": "a8b8d8cd-7439-46ea-a8ce-d8501bfc0361",
   "metadata": {},
   "outputs": [
    {
     "name": "stderr",
     "output_type": "stream",
     "text": [
      "2025-02-17 23:02:26,615\tINFO streaming_executor.py:108 -- Starting execution of Dataset. Full logs are in /tmp/ray_spill/session_2025-02-17_23-02-05_547675_111390/logs/ray-data\n",
      "2025-02-17 23:02:26,616\tINFO streaming_executor.py:109 -- Execution plan of Dataset: InputDataBuffer[Input] -> TaskPoolMapOperator[ReadVastDB] -> LimitOperator[limit=1]\n"
     ]
    },
    {
     "data": {
      "application/vnd.jupyter.widget-view+json": {
       "model_id": "c2046cfed5244e6cbd96dfaa2afba172",
       "version_major": 2,
       "version_minor": 0
      },
      "text/plain": [
       "Running 0: 0.00 row [00:00, ? row/s]"
      ]
     },
     "metadata": {},
     "output_type": "display_data"
    },
    {
     "data": {
      "application/vnd.jupyter.widget-view+json": {
       "model_id": "b67c614ccb25441d9ce48be1d37c1927",
       "version_major": 2,
       "version_minor": 0
      },
      "text/plain": [
       "- ReadVastDB 1: 0.00 row [00:00, ? row/s]"
      ]
     },
     "metadata": {},
     "output_type": "display_data"
    },
    {
     "data": {
      "application/vnd.jupyter.widget-view+json": {
       "model_id": "bfd6d6550c08415eb6c41b0c10f5a96f",
       "version_major": 2,
       "version_minor": 0
      },
      "text/plain": [
       "- limit=1 2: 0.00 row [00:00, ? row/s]"
      ]
     },
     "metadata": {},
     "output_type": "display_data"
    },
    {
     "data": {
      "text/plain": [
       "[{'created_at': 1732218546737,\n",
       "  'id': 2385707629080799740,\n",
       "  'id_str': '2385707629080799740',\n",
       "  'text': 'finally got how brilliant BigData is!'}]"
      ]
     },
     "execution_count": 20,
     "metadata": {},
     "output_type": "execute_result"
    }
   ],
   "source": [
    "ds.take(1)"
   ]
  },
  {
   "cell_type": "code",
   "execution_count": 21,
   "id": "1561d48c-6a8d-424f-800f-725f18d48c26",
   "metadata": {},
   "outputs": [
    {
     "name": "stdout",
     "output_type": "stream",
     "text": [
      "======== Autoscaler status: 2025-02-17 23:02:31.591249 ========\n",
      "Node status\n",
      "---------------------------------------------------------------\n",
      "Active:\n",
      " 1 node_0f3c8e09fc6b32909715b64ea93f59dce9ae3c4099ba907a1e4d7c6a\n",
      "Pending:\n",
      " (no pending nodes)\n",
      "Recent failures:\n",
      " (no failures)\n",
      "\n",
      "Resources\n",
      "---------------------------------------------------------------\n",
      "Usage:\n",
      " 6.0/16.0 CPU\n",
      " 0B/13.77GiB memory\n",
      " 740.14KiB/6.89GiB object_store_memory\n",
      "\n",
      "Demands:\n",
      " {'CPU': 1}: 20+ from request_resources()\n",
      "\u001b[0m"
     ]
    }
   ],
   "source": [
    "! ray status"
   ]
  },
  {
   "cell_type": "code",
   "execution_count": 22,
   "id": "82b066a8-337a-4531-9f39-8dad34131709",
   "metadata": {},
   "outputs": [
    {
     "name": "stdout",
     "output_type": "stream",
     "text": [
      "\n",
      "======== List: 2025-02-17 23:02:37.292018 ========\n",
      "Stats:\n",
      "------------------------------\n",
      "Total: 44\n",
      "\n",
      "Table:\n",
      "------------------------------\n",
      "    TASK_ID                                             ATTEMPT_NUMBER  NAME                                                STATE       JOB_ID  ACTOR_ID                          TYPE                 FUNC_OR_CLASS_NAME                      PARENT_TASK_ID                                    NODE_ID                                                   WORKER_ID                                                   WORKER_PID  ERROR_TYPE\n",
      " 0  0e79562c1e26791dbdda415d322550205aa23b2901000000                 0  _StatsActor.update_execution_metrics                FAILED    01000000  bdda415d322550205aa23b2901000000  ACTOR_TASK           _StatsActor.update_execution_metrics    ffffffffffffffffffffffffffffffffffffffff01000000                                                                                                                                    OUT_OF_MEMORY\n",
      " 1  10d0edfb9cfb2004ffffffffffffffffffffffff01000000                 0  ReadVastDB                                          FINISHED  01000000                                    NORMAL_TASK          _map_task                               ffffffffffffffffffffffffffffffffffffffff01000000  0f3c8e09fc6b32909715b64ea93f59dce9ae3c4099ba907a1e4d7c6a  a0329f052b6acb47dffa7ffa82fc4c96f4ee3ceadcfd6fd368af03f0        128581\n",
      " 2  20e7362fda918b3affffffffffffffffffffffff01000000                 0  ReadVastDB                                          FAILED    01000000                                    NORMAL_TASK          _map_task                               ffffffffffffffffffffffffffffffffffffffff01000000                                                                                                                                    TASK_CANCELLED\n",
      " 3  24f5d83f3baecb73ffffffffffffffffffffffff01000000                 0  ReadVastDB                                          FINISHED  01000000                                    NORMAL_TASK          _map_task                               ffffffffffffffffffffffffffffffffffffffff01000000  0f3c8e09fc6b32909715b64ea93f59dce9ae3c4099ba907a1e4d7c6a  aa1fc02381160f424f07d11ade425cb260e6c17c01e94748e9bbf219        128582\n",
      " 4  28dc2f81b003496beae20d660fcf47e64295ef5e01000000                 0  AutoscalingRequester.request_resources              FINISHED  01000000  eae20d660fcf47e64295ef5e01000000  ACTOR_TASK           AutoscalingRequester.request_resources  ffffffffffffffffffffffffffffffffffffffff01000000  0f3c8e09fc6b32909715b64ea93f59dce9ae3c4099ba907a1e4d7c6a  a37b4ded3b6eea78e776066380311326e409a5ee6c4112a34d8a16a9        130053\n",
      " 5  2ad9ec5b27e94dfbffffffffffffffffffffffff01000000                 0  ReadVastDB                                          FAILED    01000000                                    NORMAL_TASK          _map_task                               ffffffffffffffffffffffffffffffffffffffff01000000                                                                                                                                    TASK_CANCELLED\n",
      " 6  2d461ea98f3293e0ffffffffffffffffffffffff01000000                 0  ReadVastDB                                          FAILED    01000000                                    NORMAL_TASK          _map_task                               ffffffffffffffffffffffffffffffffffffffff01000000                                                                                                                                    TASK_CANCELLED\n",
      " 7  2f16bdd3d3906455bdda415d322550205aa23b2901000000                 0  _StatsActor.update_metrics                          FAILED    01000000  bdda415d322550205aa23b2901000000  ACTOR_TASK           _StatsActor.update_metrics              ffffffffffffffffffffffffffffffffffffffff01000000                                                                                                                                    OUT_OF_MEMORY\n",
      " 8  4054b1aff918f9ecffffffffffffffffffffffff01000000                 0  ReadVastDB                                          FAILED    01000000                                    NORMAL_TASK          _map_task                               ffffffffffffffffffffffffffffffffffffffff01000000                                                                                                                                    TASK_CANCELLED\n",
      " 9  5e7b4e19399f384fffffffffffffffffffffffff01000000                 0  ReadVastDB                                          FAILED    01000000                                    NORMAL_TASK          _map_task                               ffffffffffffffffffffffffffffffffffffffff01000000  0f3c8e09fc6b32909715b64ea93f59dce9ae3c4099ba907a1e4d7c6a  aa1fc02381160f424f07d11ade425cb260e6c17c01e94748e9bbf219        128582  OUT_OF_MEMORY\n",
      "10  64ea548c630fb9a9ffffffffffffffffffffffff01000000                 2  ReadVastDB                                          FAILED    01000000                                    NORMAL_TASK          _map_task                               ffffffffffffffffffffffffffffffffffffffff01000000  0f3c8e09fc6b32909715b64ea93f59dce9ae3c4099ba907a1e4d7c6a  32709184f28e230c9754b0507eb5290d508408c742dfa25f81f42349        130055  OUT_OF_MEMORY\n",
      "11  64ea548c630fb9a9ffffffffffffffffffffffff01000000                 1  ReadVastDB                                          FAILED    01000000                                    NORMAL_TASK          _map_task                               ffffffffffffffffffffffffffffffffffffffff01000000  0f3c8e09fc6b32909715b64ea93f59dce9ae3c4099ba907a1e4d7c6a  ad1b14bd99f8709f6e336ef1850f4aae8688cb7c420001783f393fc6                OUT_OF_MEMORY\n",
      "12  64ea548c630fb9a9ffffffffffffffffffffffff01000000                 0  ReadVastDB                                          FAILED    01000000                                    NORMAL_TASK          _map_task                               ffffffffffffffffffffffffffffffffffffffff01000000  0f3c8e09fc6b32909715b64ea93f59dce9ae3c4099ba907a1e4d7c6a  34886c1161ecfa92130dba360cf480eb9418969bf8407fc999963384        128580  OUT_OF_MEMORY\n",
      "13  70cfcd9e2441a4b7ffffffffffffffffffffffff01000000                 2  ReadVastDB                                          FAILED    01000000                                    NORMAL_TASK          _map_task                               ffffffffffffffffffffffffffffffffffffffff01000000                                                                                                                                    TASK_CANCELLED\n",
      "14  70cfcd9e2441a4b7ffffffffffffffffffffffff01000000                 1  ReadVastDB                                          FAILED    01000000                                    NORMAL_TASK          _map_task                               ffffffffffffffffffffffffffffffffffffffff01000000  0f3c8e09fc6b32909715b64ea93f59dce9ae3c4099ba907a1e4d7c6a  1466570cc4dec87979b267f19a14530d8234e27266da4d78c19a6914                OUT_OF_MEMORY\n",
      "15  70cfcd9e2441a4b7ffffffffffffffffffffffff01000000                 0  ReadVastDB                                          FAILED    01000000                                    NORMAL_TASK          _map_task                               ffffffffffffffffffffffffffffffffffffffff01000000  0f3c8e09fc6b32909715b64ea93f59dce9ae3c4099ba907a1e4d7c6a  584b6f5b25758fee9ac1c9b2b833574296fa7c8d5f5cd08540cea65e        128588  OUT_OF_MEMORY\n",
      "16  7d2e739800a4defaffffffffffffffffffffffff01000000                 0  slice_fn                                            FINISHED  01000000                                    NORMAL_TASK          slice_fn                                ffffffffffffffffffffffffffffffffffffffff01000000  0f3c8e09fc6b32909715b64ea93f59dce9ae3c4099ba907a1e4d7c6a  a0329f052b6acb47dffa7ffa82fc4c96f4ee3ceadcfd6fd368af03f0        128581\n",
      "17  82891771158d68c1bdda415d322550205aa23b2901000000                 0  _StatsActor.register_dataset                        FAILED    01000000  bdda415d322550205aa23b2901000000  ACTOR_TASK           _StatsActor.register_dataset            ffffffffffffffffffffffffffffffffffffffff01000000                                                                                                                                    OUT_OF_MEMORY\n",
      "18  89c0406ab6e83a48bdda415d322550205aa23b2901000000                 0  _StatsActor.update_metrics                          FAILED    01000000  bdda415d322550205aa23b2901000000  ACTOR_TASK           _StatsActor.update_metrics              ffffffffffffffffffffffffffffffffffffffff01000000                                                                                                                                    OUT_OF_MEMORY\n",
      "19  8eed2585442a19a3ffffffffffffffffffffffff01000000                 0  ReadVastDB                                          FINISHED  01000000                                    NORMAL_TASK          _map_task                               ffffffffffffffffffffffffffffffffffffffff01000000  0f3c8e09fc6b32909715b64ea93f59dce9ae3c4099ba907a1e4d7c6a  a0329f052b6acb47dffa7ffa82fc4c96f4ee3ceadcfd6fd368af03f0        128581\n",
      "20  97dac511f3741f3bffffffffffffffffffffffff01000000                 1  ReadVastDB                                          FAILED    01000000                                    NORMAL_TASK          _map_task                               ffffffffffffffffffffffffffffffffffffffff01000000                                                                                                                                    TASK_CANCELLED\n",
      "21  97dac511f3741f3bffffffffffffffffffffffff01000000                 0  ReadVastDB                                          FAILED    01000000                                    NORMAL_TASK          _map_task                               ffffffffffffffffffffffffffffffffffffffff01000000  0f3c8e09fc6b32909715b64ea93f59dce9ae3c4099ba907a1e4d7c6a  3790bbba7c86d34a5682d491b7430c3612f9f2740aaca7b753cfd086        128586  OUT_OF_MEMORY\n",
      "22  99b02ab20ad38ec2ffffffffffffffffffffffff01000000                 0  ReadVastDB                                          FINISHED  01000000                                    NORMAL_TASK          _map_task                               ffffffffffffffffffffffffffffffffffffffff01000000  0f3c8e09fc6b32909715b64ea93f59dce9ae3c4099ba907a1e4d7c6a  537cd118f3e28e12161d04ca63fe4373884d587004916214b5f76f07        128578\n",
      "23  a316de590b5b574effffffffffffffffffffffff01000000                 0  ReadVastDB                                          FINISHED  01000000                                    NORMAL_TASK          _map_task                               ffffffffffffffffffffffffffffffffffffffff01000000  0f3c8e09fc6b32909715b64ea93f59dce9ae3c4099ba907a1e4d7c6a  2cabb1243bfe0125c6360c9dbb1a41c59733b587cb6f12042038cc70        128584\n",
      "24  b7316e667eea31d0ffffffffffffffffffffffff01000000                 3  ReadVastDB                                          FAILED    01000000                                    NORMAL_TASK          _map_task                               ffffffffffffffffffffffffffffffffffffffff01000000                                                                                                                                    TASK_CANCELLED\n",
      "25  b7316e667eea31d0ffffffffffffffffffffffff01000000                 2  ReadVastDB                                          FAILED    01000000                                    NORMAL_TASK          _map_task                               ffffffffffffffffffffffffffffffffffffffff01000000  0f3c8e09fc6b32909715b64ea93f59dce9ae3c4099ba907a1e4d7c6a  233a9b919f2bb0ce83862e8734a8d35f610783d54c0d2a80859ba7fc                OUT_OF_MEMORY\n",
      "26  b7316e667eea31d0ffffffffffffffffffffffff01000000                 1  ReadVastDB                                          FAILED    01000000                                    NORMAL_TASK          _map_task                               ffffffffffffffffffffffffffffffffffffffff01000000  0f3c8e09fc6b32909715b64ea93f59dce9ae3c4099ba907a1e4d7c6a  b4de9cc7d2814ba45eb3eca0a4d3b51701b5fc1a2cce35d35c74ab89                OUT_OF_MEMORY\n",
      "27  b7316e667eea31d0ffffffffffffffffffffffff01000000                 0  ReadVastDB                                          FAILED    01000000                                    NORMAL_TASK          _map_task                               ffffffffffffffffffffffffffffffffffffffff01000000  0f3c8e09fc6b32909715b64ea93f59dce9ae3c4099ba907a1e4d7c6a  eb7437ecc349fb26a731de3d714a31854ae65c4c926ab5cb3508201c                OUT_OF_MEMORY\n",
      "28  be478a2567ed38d3ffffffffffffffffffffffff01000000                 0  ReadVastDB                                          FAILED    01000000                                    NORMAL_TASK          _map_task                               ffffffffffffffffffffffffffffffffffffffff01000000                                                                                                                                    TASK_CANCELLED\n",
      "29  d2b84c04b35f4b0effffffffffffffffffffffff01000000                 0  ReadVastDB                                          FAILED    01000000                                    NORMAL_TASK          _map_task                               ffffffffffffffffffffffffffffffffffffffff01000000  0f3c8e09fc6b32909715b64ea93f59dce9ae3c4099ba907a1e4d7c6a  2cabb1243bfe0125c6360c9dbb1a41c59733b587cb6f12042038cc70                OUT_OF_MEMORY\n",
      "30  e11f7a7620e017e8eae20d660fcf47e64295ef5e01000000                 3  AutoscalingRequester.request_resources              FINISHED  01000000  eae20d660fcf47e64295ef5e01000000  ACTOR_TASK           AutoscalingRequester.request_resources  ffffffffffffffffffffffffffffffffffffffff01000000  0f3c8e09fc6b32909715b64ea93f59dce9ae3c4099ba907a1e4d7c6a  4bbc76def3e7f6e336db7800f6df0524e252984273f0528148647615\n",
      "31  e11f7a7620e017e8eae20d660fcf47e64295ef5e01000000                 2  AutoscalingRequester.request_resources              FAILED    01000000  eae20d660fcf47e64295ef5e01000000  ACTOR_TASK           AutoscalingRequester.request_resources  ffffffffffffffffffffffffffffffffffffffff01000000  0f3c8e09fc6b32909715b64ea93f59dce9ae3c4099ba907a1e4d7c6a  d3dfaa096fdb3e2e345100c7d266aa02d5c9adf662f15ba7d3ea712c                ACTOR_UNAVAILABLE\n",
      "32  e11f7a7620e017e8eae20d660fcf47e64295ef5e01000000                 1  AutoscalingRequester.request_resources              FAILED    01000000  eae20d660fcf47e64295ef5e01000000  ACTOR_TASK           AutoscalingRequester.request_resources  ffffffffffffffffffffffffffffffffffffffff01000000  0f3c8e09fc6b32909715b64ea93f59dce9ae3c4099ba907a1e4d7c6a  0d336ce7c83c93b9010419132b08396f529edebb070ebce0d6049a5b                ACTOR_UNAVAILABLE\n",
      "33  e11f7a7620e017e8eae20d660fcf47e64295ef5e01000000                 0  AutoscalingRequester.request_resources              FAILED    01000000  eae20d660fcf47e64295ef5e01000000  ACTOR_TASK           AutoscalingRequester.request_resources  ffffffffffffffffffffffffffffffffffffffff01000000  0f3c8e09fc6b32909715b64ea93f59dce9ae3c4099ba907a1e4d7c6a  516ff0ae9740e4dfacc9dc76a6ba9f0b2b32fd145893f2d6f03088c5                ACTOR_UNAVAILABLE\n",
      "34  e4bb2f91b80f8e67ffffffffffffffffffffffff01000000                 2  ReadVastDB                                          FAILED    01000000                                    NORMAL_TASK          _map_task                               ffffffffffffffffffffffffffffffffffffffff01000000                                                                                                                                    TASK_CANCELLED\n",
      "35  e4bb2f91b80f8e67ffffffffffffffffffffffff01000000                 1  ReadVastDB                                          FAILED    01000000                                    NORMAL_TASK          _map_task                               ffffffffffffffffffffffffffffffffffffffff01000000  0f3c8e09fc6b32909715b64ea93f59dce9ae3c4099ba907a1e4d7c6a  b278ce94b60d1321740d7ab4324abda1e708d657823243e8505ceb29                OUT_OF_MEMORY\n",
      "36  e4bb2f91b80f8e67ffffffffffffffffffffffff01000000                 0  ReadVastDB                                          FAILED    01000000                                    NORMAL_TASK          _map_task                               ffffffffffffffffffffffffffffffffffffffff01000000  0f3c8e09fc6b32909715b64ea93f59dce9ae3c4099ba907a1e4d7c6a  21ca4baab1ed0829d637152d4497c40afa869d96b1ecf671dfc59808        128585  OUT_OF_MEMORY\n",
      "37  e747fcb12c303b65ffffffffffffffffffffffff01000000                 1  ReadVastDB                                          FINISHED  01000000                                    NORMAL_TASK          _map_task                               ffffffffffffffffffffffffffffffffffffffff01000000  0f3c8e09fc6b32909715b64ea93f59dce9ae3c4099ba907a1e4d7c6a  4fb5a1c591a1fe1ba38450dc00c3222f199324d6f3bb4a9c7472f3a6        130054\n",
      "38  e747fcb12c303b65ffffffffffffffffffffffff01000000                 0  ReadVastDB                                          FAILED    01000000                                    NORMAL_TASK          _map_task                               ffffffffffffffffffffffffffffffffffffffff01000000  0f3c8e09fc6b32909715b64ea93f59dce9ae3c4099ba907a1e4d7c6a  3da3a349365429750db73eb236bdc4c0120ef041891333aaf50b2f0c        128587  OUT_OF_MEMORY\n",
      "39  f4402ec78d3a2607bdda415d322550205aa23b2901000000                 0  _StatsActor.get_dataset_id                          FAILED    01000000  bdda415d322550205aa23b2901000000  ACTOR_TASK           _StatsActor.get_dataset_id              ffffffffffffffffffffffffffffffffffffffff01000000                                                                                                                                    OUT_OF_MEMORY\n",
      "40  f91b78d7db9a6593bdda415d322550205aa23b2901000000                 0  _StatsActor.get_dataset_id                          FAILED    01000000  bdda415d322550205aa23b2901000000  ACTOR_TASK           _StatsActor.get_dataset_id              ffffffffffffffffffffffffffffffffffffffff01000000                                                                                                                                    OUT_OF_MEMORY\n",
      "41  fc32c86605912cd3ffffffffffffffffffffffff01000000                 0  ReadVastDB                                          FAILED    01000000                                    NORMAL_TASK          _map_task                               ffffffffffffffffffffffffffffffffffffffff01000000                                                                                                                                    TASK_CANCELLED\n",
      "42  ffffffffffffffffbdda415d322550205aa23b2901000000                 0  datasets_stats_actor:_StatsActor.__init__           FAILED    01000000  bdda415d322550205aa23b2901000000  ACTOR_CREATION_TASK  _StatsActor.__init__                    ffffffffffffffffffffffffffffffffffffffff01000000                                                                                                                                    WORKER_DIED\n",
      "43  ffffffffffffffffeae20d660fcf47e64295ef5e01000000                 0  AutoscalingRequester:AutoscalingRequester.__init__  FINISHED  01000000  eae20d660fcf47e64295ef5e01000000  ACTOR_CREATION_TASK  AutoscalingRequester.__init__           ffffffffffffffffffffffffffffffffffffffff01000000                                                                                                                            130240\n",
      "\n",
      "\u001b[0m"
     ]
    }
   ],
   "source": [
    "! ray list tasks"
   ]
  },
  {
   "cell_type": "code",
   "execution_count": null,
   "id": "69effc2a-ac8f-40e3-9ace-4741e3495b7c",
   "metadata": {},
   "outputs": [],
   "source": []
  }
 ],
 "metadata": {
  "kernelspec": {
   "display_name": "Python 3 (ipykernel)",
   "language": "python",
   "name": "python3"
  },
  "language_info": {
   "codemirror_mode": {
    "name": "ipython",
    "version": 3
   },
   "file_extension": ".py",
   "mimetype": "text/x-python",
   "name": "python",
   "nbconvert_exporter": "python",
   "pygments_lexer": "ipython3",
   "version": "3.11.10"
  }
 },
 "nbformat": 4,
 "nbformat_minor": 5
}

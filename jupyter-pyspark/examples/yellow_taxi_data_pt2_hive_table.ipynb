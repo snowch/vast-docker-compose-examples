{
 "cells": [
  {
   "cell_type": "markdown",
   "id": "10fed33d-be68-4c1b-a045-30f853f1e6a5",
   "metadata": {},
   "source": [
    "# Import Yellow Taxi Data - Part 2"
   ]
  },
  {
   "cell_type": "markdown",
   "id": "fb93c071-3c28-4c32-b782-2512f38eec58",
   "metadata": {},
   "source": [
    "Create a Hive external table using the S3 Parquet files.\n"
   ]
  },
  {
   "cell_type": "markdown",
   "id": "ddca27ea-d563-4aae-983d-2476c55c1880",
   "metadata": {},
   "source": [
    "## Create Hive Table"
   ]
  },
  {
   "cell_type": "code",
   "execution_count": 7,
   "id": "d3c30da6-abce-4090-80e7-452dbb55529e",
   "metadata": {},
   "outputs": [],
   "source": [
    "import urllib3\n",
    "\n",
    "urllib3.disable_warnings(urllib3.exceptions.InsecureRequestWarning)"
   ]
  },
  {
   "cell_type": "code",
   "execution_count": 8,
   "id": "564cac05-1d8d-42e1-9ceb-7cb462650ad9",
   "metadata": {},
   "outputs": [
    {
     "name": "stdout",
     "output_type": "stream",
     "text": [
      "The sql extension is already loaded. To reload it, use:\n",
      "  %reload_ext sql\n"
     ]
    }
   ],
   "source": [
    "%load_ext sql"
   ]
  },
  {
   "cell_type": "code",
   "execution_count": 9,
   "id": "1ffa79a0-b720-4833-87ad-32458ecd038e",
   "metadata": {},
   "outputs": [],
   "source": [
    "%config SqlMagic.named_parameters = \"enabled\""
   ]
  },
  {
   "cell_type": "code",
   "execution_count": 10,
   "id": "4f29846f-d23d-429a-bab2-5ba51d58593b",
   "metadata": {},
   "outputs": [],
   "source": [
    "%sql trino://admin@${DOCKER_HOST_OR_IP}:8443/hive --connection_arguments '{\"http_scheme\":\"https\", \"verify\": false}'"
   ]
  },
  {
   "cell_type": "code",
   "execution_count": 11,
   "id": "6b157708-bfb7-4884-b439-fa4347fa11b3",
   "metadata": {},
   "outputs": [
    {
     "data": {
      "text/html": [
       "<span style=\"None\">Running query in &#x27;trino://admin@10.143.11.241:8443/hive&#x27;</span>"
      ],
      "text/plain": [
       "Running query in 'trino://admin@10.143.11.241:8443/hive'"
      ]
     },
     "metadata": {},
     "output_type": "display_data"
    },
    {
     "data": {
      "text/html": [
       "<table>\n",
       "    <thead>\n",
       "        <tr>\n",
       "            <th>Catalog</th>\n",
       "        </tr>\n",
       "    </thead>\n",
       "    <tbody>\n",
       "        <tr>\n",
       "            <td>hive</td>\n",
       "        </tr>\n",
       "        <tr>\n",
       "            <td>iceberg</td>\n",
       "        </tr>\n",
       "        <tr>\n",
       "            <td>system</td>\n",
       "        </tr>\n",
       "        <tr>\n",
       "            <td>tpcds</td>\n",
       "        </tr>\n",
       "        <tr>\n",
       "            <td>vast</td>\n",
       "        </tr>\n",
       "    </tbody>\n",
       "</table>"
      ],
      "text/plain": [
       "+---------+\n",
       "| Catalog |\n",
       "+---------+\n",
       "|   hive  |\n",
       "| iceberg |\n",
       "|  system |\n",
       "|  tpcds  |\n",
       "|   vast  |\n",
       "+---------+"
      ]
     },
     "execution_count": 11,
     "metadata": {},
     "output_type": "execute_result"
    }
   ],
   "source": [
    "%%sql \n",
    "\n",
    "show catalogs"
   ]
  },
  {
   "cell_type": "code",
   "execution_count": 12,
   "id": "41c3eadc-978d-4952-a3cf-f8e326b71fa9",
   "metadata": {},
   "outputs": [],
   "source": [
    "import os\n",
    "S3A_BUCKET = os.getenv('S3A_BUCKET')"
   ]
  },
  {
   "cell_type": "code",
   "execution_count": 13,
   "id": "0a3bc5d7-16c1-498f-bc01-48f2c6ccab5f",
   "metadata": {},
   "outputs": [
    {
     "name": "stdout",
     "output_type": "stream",
     "text": [
      "csnow-bucket\n"
     ]
    }
   ],
   "source": [
    "! echo {S3A_BUCKET}"
   ]
  },
  {
   "cell_type": "code",
   "execution_count": 14,
   "id": "2078acbc-4398-4d47-a020-c70687efd1a2",
   "metadata": {},
   "outputs": [
    {
     "data": {
      "text/html": [
       "<span style=\"None\">Running query in &#x27;trino://admin@10.143.11.241:8443/hive&#x27;</span>"
      ],
      "text/plain": [
       "Running query in 'trino://admin@10.143.11.241:8443/hive'"
      ]
     },
     "metadata": {},
     "output_type": "display_data"
    },
    {
     "data": {
      "text/html": [
       "<table>\n",
       "    <thead>\n",
       "        <tr>\n",
       "        </tr>\n",
       "    </thead>\n",
       "    <tbody>\n",
       "    </tbody>\n",
       "</table>"
      ],
      "text/plain": [
       "++\n",
       "||\n",
       "++\n",
       "++"
      ]
     },
     "execution_count": 14,
     "metadata": {},
     "output_type": "execute_result"
    }
   ],
   "source": [
    "%%sql\n",
    "\n",
    "CREATE SCHEMA IF NOT EXISTS hive.nyt"
   ]
  },
  {
   "cell_type": "code",
   "execution_count": 15,
   "id": "70c169e9-1028-4d96-836c-601fc4440167",
   "metadata": {},
   "outputs": [
    {
     "data": {
      "text/html": [
       "<span style=\"None\">Running query in &#x27;trino://admin@10.143.11.241:8443/hive&#x27;</span>"
      ],
      "text/plain": [
       "Running query in 'trino://admin@10.143.11.241:8443/hive'"
      ]
     },
     "metadata": {},
     "output_type": "display_data"
    },
    {
     "data": {
      "text/html": [
       "<table>\n",
       "    <thead>\n",
       "        <tr>\n",
       "            <th>Schema</th>\n",
       "        </tr>\n",
       "    </thead>\n",
       "    <tbody>\n",
       "        <tr>\n",
       "            <td>default</td>\n",
       "        </tr>\n",
       "        <tr>\n",
       "            <td>information_schema</td>\n",
       "        </tr>\n",
       "        <tr>\n",
       "            <td>nyt</td>\n",
       "        </tr>\n",
       "        <tr>\n",
       "            <td>social_media</td>\n",
       "        </tr>\n",
       "    </tbody>\n",
       "</table>"
      ],
      "text/plain": [
       "+--------------------+\n",
       "|       Schema       |\n",
       "+--------------------+\n",
       "|      default       |\n",
       "| information_schema |\n",
       "|        nyt         |\n",
       "|    social_media    |\n",
       "+--------------------+"
      ]
     },
     "execution_count": 15,
     "metadata": {},
     "output_type": "execute_result"
    }
   ],
   "source": [
    "%%sql\n",
    "\n",
    "SHOW SCHEMAS"
   ]
  },
  {
   "cell_type": "code",
   "execution_count": 45,
   "id": "63a191bd-89ab-427f-a182-8cdef204a0ad",
   "metadata": {},
   "outputs": [
    {
     "data": {
      "text/html": [
       "<span style=\"None\">Running query in &#x27;trino://admin@10.143.11.241:8443/hive&#x27;</span>"
      ],
      "text/plain": [
       "Running query in 'trino://admin@10.143.11.241:8443/hive'"
      ]
     },
     "metadata": {},
     "output_type": "display_data"
    },
    {
     "data": {
      "text/html": [
       "<table>\n",
       "    <thead>\n",
       "        <tr>\n",
       "        </tr>\n",
       "    </thead>\n",
       "    <tbody>\n",
       "    </tbody>\n",
       "</table>"
      ],
      "text/plain": [
       "++\n",
       "||\n",
       "++\n",
       "++"
      ]
     },
     "execution_count": 45,
     "metadata": {},
     "output_type": "execute_result"
    }
   ],
   "source": [
    "%%sql\n",
    "\n",
    "DROP TABLE IF EXISTS nyt.yellow_trip_data"
   ]
  },
  {
   "cell_type": "code",
   "execution_count": 46,
   "id": "b41d23d9-f70e-4e41-bc0c-6ed81acfd88c",
   "metadata": {},
   "outputs": [
    {
     "data": {
      "text/html": [
       "<span style=\"None\">Running query in &#x27;trino://admin@10.143.11.241:8443/hive&#x27;</span>"
      ],
      "text/plain": [
       "Running query in 'trino://admin@10.143.11.241:8443/hive'"
      ]
     },
     "metadata": {},
     "output_type": "display_data"
    },
    {
     "data": {
      "text/html": [
       "<table>\n",
       "    <thead>\n",
       "        <tr>\n",
       "        </tr>\n",
       "    </thead>\n",
       "    <tbody>\n",
       "    </tbody>\n",
       "</table>"
      ],
      "text/plain": [
       "++\n",
       "||\n",
       "++\n",
       "++"
      ]
     },
     "execution_count": 46,
     "metadata": {},
     "output_type": "execute_result"
    }
   ],
   "source": [
    "%%sql\n",
    "\n",
    "CREATE TABLE nyt.yellow_trip_data (\n",
    "  VendorID INT,\n",
    "  tpep_pickup_datetime TIMESTAMP,\n",
    "  tpep_dropoff_datetime TIMESTAMP,\n",
    "  passenger_count INT,\n",
    "  trip_distance DOUBLE,\n",
    "  RatecodeID INT,\n",
    "  store_and_fwd_flag VARCHAR,\n",
    "  PULocationID INT,\n",
    "  DOLocationID INT,\n",
    "  payment_type INT,\n",
    "  fare_amount DOUBLE,\n",
    "  extra DOUBLE,\n",
    "  mta_tax DOUBLE,\n",
    "  tip_amount DOUBLE,\n",
    "  tolls_amount DOUBLE,\n",
    "  improvement_surcharge DOUBLE,\n",
    "  total_amount DOUBLE,\n",
    "  congestion_surcharge DOUBLE,  \n",
    "  airport_fee DOUBLE\n",
    ")\n",
    "WITH (\n",
    "  format = 'PARQUET',\n",
    "  external_location = 's3a://{{S3A_BUCKET}}/yellow_tripdata/'\n",
    ")"
   ]
  },
  {
   "cell_type": "code",
   "execution_count": 47,
   "id": "a19ed7ba-f11f-429e-94bc-20eb8ad5efff",
   "metadata": {},
   "outputs": [
    {
     "data": {
      "text/html": [
       "<span style=\"None\">Running query in &#x27;trino://admin@10.143.11.241:8443/hive&#x27;</span>"
      ],
      "text/plain": [
       "Running query in 'trino://admin@10.143.11.241:8443/hive'"
      ]
     },
     "metadata": {},
     "output_type": "display_data"
    },
    {
     "data": {
      "text/html": [
       "<table>\n",
       "    <thead>\n",
       "        <tr>\n",
       "            <th>row_count</th>\n",
       "        </tr>\n",
       "    </thead>\n",
       "    <tbody>\n",
       "        <tr>\n",
       "            <td>58665597</td>\n",
       "        </tr>\n",
       "    </tbody>\n",
       "</table>"
      ],
      "text/plain": [
       "+-----------+\n",
       "| row_count |\n",
       "+-----------+\n",
       "|  58665597 |\n",
       "+-----------+"
      ]
     },
     "execution_count": 47,
     "metadata": {},
     "output_type": "execute_result"
    }
   ],
   "source": [
    "%%sql\n",
    "    \n",
    "SELECT COUNT(*) as row_count FROM nyt.yellow_trip_data"
   ]
  },
  {
   "cell_type": "code",
   "execution_count": 49,
   "id": "7a074f60-227b-4d50-aa09-419684b9487f",
   "metadata": {},
   "outputs": [
    {
     "data": {
      "text/html": [
       "<span style=\"None\">Running query in &#x27;trino://admin@10.143.11.241:8443/hive&#x27;</span>"
      ],
      "text/plain": [
       "Running query in 'trino://admin@10.143.11.241:8443/hive'"
      ]
     },
     "metadata": {},
     "output_type": "display_data"
    },
    {
     "data": {
      "text/html": [
       "<table>\n",
       "    <thead>\n",
       "        <tr>\n",
       "            <th>vendorid</th>\n",
       "            <th>tpep_pickup_datetime</th>\n",
       "            <th>tpep_dropoff_datetime</th>\n",
       "            <th>passenger_count</th>\n",
       "            <th>trip_distance</th>\n",
       "            <th>ratecodeid</th>\n",
       "            <th>store_and_fwd_flag</th>\n",
       "            <th>pulocationid</th>\n",
       "            <th>dolocationid</th>\n",
       "            <th>payment_type</th>\n",
       "            <th>fare_amount</th>\n",
       "            <th>extra</th>\n",
       "            <th>mta_tax</th>\n",
       "            <th>tip_amount</th>\n",
       "            <th>tolls_amount</th>\n",
       "            <th>improvement_surcharge</th>\n",
       "            <th>total_amount</th>\n",
       "            <th>congestion_surcharge</th>\n",
       "            <th>airport_fee</th>\n",
       "        </tr>\n",
       "    </thead>\n",
       "    <tbody>\n",
       "        <tr>\n",
       "            <td>2</td>\n",
       "            <td>2019-01-30 20:09:16</td>\n",
       "            <td>2019-01-31 20:07:58</td>\n",
       "            <td>1</td>\n",
       "            <td>1.0</td>\n",
       "            <td>1</td>\n",
       "            <td>N</td>\n",
       "            <td>162</td>\n",
       "            <td>107</td>\n",
       "            <td>1</td>\n",
       "            <td>5.5</td>\n",
       "            <td>0.5</td>\n",
       "            <td>0.5</td>\n",
       "            <td>0.0</td>\n",
       "            <td>0.0</td>\n",
       "            <td>0.3</td>\n",
       "            <td>6.8</td>\n",
       "            <td>0.0</td>\n",
       "            <td>0.0</td>\n",
       "        </tr>\n",
       "        <tr>\n",
       "            <td>2</td>\n",
       "            <td>2019-01-30 20:20:50</td>\n",
       "            <td>2019-01-30 20:27:04</td>\n",
       "            <td>1</td>\n",
       "            <td>0.68</td>\n",
       "            <td>1</td>\n",
       "            <td>N</td>\n",
       "            <td>107</td>\n",
       "            <td>113</td>\n",
       "            <td>1</td>\n",
       "            <td>6.0</td>\n",
       "            <td>0.5</td>\n",
       "            <td>0.5</td>\n",
       "            <td>1.46</td>\n",
       "            <td>0.0</td>\n",
       "            <td>0.3</td>\n",
       "            <td>8.76</td>\n",
       "            <td>0.0</td>\n",
       "            <td>0.0</td>\n",
       "        </tr>\n",
       "        <tr>\n",
       "            <td>2</td>\n",
       "            <td>2019-01-30 20:31:39</td>\n",
       "            <td>2019-01-30 20:46:36</td>\n",
       "            <td>1</td>\n",
       "            <td>1.68</td>\n",
       "            <td>1</td>\n",
       "            <td>N</td>\n",
       "            <td>114</td>\n",
       "            <td>232</td>\n",
       "            <td>1</td>\n",
       "            <td>11.0</td>\n",
       "            <td>0.5</td>\n",
       "            <td>0.5</td>\n",
       "            <td>4.0</td>\n",
       "            <td>0.0</td>\n",
       "            <td>0.3</td>\n",
       "            <td>16.3</td>\n",
       "            <td>0.0</td>\n",
       "            <td>0.0</td>\n",
       "        </tr>\n",
       "        <tr>\n",
       "            <td>2</td>\n",
       "            <td>2019-01-30 20:50:23</td>\n",
       "            <td>2019-01-30 21:03:03</td>\n",
       "            <td>1</td>\n",
       "            <td>1.56</td>\n",
       "            <td>1</td>\n",
       "            <td>N</td>\n",
       "            <td>232</td>\n",
       "            <td>114</td>\n",
       "            <td>1</td>\n",
       "            <td>9.5</td>\n",
       "            <td>0.5</td>\n",
       "            <td>0.5</td>\n",
       "            <td>2.16</td>\n",
       "            <td>0.0</td>\n",
       "            <td>0.3</td>\n",
       "            <td>12.96</td>\n",
       "            <td>0.0</td>\n",
       "            <td>0.0</td>\n",
       "        </tr>\n",
       "        <tr>\n",
       "            <td>2</td>\n",
       "            <td>2019-01-30 20:13:37</td>\n",
       "            <td>2019-01-30 20:57:05</td>\n",
       "            <td>1</td>\n",
       "            <td>18.6</td>\n",
       "            <td>2</td>\n",
       "            <td>N</td>\n",
       "            <td>132</td>\n",
       "            <td>230</td>\n",
       "            <td>1</td>\n",
       "            <td>52.0</td>\n",
       "            <td>0.0</td>\n",
       "            <td>0.5</td>\n",
       "            <td>11.71</td>\n",
       "            <td>5.76</td>\n",
       "            <td>0.3</td>\n",
       "            <td>70.27</td>\n",
       "            <td>0.0</td>\n",
       "            <td>0.0</td>\n",
       "        </tr>\n",
       "        <tr>\n",
       "            <td>2</td>\n",
       "            <td>2019-01-30 20:04:13</td>\n",
       "            <td>2019-01-30 20:18:04</td>\n",
       "            <td>1</td>\n",
       "            <td>2.38</td>\n",
       "            <td>1</td>\n",
       "            <td>N</td>\n",
       "            <td>230</td>\n",
       "            <td>236</td>\n",
       "            <td>1</td>\n",
       "            <td>11.0</td>\n",
       "            <td>0.5</td>\n",
       "            <td>0.5</td>\n",
       "            <td>2.0</td>\n",
       "            <td>0.0</td>\n",
       "            <td>0.3</td>\n",
       "            <td>14.3</td>\n",
       "            <td>0.0</td>\n",
       "            <td>0.0</td>\n",
       "        </tr>\n",
       "        <tr>\n",
       "            <td>2</td>\n",
       "            <td>2019-01-30 20:31:00</td>\n",
       "            <td>2019-01-30 20:39:51</td>\n",
       "            <td>1</td>\n",
       "            <td>1.33</td>\n",
       "            <td>1</td>\n",
       "            <td>N</td>\n",
       "            <td>161</td>\n",
       "            <td>142</td>\n",
       "            <td>1</td>\n",
       "            <td>7.5</td>\n",
       "            <td>0.5</td>\n",
       "            <td>0.5</td>\n",
       "            <td>1.76</td>\n",
       "            <td>0.0</td>\n",
       "            <td>0.3</td>\n",
       "            <td>10.56</td>\n",
       "            <td>0.0</td>\n",
       "            <td>0.0</td>\n",
       "        </tr>\n",
       "        <tr>\n",
       "            <td>2</td>\n",
       "            <td>2019-01-30 20:47:03</td>\n",
       "            <td>2019-01-30 21:01:16</td>\n",
       "            <td>1</td>\n",
       "            <td>1.78</td>\n",
       "            <td>1</td>\n",
       "            <td>N</td>\n",
       "            <td>142</td>\n",
       "            <td>233</td>\n",
       "            <td>1</td>\n",
       "            <td>10.5</td>\n",
       "            <td>0.5</td>\n",
       "            <td>0.5</td>\n",
       "            <td>2.36</td>\n",
       "            <td>0.0</td>\n",
       "            <td>0.3</td>\n",
       "            <td>14.16</td>\n",
       "            <td>0.0</td>\n",
       "            <td>0.0</td>\n",
       "        </tr>\n",
       "        <tr>\n",
       "            <td>2</td>\n",
       "            <td>2019-01-30 20:23:44</td>\n",
       "            <td>2019-01-30 20:34:39</td>\n",
       "            <td>1</td>\n",
       "            <td>1.69</td>\n",
       "            <td>1</td>\n",
       "            <td>N</td>\n",
       "            <td>164</td>\n",
       "            <td>230</td>\n",
       "            <td>2</td>\n",
       "            <td>9.0</td>\n",
       "            <td>0.5</td>\n",
       "            <td>0.5</td>\n",
       "            <td>0.0</td>\n",
       "            <td>0.0</td>\n",
       "            <td>0.3</td>\n",
       "            <td>10.3</td>\n",
       "            <td>0.0</td>\n",
       "            <td>0.0</td>\n",
       "        </tr>\n",
       "        <tr>\n",
       "            <td>2</td>\n",
       "            <td>2019-01-30 20:41:43</td>\n",
       "            <td>2019-01-30 20:50:43</td>\n",
       "            <td>1</td>\n",
       "            <td>1.71</td>\n",
       "            <td>1</td>\n",
       "            <td>N</td>\n",
       "            <td>161</td>\n",
       "            <td>107</td>\n",
       "            <td>1</td>\n",
       "            <td>8.0</td>\n",
       "            <td>0.5</td>\n",
       "            <td>0.5</td>\n",
       "            <td>1.86</td>\n",
       "            <td>0.0</td>\n",
       "            <td>0.3</td>\n",
       "            <td>11.16</td>\n",
       "            <td>0.0</td>\n",
       "            <td>0.0</td>\n",
       "        </tr>\n",
       "    </tbody>\n",
       "</table>\n",
       "<span style=\"font-style:italic;text-align:center;\">Truncated to <a href=\"https://jupysql.ploomber.io/en/latest/api/configuration.html#displaylimit\">displaylimit</a> of 10.</span>"
      ],
      "text/plain": [
       "+----------+----------------------+-----------------------+-----------------+---------------+------------+--------------------+--------------+--------------+--------------+-------------+-------+---------+------------+--------------+-----------------------+--------------+----------------------+-------------+\n",
       "| vendorid | tpep_pickup_datetime | tpep_dropoff_datetime | passenger_count | trip_distance | ratecodeid | store_and_fwd_flag | pulocationid | dolocationid | payment_type | fare_amount | extra | mta_tax | tip_amount | tolls_amount | improvement_surcharge | total_amount | congestion_surcharge | airport_fee |\n",
       "+----------+----------------------+-----------------------+-----------------+---------------+------------+--------------------+--------------+--------------+--------------+-------------+-------+---------+------------+--------------+-----------------------+--------------+----------------------+-------------+\n",
       "|    2     | 2019-01-30 20:09:16  |  2019-01-31 20:07:58  |        1        |      1.0      |     1      |         N          |     162      |     107      |      1       |     5.5     |  0.5  |   0.5   |    0.0     |     0.0      |          0.3          |     6.8      |         0.0          |     0.0     |\n",
       "|    2     | 2019-01-30 20:20:50  |  2019-01-30 20:27:04  |        1        |      0.68     |     1      |         N          |     107      |     113      |      1       |     6.0     |  0.5  |   0.5   |    1.46    |     0.0      |          0.3          |     8.76     |         0.0          |     0.0     |\n",
       "|    2     | 2019-01-30 20:31:39  |  2019-01-30 20:46:36  |        1        |      1.68     |     1      |         N          |     114      |     232      |      1       |     11.0    |  0.5  |   0.5   |    4.0     |     0.0      |          0.3          |     16.3     |         0.0          |     0.0     |\n",
       "|    2     | 2019-01-30 20:50:23  |  2019-01-30 21:03:03  |        1        |      1.56     |     1      |         N          |     232      |     114      |      1       |     9.5     |  0.5  |   0.5   |    2.16    |     0.0      |          0.3          |    12.96     |         0.0          |     0.0     |\n",
       "|    2     | 2019-01-30 20:13:37  |  2019-01-30 20:57:05  |        1        |      18.6     |     2      |         N          |     132      |     230      |      1       |     52.0    |  0.0  |   0.5   |   11.71    |     5.76     |          0.3          |    70.27     |         0.0          |     0.0     |\n",
       "|    2     | 2019-01-30 20:04:13  |  2019-01-30 20:18:04  |        1        |      2.38     |     1      |         N          |     230      |     236      |      1       |     11.0    |  0.5  |   0.5   |    2.0     |     0.0      |          0.3          |     14.3     |         0.0          |     0.0     |\n",
       "|    2     | 2019-01-30 20:31:00  |  2019-01-30 20:39:51  |        1        |      1.33     |     1      |         N          |     161      |     142      |      1       |     7.5     |  0.5  |   0.5   |    1.76    |     0.0      |          0.3          |    10.56     |         0.0          |     0.0     |\n",
       "|    2     | 2019-01-30 20:47:03  |  2019-01-30 21:01:16  |        1        |      1.78     |     1      |         N          |     142      |     233      |      1       |     10.5    |  0.5  |   0.5   |    2.36    |     0.0      |          0.3          |    14.16     |         0.0          |     0.0     |\n",
       "|    2     | 2019-01-30 20:23:44  |  2019-01-30 20:34:39  |        1        |      1.69     |     1      |         N          |     164      |     230      |      2       |     9.0     |  0.5  |   0.5   |    0.0     |     0.0      |          0.3          |     10.3     |         0.0          |     0.0     |\n",
       "|    2     | 2019-01-30 20:41:43  |  2019-01-30 20:50:43  |        1        |      1.71     |     1      |         N          |     161      |     107      |      1       |     8.0     |  0.5  |   0.5   |    1.86    |     0.0      |          0.3          |    11.16     |         0.0          |     0.0     |\n",
       "+----------+----------------------+-----------------------+-----------------+---------------+------------+--------------------+--------------+--------------+--------------+-------------+-------+---------+------------+--------------+-----------------------+--------------+----------------------+-------------+\n",
       "Truncated to displaylimit of 10."
      ]
     },
     "execution_count": 49,
     "metadata": {},
     "output_type": "execute_result"
    }
   ],
   "source": [
    "%%sql\n",
    "\n",
    "SELECT *\n",
    "FROM nyt.yellow_trip_data\n",
    "LIMIT 100"
   ]
  },
  {
   "cell_type": "code",
   "execution_count": 19,
   "id": "c4f039f2-fe90-4b90-9f65-0bd8489e621c",
   "metadata": {},
   "outputs": [
    {
     "data": {
      "text/html": [
       "<span style=\"None\">Running query in &#x27;trino://admin@10.143.11.241:8443/hive&#x27;</span>"
      ],
      "text/plain": [
       "Running query in 'trino://admin@10.143.11.241:8443/hive'"
      ]
     },
     "metadata": {},
     "output_type": "display_data"
    },
    {
     "data": {
      "text/html": [
       "<table>\n",
       "    <thead>\n",
       "        <tr>\n",
       "            <th>Create Table</th>\n",
       "        </tr>\n",
       "    </thead>\n",
       "    <tbody>\n",
       "        <tr>\n",
       "            <td>CREATE TABLE hive.nyt.yellow_trip_data (<br>   vendorid integer,<br>   tpep_pickup_datetime timestamp(3),<br>   tpep_dropoff_datetime timestamp(3),<br>   passenger_count double,<br>   trip_distance double,<br>   ratecodeid double,<br>   store_and_fwd_flag varchar,<br>   pulocationid integer,<br>   dolocationid integer,<br>   payment_type integer,<br>   fare_amount double,<br>   extra double,<br>   mta_tax double,<br>   tip_amount double,<br>   tolls_amount double,<br>   improvement_surcharge double,<br>   total_amount double,<br>   congestion_surcharge double,<br>   airport_fee double<br>)<br>WITH (<br>   external_location = 's3a://csnow-bucket/yellow_tripdata',<br>   format = 'PARQUET'<br>)</td>\n",
       "        </tr>\n",
       "    </tbody>\n",
       "</table>"
      ],
      "text/plain": [
       "+--------------------------------------------------------------+\n",
       "|                         Create Table                         |\n",
       "+--------------------------------------------------------------+\n",
       "|           CREATE TABLE hive.nyt.yellow_trip_data (           |\n",
       "|                        vendorid integer,                     |\n",
       "|               tpep_pickup_datetime timestamp(3),             |\n",
       "|               tpep_dropoff_datetime timestamp(3),            |\n",
       "|                     passenger_count double,                  |\n",
       "|                      trip_distance double,                   |\n",
       "|                       ratecodeid double,                     |\n",
       "|                   store_and_fwd_flag varchar,                |\n",
       "|                      pulocationid integer,                   |\n",
       "|                      dolocationid integer,                   |\n",
       "|                      payment_type integer,                   |\n",
       "|                       fare_amount double,                    |\n",
       "|                          extra double,                       |\n",
       "|                         mta_tax double,                      |\n",
       "|                       tip_amount double,                     |\n",
       "|                      tolls_amount double,                    |\n",
       "|                  improvement_surcharge double,               |\n",
       "|                      total_amount double,                    |\n",
       "|                  congestion_surcharge double,                |\n",
       "|                       airport_fee double                     |\n",
       "|                              )                               |\n",
       "|                            WITH (                            |\n",
       "|    external_location = 's3a://csnow-bucket/yellow_tripdata', |\n",
       "|                       format = 'PARQUET'                     |\n",
       "|                              )                               |\n",
       "+--------------------------------------------------------------+"
      ]
     },
     "execution_count": 19,
     "metadata": {},
     "output_type": "execute_result"
    }
   ],
   "source": [
    "%%sql\n",
    "\n",
    "SHOW CREATE TABLE nyt.yellow_trip_data"
   ]
  },
  {
   "cell_type": "code",
   "execution_count": null,
   "id": "4cfe6f9b-1284-41eb-b13d-336ae5e1b45c",
   "metadata": {},
   "outputs": [],
   "source": []
  }
 ],
 "metadata": {
  "kernelspec": {
   "display_name": "Python 3 (ipykernel)",
   "language": "python",
   "name": "python3"
  },
  "language_info": {
   "codemirror_mode": {
    "name": "ipython",
    "version": 3
   },
   "file_extension": ".py",
   "mimetype": "text/x-python",
   "name": "python",
   "nbconvert_exporter": "python",
   "pygments_lexer": "ipython3",
   "version": "3.12.7"
  }
 },
 "nbformat": 4,
 "nbformat_minor": 5
}

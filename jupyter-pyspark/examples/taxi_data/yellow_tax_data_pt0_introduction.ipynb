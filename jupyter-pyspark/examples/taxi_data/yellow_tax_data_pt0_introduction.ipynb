{
 "cells": [
  {
   "cell_type": "markdown",
   "id": "dbe26c2d-b4cd-47bc-8103-ae7a2a1bca36",
   "metadata": {},
   "source": [
    "# Taxi Data Ingestion and Query Optimisation"
   ]
  },
  {
   "cell_type": "markdown",
   "id": "f401af6e-3e13-46c2-bf78-11cd3e515dec",
   "metadata": {},
   "source": [
    "## Introduction\n",
    "\n",
    "This demo has two goals:\n",
    "\n",
    "1. Load New York Taxi, Yellow Trip data into Vast S3 and Vast DB as it is a useful dataset for big data demonstrations.\n",
    "2. Compare the same query in Vast DB vs the Parquet files in Vast S3."
   ]
  },
  {
   "cell_type": "markdown",
   "id": "4dc82f16-5465-46a7-a44b-357429883455",
   "metadata": {},
   "source": [
    "## Instructions"
   ]
  },
  {
   "cell_type": "markdown",
   "id": "349413ad-cab1-424a-a933-d792a874f1ff",
   "metadata": {},
   "source": [
    "- Ensure you are familiar with the [Setup Instructions](https://github.com/snowch/vast-docker-compose-examples/blob/main/demos/SETUP_INSTRUCTIONS.md) and have cloned and started the containers.\n",
    "- Follow the instructions in each notebook, following each one in order:\n",
    "  - [Part 1 - Ingest to S3](./yellow_taxi_data_pt1_ingest_to_s3.ipynb): Download Yellow Taxi Parquet files, restructure the data where necessary, and load to Vast S3.\n",
    "  - [Part 2 - Ingest to vastdb](./yellow_taxi_data_pt2_ingest_to_vastdb.ipynb): Ingest data from S3 to Vast DB using Bulk Import.\n",
    "  - [Part 3 - Query with Hive](./yellow_taxi_data_pt3_hive_table.ipynb): Setup a Hive Table on the Parquet files in S3 and verify it can be queried.\n",
    "  - [Part 4 - Query with VastDB](./yellow_taxi_data_pt4_vastdb_query.ipynb): Query the data in VastDB.\n",
    "  - [Part 5 - Load Verification](./yellow_taxi_data_pt5_verification.ipynb): Verify the same data has been loaded in S3 and VastDB.\n",
    "  - [Part 6 - Performance Comparision](./yellow_taxi_data_pt6_performance.ipynb): Using a simple query, compare the performance with Hive and VastDB.\n",
    "  - [Appendix - Schema Drift Analysis](./yellow_taxi_data_ptA_schema_duckdb.ipynb): (optional) Fetch the Parquet schemas to perform an analysis of how the schema has drifted (evolved) over time.\n"
   ]
  },
  {
   "cell_type": "code",
   "execution_count": null,
   "id": "b2af09db-e7d6-45ac-a2ae-a9e8303fa16e",
   "metadata": {},
   "outputs": [],
   "source": []
  }
 ],
 "metadata": {
  "kernelspec": {
   "display_name": "Python 3 (ipykernel)",
   "language": "python",
   "name": "python3"
  },
  "language_info": {
   "codemirror_mode": {
    "name": "ipython",
    "version": 3
   },
   "file_extension": ".py",
   "mimetype": "text/x-python",
   "name": "python",
   "nbconvert_exporter": "python",
   "pygments_lexer": "ipython3",
   "version": "3.12.7"
  }
 },
 "nbformat": 4,
 "nbformat_minor": 5
}

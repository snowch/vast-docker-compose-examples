{
 "cells": [
  {
   "cell_type": "markdown",
   "id": "10fed33d-be68-4c1b-a045-30f853f1e6a5",
   "metadata": {},
   "source": [
    "# Yellow Taxi Data ingest verification - Part 5"
   ]
  },
  {
   "cell_type": "markdown",
   "id": "c714b7cf-7650-48b8-9558-cfa2032f4db9",
   "metadata": {},
   "source": [
    "In this notebook, we verify that the data has been loaded consistently by comparing the row counts for the data in Vast S3 and Vast DB.\n",
    "\n",
    "<div class=\"alert alert-block alert-info\">\n",
    "💡 <b>NOTE</b>\n",
    "<br/>\n",
    "<ul>\n",
    "<li>The <b>hive3x</b> and <b>trino</b> projects need to be running for this notebook.</li>\n",
    "<li>You can run projects with `cd the-project && docker compose up -d --wait`.\n",
    "</div>\n"
   ]
  },
  {
   "cell_type": "code",
   "execution_count": 1,
   "id": "e7df0469-3d58-4e01-b500-0e252bf988a3",
   "metadata": {},
   "outputs": [
    {
     "name": "stdout",
     "output_type": "stream",
     "text": [
      "csnowdb nyt taxi\n",
      "s3a://csnow-bucket/nyt/\n"
     ]
    }
   ],
   "source": [
    "import os\n",
    "VASTDB_NYT_BUCKET = os.getenv('VASTDB_NYT_BUCKET')\n",
    "VASTDB_NYT_SCHEMA = os.getenv('VASTDB_NYT_SCHEMA')\n",
    "VASTDB_NYT_TABLE = os.getenv('VASTDB_NYT_TABLE')\n",
    "\n",
    "print(VASTDB_NYT_BUCKET, VASTDB_NYT_SCHEMA, VASTDB_NYT_TABLE)\n",
    "\n",
    "S3A_BUCKET = os.getenv('S3A_BUCKET')\n",
    "S3_HIVE_TAXI_URI = os.getenv(\"S3A_HIVE_TAXI_URI\")\n",
    "\n",
    "print(S3_HIVE_TAXI_URI)"
   ]
  },
  {
   "cell_type": "markdown",
   "id": "9b1b531c-b628-4333-9c1f-ffd46737c39b",
   "metadata": {},
   "source": [
    "## VastDB Row Count"
   ]
  },
  {
   "cell_type": "code",
   "execution_count": 2,
   "id": "d3c30da6-abce-4090-80e7-452dbb55529e",
   "metadata": {},
   "outputs": [
    {
     "data": {
      "text/html": [
       "<span style=\"None\">Connecting to &#x27;trino://admin@se-var-vastdb-ingest:8443/vast&#x27;</span>"
      ],
      "text/plain": [
       "Connecting to 'trino://admin@se-var-vastdb-ingest:8443/vast'"
      ]
     },
     "metadata": {},
     "output_type": "display_data"
    }
   ],
   "source": [
    "import urllib3\n",
    "urllib3.disable_warnings(urllib3.exceptions.InsecureRequestWarning)\n",
    "\n",
    "%load_ext sql\n",
    "%sql trino://admin@${DOCKER_HOST_OR_IP}:8443/vast  --connection_arguments '{\"http_scheme\":\"https\", \"verify\": false}'"
   ]
  },
  {
   "cell_type": "code",
   "execution_count": 3,
   "id": "1a5cddf3-0297-40b6-a604-57efc6dc94ac",
   "metadata": {},
   "outputs": [
    {
     "data": {
      "text/html": [
       "<span style=\"None\">Running query in &#x27;trino://admin@se-var-vastdb-ingest:8443/vast&#x27;</span>"
      ],
      "text/plain": [
       "Running query in 'trino://admin@se-var-vastdb-ingest:8443/vast'"
      ]
     },
     "metadata": {},
     "output_type": "display_data"
    },
    {
     "data": {
      "text/html": [
       "<table>\n",
       "    <thead>\n",
       "        <tr>\n",
       "            <th>row_count</th>\n",
       "        </tr>\n",
       "    </thead>\n",
       "    <tbody>\n",
       "        <tr>\n",
       "            <td>1,763,456,499</td>\n",
       "        </tr>\n",
       "    </tbody>\n",
       "</table>"
      ],
      "text/plain": [
       "+---------------+\n",
       "|   row_count   |\n",
       "+---------------+\n",
       "| 1,763,456,499 |\n",
       "+---------------+"
      ]
     },
     "execution_count": 3,
     "metadata": {},
     "output_type": "execute_result"
    }
   ],
   "source": [
    "%%sql\n",
    "\n",
    "select \n",
    "    format('%,d', COUNT(*)) as row_count \n",
    "from\n",
    "    vast.\"{{VASTDB_NYT_BUCKET}}|{{VASTDB_NYT_SCHEMA}}\".{{VASTDB_NYT_TABLE}}"
   ]
  },
  {
   "cell_type": "markdown",
   "id": "11e6ebd0-e8fa-41c6-90ee-c4896ba4b9ad",
   "metadata": {},
   "source": [
    "## Hive Row Count"
   ]
  },
  {
   "cell_type": "code",
   "execution_count": 4,
   "id": "33d0abc6-eca9-4249-871a-7a2119217555",
   "metadata": {},
   "outputs": [
    {
     "data": {
      "text/html": [
       "<span style=\"None\">Connecting and switching to connection &#x27;trino://admin@se-var-vastdb-ingest:8443/hive&#x27;</span>"
      ],
      "text/plain": [
       "Connecting and switching to connection 'trino://admin@se-var-vastdb-ingest:8443/hive'"
      ]
     },
     "metadata": {},
     "output_type": "display_data"
    }
   ],
   "source": [
    "%sql trino://admin@${DOCKER_HOST_OR_IP}:8443/hive  --connection_arguments '{\"http_scheme\":\"https\", \"verify\": false}'"
   ]
  },
  {
   "cell_type": "code",
   "execution_count": 5,
   "id": "f4e475fc-82c8-4167-8b54-b5e84693c170",
   "metadata": {},
   "outputs": [
    {
     "data": {
      "text/html": [
       "<span style=\"None\">Running query in &#x27;trino://admin@se-var-vastdb-ingest:8443/hive&#x27;</span>"
      ],
      "text/plain": [
       "Running query in 'trino://admin@se-var-vastdb-ingest:8443/hive'"
      ]
     },
     "metadata": {},
     "output_type": "display_data"
    },
    {
     "data": {
      "text/html": [
       "<table>\n",
       "    <thead>\n",
       "        <tr>\n",
       "            <th>row_count</th>\n",
       "        </tr>\n",
       "    </thead>\n",
       "    <tbody>\n",
       "        <tr>\n",
       "            <td>1,763,456,499</td>\n",
       "        </tr>\n",
       "    </tbody>\n",
       "</table>"
      ],
      "text/plain": [
       "+---------------+\n",
       "|   row_count   |\n",
       "+---------------+\n",
       "| 1,763,456,499 |\n",
       "+---------------+"
      ]
     },
     "execution_count": 5,
     "metadata": {},
     "output_type": "execute_result"
    }
   ],
   "source": [
    "%%sql\n",
    "    \n",
    "SELECT \n",
    "    format('%,d', COUNT(*)) as row_count \n",
    "FROM \n",
    "    hive.nyt.yellow_tripdata"
   ]
  },
  {
   "cell_type": "code",
   "execution_count": null,
   "id": "526c991e-0073-41a9-a5e7-32f300bfe2bb",
   "metadata": {},
   "outputs": [],
   "source": []
  }
 ],
 "metadata": {
  "kernelspec": {
   "display_name": "Python 3 (ipykernel)",
   "language": "python",
   "name": "python3"
  },
  "language_info": {
   "codemirror_mode": {
    "name": "ipython",
    "version": 3
   },
   "file_extension": ".py",
   "mimetype": "text/x-python",
   "name": "python",
   "nbconvert_exporter": "python",
   "pygments_lexer": "ipython3",
   "version": "3.12.7"
  }
 },
 "nbformat": 4,
 "nbformat_minor": 5
}

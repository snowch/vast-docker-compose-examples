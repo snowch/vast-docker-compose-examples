{
 "cells": [
  {
   "cell_type": "markdown",
   "id": "10fed33d-be68-4c1b-a045-30f853f1e6a5",
   "metadata": {},
   "source": [
    "# Create Hive Table for Yellow Taxi Data - Part 3"
   ]
  },
  {
   "cell_type": "markdown",
   "id": "fb93c071-3c28-4c32-b782-2512f38eec58",
   "metadata": {},
   "source": [
    "Create a Hive external table on the Parquet files uploaded to S3 by the [notebook](./yellow_taxi_data_pt1_ingest_to_s3.ipynb) and verify the data can be queried.\n",
    "\n",
    "<div class=\"alert alert-block alert-info\">\n",
    "💡 <b>NOTE</b>\n",
    "<br/>\n",
    "<ul>\n",
    "<li>The <b>hive3x</b> and <b>trino</b> projects need to be running for this notebook.</li>\n",
    "<li>You can run projects with `cd the-project && docker compose up -d --wait`.\n",
    "</div>\n"
   ]
  },
  {
   "cell_type": "markdown",
   "id": "ddca27ea-d563-4aae-983d-2476c55c1880",
   "metadata": {},
   "source": [
    "## Create Hive Table"
   ]
  },
  {
   "cell_type": "code",
   "execution_count": 1,
   "id": "d3c30da6-abce-4090-80e7-452dbb55529e",
   "metadata": {},
   "outputs": [],
   "source": [
    "import urllib3\n",
    "\n",
    "urllib3.disable_warnings(urllib3.exceptions.InsecureRequestWarning)"
   ]
  },
  {
   "cell_type": "code",
   "execution_count": 2,
   "id": "564cac05-1d8d-42e1-9ceb-7cb462650ad9",
   "metadata": {},
   "outputs": [],
   "source": [
    "%load_ext sql"
   ]
  },
  {
   "cell_type": "code",
   "execution_count": 3,
   "id": "1ffa79a0-b720-4833-87ad-32458ecd038e",
   "metadata": {},
   "outputs": [],
   "source": [
    "%config SqlMagic.named_parameters = \"enabled\""
   ]
  },
  {
   "cell_type": "code",
   "execution_count": 4,
   "id": "4f29846f-d23d-429a-bab2-5ba51d58593b",
   "metadata": {},
   "outputs": [
    {
     "data": {
      "text/html": [
       "<span style=\"None\">Connecting to &#x27;trino://admin@se-var-vastdb-ingest:8443/hive&#x27;</span>"
      ],
      "text/plain": [
       "Connecting to 'trino://admin@se-var-vastdb-ingest:8443/hive'"
      ]
     },
     "metadata": {},
     "output_type": "display_data"
    }
   ],
   "source": [
    "%sql trino://admin@${DOCKER_HOST_OR_IP}:8443/hive --connection_arguments '{\"http_scheme\":\"https\", \"verify\": false}'"
   ]
  },
  {
   "cell_type": "code",
   "execution_count": 5,
   "id": "6b157708-bfb7-4884-b439-fa4347fa11b3",
   "metadata": {},
   "outputs": [
    {
     "data": {
      "text/html": [
       "<span style=\"None\">Running query in &#x27;trino://admin@se-var-vastdb-ingest:8443/hive&#x27;</span>"
      ],
      "text/plain": [
       "Running query in 'trino://admin@se-var-vastdb-ingest:8443/hive'"
      ]
     },
     "metadata": {},
     "output_type": "display_data"
    },
    {
     "data": {
      "text/html": [
       "<table>\n",
       "    <thead>\n",
       "        <tr>\n",
       "            <th>Catalog</th>\n",
       "        </tr>\n",
       "    </thead>\n",
       "    <tbody>\n",
       "        <tr>\n",
       "            <td>hive</td>\n",
       "        </tr>\n",
       "        <tr>\n",
       "            <td>iceberg</td>\n",
       "        </tr>\n",
       "        <tr>\n",
       "            <td>system</td>\n",
       "        </tr>\n",
       "        <tr>\n",
       "            <td>tpcds</td>\n",
       "        </tr>\n",
       "        <tr>\n",
       "            <td>vast</td>\n",
       "        </tr>\n",
       "    </tbody>\n",
       "</table>"
      ],
      "text/plain": [
       "+---------+\n",
       "| Catalog |\n",
       "+---------+\n",
       "|   hive  |\n",
       "| iceberg |\n",
       "|  system |\n",
       "|  tpcds  |\n",
       "|   vast  |\n",
       "+---------+"
      ]
     },
     "execution_count": 5,
     "metadata": {},
     "output_type": "execute_result"
    }
   ],
   "source": [
    "%%sql \n",
    "\n",
    "show catalogs"
   ]
  },
  {
   "cell_type": "code",
   "execution_count": 6,
   "id": "41c3eadc-978d-4952-a3cf-f8e326b71fa9",
   "metadata": {},
   "outputs": [],
   "source": [
    "import os\n",
    "S3A_BUCKET = os.getenv('S3A_BUCKET')\n",
    "S3_HIVE_TAXI_URI = os.getenv(\"S3A_HIVE_TAXI_URI\")"
   ]
  },
  {
   "cell_type": "code",
   "execution_count": 7,
   "id": "0a3bc5d7-16c1-498f-bc01-48f2c6ccab5f",
   "metadata": {},
   "outputs": [
    {
     "name": "stdout",
     "output_type": "stream",
     "text": [
      "s3a://csnow-bucket/nyt/\n"
     ]
    }
   ],
   "source": [
    "! echo {S3_HIVE_TAXI_URI}"
   ]
  },
  {
   "cell_type": "code",
   "execution_count": 8,
   "id": "2078acbc-4398-4d47-a020-c70687efd1a2",
   "metadata": {},
   "outputs": [
    {
     "data": {
      "text/html": [
       "<span style=\"None\">Running query in &#x27;trino://admin@se-var-vastdb-ingest:8443/hive&#x27;</span>"
      ],
      "text/plain": [
       "Running query in 'trino://admin@se-var-vastdb-ingest:8443/hive'"
      ]
     },
     "metadata": {},
     "output_type": "display_data"
    },
    {
     "data": {
      "text/html": [
       "<table>\n",
       "    <thead>\n",
       "        <tr>\n",
       "        </tr>\n",
       "    </thead>\n",
       "    <tbody>\n",
       "    </tbody>\n",
       "</table>"
      ],
      "text/plain": [
       "++\n",
       "||\n",
       "++\n",
       "++"
      ]
     },
     "execution_count": 8,
     "metadata": {},
     "output_type": "execute_result"
    }
   ],
   "source": [
    "%%sql\n",
    "\n",
    "CREATE SCHEMA IF NOT EXISTS hive.nyt"
   ]
  },
  {
   "cell_type": "code",
   "execution_count": 9,
   "id": "70c169e9-1028-4d96-836c-601fc4440167",
   "metadata": {},
   "outputs": [
    {
     "data": {
      "text/html": [
       "<span style=\"None\">Running query in &#x27;trino://admin@se-var-vastdb-ingest:8443/hive&#x27;</span>"
      ],
      "text/plain": [
       "Running query in 'trino://admin@se-var-vastdb-ingest:8443/hive'"
      ]
     },
     "metadata": {},
     "output_type": "display_data"
    },
    {
     "data": {
      "text/html": [
       "<table>\n",
       "    <thead>\n",
       "        <tr>\n",
       "            <th>Schema</th>\n",
       "        </tr>\n",
       "    </thead>\n",
       "    <tbody>\n",
       "        <tr>\n",
       "            <td>default</td>\n",
       "        </tr>\n",
       "        <tr>\n",
       "            <td>information_schema</td>\n",
       "        </tr>\n",
       "        <tr>\n",
       "            <td>nyt</td>\n",
       "        </tr>\n",
       "        <tr>\n",
       "            <td>social_media</td>\n",
       "        </tr>\n",
       "    </tbody>\n",
       "</table>"
      ],
      "text/plain": [
       "+--------------------+\n",
       "|       Schema       |\n",
       "+--------------------+\n",
       "|      default       |\n",
       "| information_schema |\n",
       "|        nyt         |\n",
       "|    social_media    |\n",
       "+--------------------+"
      ]
     },
     "execution_count": 9,
     "metadata": {},
     "output_type": "execute_result"
    }
   ],
   "source": [
    "%%sql\n",
    "\n",
    "SHOW SCHEMAS"
   ]
  },
  {
   "cell_type": "code",
   "execution_count": 10,
   "id": "63a191bd-89ab-427f-a182-8cdef204a0ad",
   "metadata": {},
   "outputs": [
    {
     "data": {
      "text/html": [
       "<span style=\"None\">Running query in &#x27;trino://admin@se-var-vastdb-ingest:8443/hive&#x27;</span>"
      ],
      "text/plain": [
       "Running query in 'trino://admin@se-var-vastdb-ingest:8443/hive'"
      ]
     },
     "metadata": {},
     "output_type": "display_data"
    },
    {
     "data": {
      "text/html": [
       "<table>\n",
       "    <thead>\n",
       "        <tr>\n",
       "        </tr>\n",
       "    </thead>\n",
       "    <tbody>\n",
       "    </tbody>\n",
       "</table>"
      ],
      "text/plain": [
       "++\n",
       "||\n",
       "++\n",
       "++"
      ]
     },
     "execution_count": 10,
     "metadata": {},
     "output_type": "execute_result"
    }
   ],
   "source": [
    "%%sql\n",
    "\n",
    "DROP TABLE IF EXISTS nyt.yellow_tripdata"
   ]
  },
  {
   "cell_type": "code",
   "execution_count": 11,
   "id": "b41d23d9-f70e-4e41-bc0c-6ed81acfd88c",
   "metadata": {},
   "outputs": [
    {
     "data": {
      "text/html": [
       "<span style=\"None\">Running query in &#x27;trino://admin@se-var-vastdb-ingest:8443/hive&#x27;</span>"
      ],
      "text/plain": [
       "Running query in 'trino://admin@se-var-vastdb-ingest:8443/hive'"
      ]
     },
     "metadata": {},
     "output_type": "display_data"
    },
    {
     "data": {
      "text/html": [
       "<table>\n",
       "    <thead>\n",
       "        <tr>\n",
       "        </tr>\n",
       "    </thead>\n",
       "    <tbody>\n",
       "    </tbody>\n",
       "</table>"
      ],
      "text/plain": [
       "++\n",
       "||\n",
       "++\n",
       "++"
      ]
     },
     "execution_count": 11,
     "metadata": {},
     "output_type": "execute_result"
    }
   ],
   "source": [
    "%%sql\n",
    "\n",
    "CREATE TABLE nyt.yellow_tripdata (\n",
    "  vendorid VARCHAR,\n",
    "  tpep_pickup_datetime VARCHAR,\n",
    "  tpep_dropoff_datetime VARCHAR,\n",
    "  passenger_count BIGINT,\n",
    "  trip_distance DOUBLE,\n",
    "  ratecodeid BIGINT,\n",
    "  store_and_fwd_flag DOUBLE,\n",
    "  pulocationid INT,\n",
    "  dolocationid INT,\n",
    "  payment_type VARCHAR,\n",
    "  fare_amount DOUBLE,\n",
    "  extra DOUBLE,\n",
    "  mta_tax DOUBLE,\n",
    "  tip_amount DOUBLE,\n",
    "  tolls_amount DOUBLE,\n",
    "  improvement_surcharge DOUBLE,\n",
    "  total_amount DOUBLE,\n",
    "  congestion_surcharge DOUBLE,  \n",
    "  airport_fee DOUBLE,\n",
    "  dropoff_latitude DOUBLE,\n",
    "  dropoff_longitude DOUBLE,\n",
    "  pickup_latitude DOUBLE,\n",
    "  pickup_longitude DOUBLE,\n",
    "  surcharge DOUBLE\n",
    ")\n",
    "WITH (\n",
    "  format = 'PARQUET',\n",
    "  external_location = '{{S3_HIVE_TAXI_URI}}'\n",
    ")"
   ]
  },
  {
   "cell_type": "code",
   "execution_count": 12,
   "id": "a19ed7ba-f11f-429e-94bc-20eb8ad5efff",
   "metadata": {},
   "outputs": [
    {
     "data": {
      "text/html": [
       "<span style=\"None\">Running query in &#x27;trino://admin@se-var-vastdb-ingest:8443/hive&#x27;</span>"
      ],
      "text/plain": [
       "Running query in 'trino://admin@se-var-vastdb-ingest:8443/hive'"
      ]
     },
     "metadata": {},
     "output_type": "display_data"
    },
    {
     "data": {
      "text/html": [
       "<table>\n",
       "    <thead>\n",
       "        <tr>\n",
       "            <th>row_count</th>\n",
       "        </tr>\n",
       "    </thead>\n",
       "    <tbody>\n",
       "        <tr>\n",
       "            <td>1,763,456,499</td>\n",
       "        </tr>\n",
       "    </tbody>\n",
       "</table>"
      ],
      "text/plain": [
       "+---------------+\n",
       "|   row_count   |\n",
       "+---------------+\n",
       "| 1,763,456,499 |\n",
       "+---------------+"
      ]
     },
     "execution_count": 12,
     "metadata": {},
     "output_type": "execute_result"
    }
   ],
   "source": [
    "%%sql\n",
    "    \n",
    "SELECT format('%,d', COUNT(*)) as row_count FROM nyt.yellow_tripdata"
   ]
  },
  {
   "cell_type": "code",
   "execution_count": 13,
   "id": "7a074f60-227b-4d50-aa09-419684b9487f",
   "metadata": {},
   "outputs": [
    {
     "data": {
      "text/html": [
       "<span style=\"None\">Running query in &#x27;trino://admin@se-var-vastdb-ingest:8443/hive&#x27;</span>"
      ],
      "text/plain": [
       "Running query in 'trino://admin@se-var-vastdb-ingest:8443/hive'"
      ]
     },
     "metadata": {},
     "output_type": "display_data"
    },
    {
     "data": {
      "text/html": [
       "<table>\n",
       "    <thead>\n",
       "        <tr>\n",
       "            <th>vendorid</th>\n",
       "            <th>tpep_pickup_datetime</th>\n",
       "            <th>tpep_dropoff_datetime</th>\n",
       "            <th>passenger_count</th>\n",
       "            <th>trip_distance</th>\n",
       "            <th>ratecodeid</th>\n",
       "            <th>store_and_fwd_flag</th>\n",
       "            <th>pulocationid</th>\n",
       "            <th>dolocationid</th>\n",
       "            <th>payment_type</th>\n",
       "            <th>fare_amount</th>\n",
       "            <th>extra</th>\n",
       "            <th>mta_tax</th>\n",
       "            <th>tip_amount</th>\n",
       "            <th>tolls_amount</th>\n",
       "            <th>improvement_surcharge</th>\n",
       "            <th>total_amount</th>\n",
       "            <th>congestion_surcharge</th>\n",
       "            <th>airport_fee</th>\n",
       "            <th>dropoff_latitude</th>\n",
       "            <th>dropoff_longitude</th>\n",
       "            <th>pickup_latitude</th>\n",
       "            <th>pickup_longitude</th>\n",
       "            <th>surcharge</th>\n",
       "        </tr>\n",
       "    </thead>\n",
       "    <tbody>\n",
       "        <tr>\n",
       "            <td>CMT</td>\n",
       "            <td>2009-04-28 21:25:57</td>\n",
       "            <td>2009-04-28 21:46:40</td>\n",
       "            <td>1</td>\n",
       "            <td>9.1</td>\n",
       "            <td>None</td>\n",
       "            <td>0.0</td>\n",
       "            <td>None</td>\n",
       "            <td>None</td>\n",
       "            <td>Cash</td>\n",
       "            <td>22.9</td>\n",
       "            <td>None</td>\n",
       "            <td>None</td>\n",
       "            <td>0.0</td>\n",
       "            <td>4.15</td>\n",
       "            <td>None</td>\n",
       "            <td>27.05</td>\n",
       "            <td>None</td>\n",
       "            <td>None</td>\n",
       "            <td>0.0</td>\n",
       "            <td>0.0</td>\n",
       "            <td>0.0</td>\n",
       "            <td>0.0</td>\n",
       "            <td>0.0</td>\n",
       "        </tr>\n",
       "        <tr>\n",
       "            <td>CMT</td>\n",
       "            <td>2009-04-28 23:49:05</td>\n",
       "            <td>2009-04-28 23:51:01</td>\n",
       "            <td>1</td>\n",
       "            <td>0.4</td>\n",
       "            <td>None</td>\n",
       "            <td>0.0</td>\n",
       "            <td>None</td>\n",
       "            <td>None</td>\n",
       "            <td>Credit</td>\n",
       "            <td>3.3</td>\n",
       "            <td>None</td>\n",
       "            <td>None</td>\n",
       "            <td>1.0</td>\n",
       "            <td>0.0</td>\n",
       "            <td>None</td>\n",
       "            <td>4.3</td>\n",
       "            <td>None</td>\n",
       "            <td>None</td>\n",
       "            <td>40.759182</td>\n",
       "            <td>-73.992046</td>\n",
       "            <td>40.762336</td>\n",
       "            <td>-73.997803</td>\n",
       "            <td>0.0</td>\n",
       "        </tr>\n",
       "        <tr>\n",
       "            <td>CMT</td>\n",
       "            <td>2009-04-28 15:18:02</td>\n",
       "            <td>2009-04-28 15:21:24</td>\n",
       "            <td>1</td>\n",
       "            <td>0.5999999999999999</td>\n",
       "            <td>None</td>\n",
       "            <td>0.0</td>\n",
       "            <td>None</td>\n",
       "            <td>None</td>\n",
       "            <td>Cash</td>\n",
       "            <td>4.1</td>\n",
       "            <td>None</td>\n",
       "            <td>None</td>\n",
       "            <td>0.0</td>\n",
       "            <td>0.0</td>\n",
       "            <td>None</td>\n",
       "            <td>4.1</td>\n",
       "            <td>None</td>\n",
       "            <td>None</td>\n",
       "            <td>40.715115</td>\n",
       "            <td>-74.010192</td>\n",
       "            <td>40.721387</td>\n",
       "            <td>-74.00860799999998</td>\n",
       "            <td>0.0</td>\n",
       "        </tr>\n",
       "        <tr>\n",
       "            <td>CMT</td>\n",
       "            <td>2009-04-30 11:29:09</td>\n",
       "            <td>2009-04-30 11:39:20</td>\n",
       "            <td>1</td>\n",
       "            <td>1.4</td>\n",
       "            <td>None</td>\n",
       "            <td>0.0</td>\n",
       "            <td>None</td>\n",
       "            <td>None</td>\n",
       "            <td>Credit</td>\n",
       "            <td>7.3</td>\n",
       "            <td>None</td>\n",
       "            <td>None</td>\n",
       "            <td>0.6999999999999998</td>\n",
       "            <td>0.0</td>\n",
       "            <td>None</td>\n",
       "            <td>8.0</td>\n",
       "            <td>None</td>\n",
       "            <td>None</td>\n",
       "            <td>40.74249</td>\n",
       "            <td>-74.006963</td>\n",
       "            <td>40.745998</td>\n",
       "            <td>-73.988595</td>\n",
       "            <td>0.0</td>\n",
       "        </tr>\n",
       "        <tr>\n",
       "            <td>CMT</td>\n",
       "            <td>2009-04-30 10:53:58</td>\n",
       "            <td>2009-04-30 11:12:56</td>\n",
       "            <td>1</td>\n",
       "            <td>2.1</td>\n",
       "            <td>None</td>\n",
       "            <td>0.0</td>\n",
       "            <td>None</td>\n",
       "            <td>None</td>\n",
       "            <td>Cash</td>\n",
       "            <td>10.9</td>\n",
       "            <td>None</td>\n",
       "            <td>None</td>\n",
       "            <td>0.0</td>\n",
       "            <td>0.0</td>\n",
       "            <td>None</td>\n",
       "            <td>10.9</td>\n",
       "            <td>None</td>\n",
       "            <td>None</td>\n",
       "            <td>40.748495</td>\n",
       "            <td>-74.00586199999998</td>\n",
       "            <td>40.752556</td>\n",
       "            <td>-73.978407</td>\n",
       "            <td>0.0</td>\n",
       "        </tr>\n",
       "        <tr>\n",
       "            <td>CMT</td>\n",
       "            <td>2009-04-24 20:58:06</td>\n",
       "            <td>2009-04-24 21:23:18</td>\n",
       "            <td>2</td>\n",
       "            <td>6.1</td>\n",
       "            <td>None</td>\n",
       "            <td>0.0</td>\n",
       "            <td>None</td>\n",
       "            <td>None</td>\n",
       "            <td>Credit</td>\n",
       "            <td>18.1</td>\n",
       "            <td>None</td>\n",
       "            <td>None</td>\n",
       "            <td>3.72</td>\n",
       "            <td>0.0</td>\n",
       "            <td>None</td>\n",
       "            <td>21.82</td>\n",
       "            <td>None</td>\n",
       "            <td>None</td>\n",
       "            <td>40.820638</td>\n",
       "            <td>-73.95458999999998</td>\n",
       "            <td>40.75593</td>\n",
       "            <td>-73.96780699999998</td>\n",
       "            <td>0.0</td>\n",
       "        </tr>\n",
       "        <tr>\n",
       "            <td>CMT</td>\n",
       "            <td>2009-04-24 22:32:45</td>\n",
       "            <td>2009-04-24 22:38:27</td>\n",
       "            <td>1</td>\n",
       "            <td>0.9</td>\n",
       "            <td>None</td>\n",
       "            <td>0.0</td>\n",
       "            <td>None</td>\n",
       "            <td>None</td>\n",
       "            <td>Cash</td>\n",
       "            <td>5.3</td>\n",
       "            <td>None</td>\n",
       "            <td>None</td>\n",
       "            <td>0.0</td>\n",
       "            <td>0.0</td>\n",
       "            <td>None</td>\n",
       "            <td>5.3</td>\n",
       "            <td>None</td>\n",
       "            <td>None</td>\n",
       "            <td>40.749672</td>\n",
       "            <td>-73.98903</td>\n",
       "            <td>40.737387</td>\n",
       "            <td>-73.996772</td>\n",
       "            <td>0.0</td>\n",
       "        </tr>\n",
       "        <tr>\n",
       "            <td>CMT</td>\n",
       "            <td>2009-04-24 23:08:02</td>\n",
       "            <td>2009-04-24 23:17:10</td>\n",
       "            <td>1</td>\n",
       "            <td>1.6</td>\n",
       "            <td>None</td>\n",
       "            <td>0.0</td>\n",
       "            <td>None</td>\n",
       "            <td>None</td>\n",
       "            <td>Credit</td>\n",
       "            <td>6.9</td>\n",
       "            <td>None</td>\n",
       "            <td>None</td>\n",
       "            <td>1.48</td>\n",
       "            <td>0.0</td>\n",
       "            <td>None</td>\n",
       "            <td>8.38</td>\n",
       "            <td>None</td>\n",
       "            <td>None</td>\n",
       "            <td>40.774008</td>\n",
       "            <td>-73.982127</td>\n",
       "            <td>40.757296</td>\n",
       "            <td>-73.97187599999998</td>\n",
       "            <td>0.0</td>\n",
       "        </tr>\n",
       "        <tr>\n",
       "            <td>VTS</td>\n",
       "            <td>2009-04-15 15:32:00</td>\n",
       "            <td>2009-04-15 15:44:00</td>\n",
       "            <td>5</td>\n",
       "            <td>1.13</td>\n",
       "            <td>None</td>\n",
       "            <td>None</td>\n",
       "            <td>None</td>\n",
       "            <td>None</td>\n",
       "            <td>CASH</td>\n",
       "            <td>7.3</td>\n",
       "            <td>None</td>\n",
       "            <td>None</td>\n",
       "            <td>0.0</td>\n",
       "            <td>0.0</td>\n",
       "            <td>None</td>\n",
       "            <td>7.3</td>\n",
       "            <td>None</td>\n",
       "            <td>None</td>\n",
       "            <td>40.746697</td>\n",
       "            <td>-73.98160699999998</td>\n",
       "            <td>40.739257</td>\n",
       "            <td>-73.99468199999998</td>\n",
       "            <td>0.0</td>\n",
       "        </tr>\n",
       "        <tr>\n",
       "            <td>DDS</td>\n",
       "            <td>2009-04-18 22:27:40</td>\n",
       "            <td>2009-04-18 22:31:55</td>\n",
       "            <td>1</td>\n",
       "            <td>0.8</td>\n",
       "            <td>None</td>\n",
       "            <td>None</td>\n",
       "            <td>None</td>\n",
       "            <td>None</td>\n",
       "            <td>CASH</td>\n",
       "            <td>4.5</td>\n",
       "            <td>None</td>\n",
       "            <td>None</td>\n",
       "            <td>0.0</td>\n",
       "            <td>0.0</td>\n",
       "            <td>None</td>\n",
       "            <td>5.0</td>\n",
       "            <td>None</td>\n",
       "            <td>None</td>\n",
       "            <td>40.801879</td>\n",
       "            <td>-73.96500399999998</td>\n",
       "            <td>40.793807</td>\n",
       "            <td>-73.972229</td>\n",
       "            <td>0.5</td>\n",
       "        </tr>\n",
       "    </tbody>\n",
       "</table>\n",
       "<span style=\"font-style:italic;text-align:center;\">Truncated to <a href=\"https://jupysql.ploomber.io/en/latest/api/configuration.html#displaylimit\">displaylimit</a> of 10.</span>"
      ],
      "text/plain": [
       "+----------+----------------------+-----------------------+-----------------+--------------------+------------+--------------------+--------------+--------------+--------------+-------------+-------+---------+--------------------+--------------+-----------------------+--------------+----------------------+-------------+------------------+--------------------+-----------------+--------------------+-----------+\n",
       "| vendorid | tpep_pickup_datetime | tpep_dropoff_datetime | passenger_count |   trip_distance    | ratecodeid | store_and_fwd_flag | pulocationid | dolocationid | payment_type | fare_amount | extra | mta_tax |     tip_amount     | tolls_amount | improvement_surcharge | total_amount | congestion_surcharge | airport_fee | dropoff_latitude | dropoff_longitude  | pickup_latitude |  pickup_longitude  | surcharge |\n",
       "+----------+----------------------+-----------------------+-----------------+--------------------+------------+--------------------+--------------+--------------+--------------+-------------+-------+---------+--------------------+--------------+-----------------------+--------------+----------------------+-------------+------------------+--------------------+-----------------+--------------------+-----------+\n",
       "|   CMT    | 2009-04-28 21:25:57  |  2009-04-28 21:46:40  |        1        |        9.1         |    None    |        0.0         |     None     |     None     |     Cash     |     22.9    |  None |   None  |        0.0         |     4.15     |          None         |    27.05     |         None         |     None    |       0.0        |        0.0         |       0.0       |        0.0         |    0.0    |\n",
       "|   CMT    | 2009-04-28 23:49:05  |  2009-04-28 23:51:01  |        1        |        0.4         |    None    |        0.0         |     None     |     None     |    Credit    |     3.3     |  None |   None  |        1.0         |     0.0      |          None         |     4.3      |         None         |     None    |    40.759182     |     -73.992046     |    40.762336    |     -73.997803     |    0.0    |\n",
       "|   CMT    | 2009-04-28 15:18:02  |  2009-04-28 15:21:24  |        1        | 0.5999999999999999 |    None    |        0.0         |     None     |     None     |     Cash     |     4.1     |  None |   None  |        0.0         |     0.0      |          None         |     4.1      |         None         |     None    |    40.715115     |     -74.010192     |    40.721387    | -74.00860799999998 |    0.0    |\n",
       "|   CMT    | 2009-04-30 11:29:09  |  2009-04-30 11:39:20  |        1        |        1.4         |    None    |        0.0         |     None     |     None     |    Credit    |     7.3     |  None |   None  | 0.6999999999999998 |     0.0      |          None         |     8.0      |         None         |     None    |     40.74249     |     -74.006963     |    40.745998    |     -73.988595     |    0.0    |\n",
       "|   CMT    | 2009-04-30 10:53:58  |  2009-04-30 11:12:56  |        1        |        2.1         |    None    |        0.0         |     None     |     None     |     Cash     |     10.9    |  None |   None  |        0.0         |     0.0      |          None         |     10.9     |         None         |     None    |    40.748495     | -74.00586199999998 |    40.752556    |     -73.978407     |    0.0    |\n",
       "|   CMT    | 2009-04-24 20:58:06  |  2009-04-24 21:23:18  |        2        |        6.1         |    None    |        0.0         |     None     |     None     |    Credit    |     18.1    |  None |   None  |        3.72        |     0.0      |          None         |    21.82     |         None         |     None    |    40.820638     | -73.95458999999998 |     40.75593    | -73.96780699999998 |    0.0    |\n",
       "|   CMT    | 2009-04-24 22:32:45  |  2009-04-24 22:38:27  |        1        |        0.9         |    None    |        0.0         |     None     |     None     |     Cash     |     5.3     |  None |   None  |        0.0         |     0.0      |          None         |     5.3      |         None         |     None    |    40.749672     |     -73.98903      |    40.737387    |     -73.996772     |    0.0    |\n",
       "|   CMT    | 2009-04-24 23:08:02  |  2009-04-24 23:17:10  |        1        |        1.6         |    None    |        0.0         |     None     |     None     |    Credit    |     6.9     |  None |   None  |        1.48        |     0.0      |          None         |     8.38     |         None         |     None    |    40.774008     |     -73.982127     |    40.757296    | -73.97187599999998 |    0.0    |\n",
       "|   VTS    | 2009-04-15 15:32:00  |  2009-04-15 15:44:00  |        5        |        1.13        |    None    |        None        |     None     |     None     |     CASH     |     7.3     |  None |   None  |        0.0         |     0.0      |          None         |     7.3      |         None         |     None    |    40.746697     | -73.98160699999998 |    40.739257    | -73.99468199999998 |    0.0    |\n",
       "|   DDS    | 2009-04-18 22:27:40  |  2009-04-18 22:31:55  |        1        |        0.8         |    None    |        None        |     None     |     None     |     CASH     |     4.5     |  None |   None  |        0.0         |     0.0      |          None         |     5.0      |         None         |     None    |    40.801879     | -73.96500399999998 |    40.793807    |     -73.972229     |    0.5    |\n",
       "+----------+----------------------+-----------------------+-----------------+--------------------+------------+--------------------+--------------+--------------+--------------+-------------+-------+---------+--------------------+--------------+-----------------------+--------------+----------------------+-------------+------------------+--------------------+-----------------+--------------------+-----------+\n",
       "Truncated to displaylimit of 10."
      ]
     },
     "execution_count": 13,
     "metadata": {},
     "output_type": "execute_result"
    }
   ],
   "source": [
    "%%sql\n",
    "\n",
    "SELECT *\n",
    "FROM nyt.yellow_tripdata\n",
    "LIMIT 100"
   ]
  },
  {
   "cell_type": "code",
   "execution_count": 14,
   "id": "c4f039f2-fe90-4b90-9f65-0bd8489e621c",
   "metadata": {},
   "outputs": [
    {
     "data": {
      "text/html": [
       "<span style=\"None\">Running query in &#x27;trino://admin@se-var-vastdb-ingest:8443/hive&#x27;</span>"
      ],
      "text/plain": [
       "Running query in 'trino://admin@se-var-vastdb-ingest:8443/hive'"
      ]
     },
     "metadata": {},
     "output_type": "display_data"
    },
    {
     "data": {
      "text/html": [
       "<table>\n",
       "    <thead>\n",
       "        <tr>\n",
       "            <th>Create Table</th>\n",
       "        </tr>\n",
       "    </thead>\n",
       "    <tbody>\n",
       "        <tr>\n",
       "            <td>CREATE TABLE hive.nyt.yellow_tripdata (<br>   vendorid varchar,<br>   tpep_pickup_datetime varchar,<br>   tpep_dropoff_datetime varchar,<br>   passenger_count bigint,<br>   trip_distance double,<br>   ratecodeid bigint,<br>   store_and_fwd_flag double,<br>   pulocationid integer,<br>   dolocationid integer,<br>   payment_type varchar,<br>   fare_amount double,<br>   extra double,<br>   mta_tax double,<br>   tip_amount double,<br>   tolls_amount double,<br>   improvement_surcharge double,<br>   total_amount double,<br>   congestion_surcharge double,<br>   airport_fee double,<br>   dropoff_latitude double,<br>   dropoff_longitude double,<br>   pickup_latitude double,<br>   pickup_longitude double,<br>   surcharge double<br>)<br>WITH (<br>   external_location = 's3a://csnow-bucket/nyt',<br>   format = 'PARQUET'<br>)</td>\n",
       "        </tr>\n",
       "    </tbody>\n",
       "</table>"
      ],
      "text/plain": [
       "+--------------------------------------------------+\n",
       "|                   Create Table                   |\n",
       "+--------------------------------------------------+\n",
       "|     CREATE TABLE hive.nyt.yellow_tripdata (      |\n",
       "|                  vendorid varchar,               |\n",
       "|            tpep_pickup_datetime varchar,         |\n",
       "|           tpep_dropoff_datetime varchar,         |\n",
       "|               passenger_count bigint,            |\n",
       "|                trip_distance double,             |\n",
       "|                 ratecodeid bigint,               |\n",
       "|             store_and_fwd_flag double,           |\n",
       "|                pulocationid integer,             |\n",
       "|                dolocationid integer,             |\n",
       "|                payment_type varchar,             |\n",
       "|                 fare_amount double,              |\n",
       "|                    extra double,                 |\n",
       "|                   mta_tax double,                |\n",
       "|                 tip_amount double,               |\n",
       "|                tolls_amount double,              |\n",
       "|            improvement_surcharge double,         |\n",
       "|                total_amount double,              |\n",
       "|            congestion_surcharge double,          |\n",
       "|                 airport_fee double,              |\n",
       "|              dropoff_latitude double,            |\n",
       "|              dropoff_longitude double,           |\n",
       "|               pickup_latitude double,            |\n",
       "|              pickup_longitude double,            |\n",
       "|                  surcharge double                |\n",
       "|                        )                         |\n",
       "|                      WITH (                      |\n",
       "|    external_location = 's3a://csnow-bucket/nyt', |\n",
       "|                 format = 'PARQUET'               |\n",
       "|                        )                         |\n",
       "+--------------------------------------------------+"
      ]
     },
     "execution_count": 14,
     "metadata": {},
     "output_type": "execute_result"
    }
   ],
   "source": [
    "%%sql\n",
    "\n",
    "SHOW CREATE TABLE nyt.yellow_tripdata"
   ]
  },
  {
   "cell_type": "code",
   "execution_count": null,
   "id": "822037d5-2d42-4c75-a6ae-ace6dbd7bc9f",
   "metadata": {},
   "outputs": [],
   "source": []
  }
 ],
 "metadata": {
  "kernelspec": {
   "display_name": "Python 3 (ipykernel)",
   "language": "python",
   "name": "python3"
  },
  "language_info": {
   "codemirror_mode": {
    "name": "ipython",
    "version": 3
   },
   "file_extension": ".py",
   "mimetype": "text/x-python",
   "name": "python",
   "nbconvert_exporter": "python",
   "pygments_lexer": "ipython3",
   "version": "3.12.7"
  }
 },
 "nbformat": 4,
 "nbformat_minor": 5
}

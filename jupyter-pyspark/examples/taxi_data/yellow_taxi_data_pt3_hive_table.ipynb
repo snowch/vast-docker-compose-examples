{
 "cells": [
  {
   "cell_type": "markdown",
   "id": "10fed33d-be68-4c1b-a045-30f853f1e6a5",
   "metadata": {},
   "source": [
    "# Create Hive Table for Yellow Taxi Data - Part 3"
   ]
  },
  {
   "cell_type": "markdown",
   "id": "fb93c071-3c28-4c32-b782-2512f38eec58",
   "metadata": {},
   "source": [
    "Create a Hive external table on the Parquet files uploaded to S3 by the [notebook](./yellow_taxi_data_pt1_ingest_to_s3.ipynb) and verify the data can be queried.\n",
    "\n",
    "<div class=\"alert alert-block alert-info\">\n",
    "💡 <b>NOTE</b>\n",
    "<br/>\n",
    "<ul>\n",
    "<li>The <b>hive3x</b> and <b>trino</b> projects need to be running for this notebook.</li>\n",
    "<li>You can run projects with `cd the-project && docker compose up -d --wait`.\n",
    "</div>\n"
   ]
  },
  {
   "cell_type": "markdown",
   "id": "ddca27ea-d563-4aae-983d-2476c55c1880",
   "metadata": {},
   "source": [
    "## Create Hive Table"
   ]
  },
  {
   "cell_type": "code",
   "execution_count": 1,
   "id": "d3c30da6-abce-4090-80e7-452dbb55529e",
   "metadata": {},
   "outputs": [],
   "source": [
    "import urllib3\n",
    "\n",
    "urllib3.disable_warnings(urllib3.exceptions.InsecureRequestWarning)"
   ]
  },
  {
   "cell_type": "code",
   "execution_count": 2,
   "id": "564cac05-1d8d-42e1-9ceb-7cb462650ad9",
   "metadata": {},
   "outputs": [],
   "source": [
    "%load_ext sql"
   ]
  },
  {
   "cell_type": "code",
   "execution_count": 3,
   "id": "1ffa79a0-b720-4833-87ad-32458ecd038e",
   "metadata": {},
   "outputs": [],
   "source": [
    "%config SqlMagic.named_parameters = \"enabled\""
   ]
  },
  {
   "cell_type": "code",
   "execution_count": 4,
   "id": "4f29846f-d23d-429a-bab2-5ba51d58593b",
   "metadata": {},
   "outputs": [
    {
     "data": {
      "text/html": [
       "<span style=\"None\">Connecting to &#x27;trino://admin@10.143.11.241:8443/hive&#x27;</span>"
      ],
      "text/plain": [
       "Connecting to 'trino://admin@10.143.11.241:8443/hive'"
      ]
     },
     "metadata": {},
     "output_type": "display_data"
    }
   ],
   "source": [
    "%sql trino://admin@${DOCKER_HOST_OR_IP}:8443/hive --connection_arguments '{\"http_scheme\":\"https\", \"verify\": false}'"
   ]
  },
  {
   "cell_type": "code",
   "execution_count": 5,
   "id": "6b157708-bfb7-4884-b439-fa4347fa11b3",
   "metadata": {},
   "outputs": [
    {
     "data": {
      "text/html": [
       "<span style=\"None\">Running query in &#x27;trino://admin@10.143.11.241:8443/hive&#x27;</span>"
      ],
      "text/plain": [
       "Running query in 'trino://admin@10.143.11.241:8443/hive'"
      ]
     },
     "metadata": {},
     "output_type": "display_data"
    },
    {
     "data": {
      "text/html": [
       "<table>\n",
       "    <thead>\n",
       "        <tr>\n",
       "            <th>Catalog</th>\n",
       "        </tr>\n",
       "    </thead>\n",
       "    <tbody>\n",
       "        <tr>\n",
       "            <td>hive</td>\n",
       "        </tr>\n",
       "        <tr>\n",
       "            <td>iceberg</td>\n",
       "        </tr>\n",
       "        <tr>\n",
       "            <td>system</td>\n",
       "        </tr>\n",
       "        <tr>\n",
       "            <td>tpcds</td>\n",
       "        </tr>\n",
       "        <tr>\n",
       "            <td>vast</td>\n",
       "        </tr>\n",
       "    </tbody>\n",
       "</table>"
      ],
      "text/plain": [
       "+---------+\n",
       "| Catalog |\n",
       "+---------+\n",
       "|   hive  |\n",
       "| iceberg |\n",
       "|  system |\n",
       "|  tpcds  |\n",
       "|   vast  |\n",
       "+---------+"
      ]
     },
     "execution_count": 5,
     "metadata": {},
     "output_type": "execute_result"
    }
   ],
   "source": [
    "%%sql \n",
    "\n",
    "show catalogs"
   ]
  },
  {
   "cell_type": "code",
   "execution_count": 6,
   "id": "41c3eadc-978d-4952-a3cf-f8e326b71fa9",
   "metadata": {},
   "outputs": [],
   "source": [
    "import os\n",
    "S3A_BUCKET = os.getenv('S3A_BUCKET')\n",
    "S3_HIVE_TAXI_URI = os.getenv(\"S3A_HIVE_TAXI_URI\")"
   ]
  },
  {
   "cell_type": "code",
   "execution_count": 7,
   "id": "0a3bc5d7-16c1-498f-bc01-48f2c6ccab5f",
   "metadata": {},
   "outputs": [
    {
     "name": "stdout",
     "output_type": "stream",
     "text": [
      "s3a://csnow-bucket/nyt/\n"
     ]
    }
   ],
   "source": [
    "! echo {S3_HIVE_TAXI_URI}"
   ]
  },
  {
   "cell_type": "code",
   "execution_count": 8,
   "id": "2078acbc-4398-4d47-a020-c70687efd1a2",
   "metadata": {},
   "outputs": [
    {
     "data": {
      "text/html": [
       "<span style=\"None\">Running query in &#x27;trino://admin@10.143.11.241:8443/hive&#x27;</span>"
      ],
      "text/plain": [
       "Running query in 'trino://admin@10.143.11.241:8443/hive'"
      ]
     },
     "metadata": {},
     "output_type": "display_data"
    },
    {
     "data": {
      "text/html": [
       "<table>\n",
       "    <thead>\n",
       "        <tr>\n",
       "        </tr>\n",
       "    </thead>\n",
       "    <tbody>\n",
       "    </tbody>\n",
       "</table>"
      ],
      "text/plain": [
       "++\n",
       "||\n",
       "++\n",
       "++"
      ]
     },
     "execution_count": 8,
     "metadata": {},
     "output_type": "execute_result"
    }
   ],
   "source": [
    "%%sql\n",
    "\n",
    "CREATE SCHEMA IF NOT EXISTS hive.nyt"
   ]
  },
  {
   "cell_type": "code",
   "execution_count": 9,
   "id": "70c169e9-1028-4d96-836c-601fc4440167",
   "metadata": {},
   "outputs": [
    {
     "data": {
      "text/html": [
       "<span style=\"None\">Running query in &#x27;trino://admin@10.143.11.241:8443/hive&#x27;</span>"
      ],
      "text/plain": [
       "Running query in 'trino://admin@10.143.11.241:8443/hive'"
      ]
     },
     "metadata": {},
     "output_type": "display_data"
    },
    {
     "data": {
      "text/html": [
       "<table>\n",
       "    <thead>\n",
       "        <tr>\n",
       "            <th>Schema</th>\n",
       "        </tr>\n",
       "    </thead>\n",
       "    <tbody>\n",
       "        <tr>\n",
       "            <td>default</td>\n",
       "        </tr>\n",
       "        <tr>\n",
       "            <td>information_schema</td>\n",
       "        </tr>\n",
       "        <tr>\n",
       "            <td>nyt</td>\n",
       "        </tr>\n",
       "        <tr>\n",
       "            <td>social_media</td>\n",
       "        </tr>\n",
       "    </tbody>\n",
       "</table>"
      ],
      "text/plain": [
       "+--------------------+\n",
       "|       Schema       |\n",
       "+--------------------+\n",
       "|      default       |\n",
       "| information_schema |\n",
       "|        nyt         |\n",
       "|    social_media    |\n",
       "+--------------------+"
      ]
     },
     "execution_count": 9,
     "metadata": {},
     "output_type": "execute_result"
    }
   ],
   "source": [
    "%%sql\n",
    "\n",
    "SHOW SCHEMAS"
   ]
  },
  {
   "cell_type": "code",
   "execution_count": 10,
   "id": "63a191bd-89ab-427f-a182-8cdef204a0ad",
   "metadata": {},
   "outputs": [
    {
     "data": {
      "text/html": [
       "<span style=\"None\">Running query in &#x27;trino://admin@10.143.11.241:8443/hive&#x27;</span>"
      ],
      "text/plain": [
       "Running query in 'trino://admin@10.143.11.241:8443/hive'"
      ]
     },
     "metadata": {},
     "output_type": "display_data"
    },
    {
     "data": {
      "text/html": [
       "<table>\n",
       "    <thead>\n",
       "        <tr>\n",
       "        </tr>\n",
       "    </thead>\n",
       "    <tbody>\n",
       "    </tbody>\n",
       "</table>"
      ],
      "text/plain": [
       "++\n",
       "||\n",
       "++\n",
       "++"
      ]
     },
     "execution_count": 10,
     "metadata": {},
     "output_type": "execute_result"
    }
   ],
   "source": [
    "%%sql\n",
    "\n",
    "DROP TABLE IF EXISTS nyt.yellow_tripdata"
   ]
  },
  {
   "cell_type": "code",
   "execution_count": 11,
   "id": "b41d23d9-f70e-4e41-bc0c-6ed81acfd88c",
   "metadata": {},
   "outputs": [
    {
     "data": {
      "text/html": [
       "<span style=\"None\">Running query in &#x27;trino://admin@10.143.11.241:8443/hive&#x27;</span>"
      ],
      "text/plain": [
       "Running query in 'trino://admin@10.143.11.241:8443/hive'"
      ]
     },
     "metadata": {},
     "output_type": "display_data"
    },
    {
     "data": {
      "text/html": [
       "<table>\n",
       "    <thead>\n",
       "        <tr>\n",
       "        </tr>\n",
       "    </thead>\n",
       "    <tbody>\n",
       "    </tbody>\n",
       "</table>"
      ],
      "text/plain": [
       "++\n",
       "||\n",
       "++\n",
       "++"
      ]
     },
     "execution_count": 11,
     "metadata": {},
     "output_type": "execute_result"
    }
   ],
   "source": [
    "%%sql\n",
    "\n",
    "CREATE TABLE nyt.yellow_tripdata (\n",
    "  vendorid VARCHAR,\n",
    "  tpep_pickup_datetime VARCHAR,\n",
    "  tpep_dropoff_datetime VARCHAR,\n",
    "  passenger_count BIGINT,\n",
    "  trip_distance DOUBLE,\n",
    "  ratecodeid BIGINT,\n",
    "  store_and_fwd_flag DOUBLE,\n",
    "  pulocationid INT,\n",
    "  dolocationid INT,\n",
    "  payment_type VARCHAR,\n",
    "  fare_amount DOUBLE,\n",
    "  extra DOUBLE,\n",
    "  mta_tax DOUBLE,\n",
    "  tip_amount DOUBLE,\n",
    "  tolls_amount DOUBLE,\n",
    "  improvement_surcharge DOUBLE,\n",
    "  total_amount DOUBLE,\n",
    "  congestion_surcharge DOUBLE,  \n",
    "  airport_fee DOUBLE,\n",
    "  dropoff_latitude DOUBLE,\n",
    "  dropoff_longitude DOUBLE,\n",
    "  pickup_latitude DOUBLE,\n",
    "  pickup_longitude DOUBLE,\n",
    "  surcharge DOUBLE\n",
    ")\n",
    "WITH (\n",
    "  format = 'PARQUET',\n",
    "  external_location = '{{S3_HIVE_TAXI_URI}}'\n",
    ")"
   ]
  },
  {
   "cell_type": "code",
   "execution_count": 12,
   "id": "a19ed7ba-f11f-429e-94bc-20eb8ad5efff",
   "metadata": {},
   "outputs": [
    {
     "data": {
      "text/html": [
       "<span style=\"None\">Running query in &#x27;trino://admin@10.143.11.241:8443/hive&#x27;</span>"
      ],
      "text/plain": [
       "Running query in 'trino://admin@10.143.11.241:8443/hive'"
      ]
     },
     "metadata": {},
     "output_type": "display_data"
    },
    {
     "data": {
      "text/html": [
       "<table>\n",
       "    <thead>\n",
       "        <tr>\n",
       "            <th>row_count</th>\n",
       "        </tr>\n",
       "    </thead>\n",
       "    <tbody>\n",
       "        <tr>\n",
       "            <td>1,763,456,499</td>\n",
       "        </tr>\n",
       "    </tbody>\n",
       "</table>"
      ],
      "text/plain": [
       "+---------------+\n",
       "|   row_count   |\n",
       "+---------------+\n",
       "| 1,763,456,499 |\n",
       "+---------------+"
      ]
     },
     "execution_count": 12,
     "metadata": {},
     "output_type": "execute_result"
    }
   ],
   "source": [
    "%%sql\n",
    "    \n",
    "SELECT format('%,d', COUNT(*)) as row_count FROM nyt.yellow_tripdata"
   ]
  },
  {
   "cell_type": "code",
   "execution_count": 13,
   "id": "7a074f60-227b-4d50-aa09-419684b9487f",
   "metadata": {},
   "outputs": [
    {
     "data": {
      "text/html": [
       "<span style=\"None\">Running query in &#x27;trino://admin@10.143.11.241:8443/hive&#x27;</span>"
      ],
      "text/plain": [
       "Running query in 'trino://admin@10.143.11.241:8443/hive'"
      ]
     },
     "metadata": {},
     "output_type": "display_data"
    },
    {
     "data": {
      "text/html": [
       "<table>\n",
       "    <thead>\n",
       "        <tr>\n",
       "            <th>vendorid</th>\n",
       "            <th>tpep_pickup_datetime</th>\n",
       "            <th>tpep_dropoff_datetime</th>\n",
       "            <th>passenger_count</th>\n",
       "            <th>trip_distance</th>\n",
       "            <th>ratecodeid</th>\n",
       "            <th>store_and_fwd_flag</th>\n",
       "            <th>pulocationid</th>\n",
       "            <th>dolocationid</th>\n",
       "            <th>payment_type</th>\n",
       "            <th>fare_amount</th>\n",
       "            <th>extra</th>\n",
       "            <th>mta_tax</th>\n",
       "            <th>tip_amount</th>\n",
       "            <th>tolls_amount</th>\n",
       "            <th>improvement_surcharge</th>\n",
       "            <th>total_amount</th>\n",
       "            <th>congestion_surcharge</th>\n",
       "            <th>airport_fee</th>\n",
       "            <th>dropoff_latitude</th>\n",
       "            <th>dropoff_longitude</th>\n",
       "            <th>pickup_latitude</th>\n",
       "            <th>pickup_longitude</th>\n",
       "            <th>surcharge</th>\n",
       "        </tr>\n",
       "    </thead>\n",
       "    <tbody>\n",
       "        <tr>\n",
       "            <td>CMT</td>\n",
       "            <td>2009-08-04 11:15:56</td>\n",
       "            <td>2009-08-04 11:23:03</td>\n",
       "            <td>2</td>\n",
       "            <td>0.6999999999999998</td>\n",
       "            <td>None</td>\n",
       "            <td>0.0</td>\n",
       "            <td>-999</td>\n",
       "            <td>-999</td>\n",
       "            <td>Credit</td>\n",
       "            <td>5.7</td>\n",
       "            <td>-999.0</td>\n",
       "            <td>None</td>\n",
       "            <td>0.8499999999999999</td>\n",
       "            <td>0.0</td>\n",
       "            <td>-999.0</td>\n",
       "            <td>6.55</td>\n",
       "            <td>-999.0</td>\n",
       "            <td>-999.0</td>\n",
       "            <td>40.741813</td>\n",
       "            <td>-74.00710599999998</td>\n",
       "            <td>40.736314</td>\n",
       "            <td>-73.99410899999998</td>\n",
       "            <td>0.0</td>\n",
       "        </tr>\n",
       "        <tr>\n",
       "            <td>CMT</td>\n",
       "            <td>2009-08-04 11:52:40</td>\n",
       "            <td>2009-08-04 12:03:14</td>\n",
       "            <td>1</td>\n",
       "            <td>1.0</td>\n",
       "            <td>None</td>\n",
       "            <td>0.0</td>\n",
       "            <td>-999</td>\n",
       "            <td>-999</td>\n",
       "            <td>Cash</td>\n",
       "            <td>7.3</td>\n",
       "            <td>-999.0</td>\n",
       "            <td>None</td>\n",
       "            <td>0.0</td>\n",
       "            <td>0.0</td>\n",
       "            <td>-999.0</td>\n",
       "            <td>7.3</td>\n",
       "            <td>-999.0</td>\n",
       "            <td>-999.0</td>\n",
       "            <td>40.751205</td>\n",
       "            <td>-73.994009</td>\n",
       "            <td>40.744782</td>\n",
       "            <td>-74.006208</td>\n",
       "            <td>0.0</td>\n",
       "        </tr>\n",
       "        <tr>\n",
       "            <td>CMT</td>\n",
       "            <td>2009-08-03 12:43:57</td>\n",
       "            <td>2009-08-03 12:53:35</td>\n",
       "            <td>1</td>\n",
       "            <td>0.8</td>\n",
       "            <td>None</td>\n",
       "            <td>0.0</td>\n",
       "            <td>-999</td>\n",
       "            <td>-999</td>\n",
       "            <td>Cash</td>\n",
       "            <td>6.5</td>\n",
       "            <td>-999.0</td>\n",
       "            <td>None</td>\n",
       "            <td>0.0</td>\n",
       "            <td>0.0</td>\n",
       "            <td>-999.0</td>\n",
       "            <td>6.5</td>\n",
       "            <td>-999.0</td>\n",
       "            <td>-999.0</td>\n",
       "            <td>40.759362</td>\n",
       "            <td>-73.969178</td>\n",
       "            <td>40.753566</td>\n",
       "            <td>-73.978063</td>\n",
       "            <td>0.0</td>\n",
       "        </tr>\n",
       "        <tr>\n",
       "            <td>DDS</td>\n",
       "            <td>2009-08-04 08:33:33</td>\n",
       "            <td>2009-08-04 08:46:08</td>\n",
       "            <td>1</td>\n",
       "            <td>0.9</td>\n",
       "            <td>None</td>\n",
       "            <td>None</td>\n",
       "            <td>-999</td>\n",
       "            <td>-999</td>\n",
       "            <td>CASH</td>\n",
       "            <td>7.7</td>\n",
       "            <td>-999.0</td>\n",
       "            <td>None</td>\n",
       "            <td>0.0</td>\n",
       "            <td>0.0</td>\n",
       "            <td>-999.0</td>\n",
       "            <td>7.7</td>\n",
       "            <td>-999.0</td>\n",
       "            <td>-999.0</td>\n",
       "            <td>40.755724</td>\n",
       "            <td>-74.001698</td>\n",
       "            <td>40.750092</td>\n",
       "            <td>-73.987059</td>\n",
       "            <td>0.0</td>\n",
       "        </tr>\n",
       "        <tr>\n",
       "            <td>CMT</td>\n",
       "            <td>2009-08-04 12:16:11</td>\n",
       "            <td>2009-08-04 12:20:45</td>\n",
       "            <td>1</td>\n",
       "            <td>0.5</td>\n",
       "            <td>None</td>\n",
       "            <td>0.0</td>\n",
       "            <td>-999</td>\n",
       "            <td>-999</td>\n",
       "            <td>Cash</td>\n",
       "            <td>4.5</td>\n",
       "            <td>-999.0</td>\n",
       "            <td>None</td>\n",
       "            <td>0.0</td>\n",
       "            <td>0.0</td>\n",
       "            <td>-999.0</td>\n",
       "            <td>4.5</td>\n",
       "            <td>-999.0</td>\n",
       "            <td>-999.0</td>\n",
       "            <td>40.757863</td>\n",
       "            <td>-73.97730199999998</td>\n",
       "            <td>40.764543</td>\n",
       "            <td>-73.972915</td>\n",
       "            <td>0.0</td>\n",
       "        </tr>\n",
       "        <tr>\n",
       "            <td>CMT</td>\n",
       "            <td>2009-08-04 15:31:12</td>\n",
       "            <td>2009-08-04 15:40:27</td>\n",
       "            <td>1</td>\n",
       "            <td>1.9</td>\n",
       "            <td>None</td>\n",
       "            <td>0.0</td>\n",
       "            <td>-999</td>\n",
       "            <td>-999</td>\n",
       "            <td>Cash</td>\n",
       "            <td>7.3</td>\n",
       "            <td>-999.0</td>\n",
       "            <td>None</td>\n",
       "            <td>0.0</td>\n",
       "            <td>0.0</td>\n",
       "            <td>-999.0</td>\n",
       "            <td>7.3</td>\n",
       "            <td>-999.0</td>\n",
       "            <td>-999.0</td>\n",
       "            <td>40.769455</td>\n",
       "            <td>-73.95173599999998</td>\n",
       "            <td>40.764198</td>\n",
       "            <td>-73.97701999999998</td>\n",
       "            <td>0.0</td>\n",
       "        </tr>\n",
       "        <tr>\n",
       "            <td>CMT</td>\n",
       "            <td>2009-08-04 10:39:12</td>\n",
       "            <td>2009-08-04 10:47:45</td>\n",
       "            <td>1</td>\n",
       "            <td>1.1</td>\n",
       "            <td>None</td>\n",
       "            <td>0.0</td>\n",
       "            <td>-999</td>\n",
       "            <td>-999</td>\n",
       "            <td>Cash</td>\n",
       "            <td>6.1</td>\n",
       "            <td>-999.0</td>\n",
       "            <td>None</td>\n",
       "            <td>0.0</td>\n",
       "            <td>0.0</td>\n",
       "            <td>-999.0</td>\n",
       "            <td>6.1</td>\n",
       "            <td>-999.0</td>\n",
       "            <td>-999.0</td>\n",
       "            <td>40.767754</td>\n",
       "            <td>-73.981223</td>\n",
       "            <td>40.764596</td>\n",
       "            <td>-73.966614</td>\n",
       "            <td>0.0</td>\n",
       "        </tr>\n",
       "        <tr>\n",
       "            <td>CMT</td>\n",
       "            <td>2009-08-04 12:19:23</td>\n",
       "            <td>2009-08-04 12:42:24</td>\n",
       "            <td>2</td>\n",
       "            <td>2.7</td>\n",
       "            <td>None</td>\n",
       "            <td>0.0</td>\n",
       "            <td>-999</td>\n",
       "            <td>-999</td>\n",
       "            <td>Cash</td>\n",
       "            <td>12.9</td>\n",
       "            <td>-999.0</td>\n",
       "            <td>None</td>\n",
       "            <td>0.0</td>\n",
       "            <td>0.0</td>\n",
       "            <td>-999.0</td>\n",
       "            <td>12.9</td>\n",
       "            <td>-999.0</td>\n",
       "            <td>-999.0</td>\n",
       "            <td>40.749406</td>\n",
       "            <td>-73.99171599999998</td>\n",
       "            <td>40.783421</td>\n",
       "            <td>-73.978965</td>\n",
       "            <td>0.0</td>\n",
       "        </tr>\n",
       "        <tr>\n",
       "            <td>CMT</td>\n",
       "            <td>2009-08-04 15:31:10</td>\n",
       "            <td>2009-08-04 16:11:48</td>\n",
       "            <td>1</td>\n",
       "            <td>7.8</td>\n",
       "            <td>None</td>\n",
       "            <td>0.0</td>\n",
       "            <td>-999</td>\n",
       "            <td>-999</td>\n",
       "            <td>Credit</td>\n",
       "            <td>25.3</td>\n",
       "            <td>-999.0</td>\n",
       "            <td>None</td>\n",
       "            <td>3.79</td>\n",
       "            <td>0.0</td>\n",
       "            <td>-999.0</td>\n",
       "            <td>29.09</td>\n",
       "            <td>-999.0</td>\n",
       "            <td>-999.0</td>\n",
       "            <td>40.768251</td>\n",
       "            <td>-73.98935</td>\n",
       "            <td>40.774019</td>\n",
       "            <td>-73.87455699999998</td>\n",
       "            <td>0.0</td>\n",
       "        </tr>\n",
       "        <tr>\n",
       "            <td>CMT</td>\n",
       "            <td>2009-08-04 18:30:22</td>\n",
       "            <td>2009-08-04 18:48:47</td>\n",
       "            <td>1</td>\n",
       "            <td>2.4</td>\n",
       "            <td>None</td>\n",
       "            <td>1.0</td>\n",
       "            <td>-999</td>\n",
       "            <td>-999</td>\n",
       "            <td>Credit</td>\n",
       "            <td>10.9</td>\n",
       "            <td>-999.0</td>\n",
       "            <td>None</td>\n",
       "            <td>2.38</td>\n",
       "            <td>0.0</td>\n",
       "            <td>-999.0</td>\n",
       "            <td>13.28</td>\n",
       "            <td>-999.0</td>\n",
       "            <td>-999.0</td>\n",
       "            <td>40.769092</td>\n",
       "            <td>-73.985055</td>\n",
       "            <td>40.742206</td>\n",
       "            <td>-73.993323</td>\n",
       "            <td>0.0</td>\n",
       "        </tr>\n",
       "    </tbody>\n",
       "</table>\n",
       "<span style=\"font-style:italic;text-align:center;\">Truncated to <a href=\"https://jupysql.ploomber.io/en/latest/api/configuration.html#displaylimit\">displaylimit</a> of 10.</span>"
      ],
      "text/plain": [
       "+----------+----------------------+-----------------------+-----------------+--------------------+------------+--------------------+--------------+--------------+--------------+-------------+--------+---------+--------------------+--------------+-----------------------+--------------+----------------------+-------------+------------------+--------------------+-----------------+--------------------+-----------+\n",
       "| vendorid | tpep_pickup_datetime | tpep_dropoff_datetime | passenger_count |   trip_distance    | ratecodeid | store_and_fwd_flag | pulocationid | dolocationid | payment_type | fare_amount | extra  | mta_tax |     tip_amount     | tolls_amount | improvement_surcharge | total_amount | congestion_surcharge | airport_fee | dropoff_latitude | dropoff_longitude  | pickup_latitude |  pickup_longitude  | surcharge |\n",
       "+----------+----------------------+-----------------------+-----------------+--------------------+------------+--------------------+--------------+--------------+--------------+-------------+--------+---------+--------------------+--------------+-----------------------+--------------+----------------------+-------------+------------------+--------------------+-----------------+--------------------+-----------+\n",
       "|   CMT    | 2009-08-04 11:15:56  |  2009-08-04 11:23:03  |        2        | 0.6999999999999998 |    None    |        0.0         |     -999     |     -999     |    Credit    |     5.7     | -999.0 |   None  | 0.8499999999999999 |     0.0      |         -999.0        |     6.55     |        -999.0        |    -999.0   |    40.741813     | -74.00710599999998 |    40.736314    | -73.99410899999998 |    0.0    |\n",
       "|   CMT    | 2009-08-04 11:52:40  |  2009-08-04 12:03:14  |        1        |        1.0         |    None    |        0.0         |     -999     |     -999     |     Cash     |     7.3     | -999.0 |   None  |        0.0         |     0.0      |         -999.0        |     7.3      |        -999.0        |    -999.0   |    40.751205     |     -73.994009     |    40.744782    |     -74.006208     |    0.0    |\n",
       "|   CMT    | 2009-08-03 12:43:57  |  2009-08-03 12:53:35  |        1        |        0.8         |    None    |        0.0         |     -999     |     -999     |     Cash     |     6.5     | -999.0 |   None  |        0.0         |     0.0      |         -999.0        |     6.5      |        -999.0        |    -999.0   |    40.759362     |     -73.969178     |    40.753566    |     -73.978063     |    0.0    |\n",
       "|   DDS    | 2009-08-04 08:33:33  |  2009-08-04 08:46:08  |        1        |        0.9         |    None    |        None        |     -999     |     -999     |     CASH     |     7.7     | -999.0 |   None  |        0.0         |     0.0      |         -999.0        |     7.7      |        -999.0        |    -999.0   |    40.755724     |     -74.001698     |    40.750092    |     -73.987059     |    0.0    |\n",
       "|   CMT    | 2009-08-04 12:16:11  |  2009-08-04 12:20:45  |        1        |        0.5         |    None    |        0.0         |     -999     |     -999     |     Cash     |     4.5     | -999.0 |   None  |        0.0         |     0.0      |         -999.0        |     4.5      |        -999.0        |    -999.0   |    40.757863     | -73.97730199999998 |    40.764543    |     -73.972915     |    0.0    |\n",
       "|   CMT    | 2009-08-04 15:31:12  |  2009-08-04 15:40:27  |        1        |        1.9         |    None    |        0.0         |     -999     |     -999     |     Cash     |     7.3     | -999.0 |   None  |        0.0         |     0.0      |         -999.0        |     7.3      |        -999.0        |    -999.0   |    40.769455     | -73.95173599999998 |    40.764198    | -73.97701999999998 |    0.0    |\n",
       "|   CMT    | 2009-08-04 10:39:12  |  2009-08-04 10:47:45  |        1        |        1.1         |    None    |        0.0         |     -999     |     -999     |     Cash     |     6.1     | -999.0 |   None  |        0.0         |     0.0      |         -999.0        |     6.1      |        -999.0        |    -999.0   |    40.767754     |     -73.981223     |    40.764596    |     -73.966614     |    0.0    |\n",
       "|   CMT    | 2009-08-04 12:19:23  |  2009-08-04 12:42:24  |        2        |        2.7         |    None    |        0.0         |     -999     |     -999     |     Cash     |     12.9    | -999.0 |   None  |        0.0         |     0.0      |         -999.0        |     12.9     |        -999.0        |    -999.0   |    40.749406     | -73.99171599999998 |    40.783421    |     -73.978965     |    0.0    |\n",
       "|   CMT    | 2009-08-04 15:31:10  |  2009-08-04 16:11:48  |        1        |        7.8         |    None    |        0.0         |     -999     |     -999     |    Credit    |     25.3    | -999.0 |   None  |        3.79        |     0.0      |         -999.0        |    29.09     |        -999.0        |    -999.0   |    40.768251     |     -73.98935      |    40.774019    | -73.87455699999998 |    0.0    |\n",
       "|   CMT    | 2009-08-04 18:30:22  |  2009-08-04 18:48:47  |        1        |        2.4         |    None    |        1.0         |     -999     |     -999     |    Credit    |     10.9    | -999.0 |   None  |        2.38        |     0.0      |         -999.0        |    13.28     |        -999.0        |    -999.0   |    40.769092     |     -73.985055     |    40.742206    |     -73.993323     |    0.0    |\n",
       "+----------+----------------------+-----------------------+-----------------+--------------------+------------+--------------------+--------------+--------------+--------------+-------------+--------+---------+--------------------+--------------+-----------------------+--------------+----------------------+-------------+------------------+--------------------+-----------------+--------------------+-----------+\n",
       "Truncated to displaylimit of 10."
      ]
     },
     "execution_count": 13,
     "metadata": {},
     "output_type": "execute_result"
    }
   ],
   "source": [
    "%%sql\n",
    "\n",
    "SELECT *\n",
    "FROM nyt.yellow_tripdata\n",
    "LIMIT 100"
   ]
  },
  {
   "cell_type": "code",
   "execution_count": 14,
   "id": "c4f039f2-fe90-4b90-9f65-0bd8489e621c",
   "metadata": {},
   "outputs": [
    {
     "data": {
      "text/html": [
       "<span style=\"None\">Running query in &#x27;trino://admin@10.143.11.241:8443/hive&#x27;</span>"
      ],
      "text/plain": [
       "Running query in 'trino://admin@10.143.11.241:8443/hive'"
      ]
     },
     "metadata": {},
     "output_type": "display_data"
    },
    {
     "data": {
      "text/html": [
       "<table>\n",
       "    <thead>\n",
       "        <tr>\n",
       "            <th>Create Table</th>\n",
       "        </tr>\n",
       "    </thead>\n",
       "    <tbody>\n",
       "        <tr>\n",
       "            <td>CREATE TABLE hive.nyt.yellow_tripdata (<br>   vendorid varchar,<br>   tpep_pickup_datetime varchar,<br>   tpep_dropoff_datetime varchar,<br>   passenger_count bigint,<br>   trip_distance double,<br>   ratecodeid bigint,<br>   store_and_fwd_flag double,<br>   pulocationid integer,<br>   dolocationid integer,<br>   payment_type varchar,<br>   fare_amount double,<br>   extra double,<br>   mta_tax double,<br>   tip_amount double,<br>   tolls_amount double,<br>   improvement_surcharge double,<br>   total_amount double,<br>   congestion_surcharge double,<br>   airport_fee double,<br>   dropoff_latitude double,<br>   dropoff_longitude double,<br>   pickup_latitude double,<br>   pickup_longitude double,<br>   surcharge double<br>)<br>WITH (<br>   external_location = 's3a://csnow-bucket/nyt',<br>   format = 'PARQUET'<br>)</td>\n",
       "        </tr>\n",
       "    </tbody>\n",
       "</table>"
      ],
      "text/plain": [
       "+--------------------------------------------------+\n",
       "|                   Create Table                   |\n",
       "+--------------------------------------------------+\n",
       "|     CREATE TABLE hive.nyt.yellow_tripdata (      |\n",
       "|                  vendorid varchar,               |\n",
       "|            tpep_pickup_datetime varchar,         |\n",
       "|           tpep_dropoff_datetime varchar,         |\n",
       "|               passenger_count bigint,            |\n",
       "|                trip_distance double,             |\n",
       "|                 ratecodeid bigint,               |\n",
       "|             store_and_fwd_flag double,           |\n",
       "|                pulocationid integer,             |\n",
       "|                dolocationid integer,             |\n",
       "|                payment_type varchar,             |\n",
       "|                 fare_amount double,              |\n",
       "|                    extra double,                 |\n",
       "|                   mta_tax double,                |\n",
       "|                 tip_amount double,               |\n",
       "|                tolls_amount double,              |\n",
       "|            improvement_surcharge double,         |\n",
       "|                total_amount double,              |\n",
       "|            congestion_surcharge double,          |\n",
       "|                 airport_fee double,              |\n",
       "|              dropoff_latitude double,            |\n",
       "|              dropoff_longitude double,           |\n",
       "|               pickup_latitude double,            |\n",
       "|              pickup_longitude double,            |\n",
       "|                  surcharge double                |\n",
       "|                        )                         |\n",
       "|                      WITH (                      |\n",
       "|    external_location = 's3a://csnow-bucket/nyt', |\n",
       "|                 format = 'PARQUET'               |\n",
       "|                        )                         |\n",
       "+--------------------------------------------------+"
      ]
     },
     "execution_count": 14,
     "metadata": {},
     "output_type": "execute_result"
    }
   ],
   "source": [
    "%%sql\n",
    "\n",
    "SHOW CREATE TABLE nyt.yellow_tripdata"
   ]
  },
  {
   "cell_type": "code",
   "execution_count": null,
   "id": "822037d5-2d42-4c75-a6ae-ace6dbd7bc9f",
   "metadata": {},
   "outputs": [],
   "source": []
  }
 ],
 "metadata": {
  "kernelspec": {
   "display_name": "Python 3 (ipykernel)",
   "language": "python",
   "name": "python3"
  },
  "language_info": {
   "codemirror_mode": {
    "name": "ipython",
    "version": 3
   },
   "file_extension": ".py",
   "mimetype": "text/x-python",
   "name": "python",
   "nbconvert_exporter": "python",
   "pygments_lexer": "ipython3",
   "version": "3.12.7"
  }
 },
 "nbformat": 4,
 "nbformat_minor": 5
}

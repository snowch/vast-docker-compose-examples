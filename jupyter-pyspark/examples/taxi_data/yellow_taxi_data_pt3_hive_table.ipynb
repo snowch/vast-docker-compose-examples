{
 "cells": [
  {
   "cell_type": "markdown",
   "id": "10fed33d-be68-4c1b-a045-30f853f1e6a5",
   "metadata": {},
   "source": [
    "# Import Yellow Taxi Data - Part 2"
   ]
  },
  {
   "cell_type": "markdown",
   "id": "fb93c071-3c28-4c32-b782-2512f38eec58",
   "metadata": {},
   "source": [
    "Create a Hive external table using the S3 Parquet files.\n"
   ]
  },
  {
   "cell_type": "markdown",
   "id": "ddca27ea-d563-4aae-983d-2476c55c1880",
   "metadata": {},
   "source": [
    "## Create Hive Table"
   ]
  },
  {
   "cell_type": "code",
   "execution_count": 17,
   "id": "d3c30da6-abce-4090-80e7-452dbb55529e",
   "metadata": {},
   "outputs": [],
   "source": [
    "import urllib3\n",
    "\n",
    "urllib3.disable_warnings(urllib3.exceptions.InsecureRequestWarning)"
   ]
  },
  {
   "cell_type": "code",
   "execution_count": 18,
   "id": "564cac05-1d8d-42e1-9ceb-7cb462650ad9",
   "metadata": {},
   "outputs": [
    {
     "name": "stdout",
     "output_type": "stream",
     "text": [
      "The sql extension is already loaded. To reload it, use:\n",
      "  %reload_ext sql\n"
     ]
    }
   ],
   "source": [
    "%load_ext sql"
   ]
  },
  {
   "cell_type": "code",
   "execution_count": 19,
   "id": "1ffa79a0-b720-4833-87ad-32458ecd038e",
   "metadata": {},
   "outputs": [],
   "source": [
    "%config SqlMagic.named_parameters = \"enabled\""
   ]
  },
  {
   "cell_type": "code",
   "execution_count": 20,
   "id": "4f29846f-d23d-429a-bab2-5ba51d58593b",
   "metadata": {},
   "outputs": [],
   "source": [
    "%sql trino://admin@${DOCKER_HOST_OR_IP}:8443/hive --connection_arguments '{\"http_scheme\":\"https\", \"verify\": false}'"
   ]
  },
  {
   "cell_type": "code",
   "execution_count": 21,
   "id": "6b157708-bfb7-4884-b439-fa4347fa11b3",
   "metadata": {},
   "outputs": [
    {
     "data": {
      "text/html": [
       "<span style=\"None\">Running query in &#x27;trino://admin@10.143.11.241:8443/hive&#x27;</span>"
      ],
      "text/plain": [
       "Running query in 'trino://admin@10.143.11.241:8443/hive'"
      ]
     },
     "metadata": {},
     "output_type": "display_data"
    },
    {
     "data": {
      "text/html": [
       "<table>\n",
       "    <thead>\n",
       "        <tr>\n",
       "            <th>Catalog</th>\n",
       "        </tr>\n",
       "    </thead>\n",
       "    <tbody>\n",
       "        <tr>\n",
       "            <td>hive</td>\n",
       "        </tr>\n",
       "        <tr>\n",
       "            <td>iceberg</td>\n",
       "        </tr>\n",
       "        <tr>\n",
       "            <td>system</td>\n",
       "        </tr>\n",
       "        <tr>\n",
       "            <td>tpcds</td>\n",
       "        </tr>\n",
       "        <tr>\n",
       "            <td>vast</td>\n",
       "        </tr>\n",
       "    </tbody>\n",
       "</table>"
      ],
      "text/plain": [
       "+---------+\n",
       "| Catalog |\n",
       "+---------+\n",
       "|   hive  |\n",
       "| iceberg |\n",
       "|  system |\n",
       "|  tpcds  |\n",
       "|   vast  |\n",
       "+---------+"
      ]
     },
     "execution_count": 21,
     "metadata": {},
     "output_type": "execute_result"
    }
   ],
   "source": [
    "%%sql \n",
    "\n",
    "show catalogs"
   ]
  },
  {
   "cell_type": "code",
   "execution_count": 22,
   "id": "41c3eadc-978d-4952-a3cf-f8e326b71fa9",
   "metadata": {},
   "outputs": [],
   "source": [
    "import os\n",
    "S3A_BUCKET = os.getenv('S3A_BUCKET')"
   ]
  },
  {
   "cell_type": "code",
   "execution_count": 23,
   "id": "0a3bc5d7-16c1-498f-bc01-48f2c6ccab5f",
   "metadata": {},
   "outputs": [
    {
     "name": "stdout",
     "output_type": "stream",
     "text": [
      "csnow-bucket\n"
     ]
    }
   ],
   "source": [
    "! echo {S3A_BUCKET}"
   ]
  },
  {
   "cell_type": "code",
   "execution_count": 24,
   "id": "2078acbc-4398-4d47-a020-c70687efd1a2",
   "metadata": {},
   "outputs": [
    {
     "data": {
      "text/html": [
       "<span style=\"None\">Running query in &#x27;trino://admin@10.143.11.241:8443/hive&#x27;</span>"
      ],
      "text/plain": [
       "Running query in 'trino://admin@10.143.11.241:8443/hive'"
      ]
     },
     "metadata": {},
     "output_type": "display_data"
    },
    {
     "data": {
      "text/html": [
       "<table>\n",
       "    <thead>\n",
       "        <tr>\n",
       "        </tr>\n",
       "    </thead>\n",
       "    <tbody>\n",
       "    </tbody>\n",
       "</table>"
      ],
      "text/plain": [
       "++\n",
       "||\n",
       "++\n",
       "++"
      ]
     },
     "execution_count": 24,
     "metadata": {},
     "output_type": "execute_result"
    }
   ],
   "source": [
    "%%sql\n",
    "\n",
    "CREATE SCHEMA IF NOT EXISTS hive.nyt"
   ]
  },
  {
   "cell_type": "code",
   "execution_count": 25,
   "id": "70c169e9-1028-4d96-836c-601fc4440167",
   "metadata": {},
   "outputs": [
    {
     "data": {
      "text/html": [
       "<span style=\"None\">Running query in &#x27;trino://admin@10.143.11.241:8443/hive&#x27;</span>"
      ],
      "text/plain": [
       "Running query in 'trino://admin@10.143.11.241:8443/hive'"
      ]
     },
     "metadata": {},
     "output_type": "display_data"
    },
    {
     "data": {
      "text/html": [
       "<table>\n",
       "    <thead>\n",
       "        <tr>\n",
       "            <th>Schema</th>\n",
       "        </tr>\n",
       "    </thead>\n",
       "    <tbody>\n",
       "        <tr>\n",
       "            <td>default</td>\n",
       "        </tr>\n",
       "        <tr>\n",
       "            <td>information_schema</td>\n",
       "        </tr>\n",
       "        <tr>\n",
       "            <td>nyt</td>\n",
       "        </tr>\n",
       "        <tr>\n",
       "            <td>social_media</td>\n",
       "        </tr>\n",
       "    </tbody>\n",
       "</table>"
      ],
      "text/plain": [
       "+--------------------+\n",
       "|       Schema       |\n",
       "+--------------------+\n",
       "|      default       |\n",
       "| information_schema |\n",
       "|        nyt         |\n",
       "|    social_media    |\n",
       "+--------------------+"
      ]
     },
     "execution_count": 25,
     "metadata": {},
     "output_type": "execute_result"
    }
   ],
   "source": [
    "%%sql\n",
    "\n",
    "SHOW SCHEMAS"
   ]
  },
  {
   "cell_type": "code",
   "execution_count": 38,
   "id": "63a191bd-89ab-427f-a182-8cdef204a0ad",
   "metadata": {},
   "outputs": [
    {
     "data": {
      "text/html": [
       "<span style=\"None\">Running query in &#x27;trino://admin@10.143.11.241:8443/hive&#x27;</span>"
      ],
      "text/plain": [
       "Running query in 'trino://admin@10.143.11.241:8443/hive'"
      ]
     },
     "metadata": {},
     "output_type": "display_data"
    },
    {
     "data": {
      "text/html": [
       "<table>\n",
       "    <thead>\n",
       "        <tr>\n",
       "        </tr>\n",
       "    </thead>\n",
       "    <tbody>\n",
       "    </tbody>\n",
       "</table>"
      ],
      "text/plain": [
       "++\n",
       "||\n",
       "++\n",
       "++"
      ]
     },
     "execution_count": 38,
     "metadata": {},
     "output_type": "execute_result"
    }
   ],
   "source": [
    "%%sql\n",
    "\n",
    "DROP TABLE IF EXISTS nyt.yellow_trip_data"
   ]
  },
  {
   "cell_type": "code",
   "execution_count": 39,
   "id": "b41d23d9-f70e-4e41-bc0c-6ed81acfd88c",
   "metadata": {},
   "outputs": [
    {
     "data": {
      "text/html": [
       "<span style=\"None\">Running query in &#x27;trino://admin@10.143.11.241:8443/hive&#x27;</span>"
      ],
      "text/plain": [
       "Running query in 'trino://admin@10.143.11.241:8443/hive'"
      ]
     },
     "metadata": {},
     "output_type": "display_data"
    },
    {
     "data": {
      "text/html": [
       "<table>\n",
       "    <thead>\n",
       "        <tr>\n",
       "        </tr>\n",
       "    </thead>\n",
       "    <tbody>\n",
       "    </tbody>\n",
       "</table>"
      ],
      "text/plain": [
       "++\n",
       "||\n",
       "++\n",
       "++"
      ]
     },
     "execution_count": 39,
     "metadata": {},
     "output_type": "execute_result"
    }
   ],
   "source": [
    "%%sql\n",
    "\n",
    "CREATE TABLE nyt.yellow_trip_data (\n",
    "  vendorid VARCHAR,\n",
    "  tpep_pickup_datetime VARCHAR,\n",
    "  tpep_dropoff_datetime VARCHAR,\n",
    "  passenger_count BIGINT,\n",
    "  trip_distance DOUBLE,\n",
    "  ratecodeid BIGINT,\n",
    "  store_and_fwd_flag DOUBLE,\n",
    "  pulocationid INT,\n",
    "  dolocationid INT,\n",
    "  payment_type VARCHAR,\n",
    "  fare_amount DOUBLE,\n",
    "  extra DOUBLE,\n",
    "  mta_tax DOUBLE,\n",
    "  tip_amount DOUBLE,\n",
    "  tolls_amount DOUBLE,\n",
    "  improvement_surcharge DOUBLE,\n",
    "  total_amount DOUBLE,\n",
    "  congestion_surcharge DOUBLE,  \n",
    "  airport_fee DOUBLE,\n",
    "  dropoff_latitude DOUBLE,\n",
    "  dropoff_longitude DOUBLE,\n",
    "  pickup_latitude DOUBLE,\n",
    "  pickup_longitude DOUBLE,\n",
    "  surcharge DOUBLE\n",
    ")\n",
    "WITH (\n",
    "  format = 'PARQUET',\n",
    "  external_location = 's3a://{{S3A_BUCKET}}/yellow_tripdata/'\n",
    ")"
   ]
  },
  {
   "cell_type": "code",
   "execution_count": 43,
   "id": "a19ed7ba-f11f-429e-94bc-20eb8ad5efff",
   "metadata": {},
   "outputs": [
    {
     "data": {
      "text/html": [
       "<span style=\"None\">Running query in &#x27;trino://admin@10.143.11.241:8443/hive&#x27;</span>"
      ],
      "text/plain": [
       "Running query in 'trino://admin@10.143.11.241:8443/hive'"
      ]
     },
     "metadata": {},
     "output_type": "display_data"
    },
    {
     "data": {
      "text/html": [
       "<table>\n",
       "    <thead>\n",
       "        <tr>\n",
       "            <th>row_count</th>\n",
       "        </tr>\n",
       "    </thead>\n",
       "    <tbody>\n",
       "        <tr>\n",
       "            <td>1,763,456,499</td>\n",
       "        </tr>\n",
       "    </tbody>\n",
       "</table>"
      ],
      "text/plain": [
       "+---------------+\n",
       "|   row_count   |\n",
       "+---------------+\n",
       "| 1,763,456,499 |\n",
       "+---------------+"
      ]
     },
     "execution_count": 43,
     "metadata": {},
     "output_type": "execute_result"
    }
   ],
   "source": [
    "%%sql\n",
    "    \n",
    "SELECT format('%,d', COUNT(*)) as row_count FROM nyt.yellow_trip_data"
   ]
  },
  {
   "cell_type": "code",
   "execution_count": 41,
   "id": "7a074f60-227b-4d50-aa09-419684b9487f",
   "metadata": {},
   "outputs": [
    {
     "data": {
      "text/html": [
       "<span style=\"None\">Running query in &#x27;trino://admin@10.143.11.241:8443/hive&#x27;</span>"
      ],
      "text/plain": [
       "Running query in 'trino://admin@10.143.11.241:8443/hive'"
      ]
     },
     "metadata": {},
     "output_type": "display_data"
    },
    {
     "data": {
      "text/html": [
       "<table>\n",
       "    <thead>\n",
       "        <tr>\n",
       "            <th>passenger_count</th>\n",
       "            <th>trip_distance</th>\n",
       "            <th>ratecodeid</th>\n",
       "            <th>store_and_fwd_flag</th>\n",
       "            <th>pulocationid</th>\n",
       "            <th>dolocationid</th>\n",
       "            <th>fare_amount</th>\n",
       "            <th>extra</th>\n",
       "            <th>mta_tax</th>\n",
       "            <th>tip_amount</th>\n",
       "            <th>tolls_amount</th>\n",
       "            <th>improvement_surcharge</th>\n",
       "            <th>total_amount</th>\n",
       "            <th>congestion_surcharge</th>\n",
       "            <th>airport_fee</th>\n",
       "            <th>dropoff_latitude</th>\n",
       "            <th>dropoff_longitude</th>\n",
       "            <th>pickup_latitude</th>\n",
       "            <th>pickup_longitude</th>\n",
       "            <th>surcharge</th>\n",
       "        </tr>\n",
       "    </thead>\n",
       "    <tbody>\n",
       "        <tr>\n",
       "            <td>2</td>\n",
       "            <td>9.8</td>\n",
       "            <td>None</td>\n",
       "            <td>0.0</td>\n",
       "            <td>-999</td>\n",
       "            <td>-999</td>\n",
       "            <td>24.1</td>\n",
       "            <td>-999.0</td>\n",
       "            <td>None</td>\n",
       "            <td>5.65</td>\n",
       "            <td>4.15</td>\n",
       "            <td>-999.0</td>\n",
       "            <td>33.9</td>\n",
       "            <td>-999.0</td>\n",
       "            <td>-999.0</td>\n",
       "            <td>40.774278</td>\n",
       "            <td>-73.87347099999998</td>\n",
       "            <td>40.762107</td>\n",
       "            <td>-73.978843</td>\n",
       "            <td>0.0</td>\n",
       "        </tr>\n",
       "        <tr>\n",
       "            <td>1</td>\n",
       "            <td>2.2</td>\n",
       "            <td>None</td>\n",
       "            <td>0.0</td>\n",
       "            <td>-999</td>\n",
       "            <td>-999</td>\n",
       "            <td>9.3</td>\n",
       "            <td>-999.0</td>\n",
       "            <td>None</td>\n",
       "            <td>1.54</td>\n",
       "            <td>0.0</td>\n",
       "            <td>-999.0</td>\n",
       "            <td>10.84</td>\n",
       "            <td>-999.0</td>\n",
       "            <td>-999.0</td>\n",
       "            <td>40.747773</td>\n",
       "            <td>-73.97288899999998</td>\n",
       "            <td>40.719872</td>\n",
       "            <td>-73.987342</td>\n",
       "            <td>0.0</td>\n",
       "        </tr>\n",
       "        <tr>\n",
       "            <td>1</td>\n",
       "            <td>3.7</td>\n",
       "            <td>None</td>\n",
       "            <td>0.0</td>\n",
       "            <td>-999</td>\n",
       "            <td>-999</td>\n",
       "            <td>14.5</td>\n",
       "            <td>-999.0</td>\n",
       "            <td>None</td>\n",
       "            <td>2.32</td>\n",
       "            <td>0.0</td>\n",
       "            <td>-999.0</td>\n",
       "            <td>16.82</td>\n",
       "            <td>-999.0</td>\n",
       "            <td>-999.0</td>\n",
       "            <td>40.74506</td>\n",
       "            <td>-73.997792</td>\n",
       "            <td>40.77255</td>\n",
       "            <td>-73.95920099999998</td>\n",
       "            <td>0.0</td>\n",
       "        </tr>\n",
       "        <tr>\n",
       "            <td>3</td>\n",
       "            <td>1.7</td>\n",
       "            <td>None</td>\n",
       "            <td>0.0</td>\n",
       "            <td>-999</td>\n",
       "            <td>-999</td>\n",
       "            <td>10.1</td>\n",
       "            <td>-999.0</td>\n",
       "            <td>None</td>\n",
       "            <td>0.0</td>\n",
       "            <td>0.0</td>\n",
       "            <td>-999.0</td>\n",
       "            <td>10.1</td>\n",
       "            <td>-999.0</td>\n",
       "            <td>-999.0</td>\n",
       "            <td>40.759942</td>\n",
       "            <td>-73.984448</td>\n",
       "            <td>40.738061</td>\n",
       "            <td>-73.99652299999998</td>\n",
       "            <td>0.0</td>\n",
       "        </tr>\n",
       "        <tr>\n",
       "            <td>1</td>\n",
       "            <td>1.6</td>\n",
       "            <td>None</td>\n",
       "            <td>0.0</td>\n",
       "            <td>-999</td>\n",
       "            <td>-999</td>\n",
       "            <td>8.9</td>\n",
       "            <td>-999.0</td>\n",
       "            <td>None</td>\n",
       "            <td>0.0</td>\n",
       "            <td>0.0</td>\n",
       "            <td>-999.0</td>\n",
       "            <td>8.9</td>\n",
       "            <td>-999.0</td>\n",
       "            <td>-999.0</td>\n",
       "            <td>40.752788</td>\n",
       "            <td>-73.98509199999998</td>\n",
       "            <td>40.760026</td>\n",
       "            <td>-73.96490199999998</td>\n",
       "            <td>0.0</td>\n",
       "        </tr>\n",
       "        <tr>\n",
       "            <td>1</td>\n",
       "            <td>0.6999999999999998</td>\n",
       "            <td>None</td>\n",
       "            <td>0.0</td>\n",
       "            <td>-999</td>\n",
       "            <td>-999</td>\n",
       "            <td>5.3</td>\n",
       "            <td>-999.0</td>\n",
       "            <td>None</td>\n",
       "            <td>0.0</td>\n",
       "            <td>0.0</td>\n",
       "            <td>-999.0</td>\n",
       "            <td>5.3</td>\n",
       "            <td>-999.0</td>\n",
       "            <td>-999.0</td>\n",
       "            <td>40.719782</td>\n",
       "            <td>-74.010428</td>\n",
       "            <td>40.722629</td>\n",
       "            <td>-74.003809</td>\n",
       "            <td>0.0</td>\n",
       "        </tr>\n",
       "        <tr>\n",
       "            <td>3</td>\n",
       "            <td>3.1</td>\n",
       "            <td>None</td>\n",
       "            <td>0.0</td>\n",
       "            <td>-999</td>\n",
       "            <td>-999</td>\n",
       "            <td>12.9</td>\n",
       "            <td>-999.0</td>\n",
       "            <td>None</td>\n",
       "            <td>0.0</td>\n",
       "            <td>0.0</td>\n",
       "            <td>-999.0</td>\n",
       "            <td>12.9</td>\n",
       "            <td>-999.0</td>\n",
       "            <td>-999.0</td>\n",
       "            <td>40.751457</td>\n",
       "            <td>-74.001508</td>\n",
       "            <td>40.763873</td>\n",
       "            <td>-73.96203</td>\n",
       "            <td>0.0</td>\n",
       "        </tr>\n",
       "        <tr>\n",
       "            <td>1</td>\n",
       "            <td>1.45</td>\n",
       "            <td>None</td>\n",
       "            <td>None</td>\n",
       "            <td>-999</td>\n",
       "            <td>-999</td>\n",
       "            <td>6.9</td>\n",
       "            <td>-999.0</td>\n",
       "            <td>None</td>\n",
       "            <td>0.0</td>\n",
       "            <td>0.0</td>\n",
       "            <td>-999.0</td>\n",
       "            <td>6.9</td>\n",
       "            <td>-999.0</td>\n",
       "            <td>-999.0</td>\n",
       "            <td>40.750332</td>\n",
       "            <td>-73.99134499999998</td>\n",
       "            <td>40.768275</td>\n",
       "            <td>-73.982107</td>\n",
       "            <td>0.0</td>\n",
       "        </tr>\n",
       "        <tr>\n",
       "            <td>2</td>\n",
       "            <td>0.76</td>\n",
       "            <td>None</td>\n",
       "            <td>None</td>\n",
       "            <td>-999</td>\n",
       "            <td>-999</td>\n",
       "            <td>5.7</td>\n",
       "            <td>-999.0</td>\n",
       "            <td>None</td>\n",
       "            <td>4.0</td>\n",
       "            <td>0.0</td>\n",
       "            <td>-999.0</td>\n",
       "            <td>9.7</td>\n",
       "            <td>-999.0</td>\n",
       "            <td>-999.0</td>\n",
       "            <td>40.760553</td>\n",
       "            <td>-73.97216</td>\n",
       "            <td>40.752022</td>\n",
       "            <td>-73.97732999999998</td>\n",
       "            <td>0.0</td>\n",
       "        </tr>\n",
       "        <tr>\n",
       "            <td>1</td>\n",
       "            <td>0.54</td>\n",
       "            <td>None</td>\n",
       "            <td>None</td>\n",
       "            <td>-999</td>\n",
       "            <td>-999</td>\n",
       "            <td>4.9</td>\n",
       "            <td>-999.0</td>\n",
       "            <td>None</td>\n",
       "            <td>0.0</td>\n",
       "            <td>0.0</td>\n",
       "            <td>-999.0</td>\n",
       "            <td>5.4</td>\n",
       "            <td>-999.0</td>\n",
       "            <td>-999.0</td>\n",
       "            <td>0.0</td>\n",
       "            <td>0.0</td>\n",
       "            <td>0.0</td>\n",
       "            <td>0.0</td>\n",
       "            <td>0.5</td>\n",
       "        </tr>\n",
       "    </tbody>\n",
       "</table>\n",
       "<span style=\"font-style:italic;text-align:center;\">Truncated to <a href=\"https://jupysql.ploomber.io/en/latest/api/configuration.html#displaylimit\">displaylimit</a> of 10.</span>"
      ],
      "text/plain": [
       "+-----------------+--------------------+------------+--------------------+--------------+--------------+-------------+--------+---------+------------+--------------+-----------------------+--------------+----------------------+-------------+------------------+--------------------+-----------------+--------------------+-----------+\n",
       "| passenger_count |   trip_distance    | ratecodeid | store_and_fwd_flag | pulocationid | dolocationid | fare_amount | extra  | mta_tax | tip_amount | tolls_amount | improvement_surcharge | total_amount | congestion_surcharge | airport_fee | dropoff_latitude | dropoff_longitude  | pickup_latitude |  pickup_longitude  | surcharge |\n",
       "+-----------------+--------------------+------------+--------------------+--------------+--------------+-------------+--------+---------+------------+--------------+-----------------------+--------------+----------------------+-------------+------------------+--------------------+-----------------+--------------------+-----------+\n",
       "|        2        |        9.8         |    None    |        0.0         |     -999     |     -999     |     24.1    | -999.0 |   None  |    5.65    |     4.15     |         -999.0        |     33.9     |        -999.0        |    -999.0   |    40.774278     | -73.87347099999998 |    40.762107    |     -73.978843     |    0.0    |\n",
       "|        1        |        2.2         |    None    |        0.0         |     -999     |     -999     |     9.3     | -999.0 |   None  |    1.54    |     0.0      |         -999.0        |    10.84     |        -999.0        |    -999.0   |    40.747773     | -73.97288899999998 |    40.719872    |     -73.987342     |    0.0    |\n",
       "|        1        |        3.7         |    None    |        0.0         |     -999     |     -999     |     14.5    | -999.0 |   None  |    2.32    |     0.0      |         -999.0        |    16.82     |        -999.0        |    -999.0   |     40.74506     |     -73.997792     |     40.77255    | -73.95920099999998 |    0.0    |\n",
       "|        3        |        1.7         |    None    |        0.0         |     -999     |     -999     |     10.1    | -999.0 |   None  |    0.0     |     0.0      |         -999.0        |     10.1     |        -999.0        |    -999.0   |    40.759942     |     -73.984448     |    40.738061    | -73.99652299999998 |    0.0    |\n",
       "|        1        |        1.6         |    None    |        0.0         |     -999     |     -999     |     8.9     | -999.0 |   None  |    0.0     |     0.0      |         -999.0        |     8.9      |        -999.0        |    -999.0   |    40.752788     | -73.98509199999998 |    40.760026    | -73.96490199999998 |    0.0    |\n",
       "|        1        | 0.6999999999999998 |    None    |        0.0         |     -999     |     -999     |     5.3     | -999.0 |   None  |    0.0     |     0.0      |         -999.0        |     5.3      |        -999.0        |    -999.0   |    40.719782     |     -74.010428     |    40.722629    |     -74.003809     |    0.0    |\n",
       "|        3        |        3.1         |    None    |        0.0         |     -999     |     -999     |     12.9    | -999.0 |   None  |    0.0     |     0.0      |         -999.0        |     12.9     |        -999.0        |    -999.0   |    40.751457     |     -74.001508     |    40.763873    |     -73.96203      |    0.0    |\n",
       "|        1        |        1.45        |    None    |        None        |     -999     |     -999     |     6.9     | -999.0 |   None  |    0.0     |     0.0      |         -999.0        |     6.9      |        -999.0        |    -999.0   |    40.750332     | -73.99134499999998 |    40.768275    |     -73.982107     |    0.0    |\n",
       "|        2        |        0.76        |    None    |        None        |     -999     |     -999     |     5.7     | -999.0 |   None  |    4.0     |     0.0      |         -999.0        |     9.7      |        -999.0        |    -999.0   |    40.760553     |     -73.97216      |    40.752022    | -73.97732999999998 |    0.0    |\n",
       "|        1        |        0.54        |    None    |        None        |     -999     |     -999     |     4.9     | -999.0 |   None  |    0.0     |     0.0      |         -999.0        |     5.4      |        -999.0        |    -999.0   |       0.0        |        0.0         |       0.0       |        0.0         |    0.5    |\n",
       "+-----------------+--------------------+------------+--------------------+--------------+--------------+-------------+--------+---------+------------+--------------+-----------------------+--------------+----------------------+-------------+------------------+--------------------+-----------------+--------------------+-----------+\n",
       "Truncated to displaylimit of 10."
      ]
     },
     "execution_count": 41,
     "metadata": {},
     "output_type": "execute_result"
    }
   ],
   "source": [
    "%%sql\n",
    "\n",
    "SELECT *\n",
    "FROM nyt.yellow_trip_data\n",
    "LIMIT 100"
   ]
  },
  {
   "cell_type": "code",
   "execution_count": 30,
   "id": "c4f039f2-fe90-4b90-9f65-0bd8489e621c",
   "metadata": {},
   "outputs": [
    {
     "data": {
      "text/html": [
       "<span style=\"None\">Running query in &#x27;trino://admin@10.143.11.241:8443/hive&#x27;</span>"
      ],
      "text/plain": [
       "Running query in 'trino://admin@10.143.11.241:8443/hive'"
      ]
     },
     "metadata": {},
     "output_type": "display_data"
    },
    {
     "data": {
      "text/html": [
       "<table>\n",
       "    <thead>\n",
       "        <tr>\n",
       "            <th>Create Table</th>\n",
       "        </tr>\n",
       "    </thead>\n",
       "    <tbody>\n",
       "        <tr>\n",
       "            <td>CREATE TABLE hive.nyt.yellow_trip_data (<br>   vendorid varchar,<br>   tpep_pickup_datetime varchar,<br>   tpep_dropoff_datetime varchar,<br>   passenger_count bigint,<br>   trip_distance double,<br>   ratecodeid bigint,<br>   store_and_fwd_flag double,<br>   pulocationid integer,<br>   dolocationid integer,<br>   payment_type varchar,<br>   fare_amount double,<br>   extra double,<br>   mta_tax double,<br>   tip_amount double,<br>   tolls_amount double,<br>   improvement_surcharge double,<br>   total_amount double,<br>   congestion_surcharge double,<br>   airport_fee double,<br>   dropoff_latitude double,<br>   dropoff_longitude double,<br>   pickup_latitude double,<br>   pickup_longitude double,<br>   surcharge double<br>)<br>WITH (<br>   external_location = 's3a://csnow-bucket/yellow_tripdata',<br>   format = 'PARQUET'<br>)</td>\n",
       "        </tr>\n",
       "    </tbody>\n",
       "</table>"
      ],
      "text/plain": [
       "+--------------------------------------------------------------+\n",
       "|                         Create Table                         |\n",
       "+--------------------------------------------------------------+\n",
       "|           CREATE TABLE hive.nyt.yellow_trip_data (           |\n",
       "|                        vendorid varchar,                     |\n",
       "|                  tpep_pickup_datetime varchar,               |\n",
       "|                 tpep_dropoff_datetime varchar,               |\n",
       "|                     passenger_count bigint,                  |\n",
       "|                      trip_distance double,                   |\n",
       "|                       ratecodeid bigint,                     |\n",
       "|                   store_and_fwd_flag double,                 |\n",
       "|                      pulocationid integer,                   |\n",
       "|                      dolocationid integer,                   |\n",
       "|                      payment_type varchar,                   |\n",
       "|                       fare_amount double,                    |\n",
       "|                          extra double,                       |\n",
       "|                         mta_tax double,                      |\n",
       "|                       tip_amount double,                     |\n",
       "|                      tolls_amount double,                    |\n",
       "|                  improvement_surcharge double,               |\n",
       "|                      total_amount double,                    |\n",
       "|                  congestion_surcharge double,                |\n",
       "|                       airport_fee double,                    |\n",
       "|                    dropoff_latitude double,                  |\n",
       "|                    dropoff_longitude double,                 |\n",
       "|                     pickup_latitude double,                  |\n",
       "|                    pickup_longitude double,                  |\n",
       "|                        surcharge double                      |\n",
       "|                              )                               |\n",
       "|                            WITH (                            |\n",
       "|    external_location = 's3a://csnow-bucket/yellow_tripdata', |\n",
       "|                       format = 'PARQUET'                     |\n",
       "|                              )                               |\n",
       "+--------------------------------------------------------------+"
      ]
     },
     "execution_count": 30,
     "metadata": {},
     "output_type": "execute_result"
    }
   ],
   "source": [
    "%%sql\n",
    "\n",
    "SHOW CREATE TABLE nyt.yellow_trip_data"
   ]
  },
  {
   "cell_type": "code",
   "execution_count": 31,
   "id": "4cfe6f9b-1284-41eb-b13d-336ae5e1b45c",
   "metadata": {},
   "outputs": [
    {
     "data": {
      "text/html": [
       "<span style=\"None\">Running query in &#x27;trino://admin@10.143.11.241:8443/hive&#x27;</span>"
      ],
      "text/plain": [
       "Running query in 'trino://admin@10.143.11.241:8443/hive'"
      ]
     },
     "metadata": {},
     "output_type": "display_data"
    },
    {
     "data": {
      "text/html": [
       "<table>\n",
       "    <thead>\n",
       "        <tr>\n",
       "            <th>Query Plan</th>\n",
       "        </tr>\n",
       "    </thead>\n",
       "    <tbody>\n",
       "        <tr>\n",
       "            <td>Trino version: 429<br>Fragment 0 [SINGLE]<br>    Output layout: [vendorid, tpep_pickup_datetime, tpep_dropoff_datetime, passenger_count, trip_distance, ratecodeid, store_and_fwd_flag, pulocationid, dolocationid, payment_type, fare_amount, extra, mta_tax, tip_amount, tolls_amount, improvement_surcharge, total_amount, congestion_surcharge, airport_fee, dropoff_latitude, dropoff_longitude, pickup_latitude, pickup_longitude, surcharge]<br>    Output partitioning: SINGLE []<br>    Output[columnNames = [vendorid, tpep_pickup_datetime, tpep_dropoff_datetime, passenger_count, trip_distance, ratecodeid, store_and_fwd_flag, pulocationid, dolocationid, payment_type, fare_amount, extra, mta_tax, tip_amount, tolls_amount, improvement_surcharge, total_amount, congestion_surcharge, airport_fee, dropoff_latitude, dropoff_longitude, pickup_latitude, pickup_longitude, surcharge]]<br>    │   Layout: [vendorid:varchar, tpep_pickup_datetime:varchar, tpep_dropoff_datetime:varchar, passenger_count:bigint, trip_distance:double, ratecodeid:bigint, store_and_fwd_flag:double, pulocationid:integer, dolocationid:integer, payment_type:varchar, fare_amount:double, extra:double, mta_tax:double, tip_amount:double, tolls_amount:double, improvement_surcharge:double, total_amount:double, congestion_surcharge:double, airport_fee:double, dropoff_latitude:double, dropoff_longitude:double, pickup_latitude:double, pickup_longitude:double, surcharge:double]<br>    │   Estimates: {rows: 100 (38.28kB), cpu: 0, memory: 0B, network: 0B}<br>    └─ Limit[count = 100]<br>       │   Layout: [vendorid:varchar, tpep_pickup_datetime:varchar, tpep_dropoff_datetime:varchar, passenger_count:bigint, trip_distance:double, ratecodeid:bigint, store_and_fwd_flag:double, pulocationid:integer, dolocationid:integer, payment_type:varchar, fare_amount:double, extra:double, mta_tax:double, tip_amount:double, tolls_amount:double, improvement_surcharge:double, total_amount:double, congestion_surcharge:double, airport_fee:double, dropoff_latitude:double, dropoff_longitude:double, pickup_latitude:double, pickup_longitude:double, surcharge:double]<br>       │   Estimates: {rows: 100 (38.28kB), cpu: 38.28k, memory: 0B, network: 0B}<br>       └─ LocalExchange[partitioning = SINGLE]<br>          │   Layout: [vendorid:varchar, tpep_pickup_datetime:varchar, tpep_dropoff_datetime:varchar, passenger_count:bigint, trip_distance:double, ratecodeid:bigint, store_and_fwd_flag:double, pulocationid:integer, dolocationid:integer, payment_type:varchar, fare_amount:double, extra:double, mta_tax:double, tip_amount:double, tolls_amount:double, improvement_surcharge:double, total_amount:double, congestion_surcharge:double, airport_fee:double, dropoff_latitude:double, dropoff_longitude:double, pickup_latitude:double, pickup_longitude:double, surcharge:double]<br>          │   Estimates: {rows: 100 (38.28kB), cpu: 0, memory: 0B, network: 0B}<br>          └─ RemoteSource[sourceFragmentIds = [1]]<br>                 Layout: [vendorid:varchar, tpep_pickup_datetime:varchar, tpep_dropoff_datetime:varchar, passenger_count:bigint, trip_distance:double, ratecodeid:bigint, store_and_fwd_flag:double, pulocationid:integer, dolocationid:integer, payment_type:varchar, fare_amount:double, extra:double, mta_tax:double, tip_amount:double, tolls_amount:double, improvement_surcharge:double, total_amount:double, congestion_surcharge:double, airport_fee:double, dropoff_latitude:double, dropoff_longitude:double, pickup_latitude:double, pickup_longitude:double, surcharge:double]<br><br>Fragment 1 [SOURCE]<br>    Output layout: [vendorid, tpep_pickup_datetime, tpep_dropoff_datetime, passenger_count, trip_distance, ratecodeid, store_and_fwd_flag, pulocationid, dolocationid, payment_type, fare_amount, extra, mta_tax, tip_amount, tolls_amount, improvement_surcharge, total_amount, congestion_surcharge, airport_fee, dropoff_latitude, dropoff_longitude, pickup_latitude, pickup_longitude, surcharge]<br>    Output partitioning: SINGLE []<br>    LimitPartial[count = 100]<br>    │   Layout: [vendorid:varchar, tpep_pickup_datetime:varchar, tpep_dropoff_datetime:varchar, passenger_count:bigint, trip_distance:double, ratecodeid:bigint, store_and_fwd_flag:double, pulocationid:integer, dolocationid:integer, payment_type:varchar, fare_amount:double, extra:double, mta_tax:double, tip_amount:double, tolls_amount:double, improvement_surcharge:double, total_amount:double, congestion_surcharge:double, airport_fee:double, dropoff_latitude:double, dropoff_longitude:double, pickup_latitude:double, pickup_longitude:double, surcharge:double]<br>    │   Estimates: {rows: 100 (38.28kB), cpu: 38.28k, memory: 0B, network: 0B}<br>    └─ TableScan[table = hive:nyt:yellow_trip_data]<br>           Layout: [vendorid:varchar, tpep_pickup_datetime:varchar, tpep_dropoff_datetime:varchar, passenger_count:bigint, trip_distance:double, ratecodeid:bigint, store_and_fwd_flag:double, pulocationid:integer, dolocationid:integer, payment_type:varchar, fare_amount:double, extra:double, mta_tax:double, tip_amount:double, tolls_amount:double, improvement_surcharge:double, total_amount:double, congestion_surcharge:double, airport_fee:double, dropoff_latitude:double, dropoff_longitude:double, pickup_latitude:double, pickup_longitude:double, surcharge:double]<br>           Estimates: {rows: ? (?), cpu: ?, memory: 0B, network: 0B}<br>           surcharge := surcharge:double:REGULAR<br>           fare_amount := fare_amount:double:REGULAR<br>           pickup_longitude := pickup_longitude:double:REGULAR<br>           tpep_dropoff_datetime := tpep_dropoff_datetime:string:REGULAR<br>           congestion_surcharge := congestion_surcharge:double:REGULAR<br>           vendorid := vendorid:string:REGULAR<br>           passenger_count := passenger_count:bigint:REGULAR<br>           tolls_amount := tolls_amount:double:REGULAR<br>           improvement_surcharge := improvement_surcharge:double:REGULAR<br>           dropoff_latitude := dropoff_latitude:double:REGULAR<br>           trip_distance := trip_distance:double:REGULAR<br>           dolocationid := dolocationid:int:REGULAR<br>           pulocationid := pulocationid:int:REGULAR<br>           store_and_fwd_flag := store_and_fwd_flag:double:REGULAR<br>           payment_type := payment_type:string:REGULAR<br>           dropoff_longitude := dropoff_longitude:double:REGULAR<br>           ratecodeid := ratecodeid:bigint:REGULAR<br>           total_amount := total_amount:double:REGULAR<br>           pickup_latitude := pickup_latitude:double:REGULAR<br>           extra := extra:double:REGULAR<br>           tip_amount := tip_amount:double:REGULAR<br>           mta_tax := mta_tax:double:REGULAR<br>           airport_fee := airport_fee:double:REGULAR<br>           tpep_pickup_datetime := tpep_pickup_datetime:string:REGULAR<br><br></td>\n",
       "        </tr>\n",
       "    </tbody>\n",
       "</table>"
      ],
      "text/plain": [
       "+--------------------------------------------------------------------------------------------------------------------------------------------------------------------------------------------------------------------------------------------------------------------------------------------------------------------------------------------------------------------------------------------------------------------------------------------------------------------------------------------------------------------------------------------------------------------------------------------+\n",
       "|                                                                                                                                                                                                                                                                                         Query Plan                                                                                                                                                                                                                                                                                         |\n",
       "+--------------------------------------------------------------------------------------------------------------------------------------------------------------------------------------------------------------------------------------------------------------------------------------------------------------------------------------------------------------------------------------------------------------------------------------------------------------------------------------------------------------------------------------------------------------------------------------------+\n",
       "|                                                                                                                                                                                                                                                                                     Trino version: 429                                                                                                                                                                                                                                                                                     |\n",
       "|                                                                                                                                                                                                                                                                                    Fragment 0 [SINGLE]                                                                                                                                                                                                                                                                                     |\n",
       "|                                                                                               Output layout: [vendorid, tpep_pickup_datetime, tpep_dropoff_datetime, passenger_count, trip_distance, ratecodeid, store_and_fwd_flag, pulocationid, dolocationid, payment_type, fare_amount, extra, mta_tax, tip_amount, tolls_amount, improvement_surcharge, total_amount, congestion_surcharge, airport_fee, dropoff_latitude, dropoff_longitude, pickup_latitude, pickup_longitude, surcharge]                                                                                           |\n",
       "|                                                                                                                                                                                                                                                                                 Output partitioning: SINGLE []                                                                                                                                                                                                                                                                             |\n",
       "|                                                                                           Output[columnNames = [vendorid, tpep_pickup_datetime, tpep_dropoff_datetime, passenger_count, trip_distance, ratecodeid, store_and_fwd_flag, pulocationid, dolocationid, payment_type, fare_amount, extra, mta_tax, tip_amount, tolls_amount, improvement_surcharge, total_amount, congestion_surcharge, airport_fee, dropoff_latitude, dropoff_longitude, pickup_latitude, pickup_longitude, surcharge]]                                                                                        |\n",
       "|         │   Layout: [vendorid:varchar, tpep_pickup_datetime:varchar, tpep_dropoff_datetime:varchar, passenger_count:bigint, trip_distance:double, ratecodeid:bigint, store_and_fwd_flag:double, pulocationid:integer, dolocationid:integer, payment_type:varchar, fare_amount:double, extra:double, mta_tax:double, tip_amount:double, tolls_amount:double, improvement_surcharge:double, total_amount:double, congestion_surcharge:double, airport_fee:double, dropoff_latitude:double, dropoff_longitude:double, pickup_latitude:double, pickup_longitude:double, surcharge:double]      |\n",
       "|                                                                                                                                                                                                                                                             │   Estimates: {rows: 100 (38.28kB), cpu: 0, memory: 0B, network: 0B}                                                                                                                                                                                                                                                          |\n",
       "|                                                                                                                                                                                                                                                                                     └─ Limit[count = 100]                                                                                                                                                                                                                                                                                  |\n",
       "|           │   Layout: [vendorid:varchar, tpep_pickup_datetime:varchar, tpep_dropoff_datetime:varchar, passenger_count:bigint, trip_distance:double, ratecodeid:bigint, store_and_fwd_flag:double, pulocationid:integer, dolocationid:integer, payment_type:varchar, fare_amount:double, extra:double, mta_tax:double, tip_amount:double, tolls_amount:double, improvement_surcharge:double, total_amount:double, congestion_surcharge:double, airport_fee:double, dropoff_latitude:double, dropoff_longitude:double, pickup_latitude:double, pickup_longitude:double, surcharge:double]    |\n",
       "|                                                                                                                                                                                                                                                            │   Estimates: {rows: 100 (38.28kB), cpu: 38.28k, memory: 0B, network: 0B}                                                                                                                                                                                                                                                      |\n",
       "|                                                                                                                                                                                                                                                                              └─ LocalExchange[partitioning = SINGLE]                                                                                                                                                                                                                                                                       |\n",
       "|            │   Layout: [vendorid:varchar, tpep_pickup_datetime:varchar, tpep_dropoff_datetime:varchar, passenger_count:bigint, trip_distance:double, ratecodeid:bigint, store_and_fwd_flag:double, pulocationid:integer, dolocationid:integer, payment_type:varchar, fare_amount:double, extra:double, mta_tax:double, tip_amount:double, tolls_amount:double, improvement_surcharge:double, total_amount:double, congestion_surcharge:double, airport_fee:double, dropoff_latitude:double, dropoff_longitude:double, pickup_latitude:double, pickup_longitude:double, surcharge:double]   |\n",
       "|                                                                                                                                                                                                                                                                │   Estimates: {rows: 100 (38.28kB), cpu: 0, memory: 0B, network: 0B}                                                                                                                                                                                                                                                       |\n",
       "|                                                                                                                                                                                                                                                                               └─ RemoteSource[sourceFragmentIds = [1]]                                                                                                                                                                                                                                                                     |\n",
       "|                  Layout: [vendorid:varchar, tpep_pickup_datetime:varchar, tpep_dropoff_datetime:varchar, passenger_count:bigint, trip_distance:double, ratecodeid:bigint, store_and_fwd_flag:double, pulocationid:integer, dolocationid:integer, payment_type:varchar, fare_amount:double, extra:double, mta_tax:double, tip_amount:double, tolls_amount:double, improvement_surcharge:double, total_amount:double, congestion_surcharge:double, airport_fee:double, dropoff_latitude:double, dropoff_longitude:double, pickup_latitude:double, pickup_longitude:double, surcharge:double] |\n",
       "|                                                                                                                                                                                                                                                                                                                                                                                                                                                                                                                                                                                            |\n",
       "|                                                                                                                                                                                                                                                                                    Fragment 1 [SOURCE]                                                                                                                                                                                                                                                                                     |\n",
       "|                                                                                               Output layout: [vendorid, tpep_pickup_datetime, tpep_dropoff_datetime, passenger_count, trip_distance, ratecodeid, store_and_fwd_flag, pulocationid, dolocationid, payment_type, fare_amount, extra, mta_tax, tip_amount, tolls_amount, improvement_surcharge, total_amount, congestion_surcharge, airport_fee, dropoff_latitude, dropoff_longitude, pickup_latitude, pickup_longitude, surcharge]                                                                                           |\n",
       "|                                                                                                                                                                                                                                                                                 Output partitioning: SINGLE []                                                                                                                                                                                                                                                                             |\n",
       "|                                                                                                                                                                                                                                                                                   LimitPartial[count = 100]                                                                                                                                                                                                                                                                                |\n",
       "|         │   Layout: [vendorid:varchar, tpep_pickup_datetime:varchar, tpep_dropoff_datetime:varchar, passenger_count:bigint, trip_distance:double, ratecodeid:bigint, store_and_fwd_flag:double, pulocationid:integer, dolocationid:integer, payment_type:varchar, fare_amount:double, extra:double, mta_tax:double, tip_amount:double, tolls_amount:double, improvement_surcharge:double, total_amount:double, congestion_surcharge:double, airport_fee:double, dropoff_latitude:double, dropoff_longitude:double, pickup_latitude:double, pickup_longitude:double, surcharge:double]      |\n",
       "|                                                                                                                                                                                                                                                           │   Estimates: {rows: 100 (38.28kB), cpu: 38.28k, memory: 0B, network: 0B}                                                                                                                                                                                                                                                       |\n",
       "|                                                                                                                                                                                                                                                                        └─ TableScan[table = hive:nyt:yellow_trip_data]                                                                                                                                                                                                                                                                     |\n",
       "|               Layout: [vendorid:varchar, tpep_pickup_datetime:varchar, tpep_dropoff_datetime:varchar, passenger_count:bigint, trip_distance:double, ratecodeid:bigint, store_and_fwd_flag:double, pulocationid:integer, dolocationid:integer, payment_type:varchar, fare_amount:double, extra:double, mta_tax:double, tip_amount:double, tolls_amount:double, improvement_surcharge:double, total_amount:double, congestion_surcharge:double, airport_fee:double, dropoff_latitude:double, dropoff_longitude:double, pickup_latitude:double, pickup_longitude:double, surcharge:double]    |\n",
       "|                                                                                                                                                                                                                                                                       Estimates: {rows: ? (?), cpu: ?, memory: 0B, network: 0B}                                                                                                                                                                                                                                                            |\n",
       "|                                                                                                                                                                                                                                                                                 surcharge := surcharge:double:REGULAR                                                                                                                                                                                                                                                                      |\n",
       "|                                                                                                                                                                                                                                                                               fare_amount := fare_amount:double:REGULAR                                                                                                                                                                                                                                                                    |\n",
       "|                                                                                                                                                                                                                                                                          pickup_longitude := pickup_longitude:double:REGULAR                                                                                                                                                                                                                                                               |\n",
       "|                                                                                                                                                                                                                                                                     tpep_dropoff_datetime := tpep_dropoff_datetime:string:REGULAR                                                                                                                                                                                                                                                          |\n",
       "|                                                                                                                                                                                                                                                                      congestion_surcharge := congestion_surcharge:double:REGULAR                                                                                                                                                                                                                                                           |\n",
       "|                                                                                                                                                                                                                                                                                  vendorid := vendorid:string:REGULAR                                                                                                                                                                                                                                                                       |\n",
       "|                                                                                                                                                                                                                                                                           passenger_count := passenger_count:bigint:REGULAR                                                                                                                                                                                                                                                                |\n",
       "|                                                                                                                                                                                                                                                                              tolls_amount := tolls_amount:double:REGULAR                                                                                                                                                                                                                                                                   |\n",
       "|                                                                                                                                                                                                                                                                     improvement_surcharge := improvement_surcharge:double:REGULAR                                                                                                                                                                                                                                                          |\n",
       "|                                                                                                                                                                                                                                                                          dropoff_latitude := dropoff_latitude:double:REGULAR                                                                                                                                                                                                                                                               |\n",
       "|                                                                                                                                                                                                                                                                             trip_distance := trip_distance:double:REGULAR                                                                                                                                                                                                                                                                  |\n",
       "|                                                                                                                                                                                                                                                                               dolocationid := dolocationid:int:REGULAR                                                                                                                                                                                                                                                                     |\n",
       "|                                                                                                                                                                                                                                                                               pulocationid := pulocationid:int:REGULAR                                                                                                                                                                                                                                                                     |\n",
       "|                                                                                                                                                                                                                                                                        store_and_fwd_flag := store_and_fwd_flag:double:REGULAR                                                                                                                                                                                                                                                             |\n",
       "|                                                                                                                                                                                                                                                                              payment_type := payment_type:string:REGULAR                                                                                                                                                                                                                                                                   |\n",
       "|                                                                                                                                                                                                                                                                         dropoff_longitude := dropoff_longitude:double:REGULAR                                                                                                                                                                                                                                                              |\n",
       "|                                                                                                                                                                                                                                                                                ratecodeid := ratecodeid:bigint:REGULAR                                                                                                                                                                                                                                                                     |\n",
       "|                                                                                                                                                                                                                                                                              total_amount := total_amount:double:REGULAR                                                                                                                                                                                                                                                                   |\n",
       "|                                                                                                                                                                                                                                                                           pickup_latitude := pickup_latitude:double:REGULAR                                                                                                                                                                                                                                                                |\n",
       "|                                                                                                                                                                                                                                                                                     extra := extra:double:REGULAR                                                                                                                                                                                                                                                                          |\n",
       "|                                                                                                                                                                                                                                                                                tip_amount := tip_amount:double:REGULAR                                                                                                                                                                                                                                                                     |\n",
       "|                                                                                                                                                                                                                                                                                   mta_tax := mta_tax:double:REGULAR                                                                                                                                                                                                                                                                        |\n",
       "|                                                                                                                                                                                                                                                                               airport_fee := airport_fee:double:REGULAR                                                                                                                                                                                                                                                                    |\n",
       "|                                                                                                                                                                                                                                                                      tpep_pickup_datetime := tpep_pickup_datetime:string:REGULAR                                                                                                                                                                                                                                                           |\n",
       "|                                                                                                                                                                                                                                                                                                                                                                                                                                                                                                                                                                                            |\n",
       "|                                                                                                                                                                                                                                                                                                                                                                                                                                                                                                                                                                                            |\n",
       "+--------------------------------------------------------------------------------------------------------------------------------------------------------------------------------------------------------------------------------------------------------------------------------------------------------------------------------------------------------------------------------------------------------------------------------------------------------------------------------------------------------------------------------------------------------------------------------------------+"
      ]
     },
     "execution_count": 31,
     "metadata": {},
     "output_type": "execute_result"
    }
   ],
   "source": [
    "%%sql\n",
    "\n",
    "EXPLAIN\n",
    "    SELECT *\n",
    "    FROM nyt.yellow_trip_data\n",
    "    LIMIT 100\n"
   ]
  },
  {
   "cell_type": "code",
   "execution_count": null,
   "id": "db849f0a-cad7-471c-bcdd-a01c8f581054",
   "metadata": {},
   "outputs": [],
   "source": []
  },
  {
   "cell_type": "code",
   "execution_count": null,
   "id": "822037d5-2d42-4c75-a6ae-ace6dbd7bc9f",
   "metadata": {},
   "outputs": [],
   "source": []
  }
 ],
 "metadata": {
  "kernelspec": {
   "display_name": "Python 3 (ipykernel)",
   "language": "python",
   "name": "python3"
  },
  "language_info": {
   "codemirror_mode": {
    "name": "ipython",
    "version": 3
   },
   "file_extension": ".py",
   "mimetype": "text/x-python",
   "name": "python",
   "nbconvert_exporter": "python",
   "pygments_lexer": "ipython3",
   "version": "3.12.7"
  }
 },
 "nbformat": 4,
 "nbformat_minor": 5
}

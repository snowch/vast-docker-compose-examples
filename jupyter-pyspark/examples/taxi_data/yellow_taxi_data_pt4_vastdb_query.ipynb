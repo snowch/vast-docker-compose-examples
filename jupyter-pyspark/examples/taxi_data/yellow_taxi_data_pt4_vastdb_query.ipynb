{
 "cells": [
  {
   "cell_type": "markdown",
   "id": "10fed33d-be68-4c1b-a045-30f853f1e6a5",
   "metadata": {},
   "source": [
    "# Yellow Taxi Data query in Vast DB - Part 4"
   ]
  },
  {
   "cell_type": "markdown",
   "id": "cdb975fc-e192-4f5e-a9e3-3967a86e7574",
   "metadata": {},
   "source": [
    "In this we verify the data imported into Vast DB can be queried.\n",
    "\n",
    "<div class=\"alert alert-block alert-info\">\n",
    "💡 <b>NOTE</b>\n",
    "<br/>\n",
    "<ul>\n",
    "<li>The <b>trino</b> project need to be running for this notebook.</li>\n",
    "<li>You can run projects with `cd trino && docker compose up -d --wait`.\n",
    "</div>\n"
   ]
  },
  {
   "cell_type": "code",
   "execution_count": 1,
   "id": "d3c30da6-abce-4090-80e7-452dbb55529e",
   "metadata": {},
   "outputs": [
    {
     "data": {
      "text/html": [
       "<span style=\"None\">Connecting to &#x27;trino://admin@se-var-vastdb-ingest:8443/vast&#x27;</span>"
      ],
      "text/plain": [
       "Connecting to 'trino://admin@se-var-vastdb-ingest:8443/vast'"
      ]
     },
     "metadata": {},
     "output_type": "display_data"
    }
   ],
   "source": [
    "import urllib3\n",
    "urllib3.disable_warnings(urllib3.exceptions.InsecureRequestWarning)\n",
    "\n",
    "%load_ext sql\n",
    "%sql trino://admin@${DOCKER_HOST_OR_IP}:8443/vast  --connection_arguments '{\"http_scheme\":\"https\", \"verify\": false}'"
   ]
  },
  {
   "cell_type": "code",
   "execution_count": 2,
   "id": "ddf60b6b-5ab1-4e6b-ad6c-99e10b389f11",
   "metadata": {},
   "outputs": [
    {
     "data": {
      "text/html": [
       "<span style=\"None\">Running query in &#x27;trino://admin@se-var-vastdb-ingest:8443/vast&#x27;</span>"
      ],
      "text/plain": [
       "Running query in 'trino://admin@se-var-vastdb-ingest:8443/vast'"
      ]
     },
     "metadata": {},
     "output_type": "display_data"
    },
    {
     "data": {
      "text/html": [
       "<table>\n",
       "    <thead>\n",
       "        <tr>\n",
       "            <th>Schema</th>\n",
       "        </tr>\n",
       "    </thead>\n",
       "    <tbody>\n",
       "        <tr>\n",
       "            <td>cosmos-db|rag-schema</td>\n",
       "        </tr>\n",
       "        <tr>\n",
       "            <td>csnowdb|nyc_data</td>\n",
       "        </tr>\n",
       "        <tr>\n",
       "            <td>csnowdb|nyt</td>\n",
       "        </tr>\n",
       "        <tr>\n",
       "            <td>csnowdb|social_media</td>\n",
       "        </tr>\n",
       "        <tr>\n",
       "            <td>demodbs|auditcopy</td>\n",
       "        </tr>\n",
       "        <tr>\n",
       "            <td>information_schema</td>\n",
       "        </tr>\n",
       "        <tr>\n",
       "            <td>petika-db|catalog</td>\n",
       "        </tr>\n",
       "        <tr>\n",
       "            <td>petika-db|raw</td>\n",
       "        </tr>\n",
       "        <tr>\n",
       "            <td>system_schema</td>\n",
       "        </tr>\n",
       "        <tr>\n",
       "            <td>vast-audit-log-bucket|vast_audit_log_schema</td>\n",
       "        </tr>\n",
       "    </tbody>\n",
       "</table>\n",
       "<span style=\"font-style:italic;text-align:center;\">Truncated to <a href=\"https://jupysql.ploomber.io/en/latest/api/configuration.html#displaylimit\">displaylimit</a> of 10.</span>"
      ],
      "text/plain": [
       "+---------------------------------------------+\n",
       "|                    Schema                   |\n",
       "+---------------------------------------------+\n",
       "|             cosmos-db|rag-schema            |\n",
       "|               csnowdb|nyc_data              |\n",
       "|                 csnowdb|nyt                 |\n",
       "|             csnowdb|social_media            |\n",
       "|              demodbs|auditcopy              |\n",
       "|              information_schema             |\n",
       "|              petika-db|catalog              |\n",
       "|                petika-db|raw                |\n",
       "|                system_schema                |\n",
       "| vast-audit-log-bucket|vast_audit_log_schema |\n",
       "+---------------------------------------------+\n",
       "Truncated to displaylimit of 10."
      ]
     },
     "execution_count": 2,
     "metadata": {},
     "output_type": "execute_result"
    }
   ],
   "source": [
    "%%sql\n",
    "\n",
    "show schemas in vast"
   ]
  },
  {
   "cell_type": "code",
   "execution_count": 3,
   "id": "e86abfa6-1553-4463-a72e-84fd5d9d0fa7",
   "metadata": {},
   "outputs": [
    {
     "name": "stdout",
     "output_type": "stream",
     "text": [
      "csnowdb nyt taxi\n"
     ]
    }
   ],
   "source": [
    "import os\n",
    "VASTDB_NYT_BUCKET = os.getenv('VASTDB_NYT_BUCKET')\n",
    "VASTDB_NYT_SCHEMA = os.getenv('VASTDB_NYT_SCHEMA')\n",
    "VASTDB_NYT_TABLE = os.getenv('VASTDB_NYT_TABLE')\n",
    "\n",
    "print(VASTDB_NYT_BUCKET, VASTDB_NYT_SCHEMA, VASTDB_NYT_TABLE)"
   ]
  },
  {
   "cell_type": "code",
   "execution_count": 4,
   "id": "8c7f3b16-2b25-4b28-825e-e898ae6aaa50",
   "metadata": {},
   "outputs": [
    {
     "data": {
      "text/html": [
       "<span style=\"None\">Running query in &#x27;trino://admin@se-var-vastdb-ingest:8443/vast&#x27;</span>"
      ],
      "text/plain": [
       "Running query in 'trino://admin@se-var-vastdb-ingest:8443/vast'"
      ]
     },
     "metadata": {},
     "output_type": "display_data"
    },
    {
     "data": {
      "text/html": [
       "<table>\n",
       "    <thead>\n",
       "        <tr>\n",
       "            <th>Table</th>\n",
       "        </tr>\n",
       "    </thead>\n",
       "    <tbody>\n",
       "        <tr>\n",
       "            <td>taxi</td>\n",
       "        </tr>\n",
       "    </tbody>\n",
       "</table>"
      ],
      "text/plain": [
       "+-------+\n",
       "| Table |\n",
       "+-------+\n",
       "|  taxi |\n",
       "+-------+"
      ]
     },
     "execution_count": 4,
     "metadata": {},
     "output_type": "execute_result"
    }
   ],
   "source": [
    "%%sql\n",
    "    \n",
    "show tables in vast.\"{{VASTDB_NYT_BUCKET}}|{{VASTDB_NYT_SCHEMA}}\""
   ]
  },
  {
   "cell_type": "code",
   "execution_count": 5,
   "id": "1a5cddf3-0297-40b6-a604-57efc6dc94ac",
   "metadata": {},
   "outputs": [
    {
     "data": {
      "text/html": [
       "<span style=\"None\">Running query in &#x27;trino://admin@se-var-vastdb-ingest:8443/vast&#x27;</span>"
      ],
      "text/plain": [
       "Running query in 'trino://admin@se-var-vastdb-ingest:8443/vast'"
      ]
     },
     "metadata": {},
     "output_type": "display_data"
    },
    {
     "data": {
      "text/html": [
       "<table>\n",
       "    <thead>\n",
       "        <tr>\n",
       "            <th>row_count</th>\n",
       "        </tr>\n",
       "    </thead>\n",
       "    <tbody>\n",
       "        <tr>\n",
       "            <td>1,763,456,499</td>\n",
       "        </tr>\n",
       "    </tbody>\n",
       "</table>"
      ],
      "text/plain": [
       "+---------------+\n",
       "|   row_count   |\n",
       "+---------------+\n",
       "| 1,763,456,499 |\n",
       "+---------------+"
      ]
     },
     "execution_count": 5,
     "metadata": {},
     "output_type": "execute_result"
    }
   ],
   "source": [
    "%%sql\n",
    "\n",
    "select \n",
    "    format('%,d', COUNT(*)) as row_count \n",
    "from\n",
    "    vast.\"{{VASTDB_NYT_BUCKET}}|{{VASTDB_NYT_SCHEMA}}\".{{VASTDB_NYT_TABLE}}"
   ]
  },
  {
   "cell_type": "code",
   "execution_count": 6,
   "id": "535a4aad-ca7f-4a42-ae40-9dc7e97f18fe",
   "metadata": {},
   "outputs": [
    {
     "data": {
      "text/html": [
       "<span style=\"None\">Running query in &#x27;trino://admin@se-var-vastdb-ingest:8443/vast&#x27;</span>"
      ],
      "text/plain": [
       "Running query in 'trino://admin@se-var-vastdb-ingest:8443/vast'"
      ]
     },
     "metadata": {},
     "output_type": "display_data"
    },
    {
     "data": {
      "text/html": [
       "<table>\n",
       "    <thead>\n",
       "        <tr>\n",
       "            <th>airport_fee</th>\n",
       "            <th>congestion_surcharge</th>\n",
       "            <th>dolocationid</th>\n",
       "            <th>dropoff_latitude</th>\n",
       "            <th>dropoff_longitude</th>\n",
       "            <th>extra</th>\n",
       "            <th>fare_amount</th>\n",
       "            <th>improvement_surcharge</th>\n",
       "            <th>mta_tax</th>\n",
       "            <th>passenger_count</th>\n",
       "            <th>payment_type</th>\n",
       "            <th>pulocationid</th>\n",
       "            <th>pickup_latitude</th>\n",
       "            <th>pickup_longitude</th>\n",
       "            <th>ratecodeid</th>\n",
       "            <th>store_and_fwd_flag</th>\n",
       "            <th>surcharge</th>\n",
       "            <th>tip_amount</th>\n",
       "            <th>tolls_amount</th>\n",
       "            <th>total_amount</th>\n",
       "            <th>tpep_dropoff_datetime</th>\n",
       "            <th>tpep_pickup_datetime</th>\n",
       "            <th>trip_distance</th>\n",
       "            <th>vendorid</th>\n",
       "        </tr>\n",
       "    </thead>\n",
       "    <tbody>\n",
       "        <tr>\n",
       "            <td>None</td>\n",
       "            <td>None</td>\n",
       "            <td>None</td>\n",
       "            <td>40.804997</td>\n",
       "            <td>-73.96602</td>\n",
       "            <td>None</td>\n",
       "            <td>17.3</td>\n",
       "            <td>None</td>\n",
       "            <td>0.5</td>\n",
       "            <td>2</td>\n",
       "            <td>Cre</td>\n",
       "            <td>None</td>\n",
       "            <td>40.746595</td>\n",
       "            <td>-73.982427</td>\n",
       "            <td>1</td>\n",
       "            <td>None</td>\n",
       "            <td>0.0</td>\n",
       "            <td>3.46</td>\n",
       "            <td>0.0</td>\n",
       "            <td>21.26</td>\n",
       "            <td>2010-06-08 12:26:00</td>\n",
       "            <td>2010-06-08 12:00:00</td>\n",
       "            <td>5.19</td>\n",
       "            <td>VTS</td>\n",
       "        </tr>\n",
       "        <tr>\n",
       "            <td>None</td>\n",
       "            <td>None</td>\n",
       "            <td>None</td>\n",
       "            <td>40.75108</td>\n",
       "            <td>-73.89033499999998</td>\n",
       "            <td>None</td>\n",
       "            <td>6.5</td>\n",
       "            <td>None</td>\n",
       "            <td>0.5</td>\n",
       "            <td>5</td>\n",
       "            <td>CAS</td>\n",
       "            <td>None</td>\n",
       "            <td>40.741745</td>\n",
       "            <td>-73.88093</td>\n",
       "            <td>1</td>\n",
       "            <td>None</td>\n",
       "            <td>0.5</td>\n",
       "            <td>0.0</td>\n",
       "            <td>0.0</td>\n",
       "            <td>7.5</td>\n",
       "            <td>2010-06-07 03:58:00</td>\n",
       "            <td>2010-06-07 03:51:00</td>\n",
       "            <td>1.3</td>\n",
       "            <td>VTS</td>\n",
       "        </tr>\n",
       "        <tr>\n",
       "            <td>None</td>\n",
       "            <td>None</td>\n",
       "            <td>None</td>\n",
       "            <td>40.749913</td>\n",
       "            <td>-73.99141</td>\n",
       "            <td>None</td>\n",
       "            <td>9.7</td>\n",
       "            <td>None</td>\n",
       "            <td>0.5</td>\n",
       "            <td>2</td>\n",
       "            <td>Cre</td>\n",
       "            <td>None</td>\n",
       "            <td>40.753177</td>\n",
       "            <td>-73.9721</td>\n",
       "            <td>1</td>\n",
       "            <td>None</td>\n",
       "            <td>1.0</td>\n",
       "            <td>2.0</td>\n",
       "            <td>0.0</td>\n",
       "            <td>13.2</td>\n",
       "            <td>2010-06-30 19:25:00</td>\n",
       "            <td>2010-06-30 19:08:00</td>\n",
       "            <td>1.66</td>\n",
       "            <td>VTS</td>\n",
       "        </tr>\n",
       "        <tr>\n",
       "            <td>None</td>\n",
       "            <td>None</td>\n",
       "            <td>None</td>\n",
       "            <td>40.76074</td>\n",
       "            <td>-73.998022</td>\n",
       "            <td>None</td>\n",
       "            <td>5.7</td>\n",
       "            <td>None</td>\n",
       "            <td>0.5</td>\n",
       "            <td>1</td>\n",
       "            <td>CAS</td>\n",
       "            <td>None</td>\n",
       "            <td>40.750298</td>\n",
       "            <td>-73.994845</td>\n",
       "            <td>1</td>\n",
       "            <td>None</td>\n",
       "            <td>0.0</td>\n",
       "            <td>0.0</td>\n",
       "            <td>0.0</td>\n",
       "            <td>6.2</td>\n",
       "            <td>2010-06-12 11:23:00</td>\n",
       "            <td>2010-06-12 11:16:00</td>\n",
       "            <td>1.03</td>\n",
       "            <td>VTS</td>\n",
       "        </tr>\n",
       "        <tr>\n",
       "            <td>None</td>\n",
       "            <td>None</td>\n",
       "            <td>None</td>\n",
       "            <td>40.77166</td>\n",
       "            <td>-73.947102</td>\n",
       "            <td>None</td>\n",
       "            <td>6.5</td>\n",
       "            <td>None</td>\n",
       "            <td>0.5</td>\n",
       "            <td>2</td>\n",
       "            <td>CAS</td>\n",
       "            <td>None</td>\n",
       "            <td>40.781223</td>\n",
       "            <td>-73.960577</td>\n",
       "            <td>1</td>\n",
       "            <td>None</td>\n",
       "            <td>0.0</td>\n",
       "            <td>0.0</td>\n",
       "            <td>0.0</td>\n",
       "            <td>7.0</td>\n",
       "            <td>2010-06-28 08:40:00</td>\n",
       "            <td>2010-06-28 08:32:00</td>\n",
       "            <td>1.27</td>\n",
       "            <td>VTS</td>\n",
       "        </tr>\n",
       "        <tr>\n",
       "            <td>None</td>\n",
       "            <td>None</td>\n",
       "            <td>None</td>\n",
       "            <td>40.725388</td>\n",
       "            <td>-74.00206799999998</td>\n",
       "            <td>None</td>\n",
       "            <td>7.3</td>\n",
       "            <td>None</td>\n",
       "            <td>0.5</td>\n",
       "            <td>3</td>\n",
       "            <td>CAS</td>\n",
       "            <td>None</td>\n",
       "            <td>40.739943</td>\n",
       "            <td>-73.990908</td>\n",
       "            <td>1</td>\n",
       "            <td>None</td>\n",
       "            <td>1.0</td>\n",
       "            <td>0.0</td>\n",
       "            <td>0.0</td>\n",
       "            <td>8.8</td>\n",
       "            <td>2010-06-30 19:25:00</td>\n",
       "            <td>2010-06-30 19:14:00</td>\n",
       "            <td>1.45</td>\n",
       "            <td>VTS</td>\n",
       "        </tr>\n",
       "        <tr>\n",
       "            <td>None</td>\n",
       "            <td>None</td>\n",
       "            <td>None</td>\n",
       "            <td>40.777671</td>\n",
       "            <td>-73.94597899999998</td>\n",
       "            <td>None</td>\n",
       "            <td>14.9</td>\n",
       "            <td>None</td>\n",
       "            <td>0.5</td>\n",
       "            <td>1</td>\n",
       "            <td>Cas</td>\n",
       "            <td>None</td>\n",
       "            <td>40.731727</td>\n",
       "            <td>-73.99682</td>\n",
       "            <td>1</td>\n",
       "            <td>None</td>\n",
       "            <td>0.0</td>\n",
       "            <td>0.0</td>\n",
       "            <td>0.0</td>\n",
       "            <td>15.4</td>\n",
       "            <td>2010-06-06 19:58:19</td>\n",
       "            <td>2010-06-06 19:39:14</td>\n",
       "            <td>4.9</td>\n",
       "            <td>CMT</td>\n",
       "        </tr>\n",
       "        <tr>\n",
       "            <td>None</td>\n",
       "            <td>None</td>\n",
       "            <td>None</td>\n",
       "            <td>40.792823</td>\n",
       "            <td>-73.974767</td>\n",
       "            <td>None</td>\n",
       "            <td>8.9</td>\n",
       "            <td>None</td>\n",
       "            <td>0.5</td>\n",
       "            <td>5</td>\n",
       "            <td>Cre</td>\n",
       "            <td>None</td>\n",
       "            <td>40.779318</td>\n",
       "            <td>-73.94467299999998</td>\n",
       "            <td>1</td>\n",
       "            <td>None</td>\n",
       "            <td>0.5</td>\n",
       "            <td>2.0</td>\n",
       "            <td>0.0</td>\n",
       "            <td>11.9</td>\n",
       "            <td>2010-06-02 20:23:00</td>\n",
       "            <td>2010-06-02 20:12:00</td>\n",
       "            <td>2.37</td>\n",
       "            <td>VTS</td>\n",
       "        </tr>\n",
       "        <tr>\n",
       "            <td>None</td>\n",
       "            <td>None</td>\n",
       "            <td>None</td>\n",
       "            <td>40.702112</td>\n",
       "            <td>-73.982758</td>\n",
       "            <td>None</td>\n",
       "            <td>5.7</td>\n",
       "            <td>None</td>\n",
       "            <td>0.5</td>\n",
       "            <td>2</td>\n",
       "            <td>Cre</td>\n",
       "            <td>None</td>\n",
       "            <td>40.689687</td>\n",
       "            <td>-73.973472</td>\n",
       "            <td>1</td>\n",
       "            <td>None</td>\n",
       "            <td>0.5</td>\n",
       "            <td>2.0</td>\n",
       "            <td>0.0</td>\n",
       "            <td>8.699999999999998</td>\n",
       "            <td>2010-06-09 21:54:00</td>\n",
       "            <td>2010-06-09 21:48:00</td>\n",
       "            <td>1.33</td>\n",
       "            <td>VTS</td>\n",
       "        </tr>\n",
       "        <tr>\n",
       "            <td>None</td>\n",
       "            <td>None</td>\n",
       "            <td>None</td>\n",
       "            <td>40.723255</td>\n",
       "            <td>-73.989483</td>\n",
       "            <td>None</td>\n",
       "            <td>9.3</td>\n",
       "            <td>None</td>\n",
       "            <td>0.5</td>\n",
       "            <td>1</td>\n",
       "            <td>Cre</td>\n",
       "            <td>None</td>\n",
       "            <td>40.694827</td>\n",
       "            <td>-73.983642</td>\n",
       "            <td>1</td>\n",
       "            <td>None</td>\n",
       "            <td>0.5</td>\n",
       "            <td>1.7</td>\n",
       "            <td>0.0</td>\n",
       "            <td>12.0</td>\n",
       "            <td>2010-06-06 01:30:00</td>\n",
       "            <td>2010-06-06 01:18:00</td>\n",
       "            <td>2.31</td>\n",
       "            <td>VTS</td>\n",
       "        </tr>\n",
       "    </tbody>\n",
       "</table>\n",
       "<span style=\"font-style:italic;text-align:center;\">Truncated to <a href=\"https://jupysql.ploomber.io/en/latest/api/configuration.html#displaylimit\">displaylimit</a> of 10.</span>"
      ],
      "text/plain": [
       "+-------------+----------------------+--------------+------------------+--------------------+-------+-------------+-----------------------+---------+-----------------+--------------+--------------+-----------------+--------------------+------------+--------------------+-----------+------------+--------------+-------------------+-----------------------+----------------------+---------------+----------+\n",
       "| airport_fee | congestion_surcharge | dolocationid | dropoff_latitude | dropoff_longitude  | extra | fare_amount | improvement_surcharge | mta_tax | passenger_count | payment_type | pulocationid | pickup_latitude |  pickup_longitude  | ratecodeid | store_and_fwd_flag | surcharge | tip_amount | tolls_amount |    total_amount   | tpep_dropoff_datetime | tpep_pickup_datetime | trip_distance | vendorid |\n",
       "+-------------+----------------------+--------------+------------------+--------------------+-------+-------------+-----------------------+---------+-----------------+--------------+--------------+-----------------+--------------------+------------+--------------------+-----------+------------+--------------+-------------------+-----------------------+----------------------+---------------+----------+\n",
       "|     None    |         None         |     None     |    40.804997     |     -73.96602      |  None |     17.3    |          None         |   0.5   |        2        |     Cre      |     None     |    40.746595    |     -73.982427     |     1      |        None        |    0.0    |    3.46    |     0.0      |       21.26       |  2010-06-08 12:26:00  | 2010-06-08 12:00:00  |      5.19     |   VTS    |\n",
       "|     None    |         None         |     None     |     40.75108     | -73.89033499999998 |  None |     6.5     |          None         |   0.5   |        5        |     CAS      |     None     |    40.741745    |     -73.88093      |     1      |        None        |    0.5    |    0.0     |     0.0      |        7.5        |  2010-06-07 03:58:00  | 2010-06-07 03:51:00  |      1.3      |   VTS    |\n",
       "|     None    |         None         |     None     |    40.749913     |     -73.99141      |  None |     9.7     |          None         |   0.5   |        2        |     Cre      |     None     |    40.753177    |      -73.9721      |     1      |        None        |    1.0    |    2.0     |     0.0      |        13.2       |  2010-06-30 19:25:00  | 2010-06-30 19:08:00  |      1.66     |   VTS    |\n",
       "|     None    |         None         |     None     |     40.76074     |     -73.998022     |  None |     5.7     |          None         |   0.5   |        1        |     CAS      |     None     |    40.750298    |     -73.994845     |     1      |        None        |    0.0    |    0.0     |     0.0      |        6.2        |  2010-06-12 11:23:00  | 2010-06-12 11:16:00  |      1.03     |   VTS    |\n",
       "|     None    |         None         |     None     |     40.77166     |     -73.947102     |  None |     6.5     |          None         |   0.5   |        2        |     CAS      |     None     |    40.781223    |     -73.960577     |     1      |        None        |    0.0    |    0.0     |     0.0      |        7.0        |  2010-06-28 08:40:00  | 2010-06-28 08:32:00  |      1.27     |   VTS    |\n",
       "|     None    |         None         |     None     |    40.725388     | -74.00206799999998 |  None |     7.3     |          None         |   0.5   |        3        |     CAS      |     None     |    40.739943    |     -73.990908     |     1      |        None        |    1.0    |    0.0     |     0.0      |        8.8        |  2010-06-30 19:25:00  | 2010-06-30 19:14:00  |      1.45     |   VTS    |\n",
       "|     None    |         None         |     None     |    40.777671     | -73.94597899999998 |  None |     14.9    |          None         |   0.5   |        1        |     Cas      |     None     |    40.731727    |     -73.99682      |     1      |        None        |    0.0    |    0.0     |     0.0      |        15.4       |  2010-06-06 19:58:19  | 2010-06-06 19:39:14  |      4.9      |   CMT    |\n",
       "|     None    |         None         |     None     |    40.792823     |     -73.974767     |  None |     8.9     |          None         |   0.5   |        5        |     Cre      |     None     |    40.779318    | -73.94467299999998 |     1      |        None        |    0.5    |    2.0     |     0.0      |        11.9       |  2010-06-02 20:23:00  | 2010-06-02 20:12:00  |      2.37     |   VTS    |\n",
       "|     None    |         None         |     None     |    40.702112     |     -73.982758     |  None |     5.7     |          None         |   0.5   |        2        |     Cre      |     None     |    40.689687    |     -73.973472     |     1      |        None        |    0.5    |    2.0     |     0.0      | 8.699999999999998 |  2010-06-09 21:54:00  | 2010-06-09 21:48:00  |      1.33     |   VTS    |\n",
       "|     None    |         None         |     None     |    40.723255     |     -73.989483     |  None |     9.3     |          None         |   0.5   |        1        |     Cre      |     None     |    40.694827    |     -73.983642     |     1      |        None        |    0.5    |    1.7     |     0.0      |        12.0       |  2010-06-06 01:30:00  | 2010-06-06 01:18:00  |      2.31     |   VTS    |\n",
       "+-------------+----------------------+--------------+------------------+--------------------+-------+-------------+-----------------------+---------+-----------------+--------------+--------------+-----------------+--------------------+------------+--------------------+-----------+------------+--------------+-------------------+-----------------------+----------------------+---------------+----------+\n",
       "Truncated to displaylimit of 10."
      ]
     },
     "execution_count": 6,
     "metadata": {},
     "output_type": "execute_result"
    }
   ],
   "source": [
    "%%sql\n",
    "\n",
    "SELECT\n",
    "    *\n",
    "FROM\n",
    "    vast.\"{{VASTDB_NYT_BUCKET}}|{{VASTDB_NYT_SCHEMA}}\".{{VASTDB_NYT_TABLE}}\n",
    "LIMIT 10"
   ]
  },
  {
   "cell_type": "code",
   "execution_count": null,
   "id": "33d0abc6-eca9-4249-871a-7a2119217555",
   "metadata": {},
   "outputs": [],
   "source": []
  }
 ],
 "metadata": {
  "kernelspec": {
   "display_name": "Python 3 (ipykernel)",
   "language": "python",
   "name": "python3"
  },
  "language_info": {
   "codemirror_mode": {
    "name": "ipython",
    "version": 3
   },
   "file_extension": ".py",
   "mimetype": "text/x-python",
   "name": "python",
   "nbconvert_exporter": "python",
   "pygments_lexer": "ipython3",
   "version": "3.12.7"
  }
 },
 "nbformat": 4,
 "nbformat_minor": 5
}

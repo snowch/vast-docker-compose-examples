{
 "cells": [
  {
   "cell_type": "markdown",
   "id": "10fed33d-be68-4c1b-a045-30f853f1e6a5",
   "metadata": {},
   "source": [
    "# Yellow Taxi Data query in Vast DB - Part 3"
   ]
  },
  {
   "cell_type": "code",
   "execution_count": 4,
   "id": "d3c30da6-abce-4090-80e7-452dbb55529e",
   "metadata": {},
   "outputs": [],
   "source": [
    "import urllib3\n",
    "\n",
    "urllib3.disable_warnings(urllib3.exceptions.InsecureRequestWarning)"
   ]
  },
  {
   "cell_type": "code",
   "execution_count": 5,
   "id": "c8c3b38b-d3d6-4ac6-a99c-31bb43285f24",
   "metadata": {},
   "outputs": [],
   "source": [
    "%load_ext sql"
   ]
  },
  {
   "cell_type": "code",
   "execution_count": 6,
   "id": "4f29846f-d23d-429a-bab2-5ba51d58593b",
   "metadata": {},
   "outputs": [
    {
     "data": {
      "text/html": [
       "<span style=\"None\">Connecting to &#x27;trino://admin@10.143.11.241:8443/vast&#x27;</span>"
      ],
      "text/plain": [
       "Connecting to 'trino://admin@10.143.11.241:8443/vast'"
      ]
     },
     "metadata": {},
     "output_type": "display_data"
    }
   ],
   "source": [
    "%sql trino://admin@${DOCKER_HOST_OR_IP}:8443/vast  --connection_arguments '{\"http_scheme\":\"https\", \"verify\": false}'"
   ]
  },
  {
   "cell_type": "code",
   "execution_count": 7,
   "id": "ddf60b6b-5ab1-4e6b-ad6c-99e10b389f11",
   "metadata": {},
   "outputs": [
    {
     "data": {
      "text/html": [
       "<span style=\"None\">Running query in &#x27;trino://admin@10.143.11.241:8443/vast&#x27;</span>"
      ],
      "text/plain": [
       "Running query in 'trino://admin@10.143.11.241:8443/vast'"
      ]
     },
     "metadata": {},
     "output_type": "display_data"
    },
    {
     "data": {
      "text/html": [
       "<table>\n",
       "    <thead>\n",
       "        <tr>\n",
       "            <th>Schema</th>\n",
       "        </tr>\n",
       "    </thead>\n",
       "    <tbody>\n",
       "        <tr>\n",
       "            <td>csnow-db|social_media</td>\n",
       "        </tr>\n",
       "        <tr>\n",
       "            <td>csnow-db|taxi</td>\n",
       "        </tr>\n",
       "        <tr>\n",
       "            <td>csnow-db|taxi_data</td>\n",
       "        </tr>\n",
       "        <tr>\n",
       "            <td>information_schema</td>\n",
       "        </tr>\n",
       "        <tr>\n",
       "            <td>system_schema</td>\n",
       "        </tr>\n",
       "        <tr>\n",
       "            <td>vast-audit-log-bucket|vast_audit_log_schema</td>\n",
       "        </tr>\n",
       "        <tr>\n",
       "            <td>vast-big-catalog-bucket|vast_big_catalog_schema</td>\n",
       "        </tr>\n",
       "    </tbody>\n",
       "</table>"
      ],
      "text/plain": [
       "+-------------------------------------------------+\n",
       "|                      Schema                     |\n",
       "+-------------------------------------------------+\n",
       "|              csnow-db|social_media              |\n",
       "|                  csnow-db|taxi                  |\n",
       "|                csnow-db|taxi_data               |\n",
       "|                information_schema               |\n",
       "|                  system_schema                  |\n",
       "|   vast-audit-log-bucket|vast_audit_log_schema   |\n",
       "| vast-big-catalog-bucket|vast_big_catalog_schema |\n",
       "+-------------------------------------------------+"
      ]
     },
     "execution_count": 7,
     "metadata": {},
     "output_type": "execute_result"
    }
   ],
   "source": [
    "%%sql\n",
    "\n",
    "show schemas in vast"
   ]
  },
  {
   "cell_type": "code",
   "execution_count": 15,
   "id": "e86abfa6-1553-4463-a72e-84fd5d9d0fa7",
   "metadata": {},
   "outputs": [
    {
     "name": "stdout",
     "output_type": "stream",
     "text": [
      "csnow-db\n"
     ]
    }
   ],
   "source": [
    "import os\n",
    "VASTDB_TWITTER_INGEST_BUCKET = os.getenv('VASTDB_TWITTER_INGEST_BUCKET')\n",
    "print(VASTDB_TWITTER_INGEST_BUCKET)"
   ]
  },
  {
   "cell_type": "code",
   "execution_count": 21,
   "id": "8c7f3b16-2b25-4b28-825e-e898ae6aaa50",
   "metadata": {},
   "outputs": [
    {
     "data": {
      "text/html": [
       "<span style=\"None\">Running query in &#x27;trino://admin@10.143.11.241:8443/vast&#x27;</span>"
      ],
      "text/plain": [
       "Running query in 'trino://admin@10.143.11.241:8443/vast'"
      ]
     },
     "metadata": {},
     "output_type": "display_data"
    },
    {
     "data": {
      "text/html": [
       "<table>\n",
       "    <thead>\n",
       "        <tr>\n",
       "            <th>Table</th>\n",
       "        </tr>\n",
       "    </thead>\n",
       "    <tbody>\n",
       "        <tr>\n",
       "            <td>yellow_tripdata</td>\n",
       "        </tr>\n",
       "    </tbody>\n",
       "</table>"
      ],
      "text/plain": [
       "+-----------------+\n",
       "|      Table      |\n",
       "+-----------------+\n",
       "| yellow_tripdata |\n",
       "+-----------------+"
      ]
     },
     "execution_count": 21,
     "metadata": {},
     "output_type": "execute_result"
    }
   ],
   "source": [
    "%%sql\n",
    "    \n",
    "show tables in vast.\"{{VASTDB_TWITTER_INGEST_BUCKET}}|taxi_data\""
   ]
  },
  {
   "cell_type": "code",
   "execution_count": 22,
   "id": "1a5cddf3-0297-40b6-a604-57efc6dc94ac",
   "metadata": {},
   "outputs": [
    {
     "data": {
      "text/html": [
       "<span style=\"None\">Running query in &#x27;trino://admin@10.143.11.241:8443/vast&#x27;</span>"
      ],
      "text/plain": [
       "Running query in 'trino://admin@10.143.11.241:8443/vast'"
      ]
     },
     "metadata": {},
     "output_type": "display_data"
    },
    {
     "data": {
      "text/html": [
       "<table>\n",
       "    <thead>\n",
       "        <tr>\n",
       "            <th>row_count</th>\n",
       "        </tr>\n",
       "    </thead>\n",
       "    <tbody>\n",
       "        <tr>\n",
       "            <td>1,763,456,499</td>\n",
       "        </tr>\n",
       "    </tbody>\n",
       "</table>"
      ],
      "text/plain": [
       "+---------------+\n",
       "|   row_count   |\n",
       "+---------------+\n",
       "| 1,763,456,499 |\n",
       "+---------------+"
      ]
     },
     "execution_count": 22,
     "metadata": {},
     "output_type": "execute_result"
    }
   ],
   "source": [
    "%%sql\n",
    "\n",
    "select \n",
    "    format('%,d', COUNT(*)) as row_count \n",
    "from\n",
    "    vast.\"{{VASTDB_TWITTER_INGEST_BUCKET}}|taxi_data\".yellow_tripdata"
   ]
  },
  {
   "cell_type": "code",
   "execution_count": 23,
   "id": "535a4aad-ca7f-4a42-ae40-9dc7e97f18fe",
   "metadata": {},
   "outputs": [
    {
     "data": {
      "text/html": [
       "<span style=\"None\">Running query in &#x27;trino://admin@10.143.11.241:8443/vast&#x27;</span>"
      ],
      "text/plain": [
       "Running query in 'trino://admin@10.143.11.241:8443/vast'"
      ]
     },
     "metadata": {},
     "output_type": "display_data"
    },
    {
     "data": {
      "text/html": [
       "<table>\n",
       "    <thead>\n",
       "        <tr>\n",
       "            <th>airport_fee</th>\n",
       "            <th>congestion_surcharge</th>\n",
       "            <th>dolocationid</th>\n",
       "            <th>dropoff_latitude</th>\n",
       "            <th>dropoff_longitude</th>\n",
       "            <th>extra</th>\n",
       "            <th>fare_amount</th>\n",
       "            <th>improvement_surcharge</th>\n",
       "            <th>mta_tax</th>\n",
       "            <th>passenger_count</th>\n",
       "            <th>payment_type</th>\n",
       "            <th>pulocationid</th>\n",
       "            <th>pickup_latitude</th>\n",
       "            <th>pickup_longitude</th>\n",
       "            <th>ratecodeid</th>\n",
       "            <th>store_and_fwd_flag</th>\n",
       "            <th>surcharge</th>\n",
       "            <th>tip_amount</th>\n",
       "            <th>tolls_amount</th>\n",
       "            <th>total_amount</th>\n",
       "            <th>tpep_dropoff_datetime</th>\n",
       "            <th>tpep_pickup_datetime</th>\n",
       "            <th>trip_distance</th>\n",
       "            <th>vendorid</th>\n",
       "        </tr>\n",
       "    </thead>\n",
       "    <tbody>\n",
       "        <tr>\n",
       "            <td>-999.0</td>\n",
       "            <td>-999.0</td>\n",
       "            <td>-999</td>\n",
       "            <td>40.753277</td>\n",
       "            <td>-73.971878</td>\n",
       "            <td>-999.0</td>\n",
       "            <td>6.5</td>\n",
       "            <td>-999.0</td>\n",
       "            <td>None</td>\n",
       "            <td>4</td>\n",
       "            <td>Cash</td>\n",
       "            <td>-999</td>\n",
       "            <td>40.766916</td>\n",
       "            <td>-73.959782</td>\n",
       "            <td>None</td>\n",
       "            <td>0.0</td>\n",
       "            <td>0.0</td>\n",
       "            <td>0.0</td>\n",
       "            <td>0.0</td>\n",
       "            <td>6.5</td>\n",
       "            <td>2009-08-25 21:21:58</td>\n",
       "            <td>2009-08-25 21:13:52</td>\n",
       "            <td>1.3</td>\n",
       "            <td>CMT</td>\n",
       "        </tr>\n",
       "        <tr>\n",
       "            <td>-999.0</td>\n",
       "            <td>-999.0</td>\n",
       "            <td>-999</td>\n",
       "            <td>40.747361</td>\n",
       "            <td>-74.003237</td>\n",
       "            <td>-999.0</td>\n",
       "            <td>11.3</td>\n",
       "            <td>-999.0</td>\n",
       "            <td>None</td>\n",
       "            <td>4</td>\n",
       "            <td>Cash</td>\n",
       "            <td>-999</td>\n",
       "            <td>40.720521</td>\n",
       "            <td>-74.010067</td>\n",
       "            <td>None</td>\n",
       "            <td>0.0</td>\n",
       "            <td>0.0</td>\n",
       "            <td>0.0</td>\n",
       "            <td>0.0</td>\n",
       "            <td>11.3</td>\n",
       "            <td>2009-08-18 23:03:44</td>\n",
       "            <td>2009-08-18 22:48:30</td>\n",
       "            <td>3.2</td>\n",
       "            <td>CMT</td>\n",
       "        </tr>\n",
       "        <tr>\n",
       "            <td>-999.0</td>\n",
       "            <td>-999.0</td>\n",
       "            <td>-999</td>\n",
       "            <td>40.747285</td>\n",
       "            <td>-73.985802</td>\n",
       "            <td>-999.0</td>\n",
       "            <td>8.099999999999998</td>\n",
       "            <td>-999.0</td>\n",
       "            <td>None</td>\n",
       "            <td>1</td>\n",
       "            <td>Cash</td>\n",
       "            <td>-999</td>\n",
       "            <td>40.723361</td>\n",
       "            <td>-74.003314</td>\n",
       "            <td>None</td>\n",
       "            <td>0.0</td>\n",
       "            <td>0.0</td>\n",
       "            <td>0.0</td>\n",
       "            <td>0.0</td>\n",
       "            <td>8.099999999999998</td>\n",
       "            <td>2009-08-18 22:58:43</td>\n",
       "            <td>2009-08-18 22:48:38</td>\n",
       "            <td>2.2</td>\n",
       "            <td>CMT</td>\n",
       "        </tr>\n",
       "        <tr>\n",
       "            <td>-999.0</td>\n",
       "            <td>-999.0</td>\n",
       "            <td>-999</td>\n",
       "            <td>40.756299</td>\n",
       "            <td>-73.990949</td>\n",
       "            <td>-999.0</td>\n",
       "            <td>4.5</td>\n",
       "            <td>-999.0</td>\n",
       "            <td>None</td>\n",
       "            <td>1</td>\n",
       "            <td>Cash</td>\n",
       "            <td>-999</td>\n",
       "            <td>40.748928</td>\n",
       "            <td>-73.986525</td>\n",
       "            <td>None</td>\n",
       "            <td>0.0</td>\n",
       "            <td>0.0</td>\n",
       "            <td>0.0</td>\n",
       "            <td>0.0</td>\n",
       "            <td>4.5</td>\n",
       "            <td>2009-08-17 19:38:12</td>\n",
       "            <td>2009-08-17 19:34:45</td>\n",
       "            <td>0.6999999999999998</td>\n",
       "            <td>CMT</td>\n",
       "        </tr>\n",
       "        <tr>\n",
       "            <td>-999.0</td>\n",
       "            <td>-999.0</td>\n",
       "            <td>-999</td>\n",
       "            <td>40.787437</td>\n",
       "            <td>-73.97392999999998</td>\n",
       "            <td>-999.0</td>\n",
       "            <td>18.1</td>\n",
       "            <td>-999.0</td>\n",
       "            <td>None</td>\n",
       "            <td>3</td>\n",
       "            <td>Credit</td>\n",
       "            <td>-999</td>\n",
       "            <td>40.734751</td>\n",
       "            <td>-73.990651</td>\n",
       "            <td>None</td>\n",
       "            <td>0.0</td>\n",
       "            <td>0.0</td>\n",
       "            <td>2.86</td>\n",
       "            <td>0.0</td>\n",
       "            <td>20.96</td>\n",
       "            <td>2009-08-18 16:35:19</td>\n",
       "            <td>2009-08-18 16:06:27</td>\n",
       "            <td>4.9</td>\n",
       "            <td>CMT</td>\n",
       "        </tr>\n",
       "        <tr>\n",
       "            <td>-999.0</td>\n",
       "            <td>-999.0</td>\n",
       "            <td>-999</td>\n",
       "            <td>40.687696</td>\n",
       "            <td>-74.18147899999998</td>\n",
       "            <td>-999.0</td>\n",
       "            <td>80.0</td>\n",
       "            <td>-999.0</td>\n",
       "            <td>None</td>\n",
       "            <td>1</td>\n",
       "            <td>Credit</td>\n",
       "            <td>-999</td>\n",
       "            <td>40.687687</td>\n",
       "            <td>-74.181572</td>\n",
       "            <td>None</td>\n",
       "            <td>0.0</td>\n",
       "            <td>0.0</td>\n",
       "            <td>13.5</td>\n",
       "            <td>10.0</td>\n",
       "            <td>103.5</td>\n",
       "            <td>2009-08-17 16:08:32</td>\n",
       "            <td>2009-08-17 16:07:45</td>\n",
       "            <td>0.1</td>\n",
       "            <td>CMT</td>\n",
       "        </tr>\n",
       "        <tr>\n",
       "            <td>-999.0</td>\n",
       "            <td>-999.0</td>\n",
       "            <td>-999</td>\n",
       "            <td>40.739471</td>\n",
       "            <td>-73.987505</td>\n",
       "            <td>-999.0</td>\n",
       "            <td>10.9</td>\n",
       "            <td>-999.0</td>\n",
       "            <td>None</td>\n",
       "            <td>5</td>\n",
       "            <td>Cash</td>\n",
       "            <td>-999</td>\n",
       "            <td>40.758939</td>\n",
       "            <td>-73.985855</td>\n",
       "            <td>None</td>\n",
       "            <td>0.0</td>\n",
       "            <td>0.0</td>\n",
       "            <td>0.0</td>\n",
       "            <td>0.0</td>\n",
       "            <td>10.9</td>\n",
       "            <td>2009-08-18 19:08:53</td>\n",
       "            <td>2009-08-18 18:51:03</td>\n",
       "            <td>2.3</td>\n",
       "            <td>CMT</td>\n",
       "        </tr>\n",
       "        <tr>\n",
       "            <td>-999.0</td>\n",
       "            <td>-999.0</td>\n",
       "            <td>-999</td>\n",
       "            <td>40.774174</td>\n",
       "            <td>-73.986964</td>\n",
       "            <td>-999.0</td>\n",
       "            <td>9.7</td>\n",
       "            <td>-999.0</td>\n",
       "            <td>None</td>\n",
       "            <td>1</td>\n",
       "            <td>Cash</td>\n",
       "            <td>-999</td>\n",
       "            <td>40.759507</td>\n",
       "            <td>-73.96799699999998</td>\n",
       "            <td>None</td>\n",
       "            <td>0.0</td>\n",
       "            <td>0.0</td>\n",
       "            <td>0.0</td>\n",
       "            <td>0.0</td>\n",
       "            <td>9.7</td>\n",
       "            <td>2009-08-19 00:09:29</td>\n",
       "            <td>2009-08-18 23:54:51</td>\n",
       "            <td>2.5</td>\n",
       "            <td>CMT</td>\n",
       "        </tr>\n",
       "        <tr>\n",
       "            <td>-999.0</td>\n",
       "            <td>-999.0</td>\n",
       "            <td>-999</td>\n",
       "            <td>40.774258</td>\n",
       "            <td>-73.951604</td>\n",
       "            <td>-999.0</td>\n",
       "            <td>18.5</td>\n",
       "            <td>-999.0</td>\n",
       "            <td>None</td>\n",
       "            <td>1</td>\n",
       "            <td>Credit</td>\n",
       "            <td>-999</td>\n",
       "            <td>40.70989</td>\n",
       "            <td>-74.01056</td>\n",
       "            <td>None</td>\n",
       "            <td>0.0</td>\n",
       "            <td>0.0</td>\n",
       "            <td>1.0</td>\n",
       "            <td>0.0</td>\n",
       "            <td>19.5</td>\n",
       "            <td>2009-08-07 11:54:05</td>\n",
       "            <td>2009-08-07 11:36:45</td>\n",
       "            <td>7.0</td>\n",
       "            <td>CMT</td>\n",
       "        </tr>\n",
       "        <tr>\n",
       "            <td>-999.0</td>\n",
       "            <td>-999.0</td>\n",
       "            <td>-999</td>\n",
       "            <td>40.756489</td>\n",
       "            <td>-73.99006099999998</td>\n",
       "            <td>-999.0</td>\n",
       "            <td>7.7</td>\n",
       "            <td>-999.0</td>\n",
       "            <td>None</td>\n",
       "            <td>1</td>\n",
       "            <td>Cash</td>\n",
       "            <td>-999</td>\n",
       "            <td>40.764507</td>\n",
       "            <td>-73.973983</td>\n",
       "            <td>None</td>\n",
       "            <td>0.0</td>\n",
       "            <td>0.0</td>\n",
       "            <td>0.0</td>\n",
       "            <td>0.0</td>\n",
       "            <td>7.7</td>\n",
       "            <td>2009-08-17 16:15:49</td>\n",
       "            <td>2009-08-17 16:03:48</td>\n",
       "            <td>1.4</td>\n",
       "            <td>CMT</td>\n",
       "        </tr>\n",
       "    </tbody>\n",
       "</table>\n",
       "<span style=\"font-style:italic;text-align:center;\">Truncated to <a href=\"https://jupysql.ploomber.io/en/latest/api/configuration.html#displaylimit\">displaylimit</a> of 10.</span>"
      ],
      "text/plain": [
       "+-------------+----------------------+--------------+------------------+--------------------+--------+-------------------+-----------------------+---------+-----------------+--------------+--------------+-----------------+--------------------+------------+--------------------+-----------+------------+--------------+-------------------+-----------------------+----------------------+--------------------+----------+\n",
       "| airport_fee | congestion_surcharge | dolocationid | dropoff_latitude | dropoff_longitude  | extra  |    fare_amount    | improvement_surcharge | mta_tax | passenger_count | payment_type | pulocationid | pickup_latitude |  pickup_longitude  | ratecodeid | store_and_fwd_flag | surcharge | tip_amount | tolls_amount |    total_amount   | tpep_dropoff_datetime | tpep_pickup_datetime |   trip_distance    | vendorid |\n",
       "+-------------+----------------------+--------------+------------------+--------------------+--------+-------------------+-----------------------+---------+-----------------+--------------+--------------+-----------------+--------------------+------------+--------------------+-----------+------------+--------------+-------------------+-----------------------+----------------------+--------------------+----------+\n",
       "|    -999.0   |        -999.0        |     -999     |    40.753277     |     -73.971878     | -999.0 |        6.5        |         -999.0        |   None  |        4        |     Cash     |     -999     |    40.766916    |     -73.959782     |    None    |        0.0         |    0.0    |    0.0     |     0.0      |        6.5        |  2009-08-25 21:21:58  | 2009-08-25 21:13:52  |        1.3         |   CMT    |\n",
       "|    -999.0   |        -999.0        |     -999     |    40.747361     |     -74.003237     | -999.0 |        11.3       |         -999.0        |   None  |        4        |     Cash     |     -999     |    40.720521    |     -74.010067     |    None    |        0.0         |    0.0    |    0.0     |     0.0      |        11.3       |  2009-08-18 23:03:44  | 2009-08-18 22:48:30  |        3.2         |   CMT    |\n",
       "|    -999.0   |        -999.0        |     -999     |    40.747285     |     -73.985802     | -999.0 | 8.099999999999998 |         -999.0        |   None  |        1        |     Cash     |     -999     |    40.723361    |     -74.003314     |    None    |        0.0         |    0.0    |    0.0     |     0.0      | 8.099999999999998 |  2009-08-18 22:58:43  | 2009-08-18 22:48:38  |        2.2         |   CMT    |\n",
       "|    -999.0   |        -999.0        |     -999     |    40.756299     |     -73.990949     | -999.0 |        4.5        |         -999.0        |   None  |        1        |     Cash     |     -999     |    40.748928    |     -73.986525     |    None    |        0.0         |    0.0    |    0.0     |     0.0      |        4.5        |  2009-08-17 19:38:12  | 2009-08-17 19:34:45  | 0.6999999999999998 |   CMT    |\n",
       "|    -999.0   |        -999.0        |     -999     |    40.787437     | -73.97392999999998 | -999.0 |        18.1       |         -999.0        |   None  |        3        |    Credit    |     -999     |    40.734751    |     -73.990651     |    None    |        0.0         |    0.0    |    2.86    |     0.0      |       20.96       |  2009-08-18 16:35:19  | 2009-08-18 16:06:27  |        4.9         |   CMT    |\n",
       "|    -999.0   |        -999.0        |     -999     |    40.687696     | -74.18147899999998 | -999.0 |        80.0       |         -999.0        |   None  |        1        |    Credit    |     -999     |    40.687687    |     -74.181572     |    None    |        0.0         |    0.0    |    13.5    |     10.0     |       103.5       |  2009-08-17 16:08:32  | 2009-08-17 16:07:45  |        0.1         |   CMT    |\n",
       "|    -999.0   |        -999.0        |     -999     |    40.739471     |     -73.987505     | -999.0 |        10.9       |         -999.0        |   None  |        5        |     Cash     |     -999     |    40.758939    |     -73.985855     |    None    |        0.0         |    0.0    |    0.0     |     0.0      |        10.9       |  2009-08-18 19:08:53  | 2009-08-18 18:51:03  |        2.3         |   CMT    |\n",
       "|    -999.0   |        -999.0        |     -999     |    40.774174     |     -73.986964     | -999.0 |        9.7        |         -999.0        |   None  |        1        |     Cash     |     -999     |    40.759507    | -73.96799699999998 |    None    |        0.0         |    0.0    |    0.0     |     0.0      |        9.7        |  2009-08-19 00:09:29  | 2009-08-18 23:54:51  |        2.5         |   CMT    |\n",
       "|    -999.0   |        -999.0        |     -999     |    40.774258     |     -73.951604     | -999.0 |        18.5       |         -999.0        |   None  |        1        |    Credit    |     -999     |     40.70989    |     -74.01056      |    None    |        0.0         |    0.0    |    1.0     |     0.0      |        19.5       |  2009-08-07 11:54:05  | 2009-08-07 11:36:45  |        7.0         |   CMT    |\n",
       "|    -999.0   |        -999.0        |     -999     |    40.756489     | -73.99006099999998 | -999.0 |        7.7        |         -999.0        |   None  |        1        |     Cash     |     -999     |    40.764507    |     -73.973983     |    None    |        0.0         |    0.0    |    0.0     |     0.0      |        7.7        |  2009-08-17 16:15:49  | 2009-08-17 16:03:48  |        1.4         |   CMT    |\n",
       "+-------------+----------------------+--------------+------------------+--------------------+--------+-------------------+-----------------------+---------+-----------------+--------------+--------------+-----------------+--------------------+------------+--------------------+-----------+------------+--------------+-------------------+-----------------------+----------------------+--------------------+----------+\n",
       "Truncated to displaylimit of 10."
      ]
     },
     "execution_count": 23,
     "metadata": {},
     "output_type": "execute_result"
    }
   ],
   "source": [
    "%%sql\n",
    "\n",
    "SELECT\n",
    "    *\n",
    "FROM\n",
    "    vast.\"{{VASTDB_TWITTER_INGEST_BUCKET}}|taxi_data\".yellow_tripdata\n",
    "LIMIT 10"
   ]
  },
  {
   "cell_type": "code",
   "execution_count": 25,
   "id": "d2ceb91e-1248-4d65-b3a0-39e667dfd473",
   "metadata": {},
   "outputs": [
    {
     "data": {
      "text/html": [
       "<span style=\"None\">Running query in &#x27;trino://admin@10.143.11.241:8443/vast&#x27;</span>"
      ],
      "text/plain": [
       "Running query in 'trino://admin@10.143.11.241:8443/vast'"
      ]
     },
     "metadata": {},
     "output_type": "display_data"
    },
    {
     "ename": "HttpError",
     "evalue": "error 404: b'404 page not found\\n'",
     "output_type": "error",
     "traceback": [
      "\u001b[0;31m---------------------------------------------------------------------------\u001b[0m",
      "\u001b[0;31mHttpError\u001b[0m                                 Traceback (most recent call last)",
      "Cell \u001b[0;32mIn[25], line 1\u001b[0m\n\u001b[0;32m----> 1\u001b[0m \u001b[43mget_ipython\u001b[49m\u001b[43m(\u001b[49m\u001b[43m)\u001b[49m\u001b[38;5;241;43m.\u001b[39;49m\u001b[43mrun_cell_magic\u001b[49m\u001b[43m(\u001b[49m\u001b[38;5;124;43m'\u001b[39;49m\u001b[38;5;124;43msql\u001b[39;49m\u001b[38;5;124;43m'\u001b[39;49m\u001b[43m,\u001b[49m\u001b[43m \u001b[49m\u001b[38;5;124;43m'\u001b[39;49m\u001b[38;5;124;43m'\u001b[39;49m\u001b[43m,\u001b[49m\u001b[43m \u001b[49m\u001b[38;5;124;43m'\u001b[39;49m\u001b[38;5;130;43;01m\\n\u001b[39;49;00m\u001b[38;5;124;43mSELECT\u001b[39;49m\u001b[38;5;130;43;01m\\n\u001b[39;49;00m\u001b[38;5;124;43m    DISTINCT vendorid\u001b[39;49m\u001b[38;5;130;43;01m\\n\u001b[39;49;00m\u001b[38;5;124;43mFROM\u001b[39;49m\u001b[38;5;130;43;01m\\n\u001b[39;49;00m\u001b[38;5;124;43m    vast.\u001b[39;49m\u001b[38;5;124;43m\"\u001b[39;49m\u001b[38;5;124;43m{{\u001b[39;49m\u001b[38;5;124;43mVASTDB_TWITTER_INGEST_BUCKET}}|taxi_data\u001b[39;49m\u001b[38;5;124;43m\"\u001b[39;49m\u001b[38;5;124;43m.yellow_tripdata\u001b[39;49m\u001b[38;5;130;43;01m\\n\u001b[39;49;00m\u001b[38;5;124;43mLIMIT 10\u001b[39;49m\u001b[38;5;130;43;01m\\n\u001b[39;49;00m\u001b[38;5;124;43m'\u001b[39;49m\u001b[43m)\u001b[49m\n",
      "File \u001b[0;32m/opt/conda/lib/python3.12/site-packages/IPython/core/interactiveshell.py:2541\u001b[0m, in \u001b[0;36mInteractiveShell.run_cell_magic\u001b[0;34m(self, magic_name, line, cell)\u001b[0m\n\u001b[1;32m   2539\u001b[0m \u001b[38;5;28;01mwith\u001b[39;00m \u001b[38;5;28mself\u001b[39m\u001b[38;5;241m.\u001b[39mbuiltin_trap:\n\u001b[1;32m   2540\u001b[0m     args \u001b[38;5;241m=\u001b[39m (magic_arg_s, cell)\n\u001b[0;32m-> 2541\u001b[0m     result \u001b[38;5;241m=\u001b[39m \u001b[43mfn\u001b[49m\u001b[43m(\u001b[49m\u001b[38;5;241;43m*\u001b[39;49m\u001b[43margs\u001b[49m\u001b[43m,\u001b[49m\u001b[43m \u001b[49m\u001b[38;5;241;43m*\u001b[39;49m\u001b[38;5;241;43m*\u001b[39;49m\u001b[43mkwargs\u001b[49m\u001b[43m)\u001b[49m\n\u001b[1;32m   2543\u001b[0m \u001b[38;5;66;03m# The code below prevents the output from being displayed\u001b[39;00m\n\u001b[1;32m   2544\u001b[0m \u001b[38;5;66;03m# when using magics with decorator @output_can_be_silenced\u001b[39;00m\n\u001b[1;32m   2545\u001b[0m \u001b[38;5;66;03m# when the last Python token in the expression is a ';'.\u001b[39;00m\n\u001b[1;32m   2546\u001b[0m \u001b[38;5;28;01mif\u001b[39;00m \u001b[38;5;28mgetattr\u001b[39m(fn, magic\u001b[38;5;241m.\u001b[39mMAGIC_OUTPUT_CAN_BE_SILENCED, \u001b[38;5;28;01mFalse\u001b[39;00m):\n",
      "File \u001b[0;32m/opt/conda/lib/python3.12/site-packages/sql/magic.py:365\u001b[0m, in \u001b[0;36mSqlMagic.execute\u001b[0;34m(self, line, cell, local_ns)\u001b[0m\n\u001b[1;32m    257\u001b[0m \u001b[38;5;129m@no_var_expand\u001b[39m\n\u001b[1;32m    258\u001b[0m \u001b[38;5;129m@needs_local_scope\u001b[39m\n\u001b[1;32m    259\u001b[0m \u001b[38;5;129m@line_magic\u001b[39m(\u001b[38;5;124m\"\u001b[39m\u001b[38;5;124msql\u001b[39m\u001b[38;5;124m\"\u001b[39m)\n\u001b[0;32m   (...)\u001b[0m\n\u001b[1;32m    337\u001b[0m )\n\u001b[1;32m    338\u001b[0m \u001b[38;5;28;01mdef\u001b[39;00m \u001b[38;5;21mexecute\u001b[39m(\u001b[38;5;28mself\u001b[39m, line\u001b[38;5;241m=\u001b[39m\u001b[38;5;124m\"\u001b[39m\u001b[38;5;124m\"\u001b[39m, cell\u001b[38;5;241m=\u001b[39m\u001b[38;5;124m\"\u001b[39m\u001b[38;5;124m\"\u001b[39m, local_ns\u001b[38;5;241m=\u001b[39m\u001b[38;5;28;01mNone\u001b[39;00m):\n\u001b[1;32m    339\u001b[0m \u001b[38;5;250m    \u001b[39m\u001b[38;5;124;03m\"\"\"\u001b[39;00m\n\u001b[1;32m    340\u001b[0m \u001b[38;5;124;03m    Runs SQL statement against a database, specified by\u001b[39;00m\n\u001b[1;32m    341\u001b[0m \u001b[38;5;124;03m    SQLAlchemy connect string.\u001b[39;00m\n\u001b[0;32m   (...)\u001b[0m\n\u001b[1;32m    363\u001b[0m \n\u001b[1;32m    364\u001b[0m \u001b[38;5;124;03m    \"\"\"\u001b[39;00m\n\u001b[0;32m--> 365\u001b[0m     \u001b[38;5;28;01mreturn\u001b[39;00m \u001b[38;5;28;43mself\u001b[39;49m\u001b[38;5;241;43m.\u001b[39;49m\u001b[43m_execute\u001b[49m\u001b[43m(\u001b[49m\n\u001b[1;32m    366\u001b[0m \u001b[43m        \u001b[49m\u001b[43mline\u001b[49m\u001b[38;5;241;43m=\u001b[39;49m\u001b[43mline\u001b[49m\u001b[43m,\u001b[49m\u001b[43m \u001b[49m\u001b[43mcell\u001b[49m\u001b[38;5;241;43m=\u001b[39;49m\u001b[43mcell\u001b[49m\u001b[43m,\u001b[49m\u001b[43m \u001b[49m\u001b[43mlocal_ns\u001b[49m\u001b[38;5;241;43m=\u001b[39;49m\u001b[43mlocal_ns\u001b[49m\u001b[43m,\u001b[49m\u001b[43m \u001b[49m\u001b[43mis_interactive_mode\u001b[49m\u001b[38;5;241;43m=\u001b[39;49m\u001b[38;5;28;43;01mFalse\u001b[39;49;00m\n\u001b[1;32m    367\u001b[0m \u001b[43m    \u001b[49m\u001b[43m)\u001b[49m\n",
      "File \u001b[0;32m/opt/conda/lib/python3.12/site-packages/ploomber_core/exceptions.py:128\u001b[0m, in \u001b[0;36mmodify_exceptions.<locals>.wrapper\u001b[0;34m(*args, **kwargs)\u001b[0m\n\u001b[1;32m    125\u001b[0m \u001b[38;5;129m@wraps\u001b[39m(fn)\n\u001b[1;32m    126\u001b[0m \u001b[38;5;28;01mdef\u001b[39;00m \u001b[38;5;21mwrapper\u001b[39m(\u001b[38;5;241m*\u001b[39margs, \u001b[38;5;241m*\u001b[39m\u001b[38;5;241m*\u001b[39mkwargs):\n\u001b[1;32m    127\u001b[0m     \u001b[38;5;28;01mtry\u001b[39;00m:\n\u001b[0;32m--> 128\u001b[0m         \u001b[38;5;28;01mreturn\u001b[39;00m \u001b[43mfn\u001b[49m\u001b[43m(\u001b[49m\u001b[38;5;241;43m*\u001b[39;49m\u001b[43margs\u001b[49m\u001b[43m,\u001b[49m\u001b[43m \u001b[49m\u001b[38;5;241;43m*\u001b[39;49m\u001b[38;5;241;43m*\u001b[39;49m\u001b[43mkwargs\u001b[49m\u001b[43m)\u001b[49m\n\u001b[1;32m    129\u001b[0m     \u001b[38;5;28;01mexcept\u001b[39;00m (\u001b[38;5;167;01mValueError\u001b[39;00m, \u001b[38;5;167;01mTypeError\u001b[39;00m) \u001b[38;5;28;01mas\u001b[39;00m e:\n\u001b[1;32m    130\u001b[0m         _add_community_link(e)\n",
      "File \u001b[0;32m/opt/conda/lib/python3.12/site-packages/sql/magic.py:624\u001b[0m, in \u001b[0;36mSqlMagic._execute\u001b[0;34m(self, line, cell, local_ns, is_interactive_mode)\u001b[0m\n\u001b[1;32m    621\u001b[0m     handle_exception(e, command\u001b[38;5;241m.\u001b[39msql, \u001b[38;5;28mself\u001b[39m\u001b[38;5;241m.\u001b[39mshort_errors)\n\u001b[1;32m    622\u001b[0m \u001b[38;5;28;01mexcept\u001b[39;00m \u001b[38;5;167;01mException\u001b[39;00m \u001b[38;5;28;01mas\u001b[39;00m e:\n\u001b[1;32m    623\u001b[0m     \u001b[38;5;66;03m# Handle non SQLAlchemy errors\u001b[39;00m\n\u001b[0;32m--> 624\u001b[0m     \u001b[43mhandle_exception\u001b[49m\u001b[43m(\u001b[49m\u001b[43me\u001b[49m\u001b[43m,\u001b[49m\u001b[43m \u001b[49m\u001b[43mcommand\u001b[49m\u001b[38;5;241;43m.\u001b[39;49m\u001b[43msql\u001b[49m\u001b[43m,\u001b[49m\u001b[43m \u001b[49m\u001b[38;5;28;43mself\u001b[39;49m\u001b[38;5;241;43m.\u001b[39;49m\u001b[43mshort_errors\u001b[49m\u001b[43m)\u001b[49m\n",
      "File \u001b[0;32m/opt/conda/lib/python3.12/site-packages/sql/error_handler.py:115\u001b[0m, in \u001b[0;36mhandle_exception\u001b[0;34m(error, query, short_error)\u001b[0m\n\u001b[1;32m    113\u001b[0m         _display_error_msg_with_trace(error, detailed_message)\n\u001b[1;32m    114\u001b[0m \u001b[38;5;28;01melse\u001b[39;00m:\n\u001b[0;32m--> 115\u001b[0m     \u001b[38;5;28;01mraise\u001b[39;00m error\n",
      "File \u001b[0;32m/opt/conda/lib/python3.12/site-packages/sql/magic.py:578\u001b[0m, in \u001b[0;36mSqlMagic._execute\u001b[0;34m(self, line, cell, local_ns, is_interactive_mode)\u001b[0m\n\u001b[1;32m    575\u001b[0m     parameters \u001b[38;5;241m=\u001b[39m user_ns\n\u001b[1;32m    577\u001b[0m \u001b[38;5;28;01mtry\u001b[39;00m:\n\u001b[0;32m--> 578\u001b[0m     result \u001b[38;5;241m=\u001b[39m \u001b[43mrun_statements\u001b[49m\u001b[43m(\u001b[49m\u001b[43mconn\u001b[49m\u001b[43m,\u001b[49m\u001b[43m \u001b[49m\u001b[43mcommand\u001b[49m\u001b[38;5;241;43m.\u001b[39;49m\u001b[43msql\u001b[49m\u001b[43m,\u001b[49m\u001b[43m \u001b[49m\u001b[38;5;28;43mself\u001b[39;49m\u001b[43m,\u001b[49m\u001b[43m \u001b[49m\u001b[43mparameters\u001b[49m\u001b[38;5;241;43m=\u001b[39;49m\u001b[43mparameters\u001b[49m\u001b[43m)\u001b[49m\n\u001b[1;32m    580\u001b[0m     \u001b[38;5;28;01mif\u001b[39;00m (\n\u001b[1;32m    581\u001b[0m         result \u001b[38;5;129;01mis\u001b[39;00m \u001b[38;5;129;01mnot\u001b[39;00m \u001b[38;5;28;01mNone\u001b[39;00m\n\u001b[1;32m    582\u001b[0m         \u001b[38;5;129;01mand\u001b[39;00m \u001b[38;5;129;01mnot\u001b[39;00m \u001b[38;5;28misinstance\u001b[39m(result, \u001b[38;5;28mstr\u001b[39m)\n\u001b[0;32m   (...)\u001b[0m\n\u001b[1;32m    585\u001b[0m         \u001b[38;5;66;03m# Instead of returning values, set variables directly in the\u001b[39;00m\n\u001b[1;32m    586\u001b[0m         \u001b[38;5;66;03m# users namespace. Variable names given by column names\u001b[39;00m\n\u001b[1;32m    588\u001b[0m         \u001b[38;5;28;01mif\u001b[39;00m \u001b[38;5;28mself\u001b[39m\u001b[38;5;241m.\u001b[39mautopandas \u001b[38;5;129;01mor\u001b[39;00m \u001b[38;5;28mself\u001b[39m\u001b[38;5;241m.\u001b[39mautopolars:\n",
      "File \u001b[0;32m/opt/conda/lib/python3.12/site-packages/sql/run/run.py:54\u001b[0m, in \u001b[0;36mrun_statements\u001b[0;34m(conn, sql, config, parameters)\u001b[0m\n\u001b[1;32m     50\u001b[0m     result \u001b[38;5;241m=\u001b[39m handle_postgres_special(conn, statement)\n\u001b[1;32m     52\u001b[0m \u001b[38;5;66;03m# regular query\u001b[39;00m\n\u001b[1;32m     53\u001b[0m \u001b[38;5;28;01melse\u001b[39;00m:\n\u001b[0;32m---> 54\u001b[0m     result \u001b[38;5;241m=\u001b[39m \u001b[43mconn\u001b[49m\u001b[38;5;241;43m.\u001b[39;49m\u001b[43mraw_execute\u001b[49m\u001b[43m(\u001b[49m\u001b[43mstatement\u001b[49m\u001b[43m,\u001b[49m\u001b[43m \u001b[49m\u001b[43mparameters\u001b[49m\u001b[38;5;241;43m=\u001b[39;49m\u001b[43mparameters\u001b[49m\u001b[43m)\u001b[49m\n\u001b[1;32m     55\u001b[0m     \u001b[38;5;28;01mif\u001b[39;00m is_spark(conn\u001b[38;5;241m.\u001b[39mdialect) \u001b[38;5;129;01mand\u001b[39;00m config\u001b[38;5;241m.\u001b[39mlazy_execution:\n\u001b[1;32m     56\u001b[0m         \u001b[38;5;28;01mreturn\u001b[39;00m result\u001b[38;5;241m.\u001b[39mdataframe\n",
      "File \u001b[0;32m/opt/conda/lib/python3.12/site-packages/sql/connection/connection.py:823\u001b[0m, in \u001b[0;36mSQLAlchemyConnection.raw_execute\u001b[0;34m(self, query, parameters, with_)\u001b[0m\n\u001b[1;32m    821\u001b[0m \u001b[38;5;28;01melse\u001b[39;00m:\n\u001b[1;32m    822\u001b[0m     \u001b[38;5;28;01mtry\u001b[39;00m:\n\u001b[0;32m--> 823\u001b[0m         \u001b[38;5;28;01mreturn\u001b[39;00m \u001b[38;5;28;43mself\u001b[39;49m\u001b[38;5;241;43m.\u001b[39;49m\u001b[43m_connection_execute\u001b[49m\u001b[43m(\u001b[49m\u001b[43mquery\u001b[49m\u001b[43m,\u001b[49m\u001b[43m \u001b[49m\u001b[43mparameters\u001b[49m\u001b[43m)\u001b[49m\n\u001b[1;32m    824\u001b[0m     \u001b[38;5;28;01mexcept\u001b[39;00m StatementError \u001b[38;5;28;01mas\u001b[39;00m e:\n\u001b[1;32m    825\u001b[0m         \u001b[38;5;66;03m# add a more helpful message if the users passes :variable but\u001b[39;00m\n\u001b[1;32m    826\u001b[0m         \u001b[38;5;66;03m# the feature isn't enabled\u001b[39;00m\n\u001b[1;32m    827\u001b[0m         \u001b[38;5;28;01mif\u001b[39;00m parameters \u001b[38;5;129;01mis\u001b[39;00m \u001b[38;5;28;01mNone\u001b[39;00m:\n",
      "File \u001b[0;32m/opt/conda/lib/python3.12/site-packages/sql/connection/connection.py:730\u001b[0m, in \u001b[0;36mSQLAlchemyConnection._connection_execute\u001b[0;34m(self, query, parameters)\u001b[0m\n\u001b[1;32m    727\u001b[0m     \u001b[38;5;28;01mraise\u001b[39;00m \u001b[38;5;167;01mNotImplementedError\u001b[39;00m(\u001b[38;5;124m\"\u001b[39m\u001b[38;5;124mOnly one statement is supported.\u001b[39m\u001b[38;5;124m\"\u001b[39m)\n\u001b[1;32m    729\u001b[0m operation \u001b[38;5;241m=\u001b[39m partial(\u001b[38;5;28mself\u001b[39m\u001b[38;5;241m.\u001b[39m_execute_with_parameters, query, parameters)\n\u001b[0;32m--> 730\u001b[0m out \u001b[38;5;241m=\u001b[39m \u001b[38;5;28;43mself\u001b[39;49m\u001b[38;5;241;43m.\u001b[39;49m\u001b[43m_execute_with_error_handling\u001b[49m\u001b[43m(\u001b[49m\u001b[43moperation\u001b[49m\u001b[43m)\u001b[49m\n\u001b[1;32m    732\u001b[0m \u001b[38;5;28;01mif\u001b[39;00m \u001b[38;5;28mself\u001b[39m\u001b[38;5;241m.\u001b[39m_requires_manual_commit:\n\u001b[1;32m    733\u001b[0m     \u001b[38;5;66;03m# Calling connection.commit() when using duckdb-engine will yield\u001b[39;00m\n\u001b[1;32m    734\u001b[0m     \u001b[38;5;66;03m# empty results if we commit after a SELECT or SUMMARIZE statement,\u001b[39;00m\n\u001b[1;32m    735\u001b[0m     \u001b[38;5;66;03m# see: https://github.com/Mause/duckdb_engine/issues/734.\u001b[39;00m\n\u001b[1;32m    736\u001b[0m     \u001b[38;5;28;01mif\u001b[39;00m \u001b[38;5;28mself\u001b[39m\u001b[38;5;241m.\u001b[39mdialect \u001b[38;5;241m==\u001b[39m \u001b[38;5;124m\"\u001b[39m\u001b[38;5;124mduckdb\u001b[39m\u001b[38;5;124m\"\u001b[39m:\n",
      "File \u001b[0;32m/opt/conda/lib/python3.12/site-packages/sql/connection/connection.py:861\u001b[0m, in \u001b[0;36mSQLAlchemyConnection._execute_with_error_handling\u001b[0;34m(self, operation)\u001b[0m\n\u001b[1;32m    858\u001b[0m rollback_needed \u001b[38;5;241m=\u001b[39m \u001b[38;5;28;01mFalse\u001b[39;00m\n\u001b[1;32m    860\u001b[0m \u001b[38;5;28;01mtry\u001b[39;00m:\n\u001b[0;32m--> 861\u001b[0m     out \u001b[38;5;241m=\u001b[39m \u001b[43moperation\u001b[49m\u001b[43m(\u001b[49m\u001b[43m)\u001b[49m\n\u001b[1;32m    863\u001b[0m \u001b[38;5;66;03m# this is a generic error but we've seen it in postgres. it helps recover\u001b[39;00m\n\u001b[1;32m    864\u001b[0m \u001b[38;5;66;03m# from a idle session timeout (happens in psycopg 2 and psycopg 3)\u001b[39;00m\n\u001b[1;32m    865\u001b[0m \u001b[38;5;28;01mexcept\u001b[39;00m PendingRollbackError:\n",
      "File \u001b[0;32m/opt/conda/lib/python3.12/site-packages/sql/connection/connection.py:766\u001b[0m, in \u001b[0;36mSQLAlchemyConnection._execute_with_parameters\u001b[0;34m(self, query, parameters)\u001b[0m\n\u001b[1;32m    764\u001b[0m     out \u001b[38;5;241m=\u001b[39m \u001b[38;5;28mself\u001b[39m\u001b[38;5;241m.\u001b[39m_connection\u001b[38;5;241m.\u001b[39mexecute(sqlalchemy\u001b[38;5;241m.\u001b[39mtext(query), \u001b[38;5;241m*\u001b[39m\u001b[38;5;241m*\u001b[39mparameters)\n\u001b[1;32m    765\u001b[0m \u001b[38;5;28;01melse\u001b[39;00m:\n\u001b[0;32m--> 766\u001b[0m     out \u001b[38;5;241m=\u001b[39m \u001b[38;5;28;43mself\u001b[39;49m\u001b[38;5;241;43m.\u001b[39;49m\u001b[43m_connection\u001b[49m\u001b[38;5;241;43m.\u001b[39;49m\u001b[43mexecute\u001b[49m\u001b[43m(\u001b[49m\n\u001b[1;32m    767\u001b[0m \u001b[43m        \u001b[49m\u001b[43msqlalchemy\u001b[49m\u001b[38;5;241;43m.\u001b[39;49m\u001b[43mtext\u001b[49m\u001b[43m(\u001b[49m\u001b[43mquery\u001b[49m\u001b[43m)\u001b[49m\u001b[43m,\u001b[49m\u001b[43m \u001b[49m\u001b[43mparameters\u001b[49m\u001b[38;5;241;43m=\u001b[39;49m\u001b[43mparameters\u001b[49m\n\u001b[1;32m    768\u001b[0m \u001b[43m    \u001b[49m\u001b[43m)\u001b[49m\n\u001b[1;32m    770\u001b[0m \u001b[38;5;28;01mreturn\u001b[39;00m out\n",
      "File \u001b[0;32m/opt/conda/lib/python3.12/site-packages/sqlalchemy/engine/base.py:1418\u001b[0m, in \u001b[0;36mConnection.execute\u001b[0;34m(self, statement, parameters, execution_options)\u001b[0m\n\u001b[1;32m   1416\u001b[0m     \u001b[38;5;28;01mraise\u001b[39;00m exc\u001b[38;5;241m.\u001b[39mObjectNotExecutableError(statement) \u001b[38;5;28;01mfrom\u001b[39;00m \u001b[38;5;21;01merr\u001b[39;00m\n\u001b[1;32m   1417\u001b[0m \u001b[38;5;28;01melse\u001b[39;00m:\n\u001b[0;32m-> 1418\u001b[0m     \u001b[38;5;28;01mreturn\u001b[39;00m \u001b[43mmeth\u001b[49m\u001b[43m(\u001b[49m\n\u001b[1;32m   1419\u001b[0m \u001b[43m        \u001b[49m\u001b[38;5;28;43mself\u001b[39;49m\u001b[43m,\u001b[49m\n\u001b[1;32m   1420\u001b[0m \u001b[43m        \u001b[49m\u001b[43mdistilled_parameters\u001b[49m\u001b[43m,\u001b[49m\n\u001b[1;32m   1421\u001b[0m \u001b[43m        \u001b[49m\u001b[43mexecution_options\u001b[49m\u001b[43m \u001b[49m\u001b[38;5;129;43;01mor\u001b[39;49;00m\u001b[43m \u001b[49m\u001b[43mNO_OPTIONS\u001b[49m\u001b[43m,\u001b[49m\n\u001b[1;32m   1422\u001b[0m \u001b[43m    \u001b[49m\u001b[43m)\u001b[49m\n",
      "File \u001b[0;32m/opt/conda/lib/python3.12/site-packages/sqlalchemy/sql/elements.py:515\u001b[0m, in \u001b[0;36mClauseElement._execute_on_connection\u001b[0;34m(self, connection, distilled_params, execution_options)\u001b[0m\n\u001b[1;32m    513\u001b[0m     \u001b[38;5;28;01mif\u001b[39;00m TYPE_CHECKING:\n\u001b[1;32m    514\u001b[0m         \u001b[38;5;28;01massert\u001b[39;00m \u001b[38;5;28misinstance\u001b[39m(\u001b[38;5;28mself\u001b[39m, Executable)\n\u001b[0;32m--> 515\u001b[0m     \u001b[38;5;28;01mreturn\u001b[39;00m \u001b[43mconnection\u001b[49m\u001b[38;5;241;43m.\u001b[39;49m\u001b[43m_execute_clauseelement\u001b[49m\u001b[43m(\u001b[49m\n\u001b[1;32m    516\u001b[0m \u001b[43m        \u001b[49m\u001b[38;5;28;43mself\u001b[39;49m\u001b[43m,\u001b[49m\u001b[43m \u001b[49m\u001b[43mdistilled_params\u001b[49m\u001b[43m,\u001b[49m\u001b[43m \u001b[49m\u001b[43mexecution_options\u001b[49m\n\u001b[1;32m    517\u001b[0m \u001b[43m    \u001b[49m\u001b[43m)\u001b[49m\n\u001b[1;32m    518\u001b[0m \u001b[38;5;28;01melse\u001b[39;00m:\n\u001b[1;32m    519\u001b[0m     \u001b[38;5;28;01mraise\u001b[39;00m exc\u001b[38;5;241m.\u001b[39mObjectNotExecutableError(\u001b[38;5;28mself\u001b[39m)\n",
      "File \u001b[0;32m/opt/conda/lib/python3.12/site-packages/sqlalchemy/engine/base.py:1640\u001b[0m, in \u001b[0;36mConnection._execute_clauseelement\u001b[0;34m(self, elem, distilled_parameters, execution_options)\u001b[0m\n\u001b[1;32m   1628\u001b[0m compiled_cache: Optional[CompiledCacheType] \u001b[38;5;241m=\u001b[39m execution_options\u001b[38;5;241m.\u001b[39mget(\n\u001b[1;32m   1629\u001b[0m     \u001b[38;5;124m\"\u001b[39m\u001b[38;5;124mcompiled_cache\u001b[39m\u001b[38;5;124m\"\u001b[39m, \u001b[38;5;28mself\u001b[39m\u001b[38;5;241m.\u001b[39mengine\u001b[38;5;241m.\u001b[39m_compiled_cache\n\u001b[1;32m   1630\u001b[0m )\n\u001b[1;32m   1632\u001b[0m compiled_sql, extracted_params, cache_hit \u001b[38;5;241m=\u001b[39m elem\u001b[38;5;241m.\u001b[39m_compile_w_cache(\n\u001b[1;32m   1633\u001b[0m     dialect\u001b[38;5;241m=\u001b[39mdialect,\n\u001b[1;32m   1634\u001b[0m     compiled_cache\u001b[38;5;241m=\u001b[39mcompiled_cache,\n\u001b[0;32m   (...)\u001b[0m\n\u001b[1;32m   1638\u001b[0m     linting\u001b[38;5;241m=\u001b[39m\u001b[38;5;28mself\u001b[39m\u001b[38;5;241m.\u001b[39mdialect\u001b[38;5;241m.\u001b[39mcompiler_linting \u001b[38;5;241m|\u001b[39m compiler\u001b[38;5;241m.\u001b[39mWARN_LINTING,\n\u001b[1;32m   1639\u001b[0m )\n\u001b[0;32m-> 1640\u001b[0m ret \u001b[38;5;241m=\u001b[39m \u001b[38;5;28;43mself\u001b[39;49m\u001b[38;5;241;43m.\u001b[39;49m\u001b[43m_execute_context\u001b[49m\u001b[43m(\u001b[49m\n\u001b[1;32m   1641\u001b[0m \u001b[43m    \u001b[49m\u001b[43mdialect\u001b[49m\u001b[43m,\u001b[49m\n\u001b[1;32m   1642\u001b[0m \u001b[43m    \u001b[49m\u001b[43mdialect\u001b[49m\u001b[38;5;241;43m.\u001b[39;49m\u001b[43mexecution_ctx_cls\u001b[49m\u001b[38;5;241;43m.\u001b[39;49m\u001b[43m_init_compiled\u001b[49m\u001b[43m,\u001b[49m\n\u001b[1;32m   1643\u001b[0m \u001b[43m    \u001b[49m\u001b[43mcompiled_sql\u001b[49m\u001b[43m,\u001b[49m\n\u001b[1;32m   1644\u001b[0m \u001b[43m    \u001b[49m\u001b[43mdistilled_parameters\u001b[49m\u001b[43m,\u001b[49m\n\u001b[1;32m   1645\u001b[0m \u001b[43m    \u001b[49m\u001b[43mexecution_options\u001b[49m\u001b[43m,\u001b[49m\n\u001b[1;32m   1646\u001b[0m \u001b[43m    \u001b[49m\u001b[43mcompiled_sql\u001b[49m\u001b[43m,\u001b[49m\n\u001b[1;32m   1647\u001b[0m \u001b[43m    \u001b[49m\u001b[43mdistilled_parameters\u001b[49m\u001b[43m,\u001b[49m\n\u001b[1;32m   1648\u001b[0m \u001b[43m    \u001b[49m\u001b[43melem\u001b[49m\u001b[43m,\u001b[49m\n\u001b[1;32m   1649\u001b[0m \u001b[43m    \u001b[49m\u001b[43mextracted_params\u001b[49m\u001b[43m,\u001b[49m\n\u001b[1;32m   1650\u001b[0m \u001b[43m    \u001b[49m\u001b[43mcache_hit\u001b[49m\u001b[38;5;241;43m=\u001b[39;49m\u001b[43mcache_hit\u001b[49m\u001b[43m,\u001b[49m\n\u001b[1;32m   1651\u001b[0m \u001b[43m\u001b[49m\u001b[43m)\u001b[49m\n\u001b[1;32m   1652\u001b[0m \u001b[38;5;28;01mif\u001b[39;00m has_events:\n\u001b[1;32m   1653\u001b[0m     \u001b[38;5;28mself\u001b[39m\u001b[38;5;241m.\u001b[39mdispatch\u001b[38;5;241m.\u001b[39mafter_execute(\n\u001b[1;32m   1654\u001b[0m         \u001b[38;5;28mself\u001b[39m,\n\u001b[1;32m   1655\u001b[0m         elem,\n\u001b[0;32m   (...)\u001b[0m\n\u001b[1;32m   1659\u001b[0m         ret,\n\u001b[1;32m   1660\u001b[0m     )\n",
      "File \u001b[0;32m/opt/conda/lib/python3.12/site-packages/sqlalchemy/engine/base.py:1846\u001b[0m, in \u001b[0;36mConnection._execute_context\u001b[0;34m(self, dialect, constructor, statement, parameters, execution_options, *args, **kw)\u001b[0m\n\u001b[1;32m   1844\u001b[0m     \u001b[38;5;28;01mreturn\u001b[39;00m \u001b[38;5;28mself\u001b[39m\u001b[38;5;241m.\u001b[39m_exec_insertmany_context(dialect, context)\n\u001b[1;32m   1845\u001b[0m \u001b[38;5;28;01melse\u001b[39;00m:\n\u001b[0;32m-> 1846\u001b[0m     \u001b[38;5;28;01mreturn\u001b[39;00m \u001b[38;5;28;43mself\u001b[39;49m\u001b[38;5;241;43m.\u001b[39;49m\u001b[43m_exec_single_context\u001b[49m\u001b[43m(\u001b[49m\n\u001b[1;32m   1847\u001b[0m \u001b[43m        \u001b[49m\u001b[43mdialect\u001b[49m\u001b[43m,\u001b[49m\u001b[43m \u001b[49m\u001b[43mcontext\u001b[49m\u001b[43m,\u001b[49m\u001b[43m \u001b[49m\u001b[43mstatement\u001b[49m\u001b[43m,\u001b[49m\u001b[43m \u001b[49m\u001b[43mparameters\u001b[49m\n\u001b[1;32m   1848\u001b[0m \u001b[43m    \u001b[49m\u001b[43m)\u001b[49m\n",
      "File \u001b[0;32m/opt/conda/lib/python3.12/site-packages/sqlalchemy/engine/base.py:1986\u001b[0m, in \u001b[0;36mConnection._exec_single_context\u001b[0;34m(self, dialect, context, statement, parameters)\u001b[0m\n\u001b[1;32m   1983\u001b[0m     result \u001b[38;5;241m=\u001b[39m context\u001b[38;5;241m.\u001b[39m_setup_result_proxy()\n\u001b[1;32m   1985\u001b[0m \u001b[38;5;28;01mexcept\u001b[39;00m \u001b[38;5;167;01mBaseException\u001b[39;00m \u001b[38;5;28;01mas\u001b[39;00m e:\n\u001b[0;32m-> 1986\u001b[0m     \u001b[38;5;28;43mself\u001b[39;49m\u001b[38;5;241;43m.\u001b[39;49m\u001b[43m_handle_dbapi_exception\u001b[49m\u001b[43m(\u001b[49m\n\u001b[1;32m   1987\u001b[0m \u001b[43m        \u001b[49m\u001b[43me\u001b[49m\u001b[43m,\u001b[49m\u001b[43m \u001b[49m\u001b[43mstr_statement\u001b[49m\u001b[43m,\u001b[49m\u001b[43m \u001b[49m\u001b[43meffective_parameters\u001b[49m\u001b[43m,\u001b[49m\u001b[43m \u001b[49m\u001b[43mcursor\u001b[49m\u001b[43m,\u001b[49m\u001b[43m \u001b[49m\u001b[43mcontext\u001b[49m\n\u001b[1;32m   1988\u001b[0m \u001b[43m    \u001b[49m\u001b[43m)\u001b[49m\n\u001b[1;32m   1990\u001b[0m \u001b[38;5;28;01mreturn\u001b[39;00m result\n",
      "File \u001b[0;32m/opt/conda/lib/python3.12/site-packages/sqlalchemy/engine/base.py:2358\u001b[0m, in \u001b[0;36mConnection._handle_dbapi_exception\u001b[0;34m(self, e, statement, parameters, cursor, context, is_sub_exec)\u001b[0m\n\u001b[1;32m   2356\u001b[0m     \u001b[38;5;28;01melse\u001b[39;00m:\n\u001b[1;32m   2357\u001b[0m         \u001b[38;5;28;01massert\u001b[39;00m exc_info[\u001b[38;5;241m1\u001b[39m] \u001b[38;5;129;01mis\u001b[39;00m \u001b[38;5;129;01mnot\u001b[39;00m \u001b[38;5;28;01mNone\u001b[39;00m\n\u001b[0;32m-> 2358\u001b[0m         \u001b[38;5;28;01mraise\u001b[39;00m exc_info[\u001b[38;5;241m1\u001b[39m]\u001b[38;5;241m.\u001b[39mwith_traceback(exc_info[\u001b[38;5;241m2\u001b[39m])\n\u001b[1;32m   2359\u001b[0m \u001b[38;5;28;01mfinally\u001b[39;00m:\n\u001b[1;32m   2360\u001b[0m     \u001b[38;5;28;01mdel\u001b[39;00m \u001b[38;5;28mself\u001b[39m\u001b[38;5;241m.\u001b[39m_reentrant_error\n",
      "File \u001b[0;32m/opt/conda/lib/python3.12/site-packages/sqlalchemy/engine/base.py:1967\u001b[0m, in \u001b[0;36mConnection._exec_single_context\u001b[0;34m(self, dialect, context, statement, parameters)\u001b[0m\n\u001b[1;32m   1965\u001b[0m                 \u001b[38;5;28;01mbreak\u001b[39;00m\n\u001b[1;32m   1966\u001b[0m     \u001b[38;5;28;01mif\u001b[39;00m \u001b[38;5;129;01mnot\u001b[39;00m evt_handled:\n\u001b[0;32m-> 1967\u001b[0m         \u001b[38;5;28;43mself\u001b[39;49m\u001b[38;5;241;43m.\u001b[39;49m\u001b[43mdialect\u001b[49m\u001b[38;5;241;43m.\u001b[39;49m\u001b[43mdo_execute\u001b[49m\u001b[43m(\u001b[49m\n\u001b[1;32m   1968\u001b[0m \u001b[43m            \u001b[49m\u001b[43mcursor\u001b[49m\u001b[43m,\u001b[49m\u001b[43m \u001b[49m\u001b[43mstr_statement\u001b[49m\u001b[43m,\u001b[49m\u001b[43m \u001b[49m\u001b[43meffective_parameters\u001b[49m\u001b[43m,\u001b[49m\u001b[43m \u001b[49m\u001b[43mcontext\u001b[49m\n\u001b[1;32m   1969\u001b[0m \u001b[43m        \u001b[49m\u001b[43m)\u001b[49m\n\u001b[1;32m   1971\u001b[0m \u001b[38;5;28;01mif\u001b[39;00m \u001b[38;5;28mself\u001b[39m\u001b[38;5;241m.\u001b[39m_has_events \u001b[38;5;129;01mor\u001b[39;00m \u001b[38;5;28mself\u001b[39m\u001b[38;5;241m.\u001b[39mengine\u001b[38;5;241m.\u001b[39m_has_events:\n\u001b[1;32m   1972\u001b[0m     \u001b[38;5;28mself\u001b[39m\u001b[38;5;241m.\u001b[39mdispatch\u001b[38;5;241m.\u001b[39mafter_cursor_execute(\n\u001b[1;32m   1973\u001b[0m         \u001b[38;5;28mself\u001b[39m,\n\u001b[1;32m   1974\u001b[0m         cursor,\n\u001b[0;32m   (...)\u001b[0m\n\u001b[1;32m   1978\u001b[0m         context\u001b[38;5;241m.\u001b[39mexecutemany,\n\u001b[1;32m   1979\u001b[0m     )\n",
      "File \u001b[0;32m/opt/conda/lib/python3.12/site-packages/trino/sqlalchemy/dialect.py:437\u001b[0m, in \u001b[0;36mTrinoDialect.do_execute\u001b[0;34m(self, cursor, statement, parameters, context)\u001b[0m\n\u001b[1;32m    434\u001b[0m \u001b[38;5;28;01mdef\u001b[39;00m \u001b[38;5;21mdo_execute\u001b[39m(\n\u001b[1;32m    435\u001b[0m     \u001b[38;5;28mself\u001b[39m, cursor: Cursor, statement: \u001b[38;5;28mstr\u001b[39m, parameters: Tuple[Any, \u001b[38;5;241m.\u001b[39m\u001b[38;5;241m.\u001b[39m\u001b[38;5;241m.\u001b[39m], context: DefaultExecutionContext \u001b[38;5;241m=\u001b[39m \u001b[38;5;28;01mNone\u001b[39;00m\n\u001b[1;32m    436\u001b[0m ):\n\u001b[0;32m--> 437\u001b[0m     \u001b[43mcursor\u001b[49m\u001b[38;5;241;43m.\u001b[39;49m\u001b[43mexecute\u001b[49m\u001b[43m(\u001b[49m\u001b[43mstatement\u001b[49m\u001b[43m,\u001b[49m\u001b[43m \u001b[49m\u001b[43mparameters\u001b[49m\u001b[43m)\u001b[49m\n",
      "File \u001b[0;32m/opt/conda/lib/python3.12/site-packages/trino/dbapi.py:589\u001b[0m, in \u001b[0;36mCursor.execute\u001b[0;34m(self, operation, params)\u001b[0m\n\u001b[1;32m    586\u001b[0m \u001b[38;5;28;01melse\u001b[39;00m:\n\u001b[1;32m    587\u001b[0m     \u001b[38;5;28mself\u001b[39m\u001b[38;5;241m.\u001b[39m_query \u001b[38;5;241m=\u001b[39m trino\u001b[38;5;241m.\u001b[39mclient\u001b[38;5;241m.\u001b[39mTrinoQuery(\u001b[38;5;28mself\u001b[39m\u001b[38;5;241m.\u001b[39m_request, query\u001b[38;5;241m=\u001b[39moperation,\n\u001b[1;32m    588\u001b[0m                                           legacy_primitive_types\u001b[38;5;241m=\u001b[39m\u001b[38;5;28mself\u001b[39m\u001b[38;5;241m.\u001b[39m_legacy_primitive_types)\n\u001b[0;32m--> 589\u001b[0m     \u001b[38;5;28mself\u001b[39m\u001b[38;5;241m.\u001b[39m_iterator \u001b[38;5;241m=\u001b[39m \u001b[38;5;28miter\u001b[39m(\u001b[38;5;28;43mself\u001b[39;49m\u001b[38;5;241;43m.\u001b[39;49m\u001b[43m_query\u001b[49m\u001b[38;5;241;43m.\u001b[39;49m\u001b[43mexecute\u001b[49m\u001b[43m(\u001b[49m\u001b[43m)\u001b[49m)\n\u001b[1;32m    590\u001b[0m \u001b[38;5;28;01mreturn\u001b[39;00m \u001b[38;5;28mself\u001b[39m\n",
      "File \u001b[0;32m/opt/conda/lib/python3.12/site-packages/trino/client.py:815\u001b[0m, in \u001b[0;36mTrinoQuery.execute\u001b[0;34m(self, additional_http_headers)\u001b[0m\n\u001b[1;32m    813\u001b[0m \u001b[38;5;28;01mexcept\u001b[39;00m requests\u001b[38;5;241m.\u001b[39mexceptions\u001b[38;5;241m.\u001b[39mRequestException \u001b[38;5;28;01mas\u001b[39;00m e:\n\u001b[1;32m    814\u001b[0m     \u001b[38;5;28;01mraise\u001b[39;00m trino\u001b[38;5;241m.\u001b[39mexceptions\u001b[38;5;241m.\u001b[39mTrinoConnectionError(\u001b[38;5;124m\"\u001b[39m\u001b[38;5;124mfailed to execute: \u001b[39m\u001b[38;5;132;01m{}\u001b[39;00m\u001b[38;5;124m\"\u001b[39m\u001b[38;5;241m.\u001b[39mformat(e))\n\u001b[0;32m--> 815\u001b[0m status \u001b[38;5;241m=\u001b[39m \u001b[38;5;28;43mself\u001b[39;49m\u001b[38;5;241;43m.\u001b[39;49m\u001b[43m_request\u001b[49m\u001b[38;5;241;43m.\u001b[39;49m\u001b[43mprocess\u001b[49m\u001b[43m(\u001b[49m\u001b[43mresponse\u001b[49m\u001b[43m)\u001b[49m\n\u001b[1;32m    816\u001b[0m \u001b[38;5;28mself\u001b[39m\u001b[38;5;241m.\u001b[39m_info_uri \u001b[38;5;241m=\u001b[39m status\u001b[38;5;241m.\u001b[39minfo_uri\n\u001b[1;32m    817\u001b[0m \u001b[38;5;28mself\u001b[39m\u001b[38;5;241m.\u001b[39m_query_id \u001b[38;5;241m=\u001b[39m status\u001b[38;5;241m.\u001b[39mid\n",
      "File \u001b[0;32m/opt/conda/lib/python3.12/site-packages/trino/client.py:616\u001b[0m, in \u001b[0;36mTrinoRequest.process\u001b[0;34m(self, http_response)\u001b[0m\n\u001b[1;32m    614\u001b[0m \u001b[38;5;28;01mdef\u001b[39;00m \u001b[38;5;21mprocess\u001b[39m(\u001b[38;5;28mself\u001b[39m, http_response) \u001b[38;5;241m-\u001b[39m\u001b[38;5;241m>\u001b[39m TrinoStatus:\n\u001b[1;32m    615\u001b[0m     \u001b[38;5;28;01mif\u001b[39;00m \u001b[38;5;129;01mnot\u001b[39;00m http_response\u001b[38;5;241m.\u001b[39mok:\n\u001b[0;32m--> 616\u001b[0m         \u001b[38;5;28;43mself\u001b[39;49m\u001b[38;5;241;43m.\u001b[39;49m\u001b[43mraise_response_error\u001b[49m\u001b[43m(\u001b[49m\u001b[43mhttp_response\u001b[49m\u001b[43m)\u001b[49m\n\u001b[1;32m    618\u001b[0m     http_response\u001b[38;5;241m.\u001b[39mencoding \u001b[38;5;241m=\u001b[39m \u001b[38;5;124m\"\u001b[39m\u001b[38;5;124mutf-8\u001b[39m\u001b[38;5;124m\"\u001b[39m\n\u001b[1;32m    619\u001b[0m     response \u001b[38;5;241m=\u001b[39m http_response\u001b[38;5;241m.\u001b[39mjson()\n",
      "File \u001b[0;32m/opt/conda/lib/python3.12/site-packages/trino/client.py:607\u001b[0m, in \u001b[0;36mTrinoRequest.raise_response_error\u001b[0;34m(self, http_response)\u001b[0m\n\u001b[1;32m    604\u001b[0m \u001b[38;5;28;01mif\u001b[39;00m http_response\u001b[38;5;241m.\u001b[39mstatus_code \u001b[38;5;241m==\u001b[39m \u001b[38;5;241m504\u001b[39m:\n\u001b[1;32m    605\u001b[0m     \u001b[38;5;28;01mraise\u001b[39;00m exceptions\u001b[38;5;241m.\u001b[39mHttp504Error(\u001b[38;5;124m\"\u001b[39m\u001b[38;5;124merror 504: gateway timeout\u001b[39m\u001b[38;5;124m\"\u001b[39m)\n\u001b[0;32m--> 607\u001b[0m \u001b[38;5;28;01mraise\u001b[39;00m exceptions\u001b[38;5;241m.\u001b[39mHttpError(\n\u001b[1;32m    608\u001b[0m     \u001b[38;5;124m\"\u001b[39m\u001b[38;5;124merror \u001b[39m\u001b[38;5;132;01m{}\u001b[39;00m\u001b[38;5;132;01m{}\u001b[39;00m\u001b[38;5;124m\"\u001b[39m\u001b[38;5;241m.\u001b[39mformat(\n\u001b[1;32m    609\u001b[0m         http_response\u001b[38;5;241m.\u001b[39mstatus_code,\n\u001b[1;32m    610\u001b[0m         \u001b[38;5;124m\"\u001b[39m\u001b[38;5;124m: \u001b[39m\u001b[38;5;132;01m{}\u001b[39;00m\u001b[38;5;124m\"\u001b[39m\u001b[38;5;241m.\u001b[39mformat(http_response\u001b[38;5;241m.\u001b[39mcontent) \u001b[38;5;28;01mif\u001b[39;00m http_response\u001b[38;5;241m.\u001b[39mcontent \u001b[38;5;28;01melse\u001b[39;00m \u001b[38;5;124m\"\u001b[39m\u001b[38;5;124m\"\u001b[39m,\n\u001b[1;32m    611\u001b[0m     )\n\u001b[1;32m    612\u001b[0m )\n",
      "\u001b[0;31mHttpError\u001b[0m: error 404: b'404 page not found\\n'"
     ]
    }
   ],
   "source": [
    "%%sql\n",
    "\n",
    "SELECT\n",
    "    DISTINCT vendorid\n",
    "FROM\n",
    "    vast.\"{{VASTDB_TWITTER_INGEST_BUCKET}}|taxi_data\".yellow_tripdata\n",
    "LIMIT 10"
   ]
  },
  {
   "cell_type": "code",
   "execution_count": null,
   "id": "33d0abc6-eca9-4249-871a-7a2119217555",
   "metadata": {},
   "outputs": [],
   "source": []
  }
 ],
 "metadata": {
  "kernelspec": {
   "display_name": "Python 3 (ipykernel)",
   "language": "python",
   "name": "python3"
  },
  "language_info": {
   "codemirror_mode": {
    "name": "ipython",
    "version": 3
   },
   "file_extension": ".py",
   "mimetype": "text/x-python",
   "name": "python",
   "nbconvert_exporter": "python",
   "pygments_lexer": "ipython3",
   "version": "3.12.7"
  }
 },
 "nbformat": 4,
 "nbformat_minor": 5
}

{
 "cells": [
  {
   "cell_type": "markdown",
   "id": "10fed33d-be68-4c1b-a045-30f853f1e6a5",
   "metadata": {},
   "source": [
    "# Yellow Taxi Data query in Vast DB - Part 4"
   ]
  },
  {
   "cell_type": "markdown",
   "id": "cdb975fc-e192-4f5e-a9e3-3967a86e7574",
   "metadata": {},
   "source": [
    "In this we verify the data imported into Vast DB can be queried.\n",
    "\n",
    "<div class=\"alert alert-block alert-info\">\n",
    "💡 <b>NOTE</b>\n",
    "<br/>\n",
    "<ul>\n",
    "<li>The <b>trino</b> project need to be running for this notebook.</li>\n",
    "<li>You can run projects with `cd trino && docker compose up -d --wait`.\n",
    "</div>\n"
   ]
  },
  {
   "cell_type": "code",
   "execution_count": 1,
   "id": "d3c30da6-abce-4090-80e7-452dbb55529e",
   "metadata": {},
   "outputs": [
    {
     "data": {
      "text/html": [
       "<span style=\"None\">Connecting to &#x27;trino://admin@10.143.11.241:8443/vast&#x27;</span>"
      ],
      "text/plain": [
       "Connecting to 'trino://admin@10.143.11.241:8443/vast'"
      ]
     },
     "metadata": {},
     "output_type": "display_data"
    }
   ],
   "source": [
    "import urllib3\n",
    "urllib3.disable_warnings(urllib3.exceptions.InsecureRequestWarning)\n",
    "\n",
    "%load_ext sql\n",
    "%sql trino://admin@${DOCKER_HOST_OR_IP}:8443/vast  --connection_arguments '{\"http_scheme\":\"https\", \"verify\": false}'"
   ]
  },
  {
   "cell_type": "code",
   "execution_count": 2,
   "id": "ddf60b6b-5ab1-4e6b-ad6c-99e10b389f11",
   "metadata": {},
   "outputs": [
    {
     "data": {
      "text/html": [
       "<span style=\"None\">Running query in &#x27;trino://admin@10.143.11.241:8443/vast&#x27;</span>"
      ],
      "text/plain": [
       "Running query in 'trino://admin@10.143.11.241:8443/vast'"
      ]
     },
     "metadata": {},
     "output_type": "display_data"
    },
    {
     "data": {
      "text/html": [
       "<table>\n",
       "    <thead>\n",
       "        <tr>\n",
       "            <th>Schema</th>\n",
       "        </tr>\n",
       "    </thead>\n",
       "    <tbody>\n",
       "        <tr>\n",
       "            <td>csnow-db|nyt</td>\n",
       "        </tr>\n",
       "        <tr>\n",
       "            <td>csnow-db|social_media</td>\n",
       "        </tr>\n",
       "        <tr>\n",
       "            <td>information_schema</td>\n",
       "        </tr>\n",
       "        <tr>\n",
       "            <td>system_schema</td>\n",
       "        </tr>\n",
       "        <tr>\n",
       "            <td>vast-audit-log-bucket|vast_audit_log_schema</td>\n",
       "        </tr>\n",
       "        <tr>\n",
       "            <td>vast-big-catalog-bucket|vast_big_catalog_schema</td>\n",
       "        </tr>\n",
       "    </tbody>\n",
       "</table>"
      ],
      "text/plain": [
       "+-------------------------------------------------+\n",
       "|                      Schema                     |\n",
       "+-------------------------------------------------+\n",
       "|                   csnow-db|nyt                  |\n",
       "|              csnow-db|social_media              |\n",
       "|                information_schema               |\n",
       "|                  system_schema                  |\n",
       "|   vast-audit-log-bucket|vast_audit_log_schema   |\n",
       "| vast-big-catalog-bucket|vast_big_catalog_schema |\n",
       "+-------------------------------------------------+"
      ]
     },
     "execution_count": 2,
     "metadata": {},
     "output_type": "execute_result"
    }
   ],
   "source": [
    "%%sql\n",
    "\n",
    "show schemas in vast"
   ]
  },
  {
   "cell_type": "code",
   "execution_count": 3,
   "id": "e86abfa6-1553-4463-a72e-84fd5d9d0fa7",
   "metadata": {},
   "outputs": [
    {
     "name": "stdout",
     "output_type": "stream",
     "text": [
      "csnow-db nyt taxi\n"
     ]
    }
   ],
   "source": [
    "import os\n",
    "VASTDB_NYT_BUCKET = os.getenv('VASTDB_NYT_BUCKET')\n",
    "VASTDB_NYT_SCHEMA = os.getenv('VASTDB_NYT_SCHEMA')\n",
    "VASTDB_NYT_TABLE = os.getenv('VASTDB_NYT_TABLE')\n",
    "\n",
    "print(VASTDB_NYT_BUCKET, VASTDB_NYT_SCHEMA, VASTDB_NYT_TABLE)"
   ]
  },
  {
   "cell_type": "code",
   "execution_count": 4,
   "id": "8c7f3b16-2b25-4b28-825e-e898ae6aaa50",
   "metadata": {},
   "outputs": [
    {
     "data": {
      "text/html": [
       "<span style=\"None\">Running query in &#x27;trino://admin@10.143.11.241:8443/vast&#x27;</span>"
      ],
      "text/plain": [
       "Running query in 'trino://admin@10.143.11.241:8443/vast'"
      ]
     },
     "metadata": {},
     "output_type": "display_data"
    },
    {
     "data": {
      "text/html": [
       "<table>\n",
       "    <thead>\n",
       "        <tr>\n",
       "            <th>Table</th>\n",
       "        </tr>\n",
       "    </thead>\n",
       "    <tbody>\n",
       "        <tr>\n",
       "            <td>taxi</td>\n",
       "        </tr>\n",
       "    </tbody>\n",
       "</table>"
      ],
      "text/plain": [
       "+-------+\n",
       "| Table |\n",
       "+-------+\n",
       "|  taxi |\n",
       "+-------+"
      ]
     },
     "execution_count": 4,
     "metadata": {},
     "output_type": "execute_result"
    }
   ],
   "source": [
    "%%sql\n",
    "    \n",
    "show tables in vast.\"{{VASTDB_NYT_BUCKET}}|{{VASTDB_NYT_SCHEMA}}\""
   ]
  },
  {
   "cell_type": "code",
   "execution_count": 5,
   "id": "1a5cddf3-0297-40b6-a604-57efc6dc94ac",
   "metadata": {},
   "outputs": [
    {
     "data": {
      "text/html": [
       "<span style=\"None\">Running query in &#x27;trino://admin@10.143.11.241:8443/vast&#x27;</span>"
      ],
      "text/plain": [
       "Running query in 'trino://admin@10.143.11.241:8443/vast'"
      ]
     },
     "metadata": {},
     "output_type": "display_data"
    },
    {
     "data": {
      "text/html": [
       "<table>\n",
       "    <thead>\n",
       "        <tr>\n",
       "            <th>row_count</th>\n",
       "        </tr>\n",
       "    </thead>\n",
       "    <tbody>\n",
       "        <tr>\n",
       "            <td>1,763,456,499</td>\n",
       "        </tr>\n",
       "    </tbody>\n",
       "</table>"
      ],
      "text/plain": [
       "+---------------+\n",
       "|   row_count   |\n",
       "+---------------+\n",
       "| 1,763,456,499 |\n",
       "+---------------+"
      ]
     },
     "execution_count": 5,
     "metadata": {},
     "output_type": "execute_result"
    }
   ],
   "source": [
    "%%sql\n",
    "\n",
    "select \n",
    "    format('%,d', COUNT(*)) as row_count \n",
    "from\n",
    "    vast.\"{{VASTDB_NYT_BUCKET}}|{{VASTDB_NYT_SCHEMA}}\".{{VASTDB_NYT_TABLE}}"
   ]
  },
  {
   "cell_type": "code",
   "execution_count": 6,
   "id": "535a4aad-ca7f-4a42-ae40-9dc7e97f18fe",
   "metadata": {},
   "outputs": [
    {
     "data": {
      "text/html": [
       "<span style=\"None\">Running query in &#x27;trino://admin@10.143.11.241:8443/vast&#x27;</span>"
      ],
      "text/plain": [
       "Running query in 'trino://admin@10.143.11.241:8443/vast'"
      ]
     },
     "metadata": {},
     "output_type": "display_data"
    },
    {
     "data": {
      "text/html": [
       "<table>\n",
       "    <thead>\n",
       "        <tr>\n",
       "            <th>airport_fee</th>\n",
       "            <th>congestion_surcharge</th>\n",
       "            <th>dolocationid</th>\n",
       "            <th>dropoff_latitude</th>\n",
       "            <th>dropoff_longitude</th>\n",
       "            <th>extra</th>\n",
       "            <th>fare_amount</th>\n",
       "            <th>improvement_surcharge</th>\n",
       "            <th>mta_tax</th>\n",
       "            <th>passenger_count</th>\n",
       "            <th>payment_type</th>\n",
       "            <th>pulocationid</th>\n",
       "            <th>pickup_latitude</th>\n",
       "            <th>pickup_longitude</th>\n",
       "            <th>ratecodeid</th>\n",
       "            <th>store_and_fwd_flag</th>\n",
       "            <th>surcharge</th>\n",
       "            <th>tip_amount</th>\n",
       "            <th>tolls_amount</th>\n",
       "            <th>total_amount</th>\n",
       "            <th>tpep_dropoff_datetime</th>\n",
       "            <th>tpep_pickup_datetime</th>\n",
       "            <th>trip_distance</th>\n",
       "            <th>vendorid</th>\n",
       "        </tr>\n",
       "    </thead>\n",
       "    <tbody>\n",
       "        <tr>\n",
       "            <td>-999.0</td>\n",
       "            <td>-999.0</td>\n",
       "            <td>-999</td>\n",
       "            <td>40.761712</td>\n",
       "            <td>-73.970363</td>\n",
       "            <td>-999.0</td>\n",
       "            <td>6.9</td>\n",
       "            <td>-999.0</td>\n",
       "            <td>None</td>\n",
       "            <td>1</td>\n",
       "            <td>Credit</td>\n",
       "            <td>-999</td>\n",
       "            <td>40.756488</td>\n",
       "            <td>-73.98270499999998</td>\n",
       "            <td>None</td>\n",
       "            <td>None</td>\n",
       "            <td>0.0</td>\n",
       "            <td>2.0</td>\n",
       "            <td>0.0</td>\n",
       "            <td>8.9</td>\n",
       "            <td>2009-02-06 15:16:00</td>\n",
       "            <td>2009-02-06 15:10:00</td>\n",
       "            <td>1.06</td>\n",
       "            <td>VTS</td>\n",
       "        </tr>\n",
       "        <tr>\n",
       "            <td>-999.0</td>\n",
       "            <td>-999.0</td>\n",
       "            <td>-999</td>\n",
       "            <td>40.774157</td>\n",
       "            <td>-73.871018</td>\n",
       "            <td>-999.0</td>\n",
       "            <td>24.1</td>\n",
       "            <td>-999.0</td>\n",
       "            <td>None</td>\n",
       "            <td>1</td>\n",
       "            <td>CASH</td>\n",
       "            <td>-999</td>\n",
       "            <td>40.746547</td>\n",
       "            <td>-73.991455</td>\n",
       "            <td>None</td>\n",
       "            <td>None</td>\n",
       "            <td>0.0</td>\n",
       "            <td>0.0</td>\n",
       "            <td>4.15</td>\n",
       "            <td>28.25</td>\n",
       "            <td>2009-02-06 14:34:00</td>\n",
       "            <td>2009-02-06 14:10:00</td>\n",
       "            <td>9.31</td>\n",
       "            <td>VTS</td>\n",
       "        </tr>\n",
       "        <tr>\n",
       "            <td>-999.0</td>\n",
       "            <td>-999.0</td>\n",
       "            <td>-999</td>\n",
       "            <td>40.7326</td>\n",
       "            <td>-74.00488799999998</td>\n",
       "            <td>-999.0</td>\n",
       "            <td>6.5</td>\n",
       "            <td>-999.0</td>\n",
       "            <td>None</td>\n",
       "            <td>2</td>\n",
       "            <td>CASH</td>\n",
       "            <td>-999</td>\n",
       "            <td>40.716978</td>\n",
       "            <td>-73.99804</td>\n",
       "            <td>None</td>\n",
       "            <td>None</td>\n",
       "            <td>0.5</td>\n",
       "            <td>0.0</td>\n",
       "            <td>0.0</td>\n",
       "            <td>7.0</td>\n",
       "            <td>2009-02-05 21:44:00</td>\n",
       "            <td>2009-02-05 21:36:00</td>\n",
       "            <td>1.39</td>\n",
       "            <td>VTS</td>\n",
       "        </tr>\n",
       "        <tr>\n",
       "            <td>-999.0</td>\n",
       "            <td>-999.0</td>\n",
       "            <td>-999</td>\n",
       "            <td>40.773852</td>\n",
       "            <td>-73.96388</td>\n",
       "            <td>-999.0</td>\n",
       "            <td>9.7</td>\n",
       "            <td>-999.0</td>\n",
       "            <td>None</td>\n",
       "            <td>5</td>\n",
       "            <td>Credit</td>\n",
       "            <td>-999</td>\n",
       "            <td>40.746455</td>\n",
       "            <td>-73.97172</td>\n",
       "            <td>None</td>\n",
       "            <td>None</td>\n",
       "            <td>0.0</td>\n",
       "            <td>1.0</td>\n",
       "            <td>0.0</td>\n",
       "            <td>10.7</td>\n",
       "            <td>2009-02-06 10:09:00</td>\n",
       "            <td>2009-02-06 10:04:00</td>\n",
       "            <td>2.4</td>\n",
       "            <td>VTS</td>\n",
       "        </tr>\n",
       "        <tr>\n",
       "            <td>-999.0</td>\n",
       "            <td>-999.0</td>\n",
       "            <td>-999</td>\n",
       "            <td>40.760313</td>\n",
       "            <td>-73.97999199999998</td>\n",
       "            <td>-999.0</td>\n",
       "            <td>4.1</td>\n",
       "            <td>-999.0</td>\n",
       "            <td>None</td>\n",
       "            <td>2</td>\n",
       "            <td>CASH</td>\n",
       "            <td>-999</td>\n",
       "            <td>40.755893</td>\n",
       "            <td>-73.974717</td>\n",
       "            <td>None</td>\n",
       "            <td>None</td>\n",
       "            <td>0.5</td>\n",
       "            <td>0.0</td>\n",
       "            <td>0.0</td>\n",
       "            <td>4.6</td>\n",
       "            <td>2009-02-06 22:01:00</td>\n",
       "            <td>2009-02-06 21:56:00</td>\n",
       "            <td>0.52</td>\n",
       "            <td>VTS</td>\n",
       "        </tr>\n",
       "        <tr>\n",
       "            <td>-999.0</td>\n",
       "            <td>-999.0</td>\n",
       "            <td>-999</td>\n",
       "            <td>40.741028</td>\n",
       "            <td>-73.987252</td>\n",
       "            <td>-999.0</td>\n",
       "            <td>6.5</td>\n",
       "            <td>-999.0</td>\n",
       "            <td>None</td>\n",
       "            <td>5</td>\n",
       "            <td>CASH</td>\n",
       "            <td>-999</td>\n",
       "            <td>40.75683</td>\n",
       "            <td>-73.97863499999998</td>\n",
       "            <td>None</td>\n",
       "            <td>None</td>\n",
       "            <td>0.0</td>\n",
       "            <td>0.0</td>\n",
       "            <td>0.0</td>\n",
       "            <td>6.5</td>\n",
       "            <td>2009-02-06 12:44:00</td>\n",
       "            <td>2009-02-06 12:35:00</td>\n",
       "            <td>1.31</td>\n",
       "            <td>VTS</td>\n",
       "        </tr>\n",
       "        <tr>\n",
       "            <td>-999.0</td>\n",
       "            <td>-999.0</td>\n",
       "            <td>-999</td>\n",
       "            <td>40.711955</td>\n",
       "            <td>-74.015572</td>\n",
       "            <td>-999.0</td>\n",
       "            <td>8.5</td>\n",
       "            <td>-999.0</td>\n",
       "            <td>None</td>\n",
       "            <td>1</td>\n",
       "            <td>CASH</td>\n",
       "            <td>-999</td>\n",
       "            <td>40.73438</td>\n",
       "            <td>-73.999155</td>\n",
       "            <td>None</td>\n",
       "            <td>None</td>\n",
       "            <td>0.5</td>\n",
       "            <td>0.0</td>\n",
       "            <td>0.0</td>\n",
       "            <td>9.0</td>\n",
       "            <td>2009-02-07 21:04:00</td>\n",
       "            <td>2009-02-07 20:53:00</td>\n",
       "            <td>2.42</td>\n",
       "            <td>VTS</td>\n",
       "        </tr>\n",
       "        <tr>\n",
       "            <td>-999.0</td>\n",
       "            <td>-999.0</td>\n",
       "            <td>-999</td>\n",
       "            <td>40.783963</td>\n",
       "            <td>-73.954375</td>\n",
       "            <td>-999.0</td>\n",
       "            <td>3.7</td>\n",
       "            <td>-999.0</td>\n",
       "            <td>None</td>\n",
       "            <td>5</td>\n",
       "            <td>CASH</td>\n",
       "            <td>-999</td>\n",
       "            <td>40.788292</td>\n",
       "            <td>-73.95345299999998</td>\n",
       "            <td>None</td>\n",
       "            <td>None</td>\n",
       "            <td>0.0</td>\n",
       "            <td>0.0</td>\n",
       "            <td>0.0</td>\n",
       "            <td>3.7</td>\n",
       "            <td>2009-02-06 14:17:00</td>\n",
       "            <td>2009-02-06 14:13:00</td>\n",
       "            <td>0.4199999999999999</td>\n",
       "            <td>VTS</td>\n",
       "        </tr>\n",
       "        <tr>\n",
       "            <td>-999.0</td>\n",
       "            <td>-999.0</td>\n",
       "            <td>-999</td>\n",
       "            <td>40.80787</td>\n",
       "            <td>-73.947882</td>\n",
       "            <td>-999.0</td>\n",
       "            <td>13.7</td>\n",
       "            <td>-999.0</td>\n",
       "            <td>None</td>\n",
       "            <td>1</td>\n",
       "            <td>CASH</td>\n",
       "            <td>-999</td>\n",
       "            <td>40.790235</td>\n",
       "            <td>-73.96930999999998</td>\n",
       "            <td>None</td>\n",
       "            <td>None</td>\n",
       "            <td>0.0</td>\n",
       "            <td>0.0</td>\n",
       "            <td>0.0</td>\n",
       "            <td>13.7</td>\n",
       "            <td>2009-02-09 08:17:00</td>\n",
       "            <td>2009-02-09 07:54:00</td>\n",
       "            <td>2.36</td>\n",
       "            <td>VTS</td>\n",
       "        </tr>\n",
       "        <tr>\n",
       "            <td>-999.0</td>\n",
       "            <td>-999.0</td>\n",
       "            <td>-999</td>\n",
       "            <td>40.732885</td>\n",
       "            <td>-73.999863</td>\n",
       "            <td>-999.0</td>\n",
       "            <td>9.3</td>\n",
       "            <td>-999.0</td>\n",
       "            <td>None</td>\n",
       "            <td>2</td>\n",
       "            <td>CASH</td>\n",
       "            <td>-999</td>\n",
       "            <td>40.757057</td>\n",
       "            <td>-73.96703499999998</td>\n",
       "            <td>None</td>\n",
       "            <td>None</td>\n",
       "            <td>0.5</td>\n",
       "            <td>0.0</td>\n",
       "            <td>0.0</td>\n",
       "            <td>9.8</td>\n",
       "            <td>2009-02-05 22:33:00</td>\n",
       "            <td>2009-02-05 22:22:00</td>\n",
       "            <td>3.03</td>\n",
       "            <td>VTS</td>\n",
       "        </tr>\n",
       "    </tbody>\n",
       "</table>\n",
       "<span style=\"font-style:italic;text-align:center;\">Truncated to <a href=\"https://jupysql.ploomber.io/en/latest/api/configuration.html#displaylimit\">displaylimit</a> of 10.</span>"
      ],
      "text/plain": [
       "+-------------+----------------------+--------------+------------------+--------------------+--------+-------------+-----------------------+---------+-----------------+--------------+--------------+-----------------+--------------------+------------+--------------------+-----------+------------+--------------+--------------+-----------------------+----------------------+--------------------+----------+\n",
       "| airport_fee | congestion_surcharge | dolocationid | dropoff_latitude | dropoff_longitude  | extra  | fare_amount | improvement_surcharge | mta_tax | passenger_count | payment_type | pulocationid | pickup_latitude |  pickup_longitude  | ratecodeid | store_and_fwd_flag | surcharge | tip_amount | tolls_amount | total_amount | tpep_dropoff_datetime | tpep_pickup_datetime |   trip_distance    | vendorid |\n",
       "+-------------+----------------------+--------------+------------------+--------------------+--------+-------------+-----------------------+---------+-----------------+--------------+--------------+-----------------+--------------------+------------+--------------------+-----------+------------+--------------+--------------+-----------------------+----------------------+--------------------+----------+\n",
       "|    -999.0   |        -999.0        |     -999     |    40.761712     |     -73.970363     | -999.0 |     6.9     |         -999.0        |   None  |        1        |    Credit    |     -999     |    40.756488    | -73.98270499999998 |    None    |        None        |    0.0    |    2.0     |     0.0      |     8.9      |  2009-02-06 15:16:00  | 2009-02-06 15:10:00  |        1.06        |   VTS    |\n",
       "|    -999.0   |        -999.0        |     -999     |    40.774157     |     -73.871018     | -999.0 |     24.1    |         -999.0        |   None  |        1        |     CASH     |     -999     |    40.746547    |     -73.991455     |    None    |        None        |    0.0    |    0.0     |     4.15     |    28.25     |  2009-02-06 14:34:00  | 2009-02-06 14:10:00  |        9.31        |   VTS    |\n",
       "|    -999.0   |        -999.0        |     -999     |     40.7326      | -74.00488799999998 | -999.0 |     6.5     |         -999.0        |   None  |        2        |     CASH     |     -999     |    40.716978    |     -73.99804      |    None    |        None        |    0.5    |    0.0     |     0.0      |     7.0      |  2009-02-05 21:44:00  | 2009-02-05 21:36:00  |        1.39        |   VTS    |\n",
       "|    -999.0   |        -999.0        |     -999     |    40.773852     |     -73.96388      | -999.0 |     9.7     |         -999.0        |   None  |        5        |    Credit    |     -999     |    40.746455    |     -73.97172      |    None    |        None        |    0.0    |    1.0     |     0.0      |     10.7     |  2009-02-06 10:09:00  | 2009-02-06 10:04:00  |        2.4         |   VTS    |\n",
       "|    -999.0   |        -999.0        |     -999     |    40.760313     | -73.97999199999998 | -999.0 |     4.1     |         -999.0        |   None  |        2        |     CASH     |     -999     |    40.755893    |     -73.974717     |    None    |        None        |    0.5    |    0.0     |     0.0      |     4.6      |  2009-02-06 22:01:00  | 2009-02-06 21:56:00  |        0.52        |   VTS    |\n",
       "|    -999.0   |        -999.0        |     -999     |    40.741028     |     -73.987252     | -999.0 |     6.5     |         -999.0        |   None  |        5        |     CASH     |     -999     |     40.75683    | -73.97863499999998 |    None    |        None        |    0.0    |    0.0     |     0.0      |     6.5      |  2009-02-06 12:44:00  | 2009-02-06 12:35:00  |        1.31        |   VTS    |\n",
       "|    -999.0   |        -999.0        |     -999     |    40.711955     |     -74.015572     | -999.0 |     8.5     |         -999.0        |   None  |        1        |     CASH     |     -999     |     40.73438    |     -73.999155     |    None    |        None        |    0.5    |    0.0     |     0.0      |     9.0      |  2009-02-07 21:04:00  | 2009-02-07 20:53:00  |        2.42        |   VTS    |\n",
       "|    -999.0   |        -999.0        |     -999     |    40.783963     |     -73.954375     | -999.0 |     3.7     |         -999.0        |   None  |        5        |     CASH     |     -999     |    40.788292    | -73.95345299999998 |    None    |        None        |    0.0    |    0.0     |     0.0      |     3.7      |  2009-02-06 14:17:00  | 2009-02-06 14:13:00  | 0.4199999999999999 |   VTS    |\n",
       "|    -999.0   |        -999.0        |     -999     |     40.80787     |     -73.947882     | -999.0 |     13.7    |         -999.0        |   None  |        1        |     CASH     |     -999     |    40.790235    | -73.96930999999998 |    None    |        None        |    0.0    |    0.0     |     0.0      |     13.7     |  2009-02-09 08:17:00  | 2009-02-09 07:54:00  |        2.36        |   VTS    |\n",
       "|    -999.0   |        -999.0        |     -999     |    40.732885     |     -73.999863     | -999.0 |     9.3     |         -999.0        |   None  |        2        |     CASH     |     -999     |    40.757057    | -73.96703499999998 |    None    |        None        |    0.5    |    0.0     |     0.0      |     9.8      |  2009-02-05 22:33:00  | 2009-02-05 22:22:00  |        3.03        |   VTS    |\n",
       "+-------------+----------------------+--------------+------------------+--------------------+--------+-------------+-----------------------+---------+-----------------+--------------+--------------+-----------------+--------------------+------------+--------------------+-----------+------------+--------------+--------------+-----------------------+----------------------+--------------------+----------+\n",
       "Truncated to displaylimit of 10."
      ]
     },
     "execution_count": 6,
     "metadata": {},
     "output_type": "execute_result"
    }
   ],
   "source": [
    "%%sql\n",
    "\n",
    "SELECT\n",
    "    *\n",
    "FROM\n",
    "    vast.\"{{VASTDB_NYT_BUCKET}}|{{VASTDB_NYT_SCHEMA}}\".{{VASTDB_NYT_TABLE}}\n",
    "LIMIT 10"
   ]
  },
  {
   "cell_type": "code",
   "execution_count": null,
   "id": "33d0abc6-eca9-4249-871a-7a2119217555",
   "metadata": {},
   "outputs": [],
   "source": []
  }
 ],
 "metadata": {
  "kernelspec": {
   "display_name": "Python 3 (ipykernel)",
   "language": "python",
   "name": "python3"
  },
  "language_info": {
   "codemirror_mode": {
    "name": "ipython",
    "version": 3
   },
   "file_extension": ".py",
   "mimetype": "text/x-python",
   "name": "python",
   "nbconvert_exporter": "python",
   "pygments_lexer": "ipython3",
   "version": "3.12.7"
  }
 },
 "nbformat": 4,
 "nbformat_minor": 5
}

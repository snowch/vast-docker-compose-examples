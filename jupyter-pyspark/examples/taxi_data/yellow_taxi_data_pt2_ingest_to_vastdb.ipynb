{
 "cells": [
  {
   "cell_type": "markdown",
   "id": "10fed33d-be68-4c1b-a045-30f853f1e6a5",
   "metadata": {},
   "source": [
    "# Bulk Load Yellow Taxi Data"
   ]
  },
  {
   "cell_type": "code",
   "execution_count": 1,
   "id": "3bb0d111-afe5-4d0b-a5f0-a6fa1a8967d1",
   "metadata": {},
   "outputs": [],
   "source": [
    "! pip3 install --quiet vastdb"
   ]
  },
  {
   "cell_type": "code",
   "execution_count": 2,
   "id": "6a90b835-b443-42a2-b9d0-372dd7497c6e",
   "metadata": {},
   "outputs": [],
   "source": [
    "# Define date range\n",
    "start_date = \"2009-01\"\n",
    "end_date = \"2024-08\""
   ]
  },
  {
   "cell_type": "code",
   "execution_count": 3,
   "id": "4aca402f-6e79-4f65-8f11-0a70049a42a3",
   "metadata": {},
   "outputs": [
    {
     "name": "stdout",
     "output_type": "stream",
     "text": [
      "2009-01..2024-08 - len: 188\n"
     ]
    }
   ],
   "source": [
    "import pandas as pd\n",
    "\n",
    "# date range\n",
    "dates = pd.date_range(start_date, end_date, freq=\"MS\").strftime(\"%Y-%m\").tolist()\n",
    "print(f\"{min(dates)}..{max(dates)} - len: {len(dates)}\")"
   ]
  },
  {
   "cell_type": "code",
   "execution_count": 4,
   "id": "31dab003-4d9f-47b0-8181-63797260867e",
   "metadata": {},
   "outputs": [],
   "source": [
    "import os\n",
    "from io import StringIO\n",
    "from urllib.parse import urlparse\n",
    "\n",
    "import boto3\n",
    "from botocore.exceptions import NoCredentialsError\n",
    "\n",
    "import vastdb"
   ]
  },
  {
   "cell_type": "code",
   "execution_count": 5,
   "id": "d1ed0c37-64da-4137-abfa-cdeb705dd1a9",
   "metadata": {},
   "outputs": [],
   "source": [
    "VASTDB_ENDPOINT = os.getenv(\"VASTDB_ENDPOINT\")\n",
    "VASTDB_ACCESS_KEY = os.getenv(\"VASTDB_ACCESS_KEY\")\n",
    "VASTDB_SECRET_KEY = os.getenv(\"VASTDB_SECRET_KEY\")\n",
    "\n",
    "VASTDB_TWITTER_INGEST_BUCKET = os.getenv(\"VASTDB_TWITTER_INGEST_BUCKET\")\n",
    "\n",
    "S3_ENDPOINT = os.getenv(\"S3A_ENDPOINT\")\n",
    "S3_ACCESS_KEY = os.getenv(\"S3A_ACCESS_KEY\")\n",
    "S3_SECRET_KEY = os.getenv(\"S3A_SECRET_KEY\")\n",
    "S3_BUCKET = os.getenv(\"S3A_BUCKET\")\n",
    "\n",
    "###### SET THIS ######\n",
    "VASTDB_TWITTER_INGEST_SCHEMA = 'taxi_data'\n",
    "VASTDB_TWITTER_INGEST_TABLE = 'yellow_tripdata'\n",
    "###### SET THIS ######"
   ]
  },
  {
   "cell_type": "code",
   "execution_count": 6,
   "id": "f40282e3-33b5-4443-a757-adb9c627a873",
   "metadata": {},
   "outputs": [
    {
     "name": "stdout",
     "output_type": "stream",
     "text": [
      "\n",
      "---\n",
      "VASTDB_ENDPOINT=http://172.200.204.2:80\n",
      "VASTDB_ACCESS_KEY=QXN5\n",
      "VASTDB_SECRET_KEY=****oLGr\n",
      "VASTDB_TWITTER_INGEST_BUCKET=csnow-db\n",
      "VASTDB_TWITTER_INGEST_SCHEMA=taxi_data\n",
      "VASTDB_TWITTER_INGEST_TABLE=yellow_tripdata\n",
      "---\n",
      "S3_ENDPOINT=http://172.200.204.2:80\n",
      "S3_ACCESS_KEY=QXN5\n",
      "S3_SECRET_KEY=****oLGr\n",
      "S3_BUCKET=csnow-bucket\n",
      "\n"
     ]
    }
   ],
   "source": [
    "print(f\"\"\"\n",
    "---\n",
    "VASTDB_ENDPOINT={VASTDB_ENDPOINT}\n",
    "VASTDB_ACCESS_KEY={VASTDB_ACCESS_KEY[-4:]}\n",
    "VASTDB_SECRET_KEY=****{VASTDB_SECRET_KEY[-4:]}\n",
    "VASTDB_TWITTER_INGEST_BUCKET={VASTDB_TWITTER_INGEST_BUCKET}\n",
    "VASTDB_TWITTER_INGEST_SCHEMA={VASTDB_TWITTER_INGEST_SCHEMA}\n",
    "VASTDB_TWITTER_INGEST_TABLE={VASTDB_TWITTER_INGEST_TABLE}\n",
    "---\n",
    "S3_ENDPOINT={S3_ENDPOINT}\n",
    "S3_ACCESS_KEY={S3_ACCESS_KEY[-4:]}\n",
    "S3_SECRET_KEY=****{VASTDB_SECRET_KEY[-4:]}\n",
    "S3_BUCKET={S3_BUCKET}\n",
    "\"\"\")"
   ]
  },
  {
   "cell_type": "code",
   "execution_count": 7,
   "id": "954ed1e1-b4ae-4522-b6b8-5bd1e5f67283",
   "metadata": {},
   "outputs": [],
   "source": [
    "def connect_to_vastdb(endpoint, access_key, secret_key):\n",
    "    \"\"\"Connects to VastDB.\"\"\"\n",
    "    try:\n",
    "        session = vastdb.connect(endpoint=endpoint, access=access_key, secret=secret_key)\n",
    "        print(\"Connected to VastDB\")\n",
    "        return session\n",
    "    except Exception as e:\n",
    "        raise RuntimeError(f\"Failed to connect to VastDB: {e}\") from e\n",
    "\n",
    "def import_to_vastdb(session, bucket_name, schema_name, table_name, files_to_import):\n",
    "    with session.transaction() as tx:\n",
    "        bucket = tx.bucket(bucket_name)\n",
    "        schema = bucket.schema(schema_name, fail_if_missing=False) or bucket.create_schema(schema_name)\n",
    "        table = schema.table(table_name, fail_if_missing=False)\n",
    "\n",
    "        if table:\n",
    "            table.import_files(files_to_import=files_to_import)\n",
    "        else:\n",
    "            table = vastdb.util.create_table_from_files(\n",
    "                schema=schema, \n",
    "                table_name=table_name,\n",
    "                parquet_files=files_to_import\n",
    "            )"
   ]
  },
  {
   "cell_type": "code",
   "execution_count": 8,
   "id": "3829d06b-6188-4131-ab04-3dadc1a84399",
   "metadata": {},
   "outputs": [],
   "source": [
    "def file_exists_in_s3(s3_client, bucket_name, s3_key):\n",
    "    try:\n",
    "        s3_client.head_object(Bucket=bucket_name, Key=s3_key)\n",
    "        return True  # File exists\n",
    "    except ClientError as e:\n",
    "        if e.response['Error']['Code'] == \"404\":\n",
    "            return False  # File does not exist\n",
    "        raise  # Re-raise other exceptions"
   ]
  },
  {
   "cell_type": "code",
   "execution_count": 9,
   "id": "7ad41868-d5dd-4e1f-a2a7-685faacef46c",
   "metadata": {},
   "outputs": [],
   "source": [
    "# session = connect_to_vastdb(VASTDB_ENDPOINT, VASTDB_ACCESS_KEY, VASTDB_SECRET_KEY)\n",
    "\n",
    "# Initialize S3 client\n",
    "s3_client = boto3.client(\n",
    "    's3', \n",
    "    region_name='vast',\n",
    "    endpoint_url=S3_ENDPOINT,\n",
    "    aws_access_key_id=S3_ACCESS_KEY,\n",
    "    aws_secret_access_key=S3_SECRET_KEY\n",
    ")"
   ]
  },
  {
   "cell_type": "code",
   "execution_count": 10,
   "id": "7fb66cf8-0074-454f-980b-f757bc44954c",
   "metadata": {},
   "outputs": [
    {
     "name": "stdout",
     "output_type": "stream",
     "text": [
      "Connected to VastDB\n",
      "yellow_tripdata/yellow_tripdata_2009-01.parquet\n"
     ]
    },
    {
     "name": "stderr",
     "output_type": "stream",
     "text": [
      "rolling back txid=0128d0000000018b due to:\n",
      "Traceback (most recent call last):\n",
      "  File \"/tmp/ipykernel_588690/547640309.py\", line 17, in import_to_vastdb\n",
      "    table.import_files(files_to_import=files_to_import)\n",
      "  File \"/opt/conda/lib/python3.12/site-packages/vastdb/table.py\", line 203, in import_files\n",
      "    self._execute_import(source_files, config=config)\n",
      "  File \"/opt/conda/lib/python3.12/site-packages/vastdb/table.py\", line 264, in _execute_import\n",
      "    for future in concurrent.futures.as_completed(futures):\n",
      "                  ^^^^^^^^^^^^^^^^^^^^^^^^^^^^^^^^^^^^^^^^\n",
      "  File \"/opt/conda/lib/python3.12/concurrent/futures/_base.py\", line 243, in as_completed\n",
      "    waiter.event.wait(wait_timeout)\n",
      "  File \"/opt/conda/lib/python3.12/threading.py\", line 655, in wait\n",
      "    signaled = self._cond.wait(timeout)\n",
      "               ^^^^^^^^^^^^^^^^^^^^^^^^\n",
      "  File \"/opt/conda/lib/python3.12/threading.py\", line 355, in wait\n",
      "    waiter.acquire()\n",
      "KeyboardInterrupt\n"
     ]
    },
    {
     "ename": "KeyboardInterrupt",
     "evalue": "",
     "output_type": "error",
     "traceback": [
      "\u001b[0;31m---------------------------------------------------------------------------\u001b[0m",
      "\u001b[0;31mKeyboardInterrupt\u001b[0m                         Traceback (most recent call last)",
      "Cell \u001b[0;32mIn[10], line 14\u001b[0m\n\u001b[1;32m     11\u001b[0m s3_key \u001b[38;5;241m=\u001b[39m \u001b[38;5;124mf\u001b[39m\u001b[38;5;124m\"\u001b[39m\u001b[38;5;124myellow_tripdata/yellow_tripdata_\u001b[39m\u001b[38;5;132;01m{\u001b[39;00mdate\u001b[38;5;132;01m}\u001b[39;00m\u001b[38;5;124m.parquet\u001b[39m\u001b[38;5;124m\"\u001b[39m\n\u001b[1;32m     12\u001b[0m \u001b[38;5;28mprint\u001b[39m(s3_key)\n\u001b[0;32m---> 14\u001b[0m \u001b[43mimport_to_vastdb\u001b[49m\u001b[43m(\u001b[49m\n\u001b[1;32m     15\u001b[0m \u001b[43m    \u001b[49m\u001b[43msession\u001b[49m\u001b[38;5;241;43m=\u001b[39;49m\u001b[43msession\u001b[49m\u001b[43m,\u001b[49m\n\u001b[1;32m     16\u001b[0m \u001b[43m    \u001b[49m\u001b[43mbucket_name\u001b[49m\u001b[38;5;241;43m=\u001b[39;49m\u001b[43mVASTDB_TWITTER_INGEST_BUCKET\u001b[49m\u001b[43m,\u001b[49m\u001b[43m \u001b[49m\n\u001b[1;32m     17\u001b[0m \u001b[43m    \u001b[49m\u001b[43mschema_name\u001b[49m\u001b[38;5;241;43m=\u001b[39;49m\u001b[43mVASTDB_TWITTER_INGEST_SCHEMA\u001b[49m\u001b[43m,\u001b[49m\u001b[43m \u001b[49m\n\u001b[1;32m     18\u001b[0m \u001b[43m    \u001b[49m\u001b[43mtable_name\u001b[49m\u001b[38;5;241;43m=\u001b[39;49m\u001b[43mVASTDB_TWITTER_INGEST_TABLE\u001b[49m\u001b[43m,\u001b[49m\u001b[43m \u001b[49m\n\u001b[1;32m     19\u001b[0m \u001b[43m    \u001b[49m\u001b[43mfiles_to_import\u001b[49m\u001b[38;5;241;43m=\u001b[39;49m\u001b[43m[\u001b[49m\u001b[38;5;124;43mf\u001b[39;49m\u001b[38;5;124;43m\"\u001b[39;49m\u001b[38;5;124;43m/\u001b[39;49m\u001b[38;5;132;43;01m{\u001b[39;49;00m\u001b[43mS3_BUCKET\u001b[49m\u001b[38;5;132;43;01m}\u001b[39;49;00m\u001b[38;5;124;43m/\u001b[39;49m\u001b[38;5;132;43;01m{\u001b[39;49;00m\u001b[43ms3_key\u001b[49m\u001b[38;5;132;43;01m}\u001b[39;49;00m\u001b[38;5;124;43m\"\u001b[39;49m\u001b[43m]\u001b[49m\n\u001b[1;32m     20\u001b[0m \u001b[43m\u001b[49m\u001b[43m)\u001b[49m\n",
      "Cell \u001b[0;32mIn[7], line 17\u001b[0m, in \u001b[0;36mimport_to_vastdb\u001b[0;34m(session, bucket_name, schema_name, table_name, files_to_import)\u001b[0m\n\u001b[1;32m     14\u001b[0m table \u001b[38;5;241m=\u001b[39m schema\u001b[38;5;241m.\u001b[39mtable(table_name, fail_if_missing\u001b[38;5;241m=\u001b[39m\u001b[38;5;28;01mFalse\u001b[39;00m)\n\u001b[1;32m     16\u001b[0m \u001b[38;5;28;01mif\u001b[39;00m table:\n\u001b[0;32m---> 17\u001b[0m     \u001b[43mtable\u001b[49m\u001b[38;5;241;43m.\u001b[39;49m\u001b[43mimport_files\u001b[49m\u001b[43m(\u001b[49m\u001b[43mfiles_to_import\u001b[49m\u001b[38;5;241;43m=\u001b[39;49m\u001b[43mfiles_to_import\u001b[49m\u001b[43m)\u001b[49m\n\u001b[1;32m     18\u001b[0m \u001b[38;5;28;01melse\u001b[39;00m:\n\u001b[1;32m     19\u001b[0m     table \u001b[38;5;241m=\u001b[39m vastdb\u001b[38;5;241m.\u001b[39mutil\u001b[38;5;241m.\u001b[39mcreate_table_from_files(\n\u001b[1;32m     20\u001b[0m         schema\u001b[38;5;241m=\u001b[39mschema, \n\u001b[1;32m     21\u001b[0m         table_name\u001b[38;5;241m=\u001b[39mtable_name,\n\u001b[1;32m     22\u001b[0m         parquet_files\u001b[38;5;241m=\u001b[39mfiles_to_import\n\u001b[1;32m     23\u001b[0m     )\n",
      "File \u001b[0;32m/opt/conda/lib/python3.12/site-packages/vastdb/table.py:203\u001b[0m, in \u001b[0;36mTable.import_files\u001b[0;34m(self, files_to_import, config)\u001b[0m\n\u001b[1;32m    200\u001b[0m     bucket_name, object_path \u001b[38;5;241m=\u001b[39m _parse_bucket_and_object_names(f)\n\u001b[1;32m    201\u001b[0m     source_files[(bucket_name, object_path)] \u001b[38;5;241m=\u001b[39m \u001b[38;5;124mb\u001b[39m\u001b[38;5;124m'\u001b[39m\u001b[38;5;124m'\u001b[39m\n\u001b[0;32m--> 203\u001b[0m \u001b[38;5;28;43mself\u001b[39;49m\u001b[38;5;241;43m.\u001b[39;49m\u001b[43m_execute_import\u001b[49m\u001b[43m(\u001b[49m\u001b[43msource_files\u001b[49m\u001b[43m,\u001b[49m\u001b[43m \u001b[49m\u001b[43mconfig\u001b[49m\u001b[38;5;241;43m=\u001b[39;49m\u001b[43mconfig\u001b[49m\u001b[43m)\u001b[49m\n",
      "File \u001b[0;32m/opt/conda/lib/python3.12/site-packages/vastdb/table.py:264\u001b[0m, in \u001b[0;36mTable._execute_import\u001b[0;34m(self, source_files, config)\u001b[0m\n\u001b[1;32m    261\u001b[0m         futures\u001b[38;5;241m.\u001b[39mappend(pool\u001b[38;5;241m.\u001b[39msubmit(import_worker, files_queue, endpoint))\n\u001b[1;32m    263\u001b[0m     log\u001b[38;5;241m.\u001b[39mdebug(\u001b[38;5;124m\"\u001b[39m\u001b[38;5;124mWaiting for import workers to finish\u001b[39m\u001b[38;5;124m\"\u001b[39m)\n\u001b[0;32m--> 264\u001b[0m \u001b[43m    \u001b[49m\u001b[38;5;28;43;01mfor\u001b[39;49;00m\u001b[43m \u001b[49m\u001b[43mfuture\u001b[49m\u001b[43m \u001b[49m\u001b[38;5;129;43;01min\u001b[39;49;00m\u001b[43m \u001b[49m\u001b[43mconcurrent\u001b[49m\u001b[38;5;241;43m.\u001b[39;49m\u001b[43mfutures\u001b[49m\u001b[38;5;241;43m.\u001b[39;49m\u001b[43mas_completed\u001b[49m\u001b[43m(\u001b[49m\u001b[43mfutures\u001b[49m\u001b[43m)\u001b[49m\u001b[43m:\u001b[49m\n\u001b[1;32m    265\u001b[0m \u001b[43m        \u001b[49m\u001b[43mfuture\u001b[49m\u001b[38;5;241;43m.\u001b[39;49m\u001b[43mresult\u001b[49m\u001b[43m(\u001b[49m\u001b[43m)\u001b[49m\n\u001b[1;32m    266\u001b[0m \u001b[38;5;28;01mfinally\u001b[39;00m:\n",
      "File \u001b[0;32m/opt/conda/lib/python3.12/concurrent/futures/_base.py:243\u001b[0m, in \u001b[0;36mas_completed\u001b[0;34m(fs, timeout)\u001b[0m\n\u001b[1;32m    238\u001b[0m     \u001b[38;5;28;01mif\u001b[39;00m wait_timeout \u001b[38;5;241m<\u001b[39m \u001b[38;5;241m0\u001b[39m:\n\u001b[1;32m    239\u001b[0m         \u001b[38;5;28;01mraise\u001b[39;00m \u001b[38;5;167;01mTimeoutError\u001b[39;00m(\n\u001b[1;32m    240\u001b[0m                 \u001b[38;5;124m'\u001b[39m\u001b[38;5;132;01m%d\u001b[39;00m\u001b[38;5;124m (of \u001b[39m\u001b[38;5;132;01m%d\u001b[39;00m\u001b[38;5;124m) futures unfinished\u001b[39m\u001b[38;5;124m'\u001b[39m \u001b[38;5;241m%\u001b[39m (\n\u001b[1;32m    241\u001b[0m                 \u001b[38;5;28mlen\u001b[39m(pending), total_futures))\n\u001b[0;32m--> 243\u001b[0m \u001b[43mwaiter\u001b[49m\u001b[38;5;241;43m.\u001b[39;49m\u001b[43mevent\u001b[49m\u001b[38;5;241;43m.\u001b[39;49m\u001b[43mwait\u001b[49m\u001b[43m(\u001b[49m\u001b[43mwait_timeout\u001b[49m\u001b[43m)\u001b[49m\n\u001b[1;32m    245\u001b[0m \u001b[38;5;28;01mwith\u001b[39;00m waiter\u001b[38;5;241m.\u001b[39mlock:\n\u001b[1;32m    246\u001b[0m     finished \u001b[38;5;241m=\u001b[39m waiter\u001b[38;5;241m.\u001b[39mfinished_futures\n",
      "File \u001b[0;32m/opt/conda/lib/python3.12/threading.py:655\u001b[0m, in \u001b[0;36mEvent.wait\u001b[0;34m(self, timeout)\u001b[0m\n\u001b[1;32m    653\u001b[0m signaled \u001b[38;5;241m=\u001b[39m \u001b[38;5;28mself\u001b[39m\u001b[38;5;241m.\u001b[39m_flag\n\u001b[1;32m    654\u001b[0m \u001b[38;5;28;01mif\u001b[39;00m \u001b[38;5;129;01mnot\u001b[39;00m signaled:\n\u001b[0;32m--> 655\u001b[0m     signaled \u001b[38;5;241m=\u001b[39m \u001b[38;5;28;43mself\u001b[39;49m\u001b[38;5;241;43m.\u001b[39;49m\u001b[43m_cond\u001b[49m\u001b[38;5;241;43m.\u001b[39;49m\u001b[43mwait\u001b[49m\u001b[43m(\u001b[49m\u001b[43mtimeout\u001b[49m\u001b[43m)\u001b[49m\n\u001b[1;32m    656\u001b[0m \u001b[38;5;28;01mreturn\u001b[39;00m signaled\n",
      "File \u001b[0;32m/opt/conda/lib/python3.12/threading.py:355\u001b[0m, in \u001b[0;36mCondition.wait\u001b[0;34m(self, timeout)\u001b[0m\n\u001b[1;32m    353\u001b[0m \u001b[38;5;28;01mtry\u001b[39;00m:    \u001b[38;5;66;03m# restore state no matter what (e.g., KeyboardInterrupt)\u001b[39;00m\n\u001b[1;32m    354\u001b[0m     \u001b[38;5;28;01mif\u001b[39;00m timeout \u001b[38;5;129;01mis\u001b[39;00m \u001b[38;5;28;01mNone\u001b[39;00m:\n\u001b[0;32m--> 355\u001b[0m         \u001b[43mwaiter\u001b[49m\u001b[38;5;241;43m.\u001b[39;49m\u001b[43macquire\u001b[49m\u001b[43m(\u001b[49m\u001b[43m)\u001b[49m\n\u001b[1;32m    356\u001b[0m         gotit \u001b[38;5;241m=\u001b[39m \u001b[38;5;28;01mTrue\u001b[39;00m\n\u001b[1;32m    357\u001b[0m     \u001b[38;5;28;01melse\u001b[39;00m:\n",
      "\u001b[0;31mKeyboardInterrupt\u001b[0m: "
     ]
    }
   ],
   "source": [
    "session = connect_to_vastdb(VASTDB_ENDPOINT, VASTDB_ACCESS_KEY, VASTDB_SECRET_KEY)\n",
    "\n",
    "for date in dates:\n",
    "\n",
    "    file_name = f\"yellow_tripdata_{date}.parquet\"\n",
    "    s3_key = f\"yellow_tripdata/yellow_tripdata_{date}.parquet\"\n",
    "    \n",
    "    if file_exists_in_s3(s3_client, S3_BUCKET, s3_key):\n",
    "\n",
    "        # Upload the file to S3\n",
    "        s3_key = f\"yellow_tripdata/yellow_tripdata_{date}.parquet\"\n",
    "        print(s3_key)\n",
    "\n",
    "        import_to_vastdb(\n",
    "            session=session,\n",
    "            bucket_name=VASTDB_TWITTER_INGEST_BUCKET, \n",
    "            schema_name=VASTDB_TWITTER_INGEST_SCHEMA, \n",
    "            table_name=VASTDB_TWITTER_INGEST_TABLE, \n",
    "            files_to_import=[f\"/{S3_BUCKET}/{s3_key}\"]\n",
    "        )\n"
   ]
  },
  {
   "cell_type": "code",
   "execution_count": null,
   "id": "e9258a6a-b55d-48a3-bdcd-ac05dd1fd300",
   "metadata": {},
   "outputs": [],
   "source": []
  }
 ],
 "metadata": {
  "kernelspec": {
   "display_name": "Python 3 (ipykernel)",
   "language": "python",
   "name": "python3"
  },
  "language_info": {
   "codemirror_mode": {
    "name": "ipython",
    "version": 3
   },
   "file_extension": ".py",
   "mimetype": "text/x-python",
   "name": "python",
   "nbconvert_exporter": "python",
   "pygments_lexer": "ipython3",
   "version": "3.12.7"
  }
 },
 "nbformat": 4,
 "nbformat_minor": 5
}

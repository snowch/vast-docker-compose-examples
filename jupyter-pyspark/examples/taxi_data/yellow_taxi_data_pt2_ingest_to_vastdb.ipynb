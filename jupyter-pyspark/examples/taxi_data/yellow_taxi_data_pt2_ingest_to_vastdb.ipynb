{
 "cells": [
  {
   "cell_type": "markdown",
   "id": "10fed33d-be68-4c1b-a045-30f853f1e6a5",
   "metadata": {},
   "source": [
    "# Bulk Load Yellow Taxi Data"
   ]
  },
  {
   "cell_type": "code",
   "execution_count": 1,
   "id": "3bb0d111-afe5-4d0b-a5f0-a6fa1a8967d1",
   "metadata": {},
   "outputs": [],
   "source": [
    "! pip3 install --quiet vastdb"
   ]
  },
  {
   "cell_type": "code",
   "execution_count": 2,
   "id": "6a90b835-b443-42a2-b9d0-372dd7497c6e",
   "metadata": {},
   "outputs": [],
   "source": [
    "# Define date range\n",
    "start_date = \"2009-01\"\n",
    "end_date = \"2024-08\""
   ]
  },
  {
   "cell_type": "code",
   "execution_count": 3,
   "id": "4aca402f-6e79-4f65-8f11-0a70049a42a3",
   "metadata": {},
   "outputs": [
    {
     "name": "stdout",
     "output_type": "stream",
     "text": [
      "2009-01..2024-08 - len: 188\n"
     ]
    }
   ],
   "source": [
    "import pandas as pd\n",
    "\n",
    "# date range\n",
    "dates = pd.date_range(start_date, end_date, freq=\"MS\").strftime(\"%Y-%m\").tolist()\n",
    "print(f\"{min(dates)}..{max(dates)} - len: {len(dates)}\")"
   ]
  },
  {
   "cell_type": "code",
   "execution_count": 4,
   "id": "31dab003-4d9f-47b0-8181-63797260867e",
   "metadata": {},
   "outputs": [],
   "source": [
    "import os\n",
    "from io import StringIO\n",
    "from urllib.parse import urlparse\n",
    "\n",
    "import boto3\n",
    "from botocore.exceptions import NoCredentialsError\n",
    "\n",
    "import vastdb"
   ]
  },
  {
   "cell_type": "code",
   "execution_count": 5,
   "id": "d1ed0c37-64da-4137-abfa-cdeb705dd1a9",
   "metadata": {},
   "outputs": [],
   "source": [
    "VASTDB_ENDPOINT = os.getenv(\"VASTDB_ENDPOINT\")\n",
    "VASTDB_ACCESS_KEY = os.getenv(\"VASTDB_ACCESS_KEY\")\n",
    "VASTDB_SECRET_KEY = os.getenv(\"VASTDB_SECRET_KEY\")\n",
    "\n",
    "VASTDB_TWITTER_INGEST_BUCKET = os.getenv(\"VASTDB_TWITTER_INGEST_BUCKET\")\n",
    "\n",
    "S3_ENDPOINT = os.getenv(\"S3A_ENDPOINT\")\n",
    "S3_ACCESS_KEY = os.getenv(\"S3A_ACCESS_KEY\")\n",
    "S3_SECRET_KEY = os.getenv(\"S3A_SECRET_KEY\")\n",
    "S3_BUCKET = os.getenv(\"S3A_BUCKET\")\n",
    "\n",
    "###### SET THIS ######\n",
    "VASTDB_TWITTER_INGEST_SCHEMA = 'taxi_data'\n",
    "VASTDB_TWITTER_INGEST_TABLE = 'yellow_tripdata'\n",
    "###### SET THIS ######"
   ]
  },
  {
   "cell_type": "code",
   "execution_count": 6,
   "id": "f40282e3-33b5-4443-a757-adb9c627a873",
   "metadata": {},
   "outputs": [
    {
     "name": "stdout",
     "output_type": "stream",
     "text": [
      "\n",
      "---\n",
      "VASTDB_ENDPOINT=http://172.200.204.2:80\n",
      "VASTDB_ACCESS_KEY=QXN5\n",
      "VASTDB_SECRET_KEY=****oLGr\n",
      "VASTDB_TWITTER_INGEST_BUCKET=csnow-db\n",
      "VASTDB_TWITTER_INGEST_SCHEMA=taxi_data\n",
      "VASTDB_TWITTER_INGEST_TABLE=yellow_tripdata\n",
      "---\n",
      "S3_ENDPOINT=http://172.200.204.2:80\n",
      "S3_ACCESS_KEY=QXN5\n",
      "S3_SECRET_KEY=****oLGr\n",
      "S3_BUCKET=csnow-bucket\n",
      "\n"
     ]
    }
   ],
   "source": [
    "print(f\"\"\"\n",
    "---\n",
    "VASTDB_ENDPOINT={VASTDB_ENDPOINT}\n",
    "VASTDB_ACCESS_KEY={VASTDB_ACCESS_KEY[-4:]}\n",
    "VASTDB_SECRET_KEY=****{VASTDB_SECRET_KEY[-4:]}\n",
    "VASTDB_TWITTER_INGEST_BUCKET={VASTDB_TWITTER_INGEST_BUCKET}\n",
    "VASTDB_TWITTER_INGEST_SCHEMA={VASTDB_TWITTER_INGEST_SCHEMA}\n",
    "VASTDB_TWITTER_INGEST_TABLE={VASTDB_TWITTER_INGEST_TABLE}\n",
    "---\n",
    "S3_ENDPOINT={S3_ENDPOINT}\n",
    "S3_ACCESS_KEY={S3_ACCESS_KEY[-4:]}\n",
    "S3_SECRET_KEY=****{VASTDB_SECRET_KEY[-4:]}\n",
    "S3_BUCKET={S3_BUCKET}\n",
    "\"\"\")"
   ]
  },
  {
   "cell_type": "code",
   "execution_count": 7,
   "id": "954ed1e1-b4ae-4522-b6b8-5bd1e5f67283",
   "metadata": {},
   "outputs": [],
   "source": [
    "def connect_to_vastdb(endpoint, access_key, secret_key):\n",
    "    \"\"\"Connects to VastDB.\"\"\"\n",
    "    try:\n",
    "        session = vastdb.connect(endpoint=endpoint, access=access_key, secret=secret_key)\n",
    "        print(\"Connected to VastDB\")\n",
    "        return session\n",
    "    except Exception as e:\n",
    "        raise RuntimeError(f\"Failed to connect to VastDB: {e}\") from e\n",
    "\n",
    "def import_to_vastdb(session, bucket_name, schema_name, table_name, files_to_import):\n",
    "    with session.transaction() as tx:\n",
    "        bucket = tx.bucket(bucket_name)\n",
    "        schema = bucket.schema(schema_name, fail_if_missing=False) or bucket.create_schema(schema_name)\n",
    "        table = schema.table(table_name, fail_if_missing=False)\n",
    "\n",
    "        if table:\n",
    "            table.import_files(files_to_import=files_to_import)\n",
    "        else:\n",
    "            table = vastdb.util.create_table_from_files(\n",
    "                schema=schema, \n",
    "                table_name=table_name,\n",
    "                parquet_files=files_to_import\n",
    "            )"
   ]
  },
  {
   "cell_type": "code",
   "execution_count": 8,
   "id": "3829d06b-6188-4131-ab04-3dadc1a84399",
   "metadata": {},
   "outputs": [],
   "source": [
    "def file_exists_in_s3(s3_client, bucket_name, s3_key):\n",
    "    try:\n",
    "        s3_client.head_object(Bucket=bucket_name, Key=s3_key)\n",
    "        return True  # File exists\n",
    "    except ClientError as e:\n",
    "        if e.response['Error']['Code'] == \"404\":\n",
    "            return False  # File does not exist\n",
    "        raise  # Re-raise other exceptions"
   ]
  },
  {
   "cell_type": "code",
   "execution_count": 9,
   "id": "7ad41868-d5dd-4e1f-a2a7-685faacef46c",
   "metadata": {},
   "outputs": [],
   "source": [
    "# session = connect_to_vastdb(VASTDB_ENDPOINT, VASTDB_ACCESS_KEY, VASTDB_SECRET_KEY)\n",
    "\n",
    "# Initialize S3 client\n",
    "s3_client = boto3.client(\n",
    "    's3', \n",
    "    region_name='vast',\n",
    "    endpoint_url=S3_ENDPOINT,\n",
    "    aws_access_key_id=S3_ACCESS_KEY,\n",
    "    aws_secret_access_key=S3_SECRET_KEY\n",
    ")"
   ]
  },
  {
   "cell_type": "code",
   "execution_count": null,
   "id": "7fb66cf8-0074-454f-980b-f757bc44954c",
   "metadata": {},
   "outputs": [
    {
     "name": "stdout",
     "output_type": "stream",
     "text": [
      "Connected to VastDB\n",
      "yellow_tripdata/yellow_tripdata_2009-01.parquet\n"
     ]
    }
   ],
   "source": [
    "session = connect_to_vastdb(VASTDB_ENDPOINT, VASTDB_ACCESS_KEY, VASTDB_SECRET_KEY)\n",
    "\n",
    "for date in dates:\n",
    "\n",
    "    file_name = f\"yellow_tripdata_{date}.parquet\"\n",
    "    s3_key = f\"yellow_tripdata/yellow_tripdata_{date}.parquet\"\n",
    "    \n",
    "    if file_exists_in_s3(s3_client, S3_BUCKET, s3_key):\n",
    "\n",
    "        # Upload the file to S3\n",
    "        s3_key = f\"yellow_tripdata/yellow_tripdata_{date}.parquet\"\n",
    "        print(s3_key)\n",
    "\n",
    "        import_to_vastdb(\n",
    "            session=session,\n",
    "            bucket_name=VASTDB_TWITTER_INGEST_BUCKET, \n",
    "            schema_name=VASTDB_TWITTER_INGEST_SCHEMA, \n",
    "            table_name=VASTDB_TWITTER_INGEST_TABLE, \n",
    "            files_to_import=[f\"/{S3_BUCKET}/{s3_key}\"]\n",
    "        )\n"
   ]
  },
  {
   "cell_type": "code",
   "execution_count": null,
   "id": "e9258a6a-b55d-48a3-bdcd-ac05dd1fd300",
   "metadata": {},
   "outputs": [],
   "source": []
  }
 ],
 "metadata": {
  "kernelspec": {
   "display_name": "Python 3 (ipykernel)",
   "language": "python",
   "name": "python3"
  },
  "language_info": {
   "codemirror_mode": {
    "name": "ipython",
    "version": 3
   },
   "file_extension": ".py",
   "mimetype": "text/x-python",
   "name": "python",
   "nbconvert_exporter": "python",
   "pygments_lexer": "ipython3",
   "version": "3.12.7"
  }
 },
 "nbformat": 4,
 "nbformat_minor": 5
}

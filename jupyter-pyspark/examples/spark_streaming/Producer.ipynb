{
 "cells": [
  {
   "cell_type": "code",
   "execution_count": 57,
   "id": "7db859a2-7525-4fec-978e-6ffebe19f62e",
   "metadata": {},
   "outputs": [
    {
     "name": "stdout",
     "output_type": "stream",
     "text": [
      "DOCKER_HOST_OR_IP='10.143.11.241'\n"
     ]
    }
   ],
   "source": [
    "import os\n",
    "\n",
    "DOCKER_HOST_OR_IP = os.getenv(\"DOCKER_HOST_OR_IP\")\n",
    "print(f\"{DOCKER_HOST_OR_IP=}\")"
   ]
  },
  {
   "cell_type": "code",
   "execution_count": 58,
   "id": "5d2d7598-0b65-4bb6-b8c9-3644a0825818",
   "metadata": {},
   "outputs": [],
   "source": [
    "kafka_brokers = f'{DOCKER_HOST_OR_IP}:19092'\n",
    "topic = 'streaming-demo-2'"
   ]
  },
  {
   "cell_type": "code",
   "execution_count": 59,
   "id": "1ccaef03-ff17-4fa9-ab14-297c7abf3fdd",
   "metadata": {},
   "outputs": [
    {
     "data": {
      "text/html": [
       "\n",
       "        <div>\n",
       "            <p><b>SparkContext</b></p>\n",
       "\n",
       "            <p><a href=\"None\">Spark UI</a></p>\n",
       "\n",
       "            <dl>\n",
       "              <dt>Version</dt>\n",
       "                <dd><code>v3.4.4</code></dd>\n",
       "              <dt>Master</dt>\n",
       "                <dd><code>local</code></dd>\n",
       "              <dt>AppName</dt>\n",
       "                <dd><code>TweetGenerator</code></dd>\n",
       "            </dl>\n",
       "        </div>\n",
       "        "
      ],
      "text/plain": [
       "<SparkContext master=local appName=TweetGenerator>"
      ]
     },
     "execution_count": 59,
     "metadata": {},
     "output_type": "execute_result"
    }
   ],
   "source": [
    "from pyspark.sql import SparkSession\n",
    "from pyspark.conf import SparkConf\n",
    "from pyspark.sql.functions import col, lit, to_timestamp\n",
    "import pandas as pd\n",
    "pd.set_option(\"max_colwidth\", 150)\n",
    "\n",
    "\n",
    "conf = SparkConf()\n",
    "conf.setAll([\n",
    "    (\"spark.jars.packages\", \"org.apache.spark:spark-sql-kafka-0-10_2.13:3.4.3,\"\n",
    "                            \"org.apache.logging.log4j:log4j-slf4j2-impl:2.19.0,\"\n",
    "                            \"org.apache.logging.log4j:log4j-api:2.19.0,\"\n",
    "                            \"org.apache.logging.log4j:log4j-core:2.19.0\"),\n",
    "    (\"spark.jars.excludes\", \"org.slf4j:slf4j-api,org.slf4j:slf4j-log4j12\"), \n",
    "    (\"spark.driver.userClassPathFirst\", \"true\"),\n",
    "    (\"spark.executor.userClassPathFirst\", \"true\"),\n",
    "    (\"spark.sql.execution.arrow.pyspark.enabled\", \"false\")\n",
    "])\n",
    "\n",
    "spark = SparkSession.builder \\\n",
    "    .master(\"local\") \\\n",
    "    .appName(\"TweetGenerator\") \\\n",
    "    .config(conf=conf) \\\n",
    "    .getOrCreate()\n",
    "\n",
    "spark.sparkContext"
   ]
  },
  {
   "cell_type": "code",
   "execution_count": 60,
   "id": "7385eee4-6b08-4be0-b6de-d95b64dac1d7",
   "metadata": {},
   "outputs": [],
   "source": [
    "from random import randint, choice\n",
    "import json\n",
    "import time\n",
    "import uuid\n",
    "\n",
    "# Define lists of words, phrases, and hashtags\n",
    "words = [\"awesome\", \"fantastic\", \"amazing\", \"incredible\", \"great\", \"wonderful\", \"lovely\", \"beautiful\", \"happy\", \"fun\"]\n",
    "phrases = [\"can't believe\", \"so excited about\", \"just discovered\", \"finally got\", \"totally in love with\"]\n",
    "hashtags = [\"SPARK\", \"SPARK ML\", \"SPARK STREAMING\"]\n",
    "\n",
    "# Function to generate a random tweet\n",
    "def generate_tweet():\n",
    "  tweet = {}\n",
    "  tweet[\"text\"] = f\"{choice(phrases)} how {choice(words)} {choice(hashtags)} is!\"\n",
    "  tweet[\"created_at\"] = int(time.time() * 1000)\n",
    "  tweet[\"id\"] = randint(1, 9223372036854775807)  # Random long value for tweet id\n",
    "  tweet[\"id_str\"] = str(tweet[\"id\"])\n",
    "  return tweet\n",
    "\n",
    "# Generate 10 tweets\n",
    "tweets = [\n",
    "    {\"key\": tweet[\"id_str\"], \"value\": json.dumps(tweet)}\n",
    "    for tweet in [generate_tweet() for _ in range(10)]\n",
    "]"
   ]
  },
  {
   "cell_type": "code",
   "execution_count": 61,
   "id": "d104b6d8-5dc6-41f0-96cd-5ef27bef3db7",
   "metadata": {},
   "outputs": [
    {
     "name": "stdout",
     "output_type": "stream",
     "text": [
      "root\n",
      " |-- key: string (nullable = true)\n",
      " |-- value: string (nullable = true)\n",
      "\n"
     ]
    }
   ],
   "source": [
    "# Create DataFrame from tweets\n",
    "df = spark.createDataFrame(tweets)\n",
    "\n",
    "df.printSchema()"
   ]
  },
  {
   "cell_type": "code",
   "execution_count": 62,
   "id": "216bca00-cdc0-4f0c-83cc-1ac9f43cc725",
   "metadata": {},
   "outputs": [
    {
     "data": {
      "text/html": [
       "<div>\n",
       "<style scoped>\n",
       "    .dataframe tbody tr th:only-of-type {\n",
       "        vertical-align: middle;\n",
       "    }\n",
       "\n",
       "    .dataframe tbody tr th {\n",
       "        vertical-align: top;\n",
       "    }\n",
       "\n",
       "    .dataframe thead th {\n",
       "        text-align: right;\n",
       "    }\n",
       "</style>\n",
       "<table border=\"1\" class=\"dataframe\">\n",
       "  <thead>\n",
       "    <tr style=\"text-align: right;\">\n",
       "      <th></th>\n",
       "      <th>key</th>\n",
       "      <th>value</th>\n",
       "    </tr>\n",
       "  </thead>\n",
       "  <tbody>\n",
       "    <tr>\n",
       "      <th>0</th>\n",
       "      <td>8037718634281042486</td>\n",
       "      <td>{\"text\": \"finally got how lovely SPARK STREAMING is!\", \"created_at\": 1736856328329, \"id\": 8037718634281042486, \"id_str\": \"8037718634281042486\"}</td>\n",
       "    </tr>\n",
       "    <tr>\n",
       "      <th>1</th>\n",
       "      <td>4860774655311241774</td>\n",
       "      <td>{\"text\": \"totally in love with how fantastic SPARK ML is!\", \"created_at\": 1736856328329, \"id\": 4860774655311241774, \"id_str\": \"4860774655311241774\"}</td>\n",
       "    </tr>\n",
       "    <tr>\n",
       "      <th>2</th>\n",
       "      <td>8475397230643489571</td>\n",
       "      <td>{\"text\": \"so excited about how fantastic SPARK is!\", \"created_at\": 1736856328329, \"id\": 8475397230643489571, \"id_str\": \"8475397230643489571\"}</td>\n",
       "    </tr>\n",
       "    <tr>\n",
       "      <th>3</th>\n",
       "      <td>676194985410546175</td>\n",
       "      <td>{\"text\": \"finally got how incredible SPARK ML is!\", \"created_at\": 1736856328329, \"id\": 676194985410546175, \"id_str\": \"676194985410546175\"}</td>\n",
       "    </tr>\n",
       "    <tr>\n",
       "      <th>4</th>\n",
       "      <td>6687307504160519154</td>\n",
       "      <td>{\"text\": \"just discovered how amazing SPARK ML is!\", \"created_at\": 1736856328329, \"id\": 6687307504160519154, \"id_str\": \"6687307504160519154\"}</td>\n",
       "    </tr>\n",
       "    <tr>\n",
       "      <th>5</th>\n",
       "      <td>5153671730750461177</td>\n",
       "      <td>{\"text\": \"finally got how great SPARK is!\", \"created_at\": 1736856328329, \"id\": 5153671730750461177, \"id_str\": \"5153671730750461177\"}</td>\n",
       "    </tr>\n",
       "    <tr>\n",
       "      <th>6</th>\n",
       "      <td>3371199005618122196</td>\n",
       "      <td>{\"text\": \"totally in love with how happy SPARK ML is!\", \"created_at\": 1736856328329, \"id\": 3371199005618122196, \"id_str\": \"3371199005618122196\"}</td>\n",
       "    </tr>\n",
       "    <tr>\n",
       "      <th>7</th>\n",
       "      <td>7614655453023225679</td>\n",
       "      <td>{\"text\": \"so excited about how fantastic SPARK ML is!\", \"created_at\": 1736856328329, \"id\": 7614655453023225679, \"id_str\": \"7614655453023225679\"}</td>\n",
       "    </tr>\n",
       "    <tr>\n",
       "      <th>8</th>\n",
       "      <td>8196052907276102343</td>\n",
       "      <td>{\"text\": \"finally got how wonderful SPARK STREAMING is!\", \"created_at\": 1736856328329, \"id\": 8196052907276102343, \"id_str\": \"8196052907276102343\"}</td>\n",
       "    </tr>\n",
       "    <tr>\n",
       "      <th>9</th>\n",
       "      <td>8306563723109330038</td>\n",
       "      <td>{\"text\": \"totally in love with how awesome SPARK is!\", \"created_at\": 1736856328329, \"id\": 8306563723109330038, \"id_str\": \"8306563723109330038\"}</td>\n",
       "    </tr>\n",
       "  </tbody>\n",
       "</table>\n",
       "</div>"
      ],
      "text/plain": [
       "                   key  \\\n",
       "0  8037718634281042486   \n",
       "1  4860774655311241774   \n",
       "2  8475397230643489571   \n",
       "3   676194985410546175   \n",
       "4  6687307504160519154   \n",
       "5  5153671730750461177   \n",
       "6  3371199005618122196   \n",
       "7  7614655453023225679   \n",
       "8  8196052907276102343   \n",
       "9  8306563723109330038   \n",
       "\n",
       "                                                                                                                                                  value  \n",
       "0       {\"text\": \"finally got how lovely SPARK STREAMING is!\", \"created_at\": 1736856328329, \"id\": 8037718634281042486, \"id_str\": \"8037718634281042486\"}  \n",
       "1  {\"text\": \"totally in love with how fantastic SPARK ML is!\", \"created_at\": 1736856328329, \"id\": 4860774655311241774, \"id_str\": \"4860774655311241774\"}  \n",
       "2         {\"text\": \"so excited about how fantastic SPARK is!\", \"created_at\": 1736856328329, \"id\": 8475397230643489571, \"id_str\": \"8475397230643489571\"}  \n",
       "3            {\"text\": \"finally got how incredible SPARK ML is!\", \"created_at\": 1736856328329, \"id\": 676194985410546175, \"id_str\": \"676194985410546175\"}  \n",
       "4         {\"text\": \"just discovered how amazing SPARK ML is!\", \"created_at\": 1736856328329, \"id\": 6687307504160519154, \"id_str\": \"6687307504160519154\"}  \n",
       "5                  {\"text\": \"finally got how great SPARK is!\", \"created_at\": 1736856328329, \"id\": 5153671730750461177, \"id_str\": \"5153671730750461177\"}  \n",
       "6      {\"text\": \"totally in love with how happy SPARK ML is!\", \"created_at\": 1736856328329, \"id\": 3371199005618122196, \"id_str\": \"3371199005618122196\"}  \n",
       "7      {\"text\": \"so excited about how fantastic SPARK ML is!\", \"created_at\": 1736856328329, \"id\": 7614655453023225679, \"id_str\": \"7614655453023225679\"}  \n",
       "8    {\"text\": \"finally got how wonderful SPARK STREAMING is!\", \"created_at\": 1736856328329, \"id\": 8196052907276102343, \"id_str\": \"8196052907276102343\"}  \n",
       "9       {\"text\": \"totally in love with how awesome SPARK is!\", \"created_at\": 1736856328329, \"id\": 8306563723109330038, \"id_str\": \"8306563723109330038\"}  "
      ]
     },
     "execution_count": 62,
     "metadata": {},
     "output_type": "execute_result"
    }
   ],
   "source": [
    "df.toPandas()"
   ]
  },
  {
   "cell_type": "code",
   "execution_count": 63,
   "id": "66962b65-6eab-4fb1-8d3c-1476d11ab075",
   "metadata": {},
   "outputs": [],
   "source": [
    "# Write DataFrame as JSON to Kafka topic\n",
    "df.write \\\n",
    "  .format(\"kafka\") \\\n",
    "  .option(\"kafka.bootstrap.servers\", kafka_brokers) \\\n",
    "  .option(\"topic\", topic) \\\n",
    "  .mode(\"append\") \\\n",
    "  .save()"
   ]
  },
  {
   "cell_type": "code",
   "execution_count": 64,
   "id": "02354d4d-a50c-4c89-9168-7d54940acc89",
   "metadata": {},
   "outputs": [],
   "source": [
    "# Stop SparkSession\n",
    "# spark.stop()"
   ]
  },
  {
   "cell_type": "code",
   "execution_count": null,
   "id": "d61507cf-2afc-4f03-912d-093db169496c",
   "metadata": {},
   "outputs": [],
   "source": []
  },
  {
   "cell_type": "code",
   "execution_count": null,
   "id": "e2cee8d5-71a5-4422-b656-d5ba881e13a1",
   "metadata": {},
   "outputs": [],
   "source": []
  }
 ],
 "metadata": {
  "kernelspec": {
   "display_name": "Python 3 (ipykernel)",
   "language": "python",
   "name": "python3"
  },
  "language_info": {
   "codemirror_mode": {
    "name": "ipython",
    "version": 3
   },
   "file_extension": ".py",
   "mimetype": "text/x-python",
   "name": "python",
   "nbconvert_exporter": "python",
   "pygments_lexer": "ipython3",
   "version": "3.11.10"
  }
 },
 "nbformat": 4,
 "nbformat_minor": 5
}

{
 "cells": [
  {
   "cell_type": "code",
   "execution_count": 49,
   "id": "7db859a2-7525-4fec-978e-6ffebe19f62e",
   "metadata": {},
   "outputs": [
    {
     "name": "stdout",
     "output_type": "stream",
     "text": [
      "DOCKER_HOST_OR_IP='10.143.11.241'\n"
     ]
    }
   ],
   "source": [
    "import os\n",
    "\n",
    "DOCKER_HOST_OR_IP = os.getenv(\"DOCKER_HOST_OR_IP\")\n",
    "print(f\"{DOCKER_HOST_OR_IP=}\")"
   ]
  },
  {
   "cell_type": "code",
   "execution_count": 50,
   "id": "5d2d7598-0b65-4bb6-b8c9-3644a0825818",
   "metadata": {},
   "outputs": [],
   "source": [
    "kafka_brokers = f'{DOCKER_HOST_OR_IP}:19092'\n",
    "topic = 'streaming-demo-2'"
   ]
  },
  {
   "cell_type": "code",
   "execution_count": 51,
   "id": "1ccaef03-ff17-4fa9-ab14-297c7abf3fdd",
   "metadata": {},
   "outputs": [
    {
     "data": {
      "text/html": [
       "\n",
       "        <div>\n",
       "            <p><b>SparkContext</b></p>\n",
       "\n",
       "            <p><a href=\"None\">Spark UI</a></p>\n",
       "\n",
       "            <dl>\n",
       "              <dt>Version</dt>\n",
       "                <dd><code>v3.4.4</code></dd>\n",
       "              <dt>Master</dt>\n",
       "                <dd><code>local</code></dd>\n",
       "              <dt>AppName</dt>\n",
       "                <dd><code>TweetGenerator</code></dd>\n",
       "            </dl>\n",
       "        </div>\n",
       "        "
      ],
      "text/plain": [
       "<SparkContext master=local appName=TweetGenerator>"
      ]
     },
     "execution_count": 51,
     "metadata": {},
     "output_type": "execute_result"
    }
   ],
   "source": [
    "from pyspark.sql import SparkSession\n",
    "from pyspark.conf import SparkConf\n",
    "from pyspark.sql.functions import col, lit, to_timestamp\n",
    "import pandas as pd\n",
    "pd.set_option(\"max_colwidth\", 150)\n",
    "\n",
    "\n",
    "conf = SparkConf()\n",
    "conf.setAll([\n",
    "    (\"spark.jars.packages\", \"org.apache.spark:spark-sql-kafka-0-10_2.13:3.4.3,\"\n",
    "                            \"org.apache.logging.log4j:log4j-slf4j2-impl:2.19.0,\"\n",
    "                            \"org.apache.logging.log4j:log4j-api:2.19.0,\"\n",
    "                            \"org.apache.logging.log4j:log4j-core:2.19.0\"),\n",
    "    (\"spark.jars.excludes\", \"org.slf4j:slf4j-api,org.slf4j:slf4j-log4j12\"), \n",
    "    (\"spark.driver.userClassPathFirst\", \"true\"),\n",
    "    (\"spark.executor.userClassPathFirst\", \"true\"),\n",
    "    (\"spark.sql.execution.arrow.pyspark.enabled\", \"false\")\n",
    "])\n",
    "\n",
    "spark = SparkSession.builder \\\n",
    "    .master(\"local\") \\\n",
    "    .appName(\"TweetGenerator\") \\\n",
    "    .config(conf=conf) \\\n",
    "    .getOrCreate()\n",
    "\n",
    "spark.sparkContext"
   ]
  },
  {
   "cell_type": "code",
   "execution_count": 52,
   "id": "7385eee4-6b08-4be0-b6de-d95b64dac1d7",
   "metadata": {},
   "outputs": [],
   "source": [
    "from random import randint, choice\n",
    "import json\n",
    "import time\n",
    "import uuid\n",
    "\n",
    "# Define lists of words, phrases, and hashtags\n",
    "words = [\"awesome\", \"fantastic\", \"amazing\", \"incredible\", \"great\", \"wonderful\", \"lovely\", \"beautiful\", \"happy\", \"fun\"]\n",
    "phrases = [\"can't believe\", \"so excited about\", \"just discovered\", \"finally got\", \"totally in love with\"]\n",
    "hashtags = [\"SPARK\", \"SPARK ML\", \"SPARK STREAMING\"]\n",
    "\n",
    "# Function to generate a random tweet\n",
    "def generate_tweet():\n",
    "  tweet = {}\n",
    "  tweet[\"text\"] = f\"{choice(phrases)} how {choice(words)} {choice(hashtags)} is!\"\n",
    "  tweet[\"created_at\"] = int(time.time() * 1000)\n",
    "  tweet[\"id\"] = randint(1, 9223372036854775807)  # Random long value for tweet id\n",
    "  tweet[\"id_str\"] = str(tweet[\"id\"])\n",
    "  return tweet\n",
    "\n",
    "# Generate 10 tweets\n",
    "tweets = [\n",
    "    {\"key\": tweet[\"id_str\"], \"value\": json.dumps(tweet)}\n",
    "    for tweet in [generate_tweet() for _ in range(10)]\n",
    "]"
   ]
  },
  {
   "cell_type": "code",
   "execution_count": 53,
   "id": "d104b6d8-5dc6-41f0-96cd-5ef27bef3db7",
   "metadata": {},
   "outputs": [
    {
     "name": "stdout",
     "output_type": "stream",
     "text": [
      "root\n",
      " |-- key: string (nullable = true)\n",
      " |-- value: string (nullable = true)\n",
      "\n"
     ]
    }
   ],
   "source": [
    "# Create DataFrame from tweets\n",
    "df = spark.createDataFrame(tweets)\n",
    "\n",
    "df.printSchema()"
   ]
  },
  {
   "cell_type": "code",
   "execution_count": 54,
   "id": "216bca00-cdc0-4f0c-83cc-1ac9f43cc725",
   "metadata": {},
   "outputs": [
    {
     "data": {
      "text/html": [
       "<div>\n",
       "<style scoped>\n",
       "    .dataframe tbody tr th:only-of-type {\n",
       "        vertical-align: middle;\n",
       "    }\n",
       "\n",
       "    .dataframe tbody tr th {\n",
       "        vertical-align: top;\n",
       "    }\n",
       "\n",
       "    .dataframe thead th {\n",
       "        text-align: right;\n",
       "    }\n",
       "</style>\n",
       "<table border=\"1\" class=\"dataframe\">\n",
       "  <thead>\n",
       "    <tr style=\"text-align: right;\">\n",
       "      <th></th>\n",
       "      <th>key</th>\n",
       "      <th>value</th>\n",
       "    </tr>\n",
       "  </thead>\n",
       "  <tbody>\n",
       "    <tr>\n",
       "      <th>0</th>\n",
       "      <td>427431201886804724</td>\n",
       "      <td>{\"text\": \"can't believe how awesome SPARK ML is!\", \"created_at\": 1736856181853, \"id\": 427431201886804724, \"id_str\": \"427431201886804724\"}</td>\n",
       "    </tr>\n",
       "    <tr>\n",
       "      <th>1</th>\n",
       "      <td>3037795565582831546</td>\n",
       "      <td>{\"text\": \"finally got how wonderful SPARK ML is!\", \"created_at\": 1736856181853, \"id\": 3037795565582831546, \"id_str\": \"3037795565582831546\"}</td>\n",
       "    </tr>\n",
       "    <tr>\n",
       "      <th>2</th>\n",
       "      <td>6280810761316908011</td>\n",
       "      <td>{\"text\": \"so excited about how wonderful SPARK is!\", \"created_at\": 1736856181853, \"id\": 6280810761316908011, \"id_str\": \"6280810761316908011\"}</td>\n",
       "    </tr>\n",
       "    <tr>\n",
       "      <th>3</th>\n",
       "      <td>4335145873731869316</td>\n",
       "      <td>{\"text\": \"finally got how fantastic SPARK is!\", \"created_at\": 1736856181853, \"id\": 4335145873731869316, \"id_str\": \"4335145873731869316\"}</td>\n",
       "    </tr>\n",
       "    <tr>\n",
       "      <th>4</th>\n",
       "      <td>5484066861208472072</td>\n",
       "      <td>{\"text\": \"totally in love with how fantastic SPARK is!\", \"created_at\": 1736856181853, \"id\": 5484066861208472072, \"id_str\": \"5484066861208472072\"}</td>\n",
       "    </tr>\n",
       "    <tr>\n",
       "      <th>5</th>\n",
       "      <td>9087417459438598094</td>\n",
       "      <td>{\"text\": \"can't believe how awesome SPARK ML is!\", \"created_at\": 1736856181853, \"id\": 9087417459438598094, \"id_str\": \"9087417459438598094\"}</td>\n",
       "    </tr>\n",
       "    <tr>\n",
       "      <th>6</th>\n",
       "      <td>1032723330297491998</td>\n",
       "      <td>{\"text\": \"finally got how amazing SPARK ML is!\", \"created_at\": 1736856181853, \"id\": 1032723330297491998, \"id_str\": \"1032723330297491998\"}</td>\n",
       "    </tr>\n",
       "    <tr>\n",
       "      <th>7</th>\n",
       "      <td>6891567505696657966</td>\n",
       "      <td>{\"text\": \"can't believe how beautiful SPARK is!\", \"created_at\": 1736856181853, \"id\": 6891567505696657966, \"id_str\": \"6891567505696657966\"}</td>\n",
       "    </tr>\n",
       "    <tr>\n",
       "      <th>8</th>\n",
       "      <td>33634797300494019</td>\n",
       "      <td>{\"text\": \"just discovered how great SPARK ML is!\", \"created_at\": 1736856181853, \"id\": 33634797300494019, \"id_str\": \"33634797300494019\"}</td>\n",
       "    </tr>\n",
       "    <tr>\n",
       "      <th>9</th>\n",
       "      <td>8585735133437743944</td>\n",
       "      <td>{\"text\": \"finally got how happy SPARK STREAMING is!\", \"created_at\": 1736856181853, \"id\": 8585735133437743944, \"id_str\": \"8585735133437743944\"}</td>\n",
       "    </tr>\n",
       "  </tbody>\n",
       "</table>\n",
       "</div>"
      ],
      "text/plain": [
       "                   key  \\\n",
       "0   427431201886804724   \n",
       "1  3037795565582831546   \n",
       "2  6280810761316908011   \n",
       "3  4335145873731869316   \n",
       "4  5484066861208472072   \n",
       "5  9087417459438598094   \n",
       "6  1032723330297491998   \n",
       "7  6891567505696657966   \n",
       "8    33634797300494019   \n",
       "9  8585735133437743944   \n",
       "\n",
       "                                                                                                                                               value  \n",
       "0          {\"text\": \"can't believe how awesome SPARK ML is!\", \"created_at\": 1736856181853, \"id\": 427431201886804724, \"id_str\": \"427431201886804724\"}  \n",
       "1        {\"text\": \"finally got how wonderful SPARK ML is!\", \"created_at\": 1736856181853, \"id\": 3037795565582831546, \"id_str\": \"3037795565582831546\"}  \n",
       "2      {\"text\": \"so excited about how wonderful SPARK is!\", \"created_at\": 1736856181853, \"id\": 6280810761316908011, \"id_str\": \"6280810761316908011\"}  \n",
       "3           {\"text\": \"finally got how fantastic SPARK is!\", \"created_at\": 1736856181853, \"id\": 4335145873731869316, \"id_str\": \"4335145873731869316\"}  \n",
       "4  {\"text\": \"totally in love with how fantastic SPARK is!\", \"created_at\": 1736856181853, \"id\": 5484066861208472072, \"id_str\": \"5484066861208472072\"}  \n",
       "5        {\"text\": \"can't believe how awesome SPARK ML is!\", \"created_at\": 1736856181853, \"id\": 9087417459438598094, \"id_str\": \"9087417459438598094\"}  \n",
       "6          {\"text\": \"finally got how amazing SPARK ML is!\", \"created_at\": 1736856181853, \"id\": 1032723330297491998, \"id_str\": \"1032723330297491998\"}  \n",
       "7         {\"text\": \"can't believe how beautiful SPARK is!\", \"created_at\": 1736856181853, \"id\": 6891567505696657966, \"id_str\": \"6891567505696657966\"}  \n",
       "8            {\"text\": \"just discovered how great SPARK ML is!\", \"created_at\": 1736856181853, \"id\": 33634797300494019, \"id_str\": \"33634797300494019\"}  \n",
       "9     {\"text\": \"finally got how happy SPARK STREAMING is!\", \"created_at\": 1736856181853, \"id\": 8585735133437743944, \"id_str\": \"8585735133437743944\"}  "
      ]
     },
     "execution_count": 54,
     "metadata": {},
     "output_type": "execute_result"
    }
   ],
   "source": [
    "df.toPandas()"
   ]
  },
  {
   "cell_type": "code",
   "execution_count": 55,
   "id": "66962b65-6eab-4fb1-8d3c-1476d11ab075",
   "metadata": {},
   "outputs": [],
   "source": [
    "# Write DataFrame as JSON to Kafka topic\n",
    "df.write \\\n",
    "  .format(\"kafka\") \\\n",
    "  .option(\"kafka.bootstrap.servers\", kafka_brokers) \\\n",
    "  .option(\"topic\", topic) \\\n",
    "  .mode(\"append\") \\\n",
    "  .save()"
   ]
  },
  {
   "cell_type": "code",
   "execution_count": 56,
   "id": "02354d4d-a50c-4c89-9168-7d54940acc89",
   "metadata": {},
   "outputs": [],
   "source": [
    "# Stop SparkSession\n",
    "# spark.stop()"
   ]
  },
  {
   "cell_type": "code",
   "execution_count": null,
   "id": "d61507cf-2afc-4f03-912d-093db169496c",
   "metadata": {},
   "outputs": [],
   "source": []
  },
  {
   "cell_type": "code",
   "execution_count": null,
   "id": "e2cee8d5-71a5-4422-b656-d5ba881e13a1",
   "metadata": {},
   "outputs": [],
   "source": []
  }
 ],
 "metadata": {
  "kernelspec": {
   "display_name": "Python 3 (ipykernel)",
   "language": "python",
   "name": "python3"
  },
  "language_info": {
   "codemirror_mode": {
    "name": "ipython",
    "version": 3
   },
   "file_extension": ".py",
   "mimetype": "text/x-python",
   "name": "python",
   "nbconvert_exporter": "python",
   "pygments_lexer": "ipython3",
   "version": "3.11.10"
  }
 },
 "nbformat": 4,
 "nbformat_minor": 5
}

{
 "cells": [
  {
   "cell_type": "code",
   "execution_count": 1,
   "id": "47fd14d7-f53d-40cc-ba9d-6d4566d853da",
   "metadata": {},
   "outputs": [
    {
     "name": "stdout",
     "output_type": "stream",
     "text": [
      "DOCKER_HOST_OR_IP='10.143.11.241'\n"
     ]
    }
   ],
   "source": [
    "import os\n",
    "import time\n",
    "import json\n",
    "from random import randint, choice\n",
    "from pyspark.sql import SparkSession\n",
    "from pyspark.conf import SparkConf\n",
    "\n",
    "DOCKER_HOST_OR_IP = os.getenv(\"DOCKER_HOST_OR_IP\")\n",
    "print(f\"{DOCKER_HOST_OR_IP=}\")\n",
    "\n",
    "kafka_brokers = f'{DOCKER_HOST_OR_IP}:19092'\n",
    "topic = 'streaming-demo-2'\n"
   ]
  },
  {
   "cell_type": "code",
   "execution_count": 2,
   "id": "7be08286-7cb0-4200-996f-5d7a74db6c35",
   "metadata": {},
   "outputs": [],
   "source": [
    "conf = SparkConf()\n",
    "conf.setAll([\n",
    "    (\"spark.jars.packages\", \"org.apache.spark:spark-sql-kafka-0-10_2.13:3.4.3,\"\n",
    "                            \"org.apache.logging.log4j:log4j-slf4j2-impl:2.19.0,\"\n",
    "                            \"org.apache.logging.log4j:log4j-api:2.19.0,\"\n",
    "                            \"org.apache.logging.log4j:log4j-core:2.19.0\"),\n",
    "    (\"spark.jars.excludes\", \"org.slf4j:slf4j-api,org.slf4j:slf4j-log4j12\"), \n",
    "    (\"spark.driver.userClassPathFirst\", \"true\"),\n",
    "    (\"spark.executor.userClassPathFirst\", \"true\"),\n",
    "    (\"spark.sql.execution.arrow.pyspark.enabled\", \"false\")\n",
    "])\n",
    "\n",
    "spark = SparkSession.builder \\\n",
    "    .master(\"local\") \\\n",
    "    .appName(\"TweetGenerator\") \\\n",
    "    .config(conf=conf) \\\n",
    "    .getOrCreate()\n",
    "\n",
    "# Define lists of words, phrases, and hashtags\n",
    "words = [\"awesome\", \"fantastic\", \"amazing\", \"incredible\", \"great\", \"wonderful\", \"lovely\", \"beautiful\", \"happy\", \"fun\"]\n",
    "phrases = [\"can't believe\", \"so excited about\", \"just discovered\", \"finally got\", \"totally in love with\"]\n",
    "hashtags = [\"SPARK\", \"SPARK ML\", \"SPARK STREAMING\"]\n",
    "\n",
    "# Function to generate a random tweet\n",
    "def generate_tweet():\n",
    "    tweet = {}\n",
    "    tweet[\"text\"] = f\"{choice(phrases)} how {choice(words)} {choice(hashtags)} is!\"\n",
    "    tweet[\"created_at\"] = int(time.time() * 1000)\n",
    "    tweet[\"id\"] = randint(1, 9223372036854775807)  # Random long value for tweet id\n",
    "    tweet[\"id_str\"] = str(tweet[\"id\"])\n",
    "    return tweet"
   ]
  },
  {
   "cell_type": "code",
   "execution_count": 3,
   "id": "f97c5fd0-8bf2-462e-990d-9c18a8eadb94",
   "metadata": {},
   "outputs": [
    {
     "name": "stdout",
     "output_type": "stream",
     "text": [
      "Produced: 15 tweets\n",
      "Tweet generation stopped\n",
      "Total tweets produced: 15\n",
      "\n",
      "Shutdown initiated...\n"
     ]
    }
   ],
   "source": [
    "import json\n",
    "import time\n",
    "from contextlib import contextmanager\n",
    "\n",
    "class TweetProducer:\n",
    "    def __init__(self, spark, kafka_brokers, topic):\n",
    "        self.spark = spark\n",
    "        self.kafka_brokers = kafka_brokers\n",
    "        self.topic = topic\n",
    "        self.tweet_count = 0\n",
    "        self.active = True\n",
    "    \n",
    "    def generate_batch(self, batch_size=5):\n",
    "        tweets = [\n",
    "            {\"key\": tweet[\"id_str\"], \"value\": json.dumps(tweet)}\n",
    "            for tweet in [generate_tweet() for _ in range(batch_size)]\n",
    "        ]\n",
    "        \n",
    "        df = self.spark.createDataFrame(tweets)\n",
    "        \n",
    "        df.write \\\n",
    "          .format(\"kafka\") \\\n",
    "          .option(\"kafka.bootstrap.servers\", self.kafka_brokers) \\\n",
    "          .option(\"topic\", self.topic) \\\n",
    "          .mode(\"append\") \\\n",
    "          .save()\n",
    "        \n",
    "        self.tweet_count += batch_size\n",
    "        print(f\"Produced: {self.tweet_count} tweets\", end=\"\\r\")\n",
    "    \n",
    "    def run(self):\n",
    "        try:\n",
    "            while self.active:\n",
    "                self.generate_batch()\n",
    "                time.sleep(1)\n",
    "        except Exception as e:\n",
    "            print(f\"\\nError during tweet generation: {e}\")\n",
    "        finally:\n",
    "            print(\"\\nTweet generation stopped\")\n",
    "            print(f\"Total tweets produced: {self.tweet_count}\")\n",
    "    \n",
    "    def stop(self):\n",
    "        self.active = False\n",
    "\n",
    "@contextmanager\n",
    "def tweet_producer_session(spark, kafka_brokers, topic):\n",
    "    producer = TweetProducer(spark, kafka_brokers, topic)\n",
    "    try:\n",
    "        yield producer\n",
    "    finally:\n",
    "        producer.stop()\n",
    "\n",
    "# Main execution\n",
    "try:\n",
    "    with tweet_producer_session(spark, kafka_brokers, topic) as producer:\n",
    "        producer.run()\n",
    "except KeyboardInterrupt:\n",
    "    print(\"\\nShutdown initiated...\")"
   ]
  },
  {
   "cell_type": "code",
   "execution_count": null,
   "id": "cf36d1b1-cce1-4760-8c92-e038a2546506",
   "metadata": {},
   "outputs": [],
   "source": []
  }
 ],
 "metadata": {
  "kernelspec": {
   "display_name": "Python 3 (ipykernel)",
   "language": "python",
   "name": "python3"
  },
  "language_info": {
   "codemirror_mode": {
    "name": "ipython",
    "version": 3
   },
   "file_extension": ".py",
   "mimetype": "text/x-python",
   "name": "python",
   "nbconvert_exporter": "python",
   "pygments_lexer": "ipython3",
   "version": "3.11.10"
  }
 },
 "nbformat": 4,
 "nbformat_minor": 5
}

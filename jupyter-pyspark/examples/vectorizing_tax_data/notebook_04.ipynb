{
 "cells": [
  {
   "cell_type": "markdown",
   "id": "59aa37d7-8f47-497f-b073-3f95029a1f6b",
   "metadata": {},
   "source": [
    "# Generating Unified Profile Vector Embeddings\n",
    "\n",
    "**Purpose**:\n",
    "  1. Load the final, engineered feature set and corresponding Taxpayer IDs\n",
    "     prepared in Notebook 03.\n",
    "  2. Apply a technique to represent each taxpayer's profile (defined by their\n",
    "     engineered features) as a dense vector embedding.\n",
    "     *MVP Approach*: Use the scaled feature vectors directly as embeddings.\n",
    "  3. Verify the dimensions and alignment of the generated embeddings and IDs.\n",
    "  4. Save the embeddings and corresponding Taxpayer IDs in formats suitable for\n",
    "     ingestion into a vector database in the next notebook.\n",
    "\n",
    "**Why Embeddings?**\n",
    "  Embeddings capture the complex, multi-faceted characteristics of each taxpayer\n",
    "  profile (derived from multiple data sources) in a numerical vector format.\n",
    "  This allows us to use efficient vector similarity search techniques to find\n",
    "  taxpayers with similar overall profiles, which is crucial for identifying\n",
    "  anomalous or potentially fraudulent patterns that might be hidden when looking\n",
    "  at features in isolation.\n",
    "\n",
    "**Prerequisites**:\n",
    "  - Successful completion of [Notebook 03](./notebook_03.ipynb).\n",
    "  - Existence of the engineered features file ('engineered_features.csv').\n",
    "  - Existence of the corresponding Taxpayer IDs file ('taxpayer_ids.csv').\n",
    "\n",
    "**Outputs**:\n",
    "  - A NumPy array containing the vector embeddings (one row per taxpayer).\n",
    "  - This array saved to a file (e.g., 'embeddings.npy').\n",
    "  - The corresponding Taxpayer IDs saved alongside (e.g., 'embedding_ids.csv').\n",
    "\n",
    "**Next Step**:\n",
    "  [Notebook 05](./notebook_05.ipynb) will set up a vector database and index these generated embeddings."
   ]
  },
  {
   "cell_type": "markdown",
   "id": "07fb6720-a0fe-405c-8046-94121e698a27",
   "metadata": {},
   "source": [
    "## Imports and Configuration"
   ]
  },
  {
   "cell_type": "code",
   "execution_count": 1,
   "id": "57782da1-c8e6-45c8-bdfa-2c92ee3cddcc",
   "metadata": {},
   "outputs": [
    {
     "name": "stdout",
     "output_type": "stream",
     "text": [
      "Notebook 04: Generating Unified Profile Vector Embeddings\n",
      "--------------------------------------------------\n",
      "Loading engineered features from: ./data/processed/engineered_features.csv\n",
      "Loading taxpayer IDs from: ./data/processed/taxpayer_ids.csv\n",
      "Saving embeddings to: ./data/processed/embeddings.npy\n",
      "Saving corresponding IDs to: ./data/processed/embedding_ids.csv\n",
      "--------------------------------------------------\n"
     ]
    }
   ],
   "source": [
    "import pandas as pd\n",
    "import numpy as np\n",
    "import os\n",
    "# Optional: Import PCA if demonstrating dimensionality reduction as an alternative\n",
    "# from sklearn.decomposition import PCA\n",
    "\n",
    "# --- Configuration ---\n",
    "PROCESSED_DATA_DIR = './data/processed' # Directory containing N03 output\n",
    "OUTPUT_DIR = './data/processed' # Directory to save embeddings and IDs\n",
    "\n",
    "FEATURES_INPUT_FILE = os.path.join(PROCESSED_DATA_DIR, 'engineered_features.csv')\n",
    "IDS_INPUT_FILE = os.path.join(PROCESSED_DATA_DIR, 'taxpayer_ids.csv')\n",
    "\n",
    "EMBEDDINGS_OUTPUT_FILE = os.path.join(OUTPUT_DIR, 'embeddings.npy')\n",
    "EMBEDDING_IDS_OUTPUT_FILE = os.path.join(OUTPUT_DIR, 'embedding_ids.csv') # Save IDs again for clarity\n",
    "\n",
    "# Create output directory if it doesn't exist\n",
    "os.makedirs(OUTPUT_DIR, exist_ok=True)\n",
    "\n",
    "print(\"Notebook 04: Generating Unified Profile Vector Embeddings\")\n",
    "print(\"-\" * 50)\n",
    "print(f\"Loading engineered features from: {FEATURES_INPUT_FILE}\")\n",
    "print(f\"Loading taxpayer IDs from: {IDS_INPUT_FILE}\")\n",
    "print(f\"Saving embeddings to: {EMBEDDINGS_OUTPUT_FILE}\")\n",
    "print(f\"Saving corresponding IDs to: {EMBEDDING_IDS_OUTPUT_FILE}\")\n",
    "print(\"-\" * 50)"
   ]
  },
  {
   "cell_type": "markdown",
   "id": "f591c826-64e9-4367-8279-77118f18293f",
   "metadata": {},
   "source": [
    "## Load Processed Features and IDs"
   ]
  },
  {
   "cell_type": "code",
   "execution_count": 2,
   "id": "a55365c2-2cad-4099-bf23-d558d8631cc1",
   "metadata": {},
   "outputs": [
    {
     "name": "stdout",
     "output_type": "stream",
     "text": [
      "Successfully loaded engineered features: (4900, 28)\n",
      "Successfully loaded taxpayer IDs: (4900, 1)\n",
      "Validation: No missing values found in features.\n",
      "Validation: Number of feature rows matches number of IDs.\n"
     ]
    }
   ],
   "source": [
    "try:\n",
    "    features_df = pd.read_csv(FEATURES_INPUT_FILE)\n",
    "    print(f\"Successfully loaded engineered features: {features_df.shape}\")\n",
    "except FileNotFoundError:\n",
    "    print(f\"ERROR: Engineered features file not found at {FEATURES_INPUT_FILE}.\")\n",
    "    print(\"Please ensure Notebook 03 was run successfully and saved the file.\")\n",
    "    raise\n",
    "\n",
    "try:\n",
    "    taxpayer_ids_df = pd.read_csv(IDS_INPUT_FILE)\n",
    "    print(f\"Successfully loaded taxpayer IDs: {taxpayer_ids_df.shape}\")\n",
    "except FileNotFoundError:\n",
    "    print(f\"ERROR: Taxpayer IDs file not found at {IDS_INPUT_FILE}.\")\n",
    "    print(\"Please ensure Notebook 03 was run successfully and saved the file.\")\n",
    "    raise\n",
    "\n",
    "# Basic Validation\n",
    "if features_df.isnull().values.any():\n",
    "    print(\"ERROR: Missing values found in the loaded features data!\")\n",
    "    print(features_df.isnull().sum())\n",
    "    raise ValueError(\"NaNs found in feature data. Cannot generate embeddings.\")\n",
    "else:\n",
    "    print(\"Validation: No missing values found in features.\")\n",
    "\n",
    "if len(features_df) != len(taxpayer_ids_df):\n",
    "    print(f\"ERROR: Mismatch between number of feature rows ({len(features_df)}) and number of IDs ({len(taxpayer_ids_df)})!\")\n",
    "    raise ValueError(\"Mismatch in length between features and IDs.\")\n",
    "else:\n",
    "    print(\"Validation: Number of feature rows matches number of IDs.\")\n"
   ]
  },
  {
   "cell_type": "markdown",
   "id": "df5337a9-21e2-4150-b9df-e289d24d6939",
   "metadata": {},
   "source": [
    "## Prepare Data for Embedding Generation"
   ]
  },
  {
   "cell_type": "code",
   "execution_count": 3,
   "id": "48bc2f94-90d8-4747-b513-d83fc4924a13",
   "metadata": {},
   "outputs": [
    {
     "name": "stdout",
     "output_type": "stream",
     "text": [
      "Converted features DataFrame to NumPy array with shape: (4900, 28)\n",
      "Converted Taxpayer IDs to list. Total IDs: 4900\n",
      "Validation: Feature array rows align with ID list length.\n"
     ]
    }
   ],
   "source": [
    "# Convert features DataFrame to NumPy array\n",
    "# This array represents the multi-dimensional space where each taxpayer profile exists\n",
    "features_array = features_df.to_numpy()\n",
    "print(f\"Converted features DataFrame to NumPy array with shape: {features_array.shape}\")\n",
    "\n",
    "# Ensure IDs are in a simple list format, preserving order\n",
    "id_list = taxpayer_ids_df['Taxpayer ID'].astype(str).tolist()\n",
    "print(f\"Converted Taxpayer IDs to list. Total IDs: {len(id_list)}\")\n",
    "\n",
    "# Final check for alignment\n",
    "assert features_array.shape[0] == len(id_list), \"Mismatch between feature array rows and ID list length!\"\n",
    "print(\"Validation: Feature array rows align with ID list length.\")"
   ]
  },
  {
   "cell_type": "code",
   "execution_count": 8,
   "id": "d896a9cc-d637-4a64-8449-f3be275a84c3",
   "metadata": {},
   "outputs": [
    {
     "data": {
      "text/plain": [
       "array([[ 2.98799529,  3.7496856 ,  1.82753275, ..., -0.45256964,\n",
       "         2.45563212, -0.25218817],\n",
       "       [ 1.24108515,  1.24088774,  0.0544587 , ..., -0.45256964,\n",
       "        -0.40722712, -0.25218817],\n",
       "       [-0.41359194, -0.19655941, -0.83207832, ..., -0.45256964,\n",
       "        -0.40722712, -0.25218817],\n",
       "       ...,\n",
       "       [-0.31244003, -0.32276434, -0.83207832, ..., -0.45256964,\n",
       "        -0.40722712,  3.96529312],\n",
       "       [-0.31244003, -0.32276434, -0.83207832, ..., -0.45256964,\n",
       "        -0.40722712,  3.96529312],\n",
       "       [-0.31244003, -0.32276434, -0.83207832, ..., -0.45256964,\n",
       "        -0.40722712,  3.96529312]])"
      ]
     },
     "metadata": {},
     "output_type": "display_data"
    }
   ],
   "source": [
    "display(features_array)"
   ]
  },
  {
   "cell_type": "markdown",
   "id": "00a533e4-eb5b-4df7-a4f1-02c2b923d3db",
   "metadata": {},
   "source": [
    "## Generate Embeddings"
   ]
  },
  {
   "cell_type": "code",
   "execution_count": 4,
   "id": "96f6cb09-6fc7-4ecc-a96c-d2a5572375a1",
   "metadata": {},
   "outputs": [
    {
     "name": "stdout",
     "output_type": "stream",
     "text": [
      "Using engineered feature vectors directly as embeddings.\n",
      "Generated 4900 embeddings.\n",
      "Embedding Dimension: 28\n"
     ]
    },
    {
     "data": {
      "text/plain": [
       "'\\nprint(\"\\n--- Optional: Generating embeddings using PCA ---\")\\n# Choose the number of dimensions for the PCA embedding\\nPCA_DIMENSIONS = 32 # Example dimension - tune based on explained variance\\n\\npca = PCA(n_components=PCA_DIMENSIONS, random_state=42)\\nembeddings_pca = pca.fit_transform(features_array)\\n\\nprint(f\"Generated PCA embeddings with shape: {embeddings_pca.shape}\")\\nprint(f\"Explained variance ratio by {PCA_DIMENSIONS} components: {pca.explained_variance_ratio_.sum():.4f}\")\\n\\n# If using PCA, you would replace the main \\'embeddings\\' variable:\\n# embeddings = embeddings_pca\\n# embedding_dimension = PCA_DIMENSIONS\\n# print(f\"NOTE: Switched to using PCA embeddings for subsequent steps.\")\\nprint(\"--- End Optional PCA Section ---\")\\n'"
      ]
     },
     "execution_count": 4,
     "metadata": {},
     "output_type": "execute_result"
    }
   ],
   "source": [
    "# --- MVP Approach: Use Engineered Features Directly ---\n",
    "# In this approach, the final processed feature vector for each taxpayer IS the embedding.\n",
    "# This is the simplest method and directly uses the information engineered in N03.\n",
    "# The dimensionality of the embedding will be equal to the number of features.\n",
    "\n",
    "embeddings = features_array\n",
    "embedding_dimension = embeddings.shape[1]\n",
    "\n",
    "print(f\"Using engineered feature vectors directly as embeddings.\")\n",
    "print(f\"Generated {embeddings.shape[0]} embeddings.\")\n",
    "print(f\"Embedding Dimension: {embedding_dimension}\")\n",
    "\n",
    "\n",
    "# --- Optional Alternative: Dimensionality Reduction (e.g., PCA) ---\n",
    "# If the feature dimensionality is very high, or if we want potentially smoother\n",
    "# embeddings, techniques like PCA can be used. This is not the primary path for the MVP.\n",
    "# Uncomment the following block to experiment with PCA:\n",
    "\"\"\"\n",
    "print(\"\\n--- Optional: Generating embeddings using PCA ---\")\n",
    "# Choose the number of dimensions for the PCA embedding\n",
    "PCA_DIMENSIONS = 32 # Example dimension - tune based on explained variance\n",
    "\n",
    "pca = PCA(n_components=PCA_DIMENSIONS, random_state=42)\n",
    "embeddings_pca = pca.fit_transform(features_array)\n",
    "\n",
    "print(f\"Generated PCA embeddings with shape: {embeddings_pca.shape}\")\n",
    "print(f\"Explained variance ratio by {PCA_DIMENSIONS} components: {pca.explained_variance_ratio_.sum():.4f}\")\n",
    "\n",
    "# If using PCA, you would replace the main 'embeddings' variable:\n",
    "# embeddings = embeddings_pca\n",
    "# embedding_dimension = PCA_DIMENSIONS\n",
    "# print(f\"NOTE: Switched to using PCA embeddings for subsequent steps.\")\n",
    "print(\"--- End Optional PCA Section ---\")\n",
    "\"\"\"\n",
    "# --- End Optional Section ---"
   ]
  },
  {
   "cell_type": "markdown",
   "id": "cb12ef1d-11e2-4031-bab7-8ab2ef42d12e",
   "metadata": {},
   "source": [
    "## Inspect Embeddings"
   ]
  },
  {
   "cell_type": "code",
   "execution_count": 5,
   "id": "b8055a12-8b42-49a1-8165-7d3e521e731a",
   "metadata": {},
   "outputs": [
    {
     "name": "stdout",
     "output_type": "stream",
     "text": [
      "Shape of the final embeddings array: (4900, 28)\n",
      "Data type of embeddings: float64\n",
      "\n",
      "Sample Embeddings (first 3):\n",
      "  ID TXP_0A78B11C9A: [ 2.98799529  3.7496856   1.82753275  1.61055236  0.53166466  0.43593582\n",
      "  0.25299264  2.24382894 -0.29226896 -0.29226896]...\n",
      "  ID TXP_85119644D8: [ 1.24108515  1.24088774  0.0544587  -0.34890359 -0.73421114 -0.83103712\n",
      " -0.38314222  0.17032365 -0.29226896 -0.29226896]...\n",
      "  ID TXP_FB9D1C4009: [-0.41359194 -0.19655941 -0.83207832 -0.5626008  -0.22500131 -0.25262929\n",
      " -0.22968489 -0.866429   -0.29226896 -0.29226896]...\n"
     ]
    }
   ],
   "source": [
    "print(f\"Shape of the final embeddings array: {embeddings.shape}\")\n",
    "print(f\"Data type of embeddings: {embeddings.dtype}\")\n",
    "\n",
    "# Show the first few embeddings (or slices of them)\n",
    "print(\"\\nSample Embeddings (first 3):\")\n",
    "for i in range(min(3, len(embeddings))):\n",
    "    # Print first 10 components if dimension is large\n",
    "    print(f\"  ID {id_list[i]}: {embeddings[i][:min(10, embedding_dimension)]}...\")"
   ]
  },
  {
   "cell_type": "markdown",
   "id": "8a22c887-c4aa-4911-ade7-bc2e14f97bdb",
   "metadata": {},
   "source": [
    "## Save Embeddings and Corresponding IDs"
   ]
  },
  {
   "cell_type": "code",
   "execution_count": 6,
   "id": "f524a3eb-3e22-419d-8f8c-d50eed9c7118",
   "metadata": {},
   "outputs": [
    {
     "name": "stdout",
     "output_type": "stream",
     "text": [
      "Saving embeddings in NumPy binary format (.npy) and IDs as CSV.\n",
      "Successfully saved embeddings NumPy array to: ./data/processed/embeddings.npy\n",
      "Successfully saved corresponding Taxpayer IDs to: ./data/processed/embedding_ids.csv\n"
     ]
    }
   ],
   "source": [
    "print(\"Saving embeddings in NumPy binary format (.npy) and IDs as CSV.\")\n",
    "\n",
    "try:\n",
    "    # Save the embeddings array\n",
    "    np.save(EMBEDDINGS_OUTPUT_FILE, embeddings)\n",
    "    print(f\"Successfully saved embeddings NumPy array to: {EMBEDDINGS_OUTPUT_FILE}\")\n",
    "\n",
    "    # Save the corresponding IDs (in the same order) as a CSV\n",
    "    # This makes it easy to load the IDs alongside the embeddings in the next notebook\n",
    "    ids_to_save_df = pd.DataFrame({'Taxpayer ID': id_list})\n",
    "    ids_to_save_df.to_csv(EMBEDDING_IDS_OUTPUT_FILE, index=False)\n",
    "    print(f\"Successfully saved corresponding Taxpayer IDs to: {EMBEDDING_IDS_OUTPUT_FILE}\")\n",
    "\n",
    "except Exception as e:\n",
    "    print(f\"ERROR saving embedding data files: {e}\")"
   ]
  },
  {
   "cell_type": "markdown",
   "id": "583432e0-6828-40f7-9959-ff4ecc6e1e41",
   "metadata": {},
   "source": [
    "## Conclusion"
   ]
  },
  {
   "cell_type": "code",
   "execution_count": 7,
   "id": "306cc603-86bb-4386-901c-d07f4db16c2c",
   "metadata": {},
   "outputs": [
    {
     "name": "stdout",
     "output_type": "stream",
     "text": [
      "Notebook 04 finished.\n",
      "Successfully generated vector embeddings for each unified taxpayer profile:\n",
      "  - Loaded 4900 engineered profiles.\n",
      "  - Used the 28-dimensional feature vectors directly as embeddings (MVP approach).\n",
      "  - Saved the embeddings as a NumPy array and the corresponding IDs.\n",
      "\n",
      "The embeddings are now ready for indexing in a vector database.\n"
     ]
    }
   ],
   "source": [
    "print(\"Notebook 04 finished.\")\n",
    "print(\"Successfully generated vector embeddings for each unified taxpayer profile:\")\n",
    "print(f\"  - Loaded {len(id_list)} engineered profiles.\")\n",
    "print(f\"  - Used the {embedding_dimension}-dimensional feature vectors directly as embeddings (MVP approach).\")\n",
    "print(\"  - Saved the embeddings as a NumPy array and the corresponding IDs.\")\n",
    "print(\"\\nThe embeddings are now ready for indexing in a vector database.\")"
   ]
  },
  {
   "cell_type": "markdown",
   "id": "b1ad6016-a35f-4c54-9d46-a2abe17cdc7a",
   "metadata": {},
   "source": [
    "Proceed to [Notebook 05](./notebook_05.ipynb): Setting Up Vector DB & Indexing Profile Embeddings."
   ]
  },
  {
   "cell_type": "code",
   "execution_count": null,
   "id": "03f2a2b8-ac6e-4580-911a-db96456215ed",
   "metadata": {},
   "outputs": [],
   "source": []
  }
 ],
 "metadata": {
  "kernelspec": {
   "display_name": "Python 3 (ipykernel)",
   "language": "python",
   "name": "python3"
  },
  "language_info": {
   "codemirror_mode": {
    "name": "ipython",
    "version": 3
   },
   "file_extension": ".py",
   "mimetype": "text/x-python",
   "name": "python",
   "nbconvert_exporter": "python",
   "pygments_lexer": "ipython3",
   "version": "3.11.10"
  }
 },
 "nbformat": 4,
 "nbformat_minor": 5
}

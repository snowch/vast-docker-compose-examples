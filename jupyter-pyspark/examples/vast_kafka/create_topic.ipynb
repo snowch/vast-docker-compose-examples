{
 "cells": [
  {
   "cell_type": "code",
   "execution_count": 1,
   "id": "5c56a0f5-134c-435c-bd2c-688092e455e5",
   "metadata": {},
   "outputs": [],
   "source": [
    "%%capture --no-stderr\n",
    "%pip install --quiet -U kafka-python"
   ]
  },
  {
   "cell_type": "code",
   "execution_count": 2,
   "id": "9cfb4031-3a9e-4c55-b056-d825073cfa81",
   "metadata": {},
   "outputs": [
    {
     "name": "stdout",
     "output_type": "stream",
     "text": [
      "Topic 'streaming-demo' already exists.\n",
      "Topic 'streaming-demo' already exists.\n"
     ]
    }
   ],
   "source": [
    "from kafka.admin import KafkaAdminClient\n",
    "from kafka.admin import NewTopic\n",
    "from kafka.errors import TopicAlreadyExistsError\n",
    "\n",
    "def create_kafka_topic(topic_name, num_partitions=1, replication_factor=1, bootstrap_servers='localhost:9092'):\n",
    "    \"\"\"\n",
    "    Creates a Kafka topic if it doesn't already exist.\n",
    "\n",
    "    Args:\n",
    "        topic_name (str): The name of the topic to create.\n",
    "        num_partitions (int): The number of partitions for the topic.\n",
    "        replication_factor (int): The replication factor for the topic.\n",
    "        bootstrap_servers (str): Comma-separated list of Kafka broker addresses.\n",
    "    \"\"\"\n",
    "    try:\n",
    "        admin_client = KafkaAdminClient(bootstrap_servers=bootstrap_servers)\n",
    "        topic_list = [NewTopic(name=topic_name, num_partitions=num_partitions, replication_factor=replication_factor)]\n",
    "        admin_client.create_topics(new_topics=topic_list, validate_only=False)\n",
    "        print(f\"Topic '{topic_name}' created successfully.\")\n",
    "\n",
    "    except TopicAlreadyExistsError:\n",
    "        print(f\"Topic '{topic_name}' already exists.\")\n",
    "    except Exception as e:\n",
    "        print(f\"An error occurred: {e}\")\n",
    "    finally:\n",
    "        if 'admin_client' in locals():\n",
    "            admin_client.close()\n",
    "\n",
    "# Example usage:\n",
    "topic_to_create = \"streaming-demo\"\n",
    "broker_servers = \"172.200.204.1:9092\" #change if needed.\n",
    "\n",
    "create_kafka_topic(topic_to_create, bootstrap_servers=broker_servers)\n",
    "create_kafka_topic(topic_to_create, bootstrap_servers=broker_servers) # demonstrating the already exists portion.\n"
   ]
  },
  {
   "cell_type": "code",
   "execution_count": null,
   "id": "92f7aae8-232b-4249-8244-f63db859641b",
   "metadata": {},
   "outputs": [],
   "source": []
  }
 ],
 "metadata": {
  "kernelspec": {
   "display_name": "Python 3 (ipykernel)",
   "language": "python",
   "name": "python3"
  },
  "language_info": {
   "codemirror_mode": {
    "name": "ipython",
    "version": 3
   },
   "file_extension": ".py",
   "mimetype": "text/x-python",
   "name": "python",
   "nbconvert_exporter": "python",
   "pygments_lexer": "ipython3",
   "version": "3.11.10"
  }
 },
 "nbformat": 4,
 "nbformat_minor": 5
}

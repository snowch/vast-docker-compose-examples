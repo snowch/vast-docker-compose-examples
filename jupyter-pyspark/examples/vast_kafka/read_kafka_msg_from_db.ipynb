{
 "cells": [
  {
   "cell_type": "code",
   "execution_count": 1,
   "id": "e80827bb-7038-4514-9b18-96f53375f6ea",
   "metadata": {},
   "outputs": [],
   "source": [
    "%%capture --no-stderr\n",
    "%pip install --quiet -U vastdb"
   ]
  },
  {
   "cell_type": "code",
   "execution_count": 2,
   "id": "2f44ceb5-fc9e-499a-a59f-c6e71c7c1bcf",
   "metadata": {},
   "outputs": [
    {
     "name": "stdout",
     "output_type": "stream",
     "text": [
      "pyarrow.Table\n",
      "key: binary\n",
      "value: binary\n",
      "timestamp_broker: timestamp[ms]\n",
      "timestamp_producer: timestamp[ms]\n",
      "headers: list<item: struct<key: string not null, value: binary> not null>\n",
      "  child 0, item: struct<key: string not null, value: binary> not null\n",
      "      child 0, key: string not null\n",
      "      child 1, value: binary\n",
      "----\n",
      "key: []\n",
      "value: []\n",
      "timestamp_broker: []\n",
      "timestamp_producer: []\n",
      "headers: []\n",
      "================================================================================\n"
     ]
    }
   ],
   "source": [
    "import pyarrow as pa\n",
    "import vastdb\n",
    "\n",
    "ENDPOINT='http://172.200.204.1'\n",
    "ACCESS_KEY='BR77TV2BSB1LQG4CH9QO'\n",
    "SECRET_KEY='37tFv8Nd3tUFsQW7nyhFXLED0KUq7PW0Bj/cpjYg'\n",
    "\n",
    "session = vastdb.connect(\n",
    "    endpoint=ENDPOINT,\n",
    "    access=ACCESS_KEY,\n",
    "    secret=SECRET_KEY)\n",
    "\n",
    "with session.transaction() as tx:\n",
    "    bucket = tx.bucket('my-kafka')\n",
    "    schema = bucket.schema('kafka_topics')\n",
    "    table = schema.table('streaming-demo')\n",
    "\n",
    "    # run `SELECT * FROM t`\n",
    "    reader = table.select()  # return a `pyarrow.RecordBatchReader`\n",
    "    result = reader.read_all()  # build an PyArrow Table from the `pyarrow.RecordBatch` objects read from VAST\n",
    "\n",
    "    print(result)\n",
    "    print('=' * 80)\n",
    "\n",
    "#    print(result.take([0])['value'])\n",
    "#    print('=' * 80)\n",
    "    \n",
    "#    print(result.slice(0,1)['value'][0])\n",
    "   \n"
   ]
  },
  {
   "cell_type": "code",
   "execution_count": null,
   "id": "4c8dd2af-1b89-40a8-82e8-d626b737f8ac",
   "metadata": {},
   "outputs": [],
   "source": []
  }
 ],
 "metadata": {
  "kernelspec": {
   "display_name": "Python 3 (ipykernel)",
   "language": "python",
   "name": "python3"
  },
  "language_info": {
   "codemirror_mode": {
    "name": "ipython",
    "version": 3
   },
   "file_extension": ".py",
   "mimetype": "text/x-python",
   "name": "python",
   "nbconvert_exporter": "python",
   "pygments_lexer": "ipython3",
   "version": "3.11.10"
  }
 },
 "nbformat": 4,
 "nbformat_minor": 5
}

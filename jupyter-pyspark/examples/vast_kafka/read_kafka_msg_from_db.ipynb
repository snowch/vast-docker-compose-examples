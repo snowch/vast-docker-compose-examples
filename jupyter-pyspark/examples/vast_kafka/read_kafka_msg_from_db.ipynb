{
 "cells": [
  {
   "cell_type": "code",
   "execution_count": 1,
   "id": "e80827bb-7038-4514-9b18-96f53375f6ea",
   "metadata": {},
   "outputs": [],
   "source": [
    "%%capture --no-stderr\n",
    "%pip install --quiet -U vastdb"
   ]
  },
  {
   "cell_type": "code",
   "execution_count": 11,
   "id": "2f44ceb5-fc9e-499a-a59f-c6e71c7c1bcf",
   "metadata": {},
   "outputs": [
    {
     "name": "stdout",
     "output_type": "stream",
     "text": [
      "2\n"
     ]
    }
   ],
   "source": [
    "import pyarrow as pa\n",
    "import vastdb\n",
    "\n",
    "ENDPOINT='http://172.200.204.1'\n",
    "ACCESS_KEY='BR77TV2BSB1LQG4CH9QO'\n",
    "SECRET_KEY='37tFv8Nd3tUFsQW7nyhFXLED0KUq7PW0Bj/cpjYg'\n",
    "\n",
    "session = vastdb.connect(\n",
    "    endpoint=ENDPOINT,\n",
    "    access=ACCESS_KEY,\n",
    "    secret=SECRET_KEY)\n",
    "\n",
    "with session.transaction() as tx:\n",
    "    bucket = tx.bucket('my-kafka')\n",
    "    schema = bucket.schema('kafka_topics')\n",
    "    table = schema.table('streaming-demo')\n",
    "\n",
    "    # run `SELECT * FROM t`\n",
    "    result = table.select().read_all()\n",
    "    print(result.num_rows)\n"
   ]
  },
  {
   "cell_type": "code",
   "execution_count": 12,
   "id": "4c8dd2af-1b89-40a8-82e8-d626b737f8ac",
   "metadata": {},
   "outputs": [
    {
     "data": {
      "text/html": [
       "<div>\n",
       "<style scoped>\n",
       "    .dataframe tbody tr th:only-of-type {\n",
       "        vertical-align: middle;\n",
       "    }\n",
       "\n",
       "    .dataframe tbody tr th {\n",
       "        vertical-align: top;\n",
       "    }\n",
       "\n",
       "    .dataframe thead th {\n",
       "        text-align: right;\n",
       "    }\n",
       "</style>\n",
       "<table border=\"1\" class=\"dataframe\">\n",
       "  <thead>\n",
       "    <tr style=\"text-align: right;\">\n",
       "      <th></th>\n",
       "      <th>key</th>\n",
       "      <th>value</th>\n",
       "      <th>timestamp_broker</th>\n",
       "      <th>timestamp_producer</th>\n",
       "      <th>headers</th>\n",
       "    </tr>\n",
       "  </thead>\n",
       "  <tbody>\n",
       "    <tr>\n",
       "      <th>0</th>\n",
       "      <td>None</td>\n",
       "      <td>b'{\"key\": \"value\", \"number\": 123}'</td>\n",
       "      <td>2025-03-31 09:36:51.279</td>\n",
       "      <td>2025-03-31 09:37:20.535</td>\n",
       "      <td>[]</td>\n",
       "    </tr>\n",
       "    <tr>\n",
       "      <th>1</th>\n",
       "      <td>None</td>\n",
       "      <td>b'{\"key\": \"value\", \"number\": 123}'</td>\n",
       "      <td>2025-03-31 09:40:46.406</td>\n",
       "      <td>2025-03-31 09:41:15.688</td>\n",
       "      <td>[]</td>\n",
       "    </tr>\n",
       "  </tbody>\n",
       "</table>\n",
       "</div>"
      ],
      "text/plain": [
       "    key                               value        timestamp_broker  \\\n",
       "0  None  b'{\"key\": \"value\", \"number\": 123}' 2025-03-31 09:36:51.279   \n",
       "1  None  b'{\"key\": \"value\", \"number\": 123}' 2025-03-31 09:40:46.406   \n",
       "\n",
       "       timestamp_producer headers  \n",
       "0 2025-03-31 09:37:20.535      []  \n",
       "1 2025-03-31 09:41:15.688      []  "
      ]
     },
     "execution_count": 12,
     "metadata": {},
     "output_type": "execute_result"
    }
   ],
   "source": [
    "result.to_pandas()"
   ]
  },
  {
   "cell_type": "code",
   "execution_count": null,
   "id": "232943ac-d7f3-4c78-990e-78036694219a",
   "metadata": {},
   "outputs": [],
   "source": []
  }
 ],
 "metadata": {
  "kernelspec": {
   "display_name": "Python 3 (ipykernel)",
   "language": "python",
   "name": "python3"
  },
  "language_info": {
   "codemirror_mode": {
    "name": "ipython",
    "version": 3
   },
   "file_extension": ".py",
   "mimetype": "text/x-python",
   "name": "python",
   "nbconvert_exporter": "python",
   "pygments_lexer": "ipython3",
   "version": "3.11.10"
  }
 },
 "nbformat": 4,
 "nbformat_minor": 5
}

{
 "cells": [
  {
   "cell_type": "code",
   "execution_count": 1,
   "id": "37501c9e-30dd-4d0f-9ddc-008c9063b2a8",
   "metadata": {},
   "outputs": [],
   "source": [
    "%%capture --no-stderr\n",
    "%pip install --quiet -U kafka-python"
   ]
  },
  {
   "cell_type": "code",
   "execution_count": 2,
   "id": "ad9049e5-f180-4f48-b4fc-6b5803324e42",
   "metadata": {},
   "outputs": [],
   "source": [
    "from kafka import KafkaProducer, KafkaConsumer\n",
    "import json\n",
    "\n",
    "def produce_to_kafka(topic_name, message, bootstrap_servers='localhost:9092'):\n",
    "    \"\"\"\n",
    "    Produces a message to a Kafka topic.\n",
    "\n",
    "    Args:\n",
    "        topic_name (str): The name of the Kafka topic.\n",
    "        message (dict): The message to send (will be serialized as JSON).\n",
    "        bootstrap_servers (str): Comma-separated list of Kafka broker addresses.\n",
    "    \"\"\"\n",
    "    try:\n",
    "        producer = KafkaProducer(\n",
    "            bootstrap_servers=bootstrap_servers,\n",
    "            value_serializer=lambda v: json.dumps(v).encode('utf-8')\n",
    "        )\n",
    "        producer.send(topic_name, message)\n",
    "        producer.flush() # Ensure all messages are sent\n",
    "        print(f\"Message sent to topic: {topic_name}\")\n",
    "    except Exception as e:\n",
    "        print(f\"Error producing message: {e}\")\n",
    "    finally:\n",
    "        if 'producer' in locals():\n",
    "            producer.close()\n",
    "\n",
    "def consume_from_kafka(topic_name, bootstrap_servers='localhost:9092', group_id='my-group'):\n",
    "    \"\"\"\n",
    "    Consumes messages from a Kafka topic.\n",
    "\n",
    "    Args:\n",
    "        topic_name (str): The name of the Kafka topic.\n",
    "        bootstrap_servers (str): Comma-separated list of Kafka broker addresses.\n",
    "        group_id (str): The consumer group ID.\n",
    "    \"\"\"\n",
    "    try:\n",
    "        consumer = KafkaConsumer(\n",
    "            topic_name,\n",
    "            bootstrap_servers=bootstrap_servers,\n",
    "            group_id=group_id,\n",
    "            value_deserializer=lambda v: json.loads(v.decode('utf-8'))\n",
    "        )\n",
    "\n",
    "        for message in consumer:\n",
    "            print(f\"Received message: {message.value}\")\n",
    "\n",
    "    except Exception as e:\n",
    "        print(f\"Error consuming messages: {e}\")\n",
    "    finally:\n",
    "        if 'consumer' in locals():\n",
    "            consumer.close()"
   ]
  },
  {
   "cell_type": "code",
   "execution_count": 3,
   "id": "27c0f920-9cd9-4f5a-a033-684d4b503ed3",
   "metadata": {},
   "outputs": [],
   "source": [
    "topic = \"my_new_topic\"\n",
    "servers = '172.200.204.1:9092'"
   ]
  },
  {
   "cell_type": "code",
   "execution_count": 4,
   "id": "520d9e3b-c956-44d5-b283-1d16c9ab805a",
   "metadata": {},
   "outputs": [
    {
     "name": "stdout",
     "output_type": "stream",
     "text": [
      "Message sent to topic: my_new_topic\n"
     ]
    }
   ],
   "source": [
    "message_to_send = {\"key\": \"value\", \"number\": 123}\n",
    "produce_to_kafka(topic, message_to_send, servers)"
   ]
  },
  {
   "cell_type": "code",
   "execution_count": 5,
   "id": "c4af7b3d-1c0f-40f8-b8ee-fa0bbe3cd54e",
   "metadata": {},
   "outputs": [
    {
     "name": "stdout",
     "output_type": "stream",
     "text": [
      "Received message: {'key': 'value', 'number': 123}\n",
      "Received KeyboardInterrupt. Quitting.\n"
     ]
    }
   ],
   "source": [
    "try:\n",
    "    consume_from_kafka(topic, servers)\n",
    "except KeyboardInterrupt:\n",
    "    print(\"Received KeyboardInterrupt. Quitting.\")"
   ]
  },
  {
   "cell_type": "code",
   "execution_count": null,
   "id": "4a0cd819-b947-49b7-99ab-e24a4582e91b",
   "metadata": {},
   "outputs": [],
   "source": []
  }
 ],
 "metadata": {
  "kernelspec": {
   "display_name": "Python 3 (ipykernel)",
   "language": "python",
   "name": "python3"
  },
  "language_info": {
   "codemirror_mode": {
    "name": "ipython",
    "version": 3
   },
   "file_extension": ".py",
   "mimetype": "text/x-python",
   "name": "python",
   "nbconvert_exporter": "python",
   "pygments_lexer": "ipython3",
   "version": "3.11.10"
  }
 },
 "nbformat": 4,
 "nbformat_minor": 5
}

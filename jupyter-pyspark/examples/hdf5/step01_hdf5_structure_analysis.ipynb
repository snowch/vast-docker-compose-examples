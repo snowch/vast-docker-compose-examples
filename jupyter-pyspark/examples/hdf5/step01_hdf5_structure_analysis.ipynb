{
 "cells": [
  {
   "cell_type": "markdown",
   "id": "82af41c3-21f5-4fbb-9fd5-fbdf863d72f5",
   "metadata": {},
   "source": [
    "# Import HDF5 file into Vast DB"
   ]
  },
  {
   "cell_type": "markdown",
   "id": "ac9d1da0-51b9-45ac-bc75-ee3b910bad1d",
   "metadata": {},
   "source": [
    "Download the smallest file to analyse its structure"
   ]
  },
  {
   "cell_type": "code",
   "execution_count": 1,
   "id": "0da67fd9-5b46-43c9-97a2-83e00430405d",
   "metadata": {},
   "outputs": [
    {
     "name": "stdout",
     "output_type": "stream",
     "text": [
      "--2024-12-12 13:38:20--  https://virgodb.cosma.dur.ac.uk/public/agb/snapshot_028_z000p000/snap_028_z000p000.22.hdf5\n",
      "Resolving virgodb.cosma.dur.ac.uk (virgodb.cosma.dur.ac.uk)... 129.234.196.27\n",
      "Connecting to virgodb.cosma.dur.ac.uk (virgodb.cosma.dur.ac.uk)|129.234.196.27|:443... connected.\n",
      "HTTP request sent, awaiting response... 416 Requested Range Not Satisfiable\n",
      "\n",
      "    The file is already fully retrieved; nothing to do.\n",
      "\n"
     ]
    }
   ],
   "source": [
    "! wget -c https://virgodb.cosma.dur.ac.uk/public/agb/snapshot_028_z000p000/snap_028_z000p000.22.hdf5"
   ]
  },
  {
   "cell_type": "code",
   "execution_count": 2,
   "id": "7ee364ac-6d50-49c7-ab76-0bcbe3aa6ad3",
   "metadata": {},
   "outputs": [],
   "source": [
    "HDF5_FILE_PATH = 'snap_028_z000p000.22.hdf5'"
   ]
  },
  {
   "cell_type": "code",
   "execution_count": 3,
   "id": "2300abc6-6c50-4d4d-ba76-20de96d4d075",
   "metadata": {},
   "outputs": [
    {
     "name": "stdout",
     "output_type": "stream",
     "text": [
      "Requirement already satisfied: h5py in /opt/conda/lib/python3.11/site-packages (3.12.1)\n",
      "Requirement already satisfied: numpy>=1.19.3 in /opt/conda/lib/python3.11/site-packages (from h5py) (1.26.4)\n"
     ]
    }
   ],
   "source": [
    "! pip install h5py"
   ]
  },
  {
   "cell_type": "code",
   "execution_count": 4,
   "id": "0dbba12e-b4d0-4222-b206-20838264e30a",
   "metadata": {},
   "outputs": [
    {
     "name": "stdout",
     "output_type": "stream",
     "text": [
      "HDF5 File Structure:\n",
      "Config: Group\n",
      "Constants: Group\n",
      "HashTable: Group\n",
      "  PartType0: Group\n",
      "    FirstKeyInFile: Dataset\n",
      "    LastKeyInFile: Dataset\n",
      "    NumKeysInFile: Dataset\n",
      "    NumParticleInCell: Dataset\n",
      "  PartType1: Group\n",
      "    FirstKeyInFile: Dataset\n",
      "    LastKeyInFile: Dataset\n",
      "    NumKeysInFile: Dataset\n",
      "    NumParticleInCell: Dataset\n",
      "  PartType4: Group\n",
      "    FirstKeyInFile: Dataset\n",
      "    LastKeyInFile: Dataset\n",
      "    NumKeysInFile: Dataset\n",
      "    NumParticleInCell: Dataset\n",
      "  PartType5: Group\n",
      "    FirstKeyInFile: Dataset\n",
      "    LastKeyInFile: Dataset\n",
      "    NumKeysInFile: Dataset\n",
      "    NumParticleInCell: Dataset\n",
      "Header: Group\n",
      "Parameters: Group\n",
      "  ChemicalElements: Group\n",
      "PartType0: Group\n",
      "  AExpMaximumTemperature: Dataset\n",
      "  Coordinates: Dataset\n",
      "  Density: Dataset\n",
      "  ElementAbundance: Group\n",
      "    Carbon: Dataset\n",
      "    Helium: Dataset\n",
      "    Hydrogen: Dataset\n",
      "    Iron: Dataset\n",
      "    Magnesium: Dataset\n",
      "    Neon: Dataset\n",
      "    Nitrogen: Dataset\n",
      "    Oxygen: Dataset\n",
      "    Silicon: Dataset\n",
      "  Entropy: Dataset\n",
      "  GroupNumber: Dataset\n",
      "  HostHalo_TVir_Mass: Dataset\n",
      "  InternalEnergy: Dataset\n",
      "  IronMassFracFromSNIa: Dataset\n",
      "  Mass: Dataset\n",
      "  MaximumTemperature: Dataset\n",
      "  MetalMassFracFromAGB: Dataset\n",
      "  MetalMassFracFromSNII: Dataset\n",
      "  MetalMassFracFromSNIa: Dataset\n",
      "  Metallicity: Dataset\n",
      "  OnEquationOfState: Dataset\n",
      "  ParticleIDs: Dataset\n",
      "  SmoothedElementAbundance: Group\n",
      "    Carbon: Dataset\n",
      "    Helium: Dataset\n",
      "    Hydrogen: Dataset\n",
      "    Iron: Dataset\n",
      "    Magnesium: Dataset\n",
      "    Neon: Dataset\n",
      "    Nitrogen: Dataset\n",
      "    Oxygen: Dataset\n",
      "    Silicon: Dataset\n",
      "  SmoothedIronMassFracFromSNIa: Dataset\n",
      "  SmoothedMetallicity: Dataset\n",
      "  SmoothingLength: Dataset\n",
      "  StarFormationRate: Dataset\n",
      "  SubGroupNumber: Dataset\n",
      "  Temperature: Dataset\n",
      "  TotalMassFromAGB: Dataset\n",
      "  TotalMassFromSNII: Dataset\n",
      "  TotalMassFromSNIa: Dataset\n",
      "  Velocity: Dataset\n",
      "PartType1: Group\n",
      "  Coordinates: Dataset\n",
      "  GroupNumber: Dataset\n",
      "  ParticleIDs: Dataset\n",
      "  SubGroupNumber: Dataset\n",
      "  Velocity: Dataset\n",
      "PartType4: Group\n",
      "  AExpMaximumTemperature: Dataset\n",
      "  BirthDensity: Dataset\n",
      "  Coordinates: Dataset\n",
      "  ElementAbundance: Group\n",
      "    Carbon: Dataset\n",
      "    Helium: Dataset\n",
      "    Hydrogen: Dataset\n",
      "    Iron: Dataset\n",
      "    Magnesium: Dataset\n",
      "    Neon: Dataset\n",
      "    Nitrogen: Dataset\n",
      "    Oxygen: Dataset\n",
      "    Silicon: Dataset\n",
      "  Feedback_EnergyFraction: Dataset\n",
      "  GroupNumber: Dataset\n",
      "  HostHalo_TVir: Dataset\n",
      "  HostHalo_TVir_Mass: Dataset\n",
      "  InitialMass: Dataset\n",
      "  IronMassFracFromSNIa: Dataset\n",
      "  Mass: Dataset\n",
      "  MaximumTemperature: Dataset\n",
      "  MetalMassFracFromAGB: Dataset\n",
      "  MetalMassFracFromSNII: Dataset\n",
      "  MetalMassFracFromSNIa: Dataset\n",
      "  Metallicity: Dataset\n",
      "  ParticleIDs: Dataset\n",
      "  PreviousStellarEnrichment: Dataset\n",
      "  SmoothedElementAbundance: Group\n",
      "    Carbon: Dataset\n",
      "    Helium: Dataset\n",
      "    Hydrogen: Dataset\n",
      "    Iron: Dataset\n",
      "    Magnesium: Dataset\n",
      "    Neon: Dataset\n",
      "    Nitrogen: Dataset\n",
      "    Oxygen: Dataset\n",
      "    Silicon: Dataset\n",
      "  SmoothedIronMassFracFromSNIa: Dataset\n",
      "  SmoothedMetallicity: Dataset\n",
      "  SmoothingLength: Dataset\n",
      "  StellarEnrichmentCounter: Dataset\n",
      "  StellarFormationTime: Dataset\n",
      "  SubGroupNumber: Dataset\n",
      "  TotalMassFromAGB: Dataset\n",
      "  TotalMassFromSNII: Dataset\n",
      "  TotalMassFromSNIa: Dataset\n",
      "  Velocity: Dataset\n",
      "PartType5: Group\n",
      "  BH_CumlAccrMass: Dataset\n",
      "  BH_CumlNumSeeds: Dataset\n",
      "  BH_Density: Dataset\n",
      "  BH_FormationTime: Dataset\n",
      "  BH_Mass: Dataset\n",
      "  BH_Mdot: Dataset\n",
      "  BH_MostMassiveProgenitorID: Dataset\n",
      "  BH_Pressure: Dataset\n",
      "  BH_SoundSpeed: Dataset\n",
      "  BH_SurroundingGasVel: Dataset\n",
      "  BH_TimeLastMerger: Dataset\n",
      "  Coordinates: Dataset\n",
      "  GroupNumber: Dataset\n",
      "  HostHalo_TVir_Mass: Dataset\n",
      "  Mass: Dataset\n",
      "  ParticleIDs: Dataset\n",
      "  SmoothingLength: Dataset\n",
      "  SubGroupNumber: Dataset\n",
      "  Velocity: Dataset\n",
      "RuntimePars: Group\n",
      "Units: Group\n"
     ]
    }
   ],
   "source": [
    "import h5py\n",
    "\n",
    "def print_hdf5_structure(hdf5_file, indent=0):\n",
    "    \"\"\"Recursively print the structure of an HDF5 file.\"\"\"\n",
    "    for key in hdf5_file:\n",
    "        item = hdf5_file[key]\n",
    "        print(\"  \" * indent + f\"{key}: {'Group' if isinstance(item, h5py.Group) else 'Dataset'}\")\n",
    "        if isinstance(item, h5py.Group):\n",
    "            print_hdf5_structure(item, indent + 1)\n",
    "\n",
    "# Path to your HDF5 file\n",
    "hdf5_file_path = HDF5_FILE_PATH\n",
    "\n",
    "# Open the HDF5 file\n",
    "with h5py.File(hdf5_file_path, \"r\") as hdf5_file:\n",
    "    print(\"HDF5 File Structure:\")\n",
    "    print_hdf5_structure(hdf5_file)\n"
   ]
  },
  {
   "cell_type": "markdown",
   "id": "aa2a6c0e-44f8-4801-888f-e794f9e39359",
   "metadata": {},
   "source": [
    "## Initial Focus"
   ]
  },
  {
   "cell_type": "code",
   "execution_count": null,
   "id": "7d716775-41c2-4c60-8a46-31acf8678f05",
   "metadata": {},
   "outputs": [],
   "source": []
  }
 ],
 "metadata": {
  "kernelspec": {
   "display_name": "Python 3 (ipykernel)",
   "language": "python",
   "name": "python3"
  },
  "language_info": {
   "codemirror_mode": {
    "name": "ipython",
    "version": 3
   },
   "file_extension": ".py",
   "mimetype": "text/x-python",
   "name": "python",
   "nbconvert_exporter": "python",
   "pygments_lexer": "ipython3",
   "version": "3.11.10"
  }
 },
 "nbformat": 4,
 "nbformat_minor": 5
}

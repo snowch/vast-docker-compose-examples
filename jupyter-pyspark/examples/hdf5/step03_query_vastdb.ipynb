{
 "cells": [
  {
   "cell_type": "markdown",
   "id": "82af41c3-21f5-4fbb-9fd5-fbdf863d72f5",
   "metadata": {},
   "source": [
    "# Query Vast DB"
   ]
  },
  {
   "cell_type": "markdown",
   "id": "f06384bb-d822-4616-83b9-1588f911d330",
   "metadata": {},
   "source": [
    "## Vast DB endpoint"
   ]
  },
  {
   "cell_type": "code",
   "execution_count": 1,
   "id": "5ec46c0e-94db-43ae-81d5-89b48c8e37e5",
   "metadata": {},
   "outputs": [],
   "source": [
    "import os\n",
    "\n",
    "VASTDB_ENDPOINT = os.getenv(\"VASTDB_ENDPOINT\")\n",
    "VASTDB_ACCESS_KEY = os.getenv(\"VASTDB_ACCESS_KEY\")\n",
    "VASTDB_SECRET_KEY = os.getenv(\"VASTDB_SECRET_KEY\")\n",
    "\n",
    "# Use NYT BUCKET (DB) for now\n",
    "VASTDB_NYT_BUCKET=os.getenv(\"VASTDB_NYT_BUCKET\")\n",
    "\n",
    "bucket_name = VASTDB_NYT_BUCKET\n",
    "schema_name = 'cosmology'\n",
    "table_name = 'particles'"
   ]
  },
  {
   "cell_type": "markdown",
   "id": "76b17538-bc55-4614-b873-e5910f55070d",
   "metadata": {},
   "source": [
    "## Python SDK Connection"
   ]
  },
  {
   "cell_type": "code",
   "execution_count": 2,
   "id": "3a0979ff-5b79-4ffa-ab06-01eb3c2a58c8",
   "metadata": {},
   "outputs": [],
   "source": [
    "# Source: https://vast-data.github.io/data-platform-field-docs/vast_database/ingestion/python_sdk_parquet_import.html\n",
    "\n",
    "import io\n",
    "import os\n",
    "import pyarrow as pa\n",
    "from pyarrow import csv as pa_csv\n",
    "import pyarrow.parquet as pq\n",
    "from io import StringIO\n",
    "import numpy as np\n",
    "import pandas as pd\n",
    "import vastdb\n",
    "from vastdb.config import QueryConfig\n",
    "\n",
    "def connect_to_vastdb(endpoint, access_key, secret_key):\n",
    "    \"\"\"Connects to VastDB.\"\"\"\n",
    "    try:\n",
    "        session = vastdb.connect(endpoint=endpoint, access=access_key, secret=secret_key)\n",
    "        print(\"Connected to VastDB\")\n",
    "        return session\n",
    "    except Exception as e:\n",
    "        raise RuntimeError(f\"Failed to connect to VastDB: {e}\") from e\n",
    "\n",
    "def query_vastdb(session, bucket_name, schema_name, table_name, limit=None):\n",
    "    \"\"\"Writes data to VastDB.\"\"\"\n",
    "    with session.transaction() as tx:\n",
    "        bucket = tx.bucket(bucket_name)\n",
    "        schema = bucket.schema(schema_name, fail_if_missing=False) or bucket.create_schema(schema_name)\n",
    "        table = schema.table(table_name, fail_if_missing=False) or schema.create_table(table_name, pa_table.schema)\n",
    "\n",
    "        if limit:\n",
    "            # See: https://vast-data.github.io/data-platform-field-docs/vast_database/sdk_ref/limit_n.html\n",
    "            config = QueryConfig(\n",
    "                num_splits=1,                \t  # Manually specify 1 split\n",
    "                num_sub_splits=1,                 # Each split will be divided into 1 subsplits\n",
    "                limit_rows_per_sub_split=limit,   # Each subsplit will process 10 rows at a time\n",
    "            )\n",
    "            batches = table.select(config=config)\n",
    "            first_batch = next(batches)\n",
    "            return first_batch.to_pandas()\n",
    "        else:\n",
    "            return table.select().read_all().to_pandas()"
   ]
  },
  {
   "cell_type": "code",
   "execution_count": 3,
   "id": "d4c59b7b-4573-4440-9010-5935e161e6f6",
   "metadata": {},
   "outputs": [
    {
     "name": "stdout",
     "output_type": "stream",
     "text": [
      "Connected to VastDB\n"
     ]
    }
   ],
   "source": [
    "session = connect_to_vastdb(VASTDB_ENDPOINT, VASTDB_ACCESS_KEY, VASTDB_SECRET_KEY)"
   ]
  },
  {
   "cell_type": "markdown",
   "id": "2e57434a-e61e-42b1-8e1f-18d6e9c97b26",
   "metadata": {},
   "source": [
    "## Inspect a few records"
   ]
  },
  {
   "cell_type": "code",
   "execution_count": 4,
   "id": "25a1d239-cfc4-4cf9-a774-823c644eaff7",
   "metadata": {
    "scrolled": true
   },
   "outputs": [
    {
     "name": "stdout",
     "output_type": "stream",
     "text": [
      "Query execution time: 0.08570432662963867 seconds\n"
     ]
    }
   ],
   "source": [
    "import time\n",
    "\n",
    "start_time = time.time()\n",
    "df = query_vastdb(session, bucket_name, schema_name, table_name, limit=5)\n",
    "end_time = time.time()\n",
    "\n",
    "print(f\"Query execution time: {end_time - start_time} seconds\")"
   ]
  },
  {
   "cell_type": "code",
   "execution_count": 5,
   "id": "05e29bd1-1f46-4c01-8b41-3221784a05dc",
   "metadata": {},
   "outputs": [
    {
     "data": {
      "text/html": [
       "<div>\n",
       "<style scoped>\n",
       "    .dataframe tbody tr th:only-of-type {\n",
       "        vertical-align: middle;\n",
       "    }\n",
       "\n",
       "    .dataframe tbody tr th {\n",
       "        vertical-align: top;\n",
       "    }\n",
       "\n",
       "    .dataframe thead th {\n",
       "        text-align: right;\n",
       "    }\n",
       "</style>\n",
       "<table border=\"1\" class=\"dataframe\">\n",
       "  <thead>\n",
       "    <tr style=\"text-align: right;\">\n",
       "      <th></th>\n",
       "      <th>Coordinates</th>\n",
       "      <th>Velocity</th>\n",
       "      <th>Mass</th>\n",
       "    </tr>\n",
       "  </thead>\n",
       "  <tbody>\n",
       "    <tr>\n",
       "      <th>0</th>\n",
       "      <td>[0.06941523640696762, 0.05991952653932303, 0.0...</td>\n",
       "      <td>[-89.80153, 146.60365, 17.358175]</td>\n",
       "      <td>0.000123</td>\n",
       "    </tr>\n",
       "    <tr>\n",
       "      <th>1</th>\n",
       "      <td>[0.016258423139909595, 0.13074506414506318, 0....</td>\n",
       "      <td>[-76.61928, 137.16403, 27.057497]</td>\n",
       "      <td>0.000123</td>\n",
       "    </tr>\n",
       "    <tr>\n",
       "      <th>2</th>\n",
       "      <td>[0.05543383231113987, 0.12075238123551599, 0.0...</td>\n",
       "      <td>[-71.89609, 142.62872, 25.440746]</td>\n",
       "      <td>0.000123</td>\n",
       "    </tr>\n",
       "    <tr>\n",
       "      <th>3</th>\n",
       "      <td>[0.09699105193528355, 0.1417782287453339, 0.05...</td>\n",
       "      <td>[-76.60565, 151.27818, 13.464693]</td>\n",
       "      <td>0.000123</td>\n",
       "    </tr>\n",
       "    <tr>\n",
       "      <th>4</th>\n",
       "      <td>[0.045465816091822514, 0.16487884582547954, 0....</td>\n",
       "      <td>[-64.08211, 141.82565, 43.24954]</td>\n",
       "      <td>0.000123</td>\n",
       "    </tr>\n",
       "  </tbody>\n",
       "</table>\n",
       "</div>"
      ],
      "text/plain": [
       "                                         Coordinates  \\\n",
       "0  [0.06941523640696762, 0.05991952653932303, 0.0...   \n",
       "1  [0.016258423139909595, 0.13074506414506318, 0....   \n",
       "2  [0.05543383231113987, 0.12075238123551599, 0.0...   \n",
       "3  [0.09699105193528355, 0.1417782287453339, 0.05...   \n",
       "4  [0.045465816091822514, 0.16487884582547954, 0....   \n",
       "\n",
       "                            Velocity      Mass  \n",
       "0  [-89.80153, 146.60365, 17.358175]  0.000123  \n",
       "1  [-76.61928, 137.16403, 27.057497]  0.000123  \n",
       "2  [-71.89609, 142.62872, 25.440746]  0.000123  \n",
       "3  [-76.60565, 151.27818, 13.464693]  0.000123  \n",
       "4   [-64.08211, 141.82565, 43.24954]  0.000123  "
      ]
     },
     "execution_count": 5,
     "metadata": {},
     "output_type": "execute_result"
    }
   ],
   "source": [
    "df"
   ]
  },
  {
   "cell_type": "markdown",
   "id": "f5a33e86-d219-4f7d-ad5f-057db03541ec",
   "metadata": {},
   "source": [
    "### Compute the Total Mass (PartType0)\n",
    "\n",
    "We have only loaded PartType0 into the DB"
   ]
  },
  {
   "cell_type": "code",
   "execution_count": 6,
   "id": "eba54a5f-3149-4b84-a2dc-0587e81b1253",
   "metadata": {},
   "outputs": [
    {
     "data": {
      "application/vnd.jupyter.widget-view+json": {
       "model_id": "8060cea228554cb082485e2b23fda2de",
       "version_major": 2,
       "version_minor": 0
      },
      "text/plain": [
       "FloatProgress(value=0.0, layout=Layout(width='auto'), style=ProgressStyle(bar_color='black'))"
      ]
     },
     "metadata": {},
     "output_type": "display_data"
    },
    {
     "name": "stdout",
     "output_type": "stream",
     "text": [
      "pyarrow.Table\n",
      "sum(Mass): double\n",
      "----\n",
      "sum(Mass): [[89401.89030224655]]\n",
      "Query execution time: 11.10551118850708 seconds\n"
     ]
    }
   ],
   "source": [
    "import time\n",
    "\n",
    "start_time = time.time()\n",
    "\n",
    "import duckdb\n",
    "conn = duckdb.connect()\n",
    "\n",
    "with session.transaction() as tx:\n",
    "    table = tx.bucket(bucket_name).schema(schema_name).table(table_name)\n",
    "    batches = table.select(columns=['Mass'])\n",
    "    print(conn.execute(\n",
    "    \"\"\"\n",
    "    SELECT SUM(Mass) FROM batches\n",
    "    \"\"\"\n",
    "    ).arrow())\n",
    "\n",
    "end_time = time.time()\n",
    "print(f\"Query execution time: {end_time - start_time} seconds\")"
   ]
  },
  {
   "cell_type": "markdown",
   "id": "9ef0276e-2cf6-4e88-a55a-79b3b2b224c1",
   "metadata": {},
   "source": [
    "### Average Velocity of Gas Particles (PartType0) - DuckDB"
   ]
  },
  {
   "cell_type": "code",
   "execution_count": 7,
   "id": "e8b040ef-e578-44de-bd60-f8085faae296",
   "metadata": {},
   "outputs": [
    {
     "data": {
      "application/vnd.jupyter.widget-view+json": {
       "model_id": "8392eaa550ce43b3bd3a3fccbaf76f04",
       "version_major": 2,
       "version_minor": 0
      },
      "text/plain": [
       "FloatProgress(value=0.0, layout=Layout(width='auto'), style=ProgressStyle(bar_color='black'))"
      ]
     },
     "metadata": {},
     "output_type": "display_data"
    },
    {
     "name": "stdout",
     "output_type": "stream",
     "text": [
      "pyarrow.Table\n",
      "AvgVelocity_X: double\n",
      "AvgVelocity_Y: double\n",
      "AvgVelocity_Z: double\n",
      "----\n",
      "AvgVelocity_X: [[12.279645131906921]]\n",
      "AvgVelocity_Y: [[9.441816902890864]]\n",
      "AvgVelocity_Z: [[123.35455341785374]]\n",
      "Query execution time: 86.42967963218689 seconds\n"
     ]
    }
   ],
   "source": [
    "import time\n",
    "start_time = time.time()\n",
    "\n",
    "import duckdb\n",
    "conn = duckdb.connect()\n",
    "\n",
    "with session.transaction() as tx:\n",
    "    table = tx.bucket(bucket_name).schema(schema_name).table(table_name)\n",
    "    batches = table.select(columns=['Velocity'])\n",
    "    print(conn.execute(\n",
    "    \"\"\"\n",
    "    SELECT \n",
    "       AVG(Velocity[1]) AS AvgVelocity_X,\n",
    "       AVG(Velocity[2]) AS AvgVelocity_Y,\n",
    "       AVG(Velocity[3]) AS AvgVelocity_Z\n",
    "    FROM batches\n",
    "    \"\"\"\n",
    "    ).arrow())\n",
    "\n",
    "end_time = time.time()\n",
    "print(f\"Query execution time: {end_time - start_time} seconds\")"
   ]
  },
  {
   "cell_type": "markdown",
   "id": "ac69fbaf-0c8c-4605-932c-5ddc7ba278be",
   "metadata": {},
   "source": [
    "### Average Velocity of Gas Particles (PartType0) - Python"
   ]
  },
  {
   "cell_type": "markdown",
   "id": "5f2fb74d-bfb4-41be-a5f6-1cccdfce2a6a",
   "metadata": {},
   "source": [
    "Options for accelerating:\n",
    "\n",
    "- Distributed processing, e.g. Spark, Trino, Dash\n",
    "- 5.3+ Vast DB Query Engine"
   ]
  },
  {
   "cell_type": "code",
   "execution_count": 8,
   "id": "1a62455c-2c9c-48b2-bff2-31cbc8a5dc8c",
   "metadata": {},
   "outputs": [
    {
     "name": "stdout",
     "output_type": "stream",
     "text": [
      "Batches processed: 5484. Average Velocities: X = 12.27965, Y = 9.44182, Z = 123.3545552\n",
      "Query execution time: 582.431357383728 seconds\n"
     ]
    }
   ],
   "source": [
    "import time\n",
    "start_time = time.time()\n",
    "\n",
    "import pyarrow as pa\n",
    "import numpy as np\n",
    "import sys\n",
    "import time\n",
    "\n",
    "total_count = 0  # Track total number of velocity values\n",
    "\n",
    "sum_velocities_x = 0\n",
    "sum_velocities_y = 0\n",
    "sum_velocities_z = 0\n",
    "\n",
    "avg_velocities_x = 0\n",
    "avg_velocities_y = 0\n",
    "avg_velocities_z = 0\n",
    "\n",
    "batch_count = 0   # Count processed batches\n",
    "\n",
    "with session.transaction() as tx:\n",
    "    table = tx.bucket(bucket_name).schema(schema_name).table(table_name)\n",
    "    batches = table.select(columns=['Velocity'])\n",
    "    \n",
    "    for batch in batches:\n",
    "        batch_count += 1\n",
    "        \n",
    "        # Extract velocity data from each batch\n",
    "        velocities = batch.column(\"Velocity\")\n",
    "        \n",
    "        # Convert to NumPy array\n",
    "        velocities = velocities.to_numpy(zero_copy_only=False)\n",
    "\n",
    "        velocities = np.stack(velocities) \n",
    "        \n",
    "        count = velocities.shape[0]\n",
    "        sum_velocities_x += np.sum(velocities[:, 0])  # Sum X components\n",
    "        sum_velocities_y += np.sum(velocities[:, 1])  # Sum Y components\n",
    "        sum_velocities_z += np.sum(velocities[:, 2])  # Sum Z components\n",
    "        total_count += count\n",
    "        \n",
    "        # Calculate final average velocities considering total count\n",
    "        avg_velocities_x = sum_velocities_x / total_count\n",
    "        avg_velocities_y = sum_velocities_y / total_count\n",
    "        avg_velocities_z = sum_velocities_z / total_count\n",
    "\n",
    "        sys.stdout.write(f\"\\rBatches processed: {batch_count}. \"\n",
    "                         f\"Average Velocities: \"\n",
    "                         f\"X = {avg_velocities_x:.5f}, \"\n",
    "                         f\"Y = {avg_velocities_y:.5f}, \"\n",
    "                         f\"Z = {avg_velocities_z:.5f}\"\n",
    "                        )\n",
    "        sys.stdout.flush()\n",
    "\n",
    "end_time = time.time()\n",
    "print(f\"\\nQuery execution time: {end_time - start_time} seconds\")"
   ]
  },
  {
   "cell_type": "markdown",
   "id": "f48438b3-2b00-4987-a5e8-7ace3cc18611",
   "metadata": {},
   "source": [
    "### Predicate push down example"
   ]
  },
  {
   "cell_type": "code",
   "execution_count": 9,
   "id": "9e1e547d-616c-49f6-b8ae-94c0a54f7d88",
   "metadata": {
    "scrolled": true
   },
   "outputs": [
    {
     "name": "stdout",
     "output_type": "stream",
     "text": [
      "Query execution time: 2.82857346534729 seconds\n"
     ]
    }
   ],
   "source": [
    "import time\n",
    "start_time = time.time()\n",
    "\n",
    "from ibis import _\n",
    "\n",
    "PREDICATE = (_.Mass > 0.001)\n",
    "COLUMNS = ['Coordinates', 'Velocity', 'Mass']\n",
    "\n",
    "with session.transaction() as tx:\n",
    "    table = tx.bucket(bucket_name).schema(schema_name).table(table_name)\n",
    "    batches = table.select(columns=COLUMNS, predicate=PREDICATE)\n",
    "    df = batches.read_all().to_pandas()\n",
    "\n",
    "end_time = time.time()\n",
    "print(f\"Query execution time: {end_time - start_time} seconds\")"
   ]
  },
  {
   "cell_type": "code",
   "execution_count": 10,
   "id": "97402a6c-b9a6-46fe-baf5-d586dbf6f3a0",
   "metadata": {},
   "outputs": [
    {
     "data": {
      "text/html": [
       "<div>\n",
       "<style scoped>\n",
       "    .dataframe tbody tr th:only-of-type {\n",
       "        vertical-align: middle;\n",
       "    }\n",
       "\n",
       "    .dataframe tbody tr th {\n",
       "        vertical-align: top;\n",
       "    }\n",
       "\n",
       "    .dataframe thead th {\n",
       "        text-align: right;\n",
       "    }\n",
       "</style>\n",
       "<table border=\"1\" class=\"dataframe\">\n",
       "  <thead>\n",
       "    <tr style=\"text-align: right;\">\n",
       "      <th></th>\n",
       "      <th>Coordinates</th>\n",
       "      <th>Velocity</th>\n",
       "      <th>Mass</th>\n",
       "    </tr>\n",
       "  </thead>\n",
       "  <tbody>\n",
       "    <tr>\n",
       "      <th>0</th>\n",
       "      <td>[0.5366043257165535, 2.9507586855666257, 0.060...</td>\n",
       "      <td>[-62.40552, 82.05905, 79.45422]</td>\n",
       "      <td>0.002860</td>\n",
       "    </tr>\n",
       "    <tr>\n",
       "      <th>1</th>\n",
       "      <td>[1.4083577130599776, 3.8619471494089255, 0.659...</td>\n",
       "      <td>[-52.00628, 111.871796, 72.877495]</td>\n",
       "      <td>0.001037</td>\n",
       "    </tr>\n",
       "    <tr>\n",
       "      <th>2</th>\n",
       "      <td>[1.896930915327498, 3.6891011985705258, 0.1617...</td>\n",
       "      <td>[40.638702, 177.69398, 125.804886]</td>\n",
       "      <td>0.042142</td>\n",
       "    </tr>\n",
       "    <tr>\n",
       "      <th>3</th>\n",
       "      <td>[4.174399015605908, 51.07290815200347, 31.7342...</td>\n",
       "      <td>[-41.858036, -98.15191, 315.02325]</td>\n",
       "      <td>0.001285</td>\n",
       "    </tr>\n",
       "    <tr>\n",
       "      <th>4</th>\n",
       "      <td>[3.949060406567913, 51.522647710560065, 31.236...</td>\n",
       "      <td>[41.77037, 40.92835, 526.1117]</td>\n",
       "      <td>0.002155</td>\n",
       "    </tr>\n",
       "    <tr>\n",
       "      <th>...</th>\n",
       "      <td>...</td>\n",
       "      <td>...</td>\n",
       "      <td>...</td>\n",
       "    </tr>\n",
       "    <tr>\n",
       "      <th>8036</th>\n",
       "      <td>[2.994530653978653, 51.043874127236656, 31.200...</td>\n",
       "      <td>[-167.65419, 15.782176, 420.5042]</td>\n",
       "      <td>0.001188</td>\n",
       "    </tr>\n",
       "    <tr>\n",
       "      <th>8037</th>\n",
       "      <td>[2.7969713901060724, 51.47328076505169, 31.570...</td>\n",
       "      <td>[-296.2971, 398.66193, -148.71107]</td>\n",
       "      <td>0.001089</td>\n",
       "    </tr>\n",
       "    <tr>\n",
       "      <th>8038</th>\n",
       "      <td>[2.7784863031871385, 51.13566860463838, 31.394...</td>\n",
       "      <td>[105.399414, -230.19371, 216.46248]</td>\n",
       "      <td>0.004032</td>\n",
       "    </tr>\n",
       "    <tr>\n",
       "      <th>8039</th>\n",
       "      <td>[2.7664752607531082, 51.18302120799442, 31.475...</td>\n",
       "      <td>[263.1287, -70.09283, -423.9448]</td>\n",
       "      <td>0.001118</td>\n",
       "    </tr>\n",
       "    <tr>\n",
       "      <th>8040</th>\n",
       "      <td>[2.964441632665409, 51.79818846173341, 31.7530...</td>\n",
       "      <td>[227.07173, 541.9755, 66.29685]</td>\n",
       "      <td>0.001776</td>\n",
       "    </tr>\n",
       "  </tbody>\n",
       "</table>\n",
       "<p>8041 rows × 3 columns</p>\n",
       "</div>"
      ],
      "text/plain": [
       "                                            Coordinates  \\\n",
       "0     [0.5366043257165535, 2.9507586855666257, 0.060...   \n",
       "1     [1.4083577130599776, 3.8619471494089255, 0.659...   \n",
       "2     [1.896930915327498, 3.6891011985705258, 0.1617...   \n",
       "3     [4.174399015605908, 51.07290815200347, 31.7342...   \n",
       "4     [3.949060406567913, 51.522647710560065, 31.236...   \n",
       "...                                                 ...   \n",
       "8036  [2.994530653978653, 51.043874127236656, 31.200...   \n",
       "8037  [2.7969713901060724, 51.47328076505169, 31.570...   \n",
       "8038  [2.7784863031871385, 51.13566860463838, 31.394...   \n",
       "8039  [2.7664752607531082, 51.18302120799442, 31.475...   \n",
       "8040  [2.964441632665409, 51.79818846173341, 31.7530...   \n",
       "\n",
       "                                 Velocity      Mass  \n",
       "0         [-62.40552, 82.05905, 79.45422]  0.002860  \n",
       "1      [-52.00628, 111.871796, 72.877495]  0.001037  \n",
       "2      [40.638702, 177.69398, 125.804886]  0.042142  \n",
       "3      [-41.858036, -98.15191, 315.02325]  0.001285  \n",
       "4          [41.77037, 40.92835, 526.1117]  0.002155  \n",
       "...                                   ...       ...  \n",
       "8036    [-167.65419, 15.782176, 420.5042]  0.001188  \n",
       "8037   [-296.2971, 398.66193, -148.71107]  0.001089  \n",
       "8038  [105.399414, -230.19371, 216.46248]  0.004032  \n",
       "8039     [263.1287, -70.09283, -423.9448]  0.001118  \n",
       "8040      [227.07173, 541.9755, 66.29685]  0.001776  \n",
       "\n",
       "[8041 rows x 3 columns]"
      ]
     },
     "execution_count": 10,
     "metadata": {},
     "output_type": "execute_result"
    }
   ],
   "source": [
    "df"
   ]
  },
  {
   "cell_type": "code",
   "execution_count": null,
   "id": "3dc09df6-9b38-4a3c-8fbd-92db9d930480",
   "metadata": {},
   "outputs": [],
   "source": []
  }
 ],
 "metadata": {
  "kernelspec": {
   "display_name": "Python 3 (ipykernel)",
   "language": "python",
   "name": "python3"
  },
  "language_info": {
   "codemirror_mode": {
    "name": "ipython",
    "version": 3
   },
   "file_extension": ".py",
   "mimetype": "text/x-python",
   "name": "python",
   "nbconvert_exporter": "python",
   "pygments_lexer": "ipython3",
   "version": "3.11.10"
  }
 },
 "nbformat": 4,
 "nbformat_minor": 5
}

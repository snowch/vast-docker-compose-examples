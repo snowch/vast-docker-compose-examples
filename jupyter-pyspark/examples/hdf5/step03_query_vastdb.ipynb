{
 "cells": [
  {
   "cell_type": "markdown",
   "id": "82af41c3-21f5-4fbb-9fd5-fbdf863d72f5",
   "metadata": {},
   "source": [
    "# Query Vast DB"
   ]
  },
  {
   "cell_type": "markdown",
   "id": "f06384bb-d822-4616-83b9-1588f911d330",
   "metadata": {},
   "source": [
    "## Vast DB endpoint"
   ]
  },
  {
   "cell_type": "code",
   "execution_count": 1,
   "id": "5ec46c0e-94db-43ae-81d5-89b48c8e37e5",
   "metadata": {},
   "outputs": [],
   "source": [
    "import os\n",
    "\n",
    "VASTDB_ENDPOINT = os.getenv(\"VASTDB_ENDPOINT\")\n",
    "VASTDB_ACCESS_KEY = os.getenv(\"VASTDB_ACCESS_KEY\")\n",
    "VASTDB_SECRET_KEY = os.getenv(\"VASTDB_SECRET_KEY\")\n",
    "\n",
    "# Use NYT BUCKET (DB) for now\n",
    "VASTDB_NYT_BUCKET=os.getenv(\"VASTDB_NYT_BUCKET\")\n",
    "\n",
    "bucket_name = VASTDB_NYT_BUCKET\n",
    "schema_name = 'cosmology'\n",
    "table_name = 'particles'"
   ]
  },
  {
   "cell_type": "markdown",
   "id": "76b17538-bc55-4614-b873-e5910f55070d",
   "metadata": {},
   "source": [
    "## Python SDK Connection"
   ]
  },
  {
   "cell_type": "code",
   "execution_count": 2,
   "id": "3a0979ff-5b79-4ffa-ab06-01eb3c2a58c8",
   "metadata": {},
   "outputs": [],
   "source": [
    "# Source: https://vast-data.github.io/data-platform-field-docs/vast_database/ingestion/python_sdk_parquet_import.html\n",
    "\n",
    "import io\n",
    "import os\n",
    "import pyarrow as pa\n",
    "from pyarrow import csv as pa_csv\n",
    "import pyarrow.parquet as pq\n",
    "from io import StringIO\n",
    "import numpy as np\n",
    "import pandas as pd\n",
    "import vastdb\n",
    "from vastdb.config import QueryConfig\n",
    "\n",
    "def connect_to_vastdb(endpoint, access_key, secret_key):\n",
    "    \"\"\"Connects to VastDB.\"\"\"\n",
    "    try:\n",
    "        session = vastdb.connect(endpoint=endpoint, access=access_key, secret=secret_key)\n",
    "        print(\"Connected to VastDB\")\n",
    "        return session\n",
    "    except Exception as e:\n",
    "        raise RuntimeError(f\"Failed to connect to VastDB: {e}\") from e\n",
    "\n",
    "def query_vastdb(session, bucket_name, schema_name, table_name, limit=None):\n",
    "    \"\"\"Writes data to VastDB.\"\"\"\n",
    "    with session.transaction() as tx:\n",
    "        bucket = tx.bucket(bucket_name)\n",
    "        schema = bucket.schema(schema_name, fail_if_missing=False) or bucket.create_schema(schema_name)\n",
    "        table = schema.table(table_name, fail_if_missing=False) or schema.create_table(table_name, pa_table.schema)\n",
    "\n",
    "        if limit:\n",
    "            # See: https://vast-data.github.io/data-platform-field-docs/vast_database/sdk_ref/limit_n.html\n",
    "            config = QueryConfig(\n",
    "                num_splits=1,                \t  # Manually specify 1 split\n",
    "                num_sub_splits=1,                 # Each split will be divided into 1 subsplits\n",
    "                limit_rows_per_sub_split=limit,   # Each subsplit will process 10 rows at a time\n",
    "            )\n",
    "            batches = table.select(config=config)\n",
    "            first_batch = next(batches)\n",
    "            return first_batch.to_pandas()\n",
    "        else:\n",
    "            return table.select().read_all().to_pandas()"
   ]
  },
  {
   "cell_type": "code",
   "execution_count": 3,
   "id": "d4c59b7b-4573-4440-9010-5935e161e6f6",
   "metadata": {},
   "outputs": [
    {
     "name": "stdout",
     "output_type": "stream",
     "text": [
      "Connected to VastDB\n"
     ]
    }
   ],
   "source": [
    "session = connect_to_vastdb(VASTDB_ENDPOINT, VASTDB_ACCESS_KEY, VASTDB_SECRET_KEY)"
   ]
  },
  {
   "cell_type": "markdown",
   "id": "f5a33e86-d219-4f7d-ad5f-057db03541ec",
   "metadata": {},
   "source": [
    "### Compute the Total Mass (PartType0)\n",
    "\n",
    "We have only loaded PartType0 into the DB"
   ]
  },
  {
   "cell_type": "code",
   "execution_count": 4,
   "id": "eba54a5f-3149-4b84-a2dc-0587e81b1253",
   "metadata": {},
   "outputs": [
    {
     "data": {
      "application/vnd.jupyter.widget-view+json": {
       "model_id": "c5b4a6f92ba846ec9a2d6a8236df87f0",
       "version_major": 2,
       "version_minor": 0
      },
      "text/plain": [
       "FloatProgress(value=0.0, layout=Layout(width='auto'), style=ProgressStyle(bar_color='black'))"
      ]
     },
     "metadata": {},
     "output_type": "display_data"
    },
    {
     "name": "stdout",
     "output_type": "stream",
     "text": [
      "pyarrow.Table\n",
      "sum(Mass): double\n",
      "----\n",
      "sum(Mass): [[89401.89030224655]]\n"
     ]
    }
   ],
   "source": [
    "import duckdb\n",
    "conn = duckdb.connect()\n",
    "\n",
    "with session.transaction() as tx:\n",
    "    table = tx.bucket(bucket_name).schema(schema_name).table(table_name)\n",
    "    batches = table.select(columns=['Mass'])\n",
    "    print(conn.execute(\n",
    "    \"\"\"\n",
    "    SELECT SUM(Mass) FROM batches\n",
    "    \"\"\"\n",
    "    ).arrow())\n"
   ]
  },
  {
   "cell_type": "markdown",
   "id": "9ef0276e-2cf6-4e88-a55a-79b3b2b224c1",
   "metadata": {},
   "source": [
    "### Average Velocity of Gas Particles (PartType0)"
   ]
  },
  {
   "cell_type": "code",
   "execution_count": 5,
   "id": "e8b040ef-e578-44de-bd60-f8085faae296",
   "metadata": {},
   "outputs": [
    {
     "data": {
      "application/vnd.jupyter.widget-view+json": {
       "model_id": "689ffc2366184eb59f155da9514f5f08",
       "version_major": 2,
       "version_minor": 0
      },
      "text/plain": [
       "FloatProgress(value=0.0, layout=Layout(width='auto'), style=ProgressStyle(bar_color='black'))"
      ]
     },
     "metadata": {},
     "output_type": "display_data"
    },
    {
     "name": "stdout",
     "output_type": "stream",
     "text": [
      "pyarrow.Table\n",
      "AvgVelocity_X: double\n",
      "AvgVelocity_Y: double\n",
      "AvgVelocity_Z: double\n",
      "----\n",
      "AvgVelocity_X: [[12.27964513190702]]\n",
      "AvgVelocity_Y: [[9.441816902891075]]\n",
      "AvgVelocity_Z: [[123.35455341785347]]\n"
     ]
    }
   ],
   "source": [
    "import duckdb\n",
    "conn = duckdb.connect()\n",
    "\n",
    "with session.transaction() as tx:\n",
    "    table = tx.bucket(bucket_name).schema(schema_name).table(table_name)\n",
    "    batches = table.select(columns=['Velocity'])\n",
    "    print(conn.execute(\n",
    "    \"\"\"\n",
    "    SELECT \n",
    "       AVG(Velocity[1]) AS AvgVelocity_X,\n",
    "       AVG(Velocity[2]) AS AvgVelocity_Y,\n",
    "       AVG(Velocity[3]) AS AvgVelocity_Z\n",
    "    FROM batches\n",
    "    \"\"\"\n",
    "    ).arrow())"
   ]
  },
  {
   "cell_type": "code",
   "execution_count": null,
   "id": "70fee02d-5eb8-4491-87a6-106a19fe394f",
   "metadata": {},
   "outputs": [],
   "source": []
  }
 ],
 "metadata": {
  "kernelspec": {
   "display_name": "Python 3 (ipykernel)",
   "language": "python",
   "name": "python3"
  },
  "language_info": {
   "codemirror_mode": {
    "name": "ipython",
    "version": 3
   },
   "file_extension": ".py",
   "mimetype": "text/x-python",
   "name": "python",
   "nbconvert_exporter": "python",
   "pygments_lexer": "ipython3",
   "version": "3.11.10"
  }
 },
 "nbformat": 4,
 "nbformat_minor": 5
}

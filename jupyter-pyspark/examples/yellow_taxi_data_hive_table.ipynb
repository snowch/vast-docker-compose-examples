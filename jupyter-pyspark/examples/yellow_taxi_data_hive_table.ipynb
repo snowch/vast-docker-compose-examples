{
 "cells": [
  {
   "cell_type": "markdown",
   "id": "10fed33d-be68-4c1b-a045-30f853f1e6a5",
   "metadata": {},
   "source": [
    "# Import Yellow Taxi Data - Part 2"
   ]
  },
  {
   "cell_type": "markdown",
   "id": "fb93c071-3c28-4c32-b782-2512f38eec58",
   "metadata": {},
   "source": [
    "Create a Hive external table using the S3 Parquet files.\n"
   ]
  },
  {
   "cell_type": "markdown",
   "id": "ddca27ea-d563-4aae-983d-2476c55c1880",
   "metadata": {},
   "source": [
    "## Create Hive Table"
   ]
  },
  {
   "cell_type": "code",
   "execution_count": 3,
   "id": "d3c30da6-abce-4090-80e7-452dbb55529e",
   "metadata": {},
   "outputs": [],
   "source": [
    "import urllib3\n",
    "\n",
    "urllib3.disable_warnings(urllib3.exceptions.InsecureRequestWarning)"
   ]
  },
  {
   "cell_type": "code",
   "execution_count": 5,
   "id": "564cac05-1d8d-42e1-9ceb-7cb462650ad9",
   "metadata": {},
   "outputs": [],
   "source": [
    "%load_ext sql"
   ]
  },
  {
   "cell_type": "code",
   "execution_count": 51,
   "id": "1ffa79a0-b720-4833-87ad-32458ecd038e",
   "metadata": {},
   "outputs": [],
   "source": [
    "%config SqlMagic.named_parameters = \"enabled\""
   ]
  },
  {
   "cell_type": "code",
   "execution_count": 52,
   "id": "4f29846f-d23d-429a-bab2-5ba51d58593b",
   "metadata": {},
   "outputs": [],
   "source": [
    "%sql trino://admin@${DOCKER_HOST_OR_IP}:8443/hive --connection_arguments '{\"http_scheme\":\"https\", \"verify\": false}'"
   ]
  },
  {
   "cell_type": "code",
   "execution_count": 53,
   "id": "6b157708-bfb7-4884-b439-fa4347fa11b3",
   "metadata": {},
   "outputs": [
    {
     "data": {
      "text/html": [
       "<span style=\"None\">Running query in &#x27;trino://admin@10.143.11.241:8443/hive&#x27;</span>"
      ],
      "text/plain": [
       "Running query in 'trino://admin@10.143.11.241:8443/hive'"
      ]
     },
     "metadata": {},
     "output_type": "display_data"
    },
    {
     "data": {
      "text/html": [
       "<table>\n",
       "    <thead>\n",
       "        <tr>\n",
       "            <th>Catalog</th>\n",
       "        </tr>\n",
       "    </thead>\n",
       "    <tbody>\n",
       "        <tr>\n",
       "            <td>hive</td>\n",
       "        </tr>\n",
       "        <tr>\n",
       "            <td>iceberg</td>\n",
       "        </tr>\n",
       "        <tr>\n",
       "            <td>system</td>\n",
       "        </tr>\n",
       "        <tr>\n",
       "            <td>tpcds</td>\n",
       "        </tr>\n",
       "        <tr>\n",
       "            <td>vast</td>\n",
       "        </tr>\n",
       "    </tbody>\n",
       "</table>"
      ],
      "text/plain": [
       "+---------+\n",
       "| Catalog |\n",
       "+---------+\n",
       "|   hive  |\n",
       "| iceberg |\n",
       "|  system |\n",
       "|  tpcds  |\n",
       "|   vast  |\n",
       "+---------+"
      ]
     },
     "execution_count": 53,
     "metadata": {},
     "output_type": "execute_result"
    }
   ],
   "source": [
    "%%sql \n",
    "\n",
    "show catalogs"
   ]
  },
  {
   "cell_type": "code",
   "execution_count": 54,
   "id": "41c3eadc-978d-4952-a3cf-f8e326b71fa9",
   "metadata": {},
   "outputs": [],
   "source": [
    "import os\n",
    "S3A_BUCKET = os.getenv('S3A_BUCKET')"
   ]
  },
  {
   "cell_type": "code",
   "execution_count": 55,
   "id": "0a3bc5d7-16c1-498f-bc01-48f2c6ccab5f",
   "metadata": {},
   "outputs": [
    {
     "name": "stdout",
     "output_type": "stream",
     "text": [
      "csnow-bucket\n"
     ]
    }
   ],
   "source": [
    "! echo {S3A_BUCKET}"
   ]
  },
  {
   "cell_type": "code",
   "execution_count": 56,
   "id": "2078acbc-4398-4d47-a020-c70687efd1a2",
   "metadata": {},
   "outputs": [
    {
     "data": {
      "text/html": [
       "<span style=\"None\">Running query in &#x27;trino://admin@10.143.11.241:8443/hive&#x27;</span>"
      ],
      "text/plain": [
       "Running query in 'trino://admin@10.143.11.241:8443/hive'"
      ]
     },
     "metadata": {},
     "output_type": "display_data"
    },
    {
     "data": {
      "text/html": [
       "<table>\n",
       "    <thead>\n",
       "        <tr>\n",
       "        </tr>\n",
       "    </thead>\n",
       "    <tbody>\n",
       "    </tbody>\n",
       "</table>"
      ],
      "text/plain": [
       "++\n",
       "||\n",
       "++\n",
       "++"
      ]
     },
     "execution_count": 56,
     "metadata": {},
     "output_type": "execute_result"
    }
   ],
   "source": [
    "%%sql\n",
    "\n",
    "CREATE SCHEMA IF NOT EXISTS hive.nyt"
   ]
  },
  {
   "cell_type": "code",
   "execution_count": 57,
   "id": "70c169e9-1028-4d96-836c-601fc4440167",
   "metadata": {},
   "outputs": [
    {
     "data": {
      "text/html": [
       "<span style=\"None\">Running query in &#x27;trino://admin@10.143.11.241:8443/hive&#x27;</span>"
      ],
      "text/plain": [
       "Running query in 'trino://admin@10.143.11.241:8443/hive'"
      ]
     },
     "metadata": {},
     "output_type": "display_data"
    },
    {
     "data": {
      "text/html": [
       "<table>\n",
       "    <thead>\n",
       "        <tr>\n",
       "            <th>Schema</th>\n",
       "        </tr>\n",
       "    </thead>\n",
       "    <tbody>\n",
       "        <tr>\n",
       "            <td>default</td>\n",
       "        </tr>\n",
       "        <tr>\n",
       "            <td>information_schema</td>\n",
       "        </tr>\n",
       "        <tr>\n",
       "            <td>nyt</td>\n",
       "        </tr>\n",
       "        <tr>\n",
       "            <td>social_media</td>\n",
       "        </tr>\n",
       "    </tbody>\n",
       "</table>"
      ],
      "text/plain": [
       "+--------------------+\n",
       "|       Schema       |\n",
       "+--------------------+\n",
       "|      default       |\n",
       "| information_schema |\n",
       "|        nyt         |\n",
       "|    social_media    |\n",
       "+--------------------+"
      ]
     },
     "execution_count": 57,
     "metadata": {},
     "output_type": "execute_result"
    }
   ],
   "source": [
    "%%sql\n",
    "\n",
    "SHOW SCHEMAS"
   ]
  },
  {
   "cell_type": "code",
   "execution_count": 62,
   "id": "63a191bd-89ab-427f-a182-8cdef204a0ad",
   "metadata": {},
   "outputs": [
    {
     "data": {
      "text/html": [
       "<span style=\"None\">Running query in &#x27;trino://admin@10.143.11.241:8443/hive&#x27;</span>"
      ],
      "text/plain": [
       "Running query in 'trino://admin@10.143.11.241:8443/hive'"
      ]
     },
     "metadata": {},
     "output_type": "display_data"
    },
    {
     "data": {
      "text/html": [
       "<table>\n",
       "    <thead>\n",
       "        <tr>\n",
       "        </tr>\n",
       "    </thead>\n",
       "    <tbody>\n",
       "    </tbody>\n",
       "</table>"
      ],
      "text/plain": [
       "++\n",
       "||\n",
       "++\n",
       "++"
      ]
     },
     "execution_count": 62,
     "metadata": {},
     "output_type": "execute_result"
    }
   ],
   "source": [
    "%%sql\n",
    "\n",
    "DROP TABLE IF EXISTS nyt.yellow_trip_data"
   ]
  },
  {
   "cell_type": "code",
   "execution_count": 63,
   "id": "b41d23d9-f70e-4e41-bc0c-6ed81acfd88c",
   "metadata": {},
   "outputs": [
    {
     "data": {
      "text/html": [
       "<span style=\"None\">Running query in &#x27;trino://admin@10.143.11.241:8443/hive&#x27;</span>"
      ],
      "text/plain": [
       "Running query in 'trino://admin@10.143.11.241:8443/hive'"
      ]
     },
     "metadata": {},
     "output_type": "display_data"
    },
    {
     "data": {
      "text/html": [
       "<table>\n",
       "    <thead>\n",
       "        <tr>\n",
       "        </tr>\n",
       "    </thead>\n",
       "    <tbody>\n",
       "    </tbody>\n",
       "</table>"
      ],
      "text/plain": [
       "++\n",
       "||\n",
       "++\n",
       "++"
      ]
     },
     "execution_count": 63,
     "metadata": {},
     "output_type": "execute_result"
    }
   ],
   "source": [
    "%%sql\n",
    "\n",
    "CREATE TABLE nyt.yellow_trip_data (\n",
    "  VendorID INT,\n",
    "  tpep_pickup_datetime TIMESTAMP,\n",
    "  tpep_dropoff_datetime TIMESTAMP,\n",
    "  passenger_count DOUBLE,\n",
    "  trip_distance DOUBLE,\n",
    "  RatecodeID DOUBLE,\n",
    "  store_and_fwd_flag VARCHAR,\n",
    "  PULocationID INT,\n",
    "  DOLocationID INT,\n",
    "  payment_type INT,\n",
    "  fare_amount DOUBLE,\n",
    "  extra DOUBLE,\n",
    "  mta_tax DOUBLE,\n",
    "  tip_amount DOUBLE,\n",
    "  tolls_amount DOUBLE,\n",
    "  improvement_surcharge DOUBLE,\n",
    "  total_amount DOUBLE,\n",
    "  congestion_surcharge DOUBLE,  \n",
    "  airport_fee DOUBLE\n",
    ")\n",
    "WITH (\n",
    "  format = 'PARQUET',\n",
    "  external_location = 's3a://{{S3A_BUCKET}}/yellow_tripdata/'\n",
    ")"
   ]
  },
  {
   "cell_type": "code",
   "execution_count": 65,
   "id": "a19ed7ba-f11f-429e-94bc-20eb8ad5efff",
   "metadata": {},
   "outputs": [
    {
     "data": {
      "text/html": [
       "<span style=\"None\">Running query in &#x27;trino://admin@10.143.11.241:8443/hive&#x27;</span>"
      ],
      "text/plain": [
       "Running query in 'trino://admin@10.143.11.241:8443/hive'"
      ]
     },
     "metadata": {},
     "output_type": "display_data"
    },
    {
     "data": {
      "text/html": [
       "<table>\n",
       "    <thead>\n",
       "        <tr>\n",
       "            <th>row_count</th>\n",
       "        </tr>\n",
       "    </thead>\n",
       "    <tbody>\n",
       "        <tr>\n",
       "            <td>252202964</td>\n",
       "        </tr>\n",
       "    </tbody>\n",
       "</table>"
      ],
      "text/plain": [
       "+-----------+\n",
       "| row_count |\n",
       "+-----------+\n",
       "| 252202964 |\n",
       "+-----------+"
      ]
     },
     "execution_count": 65,
     "metadata": {},
     "output_type": "execute_result"
    }
   ],
   "source": [
    "%%sql\n",
    "    \n",
    "SELECT COUNT(*) as row_count FROM nyt.yellow_trip_data"
   ]
  },
  {
   "cell_type": "code",
   "execution_count": null,
   "id": "c4f039f2-fe90-4b90-9f65-0bd8489e621c",
   "metadata": {},
   "outputs": [],
   "source": []
  }
 ],
 "metadata": {
  "kernelspec": {
   "display_name": "Python 3 (ipykernel)",
   "language": "python",
   "name": "python3"
  },
  "language_info": {
   "codemirror_mode": {
    "name": "ipython",
    "version": 3
   },
   "file_extension": ".py",
   "mimetype": "text/x-python",
   "name": "python",
   "nbconvert_exporter": "python",
   "pygments_lexer": "ipython3",
   "version": "3.12.7"
  }
 },
 "nbformat": 4,
 "nbformat_minor": 5
}

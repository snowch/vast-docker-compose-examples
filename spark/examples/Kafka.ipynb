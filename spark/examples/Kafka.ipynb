{
 "cells": [
  {
   "cell_type": "code",
   "execution_count": 1,
   "id": "5d2d7598-0b65-4bb6-b8c9-3644a0825818",
   "metadata": {},
   "outputs": [],
   "source": [
    "kafka_brokers = 'vastdb-ingest:9093'\n",
    "topic = 'streaming-demo'"
   ]
  },
  {
   "cell_type": "code",
   "execution_count": 2,
   "id": "1ccaef03-ff17-4fa9-ab14-297c7abf3fdd",
   "metadata": {},
   "outputs": [],
   "source": [
    "from pyspark.sql import SparkSession\n",
    "from pyspark.conf import SparkConf\n",
    "from pyspark.sql.functions import col, lit, to_timestamp\n",
    "\n",
    "conf = SparkConf()\n",
    "conf.setAll([\n",
    "    (\"spark.jars.packages\", \"org.apache.spark:spark-sql-kafka-0-10_2.13:3.4.3,\"\n",
    "                            \"org.apache.logging.log4j:log4j-slf4j2-impl:2.19.0,\"\n",
    "                            \"org.apache.logging.log4j:log4j-api:2.19.0,\"\n",
    "                            \"org.apache.logging.log4j:log4j-core:2.19.0\"),\n",
    "    (\"spark.jars.excludes\", \"org.slf4j:slf4j-api,org.slf4j:slf4j-log4j12\"), \n",
    "    (\"spark.driver.userClassPathFirst\", \"true\"),\n",
    "    (\"spark.executor.userClassPathFirst\", \"true\")\n",
    "])\n",
    "\n",
    "spark = SparkSession.builder \\\n",
    "    .master(\"local\") \\\n",
    "    .appName(\"TweetGenerator\") \\\n",
    "    .config(conf=conf) \\\n",
    "    .getOrCreate()"
   ]
  },
  {
   "cell_type": "code",
   "execution_count": 3,
   "id": "7385eee4-6b08-4be0-b6de-d95b64dac1d7",
   "metadata": {},
   "outputs": [],
   "source": [
    "from random import randint, choice\n",
    "import json\n",
    "import time\n",
    "import uuid\n",
    "\n",
    "# Define lists of words, phrases, and hashtags\n",
    "words = [\"awesome\", \"fantastic\", \"amazing\", \"incredible\", \"great\", \"wonderful\", \"lovely\", \"beautiful\", \"happy\", \"fun\"]\n",
    "phrases = [\"can't believe\", \"so excited about\", \"just discovered\", \"finally got\", \"totally in love with\"]\n",
    "hashtags = [\"SPARK\", \"SPARK ML\", \"SPARK STREAMING\"]\n",
    "\n",
    "# Function to generate a random date in the past year\n",
    "def random_date():\n",
    "  base_date = int(round(time.time() * 1000)) - (365 * 24 * 60 * 60 * 1000)\n",
    "  offset = randint(0, 365 * 24 * 60 * 60 * 1000)\n",
    "  timestamp_in_millis = int(base_date + offset)\n",
    "  # Convert milliseconds to seconds and format as string\n",
    "  return time.strftime(\"%Y-%m-%d %H:%M:%S Z\", time.gmtime(timestamp_in_millis / 1000))\n",
    "\n",
    "# Function to generate a random tweet\n",
    "def generate_tweet():\n",
    "  tweet = {}\n",
    "  tweet[\"text\"] = f\"{choice(phrases)} how {choice(words)} {choice(hashtags)} is!\"\n",
    "  tweet[\"created_at\"] = str(to_timestamp(random_date(), \"EEE MMM dd HH:mm:ss Z yyyy\"))\n",
    "  tweet[\"id\"] = randint(1, 9223372036854775807)  # Random long value for tweet id\n",
    "  tweet[\"id_str\"] = str(tweet[\"id\"])\n",
    "  return tweet\n",
    "\n",
    "# Generate 11 tweets\n",
    "tweets = [\n",
    "    {\"key\": tweet[\"id_str\"], \"value\": json.dumps(tweet)}\n",
    "    for tweet in [generate_tweet() for _ in range(11)]\n",
    "]"
   ]
  },
  {
   "cell_type": "code",
   "execution_count": 4,
   "id": "d104b6d8-5dc6-41f0-96cd-5ef27bef3db7",
   "metadata": {},
   "outputs": [
    {
     "name": "stdout",
     "output_type": "stream",
     "text": [
      "root\n",
      " |-- key: string (nullable = true)\n",
      " |-- value: string (nullable = true)\n",
      "\n"
     ]
    }
   ],
   "source": [
    "# Create DataFrame from tweets\n",
    "df = spark.createDataFrame(tweets)\n",
    "\n",
    "df.printSchema()"
   ]
  },
  {
   "cell_type": "code",
   "execution_count": 5,
   "id": "216bca00-cdc0-4f0c-83cc-1ac9f43cc725",
   "metadata": {},
   "outputs": [
    {
     "name": "stdout",
     "output_type": "stream",
     "text": [
      "+-------------------+--------------------+\n",
      "|                key|               value|\n",
      "+-------------------+--------------------+\n",
      "|4292053126331771219|{\"text\": \"just di...|\n",
      "|2555723666789404836|{\"text\": \"so exci...|\n",
      "|8675334356151675105|{\"text\": \"finally...|\n",
      "|1564043520580363040|{\"text\": \"so exci...|\n",
      "|6282775659133243706|{\"text\": \"can't b...|\n",
      "|3796718732763794232|{\"text\": \"so exci...|\n",
      "|2611660519021234635|{\"text\": \"finally...|\n",
      "| 513802857198179829|{\"text\": \"totally...|\n",
      "|2386229353206424825|{\"text\": \"can't b...|\n",
      "|7348020505670878482|{\"text\": \"just di...|\n",
      "|4463373452635096452|{\"text\": \"just di...|\n",
      "+-------------------+--------------------+\n",
      "\n"
     ]
    }
   ],
   "source": [
    "df.show()"
   ]
  },
  {
   "cell_type": "code",
   "execution_count": 6,
   "id": "66962b65-6eab-4fb1-8d3c-1476d11ab075",
   "metadata": {},
   "outputs": [],
   "source": [
    "# Write DataFrame as JSON to Kafka topic\n",
    "df.write \\\n",
    "  .format(\"kafka\") \\\n",
    "  .option(\"kafka.bootstrap.servers\", kafka_brokers) \\\n",
    "  .option(\"topic\", topic) \\\n",
    "  .mode(\"append\") \\\n",
    "  .save()\n",
    "\n",
    "# Stop SparkSession\n",
    "spark.stop()"
   ]
  },
  {
   "cell_type": "code",
   "execution_count": null,
   "id": "86eee8df-74fd-47e8-800d-b8ec958c226c",
   "metadata": {},
   "outputs": [],
   "source": []
  },
  {
   "cell_type": "code",
   "execution_count": null,
   "id": "d4438411-5501-40ad-b22a-93f22ef55634",
   "metadata": {},
   "outputs": [],
   "source": []
  }
 ],
 "metadata": {
  "kernelspec": {
   "display_name": "Python 3 (ipykernel)",
   "language": "python",
   "name": "python3"
  },
  "language_info": {
   "codemirror_mode": {
    "name": "ipython",
    "version": 3
   },
   "file_extension": ".py",
   "mimetype": "text/x-python",
   "name": "python",
   "nbconvert_exporter": "python",
   "pygments_lexer": "ipython3",
   "version": "3.12.7"
  }
 },
 "nbformat": 4,
 "nbformat_minor": 5
}

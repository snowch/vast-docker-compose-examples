{
 "cells": [
  {
   "cell_type": "code",
   "execution_count": 1,
   "id": "5d2d7598-0b65-4bb6-b8c9-3644a0825818",
   "metadata": {},
   "outputs": [],
   "source": [
    "BUCKET_NAME = 'vastdb'\n",
    "DATABASE_NAME = 'demo_twitter_import'\n",
    "ENDPOINT = '172.200.201.9'\n",
    "ACCESS_KEY = '7XB5EJWVTRPELZHRE0D0'\n",
    "SECRET_KEY = 'fBnyOdfw3bAjmUzcp2smbDbOm950qc4KxG/jJg1i'"
   ]
  },
  {
   "cell_type": "code",
   "execution_count": 3,
   "id": "6596d81a-04e2-4007-9777-bf406c6ea190",
   "metadata": {},
   "outputs": [],
   "source": [
    "APPLICATION_NAME='Spark Demo'\n",
    "DATABASE_SCHEMA='demo_twitter_import'"
   ]
  },
  {
   "cell_type": "code",
   "execution_count": null,
   "id": "7385eee4-6b08-4be0-b6de-d95b64dac1d7",
   "metadata": {},
   "outputs": [],
   "source": [
    "import socket\n",
    "import os\n",
    "import pyspark\n",
    "from pyspark.conf import SparkConf\n",
    "from pyspark.sql import SparkSession\n",
    "\n",
    "conf = SparkConf()\n",
    "conf.setAll([\n",
    "    (\"spark.driver.host\", socket.gethostbyname(socket.gethostname())),\n",
    "    (\"spark.ndb.endpoint\", ENDPOINT),\n",
    "    (\"spark.ndb.data_endpoints\", ENDPOINT),\n",
    "    (\"spark.ndb.access_key_id\", ACCESS_KEY),\n",
    "    (\"spark.ndb.secret_access_key\", SECRET_KEY),\n",
    "    (\"spark.driver.extraClassPath\", '/usr/local/spark/jars/spark3-vast-3.4.1-f93839bfa38a/*'),\n",
    "    (\"spark.executor.extraClassPath\", '/usr/local/spark/jars/spark3-vast-3.4.1-f93839bfa38a/*'),\n",
    "    (\"spark.jars.packages\", \"com.amazonaws:aws-java-sdk:1.12.742,org.apache.hadoop:hadoop-aws:3.3.4,org.apache.hadoop:hadoop-client:3.3.4\"),\n",
    "    (\"fs.s3a.impl\", \"org.apache.hadoop.fs.s3a.S3AFileSystem\"),\n",
    "    (\"fs.s3a.access.key\", ACCESS_KEY),\n",
    "    (\"fs.s3a.secret.key\", SECRET_KEY),\n",
    "    (\"fs.s3a.endpoint\", ENDPOINT),\n",
    "    (\"spark.sql.catalog.ndb\", 'spark.sql.catalog.ndb.VastCatalog'),\n",
    "    (\"spark.sql.extensions\", 'ndb.NDBSparkSessionExtension')\n",
    "])\n",
    "\n",
    "spark = SparkSession.builder \\\n",
    "    .master(\"local\") \\\n",
    "    .appName(APPLICATION_NAME) \\\n",
    "    .config(conf=conf) \\\n",
    "    .getOrCreate()\n",
    "\n",
    "sc = spark.sparkContext\n",
    "sc.setLogLevel(\"ERROR\")\n",
    "\n",
    "print(\"Spark successfully loaded\")"
   ]
  },
  {
   "cell_type": "code",
   "execution_count": null,
   "id": "5d383066-7f4b-4c7a-a88a-0da64a532f23",
   "metadata": {},
   "outputs": [],
   "source": []
  }
 ],
 "metadata": {
  "kernelspec": {
   "display_name": "Python 3 (ipykernel)",
   "language": "python",
   "name": "python3"
  },
  "language_info": {
   "codemirror_mode": {
    "name": "ipython",
    "version": 3
   },
   "file_extension": ".py",
   "mimetype": "text/x-python",
   "name": "python",
   "nbconvert_exporter": "python",
   "pygments_lexer": "ipython3",
   "version": "3.12.7"
  }
 },
 "nbformat": 4,
 "nbformat_minor": 5
}
